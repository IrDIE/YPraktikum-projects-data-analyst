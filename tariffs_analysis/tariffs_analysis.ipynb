{
 "cells": [
  {
   "cell_type": "markdown",
   "metadata": {},
   "source": [
    "# Проект по тарифам для телеком-компании\n",
    "\n",
    "# Описание проекта\n",
    "\n",
    "Компания «Мегалайн» — федеральный оператор сотовой связи. \n",
    "Клиентам предлагают два тарифных плана: «Смарт» и «Ультра». Чтобы скорректировать рекламный бюджет, коммерческий департамент хочет понять, какой тариф приносит больше денег.\n",
    "\n",
    "\n",
    "Нам предстоит сделать предварительный анализ тарифов на небольшой выборке клиентов. Имеем данные 500 пользователей «Мегалайна»: кто они, откуда, каким тарифом пользуются, сколько звонков и сообщений каждый отправил за 2018 год.\n",
    "\n",
    "Нужно проанализировать поведение клиентов и сделать вывод — какой тариф лучше.\n",
    "\n",
    "\n",
    "Описание тарифов\n",
    "\n",
    "**Тариф «Смарт»**\n",
    "\n",
    "Ежемесячная плата: 550 рублей\n",
    "\n",
    "Включено 500 минут разговора, 50 сообщений и 15 Гб интернет-трафика\n",
    "\n",
    "Стоимость услуг сверх тарифного пакета:\n",
    "\n",
    "минута разговора: 3 рубля\n",
    "\n",
    "сообщение: 3 рубля\n",
    "\n",
    "1 Гб интернет-трафика: 200 рублей\n",
    "\n",
    "\n",
    "**Тариф «Ультра»**\n",
    "\n",
    "Ежемесячная плата: 1950 рублей\n",
    "\n",
    "Включено 3000 минут разговора, 1000 сообщений и 30 Гб интернет-трафика\n",
    "\n",
    "Стоимость услуг сверх тарифного пакета:\n",
    "\n",
    "минута разговора: 1 рубль\n",
    "\n",
    "сообщение: 1 рубль\n",
    "\n",
    "1 Гб интернет-трафика: 150 рублей\n",
    "\n",
    "\n"
   ]
  },
  {
   "cell_type": "markdown",
   "metadata": {},
   "source": [
    "\n",
    "**ПЛАН**\n",
    "\n",
    "1. Открыть данные, посмотреть что в них. Исправить выбросы / пропуски / типы\n",
    "2. Посчитаем для каждого пользователя нужные параметры : \n",
    "* количество сделанных звонков и израсходованных минут разговора по месяцам;\n",
    "* количество отправленных сообщений по месяцам;\n",
    "* объем израсходованного интернет-трафика по месяцам;\n",
    "* помесячную выручку с каждого пользователя\n",
    "\n",
    "\n",
    "3. Разделим данные клиентов по тарифам, посчитаем нужные значения (дисперсия, станд отклонение и среднее)\n",
    "\n",
    "4. Обозначим гипотезы и для каждой формулируем нулевую и альтернативную. Определимся с критерием проверки\n",
    "5. Проверим гипотезы и сформулиируем общий вывод\n",
    "\n",
    "\n"
   ]
  },
  {
   "cell_type": "code",
   "execution_count": 1,
   "metadata": {},
   "outputs": [],
   "source": [
    "import pandas as pd\n",
    "import seaborn as sns\n",
    "from matplotlib import pyplot as plt\n",
    "from datetime import date\n",
    "import math\n",
    "import numpy as np\n",
    "from scipy import stats"
   ]
  },
  {
   "cell_type": "code",
   "execution_count": 2,
   "metadata": {},
   "outputs": [],
   "source": [
    "calls = pd.read_csv('calls.csv')\n",
    "internet = pd.read_csv('internet.csv')\n",
    "messages = pd.read_csv('messages.csv')\n",
    "tariffs = pd.read_csv('tariffs.csv')\n",
    "users = pd.read_csv('users.csv')"
   ]
  },
  {
   "cell_type": "markdown",
   "metadata": {},
   "source": [
    "## Посмотрим на данные"
   ]
  },
  {
   "cell_type": "markdown",
   "metadata": {},
   "source": [
    "### Таблица calls"
   ]
  },
  {
   "cell_type": "code",
   "execution_count": 3,
   "metadata": {},
   "outputs": [
    {
     "name": "stdout",
     "output_type": "stream",
     "text": [
      "<class 'pandas.core.frame.DataFrame'>\n",
      "RangeIndex: 202607 entries, 0 to 202606\n",
      "Data columns (total 4 columns):\n",
      " #   Column     Non-Null Count   Dtype  \n",
      "---  ------     --------------   -----  \n",
      " 0   id         202607 non-null  object \n",
      " 1   call_date  202607 non-null  object \n",
      " 2   duration   202607 non-null  float64\n",
      " 3   user_id    202607 non-null  int64  \n",
      "dtypes: float64(1), int64(1), object(2)\n",
      "memory usage: 6.2+ MB\n"
     ]
    }
   ],
   "source": [
    "# просмотрим каждую таблицу отдельно \n",
    "calls.info()\n",
    "# переделаем дату из object в datetime64, пропусков нет"
   ]
  },
  {
   "cell_type": "code",
   "execution_count": 4,
   "metadata": {},
   "outputs": [],
   "source": [
    "calls.call_date = pd.to_datetime(calls.call_date)"
   ]
  },
  {
   "cell_type": "code",
   "execution_count": 5,
   "metadata": {},
   "outputs": [
    {
     "data": {
      "text/plain": [
       "0"
      ]
     },
     "execution_count": 5,
     "metadata": {},
     "output_type": "execute_result"
    }
   ],
   "source": [
    "calls.duplicated().sum()\n",
    "# нет дубликатов"
   ]
  },
  {
   "cell_type": "markdown",
   "metadata": {},
   "source": [
    "### Таблица internet (информация об интернет-сессиях):\n",
    "\n",
    "* id — уникальный номер сессии\n",
    "* mb_used — объём потраченного за сессию интернет-трафика (в мегабайтах)\n",
    "* session_date — дата интернет-сессии\n",
    "* user_id — идентификатор пользователя\n",
    "\n",
    "Видим колонку Unnamed: 0, дропнем её"
   ]
  },
  {
   "cell_type": "code",
   "execution_count": 6,
   "metadata": {},
   "outputs": [
    {
     "data": {
      "text/html": [
       "<div>\n",
       "<style scoped>\n",
       "    .dataframe tbody tr th:only-of-type {\n",
       "        vertical-align: middle;\n",
       "    }\n",
       "\n",
       "    .dataframe tbody tr th {\n",
       "        vertical-align: top;\n",
       "    }\n",
       "\n",
       "    .dataframe thead th {\n",
       "        text-align: right;\n",
       "    }\n",
       "</style>\n",
       "<table border=\"1\" class=\"dataframe\">\n",
       "  <thead>\n",
       "    <tr style=\"text-align: right;\">\n",
       "      <th></th>\n",
       "      <th>Unnamed: 0</th>\n",
       "      <th>id</th>\n",
       "      <th>mb_used</th>\n",
       "      <th>session_date</th>\n",
       "      <th>user_id</th>\n",
       "    </tr>\n",
       "  </thead>\n",
       "  <tbody>\n",
       "    <tr>\n",
       "      <th>0</th>\n",
       "      <td>0</td>\n",
       "      <td>1000_0</td>\n",
       "      <td>112.95</td>\n",
       "      <td>2018-11-25</td>\n",
       "      <td>1000</td>\n",
       "    </tr>\n",
       "    <tr>\n",
       "      <th>1</th>\n",
       "      <td>1</td>\n",
       "      <td>1000_1</td>\n",
       "      <td>1052.81</td>\n",
       "      <td>2018-09-07</td>\n",
       "      <td>1000</td>\n",
       "    </tr>\n",
       "    <tr>\n",
       "      <th>2</th>\n",
       "      <td>2</td>\n",
       "      <td>1000_2</td>\n",
       "      <td>1197.26</td>\n",
       "      <td>2018-06-25</td>\n",
       "      <td>1000</td>\n",
       "    </tr>\n",
       "  </tbody>\n",
       "</table>\n",
       "</div>"
      ],
      "text/plain": [
       "   Unnamed: 0      id  mb_used session_date  user_id\n",
       "0           0  1000_0   112.95   2018-11-25     1000\n",
       "1           1  1000_1  1052.81   2018-09-07     1000\n",
       "2           2  1000_2  1197.26   2018-06-25     1000"
      ]
     },
     "execution_count": 6,
     "metadata": {},
     "output_type": "execute_result"
    }
   ],
   "source": [
    "internet.head(3)"
   ]
  },
  {
   "cell_type": "code",
   "execution_count": 7,
   "metadata": {},
   "outputs": [
    {
     "data": {
      "text/html": [
       "<div>\n",
       "<style scoped>\n",
       "    .dataframe tbody tr th:only-of-type {\n",
       "        vertical-align: middle;\n",
       "    }\n",
       "\n",
       "    .dataframe tbody tr th {\n",
       "        vertical-align: top;\n",
       "    }\n",
       "\n",
       "    .dataframe thead th {\n",
       "        text-align: right;\n",
       "    }\n",
       "</style>\n",
       "<table border=\"1\" class=\"dataframe\">\n",
       "  <thead>\n",
       "    <tr style=\"text-align: right;\">\n",
       "      <th></th>\n",
       "      <th>id</th>\n",
       "      <th>mb_used</th>\n",
       "      <th>session_date</th>\n",
       "      <th>user_id</th>\n",
       "    </tr>\n",
       "  </thead>\n",
       "  <tbody>\n",
       "    <tr>\n",
       "      <th>0</th>\n",
       "      <td>1000_0</td>\n",
       "      <td>112.95</td>\n",
       "      <td>2018-11-25</td>\n",
       "      <td>1000</td>\n",
       "    </tr>\n",
       "    <tr>\n",
       "      <th>1</th>\n",
       "      <td>1000_1</td>\n",
       "      <td>1052.81</td>\n",
       "      <td>2018-09-07</td>\n",
       "      <td>1000</td>\n",
       "    </tr>\n",
       "    <tr>\n",
       "      <th>2</th>\n",
       "      <td>1000_2</td>\n",
       "      <td>1197.26</td>\n",
       "      <td>2018-06-25</td>\n",
       "      <td>1000</td>\n",
       "    </tr>\n",
       "  </tbody>\n",
       "</table>\n",
       "</div>"
      ],
      "text/plain": [
       "       id  mb_used session_date  user_id\n",
       "0  1000_0   112.95   2018-11-25     1000\n",
       "1  1000_1  1052.81   2018-09-07     1000\n",
       "2  1000_2  1197.26   2018-06-25     1000"
      ]
     },
     "execution_count": 7,
     "metadata": {},
     "output_type": "execute_result"
    }
   ],
   "source": [
    "internet = internet.drop('Unnamed: 0', axis=1)\n",
    "internet.head(3)"
   ]
  },
  {
   "cell_type": "code",
   "execution_count": 8,
   "metadata": {},
   "outputs": [
    {
     "name": "stdout",
     "output_type": "stream",
     "text": [
      "<class 'pandas.core.frame.DataFrame'>\n",
      "RangeIndex: 149396 entries, 0 to 149395\n",
      "Data columns (total 4 columns):\n",
      " #   Column        Non-Null Count   Dtype  \n",
      "---  ------        --------------   -----  \n",
      " 0   id            149396 non-null  object \n",
      " 1   mb_used       149396 non-null  float64\n",
      " 2   session_date  149396 non-null  object \n",
      " 3   user_id       149396 non-null  int64  \n",
      "dtypes: float64(1), int64(1), object(2)\n",
      "memory usage: 4.6+ MB\n"
     ]
    }
   ],
   "source": [
    "internet.info()"
   ]
  },
  {
   "cell_type": "code",
   "execution_count": 9,
   "metadata": {},
   "outputs": [],
   "source": [
    "# опять исправим только тип даты\n",
    "internet.session_date = pd.to_datetime(internet.session_date)"
   ]
  },
  {
   "cell_type": "markdown",
   "metadata": {},
   "source": [
    "###  Таблица messages (информация о сообщениях):\n",
    "\n",
    "* id — уникальный номер сообщения\n",
    "* message_date — дата сообщения\n",
    "* user_id — идентификатор пользователя, отправившего сообщение"
   ]
  },
  {
   "cell_type": "code",
   "execution_count": 10,
   "metadata": {},
   "outputs": [
    {
     "name": "stdout",
     "output_type": "stream",
     "text": [
      "<class 'pandas.core.frame.DataFrame'>\n",
      "RangeIndex: 123036 entries, 0 to 123035\n",
      "Data columns (total 3 columns):\n",
      " #   Column        Non-Null Count   Dtype \n",
      "---  ------        --------------   ----- \n",
      " 0   id            123036 non-null  object\n",
      " 1   message_date  123036 non-null  object\n",
      " 2   user_id       123036 non-null  int64 \n",
      "dtypes: int64(1), object(2)\n",
      "memory usage: 2.8+ MB\n"
     ]
    }
   ],
   "source": [
    "messages.info()"
   ]
  },
  {
   "cell_type": "code",
   "execution_count": 11,
   "metadata": {},
   "outputs": [],
   "source": [
    "messages.message_date = pd.to_datetime(messages.message_date)"
   ]
  },
  {
   "cell_type": "markdown",
   "metadata": {},
   "source": [
    "### Таблица tariffs (информация о тарифах):\n",
    "\n",
    "* tariff_name — название тарифа\n",
    "* rub_monthly_fee — ежемесячная абонентская плата в рублях\n",
    "* minutes_included — количество минут разговора в месяц, включённых в абонентскую плату\n",
    "* messages_included — количество сообщений в месяц, включённых в абонентскую плату\n",
    "* mb_per_month_included — объём интернет-трафика, включённого в абонентскую плату (в мегабайтах)\n",
    "* rub_per_minute — стоимость минуты разговора сверх тарифного пакета (например, если в тарифе 100 минут разговора в месяц, то со 101 минуты будет взиматься плата)\n",
    "* rub_per_message — стоимость отправки сообщения сверх тарифного пакета\n",
    "* rub_per_gb — стоимость дополнительного гигабайта интернет-трафика сверх тарифного пакета (1 гигабайт = 1024 мегабайта)"
   ]
  },
  {
   "cell_type": "code",
   "execution_count": 12,
   "metadata": {},
   "outputs": [
    {
     "data": {
      "text/html": [
       "<div>\n",
       "<style scoped>\n",
       "    .dataframe tbody tr th:only-of-type {\n",
       "        vertical-align: middle;\n",
       "    }\n",
       "\n",
       "    .dataframe tbody tr th {\n",
       "        vertical-align: top;\n",
       "    }\n",
       "\n",
       "    .dataframe thead th {\n",
       "        text-align: right;\n",
       "    }\n",
       "</style>\n",
       "<table border=\"1\" class=\"dataframe\">\n",
       "  <thead>\n",
       "    <tr style=\"text-align: right;\">\n",
       "      <th></th>\n",
       "      <th>messages_included</th>\n",
       "      <th>mb_per_month_included</th>\n",
       "      <th>minutes_included</th>\n",
       "      <th>rub_monthly_fee</th>\n",
       "      <th>rub_per_gb</th>\n",
       "      <th>rub_per_message</th>\n",
       "      <th>rub_per_minute</th>\n",
       "      <th>tariff_name</th>\n",
       "    </tr>\n",
       "  </thead>\n",
       "  <tbody>\n",
       "    <tr>\n",
       "      <th>0</th>\n",
       "      <td>50</td>\n",
       "      <td>15360</td>\n",
       "      <td>500</td>\n",
       "      <td>550</td>\n",
       "      <td>200</td>\n",
       "      <td>3</td>\n",
       "      <td>3</td>\n",
       "      <td>smart</td>\n",
       "    </tr>\n",
       "    <tr>\n",
       "      <th>1</th>\n",
       "      <td>1000</td>\n",
       "      <td>30720</td>\n",
       "      <td>3000</td>\n",
       "      <td>1950</td>\n",
       "      <td>150</td>\n",
       "      <td>1</td>\n",
       "      <td>1</td>\n",
       "      <td>ultra</td>\n",
       "    </tr>\n",
       "  </tbody>\n",
       "</table>\n",
       "</div>"
      ],
      "text/plain": [
       "   messages_included  mb_per_month_included  minutes_included  \\\n",
       "0                 50                  15360               500   \n",
       "1               1000                  30720              3000   \n",
       "\n",
       "   rub_monthly_fee  rub_per_gb  rub_per_message  rub_per_minute tariff_name  \n",
       "0              550         200                3               3       smart  \n",
       "1             1950         150                1               1       ultra  "
      ]
     },
     "execution_count": 12,
     "metadata": {},
     "output_type": "execute_result"
    }
   ],
   "source": [
    "tariffs"
   ]
  },
  {
   "cell_type": "markdown",
   "metadata": {},
   "source": [
    "#### Таблица users (информация о пользователях):\n",
    "\n",
    "* user_id — уникальный идентификатор пользователя\n",
    "* first_name — имя пользователя\n",
    "* last_name — фамилия пользователя\n",
    "* age — возраст пользователя (годы)\n",
    "* reg_date — дата подключения тарифа (день, месяц, год)\n",
    "* churn_date — дата прекращения пользования тарифом (если значение пропущено, то тариф ещё действовал на момент выгрузки данных)\n",
    "* city — город проживания пользователя\n",
    "* tariff — название тарифного плана"
   ]
  },
  {
   "cell_type": "code",
   "execution_count": 13,
   "metadata": {},
   "outputs": [
    {
     "name": "stdout",
     "output_type": "stream",
     "text": [
      "<class 'pandas.core.frame.DataFrame'>\n",
      "RangeIndex: 500 entries, 0 to 499\n",
      "Data columns (total 8 columns):\n",
      " #   Column      Non-Null Count  Dtype \n",
      "---  ------      --------------  ----- \n",
      " 0   user_id     500 non-null    int64 \n",
      " 1   age         500 non-null    int64 \n",
      " 2   churn_date  38 non-null     object\n",
      " 3   city        500 non-null    object\n",
      " 4   first_name  500 non-null    object\n",
      " 5   last_name   500 non-null    object\n",
      " 6   reg_date    500 non-null    object\n",
      " 7   tariff      500 non-null    object\n",
      "dtypes: int64(2), object(6)\n",
      "memory usage: 31.4+ KB\n"
     ]
    }
   ],
   "source": [
    "users.info()"
   ]
  },
  {
   "cell_type": "code",
   "execution_count": 14,
   "metadata": {},
   "outputs": [],
   "source": [
    "users.reg_date = pd.to_datetime(users.reg_date)"
   ]
  },
  {
   "cell_type": "code",
   "execution_count": 15,
   "metadata": {},
   "outputs": [],
   "source": [
    "# заполним пропуски в churn_date сегодняшней датой - тариф всё ещё действует\n",
    "today = date.today()\n",
    "users['churn_date'] = users['churn_date'].fillna(today)"
   ]
  },
  {
   "cell_type": "markdown",
   "metadata": {},
   "source": [
    "### У нас могут быь пользователи которые не пользуются услугами\n",
    "\n",
    "Найдем количество тех, кто не пользуется интернетом, сообщениями или другими услугами"
   ]
  },
  {
   "cell_type": "code",
   "execution_count": 16,
   "metadata": {},
   "outputs": [
    {
     "name": "stdout",
     "output_type": "stream",
     "text": [
      "users_out_of_calls =  8\n",
      "users_out_of_messages 74\n",
      "users_out_of_internet 3\n"
     ]
    }
   ],
   "source": [
    "users_total = users.user_id.nunique()\n",
    "# число пользователей всего\n",
    "\n",
    "users_out_of_calls = users_total - calls.user_id.nunique()\n",
    "users_out_of_messages = users_total - messages.user_id.nunique()\n",
    "users_out_of_internet = users_total - internet.user_id.nunique()\n",
    "\n",
    "print('users_out_of_calls = ', users_out_of_calls)\n",
    "print('users_out_of_messages', users_out_of_messages)\n",
    "print('users_out_of_internet', users_out_of_internet)"
   ]
  },
  {
   "cell_type": "markdown",
   "metadata": {},
   "source": [
    "**видим что сообщениями не пользуются больше всего**"
   ]
  },
  {
   "cell_type": "markdown",
   "metadata": {},
   "source": [
    "## Посчитаем для каждого пользователя:\n",
    "### количество сделанных звонков и израсходованных минут разговора по месяцам\n"
   ]
  },
  {
   "cell_type": "code",
   "execution_count": 17,
   "metadata": {},
   "outputs": [],
   "source": [
    "# добавим колонку месяца\n",
    "calls['month'] = pd.DatetimeIndex(calls.call_date).month"
   ]
  },
  {
   "cell_type": "code",
   "execution_count": 18,
   "metadata": {},
   "outputs": [
    {
     "data": {
      "text/html": [
       "<div>\n",
       "<style scoped>\n",
       "    .dataframe tbody tr th:only-of-type {\n",
       "        vertical-align: middle;\n",
       "    }\n",
       "\n",
       "    .dataframe tbody tr th {\n",
       "        vertical-align: top;\n",
       "    }\n",
       "\n",
       "    .dataframe thead th {\n",
       "        text-align: right;\n",
       "    }\n",
       "</style>\n",
       "<table border=\"1\" class=\"dataframe\">\n",
       "  <thead>\n",
       "    <tr style=\"text-align: right;\">\n",
       "      <th>month</th>\n",
       "      <th>1</th>\n",
       "      <th>2</th>\n",
       "      <th>3</th>\n",
       "      <th>4</th>\n",
       "      <th>5</th>\n",
       "      <th>6</th>\n",
       "      <th>7</th>\n",
       "      <th>8</th>\n",
       "      <th>9</th>\n",
       "      <th>10</th>\n",
       "      <th>11</th>\n",
       "      <th>12</th>\n",
       "    </tr>\n",
       "    <tr>\n",
       "      <th>user_id</th>\n",
       "      <th></th>\n",
       "      <th></th>\n",
       "      <th></th>\n",
       "      <th></th>\n",
       "      <th></th>\n",
       "      <th></th>\n",
       "      <th></th>\n",
       "      <th></th>\n",
       "      <th></th>\n",
       "      <th></th>\n",
       "      <th></th>\n",
       "      <th></th>\n",
       "    </tr>\n",
       "  </thead>\n",
       "  <tbody>\n",
       "    <tr>\n",
       "      <th>1000</th>\n",
       "      <td>NaN</td>\n",
       "      <td>NaN</td>\n",
       "      <td>NaN</td>\n",
       "      <td>NaN</td>\n",
       "      <td>22.0</td>\n",
       "      <td>43.0</td>\n",
       "      <td>47.0</td>\n",
       "      <td>52.0</td>\n",
       "      <td>58.0</td>\n",
       "      <td>57.0</td>\n",
       "      <td>43.0</td>\n",
       "      <td>46.0</td>\n",
       "    </tr>\n",
       "    <tr>\n",
       "      <th>1001</th>\n",
       "      <td>NaN</td>\n",
       "      <td>NaN</td>\n",
       "      <td>NaN</td>\n",
       "      <td>NaN</td>\n",
       "      <td>NaN</td>\n",
       "      <td>NaN</td>\n",
       "      <td>NaN</td>\n",
       "      <td>NaN</td>\n",
       "      <td>NaN</td>\n",
       "      <td>NaN</td>\n",
       "      <td>59.0</td>\n",
       "      <td>63.0</td>\n",
       "    </tr>\n",
       "    <tr>\n",
       "      <th>1002</th>\n",
       "      <td>NaN</td>\n",
       "      <td>NaN</td>\n",
       "      <td>NaN</td>\n",
       "      <td>NaN</td>\n",
       "      <td>NaN</td>\n",
       "      <td>15.0</td>\n",
       "      <td>26.0</td>\n",
       "      <td>42.0</td>\n",
       "      <td>36.0</td>\n",
       "      <td>33.0</td>\n",
       "      <td>32.0</td>\n",
       "      <td>33.0</td>\n",
       "    </tr>\n",
       "    <tr>\n",
       "      <th>1003</th>\n",
       "      <td>NaN</td>\n",
       "      <td>NaN</td>\n",
       "      <td>NaN</td>\n",
       "      <td>NaN</td>\n",
       "      <td>NaN</td>\n",
       "      <td>NaN</td>\n",
       "      <td>NaN</td>\n",
       "      <td>55.0</td>\n",
       "      <td>134.0</td>\n",
       "      <td>108.0</td>\n",
       "      <td>115.0</td>\n",
       "      <td>108.0</td>\n",
       "    </tr>\n",
       "    <tr>\n",
       "      <th>1004</th>\n",
       "      <td>NaN</td>\n",
       "      <td>NaN</td>\n",
       "      <td>NaN</td>\n",
       "      <td>NaN</td>\n",
       "      <td>9.0</td>\n",
       "      <td>31.0</td>\n",
       "      <td>22.0</td>\n",
       "      <td>19.0</td>\n",
       "      <td>26.0</td>\n",
       "      <td>29.0</td>\n",
       "      <td>19.0</td>\n",
       "      <td>21.0</td>\n",
       "    </tr>\n",
       "  </tbody>\n",
       "</table>\n",
       "</div>"
      ],
      "text/plain": [
       "month    1   2   3   4     5     6     7     8      9      10     11     12\n",
       "user_id                                                                    \n",
       "1000    NaN NaN NaN NaN  22.0  43.0  47.0  52.0   58.0   57.0   43.0   46.0\n",
       "1001    NaN NaN NaN NaN   NaN   NaN   NaN   NaN    NaN    NaN   59.0   63.0\n",
       "1002    NaN NaN NaN NaN   NaN  15.0  26.0  42.0   36.0   33.0   32.0   33.0\n",
       "1003    NaN NaN NaN NaN   NaN   NaN   NaN  55.0  134.0  108.0  115.0  108.0\n",
       "1004    NaN NaN NaN NaN   9.0  31.0  22.0  19.0   26.0   29.0   19.0   21.0"
      ]
     },
     "execution_count": 18,
     "metadata": {},
     "output_type": "execute_result"
    }
   ],
   "source": [
    "# создаём таблицу с количеством звонков\n",
    "calls_piv_count = pd.pivot_table(calls, index = 'user_id', columns = 'month',values = 'id' , aggfunc = 'count')\n",
    "calls_piv_count.head()"
   ]
  },
  {
   "cell_type": "code",
   "execution_count": 19,
   "metadata": {},
   "outputs": [],
   "source": [
    "# часть данных заполняется какими то пропусками\n",
    "# это потому что таких данных в таблице просто нет, можем их заполнить 0\n",
    "calls_piv_count = calls_piv_count.fillna(0)"
   ]
  },
  {
   "cell_type": "markdown",
   "metadata": {},
   "source": [
    "Помним что каждый звонок округляется отдельно: даже если он длился всего 1 секунду, будет засчитан как 1 минута. Нужно округлить duration в большую сторону и посчитать для каждого пользователя количество израсходованных минут разговора по месяцам"
   ]
  },
  {
   "cell_type": "code",
   "execution_count": 20,
   "metadata": {},
   "outputs": [],
   "source": [
    "calls['round_duration'] = np.ceil(calls.duration)"
   ]
  },
  {
   "cell_type": "code",
   "execution_count": 21,
   "metadata": {},
   "outputs": [
    {
     "data": {
      "text/html": [
       "<div>\n",
       "<style scoped>\n",
       "    .dataframe tbody tr th:only-of-type {\n",
       "        vertical-align: middle;\n",
       "    }\n",
       "\n",
       "    .dataframe tbody tr th {\n",
       "        vertical-align: top;\n",
       "    }\n",
       "\n",
       "    .dataframe thead th {\n",
       "        text-align: right;\n",
       "    }\n",
       "</style>\n",
       "<table border=\"1\" class=\"dataframe\">\n",
       "  <thead>\n",
       "    <tr style=\"text-align: right;\">\n",
       "      <th>month</th>\n",
       "      <th>1</th>\n",
       "      <th>2</th>\n",
       "      <th>3</th>\n",
       "      <th>4</th>\n",
       "      <th>5</th>\n",
       "      <th>6</th>\n",
       "      <th>7</th>\n",
       "      <th>8</th>\n",
       "      <th>9</th>\n",
       "      <th>10</th>\n",
       "      <th>11</th>\n",
       "      <th>12</th>\n",
       "    </tr>\n",
       "    <tr>\n",
       "      <th>user_id</th>\n",
       "      <th></th>\n",
       "      <th></th>\n",
       "      <th></th>\n",
       "      <th></th>\n",
       "      <th></th>\n",
       "      <th></th>\n",
       "      <th></th>\n",
       "      <th></th>\n",
       "      <th></th>\n",
       "      <th></th>\n",
       "      <th></th>\n",
       "      <th></th>\n",
       "    </tr>\n",
       "  </thead>\n",
       "  <tbody>\n",
       "    <tr>\n",
       "      <th>1000</th>\n",
       "      <td>0.0</td>\n",
       "      <td>0.0</td>\n",
       "      <td>0.0</td>\n",
       "      <td>0.0</td>\n",
       "      <td>159.0</td>\n",
       "      <td>172.0</td>\n",
       "      <td>340.0</td>\n",
       "      <td>408.0</td>\n",
       "      <td>466.0</td>\n",
       "      <td>350.0</td>\n",
       "      <td>338.0</td>\n",
       "      <td>333.0</td>\n",
       "    </tr>\n",
       "    <tr>\n",
       "      <th>1001</th>\n",
       "      <td>0.0</td>\n",
       "      <td>0.0</td>\n",
       "      <td>0.0</td>\n",
       "      <td>0.0</td>\n",
       "      <td>0.0</td>\n",
       "      <td>0.0</td>\n",
       "      <td>0.0</td>\n",
       "      <td>0.0</td>\n",
       "      <td>0.0</td>\n",
       "      <td>0.0</td>\n",
       "      <td>430.0</td>\n",
       "      <td>414.0</td>\n",
       "    </tr>\n",
       "    <tr>\n",
       "      <th>1002</th>\n",
       "      <td>0.0</td>\n",
       "      <td>0.0</td>\n",
       "      <td>0.0</td>\n",
       "      <td>0.0</td>\n",
       "      <td>0.0</td>\n",
       "      <td>117.0</td>\n",
       "      <td>214.0</td>\n",
       "      <td>289.0</td>\n",
       "      <td>206.0</td>\n",
       "      <td>212.0</td>\n",
       "      <td>243.0</td>\n",
       "      <td>236.0</td>\n",
       "    </tr>\n",
       "    <tr>\n",
       "      <th>1003</th>\n",
       "      <td>0.0</td>\n",
       "      <td>0.0</td>\n",
       "      <td>0.0</td>\n",
       "      <td>0.0</td>\n",
       "      <td>0.0</td>\n",
       "      <td>0.0</td>\n",
       "      <td>0.0</td>\n",
       "      <td>380.0</td>\n",
       "      <td>961.0</td>\n",
       "      <td>855.0</td>\n",
       "      <td>824.0</td>\n",
       "      <td>802.0</td>\n",
       "    </tr>\n",
       "    <tr>\n",
       "      <th>1004</th>\n",
       "      <td>0.0</td>\n",
       "      <td>0.0</td>\n",
       "      <td>0.0</td>\n",
       "      <td>0.0</td>\n",
       "      <td>35.0</td>\n",
       "      <td>171.0</td>\n",
       "      <td>135.0</td>\n",
       "      <td>137.0</td>\n",
       "      <td>117.0</td>\n",
       "      <td>145.0</td>\n",
       "      <td>117.0</td>\n",
       "      <td>130.0</td>\n",
       "    </tr>\n",
       "  </tbody>\n",
       "</table>\n",
       "</div>"
      ],
      "text/plain": [
       "month     1    2    3    4      5      6      7      8      9      10     11  \\\n",
       "user_id                                                                        \n",
       "1000     0.0  0.0  0.0  0.0  159.0  172.0  340.0  408.0  466.0  350.0  338.0   \n",
       "1001     0.0  0.0  0.0  0.0    0.0    0.0    0.0    0.0    0.0    0.0  430.0   \n",
       "1002     0.0  0.0  0.0  0.0    0.0  117.0  214.0  289.0  206.0  212.0  243.0   \n",
       "1003     0.0  0.0  0.0  0.0    0.0    0.0    0.0  380.0  961.0  855.0  824.0   \n",
       "1004     0.0  0.0  0.0  0.0   35.0  171.0  135.0  137.0  117.0  145.0  117.0   \n",
       "\n",
       "month       12  \n",
       "user_id         \n",
       "1000     333.0  \n",
       "1001     414.0  \n",
       "1002     236.0  \n",
       "1003     802.0  \n",
       "1004     130.0  "
      ]
     },
     "execution_count": 21,
     "metadata": {},
     "output_type": "execute_result"
    }
   ],
   "source": [
    "# создаём таблицу с длительностью звонков\n",
    "calls_piv_sum = pd.pivot_table(calls, index = 'user_id', columns = 'month',values = 'round_duration' , aggfunc = 'sum')\n",
    "# по той же логике NaN заполним 0\n",
    "calls_piv_sum = calls_piv_sum.fillna(0)\n",
    "calls_piv_sum.head()"
   ]
  },
  {
   "cell_type": "markdown",
   "metadata": {},
   "source": [
    "Итого:\n",
    "\n",
    "количество сделанных звонков по месяцам лежит в calls_piv_count\n",
    "\n",
    "количество израсходованный минут по месяцам - в calls_piv_sum"
   ]
  },
  {
   "cell_type": "code",
   "execution_count": null,
   "metadata": {},
   "outputs": [],
   "source": []
  },
  {
   "cell_type": "markdown",
   "metadata": {},
   "source": [
    "### Посчитаем количество отправленных сообщений по месяцам\n",
    "всё по аналогии с тем, что выше :-)"
   ]
  },
  {
   "cell_type": "code",
   "execution_count": 22,
   "metadata": {},
   "outputs": [
    {
     "data": {
      "text/html": [
       "<div>\n",
       "<style scoped>\n",
       "    .dataframe tbody tr th:only-of-type {\n",
       "        vertical-align: middle;\n",
       "    }\n",
       "\n",
       "    .dataframe tbody tr th {\n",
       "        vertical-align: top;\n",
       "    }\n",
       "\n",
       "    .dataframe thead th {\n",
       "        text-align: right;\n",
       "    }\n",
       "</style>\n",
       "<table border=\"1\" class=\"dataframe\">\n",
       "  <thead>\n",
       "    <tr style=\"text-align: right;\">\n",
       "      <th></th>\n",
       "      <th>id</th>\n",
       "      <th>message_date</th>\n",
       "      <th>user_id</th>\n",
       "      <th>month</th>\n",
       "    </tr>\n",
       "  </thead>\n",
       "  <tbody>\n",
       "    <tr>\n",
       "      <th>0</th>\n",
       "      <td>1000_0</td>\n",
       "      <td>2018-06-27</td>\n",
       "      <td>1000</td>\n",
       "      <td>6</td>\n",
       "    </tr>\n",
       "    <tr>\n",
       "      <th>1</th>\n",
       "      <td>1000_1</td>\n",
       "      <td>2018-10-08</td>\n",
       "      <td>1000</td>\n",
       "      <td>10</td>\n",
       "    </tr>\n",
       "    <tr>\n",
       "      <th>2</th>\n",
       "      <td>1000_2</td>\n",
       "      <td>2018-08-04</td>\n",
       "      <td>1000</td>\n",
       "      <td>8</td>\n",
       "    </tr>\n",
       "  </tbody>\n",
       "</table>\n",
       "</div>"
      ],
      "text/plain": [
       "       id message_date  user_id  month\n",
       "0  1000_0   2018-06-27     1000      6\n",
       "1  1000_1   2018-10-08     1000     10\n",
       "2  1000_2   2018-08-04     1000      8"
      ]
     },
     "execution_count": 22,
     "metadata": {},
     "output_type": "execute_result"
    }
   ],
   "source": [
    "# данные у нас только за 2018 год\n",
    "messages['month'] = pd.DatetimeIndex(messages['message_date']).month\n",
    "messages.head(3)"
   ]
  },
  {
   "cell_type": "code",
   "execution_count": 23,
   "metadata": {},
   "outputs": [
    {
     "data": {
      "text/html": [
       "<div>\n",
       "<style scoped>\n",
       "    .dataframe tbody tr th:only-of-type {\n",
       "        vertical-align: middle;\n",
       "    }\n",
       "\n",
       "    .dataframe tbody tr th {\n",
       "        vertical-align: top;\n",
       "    }\n",
       "\n",
       "    .dataframe thead th {\n",
       "        text-align: right;\n",
       "    }\n",
       "</style>\n",
       "<table border=\"1\" class=\"dataframe\">\n",
       "  <thead>\n",
       "    <tr style=\"text-align: right;\">\n",
       "      <th>month</th>\n",
       "      <th>1</th>\n",
       "      <th>2</th>\n",
       "      <th>3</th>\n",
       "      <th>4</th>\n",
       "      <th>5</th>\n",
       "      <th>6</th>\n",
       "      <th>7</th>\n",
       "      <th>8</th>\n",
       "      <th>9</th>\n",
       "      <th>10</th>\n",
       "      <th>11</th>\n",
       "      <th>12</th>\n",
       "    </tr>\n",
       "    <tr>\n",
       "      <th>user_id</th>\n",
       "      <th></th>\n",
       "      <th></th>\n",
       "      <th></th>\n",
       "      <th></th>\n",
       "      <th></th>\n",
       "      <th></th>\n",
       "      <th></th>\n",
       "      <th></th>\n",
       "      <th></th>\n",
       "      <th></th>\n",
       "      <th></th>\n",
       "      <th></th>\n",
       "    </tr>\n",
       "  </thead>\n",
       "  <tbody>\n",
       "    <tr>\n",
       "      <th>1000</th>\n",
       "      <td>0.0</td>\n",
       "      <td>0.0</td>\n",
       "      <td>0.0</td>\n",
       "      <td>0.0</td>\n",
       "      <td>22.0</td>\n",
       "      <td>60.0</td>\n",
       "      <td>75.0</td>\n",
       "      <td>81.0</td>\n",
       "      <td>57.0</td>\n",
       "      <td>73.0</td>\n",
       "      <td>58.0</td>\n",
       "      <td>70.0</td>\n",
       "    </tr>\n",
       "    <tr>\n",
       "      <th>1002</th>\n",
       "      <td>0.0</td>\n",
       "      <td>0.0</td>\n",
       "      <td>0.0</td>\n",
       "      <td>0.0</td>\n",
       "      <td>0.0</td>\n",
       "      <td>4.0</td>\n",
       "      <td>11.0</td>\n",
       "      <td>13.0</td>\n",
       "      <td>4.0</td>\n",
       "      <td>10.0</td>\n",
       "      <td>16.0</td>\n",
       "      <td>12.0</td>\n",
       "    </tr>\n",
       "    <tr>\n",
       "      <th>1003</th>\n",
       "      <td>0.0</td>\n",
       "      <td>0.0</td>\n",
       "      <td>0.0</td>\n",
       "      <td>0.0</td>\n",
       "      <td>0.0</td>\n",
       "      <td>0.0</td>\n",
       "      <td>0.0</td>\n",
       "      <td>37.0</td>\n",
       "      <td>91.0</td>\n",
       "      <td>83.0</td>\n",
       "      <td>94.0</td>\n",
       "      <td>75.0</td>\n",
       "    </tr>\n",
       "  </tbody>\n",
       "</table>\n",
       "</div>"
      ],
      "text/plain": [
       "month     1    2    3    4     5     6     7     8     9     10    11    12\n",
       "user_id                                                                    \n",
       "1000     0.0  0.0  0.0  0.0  22.0  60.0  75.0  81.0  57.0  73.0  58.0  70.0\n",
       "1002     0.0  0.0  0.0  0.0   0.0   4.0  11.0  13.0   4.0  10.0  16.0  12.0\n",
       "1003     0.0  0.0  0.0  0.0   0.0   0.0   0.0  37.0  91.0  83.0  94.0  75.0"
      ]
     },
     "execution_count": 23,
     "metadata": {},
     "output_type": "execute_result"
    }
   ],
   "source": [
    "messages_piv_count = pd.pivot_table(data = messages, index = 'user_id', columns = 'month', values = 'id', aggfunc = 'count')\n",
    "messages_piv_count = messages_piv_count.fillna(0)\n",
    "messages_piv_count.head(3)"
   ]
  },
  {
   "cell_type": "markdown",
   "metadata": {},
   "source": [
    "### Посчитаем объем израсходованного интернет-трафика по месяцам\n",
    "\n",
    "«Мегалайн» всегда округляет секунды до минут, а мегабайты — до гигабайт.\n",
    "\n",
    "Для веб-трафика отдельные сессии не считаются. Вместо этого общая сумма за месяц округляется в бо́льшую сторону. Если абонент использует 1025 мегабайт в этом месяце, с него возьмут плату за 2 гигабайта."
   ]
  },
  {
   "cell_type": "code",
   "execution_count": 24,
   "metadata": {},
   "outputs": [],
   "source": [
    "internet['month'] = pd.DatetimeIndex(internet.session_date).month"
   ]
  },
  {
   "cell_type": "code",
   "execution_count": 25,
   "metadata": {},
   "outputs": [
    {
     "data": {
      "text/html": [
       "<div>\n",
       "<style scoped>\n",
       "    .dataframe tbody tr th:only-of-type {\n",
       "        vertical-align: middle;\n",
       "    }\n",
       "\n",
       "    .dataframe tbody tr th {\n",
       "        vertical-align: top;\n",
       "    }\n",
       "\n",
       "    .dataframe thead th {\n",
       "        text-align: right;\n",
       "    }\n",
       "</style>\n",
       "<table border=\"1\" class=\"dataframe\">\n",
       "  <thead>\n",
       "    <tr style=\"text-align: right;\">\n",
       "      <th>month</th>\n",
       "      <th>1</th>\n",
       "      <th>2</th>\n",
       "      <th>3</th>\n",
       "      <th>4</th>\n",
       "      <th>5</th>\n",
       "      <th>6</th>\n",
       "      <th>7</th>\n",
       "      <th>8</th>\n",
       "      <th>9</th>\n",
       "      <th>10</th>\n",
       "      <th>11</th>\n",
       "      <th>12</th>\n",
       "    </tr>\n",
       "    <tr>\n",
       "      <th>user_id</th>\n",
       "      <th></th>\n",
       "      <th></th>\n",
       "      <th></th>\n",
       "      <th></th>\n",
       "      <th></th>\n",
       "      <th></th>\n",
       "      <th></th>\n",
       "      <th></th>\n",
       "      <th></th>\n",
       "      <th></th>\n",
       "      <th></th>\n",
       "      <th></th>\n",
       "    </tr>\n",
       "  </thead>\n",
       "  <tbody>\n",
       "    <tr>\n",
       "      <th>1000</th>\n",
       "      <td>0.0</td>\n",
       "      <td>0.0</td>\n",
       "      <td>0.0</td>\n",
       "      <td>0.0</td>\n",
       "      <td>3.0</td>\n",
       "      <td>23.0</td>\n",
       "      <td>14.0</td>\n",
       "      <td>14.0</td>\n",
       "      <td>15.0</td>\n",
       "      <td>15.0</td>\n",
       "      <td>15.0</td>\n",
       "      <td>10.0</td>\n",
       "    </tr>\n",
       "    <tr>\n",
       "      <th>1001</th>\n",
       "      <td>0.0</td>\n",
       "      <td>0.0</td>\n",
       "      <td>0.0</td>\n",
       "      <td>0.0</td>\n",
       "      <td>0.0</td>\n",
       "      <td>0.0</td>\n",
       "      <td>0.0</td>\n",
       "      <td>0.0</td>\n",
       "      <td>0.0</td>\n",
       "      <td>0.0</td>\n",
       "      <td>18.0</td>\n",
       "      <td>14.0</td>\n",
       "    </tr>\n",
       "    <tr>\n",
       "      <th>1002</th>\n",
       "      <td>0.0</td>\n",
       "      <td>0.0</td>\n",
       "      <td>0.0</td>\n",
       "      <td>0.0</td>\n",
       "      <td>0.0</td>\n",
       "      <td>11.0</td>\n",
       "      <td>18.0</td>\n",
       "      <td>20.0</td>\n",
       "      <td>17.0</td>\n",
       "      <td>14.0</td>\n",
       "      <td>19.0</td>\n",
       "      <td>18.0</td>\n",
       "    </tr>\n",
       "  </tbody>\n",
       "</table>\n",
       "</div>"
      ],
      "text/plain": [
       "month     1    2    3    4    5     6     7     8     9     10    11    12\n",
       "user_id                                                                   \n",
       "1000     0.0  0.0  0.0  0.0  3.0  23.0  14.0  14.0  15.0  15.0  15.0  10.0\n",
       "1001     0.0  0.0  0.0  0.0  0.0   0.0   0.0   0.0   0.0   0.0  18.0  14.0\n",
       "1002     0.0  0.0  0.0  0.0  0.0  11.0  18.0  20.0  17.0  14.0  19.0  18.0"
      ]
     },
     "execution_count": 25,
     "metadata": {},
     "output_type": "execute_result"
    }
   ],
   "source": [
    "internet_piv_sum = pd.pivot_table(internet, index = 'user_id', columns = 'month',\\\n",
    "                                  values = 'mb_used', aggfunc = 'sum')\n",
    "internet_piv_sum = internet_piv_sum.fillna(0)\n",
    "\n",
    "# переведём в гб, потом округлим в соответсвии с тарифом\n",
    "internet_piv_sum = internet_piv_sum / 1024\n",
    "\n",
    "# округлим в большую сторону\n",
    "internet_piv_sum = np.ceil(internet_piv_sum)\n",
    "internet_piv_sum.head(3)"
   ]
  },
  {
   "cell_type": "code",
   "execution_count": null,
   "metadata": {},
   "outputs": [],
   "source": []
  },
  {
   "cell_type": "markdown",
   "metadata": {},
   "source": [
    "### Считаем : помесячную выручку с каждого пользователя\n",
    "\n",
    "(вычтем бесплатный лимит из суммарного количества звонков, сообщений и интернет-трафика; остаток умножим на значение из тарифного плана; прибавим абонентскую плату, соответствующую тарифному плану).\n"
   ]
  },
  {
   "cell_type": "code",
   "execution_count": 26,
   "metadata": {},
   "outputs": [],
   "source": [
    "# переименуем tariff_name в  tariff\n",
    "tariffs.columns = ['messages_included', 'mb_per_month_included', 'minutes_included',\n",
    "       'rub_monthly_fee', 'rub_per_gb', 'rub_per_message', 'rub_per_minute',\n",
    "       'tariff']"
   ]
  },
  {
   "cell_type": "markdown",
   "metadata": {},
   "source": [
    "Сначала объеденим основные таблицы со звонками, сообщениями, интернетом. Потом присоеденим остальные"
   ]
  },
  {
   "cell_type": "code",
   "execution_count": 27,
   "metadata": {},
   "outputs": [],
   "source": [
    "# создадим общий датафрейм\n",
    "messages_0 = messages.copy()"
   ]
  },
  {
   "cell_type": "code",
   "execution_count": 28,
   "metadata": {},
   "outputs": [
    {
     "data": {
      "text/html": [
       "<div>\n",
       "<style scoped>\n",
       "    .dataframe tbody tr th:only-of-type {\n",
       "        vertical-align: middle;\n",
       "    }\n",
       "\n",
       "    .dataframe tbody tr th {\n",
       "        vertical-align: top;\n",
       "    }\n",
       "\n",
       "    .dataframe thead th {\n",
       "        text-align: right;\n",
       "    }\n",
       "</style>\n",
       "<table border=\"1\" class=\"dataframe\">\n",
       "  <thead>\n",
       "    <tr style=\"text-align: right;\">\n",
       "      <th></th>\n",
       "      <th>user_id</th>\n",
       "      <th>month</th>\n",
       "      <th>messages_used_per_month</th>\n",
       "    </tr>\n",
       "  </thead>\n",
       "  <tbody>\n",
       "    <tr>\n",
       "      <th>0</th>\n",
       "      <td>1000</td>\n",
       "      <td>5</td>\n",
       "      <td>22</td>\n",
       "    </tr>\n",
       "    <tr>\n",
       "      <th>1</th>\n",
       "      <td>1000</td>\n",
       "      <td>6</td>\n",
       "      <td>60</td>\n",
       "    </tr>\n",
       "    <tr>\n",
       "      <th>2</th>\n",
       "      <td>1000</td>\n",
       "      <td>7</td>\n",
       "      <td>75</td>\n",
       "    </tr>\n",
       "  </tbody>\n",
       "</table>\n",
       "</div>"
      ],
      "text/plain": [
       "   user_id  month  messages_used_per_month\n",
       "0     1000      5                       22\n",
       "1     1000      6                       60\n",
       "2     1000      7                       75"
      ]
     },
     "execution_count": 28,
     "metadata": {},
     "output_type": "execute_result"
    }
   ],
   "source": [
    "#создадим промежуточный датафрейм с числом использованных сообщений и прилепим к общему\n",
    "messages_used = pd.DataFrame(messages_0.groupby(['user_id', 'month'])['id'].count()).reset_index().rename({'id':\\\n",
    "                                                         'messages_used_per_month'}, axis='columns')\n",
    "messages_used.head(3)"
   ]
  },
  {
   "cell_type": "code",
   "execution_count": 29,
   "metadata": {},
   "outputs": [
    {
     "data": {
      "text/html": [
       "<div>\n",
       "<style scoped>\n",
       "    .dataframe tbody tr th:only-of-type {\n",
       "        vertical-align: middle;\n",
       "    }\n",
       "\n",
       "    .dataframe tbody tr th {\n",
       "        vertical-align: top;\n",
       "    }\n",
       "\n",
       "    .dataframe thead th {\n",
       "        text-align: right;\n",
       "    }\n",
       "</style>\n",
       "<table border=\"1\" class=\"dataframe\">\n",
       "  <thead>\n",
       "    <tr style=\"text-align: right;\">\n",
       "      <th></th>\n",
       "      <th>user_id</th>\n",
       "      <th>month</th>\n",
       "      <th>duration_calls_per_month</th>\n",
       "    </tr>\n",
       "  </thead>\n",
       "  <tbody>\n",
       "    <tr>\n",
       "      <th>0</th>\n",
       "      <td>1000</td>\n",
       "      <td>5</td>\n",
       "      <td>159.0</td>\n",
       "    </tr>\n",
       "    <tr>\n",
       "      <th>1</th>\n",
       "      <td>1000</td>\n",
       "      <td>6</td>\n",
       "      <td>172.0</td>\n",
       "    </tr>\n",
       "    <tr>\n",
       "      <th>2</th>\n",
       "      <td>1000</td>\n",
       "      <td>7</td>\n",
       "      <td>340.0</td>\n",
       "    </tr>\n",
       "  </tbody>\n",
       "</table>\n",
       "</div>"
      ],
      "text/plain": [
       "   user_id  month  duration_calls_per_month\n",
       "0     1000      5                     159.0\n",
       "1     1000      6                     172.0\n",
       "2     1000      7                     340.0"
      ]
     },
     "execution_count": 29,
     "metadata": {},
     "output_type": "execute_result"
    }
   ],
   "source": [
    "calls_used = pd.DataFrame(calls.groupby(['user_id', 'month'])['round_duration'].sum()\\\n",
    "                          .reset_index()).rename({'round_duration':'duration_calls_per_month'}, axis='columns')\n",
    "calls_used.head(3)"
   ]
  },
  {
   "cell_type": "code",
   "execution_count": 30,
   "metadata": {},
   "outputs": [
    {
     "data": {
      "text/html": [
       "<div>\n",
       "<style scoped>\n",
       "    .dataframe tbody tr th:only-of-type {\n",
       "        vertical-align: middle;\n",
       "    }\n",
       "\n",
       "    .dataframe tbody tr th {\n",
       "        vertical-align: top;\n",
       "    }\n",
       "\n",
       "    .dataframe thead th {\n",
       "        text-align: right;\n",
       "    }\n",
       "</style>\n",
       "<table border=\"1\" class=\"dataframe\">\n",
       "  <thead>\n",
       "    <tr style=\"text-align: right;\">\n",
       "      <th></th>\n",
       "      <th>user_id</th>\n",
       "      <th>month</th>\n",
       "      <th>mb_used_per_month</th>\n",
       "    </tr>\n",
       "  </thead>\n",
       "  <tbody>\n",
       "    <tr>\n",
       "      <th>0</th>\n",
       "      <td>1000</td>\n",
       "      <td>5</td>\n",
       "      <td>2253.49</td>\n",
       "    </tr>\n",
       "    <tr>\n",
       "      <th>1</th>\n",
       "      <td>1000</td>\n",
       "      <td>6</td>\n",
       "      <td>23233.77</td>\n",
       "    </tr>\n",
       "    <tr>\n",
       "      <th>2</th>\n",
       "      <td>1000</td>\n",
       "      <td>7</td>\n",
       "      <td>14003.64</td>\n",
       "    </tr>\n",
       "  </tbody>\n",
       "</table>\n",
       "</div>"
      ],
      "text/plain": [
       "   user_id  month  mb_used_per_month\n",
       "0     1000      5            2253.49\n",
       "1     1000      6           23233.77\n",
       "2     1000      7           14003.64"
      ]
     },
     "execution_count": 30,
     "metadata": {},
     "output_type": "execute_result"
    }
   ],
   "source": [
    "internet_used = pd.DataFrame(internet.groupby(['user_id', 'month'])['mb_used'].sum().\\\n",
    "                             reset_index()).rename({'mb_used': 'mb_used_per_month'}, axis='columns')\n",
    "internet_used.head(3)"
   ]
  },
  {
   "cell_type": "code",
   "execution_count": 31,
   "metadata": {},
   "outputs": [],
   "source": [
    "# последовательно присоединим к большому датафрейму данные из _used датафреймов\n",
    "\n",
    "# исправила left на outer\n",
    "messages_0 = messages_0.merge(messages_used, how = 'outer', on = ['user_id', 'month'])\n",
    "messages_0 = messages_0.merge(calls_used, how = 'outer', on = ['user_id', 'month'])\n",
    "messages_0 = messages_0.merge(internet_used, how = 'outer', on = ['user_id', 'month'])"
   ]
  },
  {
   "cell_type": "code",
   "execution_count": 32,
   "metadata": {},
   "outputs": [],
   "source": [
    "# прилепим название тарифа каждому пользователю\n",
    "messages_0 = messages_0.merge(users.loc[:,['user_id', 'tariff']], how = 'left', on = 'user_id')\n",
    "# и добавим условия тарифа по сообщениям\n",
    "messages_0 = messages_0.merge(tariffs, how = 'left', on = 'tariff')\n"
   ]
  },
  {
   "cell_type": "markdown",
   "metadata": {},
   "source": [
    "Удалим ненужные колонки и появившиеся дубликаты"
   ]
  },
  {
   "cell_type": "code",
   "execution_count": 33,
   "metadata": {},
   "outputs": [
    {
     "data": {
      "text/html": [
       "<div>\n",
       "<style scoped>\n",
       "    .dataframe tbody tr th:only-of-type {\n",
       "        vertical-align: middle;\n",
       "    }\n",
       "\n",
       "    .dataframe tbody tr th {\n",
       "        vertical-align: top;\n",
       "    }\n",
       "\n",
       "    .dataframe thead th {\n",
       "        text-align: right;\n",
       "    }\n",
       "</style>\n",
       "<table border=\"1\" class=\"dataframe\">\n",
       "  <thead>\n",
       "    <tr style=\"text-align: right;\">\n",
       "      <th></th>\n",
       "      <th>user_id</th>\n",
       "      <th>month</th>\n",
       "      <th>messages_used_per_month</th>\n",
       "      <th>duration_calls_per_month</th>\n",
       "      <th>mb_used_per_month</th>\n",
       "      <th>tariff</th>\n",
       "      <th>messages_included</th>\n",
       "      <th>mb_per_month_included</th>\n",
       "      <th>minutes_included</th>\n",
       "      <th>rub_monthly_fee</th>\n",
       "      <th>rub_per_gb</th>\n",
       "      <th>rub_per_message</th>\n",
       "      <th>rub_per_minute</th>\n",
       "    </tr>\n",
       "  </thead>\n",
       "  <tbody>\n",
       "    <tr>\n",
       "      <th>0</th>\n",
       "      <td>1000</td>\n",
       "      <td>6</td>\n",
       "      <td>60.0</td>\n",
       "      <td>172.0</td>\n",
       "      <td>23233.77</td>\n",
       "      <td>ultra</td>\n",
       "      <td>1000</td>\n",
       "      <td>30720</td>\n",
       "      <td>3000</td>\n",
       "      <td>1950</td>\n",
       "      <td>150</td>\n",
       "      <td>1</td>\n",
       "      <td>1</td>\n",
       "    </tr>\n",
       "    <tr>\n",
       "      <th>60</th>\n",
       "      <td>1000</td>\n",
       "      <td>10</td>\n",
       "      <td>73.0</td>\n",
       "      <td>350.0</td>\n",
       "      <td>14702.49</td>\n",
       "      <td>ultra</td>\n",
       "      <td>1000</td>\n",
       "      <td>30720</td>\n",
       "      <td>3000</td>\n",
       "      <td>1950</td>\n",
       "      <td>150</td>\n",
       "      <td>1</td>\n",
       "      <td>1</td>\n",
       "    </tr>\n",
       "    <tr>\n",
       "      <th>133</th>\n",
       "      <td>1000</td>\n",
       "      <td>8</td>\n",
       "      <td>81.0</td>\n",
       "      <td>408.0</td>\n",
       "      <td>14055.93</td>\n",
       "      <td>ultra</td>\n",
       "      <td>1000</td>\n",
       "      <td>30720</td>\n",
       "      <td>3000</td>\n",
       "      <td>1950</td>\n",
       "      <td>150</td>\n",
       "      <td>1</td>\n",
       "      <td>1</td>\n",
       "    </tr>\n",
       "    <tr>\n",
       "      <th>214</th>\n",
       "      <td>1000</td>\n",
       "      <td>12</td>\n",
       "      <td>70.0</td>\n",
       "      <td>333.0</td>\n",
       "      <td>9817.61</td>\n",
       "      <td>ultra</td>\n",
       "      <td>1000</td>\n",
       "      <td>30720</td>\n",
       "      <td>3000</td>\n",
       "      <td>1950</td>\n",
       "      <td>150</td>\n",
       "      <td>1</td>\n",
       "      <td>1</td>\n",
       "    </tr>\n",
       "    <tr>\n",
       "      <th>284</th>\n",
       "      <td>1000</td>\n",
       "      <td>11</td>\n",
       "      <td>58.0</td>\n",
       "      <td>338.0</td>\n",
       "      <td>14756.47</td>\n",
       "      <td>ultra</td>\n",
       "      <td>1000</td>\n",
       "      <td>30720</td>\n",
       "      <td>3000</td>\n",
       "      <td>1950</td>\n",
       "      <td>150</td>\n",
       "      <td>1</td>\n",
       "      <td>1</td>\n",
       "    </tr>\n",
       "    <tr>\n",
       "      <th>...</th>\n",
       "      <td>...</td>\n",
       "      <td>...</td>\n",
       "      <td>...</td>\n",
       "      <td>...</td>\n",
       "      <td>...</td>\n",
       "      <td>...</td>\n",
       "      <td>...</td>\n",
       "      <td>...</td>\n",
       "      <td>...</td>\n",
       "      <td>...</td>\n",
       "      <td>...</td>\n",
       "      <td>...</td>\n",
       "      <td>...</td>\n",
       "    </tr>\n",
       "    <tr>\n",
       "      <th>123528</th>\n",
       "      <td>1494</td>\n",
       "      <td>9</td>\n",
       "      <td>NaN</td>\n",
       "      <td>501.0</td>\n",
       "      <td>16962.51</td>\n",
       "      <td>smart</td>\n",
       "      <td>50</td>\n",
       "      <td>15360</td>\n",
       "      <td>500</td>\n",
       "      <td>550</td>\n",
       "      <td>200</td>\n",
       "      <td>3</td>\n",
       "      <td>3</td>\n",
       "    </tr>\n",
       "    <tr>\n",
       "      <th>123529</th>\n",
       "      <td>1494</td>\n",
       "      <td>10</td>\n",
       "      <td>NaN</td>\n",
       "      <td>354.0</td>\n",
       "      <td>17767.24</td>\n",
       "      <td>smart</td>\n",
       "      <td>50</td>\n",
       "      <td>15360</td>\n",
       "      <td>500</td>\n",
       "      <td>550</td>\n",
       "      <td>200</td>\n",
       "      <td>3</td>\n",
       "      <td>3</td>\n",
       "    </tr>\n",
       "    <tr>\n",
       "      <th>123530</th>\n",
       "      <td>1494</td>\n",
       "      <td>11</td>\n",
       "      <td>NaN</td>\n",
       "      <td>411.0</td>\n",
       "      <td>18052.45</td>\n",
       "      <td>smart</td>\n",
       "      <td>50</td>\n",
       "      <td>15360</td>\n",
       "      <td>500</td>\n",
       "      <td>550</td>\n",
       "      <td>200</td>\n",
       "      <td>3</td>\n",
       "      <td>3</td>\n",
       "    </tr>\n",
       "    <tr>\n",
       "      <th>123531</th>\n",
       "      <td>1494</td>\n",
       "      <td>12</td>\n",
       "      <td>NaN</td>\n",
       "      <td>418.0</td>\n",
       "      <td>17621.21</td>\n",
       "      <td>smart</td>\n",
       "      <td>50</td>\n",
       "      <td>15360</td>\n",
       "      <td>500</td>\n",
       "      <td>550</td>\n",
       "      <td>200</td>\n",
       "      <td>3</td>\n",
       "      <td>3</td>\n",
       "    </tr>\n",
       "    <tr>\n",
       "      <th>123532</th>\n",
       "      <td>1476</td>\n",
       "      <td>4</td>\n",
       "      <td>NaN</td>\n",
       "      <td>NaN</td>\n",
       "      <td>530.78</td>\n",
       "      <td>ultra</td>\n",
       "      <td>1000</td>\n",
       "      <td>30720</td>\n",
       "      <td>3000</td>\n",
       "      <td>1950</td>\n",
       "      <td>150</td>\n",
       "      <td>1</td>\n",
       "      <td>1</td>\n",
       "    </tr>\n",
       "  </tbody>\n",
       "</table>\n",
       "<p>3214 rows × 13 columns</p>\n",
       "</div>"
      ],
      "text/plain": [
       "        user_id  month  messages_used_per_month  duration_calls_per_month  \\\n",
       "0          1000      6                     60.0                     172.0   \n",
       "60         1000     10                     73.0                     350.0   \n",
       "133        1000      8                     81.0                     408.0   \n",
       "214        1000     12                     70.0                     333.0   \n",
       "284        1000     11                     58.0                     338.0   \n",
       "...         ...    ...                      ...                       ...   \n",
       "123528     1494      9                      NaN                     501.0   \n",
       "123529     1494     10                      NaN                     354.0   \n",
       "123530     1494     11                      NaN                     411.0   \n",
       "123531     1494     12                      NaN                     418.0   \n",
       "123532     1476      4                      NaN                       NaN   \n",
       "\n",
       "        mb_used_per_month tariff  messages_included  mb_per_month_included  \\\n",
       "0                23233.77  ultra               1000                  30720   \n",
       "60               14702.49  ultra               1000                  30720   \n",
       "133              14055.93  ultra               1000                  30720   \n",
       "214               9817.61  ultra               1000                  30720   \n",
       "284              14756.47  ultra               1000                  30720   \n",
       "...                   ...    ...                ...                    ...   \n",
       "123528           16962.51  smart                 50                  15360   \n",
       "123529           17767.24  smart                 50                  15360   \n",
       "123530           18052.45  smart                 50                  15360   \n",
       "123531           17621.21  smart                 50                  15360   \n",
       "123532             530.78  ultra               1000                  30720   \n",
       "\n",
       "        minutes_included  rub_monthly_fee  rub_per_gb  rub_per_message  \\\n",
       "0                   3000             1950         150                1   \n",
       "60                  3000             1950         150                1   \n",
       "133                 3000             1950         150                1   \n",
       "214                 3000             1950         150                1   \n",
       "284                 3000             1950         150                1   \n",
       "...                  ...              ...         ...              ...   \n",
       "123528               500              550         200                3   \n",
       "123529               500              550         200                3   \n",
       "123530               500              550         200                3   \n",
       "123531               500              550         200                3   \n",
       "123532              3000             1950         150                1   \n",
       "\n",
       "        rub_per_minute  \n",
       "0                    1  \n",
       "60                   1  \n",
       "133                  1  \n",
       "214                  1  \n",
       "284                  1  \n",
       "...                ...  \n",
       "123528               3  \n",
       "123529               3  \n",
       "123530               3  \n",
       "123531               3  \n",
       "123532               1  \n",
       "\n",
       "[3214 rows x 13 columns]"
      ]
     },
     "execution_count": 33,
     "metadata": {},
     "output_type": "execute_result"
    }
   ],
   "source": [
    "messages_0 = messages_0.drop(['message_date', 'id'], axis = 1).drop_duplicates()\n",
    "messages_0"
   ]
  },
  {
   "cell_type": "markdown",
   "metadata": {},
   "source": [
    "Проведём расчёты"
   ]
  },
  {
   "cell_type": "code",
   "execution_count": 34,
   "metadata": {},
   "outputs": [],
   "source": [
    "# округлим мб в соответсвии с тарифами\n",
    "messages_0['mb_used_per_month'] = np.ceil(messages_0['mb_used_per_month'])\n",
    "messages_0['gb_used_per_month'] = np.ceil(messages_0['mb_used_per_month'] / 1024)\n",
    "# ----------------------------------------\n",
    "\n",
    "# создадим по колонке с разницей использованного и по тарифу\n",
    "# для сообщений\n",
    "messages_0['mess_diff'] = messages_0['messages_used_per_month'] - messages_0['messages_included']\n",
    "# для гб\n",
    "messages_0['int_diff'] = messages_0['gb_used_per_month'] - messages_0['mb_per_month_included']/1024\n",
    "# для звонков\n",
    "messages_0['calls_diff'] = messages_0['duration_calls_per_month'] - messages_0['minutes_included']\n",
    "\n",
    "\n",
    "# ----------------------------------------\n",
    "# создадим по колонке с переплатой за сообщения / интернет / звонки\n",
    "messages_0['overpay_mess'] = [0]*len(messages_0)\n",
    "messages_0.loc[messages_0['mess_diff'] > 0, 'overpay_mess'] = messages_0['mess_diff']*messages_0['rub_per_message']\n",
    "\n",
    "messages_0['overpay_calls'] = [0]*len(messages_0)\n",
    "messages_0.loc[messages_0['calls_diff'] > 0, 'overpay_calls'] = messages_0['calls_diff']*messages_0['rub_per_minute']\n",
    "\n",
    "\n",
    "messages_0['overpay_int'] = [0]*len(messages_0)\n",
    "messages_0.loc[messages_0['int_diff'] > 0, 'overpay_int'] = np.ceil(messages_0['int_diff'])*messages_0['rub_per_gb']"
   ]
  },
  {
   "cell_type": "code",
   "execution_count": 35,
   "metadata": {},
   "outputs": [],
   "source": [
    "\n",
    "# и наконец создадим столбец с итоговой оплатой за месяц\n",
    "# это сумма переплат и абонентской платы\n",
    "\n",
    "messages_0['total_pay_per_month'] = \\\n",
    "messages_0['rub_monthly_fee'] + messages_0['overpay_mess']+ messages_0['overpay_calls']+ messages_0['overpay_int']"
   ]
  },
  {
   "cell_type": "code",
   "execution_count": 36,
   "metadata": {},
   "outputs": [],
   "source": [
    "# создадим отдельный датаврейм с нужными колонками\n",
    "clients = messages_0.loc[:,['user_id', 'month', 'tariff', \n",
    "       'messages_used_per_month', 'duration_calls_per_month',\n",
    "       'mb_used_per_month','gb_used_per_month' ,'overpay_mess', 'overpay_calls', 'overpay_int', 'total_pay_per_month']]"
   ]
  },
  {
   "cell_type": "code",
   "execution_count": 37,
   "metadata": {
    "scrolled": false
   },
   "outputs": [
    {
     "data": {
      "text/html": [
       "<div>\n",
       "<style scoped>\n",
       "    .dataframe tbody tr th:only-of-type {\n",
       "        vertical-align: middle;\n",
       "    }\n",
       "\n",
       "    .dataframe tbody tr th {\n",
       "        vertical-align: top;\n",
       "    }\n",
       "\n",
       "    .dataframe thead th {\n",
       "        text-align: right;\n",
       "    }\n",
       "</style>\n",
       "<table border=\"1\" class=\"dataframe\">\n",
       "  <thead>\n",
       "    <tr style=\"text-align: right;\">\n",
       "      <th></th>\n",
       "      <th>user_id</th>\n",
       "      <th>month</th>\n",
       "      <th>tariff</th>\n",
       "      <th>messages_used_per_month</th>\n",
       "      <th>duration_calls_per_month</th>\n",
       "      <th>mb_used_per_month</th>\n",
       "      <th>gb_used_per_month</th>\n",
       "      <th>overpay_mess</th>\n",
       "      <th>overpay_calls</th>\n",
       "      <th>overpay_int</th>\n",
       "      <th>total_pay_per_month</th>\n",
       "    </tr>\n",
       "  </thead>\n",
       "  <tbody>\n",
       "    <tr>\n",
       "      <th>0</th>\n",
       "      <td>1000</td>\n",
       "      <td>6</td>\n",
       "      <td>ultra</td>\n",
       "      <td>60.0</td>\n",
       "      <td>172.0</td>\n",
       "      <td>23234.0</td>\n",
       "      <td>23.0</td>\n",
       "      <td>0.0</td>\n",
       "      <td>0.0</td>\n",
       "      <td>0.0</td>\n",
       "      <td>1950.0</td>\n",
       "    </tr>\n",
       "    <tr>\n",
       "      <th>60</th>\n",
       "      <td>1000</td>\n",
       "      <td>10</td>\n",
       "      <td>ultra</td>\n",
       "      <td>73.0</td>\n",
       "      <td>350.0</td>\n",
       "      <td>14703.0</td>\n",
       "      <td>15.0</td>\n",
       "      <td>0.0</td>\n",
       "      <td>0.0</td>\n",
       "      <td>0.0</td>\n",
       "      <td>1950.0</td>\n",
       "    </tr>\n",
       "    <tr>\n",
       "      <th>133</th>\n",
       "      <td>1000</td>\n",
       "      <td>8</td>\n",
       "      <td>ultra</td>\n",
       "      <td>81.0</td>\n",
       "      <td>408.0</td>\n",
       "      <td>14056.0</td>\n",
       "      <td>14.0</td>\n",
       "      <td>0.0</td>\n",
       "      <td>0.0</td>\n",
       "      <td>0.0</td>\n",
       "      <td>1950.0</td>\n",
       "    </tr>\n",
       "    <tr>\n",
       "      <th>214</th>\n",
       "      <td>1000</td>\n",
       "      <td>12</td>\n",
       "      <td>ultra</td>\n",
       "      <td>70.0</td>\n",
       "      <td>333.0</td>\n",
       "      <td>9818.0</td>\n",
       "      <td>10.0</td>\n",
       "      <td>0.0</td>\n",
       "      <td>0.0</td>\n",
       "      <td>0.0</td>\n",
       "      <td>1950.0</td>\n",
       "    </tr>\n",
       "    <tr>\n",
       "      <th>284</th>\n",
       "      <td>1000</td>\n",
       "      <td>11</td>\n",
       "      <td>ultra</td>\n",
       "      <td>58.0</td>\n",
       "      <td>338.0</td>\n",
       "      <td>14757.0</td>\n",
       "      <td>15.0</td>\n",
       "      <td>0.0</td>\n",
       "      <td>0.0</td>\n",
       "      <td>0.0</td>\n",
       "      <td>1950.0</td>\n",
       "    </tr>\n",
       "    <tr>\n",
       "      <th>...</th>\n",
       "      <td>...</td>\n",
       "      <td>...</td>\n",
       "      <td>...</td>\n",
       "      <td>...</td>\n",
       "      <td>...</td>\n",
       "      <td>...</td>\n",
       "      <td>...</td>\n",
       "      <td>...</td>\n",
       "      <td>...</td>\n",
       "      <td>...</td>\n",
       "      <td>...</td>\n",
       "    </tr>\n",
       "    <tr>\n",
       "      <th>123528</th>\n",
       "      <td>1494</td>\n",
       "      <td>9</td>\n",
       "      <td>smart</td>\n",
       "      <td>NaN</td>\n",
       "      <td>501.0</td>\n",
       "      <td>16963.0</td>\n",
       "      <td>17.0</td>\n",
       "      <td>0.0</td>\n",
       "      <td>3.0</td>\n",
       "      <td>400.0</td>\n",
       "      <td>953.0</td>\n",
       "    </tr>\n",
       "    <tr>\n",
       "      <th>123529</th>\n",
       "      <td>1494</td>\n",
       "      <td>10</td>\n",
       "      <td>smart</td>\n",
       "      <td>NaN</td>\n",
       "      <td>354.0</td>\n",
       "      <td>17768.0</td>\n",
       "      <td>18.0</td>\n",
       "      <td>0.0</td>\n",
       "      <td>0.0</td>\n",
       "      <td>600.0</td>\n",
       "      <td>1150.0</td>\n",
       "    </tr>\n",
       "    <tr>\n",
       "      <th>123530</th>\n",
       "      <td>1494</td>\n",
       "      <td>11</td>\n",
       "      <td>smart</td>\n",
       "      <td>NaN</td>\n",
       "      <td>411.0</td>\n",
       "      <td>18053.0</td>\n",
       "      <td>18.0</td>\n",
       "      <td>0.0</td>\n",
       "      <td>0.0</td>\n",
       "      <td>600.0</td>\n",
       "      <td>1150.0</td>\n",
       "    </tr>\n",
       "    <tr>\n",
       "      <th>123531</th>\n",
       "      <td>1494</td>\n",
       "      <td>12</td>\n",
       "      <td>smart</td>\n",
       "      <td>NaN</td>\n",
       "      <td>418.0</td>\n",
       "      <td>17622.0</td>\n",
       "      <td>18.0</td>\n",
       "      <td>0.0</td>\n",
       "      <td>0.0</td>\n",
       "      <td>600.0</td>\n",
       "      <td>1150.0</td>\n",
       "    </tr>\n",
       "    <tr>\n",
       "      <th>123532</th>\n",
       "      <td>1476</td>\n",
       "      <td>4</td>\n",
       "      <td>ultra</td>\n",
       "      <td>NaN</td>\n",
       "      <td>NaN</td>\n",
       "      <td>531.0</td>\n",
       "      <td>1.0</td>\n",
       "      <td>0.0</td>\n",
       "      <td>0.0</td>\n",
       "      <td>0.0</td>\n",
       "      <td>1950.0</td>\n",
       "    </tr>\n",
       "  </tbody>\n",
       "</table>\n",
       "<p>3214 rows × 11 columns</p>\n",
       "</div>"
      ],
      "text/plain": [
       "        user_id  month tariff  messages_used_per_month  \\\n",
       "0          1000      6  ultra                     60.0   \n",
       "60         1000     10  ultra                     73.0   \n",
       "133        1000      8  ultra                     81.0   \n",
       "214        1000     12  ultra                     70.0   \n",
       "284        1000     11  ultra                     58.0   \n",
       "...         ...    ...    ...                      ...   \n",
       "123528     1494      9  smart                      NaN   \n",
       "123529     1494     10  smart                      NaN   \n",
       "123530     1494     11  smart                      NaN   \n",
       "123531     1494     12  smart                      NaN   \n",
       "123532     1476      4  ultra                      NaN   \n",
       "\n",
       "        duration_calls_per_month  mb_used_per_month  gb_used_per_month  \\\n",
       "0                          172.0            23234.0               23.0   \n",
       "60                         350.0            14703.0               15.0   \n",
       "133                        408.0            14056.0               14.0   \n",
       "214                        333.0             9818.0               10.0   \n",
       "284                        338.0            14757.0               15.0   \n",
       "...                          ...                ...                ...   \n",
       "123528                     501.0            16963.0               17.0   \n",
       "123529                     354.0            17768.0               18.0   \n",
       "123530                     411.0            18053.0               18.0   \n",
       "123531                     418.0            17622.0               18.0   \n",
       "123532                       NaN              531.0                1.0   \n",
       "\n",
       "        overpay_mess  overpay_calls  overpay_int  total_pay_per_month  \n",
       "0                0.0            0.0          0.0               1950.0  \n",
       "60               0.0            0.0          0.0               1950.0  \n",
       "133              0.0            0.0          0.0               1950.0  \n",
       "214              0.0            0.0          0.0               1950.0  \n",
       "284              0.0            0.0          0.0               1950.0  \n",
       "...              ...            ...          ...                  ...  \n",
       "123528           0.0            3.0        400.0                953.0  \n",
       "123529           0.0            0.0        600.0               1150.0  \n",
       "123530           0.0            0.0        600.0               1150.0  \n",
       "123531           0.0            0.0        600.0               1150.0  \n",
       "123532           0.0            0.0          0.0               1950.0  \n",
       "\n",
       "[3214 rows x 11 columns]"
      ]
     },
     "execution_count": 37,
     "metadata": {},
     "output_type": "execute_result"
    }
   ],
   "source": [
    "# итоговая таблица\n",
    "clients"
   ]
  },
  {
   "cell_type": "markdown",
   "metadata": {},
   "source": [
    "Получили таблицу в которой для каждого пользователя посчитаны израсходованные по тарифу и сверх тарифа показатели, какой была переплата и итоговую выручку с каждого пользователя"
   ]
  },
  {
   "cell_type": "code",
   "execution_count": null,
   "metadata": {},
   "outputs": [],
   "source": []
  },
  {
   "cell_type": "markdown",
   "metadata": {},
   "source": [
    "## Проанализируем данные\n",
    "\n",
    "Найдём:\n",
    "\n",
    "* Сколько минут разговора, сколько сообщений и какой объём интернет-трафика требуется пользователям каждого тарифа в месяц? \n",
    "\n",
    "* Посчитаем среднее количество, дисперсию и стандартное отклонение. + гистограммы. "
   ]
  },
  {
   "cell_type": "code",
   "execution_count": 38,
   "metadata": {},
   "outputs": [],
   "source": [
    "# делим данные по двум тарифам\n",
    "smart = clients[clients['tariff'] == 'smart']\n",
    "ultra = clients[clients['tariff'] == 'ultra']"
   ]
  },
  {
   "cell_type": "markdown",
   "metadata": {},
   "source": [
    "### SMART\n",
    "Будем считать статистики для ГС"
   ]
  },
  {
   "cell_type": "markdown",
   "metadata": {},
   "source": [
    "#### Сообщения"
   ]
  },
  {
   "cell_type": "code",
   "execution_count": 39,
   "metadata": {},
   "outputs": [
    {
     "data": {
      "text/plain": [
       "<AxesSubplot:>"
      ]
     },
     "execution_count": 39,
     "metadata": {},
     "output_type": "execute_result"
    },
    {
     "data": {
      "image/png": "[encoded data removed]",
      "text/plain": [
       "<Figure size 432x288 with 1 Axes>"
      ]
     },
     "metadata": {
      "needs_background": "light"
     },
     "output_type": "display_data"
    }
   ],
   "source": [
    "# Распределение использованных сообщений - близко к распределению пуассона\n",
    "smart['messages_used_per_month'].hist(bins = 30)"
   ]
  },
  {
   "cell_type": "code",
   "execution_count": 40,
   "metadata": {},
   "outputs": [
    {
     "data": {
      "text/plain": [
       "count    1922.000000\n",
       "mean       38.716441\n",
       "std        26.787949\n",
       "min         1.000000\n",
       "25%        17.000000\n",
       "50%        34.000000\n",
       "75%        55.000000\n",
       "max       143.000000\n",
       "Name: messages_used_per_month, dtype: float64"
      ]
     },
     "execution_count": 40,
     "metadata": {},
     "output_type": "execute_result"
    }
   ],
   "source": [
    "smart['messages_used_per_month'].describe()"
   ]
  },
  {
   "cell_type": "code",
   "execution_count": 41,
   "metadata": {},
   "outputs": [
    {
     "data": {
      "text/plain": [
       "717.2208431102254"
      ]
     },
     "execution_count": 41,
     "metadata": {},
     "output_type": "execute_result"
    }
   ],
   "source": [
    "np.var(smart['messages_used_per_month'])"
   ]
  },
  {
   "cell_type": "markdown",
   "metadata": {},
   "source": [
    "Видим что среднее = 39 сообщений/месяц\n",
    "\n",
    "Станд отклонение = примерно 26,7\n",
    "\n",
    "Дисперсия = 717"
   ]
  },
  {
   "cell_type": "markdown",
   "metadata": {},
   "source": [
    "##### Звонки"
   ]
  },
  {
   "cell_type": "code",
   "execution_count": 42,
   "metadata": {},
   "outputs": [
    {
     "data": {
      "text/plain": [
       "<AxesSubplot:>"
      ]
     },
     "execution_count": 42,
     "metadata": {},
     "output_type": "execute_result"
    },
    {
     "data": {
      "image/png": "[encoded data removed]",
      "text/plain": [
       "<Figure size 432x288 with 1 Axes>"
      ]
     },
     "metadata": {
      "needs_background": "light"
     },
     "output_type": "display_data"
    }
   ],
   "source": [
    "# распределение минут - ближе к нормальному\n",
    "smart['duration_calls_per_month'].hist(bins = 30)"
   ]
  },
  {
   "cell_type": "code",
   "execution_count": 43,
   "metadata": {},
   "outputs": [
    {
     "name": "stdout",
     "output_type": "stream",
     "text": [
      "35828.065309530335\n"
     ]
    },
    {
     "data": {
      "text/plain": [
       "count    2223.000000\n",
       "mean      419.062978\n",
       "std       189.325618\n",
       "min         0.000000\n",
       "25%       285.000000\n",
       "50%       423.000000\n",
       "75%       545.500000\n",
       "max      1435.000000\n",
       "Name: duration_calls_per_month, dtype: float64"
      ]
     },
     "execution_count": 43,
     "metadata": {},
     "output_type": "execute_result"
    }
   ],
   "source": [
    "print(np.var(smart['duration_calls_per_month']))\n",
    "smart['duration_calls_per_month'].describe()"
   ]
  },
  {
   "cell_type": "markdown",
   "metadata": {},
   "source": [
    "Среднее =  419\n",
    "\n",
    "Станд отклонение = 189\n",
    "\n",
    "Дисперсия = 35828"
   ]
  },
  {
   "cell_type": "code",
   "execution_count": null,
   "metadata": {},
   "outputs": [],
   "source": []
  },
  {
   "cell_type": "markdown",
   "metadata": {},
   "source": [
    "##### Интернет"
   ]
  },
  {
   "cell_type": "code",
   "execution_count": 44,
   "metadata": {},
   "outputs": [
    {
     "data": {
      "text/plain": [
       "<AxesSubplot:>"
      ]
     },
     "execution_count": 44,
     "metadata": {},
     "output_type": "execute_result"
    },
    {
     "data": {
      "image/png": "[encoded data removed]",
      "text/plain": [
       "<Figure size 432x288 with 1 Axes>"
      ]
     },
     "metadata": {
      "needs_background": "light"
     },
     "output_type": "display_data"
    }
   ],
   "source": [
    "# близко к нормальному\n",
    "smart['gb_used_per_month'].hist(bins = 30)"
   ]
  },
  {
   "cell_type": "code",
   "execution_count": 45,
   "metadata": {},
   "outputs": [
    {
     "name": "stdout",
     "output_type": "stream",
     "text": [
      "32.90897855432254\n"
     ]
    },
    {
     "data": {
      "text/plain": [
       "count    2228.000000\n",
       "mean       16.336176\n",
       "std         5.737923\n",
       "min         0.000000\n",
       "25%        13.000000\n",
       "50%        17.000000\n",
       "75%        20.000000\n",
       "max        38.000000\n",
       "Name: gb_used_per_month, dtype: float64"
      ]
     },
     "execution_count": 45,
     "metadata": {},
     "output_type": "execute_result"
    }
   ],
   "source": [
    "print(np.var(smart['gb_used_per_month']))\n",
    "smart['gb_used_per_month'].describe()\n"
   ]
  },
  {
   "cell_type": "markdown",
   "metadata": {},
   "source": [
    "Среднее =  16\n",
    "\n",
    "Станд отклонение = 5.7\n",
    "\n",
    "Дисперсия = 32"
   ]
  },
  {
   "cell_type": "markdown",
   "metadata": {},
   "source": [
    "### ULTRA\n",
    "\n",
    "Считаем всё аналогично"
   ]
  },
  {
   "cell_type": "markdown",
   "metadata": {},
   "source": [
    "#### Сообщения"
   ]
  },
  {
   "cell_type": "code",
   "execution_count": 46,
   "metadata": {},
   "outputs": [
    {
     "name": "stdout",
     "output_type": "stream",
     "text": [
      "2107.0055235156888\n"
     ]
    },
    {
     "data": {
      "text/plain": [
       "count    795.000000\n",
       "mean      61.161006\n",
       "std       45.931026\n",
       "min        1.000000\n",
       "25%       24.000000\n",
       "50%       51.000000\n",
       "75%       87.500000\n",
       "max      224.000000\n",
       "Name: messages_used_per_month, dtype: float64"
      ]
     },
     "execution_count": 46,
     "metadata": {},
     "output_type": "execute_result"
    }
   ],
   "source": [
    "print(np.var(ultra['messages_used_per_month']))\n",
    "ultra['messages_used_per_month'].describe()"
   ]
  },
  {
   "cell_type": "markdown",
   "metadata": {},
   "source": [
    "Среднее =  61\n",
    "\n",
    "Станд отклонение = 46\n",
    "\n",
    "Дисперсия = 2107"
   ]
  },
  {
   "cell_type": "code",
   "execution_count": 47,
   "metadata": {},
   "outputs": [
    {
     "data": {
      "text/plain": [
       "<AxesSubplot:>"
      ]
     },
     "execution_count": 47,
     "metadata": {},
     "output_type": "execute_result"
    },
    {
     "data": {
      "image/png": "[encoded data removed]",
      "text/plain": [
       "<Figure size 432x288 with 1 Axes>"
      ]
     },
     "metadata": {
      "needs_background": "light"
     },
     "output_type": "display_data"
    }
   ],
   "source": [
    "ultra['messages_used_per_month'].hist(bins = 30)"
   ]
  },
  {
   "cell_type": "markdown",
   "metadata": {},
   "source": [
    "#### Звонки"
   ]
  },
  {
   "cell_type": "code",
   "execution_count": 48,
   "metadata": {},
   "outputs": [
    {
     "name": "stdout",
     "output_type": "stream",
     "text": [
      "94104.36117385987\n"
     ]
    },
    {
     "data": {
      "text/plain": [
       "count     951.000000\n",
       "mean      545.451104\n",
       "std       306.925754\n",
       "min         0.000000\n",
       "25%       310.000000\n",
       "50%       528.000000\n",
       "75%       756.500000\n",
       "max      1673.000000\n",
       "Name: duration_calls_per_month, dtype: float64"
      ]
     },
     "execution_count": 48,
     "metadata": {},
     "output_type": "execute_result"
    }
   ],
   "source": [
    "print(np.var(ultra['duration_calls_per_month']))\n",
    "ultra['duration_calls_per_month'].describe()"
   ]
  },
  {
   "cell_type": "markdown",
   "metadata": {},
   "source": [
    "Среднее =  545\n",
    "\n",
    "Станд отклонение = 307\n",
    "\n",
    "Дисперсия = 94104"
   ]
  },
  {
   "cell_type": "code",
   "execution_count": 49,
   "metadata": {},
   "outputs": [
    {
     "data": {
      "text/plain": [
       "<AxesSubplot:>"
      ]
     },
     "execution_count": 49,
     "metadata": {},
     "output_type": "execute_result"
    },
    {
     "data": {
      "image/png": "[encoded data removed]",
      "text/plain": [
       "<Figure size 432x288 with 1 Axes>"
      ]
     },
     "metadata": {
      "needs_background": "light"
     },
     "output_type": "display_data"
    }
   ],
   "source": [
    "ultra['duration_calls_per_month'].hist(bins = 30)"
   ]
  },
  {
   "cell_type": "markdown",
   "metadata": {},
   "source": [
    "#### Интернет"
   ]
  },
  {
   "cell_type": "code",
   "execution_count": 50,
   "metadata": {},
   "outputs": [
    {
     "name": "stdout",
     "output_type": "stream",
     "text": [
      "94.05017330703485\n"
     ]
    },
    {
     "data": {
      "text/plain": [
       "count    975.000000\n",
       "mean      19.694359\n",
       "std        9.702924\n",
       "min        0.000000\n",
       "25%       12.000000\n",
       "50%       19.000000\n",
       "75%       27.000000\n",
       "max       49.000000\n",
       "Name: gb_used_per_month, dtype: float64"
      ]
     },
     "execution_count": 50,
     "metadata": {},
     "output_type": "execute_result"
    }
   ],
   "source": [
    "print(np.var(ultra['gb_used_per_month']))\n",
    "ultra['gb_used_per_month'].describe()"
   ]
  },
  {
   "cell_type": "code",
   "execution_count": 51,
   "metadata": {},
   "outputs": [
    {
     "data": {
      "text/plain": [
       "<AxesSubplot:>"
      ]
     },
     "execution_count": 51,
     "metadata": {},
     "output_type": "execute_result"
    },
    {
     "data": {
      "image/png": "[encoded data removed]",
      "text/plain": [
       "<Figure size 432x288 with 1 Axes>"
      ]
     },
     "metadata": {
      "needs_background": "light"
     },
     "output_type": "display_data"
    }
   ],
   "source": [
    "ultra['gb_used_per_month'].hist(bins = 30)"
   ]
  },
  {
   "cell_type": "markdown",
   "metadata": {},
   "source": [
    "Среднее =  19\n",
    "\n",
    "Станд отклонение = 9.7\n",
    "\n",
    "Дисперсия = 94"
   ]
  },
  {
   "cell_type": "markdown",
   "metadata": {},
   "source": [
    "## Гипотезы"
   ]
  },
  {
   "cell_type": "markdown",
   "metadata": {},
   "source": [
    "### Первая гипотеза -- сравниваем тарифы\n",
    "* средняя выручка пользователей тарифов «Ультра» и «Смарт» различаются;\n",
    "\n",
    "\n",
    "H_0 : Средняя выручка пользователей тарифов «Ультра» и «Смарт» одинаковы (равны) \n",
    "\n",
    "H_1 : Средняя выручка пользователей тарифов «Ультра» и «Смарт» не равны"
   ]
  },
  {
   "cell_type": "code",
   "execution_count": 52,
   "metadata": {},
   "outputs": [
    {
     "name": "stdout",
     "output_type": "stream",
     "text": [
      "Дисперсия выручки smart =  669485.2209234157\n"
     ]
    },
    {
     "data": {
      "image/png": "[encoded data removed]",
      "text/plain": [
       "<Figure size 576x288 with 1 Axes>"
      ]
     },
     "metadata": {
      "needs_background": "light"
     },
     "output_type": "display_data"
    }
   ],
   "source": [
    "# посмотрим на распределение выручки тарифа SMART и на дисперсию\n",
    "sns.displot(smart['total_pay_per_month'], kde=True, height=4, aspect=2, bins = 30)\n",
    "plt.title('распределение выручки тарифа SMART')\n",
    "print('Дисперсия выручки smart = ', np.var(smart['total_pay_per_month']))"
   ]
  },
  {
   "cell_type": "code",
   "execution_count": 53,
   "metadata": {},
   "outputs": [
    {
     "name": "stdout",
     "output_type": "stream",
     "text": [
      "Дисперсия выручки ultra =  141373.0732562024\n"
     ]
    },
    {
     "data": {
      "image/png": "[encoded data removed]",
      "text/plain": [
       "<Figure size 576x288 with 1 Axes>"
      ]
     },
     "metadata": {
      "needs_background": "light"
     },
     "output_type": "display_data"
    }
   ],
   "source": [
    "# а теперь ULTRA\n",
    "sns.displot(ultra['total_pay_per_month'], kde=True, height=4, aspect=2,bins = 30)\n",
    "plt.title('распределение выручки тарифа ultra')\n",
    "print('Дисперсия выручки ultra = ', np.var(ultra['total_pay_per_month']))"
   ]
  },
  {
   "cell_type": "markdown",
   "metadata": {},
   "source": [
    "Видим что пользователи SMART (Ежемесячная плата: 550 рублей) чаще выходят за пределы лимитов и переплачивают, а пользователям ULTRA обычно хватает базового пакета (Ежемесячная плата: 1950 рублей)\n",
    "\n",
    "Дисперсии не равны, тк пользователь не помеж использовать два тарифа одновременно - используем ttest_ind (для независимых выборок)"
   ]
  },
  {
   "cell_type": "code",
   "execution_count": 54,
   "metadata": {},
   "outputs": [
    {
     "data": {
      "text/plain": [
       "Ttest_indResult(statistic=-37.019021231454644, pvalue=4.2606313931076085e-250)"
      ]
     },
     "execution_count": 54,
     "metadata": {},
     "output_type": "execute_result"
    }
   ],
   "source": [
    "# задалим пороговое значение pvalue = 0,05\n",
    "stats.ttest_ind(smart['total_pay_per_month'], ultra['total_pay_per_month'], equal_var = False)"
   ]
  },
  {
   "cell_type": "markdown",
   "metadata": {},
   "source": [
    "---\n",
    "<div class=\"alert alert-info\">\n",
    " \n",
    "для порогового значения альфа = 0,05: \n",
    "   \n",
    "    \n",
    " p-value много меньше 0,05\n",
    "    \n",
    "   Можем отвергнуть нулевую гиполезу\n",
    "</div>\n",
    "\n",
    "---"
   ]
  },
  {
   "cell_type": "code",
   "execution_count": null,
   "metadata": {},
   "outputs": [],
   "source": []
  },
  {
   "cell_type": "markdown",
   "metadata": {},
   "source": [
    "### Вторая гипотеза -- сравниваем регионы\n",
    "\n",
    "* средняя выручка пользователей из Москвы отличается от выручки пользователей из других регионов.\n",
    "\n",
    "H_0 : средняя выручка пользователей из Москвы равна выручке пользователей из других регионов.\n",
    "\n",
    "H_1 : средняя выручка пользователей из Москвы не равна выручке пользователей из других регионов.\n"
   ]
  },
  {
   "cell_type": "code",
   "execution_count": 55,
   "metadata": {},
   "outputs": [
    {
     "data": {
      "text/html": [
       "<div>\n",
       "<style scoped>\n",
       "    .dataframe tbody tr th:only-of-type {\n",
       "        vertical-align: middle;\n",
       "    }\n",
       "\n",
       "    .dataframe tbody tr th {\n",
       "        vertical-align: top;\n",
       "    }\n",
       "\n",
       "    .dataframe thead th {\n",
       "        text-align: right;\n",
       "    }\n",
       "</style>\n",
       "<table border=\"1\" class=\"dataframe\">\n",
       "  <thead>\n",
       "    <tr style=\"text-align: right;\">\n",
       "      <th></th>\n",
       "      <th>user_id</th>\n",
       "      <th>month</th>\n",
       "      <th>tariff</th>\n",
       "      <th>messages_used_per_month</th>\n",
       "      <th>duration_calls_per_month</th>\n",
       "      <th>mb_used_per_month</th>\n",
       "      <th>gb_used_per_month</th>\n",
       "      <th>overpay_mess</th>\n",
       "      <th>overpay_calls</th>\n",
       "      <th>overpay_int</th>\n",
       "      <th>total_pay_per_month</th>\n",
       "    </tr>\n",
       "  </thead>\n",
       "  <tbody>\n",
       "    <tr>\n",
       "      <th>0</th>\n",
       "      <td>1000</td>\n",
       "      <td>6</td>\n",
       "      <td>ultra</td>\n",
       "      <td>60.0</td>\n",
       "      <td>172.0</td>\n",
       "      <td>23234.0</td>\n",
       "      <td>23.0</td>\n",
       "      <td>0.0</td>\n",
       "      <td>0.0</td>\n",
       "      <td>0.0</td>\n",
       "      <td>1950.0</td>\n",
       "    </tr>\n",
       "    <tr>\n",
       "      <th>60</th>\n",
       "      <td>1000</td>\n",
       "      <td>10</td>\n",
       "      <td>ultra</td>\n",
       "      <td>73.0</td>\n",
       "      <td>350.0</td>\n",
       "      <td>14703.0</td>\n",
       "      <td>15.0</td>\n",
       "      <td>0.0</td>\n",
       "      <td>0.0</td>\n",
       "      <td>0.0</td>\n",
       "      <td>1950.0</td>\n",
       "    </tr>\n",
       "    <tr>\n",
       "      <th>133</th>\n",
       "      <td>1000</td>\n",
       "      <td>8</td>\n",
       "      <td>ultra</td>\n",
       "      <td>81.0</td>\n",
       "      <td>408.0</td>\n",
       "      <td>14056.0</td>\n",
       "      <td>14.0</td>\n",
       "      <td>0.0</td>\n",
       "      <td>0.0</td>\n",
       "      <td>0.0</td>\n",
       "      <td>1950.0</td>\n",
       "    </tr>\n",
       "  </tbody>\n",
       "</table>\n",
       "</div>"
      ],
      "text/plain": [
       "     user_id  month tariff  messages_used_per_month  duration_calls_per_month  \\\n",
       "0       1000      6  ultra                     60.0                     172.0   \n",
       "60      1000     10  ultra                     73.0                     350.0   \n",
       "133     1000      8  ultra                     81.0                     408.0   \n",
       "\n",
       "     mb_used_per_month  gb_used_per_month  overpay_mess  overpay_calls  \\\n",
       "0              23234.0               23.0           0.0            0.0   \n",
       "60             14703.0               15.0           0.0            0.0   \n",
       "133            14056.0               14.0           0.0            0.0   \n",
       "\n",
       "     overpay_int  total_pay_per_month  \n",
       "0            0.0               1950.0  \n",
       "60           0.0               1950.0  \n",
       "133          0.0               1950.0  "
      ]
     },
     "execution_count": 55,
     "metadata": {},
     "output_type": "execute_result"
    }
   ],
   "source": [
    "clients.head(3)\n",
    "# в таблице нет данных о регионе, нужно добавить их"
   ]
  },
  {
   "cell_type": "code",
   "execution_count": 56,
   "metadata": {},
   "outputs": [
    {
     "data": {
      "text/html": [
       "<div>\n",
       "<style scoped>\n",
       "    .dataframe tbody tr th:only-of-type {\n",
       "        vertical-align: middle;\n",
       "    }\n",
       "\n",
       "    .dataframe tbody tr th {\n",
       "        vertical-align: top;\n",
       "    }\n",
       "\n",
       "    .dataframe thead th {\n",
       "        text-align: right;\n",
       "    }\n",
       "</style>\n",
       "<table border=\"1\" class=\"dataframe\">\n",
       "  <thead>\n",
       "    <tr style=\"text-align: right;\">\n",
       "      <th></th>\n",
       "      <th>user_id</th>\n",
       "      <th>month</th>\n",
       "      <th>tariff</th>\n",
       "      <th>messages_used_per_month</th>\n",
       "      <th>duration_calls_per_month</th>\n",
       "      <th>mb_used_per_month</th>\n",
       "      <th>gb_used_per_month</th>\n",
       "      <th>overpay_mess</th>\n",
       "      <th>overpay_calls</th>\n",
       "      <th>overpay_int</th>\n",
       "      <th>total_pay_per_month</th>\n",
       "      <th>city</th>\n",
       "    </tr>\n",
       "  </thead>\n",
       "  <tbody>\n",
       "    <tr>\n",
       "      <th>0</th>\n",
       "      <td>1000</td>\n",
       "      <td>6</td>\n",
       "      <td>ultra</td>\n",
       "      <td>60.0</td>\n",
       "      <td>172.0</td>\n",
       "      <td>23234.0</td>\n",
       "      <td>23.0</td>\n",
       "      <td>0.0</td>\n",
       "      <td>0.0</td>\n",
       "      <td>0.0</td>\n",
       "      <td>1950.0</td>\n",
       "      <td>Краснодар</td>\n",
       "    </tr>\n",
       "    <tr>\n",
       "      <th>1</th>\n",
       "      <td>1000</td>\n",
       "      <td>10</td>\n",
       "      <td>ultra</td>\n",
       "      <td>73.0</td>\n",
       "      <td>350.0</td>\n",
       "      <td>14703.0</td>\n",
       "      <td>15.0</td>\n",
       "      <td>0.0</td>\n",
       "      <td>0.0</td>\n",
       "      <td>0.0</td>\n",
       "      <td>1950.0</td>\n",
       "      <td>Краснодар</td>\n",
       "    </tr>\n",
       "    <tr>\n",
       "      <th>2</th>\n",
       "      <td>1000</td>\n",
       "      <td>8</td>\n",
       "      <td>ultra</td>\n",
       "      <td>81.0</td>\n",
       "      <td>408.0</td>\n",
       "      <td>14056.0</td>\n",
       "      <td>14.0</td>\n",
       "      <td>0.0</td>\n",
       "      <td>0.0</td>\n",
       "      <td>0.0</td>\n",
       "      <td>1950.0</td>\n",
       "      <td>Краснодар</td>\n",
       "    </tr>\n",
       "  </tbody>\n",
       "</table>\n",
       "</div>"
      ],
      "text/plain": [
       "   user_id  month tariff  messages_used_per_month  duration_calls_per_month  \\\n",
       "0     1000      6  ultra                     60.0                     172.0   \n",
       "1     1000     10  ultra                     73.0                     350.0   \n",
       "2     1000      8  ultra                     81.0                     408.0   \n",
       "\n",
       "   mb_used_per_month  gb_used_per_month  overpay_mess  overpay_calls  \\\n",
       "0            23234.0               23.0           0.0            0.0   \n",
       "1            14703.0               15.0           0.0            0.0   \n",
       "2            14056.0               14.0           0.0            0.0   \n",
       "\n",
       "   overpay_int  total_pay_per_month       city  \n",
       "0          0.0               1950.0  Краснодар  \n",
       "1          0.0               1950.0  Краснодар  \n",
       "2          0.0               1950.0  Краснодар  "
      ]
     },
     "execution_count": 56,
     "metadata": {},
     "output_type": "execute_result"
    }
   ],
   "source": [
    "clients = clients.merge(users[['user_id', 'city']], how = 'left', on = 'user_id')\n",
    "clients.head(3)"
   ]
  },
  {
   "cell_type": "code",
   "execution_count": 57,
   "metadata": {},
   "outputs": [],
   "source": [
    "# поделим данные\n",
    "clients_m = clients.query('city == \"Москва\" ')\n",
    "clients_o = clients.query('city != \"Москва\" ')"
   ]
  },
  {
   "cell_type": "code",
   "execution_count": 58,
   "metadata": {},
   "outputs": [
    {
     "name": "stdout",
     "output_type": "stream",
     "text": [
      "дисперсия =  564710.7117467268\n"
     ]
    },
    {
     "data": {
      "text/plain": [
       "count     611.000000\n",
       "mean     1546.713584\n",
       "std       752.088071\n",
       "min       550.000000\n",
       "25%       780.500000\n",
       "50%      1750.000000\n",
       "75%      1950.000000\n",
       "max      5321.000000\n",
       "Name: total_pay_per_month, dtype: float64"
      ]
     },
     "execution_count": 58,
     "metadata": {},
     "output_type": "execute_result"
    },
    {
     "data": {
      "image/png": "[encoded data removed]",
      "text/plain": [
       "<Figure size 576x288 with 1 Axes>"
      ]
     },
     "metadata": {
      "needs_background": "light"
     },
     "output_type": "display_data"
    }
   ],
   "source": [
    "# посмтрим на распределения\n",
    "sns.displot(clients_m['total_pay_per_month'], kde=True, height=4, aspect=2, bins = 30)\n",
    "plt.title('Распределение ежемесячной выручки по Москве')\n",
    "print('дисперсия = ', np.var(clients_m['total_pay_per_month']))\n",
    "clients_m['total_pay_per_month'].describe()"
   ]
  },
  {
   "cell_type": "code",
   "execution_count": 59,
   "metadata": {},
   "outputs": [
    {
     "name": "stdout",
     "output_type": "stream",
     "text": [
      "дисперсия =  653886.3270894113\n"
     ]
    },
    {
     "data": {
      "image/png": "[encoded data removed]",
      "text/plain": [
       "<Figure size 576x288 with 1 Axes>"
      ]
     },
     "metadata": {
      "needs_background": "light"
     },
     "output_type": "display_data"
    }
   ],
   "source": [
    "sns.displot(clients_o['total_pay_per_month'], kde=True, height=4, aspect=2, bins = 30)\n",
    "plt.title('Распределение ежемесячной выручки не в Москве')\n",
    "print('дисперсия = ', np.var(clients_o['total_pay_per_month']))\n"
   ]
  },
  {
   "cell_type": "markdown",
   "metadata": {},
   "source": [
    "Видим что наши данные далеки от нормального распределения"
   ]
  },
  {
   "cell_type": "code",
   "execution_count": 60,
   "metadata": {},
   "outputs": [
    {
     "data": {
      "text/plain": [
       "1.1579146818721113"
      ]
     },
     "execution_count": 60,
     "metadata": {},
     "output_type": "execute_result"
    }
   ],
   "source": [
    "653886 / 564710\n",
    "# дисперсии отличаются на 15 процентов, не можем считать их равными"
   ]
  },
  {
   "cell_type": "markdown",
   "metadata": {},
   "source": [
    "**Проводим тесты**\n",
    "\n",
    "можем провести т-тест, но опираться на него не стоит"
   ]
  },
  {
   "cell_type": "code",
   "execution_count": 61,
   "metadata": {},
   "outputs": [
    {
     "data": {
      "text/plain": [
       "Ttest_indResult(statistic=-0.6347555055229303, pvalue=0.5257376663729298)"
      ]
     },
     "execution_count": 61,
     "metadata": {},
     "output_type": "execute_result"
    }
   ],
   "source": [
    "stats.ttest_ind(clients_o['total_pay_per_month'], clients_m['total_pay_per_month'], equal_var = False)"
   ]
  },
  {
   "cell_type": "markdown",
   "metadata": {},
   "source": [
    "p-value = 0,52 достаточно большой"
   ]
  },
  {
   "cell_type": "markdown",
   "metadata": {},
   "source": [
    "\n",
    "<div class=\"alert alert-info\">\n",
    "значит что с вероятностью 0,52 можем получить такое или ещё большее различие случайно\n",
    "    \n",
    "    наши выборки не близки к нормальному распределению, проведём ещё тесты\n",
    "\n",
    "например U-тест Манна-Уитни для ненормально распределенных данных\n",
    "</div>\n",
    "\n",
    "---"
   ]
  },
  {
   "cell_type": "code",
   "execution_count": 62,
   "metadata": {},
   "outputs": [
    {
     "data": {
      "text/plain": [
       "MannwhitneyuResult(statistic=777131.5, pvalue=0.18711697455182996)"
      ]
     },
     "execution_count": 62,
     "metadata": {},
     "output_type": "execute_result"
    }
   ],
   "source": [
    "stats.mannwhitneyu(clients_o['total_pay_per_month'], clients_m['total_pay_per_month'])"
   ]
  },
  {
   "cell_type": "code",
   "execution_count": 63,
   "metadata": {},
   "outputs": [
    {
     "data": {
      "text/plain": [
       "MannwhitneyuResult(statistic=777131.5, pvalue=0.18711697455182996)"
      ]
     },
     "execution_count": 63,
     "metadata": {},
     "output_type": "execute_result"
    }
   ],
   "source": [
    "stats.mannwhitneyu(clients_o['total_pay_per_month'], clients_m['total_pay_per_month'], alternative = 'less')"
   ]
  },
  {
   "cell_type": "markdown",
   "metadata": {},
   "source": [
    " p-value = 0.18\n",
    " \n",
    " С вероятностью 18 процентов мы можем получить такое или более сильное отклонение, нет оснований отвергать нулевую гпотезу"
   ]
  },
  {
   "cell_type": "markdown",
   "metadata": {},
   "source": [
    "## Общий вывод\n",
    "\n",
    "**в самом начале обнаружили что 74/500 пользователей не пользуются сообщениями (а это почти 15%)**\n",
    "\n",
    "Возможно нам стоит пересмотреть пакеты предложений"
   ]
  },
  {
   "cell_type": "markdown",
   "metadata": {},
   "source": [
    "### Сравниваем тарифы Smart VS Ultra\n",
    "\n",
    "**SMART**\n",
    "\n",
    "* СОБЩЕНИЯ (среднее = 29 сообщений/месяц, Дисперсия = 717)\n",
    "* ЗВОНКИ (Среднее = 419 минут/мес, Дисперсия = 35828)\n",
    "* ИНТЕРНЕТ (Среднее = 16 гб/мес, Дисперсия = 32)\n",
    "\n",
    "**ULTRA**\n",
    "\n",
    "* СОБЩЕНИЯ (среднее = 61 сообщений/месяц, Дисперсия = 2107)\n",
    "* ЗВОНКИ (Среднее = 545 минут/мес, Дисперсия = 94104)\n",
    "* ИНТЕРНЕТ (Среднее = 19 гб/мес, Дисперсия = 94)\n",
    "\n",
    "На тирифе ULTRA все средние показатели выше, и разброс больше"
   ]
  },
  {
   "cell_type": "markdown",
   "metadata": {},
   "source": [
    "####  Первая гипотеза -- сравниваем тарифы. Получили что:\n",
    "\n",
    "* средняя выручка пользователей тарифов «Ультра» и «Смарт» различаются (ultra - пользователи платят значительно больше)\n",
    "\n",
    "####  Вторая гипотеза -- сравниваем регионы. Получили что:\n",
    "\n",
    "* средняя выручка пользователей из Москвы не отличается от выручки пользователей из других регионов (p-value = 0.18)\n",
    "\n"
   ]
  },
  {
   "cell_type": "markdown",
   "metadata": {},
   "source": [
    "---\n",
    "\n",
    "<div class=\"alert alert-info\"> \n",
    " Рекомендации :\n",
    "    тк пользователи SMART (Ежемесячная плата: 550 рублей) чаще выходят за пределы лимитов и переплачивают чем пользователи ULTRA, то тем, кто делает это на регулярной основе стоит предложить им перейти на тариф Ультра\n",
    "</div>\n",
    "\n",
    "---"
   ]
  }
 ],
 "metadata": {
  "ExecuteTimeLog": [
   {
    "duration": 505,
    "start_time": "2022-04-05T09:20:07.291Z"
   },
   {
    "duration": 1341,
    "start_time": "2022-04-05T09:20:48.669Z"
   },
   {
    "duration": 239,
    "start_time": "2022-04-05T09:21:16.436Z"
   },
   {
    "duration": 546,
    "start_time": "2022-04-05T09:22:45.704Z"
   },
   {
    "duration": 11,
    "start_time": "2022-04-05T09:23:05.202Z"
   },
   {
    "duration": 12,
    "start_time": "2022-04-05T09:23:18.561Z"
   },
   {
    "duration": 10,
    "start_time": "2022-04-05T09:23:25.326Z"
   },
   {
    "duration": 12,
    "start_time": "2022-04-05T09:23:34.287Z"
   },
   {
    "duration": 15,
    "start_time": "2022-04-05T09:23:40.510Z"
   },
   {
    "duration": 10,
    "start_time": "2022-04-05T09:24:59.656Z"
   },
   {
    "duration": 11,
    "start_time": "2022-04-05T09:26:34.296Z"
   },
   {
    "duration": 11,
    "start_time": "2022-04-05T09:26:37.157Z"
   },
   {
    "duration": 11,
    "start_time": "2022-04-05T09:26:40.521Z"
   },
   {
    "duration": 17,
    "start_time": "2022-04-05T09:26:46.058Z"
   },
   {
    "duration": 14,
    "start_time": "2022-04-05T09:26:48.427Z"
   },
   {
    "duration": 16,
    "start_time": "2022-04-05T09:27:39.925Z"
   },
   {
    "duration": 50,
    "start_time": "2022-04-05T09:27:45.055Z"
   },
   {
    "duration": 16,
    "start_time": "2022-04-05T09:28:03.190Z"
   },
   {
    "duration": 8,
    "start_time": "2022-04-05T09:28:35.704Z"
   },
   {
    "duration": 46,
    "start_time": "2022-04-05T09:28:46.901Z"
   },
   {
    "duration": 34,
    "start_time": "2022-04-05T09:29:12.425Z"
   },
   {
    "duration": 45,
    "start_time": "2022-04-05T09:29:20.409Z"
   },
   {
    "duration": 27,
    "start_time": "2022-04-05T09:29:22.560Z"
   },
   {
    "duration": 43,
    "start_time": "2022-04-05T09:33:14.355Z"
   },
   {
    "duration": 19,
    "start_time": "2022-04-05T09:33:21.329Z"
   },
   {
    "duration": 35,
    "start_time": "2022-04-05T09:34:13.228Z"
   },
   {
    "duration": 23,
    "start_time": "2022-04-05T09:34:15.608Z"
   },
   {
    "duration": 21,
    "start_time": "2022-04-05T09:34:19.493Z"
   },
   {
    "duration": 27,
    "start_time": "2022-04-05T09:34:56.300Z"
   },
   {
    "duration": 14,
    "start_time": "2022-04-05T09:35:00.738Z"
   },
   {
    "duration": 35,
    "start_time": "2022-04-05T09:35:41.658Z"
   },
   {
    "duration": 20,
    "start_time": "2022-04-05T09:36:18.664Z"
   },
   {
    "duration": 20,
    "start_time": "2022-04-05T09:36:22.185Z"
   },
   {
    "duration": 6,
    "start_time": "2022-04-05T09:37:43.000Z"
   },
   {
    "duration": 14,
    "start_time": "2022-04-05T09:40:44.072Z"
   },
   {
    "duration": 12,
    "start_time": "2022-04-05T09:41:39.923Z"
   },
   {
    "duration": 22,
    "start_time": "2022-04-05T09:43:10.044Z"
   },
   {
    "duration": 4,
    "start_time": "2022-04-05T09:43:56.187Z"
   },
   {
    "duration": 6,
    "start_time": "2022-04-05T09:44:13.697Z"
   },
   {
    "duration": 8,
    "start_time": "2022-04-05T09:45:46.510Z"
   },
   {
    "duration": 23,
    "start_time": "2022-04-05T09:45:54.744Z"
   },
   {
    "duration": 4,
    "start_time": "2022-04-05T09:46:17.252Z"
   },
   {
    "duration": 31,
    "start_time": "2022-04-05T09:46:19.177Z"
   },
   {
    "duration": 5,
    "start_time": "2022-04-05T09:46:38.307Z"
   },
   {
    "duration": 23,
    "start_time": "2022-04-05T09:48:14.526Z"
   },
   {
    "duration": 20,
    "start_time": "2022-04-05T09:48:44.291Z"
   },
   {
    "duration": 8,
    "start_time": "2022-04-05T09:50:40.837Z"
   },
   {
    "duration": 143,
    "start_time": "2022-04-05T09:51:07.509Z"
   },
   {
    "duration": 160,
    "start_time": "2022-04-05T09:51:12.024Z"
   },
   {
    "duration": 487,
    "start_time": "2022-04-05T09:52:57.331Z"
   },
   {
    "duration": 12,
    "start_time": "2022-04-05T09:52:58.543Z"
   },
   {
    "duration": 88,
    "start_time": "2022-04-05T09:54:08.222Z"
   },
   {
    "duration": 108,
    "start_time": "2022-04-05T09:54:14.964Z"
   },
   {
    "duration": 109,
    "start_time": "2022-04-05T09:54:32.952Z"
   },
   {
    "duration": 18,
    "start_time": "2022-04-05T09:54:37.489Z"
   },
   {
    "duration": 13,
    "start_time": "2022-04-05T09:56:22.195Z"
   },
   {
    "duration": 57,
    "start_time": "2022-04-05T09:56:29.994Z"
   },
   {
    "duration": 3,
    "start_time": "2022-04-05T09:58:12.994Z"
   },
   {
    "duration": 132,
    "start_time": "2022-04-05T09:59:04.074Z"
   },
   {
    "duration": 90,
    "start_time": "2022-04-05T09:59:36.616Z"
   },
   {
    "duration": 32,
    "start_time": "2022-04-05T09:59:44.535Z"
   },
   {
    "duration": 88,
    "start_time": "2022-04-05T10:00:21.651Z"
   },
   {
    "duration": 16,
    "start_time": "2022-04-05T10:00:32.708Z"
   },
   {
    "duration": 41,
    "start_time": "2022-04-05T10:00:52.063Z"
   },
   {
    "duration": 16,
    "start_time": "2022-04-05T10:01:03.197Z"
   },
   {
    "duration": 15,
    "start_time": "2022-04-05T10:01:07.137Z"
   },
   {
    "duration": 16,
    "start_time": "2022-04-05T10:01:10.214Z"
   },
   {
    "duration": 16,
    "start_time": "2022-04-05T10:01:15.440Z"
   },
   {
    "duration": 6,
    "start_time": "2022-04-05T10:01:20.838Z"
   },
   {
    "duration": 6,
    "start_time": "2022-04-05T10:01:25.632Z"
   },
   {
    "duration": 23,
    "start_time": "2022-04-05T10:01:59.118Z"
   },
   {
    "duration": 20,
    "start_time": "2022-04-05T10:02:21.577Z"
   },
   {
    "duration": 102,
    "start_time": "2022-04-05T10:04:13.355Z"
   },
   {
    "duration": 86,
    "start_time": "2022-04-05T10:04:52.109Z"
   },
   {
    "duration": 85,
    "start_time": "2022-04-05T10:05:15.397Z"
   },
   {
    "duration": 4174,
    "start_time": "2022-04-05T10:05:21.554Z"
   },
   {
    "duration": 4998,
    "start_time": "2022-04-05T10:05:28.779Z"
   },
   {
    "duration": 2384,
    "start_time": "2022-04-05T10:05:54.530Z"
   },
   {
    "duration": 2245,
    "start_time": "2022-04-05T10:06:07.374Z"
   },
   {
    "duration": 22,
    "start_time": "2022-04-05T10:06:31.636Z"
   },
   {
    "duration": 24,
    "start_time": "2022-04-05T10:06:40.493Z"
   },
   {
    "duration": 26,
    "start_time": "2022-04-05T10:06:47.865Z"
   },
   {
    "duration": 23,
    "start_time": "2022-04-05T10:07:04.154Z"
   },
   {
    "duration": 2615,
    "start_time": "2022-04-05T10:07:16.131Z"
   },
   {
    "duration": 7,
    "start_time": "2022-04-05T10:07:21.678Z"
   },
   {
    "duration": 12,
    "start_time": "2022-04-05T10:07:25.404Z"
   },
   {
    "duration": 12,
    "start_time": "2022-04-05T10:07:30.147Z"
   },
   {
    "duration": 12,
    "start_time": "2022-04-05T10:07:33.193Z"
   },
   {
    "duration": 16,
    "start_time": "2022-04-05T10:07:41.305Z"
   },
   {
    "duration": 46,
    "start_time": "2022-04-05T10:07:48.258Z"
   },
   {
    "duration": 16,
    "start_time": "2022-04-05T10:07:58.731Z"
   },
   {
    "duration": 16,
    "start_time": "2022-04-05T10:08:02.490Z"
   },
   {
    "duration": 32,
    "start_time": "2022-04-05T10:08:05.900Z"
   },
   {
    "duration": 31,
    "start_time": "2022-04-05T10:10:44.611Z"
   },
   {
    "duration": 93,
    "start_time": "2022-04-05T10:11:32.813Z"
   },
   {
    "duration": 84,
    "start_time": "2022-04-05T10:11:41.702Z"
   },
   {
    "duration": 88,
    "start_time": "2022-04-05T10:11:59.144Z"
   },
   {
    "duration": 5,
    "start_time": "2022-04-05T10:12:09.482Z"
   },
   {
    "duration": 31,
    "start_time": "2022-04-05T10:12:12.419Z"
   },
   {
    "duration": 2303,
    "start_time": "2022-04-05T10:12:15.629Z"
   },
   {
    "duration": 13,
    "start_time": "2022-04-05T10:13:30.936Z"
   },
   {
    "duration": 170,
    "start_time": "2022-04-05T10:13:36.956Z"
   },
   {
    "duration": 12,
    "start_time": "2022-04-05T10:13:40.192Z"
   },
   {
    "duration": 84,
    "start_time": "2022-04-05T10:13:45.625Z"
   },
   {
    "duration": 13,
    "start_time": "2022-04-05T10:13:45.887Z"
   },
   {
    "duration": 4,
    "start_time": "2022-04-05T10:13:46.167Z"
   },
   {
    "duration": 30,
    "start_time": "2022-04-05T10:13:56.721Z"
   },
   {
    "duration": 19,
    "start_time": "2022-04-05T10:14:26.288Z"
   },
   {
    "duration": 8,
    "start_time": "2022-04-05T10:14:44.018Z"
   },
   {
    "duration": 7,
    "start_time": "2022-04-05T10:15:06.965Z"
   },
   {
    "duration": 26,
    "start_time": "2022-04-05T10:15:51.959Z"
   },
   {
    "duration": 7,
    "start_time": "2022-04-05T10:16:06.756Z"
   },
   {
    "duration": 6,
    "start_time": "2022-04-05T10:16:12.587Z"
   },
   {
    "duration": 9,
    "start_time": "2022-04-05T10:17:13.488Z"
   },
   {
    "duration": 18,
    "start_time": "2022-04-05T10:30:36.606Z"
   },
   {
    "duration": 121,
    "start_time": "2022-04-05T10:31:38.461Z"
   },
   {
    "duration": 8,
    "start_time": "2022-04-05T10:32:32.608Z"
   },
   {
    "duration": 7,
    "start_time": "2022-04-05T10:32:39.111Z"
   },
   {
    "duration": 12,
    "start_time": "2022-04-05T10:32:56.002Z"
   },
   {
    "duration": 143,
    "start_time": "2022-04-05T10:33:16.847Z"
   },
   {
    "duration": 63,
    "start_time": "2022-04-05T10:33:19.905Z"
   },
   {
    "duration": 863,
    "start_time": "2022-04-05T10:34:04.654Z"
   },
   {
    "duration": 787,
    "start_time": "2022-04-05T10:34:41.741Z"
   },
   {
    "duration": 1510,
    "start_time": "2022-04-05T10:34:50.727Z"
   },
   {
    "duration": 780,
    "start_time": "2022-04-05T10:35:03.078Z"
   },
   {
    "duration": 1898,
    "start_time": "2022-04-05T10:37:05.095Z"
   },
   {
    "duration": 7,
    "start_time": "2022-04-05T10:37:16.630Z"
   },
   {
    "duration": 6,
    "start_time": "2022-04-05T10:37:26.416Z"
   },
   {
    "duration": 17,
    "start_time": "2022-04-05T10:39:25.808Z"
   },
   {
    "duration": 17,
    "start_time": "2022-04-05T15:03:47.800Z"
   },
   {
    "duration": 18,
    "start_time": "2022-04-05T15:04:40.779Z"
   },
   {
    "duration": 8,
    "start_time": "2022-04-05T15:06:12.843Z"
   },
   {
    "duration": 11,
    "start_time": "2022-04-05T15:06:23.913Z"
   },
   {
    "duration": 4,
    "start_time": "2022-04-05T15:06:36.121Z"
   },
   {
    "duration": 12,
    "start_time": "2022-04-05T15:06:40.096Z"
   },
   {
    "duration": 79,
    "start_time": "2022-04-05T15:09:13.365Z"
   },
   {
    "duration": 8,
    "start_time": "2022-04-05T15:09:19.949Z"
   },
   {
    "duration": 17,
    "start_time": "2022-04-05T15:09:36.799Z"
   },
   {
    "duration": 75,
    "start_time": "2022-04-05T15:10:49.830Z"
   },
   {
    "duration": 19,
    "start_time": "2022-04-05T15:10:52.097Z"
   },
   {
    "duration": 62,
    "start_time": "2022-04-05T15:12:58.660Z"
   },
   {
    "duration": 11,
    "start_time": "2022-04-05T15:13:45.887Z"
   },
   {
    "duration": 39,
    "start_time": "2022-04-05T15:13:48.167Z"
   },
   {
    "duration": 1496,
    "start_time": "2022-04-05T15:13:48.345Z"
   },
   {
    "duration": 6,
    "start_time": "2022-04-05T15:13:58.259Z"
   },
   {
    "duration": 31,
    "start_time": "2022-04-05T15:14:10.534Z"
   },
   {
    "duration": 4,
    "start_time": "2022-04-05T15:15:21.996Z"
   },
   {
    "duration": 491,
    "start_time": "2022-04-05T15:15:22.003Z"
   },
   {
    "duration": 12,
    "start_time": "2022-04-05T15:15:22.496Z"
   },
   {
    "duration": 15,
    "start_time": "2022-04-05T15:15:22.510Z"
   },
   {
    "duration": 13,
    "start_time": "2022-04-05T15:15:22.528Z"
   },
   {
    "duration": 16,
    "start_time": "2022-04-05T15:15:22.543Z"
   },
   {
    "duration": 14,
    "start_time": "2022-04-05T15:15:22.574Z"
   },
   {
    "duration": 40,
    "start_time": "2022-04-05T15:15:22.590Z"
   },
   {
    "duration": 68,
    "start_time": "2022-04-05T15:15:22.632Z"
   },
   {
    "duration": 29,
    "start_time": "2022-04-05T15:15:22.703Z"
   },
   {
    "duration": 49,
    "start_time": "2022-04-05T15:15:22.735Z"
   },
   {
    "duration": 25,
    "start_time": "2022-04-05T15:15:22.787Z"
   },
   {
    "duration": 29,
    "start_time": "2022-04-05T15:15:22.816Z"
   },
   {
    "duration": 32,
    "start_time": "2022-04-05T15:15:22.848Z"
   },
   {
    "duration": 24,
    "start_time": "2022-04-05T15:15:22.882Z"
   },
   {
    "duration": 6,
    "start_time": "2022-04-05T15:15:22.908Z"
   },
   {
    "duration": 5,
    "start_time": "2022-04-05T15:15:22.917Z"
   },
   {
    "duration": 10,
    "start_time": "2022-04-05T15:15:22.925Z"
   },
   {
    "duration": 38,
    "start_time": "2022-04-05T15:15:22.937Z"
   },
   {
    "duration": 749,
    "start_time": "2022-04-05T15:15:22.977Z"
   },
   {
    "duration": 46,
    "start_time": "2022-04-05T15:15:23.728Z"
   },
   {
    "duration": 83,
    "start_time": "2022-04-05T15:15:23.776Z"
   },
   {
    "duration": 24,
    "start_time": "2022-04-05T15:15:23.861Z"
   },
   {
    "duration": 4,
    "start_time": "2022-04-05T15:15:23.888Z"
   },
   {
    "duration": 7,
    "start_time": "2022-04-05T15:15:23.894Z"
   },
   {
    "duration": 110,
    "start_time": "2022-04-05T15:15:23.903Z"
   },
   {
    "duration": 72,
    "start_time": "2022-04-05T15:15:24.015Z"
   },
   {
    "duration": 29,
    "start_time": "2022-04-05T15:15:49.710Z"
   },
   {
    "duration": 19,
    "start_time": "2022-04-05T15:16:01.670Z"
   },
   {
    "duration": 62,
    "start_time": "2022-04-05T15:17:04.889Z"
   },
   {
    "duration": 24,
    "start_time": "2022-04-05T15:17:42.795Z"
   },
   {
    "duration": 16,
    "start_time": "2022-04-05T15:19:00.225Z"
   },
   {
    "duration": 8,
    "start_time": "2022-04-05T15:19:17.553Z"
   },
   {
    "duration": 8,
    "start_time": "2022-04-05T15:19:40.380Z"
   },
   {
    "duration": 470,
    "start_time": "2022-04-05T15:20:26.721Z"
   },
   {
    "duration": 15,
    "start_time": "2022-04-05T15:20:48.763Z"
   },
   {
    "duration": 8,
    "start_time": "2022-04-05T15:21:32.449Z"
   },
   {
    "duration": 22,
    "start_time": "2022-04-05T15:21:37.168Z"
   },
   {
    "duration": 32,
    "start_time": "2022-04-05T15:21:58.756Z"
   },
   {
    "duration": 28,
    "start_time": "2022-04-05T15:22:08.161Z"
   },
   {
    "duration": 28,
    "start_time": "2022-04-05T15:22:15.842Z"
   },
   {
    "duration": 61,
    "start_time": "2022-04-05T15:23:33.044Z"
   },
   {
    "duration": 50,
    "start_time": "2022-04-05T15:24:05.152Z"
   },
   {
    "duration": 16,
    "start_time": "2022-04-05T15:24:35.016Z"
   },
   {
    "duration": 52,
    "start_time": "2022-04-05T15:24:51.074Z"
   },
   {
    "duration": 52,
    "start_time": "2022-04-05T15:24:55.769Z"
   },
   {
    "duration": 22,
    "start_time": "2022-04-05T15:28:09.284Z"
   },
   {
    "duration": 9,
    "start_time": "2022-04-05T15:29:06.666Z"
   },
   {
    "duration": 9,
    "start_time": "2022-04-05T15:29:12.959Z"
   },
   {
    "duration": 24,
    "start_time": "2022-04-05T15:31:02.025Z"
   },
   {
    "duration": 23,
    "start_time": "2022-04-05T15:31:08.559Z"
   },
   {
    "duration": 4,
    "start_time": "2022-04-05T15:31:24.823Z"
   },
   {
    "duration": 456,
    "start_time": "2022-04-05T15:31:24.830Z"
   },
   {
    "duration": 11,
    "start_time": "2022-04-05T15:31:25.288Z"
   },
   {
    "duration": 14,
    "start_time": "2022-04-05T15:31:25.301Z"
   },
   {
    "duration": 10,
    "start_time": "2022-04-05T15:31:25.318Z"
   },
   {
    "duration": 13,
    "start_time": "2022-04-05T15:31:25.330Z"
   },
   {
    "duration": 36,
    "start_time": "2022-04-05T15:31:25.345Z"
   },
   {
    "duration": 36,
    "start_time": "2022-04-05T15:31:25.383Z"
   },
   {
    "duration": 68,
    "start_time": "2022-04-05T15:31:25.421Z"
   },
   {
    "duration": 28,
    "start_time": "2022-04-05T15:31:25.491Z"
   },
   {
    "duration": 54,
    "start_time": "2022-04-05T15:31:25.522Z"
   },
   {
    "duration": 24,
    "start_time": "2022-04-05T15:31:25.579Z"
   },
   {
    "duration": 28,
    "start_time": "2022-04-05T15:31:25.605Z"
   },
   {
    "duration": 12,
    "start_time": "2022-04-05T15:31:25.637Z"
   },
   {
    "duration": 16,
    "start_time": "2022-04-05T15:31:25.674Z"
   },
   {
    "duration": 7,
    "start_time": "2022-04-05T15:31:25.692Z"
   },
   {
    "duration": 11,
    "start_time": "2022-04-05T15:31:25.701Z"
   },
   {
    "duration": 10,
    "start_time": "2022-04-05T15:31:25.715Z"
   },
   {
    "duration": 7,
    "start_time": "2022-04-05T15:31:25.727Z"
   },
   {
    "duration": 11,
    "start_time": "2022-04-05T15:31:25.774Z"
   },
   {
    "duration": 799,
    "start_time": "2022-04-05T15:31:25.787Z"
   },
   {
    "duration": 490,
    "start_time": "2022-04-05T15:31:26.589Z"
   },
   {
    "duration": 31,
    "start_time": "2022-04-05T15:31:27.081Z"
   },
   {
    "duration": 97,
    "start_time": "2022-04-05T15:31:27.115Z"
   },
   {
    "duration": 14,
    "start_time": "2022-04-05T15:31:27.214Z"
   },
   {
    "duration": 9,
    "start_time": "2022-04-05T15:31:27.230Z"
   },
   {
    "duration": 8,
    "start_time": "2022-04-05T15:31:27.241Z"
   },
   {
    "duration": 123,
    "start_time": "2022-04-05T15:31:27.251Z"
   },
   {
    "duration": 109,
    "start_time": "2022-04-05T15:31:27.376Z"
   },
   {
    "duration": 27,
    "start_time": "2022-04-05T15:31:27.487Z"
   },
   {
    "duration": 158,
    "start_time": "2022-04-05T15:31:27.516Z"
   },
   {
    "duration": 21,
    "start_time": "2022-04-05T15:31:47.704Z"
   },
   {
    "duration": 20,
    "start_time": "2022-04-05T15:32:01.317Z"
   },
   {
    "duration": 13,
    "start_time": "2022-04-05T15:32:06.799Z"
   },
   {
    "duration": 12,
    "start_time": "2022-04-05T15:32:36.420Z"
   },
   {
    "duration": 23,
    "start_time": "2022-04-05T15:33:07.921Z"
   },
   {
    "duration": 17,
    "start_time": "2022-04-05T15:33:20.309Z"
   },
   {
    "duration": 17,
    "start_time": "2022-04-05T15:33:27.375Z"
   },
   {
    "duration": 26,
    "start_time": "2022-04-05T15:33:40.849Z"
   },
   {
    "duration": 19,
    "start_time": "2022-04-05T15:33:41.945Z"
   },
   {
    "duration": 13,
    "start_time": "2022-04-05T15:36:21.320Z"
   },
   {
    "duration": 61,
    "start_time": "2022-04-05T15:36:29.902Z"
   },
   {
    "duration": 60,
    "start_time": "2022-04-05T15:37:03.269Z"
   },
   {
    "duration": 28,
    "start_time": "2022-04-05T15:37:06.004Z"
   },
   {
    "duration": 29,
    "start_time": "2022-04-05T15:37:13.718Z"
   },
   {
    "duration": 30,
    "start_time": "2022-04-05T15:37:16.907Z"
   },
   {
    "duration": 29,
    "start_time": "2022-04-05T15:39:06.380Z"
   },
   {
    "duration": 42,
    "start_time": "2022-04-05T15:39:14.812Z"
   },
   {
    "duration": 30,
    "start_time": "2022-04-05T15:39:18.104Z"
   },
   {
    "duration": 123,
    "start_time": "2022-04-05T15:40:19.489Z"
   },
   {
    "duration": 19,
    "start_time": "2022-04-05T15:40:22.762Z"
   },
   {
    "duration": 45,
    "start_time": "2022-04-05T15:40:48.260Z"
   },
   {
    "duration": 22,
    "start_time": "2022-04-05T15:41:03.357Z"
   },
   {
    "duration": 24,
    "start_time": "2022-04-05T15:41:13.159Z"
   },
   {
    "duration": 40,
    "start_time": "2022-04-05T15:41:22.800Z"
   },
   {
    "duration": 4,
    "start_time": "2022-04-05T15:48:24.813Z"
   },
   {
    "duration": 33,
    "start_time": "2022-04-05T15:49:19.171Z"
   },
   {
    "duration": 22,
    "start_time": "2022-04-05T15:52:02.024Z"
   },
   {
    "duration": 34,
    "start_time": "2022-04-05T15:53:45.307Z"
   },
   {
    "duration": 11,
    "start_time": "2022-04-05T15:53:52.147Z"
   },
   {
    "duration": 24,
    "start_time": "2022-04-05T15:53:56.807Z"
   },
   {
    "duration": 12,
    "start_time": "2022-04-05T15:57:08.116Z"
   },
   {
    "duration": 11,
    "start_time": "2022-04-05T15:58:55.662Z"
   },
   {
    "duration": 11,
    "start_time": "2022-04-05T15:59:12.847Z"
   },
   {
    "duration": 8,
    "start_time": "2022-04-05T15:59:22.030Z"
   },
   {
    "duration": 768,
    "start_time": "2022-04-05T15:59:26.319Z"
   },
   {
    "duration": 8,
    "start_time": "2022-04-05T15:59:31.071Z"
   },
   {
    "duration": 6,
    "start_time": "2022-04-05T16:00:06.546Z"
   },
   {
    "duration": 31,
    "start_time": "2022-04-05T16:00:11.124Z"
   },
   {
    "duration": 8,
    "start_time": "2022-04-05T16:02:18.068Z"
   },
   {
    "duration": 5,
    "start_time": "2022-04-05T16:11:49.261Z"
   },
   {
    "duration": 4,
    "start_time": "2022-04-05T16:12:06.402Z"
   },
   {
    "duration": 9,
    "start_time": "2022-04-05T16:12:15.651Z"
   },
   {
    "duration": 4,
    "start_time": "2022-04-05T16:13:58.486Z"
   },
   {
    "duration": 12,
    "start_time": "2022-04-05T16:13:58.840Z"
   },
   {
    "duration": 11,
    "start_time": "2022-04-05T16:14:27.611Z"
   },
   {
    "duration": 14,
    "start_time": "2022-04-05T16:15:03.356Z"
   },
   {
    "duration": 15,
    "start_time": "2022-04-05T16:15:09.270Z"
   },
   {
    "duration": 12,
    "start_time": "2022-04-05T16:20:14.243Z"
   },
   {
    "duration": 12,
    "start_time": "2022-04-05T16:20:35.764Z"
   },
   {
    "duration": 101,
    "start_time": "2022-04-05T16:31:37.314Z"
   },
   {
    "duration": 7,
    "start_time": "2022-04-05T16:31:54.258Z"
   },
   {
    "duration": 20,
    "start_time": "2022-04-05T16:32:23.478Z"
   },
   {
    "duration": 28,
    "start_time": "2022-04-05T16:33:00.849Z"
   },
   {
    "duration": 7,
    "start_time": "2022-04-05T16:33:13.897Z"
   },
   {
    "duration": 7,
    "start_time": "2022-04-05T16:33:18.412Z"
   },
   {
    "duration": 33,
    "start_time": "2022-04-05T16:34:00.621Z"
   },
   {
    "duration": 6,
    "start_time": "2022-04-05T16:34:06.017Z"
   },
   {
    "duration": 13,
    "start_time": "2022-04-05T16:34:14.045Z"
   },
   {
    "duration": 20,
    "start_time": "2022-04-05T16:34:21.759Z"
   },
   {
    "duration": 19,
    "start_time": "2022-04-05T16:35:18.349Z"
   },
   {
    "duration": 7,
    "start_time": "2022-04-05T16:35:26.844Z"
   },
   {
    "duration": 21,
    "start_time": "2022-04-05T16:35:27.066Z"
   },
   {
    "duration": 10,
    "start_time": "2022-04-05T16:36:38.134Z"
   },
   {
    "duration": 14,
    "start_time": "2022-04-05T16:36:42.148Z"
   },
   {
    "duration": 16,
    "start_time": "2022-04-05T16:37:46.549Z"
   },
   {
    "duration": 14,
    "start_time": "2022-04-05T16:38:16.749Z"
   },
   {
    "duration": 12,
    "start_time": "2022-04-05T16:38:27.551Z"
   },
   {
    "duration": 16,
    "start_time": "2022-04-05T16:38:38.895Z"
   },
   {
    "duration": 11,
    "start_time": "2022-04-05T16:39:20.957Z"
   },
   {
    "duration": 8,
    "start_time": "2022-04-05T16:39:23.855Z"
   },
   {
    "duration": 7,
    "start_time": "2022-04-05T16:39:29.353Z"
   },
   {
    "duration": 7,
    "start_time": "2022-04-05T16:39:37.325Z"
   },
   {
    "duration": 31,
    "start_time": "2022-04-05T16:39:37.525Z"
   },
   {
    "duration": 10,
    "start_time": "2022-04-05T16:40:31.579Z"
   },
   {
    "duration": 32,
    "start_time": "2022-04-05T16:40:31.821Z"
   },
   {
    "duration": 8,
    "start_time": "2022-04-05T16:40:52.981Z"
   },
   {
    "duration": 2185,
    "start_time": "2022-04-05T16:40:53.189Z"
   },
   {
    "duration": 8,
    "start_time": "2022-04-05T16:41:11.468Z"
   },
   {
    "duration": 30,
    "start_time": "2022-04-05T16:41:12.005Z"
   },
   {
    "duration": 12,
    "start_time": "2022-04-05T16:42:02.348Z"
   },
   {
    "duration": 8,
    "start_time": "2022-04-05T16:42:27.796Z"
   },
   {
    "duration": 1996,
    "start_time": "2022-04-05T16:42:31.807Z"
   },
   {
    "duration": 7,
    "start_time": "2022-04-05T16:42:36.694Z"
   },
   {
    "duration": 7,
    "start_time": "2022-04-05T16:42:44.311Z"
   },
   {
    "duration": 32,
    "start_time": "2022-04-05T16:42:45.643Z"
   },
   {
    "duration": 8,
    "start_time": "2022-04-05T16:42:58.767Z"
   },
   {
    "duration": 30,
    "start_time": "2022-04-05T16:42:58.972Z"
   },
   {
    "duration": 9,
    "start_time": "2022-04-05T16:43:16.403Z"
   },
   {
    "duration": 24,
    "start_time": "2022-04-05T16:43:17.364Z"
   },
   {
    "duration": 9,
    "start_time": "2022-04-05T16:43:52.147Z"
   },
   {
    "duration": 26,
    "start_time": "2022-04-05T16:43:52.787Z"
   },
   {
    "duration": 7,
    "start_time": "2022-04-05T16:44:29.466Z"
   },
   {
    "duration": 7,
    "start_time": "2022-04-05T16:44:34.674Z"
   },
   {
    "duration": 6,
    "start_time": "2022-04-05T16:44:44.178Z"
   },
   {
    "duration": 8,
    "start_time": "2022-04-05T16:44:55.959Z"
   },
   {
    "duration": 27,
    "start_time": "2022-04-05T16:44:56.412Z"
   },
   {
    "duration": 8,
    "start_time": "2022-04-05T16:45:27.011Z"
   },
   {
    "duration": 26,
    "start_time": "2022-04-05T16:45:27.584Z"
   },
   {
    "duration": 9,
    "start_time": "2022-04-05T16:51:12.730Z"
   },
   {
    "duration": 24,
    "start_time": "2022-04-05T16:51:12.957Z"
   },
   {
    "duration": 8,
    "start_time": "2022-04-05T16:52:15.012Z"
   },
   {
    "duration": 1688,
    "start_time": "2022-04-05T16:52:15.621Z"
   },
   {
    "duration": 8,
    "start_time": "2022-04-05T16:52:46.550Z"
   },
   {
    "duration": 1582,
    "start_time": "2022-04-05T16:52:46.761Z"
   },
   {
    "duration": 10,
    "start_time": "2022-04-05T16:56:44.189Z"
   },
   {
    "duration": 5,
    "start_time": "2022-04-05T16:56:46.685Z"
   },
   {
    "duration": 13,
    "start_time": "2022-04-05T16:57:12.114Z"
   },
   {
    "duration": 10,
    "start_time": "2022-04-05T16:58:23.005Z"
   },
   {
    "duration": 8,
    "start_time": "2022-04-05T16:59:07.379Z"
   },
   {
    "duration": 15,
    "start_time": "2022-04-05T16:59:15.470Z"
   },
   {
    "duration": 28,
    "start_time": "2022-04-05T16:59:24.391Z"
   },
   {
    "duration": 27,
    "start_time": "2022-04-05T16:59:42.252Z"
   },
   {
    "duration": 14,
    "start_time": "2022-04-05T17:00:07.201Z"
   },
   {
    "duration": 17,
    "start_time": "2022-04-05T17:00:14.705Z"
   },
   {
    "duration": 2765,
    "start_time": "2022-04-05T17:00:18.503Z"
   },
   {
    "duration": 1485,
    "start_time": "2022-04-05T17:00:26.846Z"
   },
   {
    "duration": 7,
    "start_time": "2022-04-05T17:00:32.781Z"
   },
   {
    "duration": 7,
    "start_time": "2022-04-05T17:00:37.250Z"
   },
   {
    "duration": 5,
    "start_time": "2022-04-05T17:00:44.694Z"
   },
   {
    "duration": 23,
    "start_time": "2022-04-05T17:00:49.397Z"
   },
   {
    "duration": 8,
    "start_time": "2022-04-05T17:02:15.137Z"
   },
   {
    "duration": 40,
    "start_time": "2022-04-05T17:02:15.937Z"
   },
   {
    "duration": 27,
    "start_time": "2022-04-05T17:02:26.817Z"
   },
   {
    "duration": 8,
    "start_time": "2022-04-05T17:02:27.540Z"
   },
   {
    "duration": 1976,
    "start_time": "2022-04-05T17:02:34.367Z"
   },
   {
    "duration": 9,
    "start_time": "2022-04-05T17:02:59.822Z"
   },
   {
    "duration": 2099,
    "start_time": "2022-04-05T17:03:00.078Z"
   },
   {
    "duration": 13,
    "start_time": "2022-04-05T17:06:27.148Z"
   },
   {
    "duration": 8,
    "start_time": "2022-04-05T17:06:33.350Z"
   },
   {
    "duration": 147,
    "start_time": "2022-04-05T17:06:39.619Z"
   },
   {
    "duration": 8,
    "start_time": "2022-04-05T17:06:42.363Z"
   },
   {
    "duration": 1930,
    "start_time": "2022-04-05T17:06:46.183Z"
   },
   {
    "duration": 7,
    "start_time": "2022-04-05T17:06:51.079Z"
   },
   {
    "duration": 23,
    "start_time": "2022-04-05T17:07:21.952Z"
   },
   {
    "duration": 1805,
    "start_time": "2022-04-05T17:08:51.540Z"
   },
   {
    "duration": 12,
    "start_time": "2022-04-05T17:10:03.256Z"
   },
   {
    "duration": 1169,
    "start_time": "2022-04-05T17:10:52.674Z"
   },
   {
    "duration": 795,
    "start_time": "2022-04-05T17:10:57.447Z"
   },
   {
    "duration": 8,
    "start_time": "2022-04-05T17:11:08.335Z"
   },
   {
    "duration": 7,
    "start_time": "2022-04-05T17:11:11.521Z"
   },
   {
    "duration": 12,
    "start_time": "2022-04-05T17:11:33.576Z"
   },
   {
    "duration": 1997,
    "start_time": "2022-04-05T17:11:34.235Z"
   },
   {
    "duration": 8,
    "start_time": "2022-04-05T17:13:26.881Z"
   },
   {
    "duration": 7,
    "start_time": "2022-04-05T17:13:30.616Z"
   },
   {
    "duration": 8,
    "start_time": "2022-04-05T17:13:39.313Z"
   },
   {
    "duration": 1827,
    "start_time": "2022-04-05T17:13:39.522Z"
   },
   {
    "duration": 13,
    "start_time": "2022-04-05T17:13:52.953Z"
   },
   {
    "duration": 27,
    "start_time": "2022-04-05T17:13:53.162Z"
   },
   {
    "duration": 9,
    "start_time": "2022-04-05T17:14:00.681Z"
   },
   {
    "duration": 23,
    "start_time": "2022-04-05T17:14:01.135Z"
   },
   {
    "duration": 149,
    "start_time": "2022-04-05T17:14:24.066Z"
   },
   {
    "duration": 23,
    "start_time": "2022-04-05T17:14:24.285Z"
   },
   {
    "duration": 9,
    "start_time": "2022-04-05T17:14:39.076Z"
   },
   {
    "duration": 24,
    "start_time": "2022-04-05T17:14:39.332Z"
   },
   {
    "duration": 11,
    "start_time": "2022-04-05T17:15:01.943Z"
   },
   {
    "duration": 16,
    "start_time": "2022-04-05T17:15:13.281Z"
   },
   {
    "duration": 9,
    "start_time": "2022-04-05T17:15:19.114Z"
   },
   {
    "duration": 8,
    "start_time": "2022-04-05T17:15:22.195Z"
   },
   {
    "duration": 7,
    "start_time": "2022-04-05T17:15:29.119Z"
   },
   {
    "duration": 9,
    "start_time": "2022-04-05T17:15:45.765Z"
   },
   {
    "duration": 2139,
    "start_time": "2022-04-05T17:15:45.991Z"
   },
   {
    "duration": 9,
    "start_time": "2022-04-05T17:16:16.405Z"
   },
   {
    "duration": 24,
    "start_time": "2022-04-05T17:16:16.882Z"
   },
   {
    "duration": 24,
    "start_time": "2022-04-05T17:16:49.524Z"
   },
   {
    "duration": 29,
    "start_time": "2022-04-05T17:17:46.198Z"
   },
   {
    "duration": 9,
    "start_time": "2022-04-05T17:19:39.981Z"
   },
   {
    "duration": 22,
    "start_time": "2022-04-05T17:19:40.229Z"
   },
   {
    "duration": 24,
    "start_time": "2022-04-05T17:19:45.261Z"
   },
   {
    "duration": 20,
    "start_time": "2022-04-05T17:19:56.674Z"
   },
   {
    "duration": 22,
    "start_time": "2022-04-05T17:19:59.362Z"
   },
   {
    "duration": 27,
    "start_time": "2022-04-05T17:23:39.339Z"
   },
   {
    "duration": 7,
    "start_time": "2022-04-05T17:26:30.039Z"
   },
   {
    "duration": 11,
    "start_time": "2022-04-05T17:27:44.896Z"
   },
   {
    "duration": 6,
    "start_time": "2022-04-05T17:27:51.679Z"
   },
   {
    "duration": 14,
    "start_time": "2022-04-05T17:27:58.371Z"
   },
   {
    "duration": 1718,
    "start_time": "2022-04-05T17:28:26.433Z"
   },
   {
    "duration": 25,
    "start_time": "2022-04-05T17:28:31.389Z"
   },
   {
    "duration": 4,
    "start_time": "2022-04-05T17:36:02.206Z"
   },
   {
    "duration": 633,
    "start_time": "2022-04-05T17:36:02.213Z"
   },
   {
    "duration": 11,
    "start_time": "2022-04-05T17:36:02.849Z"
   },
   {
    "duration": 16,
    "start_time": "2022-04-05T17:36:02.863Z"
   },
   {
    "duration": 14,
    "start_time": "2022-04-05T17:36:02.882Z"
   },
   {
    "duration": 20,
    "start_time": "2022-04-05T17:36:02.898Z"
   },
   {
    "duration": 23,
    "start_time": "2022-04-05T17:36:02.920Z"
   },
   {
    "duration": 33,
    "start_time": "2022-04-05T17:36:02.974Z"
   },
   {
    "duration": 66,
    "start_time": "2022-04-05T17:36:03.009Z"
   },
   {
    "duration": 12,
    "start_time": "2022-04-05T17:36:03.079Z"
   },
   {
    "duration": 19,
    "start_time": "2022-04-05T17:36:03.093Z"
   },
   {
    "duration": 29,
    "start_time": "2022-04-05T17:36:03.114Z"
   },
   {
    "duration": 37,
    "start_time": "2022-04-05T17:36:03.174Z"
   },
   {
    "duration": 28,
    "start_time": "2022-04-05T17:36:03.213Z"
   },
   {
    "duration": 52,
    "start_time": "2022-04-05T17:36:03.243Z"
   },
   {
    "duration": 13,
    "start_time": "2022-04-05T17:36:03.298Z"
   },
   {
    "duration": 21,
    "start_time": "2022-04-05T17:36:03.313Z"
   },
   {
    "duration": 39,
    "start_time": "2022-04-05T17:36:03.336Z"
   },
   {
    "duration": 10,
    "start_time": "2022-04-05T17:36:03.377Z"
   },
   {
    "duration": 12,
    "start_time": "2022-04-05T17:36:03.389Z"
   },
   {
    "duration": 9,
    "start_time": "2022-04-05T17:36:03.403Z"
   },
   {
    "duration": 17,
    "start_time": "2022-04-05T17:36:03.414Z"
   },
   {
    "duration": 892,
    "start_time": "2022-04-05T17:36:03.433Z"
   },
   {
    "duration": 522,
    "start_time": "2022-04-05T17:36:04.327Z"
   },
   {
    "duration": 43,
    "start_time": "2022-04-05T17:36:04.851Z"
   },
   {
    "duration": 89,
    "start_time": "2022-04-05T17:36:04.896Z"
   },
   {
    "duration": 21,
    "start_time": "2022-04-05T17:36:04.988Z"
   },
   {
    "duration": 13,
    "start_time": "2022-04-05T17:36:05.015Z"
   },
   {
    "duration": 24,
    "start_time": "2022-04-05T17:36:05.031Z"
   },
   {
    "duration": 157,
    "start_time": "2022-04-05T17:36:05.058Z"
   },
   {
    "duration": 71,
    "start_time": "2022-04-05T17:36:05.218Z"
   },
   {
    "duration": 28,
    "start_time": "2022-04-05T17:36:05.291Z"
   },
   {
    "duration": 72,
    "start_time": "2022-04-05T17:36:05.321Z"
   },
   {
    "duration": 23,
    "start_time": "2022-04-05T17:36:05.395Z"
   },
   {
    "duration": 53,
    "start_time": "2022-04-05T17:36:05.421Z"
   },
   {
    "duration": 21,
    "start_time": "2022-04-05T17:36:05.476Z"
   },
   {
    "duration": 26,
    "start_time": "2022-04-05T17:36:05.500Z"
   },
   {
    "duration": 8,
    "start_time": "2022-04-05T17:36:05.528Z"
   },
   {
    "duration": 1679,
    "start_time": "2022-04-05T17:36:05.539Z"
   },
   {
    "duration": 26,
    "start_time": "2022-04-05T17:36:07.220Z"
   },
   {
    "duration": 68,
    "start_time": "2022-04-06T04:13:56.683Z"
   },
   {
    "duration": 1643,
    "start_time": "2022-04-06T04:14:01.083Z"
   },
   {
    "duration": 479,
    "start_time": "2022-04-06T04:14:02.729Z"
   },
   {
    "duration": 17,
    "start_time": "2022-04-06T04:14:03.210Z"
   },
   {
    "duration": 12,
    "start_time": "2022-04-06T04:14:03.231Z"
   },
   {
    "duration": 11,
    "start_time": "2022-04-06T04:14:03.245Z"
   },
   {
    "duration": 12,
    "start_time": "2022-04-06T04:14:03.268Z"
   },
   {
    "duration": 16,
    "start_time": "2022-04-06T04:14:03.281Z"
   },
   {
    "duration": 35,
    "start_time": "2022-04-06T04:14:03.299Z"
   },
   {
    "duration": 49,
    "start_time": "2022-04-06T04:14:03.368Z"
   },
   {
    "duration": 12,
    "start_time": "2022-04-06T04:14:03.421Z"
   },
   {
    "duration": 46,
    "start_time": "2022-04-06T04:14:03.436Z"
   },
   {
    "duration": 29,
    "start_time": "2022-04-06T04:14:03.484Z"
   },
   {
    "duration": 62,
    "start_time": "2022-04-06T04:14:03.515Z"
   },
   {
    "duration": 25,
    "start_time": "2022-04-06T04:14:03.580Z"
   },
   {
    "duration": 31,
    "start_time": "2022-04-06T04:14:03.607Z"
   },
   {
    "duration": 33,
    "start_time": "2022-04-06T04:14:03.640Z"
   },
   {
    "duration": 16,
    "start_time": "2022-04-06T04:14:03.675Z"
   },
   {
    "duration": 8,
    "start_time": "2022-04-06T04:14:03.693Z"
   },
   {
    "duration": 7,
    "start_time": "2022-04-06T04:14:03.703Z"
   },
   {
    "duration": 9,
    "start_time": "2022-04-06T04:14:03.711Z"
   },
   {
    "duration": 49,
    "start_time": "2022-04-06T04:14:03.723Z"
   },
   {
    "duration": 12,
    "start_time": "2022-04-06T04:14:03.775Z"
   },
   {
    "duration": 1069,
    "start_time": "2022-04-06T04:14:03.789Z"
   },
   {
    "duration": 473,
    "start_time": "2022-04-06T04:14:04.860Z"
   },
   {
    "duration": 45,
    "start_time": "2022-04-06T04:14:05.335Z"
   },
   {
    "duration": 90,
    "start_time": "2022-04-06T04:14:05.382Z"
   },
   {
    "duration": 17,
    "start_time": "2022-04-06T04:14:05.475Z"
   },
   {
    "duration": 4,
    "start_time": "2022-04-06T04:14:05.497Z"
   },
   {
    "duration": 7,
    "start_time": "2022-04-06T04:14:05.504Z"
   },
   {
    "duration": 145,
    "start_time": "2022-04-06T04:14:05.513Z"
   },
   {
    "duration": 66,
    "start_time": "2022-04-06T04:14:05.662Z"
   },
   {
    "duration": 42,
    "start_time": "2022-04-06T04:14:05.731Z"
   },
   {
    "duration": 53,
    "start_time": "2022-04-06T04:14:05.775Z"
   },
   {
    "duration": 47,
    "start_time": "2022-04-06T04:14:05.830Z"
   },
   {
    "duration": 33,
    "start_time": "2022-04-06T04:14:05.879Z"
   },
   {
    "duration": 20,
    "start_time": "2022-04-06T04:14:05.914Z"
   },
   {
    "duration": 42,
    "start_time": "2022-04-06T04:14:05.936Z"
   },
   {
    "duration": 8,
    "start_time": "2022-04-06T04:14:05.980Z"
   },
   {
    "duration": 99,
    "start_time": "2022-04-06T04:14:05.991Z"
   },
   {
    "duration": 0,
    "start_time": "2022-04-06T04:14:06.092Z"
   },
   {
    "duration": 1572,
    "start_time": "2022-04-06T04:14:29.933Z"
   },
   {
    "duration": 23,
    "start_time": "2022-04-06T04:14:33.699Z"
   },
   {
    "duration": 17,
    "start_time": "2022-04-06T04:14:42.454Z"
   },
   {
    "duration": 11,
    "start_time": "2022-04-06T04:14:47.532Z"
   },
   {
    "duration": 15,
    "start_time": "2022-04-06T04:15:04.397Z"
   },
   {
    "duration": 11,
    "start_time": "2022-04-06T04:15:11.762Z"
   },
   {
    "duration": 16,
    "start_time": "2022-04-06T04:15:46.774Z"
   },
   {
    "duration": 8,
    "start_time": "2022-04-06T04:16:03.208Z"
   },
   {
    "duration": 6,
    "start_time": "2022-04-06T04:16:16.619Z"
   },
   {
    "duration": 16,
    "start_time": "2022-04-06T04:16:40.783Z"
   },
   {
    "duration": 21,
    "start_time": "2022-04-06T04:16:48.336Z"
   },
   {
    "duration": 9,
    "start_time": "2022-04-06T04:17:07.727Z"
   },
   {
    "duration": 7,
    "start_time": "2022-04-06T04:17:32.368Z"
   },
   {
    "duration": 7,
    "start_time": "2022-04-06T04:17:33.397Z"
   },
   {
    "duration": 16,
    "start_time": "2022-04-06T04:20:11.474Z"
   },
   {
    "duration": 19,
    "start_time": "2022-04-06T04:20:27.164Z"
   },
   {
    "duration": 15,
    "start_time": "2022-04-06T04:20:46.211Z"
   },
   {
    "duration": 18,
    "start_time": "2022-04-06T04:20:52.655Z"
   },
   {
    "duration": 20,
    "start_time": "2022-04-06T04:21:01.223Z"
   },
   {
    "duration": 20,
    "start_time": "2022-04-06T04:21:10.873Z"
   },
   {
    "duration": 6,
    "start_time": "2022-04-06T04:21:24.450Z"
   },
   {
    "duration": 18,
    "start_time": "2022-04-06T04:21:41.702Z"
   },
   {
    "duration": 20,
    "start_time": "2022-04-06T04:21:45.788Z"
   },
   {
    "duration": 22,
    "start_time": "2022-04-06T04:21:53.839Z"
   },
   {
    "duration": 8,
    "start_time": "2022-04-06T04:21:56.885Z"
   },
   {
    "duration": 12,
    "start_time": "2022-04-06T04:22:08.354Z"
   },
   {
    "duration": 15,
    "start_time": "2022-04-06T04:22:19.024Z"
   },
   {
    "duration": 40,
    "start_time": "2022-04-06T04:22:35.905Z"
   },
   {
    "duration": 15,
    "start_time": "2022-04-06T04:22:47.917Z"
   },
   {
    "duration": 8,
    "start_time": "2022-04-06T04:23:17.516Z"
   },
   {
    "duration": 7,
    "start_time": "2022-04-06T04:23:27.860Z"
   },
   {
    "duration": 11,
    "start_time": "2022-04-06T04:26:45.696Z"
   },
   {
    "duration": 6,
    "start_time": "2022-04-06T04:26:48.414Z"
   },
   {
    "duration": 19,
    "start_time": "2022-04-06T04:29:09.636Z"
   },
   {
    "duration": 6,
    "start_time": "2022-04-06T04:29:56.660Z"
   },
   {
    "duration": 6,
    "start_time": "2022-04-06T04:30:05.888Z"
   },
   {
    "duration": 46,
    "start_time": "2022-04-06T04:34:27.436Z"
   },
   {
    "duration": 22,
    "start_time": "2022-04-06T04:35:07.845Z"
   },
   {
    "duration": 19,
    "start_time": "2022-04-06T04:35:13.303Z"
   },
   {
    "duration": 16,
    "start_time": "2022-04-06T04:35:18.118Z"
   },
   {
    "duration": 700,
    "start_time": "2022-04-06T04:35:24.974Z"
   },
   {
    "duration": 18,
    "start_time": "2022-04-06T04:35:42.859Z"
   },
   {
    "duration": 21,
    "start_time": "2022-04-06T04:35:52.097Z"
   },
   {
    "duration": 16,
    "start_time": "2022-04-06T04:35:59.260Z"
   },
   {
    "duration": 5,
    "start_time": "2022-04-06T04:36:30.828Z"
   },
   {
    "duration": 46,
    "start_time": "2022-04-06T04:37:07.427Z"
   },
   {
    "duration": 40,
    "start_time": "2022-04-06T04:37:19.185Z"
   },
   {
    "duration": 19,
    "start_time": "2022-04-06T04:37:37.173Z"
   },
   {
    "duration": 4,
    "start_time": "2022-04-06T04:37:55.613Z"
   },
   {
    "duration": 16,
    "start_time": "2022-04-06T04:38:07.112Z"
   },
   {
    "duration": 11,
    "start_time": "2022-04-06T04:38:22.134Z"
   },
   {
    "duration": 16,
    "start_time": "2022-04-06T04:38:34.478Z"
   },
   {
    "duration": 12,
    "start_time": "2022-04-06T04:38:45.051Z"
   },
   {
    "duration": 70,
    "start_time": "2022-04-06T04:39:11.816Z"
   },
   {
    "duration": 70,
    "start_time": "2022-04-06T04:39:52.661Z"
   },
   {
    "duration": 71,
    "start_time": "2022-04-06T04:41:34.265Z"
   },
   {
    "duration": 69,
    "start_time": "2022-04-06T04:41:58.494Z"
   },
   {
    "duration": 69,
    "start_time": "2022-04-06T04:42:09.185Z"
   },
   {
    "duration": 74,
    "start_time": "2022-04-06T04:42:12.425Z"
   },
   {
    "duration": 23,
    "start_time": "2022-04-06T04:42:18.657Z"
   },
   {
    "duration": 64,
    "start_time": "2022-04-06T04:42:20.997Z"
   },
   {
    "duration": 26,
    "start_time": "2022-04-06T04:44:00.891Z"
   },
   {
    "duration": 13,
    "start_time": "2022-04-06T04:44:16.622Z"
   },
   {
    "duration": 14,
    "start_time": "2022-04-06T04:44:18.888Z"
   },
   {
    "duration": 15,
    "start_time": "2022-04-06T04:44:33.842Z"
   },
   {
    "duration": 13,
    "start_time": "2022-04-06T04:44:36.153Z"
   },
   {
    "duration": 14,
    "start_time": "2022-04-06T04:44:41.389Z"
   },
   {
    "duration": 14,
    "start_time": "2022-04-06T04:44:44.093Z"
   },
   {
    "duration": 15,
    "start_time": "2022-04-06T04:45:00.839Z"
   },
   {
    "duration": 55,
    "start_time": "2022-04-06T04:46:09.505Z"
   },
   {
    "duration": 22,
    "start_time": "2022-04-06T04:47:09.988Z"
   },
   {
    "duration": 15,
    "start_time": "2022-04-06T04:47:12.733Z"
   },
   {
    "duration": 67,
    "start_time": "2022-04-06T04:53:39.339Z"
   },
   {
    "duration": 62,
    "start_time": "2022-04-06T04:53:54.323Z"
   },
   {
    "duration": 78,
    "start_time": "2022-04-06T04:56:25.568Z"
   },
   {
    "duration": 57,
    "start_time": "2022-04-06T04:56:54.492Z"
   },
   {
    "duration": 87,
    "start_time": "2022-04-06T04:57:31.146Z"
   },
   {
    "duration": 87,
    "start_time": "2022-04-06T07:20:10.825Z"
   },
   {
    "duration": 74,
    "start_time": "2022-04-06T07:22:58.517Z"
   },
   {
    "duration": 13,
    "start_time": "2022-04-06T07:23:09.040Z"
   },
   {
    "duration": 4,
    "start_time": "2022-04-06T07:24:29.495Z"
   },
   {
    "duration": 103,
    "start_time": "2022-04-06T07:24:50.204Z"
   },
   {
    "duration": 4,
    "start_time": "2022-04-06T07:25:13.651Z"
   },
   {
    "duration": 7,
    "start_time": "2022-04-06T07:25:16.104Z"
   },
   {
    "duration": 7,
    "start_time": "2022-04-06T07:26:00.464Z"
   },
   {
    "duration": 11,
    "start_time": "2022-04-06T07:27:04.222Z"
   },
   {
    "duration": 10,
    "start_time": "2022-04-06T08:27:29.062Z"
   },
   {
    "duration": 67,
    "start_time": "2022-04-06T08:28:06.460Z"
   },
   {
    "duration": 22,
    "start_time": "2022-04-06T08:28:48.706Z"
   },
   {
    "duration": 15,
    "start_time": "2022-04-06T08:28:56.088Z"
   },
   {
    "duration": 21,
    "start_time": "2022-04-06T08:29:36.208Z"
   },
   {
    "duration": 19,
    "start_time": "2022-04-06T08:29:39.885Z"
   },
   {
    "duration": 19,
    "start_time": "2022-04-06T08:30:14.666Z"
   },
   {
    "duration": 15,
    "start_time": "2022-04-06T08:32:16.464Z"
   },
   {
    "duration": 24,
    "start_time": "2022-04-06T08:32:19.381Z"
   },
   {
    "duration": 29,
    "start_time": "2022-04-06T08:32:31.254Z"
   },
   {
    "duration": 29,
    "start_time": "2022-04-06T08:32:43.603Z"
   },
   {
    "duration": 23,
    "start_time": "2022-04-06T08:33:20.699Z"
   },
   {
    "duration": 11,
    "start_time": "2022-04-06T08:33:32.672Z"
   },
   {
    "duration": 30,
    "start_time": "2022-04-06T08:34:21.339Z"
   },
   {
    "duration": 27,
    "start_time": "2022-04-06T08:34:43.739Z"
   },
   {
    "duration": 14,
    "start_time": "2022-04-06T08:34:50.861Z"
   },
   {
    "duration": 10,
    "start_time": "2022-04-06T08:35:17.898Z"
   },
   {
    "duration": 18,
    "start_time": "2022-04-06T08:37:20.904Z"
   },
   {
    "duration": 19,
    "start_time": "2022-04-06T08:38:11.228Z"
   },
   {
    "duration": 26,
    "start_time": "2022-04-06T08:38:28.696Z"
   },
   {
    "duration": 28,
    "start_time": "2022-04-06T08:39:56.831Z"
   },
   {
    "duration": 26,
    "start_time": "2022-04-06T08:40:08.406Z"
   },
   {
    "duration": 15,
    "start_time": "2022-04-06T08:40:34.805Z"
   },
   {
    "duration": 22,
    "start_time": "2022-04-06T08:40:41.890Z"
   },
   {
    "duration": 26,
    "start_time": "2022-04-06T08:40:45.387Z"
   },
   {
    "duration": 10,
    "start_time": "2022-04-06T08:40:48.271Z"
   },
   {
    "duration": 25,
    "start_time": "2022-04-06T08:41:13.006Z"
   },
   {
    "duration": 56,
    "start_time": "2022-04-06T08:42:50.134Z"
   },
   {
    "duration": 136,
    "start_time": "2022-04-06T08:44:52.540Z"
   },
   {
    "duration": 34,
    "start_time": "2022-04-06T08:45:00.507Z"
   },
   {
    "duration": 3,
    "start_time": "2022-04-06T08:45:42.082Z"
   },
   {
    "duration": 517,
    "start_time": "2022-04-06T08:45:42.088Z"
   },
   {
    "duration": 11,
    "start_time": "2022-04-06T08:45:42.608Z"
   },
   {
    "duration": 14,
    "start_time": "2022-04-06T08:45:42.620Z"
   },
   {
    "duration": 16,
    "start_time": "2022-04-06T08:45:42.636Z"
   },
   {
    "duration": 20,
    "start_time": "2022-04-06T08:45:42.654Z"
   },
   {
    "duration": 19,
    "start_time": "2022-04-06T08:45:42.676Z"
   },
   {
    "duration": 35,
    "start_time": "2022-04-06T08:45:42.697Z"
   },
   {
    "duration": 71,
    "start_time": "2022-04-06T08:45:42.735Z"
   },
   {
    "duration": 12,
    "start_time": "2022-04-06T08:45:42.809Z"
   },
   {
    "duration": 19,
    "start_time": "2022-04-06T08:45:42.824Z"
   },
   {
    "duration": 30,
    "start_time": "2022-04-06T08:45:42.869Z"
   },
   {
    "duration": 39,
    "start_time": "2022-04-06T08:45:42.901Z"
   },
   {
    "duration": 25,
    "start_time": "2022-04-06T08:45:42.970Z"
   },
   {
    "duration": 29,
    "start_time": "2022-04-06T08:45:42.997Z"
   },
   {
    "duration": 40,
    "start_time": "2022-04-06T08:45:43.029Z"
   },
   {
    "duration": 17,
    "start_time": "2022-04-06T08:45:43.072Z"
   },
   {
    "duration": 10,
    "start_time": "2022-04-06T08:45:43.092Z"
   },
   {
    "duration": 8,
    "start_time": "2022-04-06T08:45:43.105Z"
   },
   {
    "duration": 51,
    "start_time": "2022-04-06T08:45:43.116Z"
   },
   {
    "duration": 7,
    "start_time": "2022-04-06T08:45:43.170Z"
   },
   {
    "duration": 12,
    "start_time": "2022-04-06T08:45:43.180Z"
   },
   {
    "duration": 1043,
    "start_time": "2022-04-06T08:45:43.195Z"
   },
   {
    "duration": 492,
    "start_time": "2022-04-06T08:45:44.240Z"
   },
   {
    "duration": 44,
    "start_time": "2022-04-06T08:45:44.735Z"
   },
   {
    "duration": 74,
    "start_time": "2022-04-06T08:45:44.781Z"
   },
   {
    "duration": 16,
    "start_time": "2022-04-06T08:45:44.868Z"
   },
   {
    "duration": 4,
    "start_time": "2022-04-06T08:45:44.887Z"
   },
   {
    "duration": 10,
    "start_time": "2022-04-06T08:45:44.894Z"
   },
   {
    "duration": 107,
    "start_time": "2022-04-06T08:45:44.907Z"
   },
   {
    "duration": 67,
    "start_time": "2022-04-06T08:45:45.017Z"
   },
   {
    "duration": 30,
    "start_time": "2022-04-06T08:45:45.086Z"
   },
   {
    "duration": 77,
    "start_time": "2022-04-06T08:45:45.118Z"
   },
   {
    "duration": 25,
    "start_time": "2022-04-06T08:45:45.198Z"
   },
   {
    "duration": 68,
    "start_time": "2022-04-06T08:45:45.226Z"
   },
   {
    "duration": 25,
    "start_time": "2022-04-06T08:45:45.297Z"
   },
   {
    "duration": 45,
    "start_time": "2022-04-06T08:45:45.324Z"
   },
   {
    "duration": 8,
    "start_time": "2022-04-06T08:45:45.371Z"
   },
   {
    "duration": 1572,
    "start_time": "2022-04-06T08:45:45.381Z"
   },
   {
    "duration": 44,
    "start_time": "2022-04-06T08:45:46.956Z"
   },
   {
    "duration": 15,
    "start_time": "2022-04-06T08:45:47.008Z"
   },
   {
    "duration": 80,
    "start_time": "2022-04-06T08:45:47.025Z"
   },
   {
    "duration": 0,
    "start_time": "2022-04-06T08:45:47.109Z"
   },
   {
    "duration": 0,
    "start_time": "2022-04-06T08:45:47.111Z"
   },
   {
    "duration": 0,
    "start_time": "2022-04-06T08:45:47.113Z"
   },
   {
    "duration": 0,
    "start_time": "2022-04-06T08:45:47.115Z"
   },
   {
    "duration": 0,
    "start_time": "2022-04-06T08:45:47.117Z"
   },
   {
    "duration": 0,
    "start_time": "2022-04-06T08:45:47.118Z"
   },
   {
    "duration": 12,
    "start_time": "2022-04-06T08:46:47.434Z"
   },
   {
    "duration": 6,
    "start_time": "2022-04-06T08:47:17.729Z"
   },
   {
    "duration": 5,
    "start_time": "2022-04-06T08:47:46.799Z"
   },
   {
    "duration": 73,
    "start_time": "2022-04-06T08:47:48.357Z"
   },
   {
    "duration": 20,
    "start_time": "2022-04-06T08:47:49.725Z"
   },
   {
    "duration": 12,
    "start_time": "2022-04-06T08:47:49.884Z"
   },
   {
    "duration": 31,
    "start_time": "2022-04-06T08:47:50.051Z"
   },
   {
    "duration": 24,
    "start_time": "2022-04-06T08:47:50.206Z"
   },
   {
    "duration": 98,
    "start_time": "2022-04-06T08:47:50.390Z"
   },
   {
    "duration": 24,
    "start_time": "2022-04-06T08:47:50.562Z"
   },
   {
    "duration": 28,
    "start_time": "2022-04-06T08:47:50.748Z"
   },
   {
    "duration": 37,
    "start_time": "2022-04-06T08:49:44.754Z"
   },
   {
    "duration": 4,
    "start_time": "2022-04-06T08:50:15.660Z"
   },
   {
    "duration": 542,
    "start_time": "2022-04-06T08:50:15.667Z"
   },
   {
    "duration": 12,
    "start_time": "2022-04-06T08:50:16.212Z"
   },
   {
    "duration": 35,
    "start_time": "2022-04-06T08:50:16.227Z"
   },
   {
    "duration": 28,
    "start_time": "2022-04-06T08:50:16.265Z"
   },
   {
    "duration": 16,
    "start_time": "2022-04-06T08:50:16.295Z"
   },
   {
    "duration": 32,
    "start_time": "2022-04-06T08:50:16.313Z"
   },
   {
    "duration": 59,
    "start_time": "2022-04-06T08:50:16.347Z"
   },
   {
    "duration": 47,
    "start_time": "2022-04-06T08:50:16.408Z"
   },
   {
    "duration": 12,
    "start_time": "2022-04-06T08:50:16.469Z"
   },
   {
    "duration": 36,
    "start_time": "2022-04-06T08:50:16.484Z"
   },
   {
    "duration": 55,
    "start_time": "2022-04-06T08:50:16.523Z"
   },
   {
    "duration": 51,
    "start_time": "2022-04-06T08:50:16.580Z"
   },
   {
    "duration": 55,
    "start_time": "2022-04-06T08:50:16.634Z"
   },
   {
    "duration": 42,
    "start_time": "2022-04-06T08:50:16.692Z"
   },
   {
    "duration": 36,
    "start_time": "2022-04-06T08:50:16.737Z"
   },
   {
    "duration": 35,
    "start_time": "2022-04-06T08:50:16.777Z"
   },
   {
    "duration": 26,
    "start_time": "2022-04-06T08:50:16.815Z"
   },
   {
    "duration": 24,
    "start_time": "2022-04-06T08:50:16.844Z"
   },
   {
    "duration": 26,
    "start_time": "2022-04-06T08:50:16.871Z"
   },
   {
    "duration": 16,
    "start_time": "2022-04-06T08:50:16.899Z"
   },
   {
    "duration": 23,
    "start_time": "2022-04-06T08:50:16.918Z"
   },
   {
    "duration": 779,
    "start_time": "2022-04-06T08:50:16.944Z"
   },
   {
    "duration": 565,
    "start_time": "2022-04-06T08:50:17.727Z"
   },
   {
    "duration": 31,
    "start_time": "2022-04-06T08:50:18.295Z"
   },
   {
    "duration": 93,
    "start_time": "2022-04-06T08:50:18.328Z"
   },
   {
    "duration": 14,
    "start_time": "2022-04-06T08:50:18.423Z"
   },
   {
    "duration": 4,
    "start_time": "2022-04-06T08:50:18.443Z"
   },
   {
    "duration": 7,
    "start_time": "2022-04-06T08:50:18.468Z"
   },
   {
    "duration": 95,
    "start_time": "2022-04-06T08:50:18.477Z"
   },
   {
    "duration": 54,
    "start_time": "2022-04-06T08:50:18.574Z"
   },
   {
    "duration": 48,
    "start_time": "2022-04-06T08:50:18.631Z"
   },
   {
    "duration": 51,
    "start_time": "2022-04-06T08:50:18.682Z"
   },
   {
    "duration": 45,
    "start_time": "2022-04-06T08:50:18.735Z"
   },
   {
    "duration": 28,
    "start_time": "2022-04-06T08:50:18.782Z"
   },
   {
    "duration": 21,
    "start_time": "2022-04-06T08:50:18.812Z"
   },
   {
    "duration": 53,
    "start_time": "2022-04-06T08:50:18.836Z"
   },
   {
    "duration": 8,
    "start_time": "2022-04-06T08:50:18.891Z"
   },
   {
    "duration": 1540,
    "start_time": "2022-04-06T08:50:18.901Z"
   },
   {
    "duration": 29,
    "start_time": "2022-04-06T08:50:20.443Z"
   },
   {
    "duration": 18,
    "start_time": "2022-04-06T08:50:20.474Z"
   },
   {
    "duration": 5,
    "start_time": "2022-04-06T08:50:20.494Z"
   },
   {
    "duration": 120,
    "start_time": "2022-04-06T08:50:20.502Z"
   },
   {
    "duration": 42,
    "start_time": "2022-04-06T08:50:20.625Z"
   },
   {
    "duration": 11,
    "start_time": "2022-04-06T08:50:20.670Z"
   },
   {
    "duration": 41,
    "start_time": "2022-04-06T08:50:20.684Z"
   },
   {
    "duration": 49,
    "start_time": "2022-04-06T08:50:20.727Z"
   },
   {
    "duration": 108,
    "start_time": "2022-04-06T08:50:20.778Z"
   },
   {
    "duration": 23,
    "start_time": "2022-04-06T08:50:20.888Z"
   },
   {
    "duration": 52,
    "start_time": "2022-04-06T08:50:20.914Z"
   },
   {
    "duration": 4,
    "start_time": "2022-04-06T08:51:42.597Z"
   },
   {
    "duration": 466,
    "start_time": "2022-04-06T08:51:42.604Z"
   },
   {
    "duration": 11,
    "start_time": "2022-04-06T08:51:43.073Z"
   },
   {
    "duration": 15,
    "start_time": "2022-04-06T08:51:43.086Z"
   },
   {
    "duration": 10,
    "start_time": "2022-04-06T08:51:43.104Z"
   },
   {
    "duration": 12,
    "start_time": "2022-04-06T08:51:43.116Z"
   },
   {
    "duration": 16,
    "start_time": "2022-04-06T08:51:43.167Z"
   },
   {
    "duration": 33,
    "start_time": "2022-04-06T08:51:43.186Z"
   },
   {
    "duration": 69,
    "start_time": "2022-04-06T08:51:43.222Z"
   },
   {
    "duration": 12,
    "start_time": "2022-04-06T08:51:43.293Z"
   },
   {
    "duration": 26,
    "start_time": "2022-04-06T08:51:43.308Z"
   },
   {
    "duration": 52,
    "start_time": "2022-04-06T08:51:43.336Z"
   },
   {
    "duration": 38,
    "start_time": "2022-04-06T08:51:43.390Z"
   },
   {
    "duration": 42,
    "start_time": "2022-04-06T08:51:43.434Z"
   },
   {
    "duration": 31,
    "start_time": "2022-04-06T08:51:43.479Z"
   },
   {
    "duration": 15,
    "start_time": "2022-04-06T08:51:43.513Z"
   },
   {
    "duration": 48,
    "start_time": "2022-04-06T08:51:43.530Z"
   },
   {
    "duration": 8,
    "start_time": "2022-04-06T08:51:43.581Z"
   },
   {
    "duration": 6,
    "start_time": "2022-04-06T08:51:43.592Z"
   },
   {
    "duration": 14,
    "start_time": "2022-04-06T08:51:43.600Z"
   },
   {
    "duration": 6,
    "start_time": "2022-04-06T08:51:43.617Z"
   },
   {
    "duration": 43,
    "start_time": "2022-04-06T08:51:43.627Z"
   },
   {
    "duration": 785,
    "start_time": "2022-04-06T08:51:43.673Z"
   },
   {
    "duration": 482,
    "start_time": "2022-04-06T08:51:44.460Z"
   },
   {
    "duration": 44,
    "start_time": "2022-04-06T08:51:44.944Z"
   },
   {
    "duration": 78,
    "start_time": "2022-04-06T08:51:44.991Z"
   },
   {
    "duration": 15,
    "start_time": "2022-04-06T08:51:45.071Z"
   },
   {
    "duration": 4,
    "start_time": "2022-04-06T08:51:45.088Z"
   },
   {
    "duration": 6,
    "start_time": "2022-04-06T08:51:45.095Z"
   },
   {
    "duration": 106,
    "start_time": "2022-04-06T08:51:45.104Z"
   },
   {
    "duration": 57,
    "start_time": "2022-04-06T08:51:45.212Z"
   },
   {
    "duration": 27,
    "start_time": "2022-04-06T08:51:45.272Z"
   },
   {
    "duration": 76,
    "start_time": "2022-04-06T08:51:45.301Z"
   },
   {
    "duration": 24,
    "start_time": "2022-04-06T08:51:45.379Z"
   },
   {
    "duration": 28,
    "start_time": "2022-04-06T08:51:45.405Z"
   },
   {
    "duration": 46,
    "start_time": "2022-04-06T08:51:45.435Z"
   },
   {
    "duration": 49,
    "start_time": "2022-04-06T08:51:45.483Z"
   },
   {
    "duration": 16,
    "start_time": "2022-04-06T08:51:45.534Z"
   },
   {
    "duration": 1506,
    "start_time": "2022-04-06T08:51:45.552Z"
   },
   {
    "duration": 23,
    "start_time": "2022-04-06T08:51:47.061Z"
   },
   {
    "duration": 14,
    "start_time": "2022-04-06T08:51:47.090Z"
   },
   {
    "duration": 19,
    "start_time": "2022-04-06T08:51:47.106Z"
   },
   {
    "duration": 89,
    "start_time": "2022-04-06T08:51:47.127Z"
   },
   {
    "duration": 20,
    "start_time": "2022-04-06T08:51:47.219Z"
   },
   {
    "duration": 31,
    "start_time": "2022-04-06T08:51:47.242Z"
   },
   {
    "duration": 60,
    "start_time": "2022-04-06T08:51:47.275Z"
   },
   {
    "duration": 35,
    "start_time": "2022-04-06T08:51:47.338Z"
   },
   {
    "duration": 3,
    "start_time": "2022-04-06T08:51:47.376Z"
   },
   {
    "duration": 123,
    "start_time": "2022-04-06T08:51:47.382Z"
   },
   {
    "duration": 31,
    "start_time": "2022-04-06T08:51:47.507Z"
   },
   {
    "duration": 28,
    "start_time": "2022-04-06T08:58:31.653Z"
   },
   {
    "duration": 98,
    "start_time": "2022-04-06T09:00:54.513Z"
   },
   {
    "duration": 1523,
    "start_time": "2022-04-06T09:01:16.540Z"
   },
   {
    "duration": 460,
    "start_time": "2022-04-06T09:01:18.068Z"
   },
   {
    "duration": 16,
    "start_time": "2022-04-06T09:01:18.530Z"
   },
   {
    "duration": 11,
    "start_time": "2022-04-06T09:01:18.550Z"
   },
   {
    "duration": 15,
    "start_time": "2022-04-06T09:01:18.564Z"
   },
   {
    "duration": 13,
    "start_time": "2022-04-06T09:01:18.581Z"
   },
   {
    "duration": 19,
    "start_time": "2022-04-06T09:01:18.597Z"
   },
   {
    "duration": 59,
    "start_time": "2022-04-06T09:01:18.618Z"
   },
   {
    "duration": 48,
    "start_time": "2022-04-06T09:01:18.680Z"
   },
   {
    "duration": 13,
    "start_time": "2022-04-06T09:01:18.732Z"
   },
   {
    "duration": 37,
    "start_time": "2022-04-06T09:01:18.747Z"
   },
   {
    "duration": 27,
    "start_time": "2022-04-06T09:01:18.786Z"
   },
   {
    "duration": 62,
    "start_time": "2022-04-06T09:01:18.815Z"
   },
   {
    "duration": 24,
    "start_time": "2022-04-06T09:01:18.879Z"
   },
   {
    "duration": 34,
    "start_time": "2022-04-06T09:01:18.906Z"
   },
   {
    "duration": 28,
    "start_time": "2022-04-06T09:01:18.943Z"
   },
   {
    "duration": 23,
    "start_time": "2022-04-06T09:01:18.973Z"
   },
   {
    "duration": 16,
    "start_time": "2022-04-06T09:01:18.999Z"
   },
   {
    "duration": 13,
    "start_time": "2022-04-06T09:01:19.017Z"
   },
   {
    "duration": 20,
    "start_time": "2022-04-06T09:01:19.032Z"
   },
   {
    "duration": 9,
    "start_time": "2022-04-06T09:01:19.054Z"
   },
   {
    "duration": 10,
    "start_time": "2022-04-06T09:01:19.068Z"
   },
   {
    "duration": 978,
    "start_time": "2022-04-06T09:01:19.081Z"
   },
   {
    "duration": 505,
    "start_time": "2022-04-06T09:01:20.067Z"
   },
   {
    "duration": 33,
    "start_time": "2022-04-06T09:01:20.575Z"
   },
   {
    "duration": 110,
    "start_time": "2022-04-06T09:01:20.611Z"
   },
   {
    "duration": 18,
    "start_time": "2022-04-06T09:01:20.723Z"
   },
   {
    "duration": 4,
    "start_time": "2022-04-06T09:01:20.745Z"
   },
   {
    "duration": 16,
    "start_time": "2022-04-06T09:01:20.752Z"
   },
   {
    "duration": 81,
    "start_time": "2022-04-06T09:01:20.771Z"
   },
   {
    "duration": 72,
    "start_time": "2022-04-06T09:01:20.855Z"
   },
   {
    "duration": 26,
    "start_time": "2022-04-06T09:01:20.929Z"
   },
   {
    "duration": 58,
    "start_time": "2022-04-06T09:01:20.968Z"
   },
   {
    "duration": 39,
    "start_time": "2022-04-06T09:01:21.028Z"
   },
   {
    "duration": 36,
    "start_time": "2022-04-06T09:01:21.069Z"
   },
   {
    "duration": 22,
    "start_time": "2022-04-06T09:01:21.108Z"
   },
   {
    "duration": 56,
    "start_time": "2022-04-06T09:01:21.132Z"
   },
   {
    "duration": 7,
    "start_time": "2022-04-06T09:01:21.190Z"
   },
   {
    "duration": 1561,
    "start_time": "2022-04-06T09:01:21.199Z"
   },
   {
    "duration": 24,
    "start_time": "2022-04-06T09:01:22.762Z"
   },
   {
    "duration": 17,
    "start_time": "2022-04-06T09:01:22.788Z"
   },
   {
    "duration": 8,
    "start_time": "2022-04-06T09:01:22.807Z"
   },
   {
    "duration": 99,
    "start_time": "2022-04-06T09:01:22.817Z"
   },
   {
    "duration": 21,
    "start_time": "2022-04-06T09:01:22.918Z"
   },
   {
    "duration": 27,
    "start_time": "2022-04-06T09:01:22.941Z"
   },
   {
    "duration": 30,
    "start_time": "2022-04-06T09:01:22.970Z"
   },
   {
    "duration": 24,
    "start_time": "2022-04-06T09:01:23.002Z"
   },
   {
    "duration": 3,
    "start_time": "2022-04-06T09:01:23.028Z"
   },
   {
    "duration": 143,
    "start_time": "2022-04-06T09:01:23.033Z"
   },
   {
    "duration": 31,
    "start_time": "2022-04-06T09:01:23.178Z"
   },
   {
    "duration": 69,
    "start_time": "2022-04-06T09:04:04.885Z"
   },
   {
    "duration": 1378,
    "start_time": "2022-04-06T09:04:10.301Z"
   },
   {
    "duration": 459,
    "start_time": "2022-04-06T09:04:11.681Z"
   },
   {
    "duration": 16,
    "start_time": "2022-04-06T09:04:12.142Z"
   },
   {
    "duration": 29,
    "start_time": "2022-04-06T09:04:12.161Z"
   },
   {
    "duration": 27,
    "start_time": "2022-04-06T09:04:12.192Z"
   },
   {
    "duration": 34,
    "start_time": "2022-04-06T09:04:12.221Z"
   },
   {
    "duration": 18,
    "start_time": "2022-04-06T09:04:12.257Z"
   },
   {
    "duration": 50,
    "start_time": "2022-04-06T09:04:12.277Z"
   },
   {
    "duration": 46,
    "start_time": "2022-04-06T09:04:12.329Z"
   },
   {
    "duration": 12,
    "start_time": "2022-04-06T09:04:12.378Z"
   },
   {
    "duration": 33,
    "start_time": "2022-04-06T09:04:12.392Z"
   },
   {
    "duration": 37,
    "start_time": "2022-04-06T09:04:12.427Z"
   },
   {
    "duration": 41,
    "start_time": "2022-04-06T09:04:12.468Z"
   },
   {
    "duration": 24,
    "start_time": "2022-04-06T09:04:12.511Z"
   },
   {
    "duration": 50,
    "start_time": "2022-04-06T09:04:12.537Z"
   },
   {
    "duration": 11,
    "start_time": "2022-04-06T09:04:12.590Z"
   },
   {
    "duration": 27,
    "start_time": "2022-04-06T09:04:12.603Z"
   },
   {
    "duration": 36,
    "start_time": "2022-04-06T09:04:12.632Z"
   },
   {
    "duration": 25,
    "start_time": "2022-04-06T09:04:12.670Z"
   },
   {
    "duration": 19,
    "start_time": "2022-04-06T09:04:12.698Z"
   },
   {
    "duration": 6,
    "start_time": "2022-04-06T09:04:12.720Z"
   },
   {
    "duration": 25,
    "start_time": "2022-04-06T09:04:12.728Z"
   },
   {
    "duration": 996,
    "start_time": "2022-04-06T09:04:12.755Z"
   },
   {
    "duration": 472,
    "start_time": "2022-04-06T09:04:13.754Z"
   },
   {
    "duration": 43,
    "start_time": "2022-04-06T09:04:14.228Z"
   },
   {
    "duration": 79,
    "start_time": "2022-04-06T09:04:14.273Z"
   },
   {
    "duration": 27,
    "start_time": "2022-04-06T09:04:14.354Z"
   },
   {
    "duration": 4,
    "start_time": "2022-04-06T09:04:14.386Z"
   },
   {
    "duration": 18,
    "start_time": "2022-04-06T09:04:14.392Z"
   },
   {
    "duration": 97,
    "start_time": "2022-04-06T09:04:14.412Z"
   },
   {
    "duration": 64,
    "start_time": "2022-04-06T09:04:14.511Z"
   },
   {
    "duration": 26,
    "start_time": "2022-04-06T09:04:14.577Z"
   },
   {
    "duration": 73,
    "start_time": "2022-04-06T09:04:14.606Z"
   },
   {
    "duration": 25,
    "start_time": "2022-04-06T09:04:14.681Z"
   },
   {
    "duration": 65,
    "start_time": "2022-04-06T09:04:14.709Z"
   },
   {
    "duration": 22,
    "start_time": "2022-04-06T09:04:14.776Z"
   },
   {
    "duration": 31,
    "start_time": "2022-04-06T09:04:14.800Z"
   },
   {
    "duration": 42,
    "start_time": "2022-04-06T09:04:14.833Z"
   },
   {
    "duration": 1536,
    "start_time": "2022-04-06T09:04:14.877Z"
   },
   {
    "duration": 25,
    "start_time": "2022-04-06T09:04:16.416Z"
   },
   {
    "duration": 33,
    "start_time": "2022-04-06T09:04:16.444Z"
   },
   {
    "duration": 5,
    "start_time": "2022-04-06T09:04:16.480Z"
   },
   {
    "duration": 97,
    "start_time": "2022-04-06T09:04:16.488Z"
   },
   {
    "duration": 23,
    "start_time": "2022-04-06T09:04:16.588Z"
   },
   {
    "duration": 10,
    "start_time": "2022-04-06T09:04:16.613Z"
   },
   {
    "duration": 64,
    "start_time": "2022-04-06T09:04:16.626Z"
   },
   {
    "duration": 23,
    "start_time": "2022-04-06T09:04:16.693Z"
   },
   {
    "duration": 5,
    "start_time": "2022-04-06T09:04:16.719Z"
   },
   {
    "duration": 131,
    "start_time": "2022-04-06T09:04:16.727Z"
   },
   {
    "duration": 31,
    "start_time": "2022-04-06T09:04:16.861Z"
   },
   {
    "duration": 27,
    "start_time": "2022-04-06T09:04:18.782Z"
   },
   {
    "duration": 126,
    "start_time": "2022-04-06T09:04:21.708Z"
   },
   {
    "duration": 721,
    "start_time": "2022-04-06T09:04:42.502Z"
   },
   {
    "duration": 9,
    "start_time": "2022-04-06T09:04:57.880Z"
   },
   {
    "duration": 63,
    "start_time": "2022-04-06T09:05:10.657Z"
   },
   {
    "duration": 36,
    "start_time": "2022-04-06T09:05:16.832Z"
   },
   {
    "duration": 130,
    "start_time": "2022-04-06T09:07:51.766Z"
   },
   {
    "duration": 186,
    "start_time": "2022-04-06T09:07:51.899Z"
   },
   {
    "duration": 43,
    "start_time": "2022-04-06T09:09:21.451Z"
   },
   {
    "duration": 126,
    "start_time": "2022-04-06T09:10:40.915Z"
   },
   {
    "duration": 43,
    "start_time": "2022-04-06T09:10:41.918Z"
   },
   {
    "duration": 7,
    "start_time": "2022-04-06T09:14:28.440Z"
   },
   {
    "duration": 4,
    "start_time": "2022-04-06T09:14:36.938Z"
   },
   {
    "duration": 469,
    "start_time": "2022-04-06T09:14:36.949Z"
   },
   {
    "duration": 11,
    "start_time": "2022-04-06T09:14:37.420Z"
   },
   {
    "duration": 13,
    "start_time": "2022-04-06T09:14:37.433Z"
   },
   {
    "duration": 19,
    "start_time": "2022-04-06T09:14:37.448Z"
   },
   {
    "duration": 11,
    "start_time": "2022-04-06T09:14:37.470Z"
   },
   {
    "duration": 18,
    "start_time": "2022-04-06T09:14:37.483Z"
   },
   {
    "duration": 34,
    "start_time": "2022-04-06T09:14:37.503Z"
   },
   {
    "duration": 66,
    "start_time": "2022-04-06T09:14:37.539Z"
   },
   {
    "duration": 12,
    "start_time": "2022-04-06T09:14:37.607Z"
   },
   {
    "duration": 18,
    "start_time": "2022-04-06T09:14:37.621Z"
   },
   {
    "duration": 28,
    "start_time": "2022-04-06T09:14:37.667Z"
   },
   {
    "duration": 33,
    "start_time": "2022-04-06T09:14:37.697Z"
   },
   {
    "duration": 48,
    "start_time": "2022-04-06T09:14:37.732Z"
   },
   {
    "duration": 27,
    "start_time": "2022-04-06T09:14:37.785Z"
   },
   {
    "duration": 10,
    "start_time": "2022-04-06T09:14:37.814Z"
   },
   {
    "duration": 44,
    "start_time": "2022-04-06T09:14:37.826Z"
   },
   {
    "duration": 6,
    "start_time": "2022-04-06T09:14:37.873Z"
   },
   {
    "duration": 6,
    "start_time": "2022-04-06T09:14:37.881Z"
   },
   {
    "duration": 9,
    "start_time": "2022-04-06T09:14:37.889Z"
   },
   {
    "duration": 7,
    "start_time": "2022-04-06T09:14:37.900Z"
   },
   {
    "duration": 8,
    "start_time": "2022-04-06T09:14:37.909Z"
   },
   {
    "duration": 758,
    "start_time": "2022-04-06T09:14:37.919Z"
   },
   {
    "duration": 467,
    "start_time": "2022-04-06T09:14:38.680Z"
   },
   {
    "duration": 37,
    "start_time": "2022-04-06T09:14:39.150Z"
   },
   {
    "duration": 88,
    "start_time": "2022-04-06T09:14:39.190Z"
   },
   {
    "duration": 14,
    "start_time": "2022-04-06T09:14:39.280Z"
   },
   {
    "duration": 4,
    "start_time": "2022-04-06T09:14:39.296Z"
   },
   {
    "duration": 7,
    "start_time": "2022-04-06T09:14:39.302Z"
   },
   {
    "duration": 104,
    "start_time": "2022-04-06T09:14:39.311Z"
   },
   {
    "duration": 59,
    "start_time": "2022-04-06T09:14:39.418Z"
   },
   {
    "duration": 27,
    "start_time": "2022-04-06T09:14:39.479Z"
   },
   {
    "duration": 75,
    "start_time": "2022-04-06T09:14:39.508Z"
   },
   {
    "duration": 23,
    "start_time": "2022-04-06T09:14:39.586Z"
   },
   {
    "duration": 28,
    "start_time": "2022-04-06T09:14:39.612Z"
   },
   {
    "duration": 42,
    "start_time": "2022-04-06T09:14:39.643Z"
   },
   {
    "duration": 23,
    "start_time": "2022-04-06T09:14:39.687Z"
   },
   {
    "duration": 7,
    "start_time": "2022-04-06T09:14:39.712Z"
   },
   {
    "duration": 1534,
    "start_time": "2022-04-06T09:14:39.721Z"
   },
   {
    "duration": 29,
    "start_time": "2022-04-06T09:14:41.257Z"
   },
   {
    "duration": 12,
    "start_time": "2022-04-06T09:14:41.289Z"
   },
   {
    "duration": 4,
    "start_time": "2022-04-06T09:14:41.307Z"
   },
   {
    "duration": 105,
    "start_time": "2022-04-06T09:14:41.314Z"
   },
   {
    "duration": 23,
    "start_time": "2022-04-06T09:14:41.422Z"
   },
   {
    "duration": 26,
    "start_time": "2022-04-06T09:14:41.447Z"
   },
   {
    "duration": 32,
    "start_time": "2022-04-06T09:14:41.477Z"
   },
   {
    "duration": 56,
    "start_time": "2022-04-06T09:14:41.512Z"
   },
   {
    "duration": 4,
    "start_time": "2022-04-06T09:14:41.571Z"
   },
   {
    "duration": 123,
    "start_time": "2022-04-06T09:14:41.578Z"
   },
   {
    "duration": 12,
    "start_time": "2022-04-06T09:14:41.704Z"
   },
   {
    "duration": 141,
    "start_time": "2022-04-06T09:14:41.718Z"
   },
   {
    "duration": 7,
    "start_time": "2022-04-06T09:14:41.867Z"
   },
   {
    "duration": 42,
    "start_time": "2022-04-06T09:14:57.992Z"
   },
   {
    "duration": 68,
    "start_time": "2022-04-06T09:15:16.371Z"
   },
   {
    "duration": 35,
    "start_time": "2022-04-06T09:15:59.031Z"
   },
   {
    "duration": 112,
    "start_time": "2022-04-06T09:16:43.590Z"
   },
   {
    "duration": 93,
    "start_time": "2022-04-06T09:16:57.074Z"
   },
   {
    "duration": 90,
    "start_time": "2022-04-06T09:17:27.859Z"
   },
   {
    "duration": 5,
    "start_time": "2022-04-06T09:21:53.279Z"
   },
   {
    "duration": 21,
    "start_time": "2022-04-06T09:23:04.783Z"
   },
   {
    "duration": 21,
    "start_time": "2022-04-06T09:23:15.557Z"
   },
   {
    "duration": 5,
    "start_time": "2022-04-06T09:23:20.712Z"
   },
   {
    "duration": 31,
    "start_time": "2022-04-06T09:23:26.581Z"
   },
   {
    "duration": 5,
    "start_time": "2022-04-06T09:28:58.619Z"
   },
   {
    "duration": 28,
    "start_time": "2022-04-06T09:29:01.711Z"
   },
   {
    "duration": 92,
    "start_time": "2022-04-06T09:32:13.118Z"
   },
   {
    "duration": 7,
    "start_time": "2022-04-06T09:32:19.244Z"
   },
   {
    "duration": 28,
    "start_time": "2022-04-06T09:32:23.943Z"
   },
   {
    "duration": 28,
    "start_time": "2022-04-06T09:32:28.876Z"
   },
   {
    "duration": 11,
    "start_time": "2022-04-06T09:38:41.204Z"
   },
   {
    "duration": 36,
    "start_time": "2022-04-06T09:38:45.594Z"
   },
   {
    "duration": 554,
    "start_time": "2022-04-06T09:39:13.565Z"
   },
   {
    "duration": 254,
    "start_time": "2022-04-06T09:39:21.708Z"
   },
   {
    "duration": 238,
    "start_time": "2022-04-06T09:39:39.978Z"
   },
   {
    "duration": 248,
    "start_time": "2022-04-06T09:39:43.213Z"
   },
   {
    "duration": 235,
    "start_time": "2022-04-06T09:39:46.711Z"
   },
   {
    "duration": 260,
    "start_time": "2022-04-06T09:40:56.341Z"
   },
   {
    "duration": 7,
    "start_time": "2022-04-06T09:57:15.365Z"
   },
   {
    "duration": 250,
    "start_time": "2022-04-06T10:00:16.027Z"
   },
   {
    "duration": 223,
    "start_time": "2022-04-06T10:00:22.121Z"
   },
   {
    "duration": 243,
    "start_time": "2022-04-06T10:00:25.347Z"
   },
   {
    "duration": 226,
    "start_time": "2022-04-06T10:00:32.707Z"
   },
   {
    "duration": 1386,
    "start_time": "2022-04-07T05:27:08.506Z"
   },
   {
    "duration": 417,
    "start_time": "2022-04-07T05:27:09.894Z"
   },
   {
    "duration": 12,
    "start_time": "2022-04-07T05:27:10.313Z"
   },
   {
    "duration": 22,
    "start_time": "2022-04-07T05:27:10.327Z"
   },
   {
    "duration": 18,
    "start_time": "2022-04-07T05:27:10.351Z"
   },
   {
    "duration": 29,
    "start_time": "2022-04-07T05:27:10.371Z"
   },
   {
    "duration": 23,
    "start_time": "2022-04-07T05:27:10.402Z"
   },
   {
    "duration": 44,
    "start_time": "2022-04-07T05:27:10.427Z"
   },
   {
    "duration": 32,
    "start_time": "2022-04-07T05:27:10.473Z"
   },
   {
    "duration": 9,
    "start_time": "2022-04-07T05:27:10.508Z"
   },
   {
    "duration": 13,
    "start_time": "2022-04-07T05:27:10.519Z"
   },
   {
    "duration": 23,
    "start_time": "2022-04-07T05:27:10.534Z"
   },
   {
    "duration": 47,
    "start_time": "2022-04-07T05:27:10.558Z"
   },
   {
    "duration": 19,
    "start_time": "2022-04-07T05:27:10.606Z"
   },
   {
    "duration": 20,
    "start_time": "2022-04-07T05:27:10.627Z"
   },
   {
    "duration": 8,
    "start_time": "2022-04-07T05:27:10.648Z"
   },
   {
    "duration": 12,
    "start_time": "2022-04-07T05:27:10.658Z"
   },
   {
    "duration": 30,
    "start_time": "2022-04-07T05:27:10.672Z"
   },
   {
    "duration": 5,
    "start_time": "2022-04-07T05:27:10.703Z"
   },
   {
    "duration": 7,
    "start_time": "2022-04-07T05:27:10.710Z"
   },
   {
    "duration": 6,
    "start_time": "2022-04-07T05:27:10.718Z"
   },
   {
    "duration": 7,
    "start_time": "2022-04-07T05:27:10.725Z"
   },
   {
    "duration": 788,
    "start_time": "2022-04-07T05:27:10.734Z"
   },
   {
    "duration": 354,
    "start_time": "2022-04-07T05:27:11.524Z"
   },
   {
    "duration": 28,
    "start_time": "2022-04-07T05:27:11.880Z"
   },
   {
    "duration": 59,
    "start_time": "2022-04-07T05:27:11.909Z"
   },
   {
    "duration": 12,
    "start_time": "2022-04-07T05:27:11.970Z"
   },
   {
    "duration": 3,
    "start_time": "2022-04-07T05:27:12.003Z"
   },
   {
    "duration": 6,
    "start_time": "2022-04-07T05:27:12.008Z"
   },
   {
    "duration": 56,
    "start_time": "2022-04-07T05:27:12.016Z"
   },
   {
    "duration": 62,
    "start_time": "2022-04-07T05:27:12.073Z"
   },
   {
    "duration": 21,
    "start_time": "2022-04-07T05:27:12.137Z"
   },
   {
    "duration": 65,
    "start_time": "2022-04-07T05:27:12.160Z"
   },
   {
    "duration": 18,
    "start_time": "2022-04-07T05:27:12.227Z"
   },
   {
    "duration": 27,
    "start_time": "2022-04-07T05:27:12.247Z"
   },
   {
    "duration": 32,
    "start_time": "2022-04-07T05:27:12.275Z"
   },
   {
    "duration": 16,
    "start_time": "2022-04-07T05:27:12.309Z"
   },
   {
    "duration": 5,
    "start_time": "2022-04-07T05:27:12.328Z"
   },
   {
    "duration": 864,
    "start_time": "2022-04-07T05:27:12.335Z"
   },
   {
    "duration": 15,
    "start_time": "2022-04-07T05:27:13.201Z"
   },
   {
    "duration": 10,
    "start_time": "2022-04-07T05:27:13.218Z"
   },
   {
    "duration": 3,
    "start_time": "2022-04-07T05:27:13.230Z"
   },
   {
    "duration": 73,
    "start_time": "2022-04-07T05:27:13.235Z"
   },
   {
    "duration": 16,
    "start_time": "2022-04-07T05:27:13.311Z"
   },
   {
    "duration": 7,
    "start_time": "2022-04-07T05:27:13.329Z"
   },
   {
    "duration": 23,
    "start_time": "2022-04-07T05:27:13.338Z"
   },
   {
    "duration": 48,
    "start_time": "2022-04-07T05:27:13.363Z"
   },
   {
    "duration": 69,
    "start_time": "2022-04-07T05:27:13.412Z"
   },
   {
    "duration": 21,
    "start_time": "2022-04-07T05:27:13.483Z"
   },
   {
    "duration": 98,
    "start_time": "2022-04-07T05:27:13.506Z"
   },
   {
    "duration": 5,
    "start_time": "2022-04-07T05:27:13.605Z"
   },
   {
    "duration": 107,
    "start_time": "2022-04-07T05:27:13.612Z"
   },
   {
    "duration": 4,
    "start_time": "2022-04-07T05:27:13.721Z"
   },
   {
    "duration": 19,
    "start_time": "2022-04-07T05:27:13.726Z"
   },
   {
    "duration": 5,
    "start_time": "2022-04-07T05:27:13.747Z"
   },
   {
    "duration": 176,
    "start_time": "2022-04-07T05:27:13.753Z"
   },
   {
    "duration": 159,
    "start_time": "2022-04-07T05:27:13.931Z"
   },
   {
    "duration": 11,
    "start_time": "2022-04-07T05:27:14.092Z"
   },
   {
    "duration": 134,
    "start_time": "2022-04-07T06:19:46.118Z"
   },
   {
    "duration": 144,
    "start_time": "2022-04-07T06:19:53.571Z"
   },
   {
    "duration": 18,
    "start_time": "2022-04-07T07:08:21.950Z"
   },
   {
    "duration": 157,
    "start_time": "2022-04-07T07:08:39.409Z"
   },
   {
    "duration": 16,
    "start_time": "2022-04-07T07:08:46.875Z"
   },
   {
    "duration": 150,
    "start_time": "2022-04-07T07:08:59.192Z"
   },
   {
    "duration": 7,
    "start_time": "2022-04-07T07:11:32.670Z"
   },
   {
    "duration": 8,
    "start_time": "2022-04-07T07:12:10.162Z"
   },
   {
    "duration": 4,
    "start_time": "2022-04-07T07:14:33.143Z"
   },
   {
    "duration": 5,
    "start_time": "2022-04-07T07:15:08.430Z"
   },
   {
    "duration": 194,
    "start_time": "2022-04-07T07:17:20.515Z"
   },
   {
    "duration": 8,
    "start_time": "2022-04-07T07:17:27.300Z"
   },
   {
    "duration": 10,
    "start_time": "2022-04-07T07:17:51.646Z"
   },
   {
    "duration": 8,
    "start_time": "2022-04-07T07:18:56.519Z"
   },
   {
    "duration": 18,
    "start_time": "2022-04-07T07:20:46.653Z"
   },
   {
    "duration": 10,
    "start_time": "2022-04-07T07:23:41.143Z"
   },
   {
    "duration": 11,
    "start_time": "2022-04-07T07:23:43.217Z"
   },
   {
    "duration": 10,
    "start_time": "2022-04-07T07:23:54.153Z"
   },
   {
    "duration": 9,
    "start_time": "2022-04-07T07:24:11.503Z"
   },
   {
    "duration": 10,
    "start_time": "2022-04-07T07:24:12.021Z"
   },
   {
    "duration": 10,
    "start_time": "2022-04-07T07:24:12.489Z"
   },
   {
    "duration": 15,
    "start_time": "2022-04-07T07:29:03.226Z"
   },
   {
    "duration": 18,
    "start_time": "2022-04-07T07:29:17.934Z"
   },
   {
    "duration": 114,
    "start_time": "2022-04-07T07:29:41.236Z"
   },
   {
    "duration": 160,
    "start_time": "2022-04-07T07:29:46.512Z"
   },
   {
    "duration": 147,
    "start_time": "2022-04-07T07:29:59.698Z"
   },
   {
    "duration": 151,
    "start_time": "2022-04-07T07:33:34.203Z"
   },
   {
    "duration": 137,
    "start_time": "2022-04-07T07:33:41.810Z"
   },
   {
    "duration": 157,
    "start_time": "2022-04-07T07:33:49.463Z"
   },
   {
    "duration": 150,
    "start_time": "2022-04-07T07:33:54.832Z"
   },
   {
    "duration": 154,
    "start_time": "2022-04-07T07:34:00.779Z"
   },
   {
    "duration": 159,
    "start_time": "2022-04-07T07:34:06.092Z"
   },
   {
    "duration": 405,
    "start_time": "2022-04-07T07:37:57.042Z"
   },
   {
    "duration": 306,
    "start_time": "2022-04-07T07:38:48.403Z"
   },
   {
    "duration": 322,
    "start_time": "2022-04-07T07:39:10.302Z"
   },
   {
    "duration": 341,
    "start_time": "2022-04-07T07:39:38.564Z"
   },
   {
    "duration": 326,
    "start_time": "2022-04-07T07:39:57.950Z"
   },
   {
    "duration": 305,
    "start_time": "2022-04-07T07:40:02.706Z"
   },
   {
    "duration": 353,
    "start_time": "2022-04-07T07:40:06.396Z"
   },
   {
    "duration": 520,
    "start_time": "2022-04-07T07:40:09.783Z"
   },
   {
    "duration": 737,
    "start_time": "2022-04-07T07:40:16.368Z"
   },
   {
    "duration": 385,
    "start_time": "2022-04-07T07:40:21.181Z"
   },
   {
    "duration": 329,
    "start_time": "2022-04-07T07:40:27.150Z"
   },
   {
    "duration": 308,
    "start_time": "2022-04-07T07:42:15.379Z"
   },
   {
    "duration": 203,
    "start_time": "2022-04-07T07:44:06.070Z"
   },
   {
    "duration": 151,
    "start_time": "2022-04-07T07:44:13.893Z"
   },
   {
    "duration": 309,
    "start_time": "2022-04-07T07:44:30.063Z"
   },
   {
    "duration": 259,
    "start_time": "2022-04-07T07:44:35.506Z"
   },
   {
    "duration": 295,
    "start_time": "2022-04-07T07:44:47.376Z"
   },
   {
    "duration": 22,
    "start_time": "2022-04-07T07:46:40.269Z"
   },
   {
    "duration": 24,
    "start_time": "2022-04-07T07:47:42.080Z"
   },
   {
    "duration": 23,
    "start_time": "2022-04-07T07:47:45.335Z"
   },
   {
    "duration": 22,
    "start_time": "2022-04-07T07:47:49.299Z"
   },
   {
    "duration": 323,
    "start_time": "2022-04-07T07:50:39.098Z"
   },
   {
    "duration": 284,
    "start_time": "2022-04-07T07:50:47.826Z"
   },
   {
    "duration": 295,
    "start_time": "2022-04-07T07:50:55.009Z"
   },
   {
    "duration": 18,
    "start_time": "2022-04-07T07:51:48.587Z"
   },
   {
    "duration": 324,
    "start_time": "2022-04-07T07:54:45.099Z"
   },
   {
    "duration": 350,
    "start_time": "2022-04-07T07:55:09.957Z"
   },
   {
    "duration": 348,
    "start_time": "2022-04-07T07:55:41.055Z"
   },
   {
    "duration": 342,
    "start_time": "2022-04-07T07:58:16.539Z"
   },
   {
    "duration": 381,
    "start_time": "2022-04-07T07:58:21.966Z"
   },
   {
    "duration": 348,
    "start_time": "2022-04-07T07:58:32.870Z"
   },
   {
    "duration": 8,
    "start_time": "2022-04-07T07:59:59.669Z"
   },
   {
    "duration": 3,
    "start_time": "2022-04-07T08:00:53.512Z"
   },
   {
    "duration": 4,
    "start_time": "2022-04-07T08:00:58.740Z"
   },
   {
    "duration": 5,
    "start_time": "2022-04-07T08:01:17.741Z"
   },
   {
    "duration": 5,
    "start_time": "2022-04-07T08:03:08.887Z"
   },
   {
    "duration": 18,
    "start_time": "2022-04-07T08:06:03.036Z"
   },
   {
    "duration": 17,
    "start_time": "2022-04-07T08:06:38.774Z"
   },
   {
    "duration": 14,
    "start_time": "2022-04-07T08:06:46.503Z"
   },
   {
    "duration": 8,
    "start_time": "2022-04-07T08:07:13.320Z"
   },
   {
    "duration": 13,
    "start_time": "2022-04-07T08:07:16.926Z"
   },
   {
    "duration": 309,
    "start_time": "2022-04-07T08:07:22.966Z"
   },
   {
    "duration": 10,
    "start_time": "2022-04-07T08:07:34.177Z"
   },
   {
    "duration": 10,
    "start_time": "2022-04-07T08:07:41.768Z"
   },
   {
    "duration": 10,
    "start_time": "2022-04-07T08:08:10.054Z"
   },
   {
    "duration": 10,
    "start_time": "2022-04-07T08:08:19.487Z"
   },
   {
    "duration": 24,
    "start_time": "2022-04-07T08:08:22.949Z"
   },
   {
    "duration": 7,
    "start_time": "2022-04-07T08:08:33.133Z"
   },
   {
    "duration": 11,
    "start_time": "2022-04-07T08:08:46.498Z"
   },
   {
    "duration": 17,
    "start_time": "2022-04-07T08:08:55.430Z"
   },
   {
    "duration": 3,
    "start_time": "2022-04-07T08:09:02.011Z"
   },
   {
    "duration": 410,
    "start_time": "2022-04-07T08:09:02.016Z"
   },
   {
    "duration": 7,
    "start_time": "2022-04-07T08:09:02.428Z"
   },
   {
    "duration": 21,
    "start_time": "2022-04-07T08:09:02.436Z"
   },
   {
    "duration": 18,
    "start_time": "2022-04-07T08:09:02.459Z"
   },
   {
    "duration": 10,
    "start_time": "2022-04-07T08:09:02.479Z"
   },
   {
    "duration": 35,
    "start_time": "2022-04-07T08:09:02.490Z"
   },
   {
    "duration": 34,
    "start_time": "2022-04-07T08:09:02.527Z"
   },
   {
    "duration": 34,
    "start_time": "2022-04-07T08:09:02.562Z"
   },
   {
    "duration": 8,
    "start_time": "2022-04-07T08:09:02.598Z"
   },
   {
    "duration": 28,
    "start_time": "2022-04-07T08:09:02.607Z"
   },
   {
    "duration": 33,
    "start_time": "2022-04-07T08:09:02.637Z"
   },
   {
    "duration": 35,
    "start_time": "2022-04-07T08:09:02.672Z"
   },
   {
    "duration": 24,
    "start_time": "2022-04-07T08:09:02.710Z"
   },
   {
    "duration": 21,
    "start_time": "2022-04-07T08:09:02.736Z"
   },
   {
    "duration": 20,
    "start_time": "2022-04-07T08:09:02.758Z"
   },
   {
    "duration": 24,
    "start_time": "2022-04-07T08:09:02.780Z"
   },
   {
    "duration": 20,
    "start_time": "2022-04-07T08:09:02.805Z"
   },
   {
    "duration": 23,
    "start_time": "2022-04-07T08:09:02.826Z"
   },
   {
    "duration": 14,
    "start_time": "2022-04-07T08:09:02.850Z"
   },
   {
    "duration": 23,
    "start_time": "2022-04-07T08:09:02.865Z"
   },
   {
    "duration": 27,
    "start_time": "2022-04-07T08:09:02.889Z"
   },
   {
    "duration": 560,
    "start_time": "2022-04-07T08:09:02.918Z"
   },
   {
    "duration": 361,
    "start_time": "2022-04-07T08:09:03.479Z"
   },
   {
    "duration": 21,
    "start_time": "2022-04-07T08:09:03.842Z"
   },
   {
    "duration": 62,
    "start_time": "2022-04-07T08:09:03.865Z"
   },
   {
    "duration": 9,
    "start_time": "2022-04-07T08:09:03.928Z"
   },
   {
    "duration": 16,
    "start_time": "2022-04-07T08:09:03.939Z"
   },
   {
    "duration": 23,
    "start_time": "2022-04-07T08:09:03.957Z"
   },
   {
    "duration": 57,
    "start_time": "2022-04-07T08:09:03.981Z"
   },
   {
    "duration": 37,
    "start_time": "2022-04-07T08:09:04.039Z"
   },
   {
    "duration": 32,
    "start_time": "2022-04-07T08:09:04.077Z"
   },
   {
    "duration": 34,
    "start_time": "2022-04-07T08:09:04.111Z"
   },
   {
    "duration": 17,
    "start_time": "2022-04-07T08:09:04.146Z"
   },
   {
    "duration": 37,
    "start_time": "2022-04-07T08:09:04.164Z"
   },
   {
    "duration": 14,
    "start_time": "2022-04-07T08:09:04.203Z"
   },
   {
    "duration": 32,
    "start_time": "2022-04-07T08:09:04.218Z"
   },
   {
    "duration": 16,
    "start_time": "2022-04-07T08:09:04.252Z"
   },
   {
    "duration": 1103,
    "start_time": "2022-04-07T08:09:04.270Z"
   },
   {
    "duration": 14,
    "start_time": "2022-04-07T08:09:05.375Z"
   },
   {
    "duration": 10,
    "start_time": "2022-04-07T08:09:05.402Z"
   },
   {
    "duration": 5,
    "start_time": "2022-04-07T08:09:05.414Z"
   },
   {
    "duration": 53,
    "start_time": "2022-04-07T08:09:05.421Z"
   },
   {
    "duration": 14,
    "start_time": "2022-04-07T08:09:05.476Z"
   },
   {
    "duration": 6,
    "start_time": "2022-04-07T08:09:05.501Z"
   },
   {
    "duration": 28,
    "start_time": "2022-04-07T08:09:05.509Z"
   },
   {
    "duration": 15,
    "start_time": "2022-04-07T08:09:05.539Z"
   },
   {
    "duration": 79,
    "start_time": "2022-04-07T08:09:05.556Z"
   },
   {
    "duration": 8,
    "start_time": "2022-04-07T08:09:05.636Z"
   },
   {
    "duration": 91,
    "start_time": "2022-04-07T08:09:05.646Z"
   },
   {
    "duration": 5,
    "start_time": "2022-04-07T08:09:05.739Z"
   },
   {
    "duration": 101,
    "start_time": "2022-04-07T08:09:05.745Z"
   },
   {
    "duration": 4,
    "start_time": "2022-04-07T08:09:05.848Z"
   },
   {
    "duration": 22,
    "start_time": "2022-04-07T08:09:05.853Z"
   },
   {
    "duration": 15,
    "start_time": "2022-04-07T08:09:05.876Z"
   },
   {
    "duration": 159,
    "start_time": "2022-04-07T08:09:05.892Z"
   },
   {
    "duration": 7,
    "start_time": "2022-04-07T08:09:06.053Z"
   },
   {
    "duration": 7,
    "start_time": "2022-04-07T08:09:06.061Z"
   },
   {
    "duration": 173,
    "start_time": "2022-04-07T08:09:06.069Z"
   },
   {
    "duration": 9,
    "start_time": "2022-04-07T08:09:06.243Z"
   },
   {
    "duration": 174,
    "start_time": "2022-04-07T08:09:06.253Z"
   },
   {
    "duration": 9,
    "start_time": "2022-04-07T08:09:06.428Z"
   },
   {
    "duration": 8,
    "start_time": "2022-04-07T08:09:06.438Z"
   },
   {
    "duration": 8,
    "start_time": "2022-04-07T08:09:06.447Z"
   },
   {
    "duration": 8,
    "start_time": "2022-04-07T08:09:06.457Z"
   },
   {
    "duration": 358,
    "start_time": "2022-04-07T08:09:06.466Z"
   },
   {
    "duration": 303,
    "start_time": "2022-04-07T08:09:06.826Z"
   },
   {
    "duration": 5,
    "start_time": "2022-04-07T08:09:07.131Z"
   },
   {
    "duration": 12,
    "start_time": "2022-04-07T08:09:07.137Z"
   },
   {
    "duration": 17,
    "start_time": "2022-04-07T08:09:07.151Z"
   },
   {
    "duration": 35,
    "start_time": "2022-04-07T08:09:31.632Z"
   },
   {
    "duration": 5,
    "start_time": "2022-04-07T08:09:47.490Z"
   },
   {
    "duration": 205,
    "start_time": "2022-04-07T08:10:04.358Z"
   },
   {
    "duration": 5,
    "start_time": "2022-04-07T08:10:17.592Z"
   },
   {
    "duration": 5,
    "start_time": "2022-04-07T08:10:32.616Z"
   },
   {
    "duration": 200,
    "start_time": "2022-04-07T08:10:58.784Z"
   },
   {
    "duration": 20,
    "start_time": "2022-04-07T08:11:09.294Z"
   },
   {
    "duration": 8,
    "start_time": "2022-04-07T08:12:28.350Z"
   },
   {
    "duration": 343,
    "start_time": "2022-04-07T08:12:38.269Z"
   },
   {
    "duration": 411,
    "start_time": "2022-04-07T08:12:53.137Z"
   },
   {
    "duration": 4,
    "start_time": "2022-04-07T08:13:16.324Z"
   },
   {
    "duration": 4,
    "start_time": "2022-04-07T08:13:38.958Z"
   },
   {
    "duration": 5,
    "start_time": "2022-04-07T08:15:28.769Z"
   },
   {
    "duration": 4,
    "start_time": "2022-04-07T08:23:41.820Z"
   },
   {
    "duration": 6,
    "start_time": "2022-04-07T08:24:13.521Z"
   },
   {
    "duration": 7,
    "start_time": "2022-04-07T08:25:46.398Z"
   },
   {
    "duration": 6,
    "start_time": "2022-04-07T08:26:00.298Z"
   },
   {
    "duration": 308,
    "start_time": "2022-04-07T08:32:52.440Z"
   },
   {
    "duration": 7,
    "start_time": "2022-04-07T08:33:20.707Z"
   },
   {
    "duration": 7,
    "start_time": "2022-04-07T08:36:12.901Z"
   },
   {
    "duration": 6,
    "start_time": "2022-04-07T08:36:13.148Z"
   },
   {
    "duration": 7,
    "start_time": "2022-04-07T08:37:26.259Z"
   },
   {
    "duration": 7,
    "start_time": "2022-04-07T08:37:29.613Z"
   },
   {
    "duration": 7,
    "start_time": "2022-04-07T08:37:32.908Z"
   },
   {
    "duration": 1251,
    "start_time": "2022-04-07T08:49:30.368Z"
   },
   {
    "duration": 389,
    "start_time": "2022-04-07T08:49:31.621Z"
   },
   {
    "duration": 11,
    "start_time": "2022-04-07T08:49:32.012Z"
   },
   {
    "duration": 28,
    "start_time": "2022-04-07T08:49:32.025Z"
   },
   {
    "duration": 20,
    "start_time": "2022-04-07T08:49:32.055Z"
   },
   {
    "duration": 22,
    "start_time": "2022-04-07T08:49:32.077Z"
   },
   {
    "duration": 11,
    "start_time": "2022-04-07T08:49:32.101Z"
   },
   {
    "duration": 36,
    "start_time": "2022-04-07T08:49:32.114Z"
   },
   {
    "duration": 38,
    "start_time": "2022-04-07T08:49:32.152Z"
   },
   {
    "duration": 14,
    "start_time": "2022-04-07T08:49:32.193Z"
   },
   {
    "duration": 22,
    "start_time": "2022-04-07T08:49:32.209Z"
   },
   {
    "duration": 35,
    "start_time": "2022-04-07T08:49:32.234Z"
   },
   {
    "duration": 38,
    "start_time": "2022-04-07T08:49:32.271Z"
   },
   {
    "duration": 20,
    "start_time": "2022-04-07T08:49:32.311Z"
   },
   {
    "duration": 28,
    "start_time": "2022-04-07T08:49:32.332Z"
   },
   {
    "duration": 20,
    "start_time": "2022-04-07T08:49:32.362Z"
   },
   {
    "duration": 46,
    "start_time": "2022-04-07T08:49:32.384Z"
   },
   {
    "duration": 23,
    "start_time": "2022-04-07T08:49:32.431Z"
   },
   {
    "duration": 25,
    "start_time": "2022-04-07T08:49:32.455Z"
   },
   {
    "duration": 28,
    "start_time": "2022-04-07T08:49:32.482Z"
   },
   {
    "duration": 21,
    "start_time": "2022-04-07T08:49:32.512Z"
   },
   {
    "duration": 32,
    "start_time": "2022-04-07T08:49:32.534Z"
   },
   {
    "duration": 682,
    "start_time": "2022-04-07T08:49:32.567Z"
   },
   {
    "duration": 354,
    "start_time": "2022-04-07T08:49:33.251Z"
   },
   {
    "duration": 22,
    "start_time": "2022-04-07T08:49:33.607Z"
   },
   {
    "duration": 56,
    "start_time": "2022-04-07T08:49:33.631Z"
   },
   {
    "duration": 13,
    "start_time": "2022-04-07T08:49:33.701Z"
   },
   {
    "duration": 12,
    "start_time": "2022-04-07T08:49:33.718Z"
   },
   {
    "duration": 30,
    "start_time": "2022-04-07T08:49:33.732Z"
   },
   {
    "duration": 77,
    "start_time": "2022-04-07T08:49:33.763Z"
   },
   {
    "duration": 42,
    "start_time": "2022-04-07T08:49:33.842Z"
   },
   {
    "duration": 23,
    "start_time": "2022-04-07T08:49:33.885Z"
   },
   {
    "duration": 38,
    "start_time": "2022-04-07T08:49:33.909Z"
   },
   {
    "duration": 16,
    "start_time": "2022-04-07T08:49:33.949Z"
   },
   {
    "duration": 44,
    "start_time": "2022-04-07T08:49:33.967Z"
   },
   {
    "duration": 12,
    "start_time": "2022-04-07T08:49:34.012Z"
   },
   {
    "duration": 15,
    "start_time": "2022-04-07T08:49:34.026Z"
   },
   {
    "duration": 21,
    "start_time": "2022-04-07T08:49:34.042Z"
   },
   {
    "duration": 845,
    "start_time": "2022-04-07T08:49:34.064Z"
   },
   {
    "duration": 14,
    "start_time": "2022-04-07T08:49:34.911Z"
   },
   {
    "duration": 14,
    "start_time": "2022-04-07T08:49:34.927Z"
   },
   {
    "duration": 14,
    "start_time": "2022-04-07T08:49:34.943Z"
   },
   {
    "duration": 53,
    "start_time": "2022-04-07T08:49:34.959Z"
   },
   {
    "duration": 13,
    "start_time": "2022-04-07T08:49:35.014Z"
   },
   {
    "duration": 7,
    "start_time": "2022-04-07T08:49:35.028Z"
   },
   {
    "duration": 33,
    "start_time": "2022-04-07T08:49:35.036Z"
   },
   {
    "duration": 13,
    "start_time": "2022-04-07T08:49:35.071Z"
   },
   {
    "duration": 78,
    "start_time": "2022-04-07T08:49:35.085Z"
   },
   {
    "duration": 7,
    "start_time": "2022-04-07T08:49:35.165Z"
   },
   {
    "duration": 99,
    "start_time": "2022-04-07T08:49:35.173Z"
   },
   {
    "duration": 4,
    "start_time": "2022-04-07T08:49:35.273Z"
   },
   {
    "duration": 114,
    "start_time": "2022-04-07T08:49:35.279Z"
   },
   {
    "duration": 4,
    "start_time": "2022-04-07T08:49:35.394Z"
   },
   {
    "duration": 28,
    "start_time": "2022-04-07T08:49:35.399Z"
   },
   {
    "duration": 21,
    "start_time": "2022-04-07T08:49:35.429Z"
   },
   {
    "duration": 181,
    "start_time": "2022-04-07T08:49:35.452Z"
   },
   {
    "duration": 8,
    "start_time": "2022-04-07T08:49:35.635Z"
   },
   {
    "duration": 20,
    "start_time": "2022-04-07T08:49:35.644Z"
   },
   {
    "duration": 168,
    "start_time": "2022-04-07T08:49:35.666Z"
   },
   {
    "duration": 9,
    "start_time": "2022-04-07T08:49:35.835Z"
   },
   {
    "duration": 168,
    "start_time": "2022-04-07T08:49:35.845Z"
   },
   {
    "duration": 10,
    "start_time": "2022-04-07T08:49:36.015Z"
   },
   {
    "duration": 17,
    "start_time": "2022-04-07T08:49:36.027Z"
   },
   {
    "duration": 17,
    "start_time": "2022-04-07T08:49:36.046Z"
   },
   {
    "duration": 21,
    "start_time": "2022-04-07T08:49:36.065Z"
   },
   {
    "duration": 344,
    "start_time": "2022-04-07T08:49:36.088Z"
   },
   {
    "duration": 333,
    "start_time": "2022-04-07T08:49:36.434Z"
   },
   {
    "duration": 5,
    "start_time": "2022-04-07T08:49:36.769Z"
   },
   {
    "duration": 25,
    "start_time": "2022-04-07T08:49:36.776Z"
   },
   {
    "duration": 17,
    "start_time": "2022-04-07T08:49:36.803Z"
   },
   {
    "duration": 10,
    "start_time": "2022-04-07T08:49:36.821Z"
   },
   {
    "duration": 339,
    "start_time": "2022-04-07T08:49:36.832Z"
   },
   {
    "duration": 340,
    "start_time": "2022-04-07T08:49:37.173Z"
   },
   {
    "duration": 9,
    "start_time": "2022-04-07T08:49:37.515Z"
   },
   {
    "duration": 11,
    "start_time": "2022-04-07T08:49:37.526Z"
   },
   {
    "duration": 19,
    "start_time": "2022-04-07T08:49:37.539Z"
   },
   {
    "duration": 16,
    "start_time": "2022-04-07T08:49:37.559Z"
   },
   {
    "duration": 22,
    "start_time": "2022-04-07T08:49:37.577Z"
   },
   {
    "duration": 373,
    "start_time": "2022-04-17T16:02:15.107Z"
   },
   {
    "duration": 100,
    "start_time": "2022-04-17T16:11:48.759Z"
   },
   {
    "duration": 113,
    "start_time": "2022-04-17T16:16:23.617Z"
   },
   {
    "duration": 65,
    "start_time": "2022-04-17T16:20:27.643Z"
   },
   {
    "duration": 1846,
    "start_time": "2022-04-17T16:20:33.819Z"
   },
   {
    "duration": 566,
    "start_time": "2022-04-17T16:20:35.669Z"
   },
   {
    "duration": 20,
    "start_time": "2022-04-17T16:20:36.238Z"
   },
   {
    "duration": 15,
    "start_time": "2022-04-17T16:20:36.260Z"
   },
   {
    "duration": 11,
    "start_time": "2022-04-17T16:20:36.278Z"
   },
   {
    "duration": 47,
    "start_time": "2022-04-17T16:20:36.292Z"
   },
   {
    "duration": 15,
    "start_time": "2022-04-17T16:20:36.342Z"
   },
   {
    "duration": 37,
    "start_time": "2022-04-17T16:20:36.360Z"
   },
   {
    "duration": 71,
    "start_time": "2022-04-17T16:20:36.400Z"
   },
   {
    "duration": 13,
    "start_time": "2022-04-17T16:20:36.473Z"
   },
   {
    "duration": 46,
    "start_time": "2022-04-17T16:20:36.489Z"
   },
   {
    "duration": 31,
    "start_time": "2022-04-17T16:20:36.538Z"
   },
   {
    "duration": 67,
    "start_time": "2022-04-17T16:20:36.572Z"
   },
   {
    "duration": 25,
    "start_time": "2022-04-17T16:20:36.644Z"
   },
   {
    "duration": 53,
    "start_time": "2022-04-17T16:20:36.671Z"
   },
   {
    "duration": 11,
    "start_time": "2022-04-17T16:20:36.727Z"
   },
   {
    "duration": 19,
    "start_time": "2022-04-17T16:20:36.741Z"
   },
   {
    "duration": 11,
    "start_time": "2022-04-17T16:20:36.762Z"
   },
   {
    "duration": 10,
    "start_time": "2022-04-17T16:20:36.775Z"
   },
   {
    "duration": 42,
    "start_time": "2022-04-17T16:20:36.788Z"
   },
   {
    "duration": 7,
    "start_time": "2022-04-17T16:20:36.835Z"
   },
   {
    "duration": 13,
    "start_time": "2022-04-17T16:20:36.845Z"
   },
   {
    "duration": 1021,
    "start_time": "2022-04-17T16:20:36.860Z"
   },
   {
    "duration": 543,
    "start_time": "2022-04-17T16:20:37.883Z"
   },
   {
    "duration": 35,
    "start_time": "2022-04-17T16:20:38.429Z"
   },
   {
    "duration": 120,
    "start_time": "2022-04-17T16:20:38.468Z"
   },
   {
    "duration": 34,
    "start_time": "2022-04-17T16:20:38.590Z"
   },
   {
    "duration": 6,
    "start_time": "2022-04-17T16:20:38.627Z"
   },
   {
    "duration": 16,
    "start_time": "2022-04-17T16:20:38.636Z"
   },
   {
    "duration": 114,
    "start_time": "2022-04-17T16:20:38.655Z"
   },
   {
    "duration": 87,
    "start_time": "2022-04-17T16:20:38.771Z"
   },
   {
    "duration": 29,
    "start_time": "2022-04-17T16:20:38.861Z"
   },
   {
    "duration": 86,
    "start_time": "2022-04-17T16:20:38.892Z"
   },
   {
    "duration": 24,
    "start_time": "2022-04-17T16:20:38.980Z"
   },
   {
    "duration": 49,
    "start_time": "2022-04-17T16:20:39.007Z"
   },
   {
    "duration": 22,
    "start_time": "2022-04-17T16:20:39.058Z"
   },
   {
    "duration": 52,
    "start_time": "2022-04-17T16:20:39.083Z"
   },
   {
    "duration": 10,
    "start_time": "2022-04-17T16:20:39.138Z"
   },
   {
    "duration": 1600,
    "start_time": "2022-04-17T16:20:39.151Z"
   },
   {
    "duration": 24,
    "start_time": "2022-04-17T16:20:40.753Z"
   },
   {
    "duration": 39,
    "start_time": "2022-04-17T16:20:40.786Z"
   },
   {
    "duration": 4,
    "start_time": "2022-04-17T16:20:40.828Z"
   },
   {
    "duration": 96,
    "start_time": "2022-04-17T16:20:40.834Z"
   },
   {
    "duration": 21,
    "start_time": "2022-04-17T16:20:40.932Z"
   },
   {
    "duration": 10,
    "start_time": "2022-04-17T16:20:40.955Z"
   },
   {
    "duration": 15,
    "start_time": "2022-04-17T16:20:40.967Z"
   },
   {
    "duration": 64,
    "start_time": "2022-04-17T16:20:40.985Z"
   },
   {
    "duration": 37,
    "start_time": "2022-04-17T16:20:41.052Z"
   },
   {
    "duration": 196,
    "start_time": "2022-04-17T16:20:41.092Z"
   },
   {
    "duration": 14,
    "start_time": "2022-04-17T16:20:41.291Z"
   },
   {
    "duration": 167,
    "start_time": "2022-04-17T16:20:41.308Z"
   },
   {
    "duration": 6,
    "start_time": "2022-04-17T16:20:41.477Z"
   },
   {
    "duration": 159,
    "start_time": "2022-04-17T16:20:41.485Z"
   },
   {
    "duration": 8,
    "start_time": "2022-04-17T16:20:41.647Z"
   },
   {
    "duration": 41,
    "start_time": "2022-04-17T16:20:41.658Z"
   },
   {
    "duration": 23,
    "start_time": "2022-04-17T16:20:41.702Z"
   },
   {
    "duration": 310,
    "start_time": "2022-04-17T16:20:41.728Z"
   },
   {
    "duration": 11,
    "start_time": "2022-04-17T16:20:42.041Z"
   },
   {
    "duration": 51,
    "start_time": "2022-04-17T16:20:42.055Z"
   },
   {
    "duration": 289,
    "start_time": "2022-04-17T16:20:42.108Z"
   },
   {
    "duration": 30,
    "start_time": "2022-04-17T16:20:42.400Z"
   },
   {
    "duration": 300,
    "start_time": "2022-04-17T16:20:42.433Z"
   },
   {
    "duration": 12,
    "start_time": "2022-04-17T16:20:42.735Z"
   },
   {
    "duration": 14,
    "start_time": "2022-04-17T16:20:42.749Z"
   },
   {
    "duration": 16,
    "start_time": "2022-04-17T16:20:42.765Z"
   },
   {
    "duration": 55,
    "start_time": "2022-04-17T16:20:42.783Z"
   },
   {
    "duration": 565,
    "start_time": "2022-04-17T16:20:42.841Z"
   },
   {
    "duration": 497,
    "start_time": "2022-04-17T16:20:43.408Z"
   },
   {
    "duration": 18,
    "start_time": "2022-04-17T16:20:43.907Z"
   },
   {
    "duration": 20,
    "start_time": "2022-04-17T16:20:43.928Z"
   },
   {
    "duration": 40,
    "start_time": "2022-04-17T16:20:43.951Z"
   },
   {
    "duration": 47,
    "start_time": "2022-04-17T16:20:43.993Z"
   },
   {
    "duration": 545,
    "start_time": "2022-04-17T16:20:44.043Z"
   },
   {
    "duration": 495,
    "start_time": "2022-04-17T16:20:44.591Z"
   },
   {
    "duration": 12,
    "start_time": "2022-04-17T16:20:45.088Z"
   },
   {
    "duration": 7,
    "start_time": "2022-04-17T16:20:45.125Z"
   },
   {
    "duration": 18,
    "start_time": "2022-04-17T16:20:45.135Z"
   },
   {
    "duration": 27,
    "start_time": "2022-04-17T16:20:45.156Z"
   },
   {
    "duration": 11,
    "start_time": "2022-04-17T16:20:45.185Z"
   },
   {
    "duration": 42,
    "start_time": "2022-04-17T16:22:25.432Z"
   },
   {
    "duration": 7,
    "start_time": "2022-04-17T16:23:14.968Z"
   },
   {
    "duration": 42,
    "start_time": "2022-04-17T16:23:22.011Z"
   },
   {
    "duration": 45,
    "start_time": "2022-04-17T16:27:19.915Z"
   },
   {
    "duration": 1859,
    "start_time": "2022-04-17T16:27:40.972Z"
   },
   {
    "duration": 106,
    "start_time": "2022-04-17T16:28:37.645Z"
   },
   {
    "duration": 11,
    "start_time": "2022-04-17T16:28:41.692Z"
   },
   {
    "duration": 94,
    "start_time": "2022-04-17T16:31:25.532Z"
   },
   {
    "duration": 178,
    "start_time": "2022-04-17T16:34:31.172Z"
   },
   {
    "duration": 96,
    "start_time": "2022-04-17T16:36:20.542Z"
   },
   {
    "duration": 232,
    "start_time": "2022-04-17T16:37:54.874Z"
   },
   {
    "duration": 142,
    "start_time": "2022-04-17T16:40:37.578Z"
   },
   {
    "duration": 88,
    "start_time": "2022-04-17T16:41:08.236Z"
   },
   {
    "duration": 133,
    "start_time": "2022-04-17T16:42:30.004Z"
   },
   {
    "duration": 46,
    "start_time": "2022-04-17T16:52:22.395Z"
   },
   {
    "duration": 7,
    "start_time": "2022-04-17T16:52:32.602Z"
   },
   {
    "duration": 21,
    "start_time": "2022-04-17T16:53:05.749Z"
   },
   {
    "duration": 21,
    "start_time": "2022-04-17T16:58:34.937Z"
   },
   {
    "duration": 1655,
    "start_time": "2022-04-17T17:00:14.059Z"
   },
   {
    "duration": 715,
    "start_time": "2022-04-17T17:00:15.717Z"
   },
   {
    "duration": 26,
    "start_time": "2022-04-17T17:00:16.435Z"
   },
   {
    "duration": 18,
    "start_time": "2022-04-17T17:00:16.464Z"
   },
   {
    "duration": 44,
    "start_time": "2022-04-17T17:00:16.487Z"
   },
   {
    "duration": 42,
    "start_time": "2022-04-17T17:00:16.534Z"
   },
   {
    "duration": 30,
    "start_time": "2022-04-17T17:00:16.579Z"
   },
   {
    "duration": 58,
    "start_time": "2022-04-17T17:00:16.611Z"
   },
   {
    "duration": 66,
    "start_time": "2022-04-17T17:00:16.672Z"
   },
   {
    "duration": 13,
    "start_time": "2022-04-17T17:00:16.741Z"
   },
   {
    "duration": 33,
    "start_time": "2022-04-17T17:00:16.757Z"
   },
   {
    "duration": 62,
    "start_time": "2022-04-17T17:00:16.792Z"
   },
   {
    "duration": 39,
    "start_time": "2022-04-17T17:00:16.857Z"
   },
   {
    "duration": 60,
    "start_time": "2022-04-17T17:00:16.901Z"
   },
   {
    "duration": 48,
    "start_time": "2022-04-17T17:00:16.964Z"
   },
   {
    "duration": 24,
    "start_time": "2022-04-17T17:00:17.014Z"
   },
   {
    "duration": 48,
    "start_time": "2022-04-17T17:00:17.041Z"
   },
   {
    "duration": 27,
    "start_time": "2022-04-17T17:00:17.091Z"
   },
   {
    "duration": 27,
    "start_time": "2022-04-17T17:00:17.121Z"
   },
   {
    "duration": 15,
    "start_time": "2022-04-17T17:00:17.151Z"
   },
   {
    "duration": 18,
    "start_time": "2022-04-17T17:00:17.168Z"
   },
   {
    "duration": 15,
    "start_time": "2022-04-17T17:00:17.189Z"
   },
   {
    "duration": 1187,
    "start_time": "2022-04-17T17:00:17.206Z"
   },
   {
    "duration": 490,
    "start_time": "2022-04-17T17:00:18.395Z"
   },
   {
    "duration": 45,
    "start_time": "2022-04-17T17:00:18.887Z"
   },
   {
    "duration": 98,
    "start_time": "2022-04-17T17:00:18.934Z"
   },
   {
    "duration": 18,
    "start_time": "2022-04-17T17:00:19.034Z"
   },
   {
    "duration": 7,
    "start_time": "2022-04-17T17:00:19.054Z"
   },
   {
    "duration": 29,
    "start_time": "2022-04-17T17:00:19.063Z"
   },
   {
    "duration": 94,
    "start_time": "2022-04-17T17:00:19.094Z"
   },
   {
    "duration": 81,
    "start_time": "2022-04-17T17:00:19.190Z"
   },
   {
    "duration": 29,
    "start_time": "2022-04-17T17:00:19.273Z"
   },
   {
    "duration": 61,
    "start_time": "2022-04-17T17:00:19.324Z"
   },
   {
    "duration": 41,
    "start_time": "2022-04-17T17:00:19.387Z"
   },
   {
    "duration": 35,
    "start_time": "2022-04-17T17:00:19.431Z"
   },
   {
    "duration": 22,
    "start_time": "2022-04-17T17:00:19.469Z"
   },
   {
    "duration": 49,
    "start_time": "2022-04-17T17:00:19.494Z"
   },
   {
    "duration": 32,
    "start_time": "2022-04-17T17:00:19.546Z"
   },
   {
    "duration": 1564,
    "start_time": "2022-04-17T17:00:19.580Z"
   },
   {
    "duration": 26,
    "start_time": "2022-04-17T17:00:21.147Z"
   },
   {
    "duration": 45,
    "start_time": "2022-04-17T17:00:21.188Z"
   },
   {
    "duration": 6,
    "start_time": "2022-04-17T17:00:21.236Z"
   },
   {
    "duration": 95,
    "start_time": "2022-04-17T17:00:21.244Z"
   },
   {
    "duration": 23,
    "start_time": "2022-04-17T17:00:21.342Z"
   },
   {
    "duration": 11,
    "start_time": "2022-04-17T17:00:21.367Z"
   },
   {
    "duration": 45,
    "start_time": "2022-04-17T17:00:21.381Z"
   },
   {
    "duration": 36,
    "start_time": "2022-04-17T17:00:21.429Z"
   },
   {
    "duration": 26,
    "start_time": "2022-04-17T17:00:21.468Z"
   },
   {
    "duration": 123,
    "start_time": "2022-04-17T17:00:21.523Z"
   },
   {
    "duration": 15,
    "start_time": "2022-04-17T17:00:21.649Z"
   },
   {
    "duration": 163,
    "start_time": "2022-04-17T17:00:21.667Z"
   },
   {
    "duration": 7,
    "start_time": "2022-04-17T17:00:21.833Z"
   },
   {
    "duration": 167,
    "start_time": "2022-04-17T17:00:21.843Z"
   },
   {
    "duration": 16,
    "start_time": "2022-04-17T17:00:22.012Z"
   },
   {
    "duration": 38,
    "start_time": "2022-04-17T17:00:22.031Z"
   },
   {
    "duration": 28,
    "start_time": "2022-04-17T17:00:22.071Z"
   },
   {
    "duration": 23,
    "start_time": "2022-04-17T17:00:22.102Z"
   },
   {
    "duration": 315,
    "start_time": "2022-04-17T17:00:22.129Z"
   },
   {
    "duration": 12,
    "start_time": "2022-04-17T17:00:22.447Z"
   },
   {
    "duration": 10,
    "start_time": "2022-04-17T17:00:22.461Z"
   },
   {
    "duration": 305,
    "start_time": "2022-04-17T17:00:22.474Z"
   },
   {
    "duration": 15,
    "start_time": "2022-04-17T17:00:22.782Z"
   },
   {
    "duration": 393,
    "start_time": "2022-04-17T17:00:22.824Z"
   },
   {
    "duration": 14,
    "start_time": "2022-04-17T17:00:23.224Z"
   },
   {
    "duration": 16,
    "start_time": "2022-04-17T17:00:23.240Z"
   },
   {
    "duration": 13,
    "start_time": "2022-04-17T17:00:23.259Z"
   },
   {
    "duration": 59,
    "start_time": "2022-04-17T17:00:23.275Z"
   },
   {
    "duration": 643,
    "start_time": "2022-04-17T17:00:23.337Z"
   },
   {
    "duration": 517,
    "start_time": "2022-04-17T17:00:23.983Z"
   },
   {
    "duration": 9,
    "start_time": "2022-04-17T17:00:24.502Z"
   },
   {
    "duration": 19,
    "start_time": "2022-04-17T17:00:24.525Z"
   },
   {
    "duration": 26,
    "start_time": "2022-04-17T17:00:24.546Z"
   },
   {
    "duration": 55,
    "start_time": "2022-04-17T17:00:24.574Z"
   },
   {
    "duration": 572,
    "start_time": "2022-04-17T17:00:24.632Z"
   },
   {
    "duration": 488,
    "start_time": "2022-04-17T17:00:25.207Z"
   },
   {
    "duration": 11,
    "start_time": "2022-04-17T17:00:25.698Z"
   },
   {
    "duration": 16,
    "start_time": "2022-04-17T17:00:25.712Z"
   },
   {
    "duration": 10,
    "start_time": "2022-04-17T17:00:25.730Z"
   },
   {
    "duration": 10,
    "start_time": "2022-04-17T17:00:25.743Z"
   },
   {
    "duration": 10,
    "start_time": "2022-04-17T17:00:25.755Z"
   },
   {
    "duration": 1371,
    "start_time": "2022-04-19T17:16:38.468Z"
   },
   {
    "duration": 320,
    "start_time": "2022-04-19T17:16:39.841Z"
   },
   {
    "duration": 12,
    "start_time": "2022-04-19T17:16:40.162Z"
   },
   {
    "duration": 11,
    "start_time": "2022-04-19T17:16:40.175Z"
   },
   {
    "duration": 6,
    "start_time": "2022-04-19T17:16:41.232Z"
   },
   {
    "duration": 8,
    "start_time": "2022-04-19T17:16:41.620Z"
   },
   {
    "duration": 10,
    "start_time": "2022-04-19T17:16:41.795Z"
   },
   {
    "duration": 21,
    "start_time": "2022-04-19T17:16:43.112Z"
   },
   {
    "duration": 29,
    "start_time": "2022-04-19T17:16:43.317Z"
   },
   {
    "duration": 9,
    "start_time": "2022-04-19T17:16:44.243Z"
   },
   {
    "duration": 12,
    "start_time": "2022-04-19T17:16:44.443Z"
   },
   {
    "duration": 19,
    "start_time": "2022-04-19T17:16:44.830Z"
   },
   {
    "duration": 26,
    "start_time": "2022-04-19T17:16:46.608Z"
   },
   {
    "duration": 31,
    "start_time": "2022-04-19T17:16:46.990Z"
   },
   {
    "duration": 35,
    "start_time": "2022-04-19T17:16:47.344Z"
   },
   {
    "duration": 15,
    "start_time": "2022-04-19T17:16:48.144Z"
   },
   {
    "duration": 13,
    "start_time": "2022-04-19T17:16:49.180Z"
   },
   {
    "duration": 4,
    "start_time": "2022-04-19T17:16:50.023Z"
   },
   {
    "duration": 4,
    "start_time": "2022-04-19T17:16:50.232Z"
   },
   {
    "duration": 6,
    "start_time": "2022-04-19T17:16:51.258Z"
   },
   {
    "duration": 5,
    "start_time": "2022-04-19T17:16:51.532Z"
   },
   {
    "duration": 7,
    "start_time": "2022-04-19T17:16:51.703Z"
   },
   {
    "duration": 660,
    "start_time": "2022-04-19T17:16:51.900Z"
   },
   {
    "duration": 312,
    "start_time": "2022-04-19T17:16:52.562Z"
   },
   {
    "duration": 22,
    "start_time": "2022-04-19T17:16:53.985Z"
   },
   {
    "duration": 52,
    "start_time": "2022-04-19T17:16:54.260Z"
   },
   {
    "duration": 11,
    "start_time": "2022-04-19T17:17:21.050Z"
   },
   {
    "duration": 3,
    "start_time": "2022-04-19T17:17:21.286Z"
   },
   {
    "duration": 4,
    "start_time": "2022-04-19T17:17:21.527Z"
   },
   {
    "duration": 13,
    "start_time": "2022-04-19T17:18:39.361Z"
   },
   {
    "duration": 85,
    "start_time": "2022-04-19T17:19:50.077Z"
   },
   {
    "duration": 8,
    "start_time": "2022-04-19T17:20:13.153Z"
   },
   {
    "duration": 51,
    "start_time": "2022-04-19T17:20:19.673Z"
   },
   {
    "duration": 4,
    "start_time": "2022-04-19T17:20:45.347Z"
   },
   {
    "duration": 1300,
    "start_time": "2022-04-20T08:21:00.145Z"
   },
   {
    "duration": 400,
    "start_time": "2022-04-20T08:21:18.563Z"
   },
   {
    "duration": 11,
    "start_time": "2022-04-20T08:21:20.106Z"
   },
   {
    "duration": 8,
    "start_time": "2022-04-20T08:21:28.530Z"
   },
   {
    "duration": 6,
    "start_time": "2022-04-20T08:21:29.076Z"
   },
   {
    "duration": 7,
    "start_time": "2022-04-20T08:21:29.480Z"
   },
   {
    "duration": 12,
    "start_time": "2022-04-20T08:21:29.643Z"
   },
   {
    "duration": 8,
    "start_time": "2022-04-20T08:21:41.371Z"
   },
   {
    "duration": 9,
    "start_time": "2022-04-20T08:21:41.592Z"
   },
   {
    "duration": 24,
    "start_time": "2022-04-20T08:21:42.022Z"
   },
   {
    "duration": 29,
    "start_time": "2022-04-20T08:21:49.734Z"
   },
   {
    "duration": 8,
    "start_time": "2022-04-20T08:21:50.617Z"
   },
   {
    "duration": 20,
    "start_time": "2022-04-20T08:23:13.107Z"
   },
   {
    "duration": 24,
    "start_time": "2022-04-20T08:23:13.711Z"
   },
   {
    "duration": 16,
    "start_time": "2022-04-20T08:23:20.794Z"
   },
   {
    "duration": 20,
    "start_time": "2022-04-20T08:23:20.988Z"
   },
   {
    "duration": 7,
    "start_time": "2022-04-20T08:23:21.512Z"
   },
   {
    "duration": 10,
    "start_time": "2022-04-20T08:23:21.810Z"
   },
   {
    "duration": 3,
    "start_time": "2022-04-20T08:23:22.092Z"
   },
   {
    "duration": 3,
    "start_time": "2022-04-20T08:23:22.314Z"
   },
   {
    "duration": 5,
    "start_time": "2022-04-20T08:23:22.688Z"
   },
   {
    "duration": 4,
    "start_time": "2022-04-20T08:23:22.933Z"
   },
   {
    "duration": 7,
    "start_time": "2022-04-20T08:23:23.116Z"
   },
   {
    "duration": 738,
    "start_time": "2022-04-20T08:23:23.301Z"
   },
   {
    "duration": 347,
    "start_time": "2022-04-20T08:23:24.041Z"
   },
   {
    "duration": 333,
    "start_time": "2022-04-20T08:24:10.833Z"
   },
   {
    "duration": 23,
    "start_time": "2022-04-20T08:24:33.385Z"
   },
   {
    "duration": 56,
    "start_time": "2022-04-20T08:24:47.898Z"
   },
   {
    "duration": 12,
    "start_time": "2022-04-20T08:24:48.434Z"
   },
   {
    "duration": 3,
    "start_time": "2022-04-20T08:24:48.615Z"
   },
   {
    "duration": 5,
    "start_time": "2022-04-20T08:24:52.058Z"
   },
   {
    "duration": 88,
    "start_time": "2022-04-20T08:27:28.112Z"
   },
   {
    "duration": 12,
    "start_time": "2022-04-20T08:27:38.112Z"
   },
   {
    "duration": 4,
    "start_time": "2022-04-20T08:27:38.307Z"
   },
   {
    "duration": 40,
    "start_time": "2022-04-20T08:27:39.619Z"
   },
   {
    "duration": 18,
    "start_time": "2022-04-20T08:27:50.510Z"
   },
   {
    "duration": 38,
    "start_time": "2022-04-20T08:28:14.058Z"
   },
   {
    "duration": 16,
    "start_time": "2022-04-20T08:28:16.023Z"
   },
   {
    "duration": 32,
    "start_time": "2022-04-20T08:28:16.226Z"
   },
   {
    "duration": 14,
    "start_time": "2022-04-20T08:28:16.565Z"
   },
   {
    "duration": 28,
    "start_time": "2022-04-20T08:29:45.540Z"
   },
   {
    "duration": 16,
    "start_time": "2022-04-20T08:29:52.207Z"
   },
   {
    "duration": 3,
    "start_time": "2022-04-20T08:30:19.899Z"
   },
   {
    "duration": 13,
    "start_time": "2022-04-20T08:30:20.699Z"
   },
   {
    "duration": 13,
    "start_time": "2022-04-20T08:31:19.727Z"
   },
   {
    "duration": 4,
    "start_time": "2022-04-20T08:31:19.923Z"
   },
   {
    "duration": 854,
    "start_time": "2022-04-20T08:31:22.357Z"
   },
   {
    "duration": 16,
    "start_time": "2022-04-20T08:31:23.212Z"
   },
   {
    "duration": 8,
    "start_time": "2022-04-20T08:31:25.331Z"
   },
   {
    "duration": 3,
    "start_time": "2022-04-20T08:31:25.574Z"
   },
   {
    "duration": 49,
    "start_time": "2022-04-20T08:31:42.869Z"
   },
   {
    "duration": 15,
    "start_time": "2022-04-20T08:31:52.590Z"
   },
   {
    "duration": 6,
    "start_time": "2022-04-20T08:32:01.962Z"
   },
   {
    "duration": 9,
    "start_time": "2022-04-20T08:32:02.756Z"
   },
   {
    "duration": 18,
    "start_time": "2022-04-20T08:32:12.229Z"
   },
   {
    "duration": 15,
    "start_time": "2022-04-20T08:32:12.454Z"
   },
   {
    "duration": 65,
    "start_time": "2022-04-20T08:32:13.046Z"
   },
   {
    "duration": 18,
    "start_time": "2022-04-20T08:33:37.414Z"
   },
   {
    "duration": 10,
    "start_time": "2022-04-20T08:36:07.055Z"
   },
   {
    "duration": 10,
    "start_time": "2022-04-20T08:36:13.901Z"
   },
   {
    "duration": 11,
    "start_time": "2022-04-20T08:37:14.874Z"
   },
   {
    "duration": 3,
    "start_time": "2022-04-20T08:38:53.252Z"
   },
   {
    "duration": 398,
    "start_time": "2022-04-20T08:38:53.257Z"
   },
   {
    "duration": 8,
    "start_time": "2022-04-20T08:38:53.657Z"
   },
   {
    "duration": 9,
    "start_time": "2022-04-20T08:38:53.666Z"
   },
   {
    "duration": 8,
    "start_time": "2022-04-20T08:38:53.677Z"
   },
   {
    "duration": 11,
    "start_time": "2022-04-20T08:38:53.686Z"
   },
   {
    "duration": 11,
    "start_time": "2022-04-20T08:38:53.698Z"
   },
   {
    "duration": 25,
    "start_time": "2022-04-20T08:38:53.710Z"
   },
   {
    "duration": 27,
    "start_time": "2022-04-20T08:38:53.737Z"
   },
   {
    "duration": 8,
    "start_time": "2022-04-20T08:38:53.765Z"
   },
   {
    "duration": 30,
    "start_time": "2022-04-20T08:38:53.774Z"
   },
   {
    "duration": 19,
    "start_time": "2022-04-20T08:38:53.805Z"
   },
   {
    "duration": 20,
    "start_time": "2022-04-20T08:38:53.826Z"
   },
   {
    "duration": 17,
    "start_time": "2022-04-20T08:38:53.847Z"
   },
   {
    "duration": 43,
    "start_time": "2022-04-20T08:38:53.865Z"
   },
   {
    "duration": 7,
    "start_time": "2022-04-20T08:38:53.909Z"
   },
   {
    "duration": 11,
    "start_time": "2022-04-20T08:38:53.918Z"
   },
   {
    "duration": 4,
    "start_time": "2022-04-20T08:38:53.931Z"
   },
   {
    "duration": 5,
    "start_time": "2022-04-20T08:38:53.937Z"
   },
   {
    "duration": 7,
    "start_time": "2022-04-20T08:38:53.943Z"
   },
   {
    "duration": 3,
    "start_time": "2022-04-20T08:38:53.952Z"
   },
   {
    "duration": 7,
    "start_time": "2022-04-20T08:38:53.957Z"
   },
   {
    "duration": 561,
    "start_time": "2022-04-20T08:38:53.966Z"
   },
   {
    "duration": 341,
    "start_time": "2022-04-20T08:38:54.531Z"
   },
   {
    "duration": 20,
    "start_time": "2022-04-20T08:38:54.873Z"
   },
   {
    "duration": 53,
    "start_time": "2022-04-20T08:38:54.894Z"
   },
   {
    "duration": 8,
    "start_time": "2022-04-20T08:38:54.949Z"
   },
   {
    "duration": 2,
    "start_time": "2022-04-20T08:38:54.959Z"
   },
   {
    "duration": 8,
    "start_time": "2022-04-20T08:38:54.963Z"
   },
   {
    "duration": 29,
    "start_time": "2022-04-20T08:38:54.972Z"
   },
   {
    "duration": 7,
    "start_time": "2022-04-20T08:38:55.002Z"
   },
   {
    "duration": 35,
    "start_time": "2022-04-20T08:38:55.010Z"
   },
   {
    "duration": 18,
    "start_time": "2022-04-20T08:38:55.046Z"
   },
   {
    "duration": 53,
    "start_time": "2022-04-20T08:38:55.065Z"
   },
   {
    "duration": 16,
    "start_time": "2022-04-20T08:38:55.119Z"
   },
   {
    "duration": 19,
    "start_time": "2022-04-20T08:38:55.136Z"
   },
   {
    "duration": 3,
    "start_time": "2022-04-20T08:38:55.156Z"
   },
   {
    "duration": 16,
    "start_time": "2022-04-20T08:38:55.161Z"
   },
   {
    "duration": 35,
    "start_time": "2022-04-20T08:38:55.179Z"
   },
   {
    "duration": 7,
    "start_time": "2022-04-20T08:38:55.215Z"
   },
   {
    "duration": 843,
    "start_time": "2022-04-20T08:38:55.223Z"
   },
   {
    "duration": 14,
    "start_time": "2022-04-20T08:38:56.067Z"
   },
   {
    "duration": 24,
    "start_time": "2022-04-20T08:38:56.082Z"
   },
   {
    "duration": 2,
    "start_time": "2022-04-20T08:38:56.108Z"
   },
   {
    "duration": 3,
    "start_time": "2022-04-20T08:38:58.462Z"
   },
   {
    "duration": 50,
    "start_time": "2022-04-20T08:38:59.832Z"
   },
   {
    "duration": 50,
    "start_time": "2022-04-20T08:39:27.843Z"
   },
   {
    "duration": 15,
    "start_time": "2022-04-20T08:39:29.160Z"
   },
   {
    "duration": 7,
    "start_time": "2022-04-20T08:39:36.576Z"
   },
   {
    "duration": 10,
    "start_time": "2022-04-20T08:39:36.853Z"
   },
   {
    "duration": 32,
    "start_time": "2022-04-20T08:39:37.131Z"
   },
   {
    "duration": 22,
    "start_time": "2022-04-20T08:39:37.361Z"
   },
   {
    "duration": 8,
    "start_time": "2022-04-20T08:40:26.605Z"
   },
   {
    "duration": 6,
    "start_time": "2022-04-20T08:40:37.793Z"
   },
   {
    "duration": 19,
    "start_time": "2022-04-20T08:40:43.162Z"
   },
   {
    "duration": 17,
    "start_time": "2022-04-20T08:40:55.836Z"
   },
   {
    "duration": 61,
    "start_time": "2022-04-20T08:42:36.529Z"
   },
   {
    "duration": 17,
    "start_time": "2022-04-20T08:42:37.094Z"
   },
   {
    "duration": 4,
    "start_time": "2022-04-20T08:43:25.774Z"
   },
   {
    "duration": 24,
    "start_time": "2022-04-20T08:43:52.683Z"
   },
   {
    "duration": 22,
    "start_time": "2022-04-20T08:43:56.336Z"
   },
   {
    "duration": 66,
    "start_time": "2022-04-20T08:44:20.486Z"
   },
   {
    "duration": 3,
    "start_time": "2022-04-20T08:49:52.270Z"
   },
   {
    "duration": 370,
    "start_time": "2022-04-20T08:49:52.274Z"
   },
   {
    "duration": 7,
    "start_time": "2022-04-20T08:49:52.646Z"
   },
   {
    "duration": 9,
    "start_time": "2022-04-20T08:49:52.654Z"
   },
   {
    "duration": 8,
    "start_time": "2022-04-20T08:49:52.665Z"
   },
   {
    "duration": 9,
    "start_time": "2022-04-20T08:49:52.674Z"
   },
   {
    "duration": 11,
    "start_time": "2022-04-20T08:49:52.684Z"
   },
   {
    "duration": 26,
    "start_time": "2022-04-20T08:49:52.696Z"
   },
   {
    "duration": 26,
    "start_time": "2022-04-20T08:49:52.724Z"
   },
   {
    "duration": 8,
    "start_time": "2022-04-20T08:49:52.751Z"
   },
   {
    "duration": 26,
    "start_time": "2022-04-20T08:49:52.761Z"
   },
   {
    "duration": 21,
    "start_time": "2022-04-20T08:49:52.788Z"
   },
   {
    "duration": 23,
    "start_time": "2022-04-20T08:49:52.810Z"
   },
   {
    "duration": 21,
    "start_time": "2022-04-20T08:49:52.835Z"
   },
   {
    "duration": 19,
    "start_time": "2022-04-20T08:49:52.857Z"
   },
   {
    "duration": 28,
    "start_time": "2022-04-20T08:49:52.878Z"
   },
   {
    "duration": 10,
    "start_time": "2022-04-20T08:49:52.908Z"
   },
   {
    "duration": 5,
    "start_time": "2022-04-20T08:49:52.920Z"
   },
   {
    "duration": 6,
    "start_time": "2022-04-20T08:49:52.927Z"
   },
   {
    "duration": 13,
    "start_time": "2022-04-20T08:49:52.934Z"
   },
   {
    "duration": 5,
    "start_time": "2022-04-20T08:49:52.948Z"
   },
   {
    "duration": 7,
    "start_time": "2022-04-20T08:49:52.954Z"
   },
   {
    "duration": 563,
    "start_time": "2022-04-20T08:49:52.963Z"
   },
   {
    "duration": 352,
    "start_time": "2022-04-20T08:49:53.527Z"
   },
   {
    "duration": 30,
    "start_time": "2022-04-20T08:49:53.880Z"
   },
   {
    "duration": 51,
    "start_time": "2022-04-20T08:49:53.911Z"
   },
   {
    "duration": 9,
    "start_time": "2022-04-20T08:49:53.963Z"
   },
   {
    "duration": 6,
    "start_time": "2022-04-20T08:49:53.973Z"
   },
   {
    "duration": 3,
    "start_time": "2022-04-20T08:49:54.000Z"
   },
   {
    "duration": 14,
    "start_time": "2022-04-20T08:49:54.005Z"
   },
   {
    "duration": 10,
    "start_time": "2022-04-20T08:49:54.020Z"
   },
   {
    "duration": 35,
    "start_time": "2022-04-20T08:49:54.032Z"
   },
   {
    "duration": 32,
    "start_time": "2022-04-20T08:49:54.069Z"
   },
   {
    "duration": 33,
    "start_time": "2022-04-20T08:49:54.102Z"
   },
   {
    "duration": 16,
    "start_time": "2022-04-20T08:49:54.136Z"
   },
   {
    "duration": 20,
    "start_time": "2022-04-20T08:49:54.153Z"
   },
   {
    "duration": 3,
    "start_time": "2022-04-20T08:49:54.174Z"
   },
   {
    "duration": 30,
    "start_time": "2022-04-20T08:49:54.178Z"
   },
   {
    "duration": 19,
    "start_time": "2022-04-20T08:49:54.209Z"
   },
   {
    "duration": 10,
    "start_time": "2022-04-20T08:49:54.229Z"
   },
   {
    "duration": 834,
    "start_time": "2022-04-20T08:49:54.240Z"
   },
   {
    "duration": 14,
    "start_time": "2022-04-20T08:49:55.076Z"
   },
   {
    "duration": 7,
    "start_time": "2022-04-20T08:49:55.100Z"
   },
   {
    "duration": 4,
    "start_time": "2022-04-20T08:49:55.109Z"
   },
   {
    "duration": 48,
    "start_time": "2022-04-20T08:49:55.114Z"
   },
   {
    "duration": 14,
    "start_time": "2022-04-20T08:49:55.163Z"
   },
   {
    "duration": 26,
    "start_time": "2022-04-20T08:49:55.178Z"
   },
   {
    "duration": 23,
    "start_time": "2022-04-20T08:49:55.206Z"
   },
   {
    "duration": 14,
    "start_time": "2022-04-20T08:49:55.230Z"
   },
   {
    "duration": 9,
    "start_time": "2022-04-20T08:49:55.246Z"
   },
   {
    "duration": 18,
    "start_time": "2022-04-20T08:49:55.256Z"
   },
   {
    "duration": 29,
    "start_time": "2022-04-20T08:49:55.275Z"
   },
   {
    "duration": 69,
    "start_time": "2022-04-20T08:49:55.305Z"
   },
   {
    "duration": 69,
    "start_time": "2022-04-20T08:49:57.598Z"
   },
   {
    "duration": 25,
    "start_time": "2022-04-20T08:49:58.549Z"
   },
   {
    "duration": 90,
    "start_time": "2022-04-20T08:50:02.593Z"
   },
   {
    "duration": 25,
    "start_time": "2022-04-20T08:51:32.417Z"
   },
   {
    "duration": 23,
    "start_time": "2022-04-20T08:52:41.166Z"
   },
   {
    "duration": 87,
    "start_time": "2022-04-20T08:53:38.076Z"
   },
   {
    "duration": 21,
    "start_time": "2022-04-20T08:55:29.864Z"
   },
   {
    "duration": 3,
    "start_time": "2022-04-20T08:58:06.061Z"
   },
   {
    "duration": 370,
    "start_time": "2022-04-20T08:58:06.071Z"
   },
   {
    "duration": 7,
    "start_time": "2022-04-20T08:58:06.442Z"
   },
   {
    "duration": 10,
    "start_time": "2022-04-20T08:58:06.450Z"
   },
   {
    "duration": 8,
    "start_time": "2022-04-20T08:58:06.461Z"
   },
   {
    "duration": 7,
    "start_time": "2022-04-20T08:58:06.471Z"
   },
   {
    "duration": 25,
    "start_time": "2022-04-20T08:58:06.480Z"
   },
   {
    "duration": 25,
    "start_time": "2022-04-20T08:58:06.507Z"
   },
   {
    "duration": 26,
    "start_time": "2022-04-20T08:58:06.534Z"
   },
   {
    "duration": 7,
    "start_time": "2022-04-20T08:58:06.561Z"
   },
   {
    "duration": 12,
    "start_time": "2022-04-20T08:58:06.570Z"
   },
   {
    "duration": 30,
    "start_time": "2022-04-20T08:58:06.583Z"
   },
   {
    "duration": 19,
    "start_time": "2022-04-20T08:58:06.615Z"
   },
   {
    "duration": 15,
    "start_time": "2022-04-20T08:58:06.635Z"
   },
   {
    "duration": 16,
    "start_time": "2022-04-20T08:58:06.653Z"
   },
   {
    "duration": 31,
    "start_time": "2022-04-20T08:58:06.670Z"
   },
   {
    "duration": 15,
    "start_time": "2022-04-20T08:58:06.702Z"
   },
   {
    "duration": 5,
    "start_time": "2022-04-20T08:58:06.719Z"
   },
   {
    "duration": 4,
    "start_time": "2022-04-20T08:58:06.726Z"
   },
   {
    "duration": 9,
    "start_time": "2022-04-20T08:58:06.731Z"
   },
   {
    "duration": 6,
    "start_time": "2022-04-20T08:58:06.742Z"
   },
   {
    "duration": 7,
    "start_time": "2022-04-20T08:58:06.749Z"
   },
   {
    "duration": 543,
    "start_time": "2022-04-20T08:58:06.757Z"
   },
   {
    "duration": 332,
    "start_time": "2022-04-20T08:58:07.301Z"
   },
   {
    "duration": 20,
    "start_time": "2022-04-20T08:58:07.634Z"
   },
   {
    "duration": 55,
    "start_time": "2022-04-20T08:58:07.656Z"
   },
   {
    "duration": 9,
    "start_time": "2022-04-20T08:58:07.712Z"
   },
   {
    "duration": 4,
    "start_time": "2022-04-20T08:58:07.723Z"
   },
   {
    "duration": 6,
    "start_time": "2022-04-20T08:58:07.728Z"
   },
   {
    "duration": 16,
    "start_time": "2022-04-20T08:58:07.736Z"
   },
   {
    "duration": 4,
    "start_time": "2022-04-20T08:58:07.753Z"
   },
   {
    "duration": 54,
    "start_time": "2022-04-20T08:58:07.758Z"
   },
   {
    "duration": 17,
    "start_time": "2022-04-20T08:58:07.813Z"
   },
   {
    "duration": 33,
    "start_time": "2022-04-20T08:58:07.831Z"
   },
   {
    "duration": 36,
    "start_time": "2022-04-20T08:58:07.866Z"
   },
   {
    "duration": 18,
    "start_time": "2022-04-20T08:58:07.903Z"
   },
   {
    "duration": 2,
    "start_time": "2022-04-20T08:58:07.923Z"
   },
   {
    "duration": 15,
    "start_time": "2022-04-20T08:58:07.926Z"
   },
   {
    "duration": 14,
    "start_time": "2022-04-20T08:58:07.942Z"
   },
   {
    "duration": 5,
    "start_time": "2022-04-20T08:58:07.958Z"
   },
   {
    "duration": 836,
    "start_time": "2022-04-20T08:58:07.965Z"
   },
   {
    "duration": 14,
    "start_time": "2022-04-20T08:58:08.805Z"
   },
   {
    "duration": 16,
    "start_time": "2022-04-20T08:58:08.821Z"
   },
   {
    "duration": 9,
    "start_time": "2022-04-20T08:58:08.839Z"
   },
   {
    "duration": 52,
    "start_time": "2022-04-20T08:58:08.849Z"
   },
   {
    "duration": 14,
    "start_time": "2022-04-20T08:58:08.903Z"
   },
   {
    "duration": 7,
    "start_time": "2022-04-20T08:58:08.919Z"
   },
   {
    "duration": 34,
    "start_time": "2022-04-20T08:58:08.927Z"
   },
   {
    "duration": 23,
    "start_time": "2022-04-20T08:58:08.963Z"
   },
   {
    "duration": 14,
    "start_time": "2022-04-20T08:58:08.988Z"
   },
   {
    "duration": 31,
    "start_time": "2022-04-20T08:58:09.004Z"
   },
   {
    "duration": 16,
    "start_time": "2022-04-20T08:58:09.037Z"
   },
   {
    "duration": 88,
    "start_time": "2022-04-20T08:58:09.055Z"
   },
   {
    "duration": 73,
    "start_time": "2022-04-20T08:58:09.145Z"
   },
   {
    "duration": 19,
    "start_time": "2022-04-20T08:58:12.192Z"
   },
   {
    "duration": 7,
    "start_time": "2022-04-20T09:00:45.020Z"
   },
   {
    "duration": 10,
    "start_time": "2022-04-20T09:00:56.135Z"
   },
   {
    "duration": 3,
    "start_time": "2022-04-20T09:08:27.919Z"
   },
   {
    "duration": 379,
    "start_time": "2022-04-20T09:08:27.938Z"
   },
   {
    "duration": 9,
    "start_time": "2022-04-20T09:08:28.319Z"
   },
   {
    "duration": 14,
    "start_time": "2022-04-20T09:08:28.330Z"
   },
   {
    "duration": 9,
    "start_time": "2022-04-20T09:08:28.346Z"
   },
   {
    "duration": 8,
    "start_time": "2022-04-20T09:08:28.358Z"
   },
   {
    "duration": 10,
    "start_time": "2022-04-20T09:08:28.368Z"
   },
   {
    "duration": 33,
    "start_time": "2022-04-20T09:08:28.380Z"
   },
   {
    "duration": 26,
    "start_time": "2022-04-20T09:08:28.414Z"
   },
   {
    "duration": 7,
    "start_time": "2022-04-20T09:08:28.442Z"
   },
   {
    "duration": 15,
    "start_time": "2022-04-20T09:08:28.451Z"
   },
   {
    "duration": 36,
    "start_time": "2022-04-20T09:08:28.467Z"
   },
   {
    "duration": 20,
    "start_time": "2022-04-20T09:08:28.504Z"
   },
   {
    "duration": 17,
    "start_time": "2022-04-20T09:08:28.525Z"
   },
   {
    "duration": 34,
    "start_time": "2022-04-20T09:08:28.545Z"
   },
   {
    "duration": 7,
    "start_time": "2022-04-20T09:08:28.581Z"
   },
   {
    "duration": 9,
    "start_time": "2022-04-20T09:08:28.600Z"
   },
   {
    "duration": 6,
    "start_time": "2022-04-20T09:08:28.611Z"
   },
   {
    "duration": 8,
    "start_time": "2022-04-20T09:08:28.619Z"
   },
   {
    "duration": 8,
    "start_time": "2022-04-20T09:08:28.629Z"
   },
   {
    "duration": 4,
    "start_time": "2022-04-20T09:08:28.638Z"
   },
   {
    "duration": 16,
    "start_time": "2022-04-20T09:08:28.643Z"
   },
   {
    "duration": 551,
    "start_time": "2022-04-20T09:08:28.660Z"
   },
   {
    "duration": 343,
    "start_time": "2022-04-20T09:08:29.212Z"
   },
   {
    "duration": 21,
    "start_time": "2022-04-20T09:08:29.557Z"
   },
   {
    "duration": 58,
    "start_time": "2022-04-20T09:08:29.580Z"
   },
   {
    "duration": 8,
    "start_time": "2022-04-20T09:08:29.640Z"
   },
   {
    "duration": 2,
    "start_time": "2022-04-20T09:08:29.650Z"
   },
   {
    "duration": 8,
    "start_time": "2022-04-20T09:08:29.654Z"
   },
   {
    "duration": 16,
    "start_time": "2022-04-20T09:08:29.663Z"
   },
   {
    "duration": 21,
    "start_time": "2022-04-20T09:08:29.680Z"
   },
   {
    "duration": 34,
    "start_time": "2022-04-20T09:08:29.703Z"
   },
   {
    "duration": 17,
    "start_time": "2022-04-20T09:08:29.739Z"
   },
   {
    "duration": 49,
    "start_time": "2022-04-20T09:08:29.757Z"
   },
   {
    "duration": 16,
    "start_time": "2022-04-20T09:08:29.807Z"
   },
   {
    "duration": 20,
    "start_time": "2022-04-20T09:08:29.824Z"
   },
   {
    "duration": 2,
    "start_time": "2022-04-20T09:08:29.845Z"
   },
   {
    "duration": 17,
    "start_time": "2022-04-20T09:08:29.848Z"
   },
   {
    "duration": 38,
    "start_time": "2022-04-20T09:08:29.866Z"
   },
   {
    "duration": 5,
    "start_time": "2022-04-20T09:08:29.906Z"
   },
   {
    "duration": 846,
    "start_time": "2022-04-20T09:08:29.912Z"
   },
   {
    "duration": 15,
    "start_time": "2022-04-20T09:08:30.762Z"
   },
   {
    "duration": 28,
    "start_time": "2022-04-20T09:08:30.779Z"
   },
   {
    "duration": 4,
    "start_time": "2022-04-20T09:08:30.808Z"
   },
   {
    "duration": 57,
    "start_time": "2022-04-20T09:08:30.813Z"
   },
   {
    "duration": 29,
    "start_time": "2022-04-20T09:08:30.871Z"
   },
   {
    "duration": 6,
    "start_time": "2022-04-20T09:08:30.902Z"
   },
   {
    "duration": 38,
    "start_time": "2022-04-20T09:08:30.909Z"
   },
   {
    "duration": 18,
    "start_time": "2022-04-20T09:08:30.949Z"
   },
   {
    "duration": 77,
    "start_time": "2022-04-20T09:08:30.969Z"
   },
   {
    "duration": 71,
    "start_time": "2022-04-20T09:08:31.047Z"
   },
   {
    "duration": 18,
    "start_time": "2022-04-20T09:08:31.119Z"
   },
   {
    "duration": 14,
    "start_time": "2022-04-20T09:08:31.139Z"
   },
   {
    "duration": 23,
    "start_time": "2022-04-20T09:08:35.613Z"
   },
   {
    "duration": 12,
    "start_time": "2022-04-20T09:12:23.039Z"
   },
   {
    "duration": 28,
    "start_time": "2022-04-20T09:12:32.627Z"
   },
   {
    "duration": 4,
    "start_time": "2022-04-20T09:13:24.447Z"
   },
   {
    "duration": 5,
    "start_time": "2022-04-20T09:14:59.874Z"
   },
   {
    "duration": 28,
    "start_time": "2022-04-20T09:15:24.948Z"
   },
   {
    "duration": 27,
    "start_time": "2022-04-20T09:15:39.289Z"
   },
   {
    "duration": 18,
    "start_time": "2022-04-20T09:15:57.252Z"
   },
   {
    "duration": 24,
    "start_time": "2022-04-20T09:16:01.424Z"
   },
   {
    "duration": 26,
    "start_time": "2022-04-20T09:16:57.969Z"
   },
   {
    "duration": 3,
    "start_time": "2022-04-20T09:18:31.534Z"
   },
   {
    "duration": 4,
    "start_time": "2022-04-20T09:18:38.985Z"
   },
   {
    "duration": 16,
    "start_time": "2022-04-20T09:18:39.990Z"
   },
   {
    "duration": 27,
    "start_time": "2022-04-20T09:18:49.141Z"
   },
   {
    "duration": 14,
    "start_time": "2022-04-20T09:19:42.323Z"
   },
   {
    "duration": 11,
    "start_time": "2022-04-20T09:19:59.658Z"
   },
   {
    "duration": 11,
    "start_time": "2022-04-20T09:22:36.792Z"
   },
   {
    "duration": 5,
    "start_time": "2022-04-20T09:22:41.668Z"
   },
   {
    "duration": 148,
    "start_time": "2022-04-20T09:22:42.954Z"
   },
   {
    "duration": 7,
    "start_time": "2022-04-20T09:22:43.602Z"
   },
   {
    "duration": 4,
    "start_time": "2022-04-20T09:22:43.814Z"
   },
   {
    "duration": 226,
    "start_time": "2022-04-20T09:23:22.176Z"
   },
   {
    "duration": 9,
    "start_time": "2022-04-20T09:23:25.307Z"
   },
   {
    "duration": 138,
    "start_time": "2022-04-20T09:23:49.314Z"
   },
   {
    "duration": 8,
    "start_time": "2022-04-20T09:23:52.582Z"
   },
   {
    "duration": 3285,
    "start_time": "2022-04-20T09:24:08.071Z"
   },
   {
    "duration": 15,
    "start_time": "2022-04-20T09:24:20.762Z"
   },
   {
    "duration": 29,
    "start_time": "2022-04-20T09:24:52.836Z"
   },
   {
    "duration": 4,
    "start_time": "2022-04-20T09:25:09.899Z"
   },
   {
    "duration": 16,
    "start_time": "2022-04-20T09:25:10.071Z"
   },
   {
    "duration": 11,
    "start_time": "2022-04-20T09:25:10.714Z"
   },
   {
    "duration": 5,
    "start_time": "2022-04-20T09:25:11.052Z"
   },
   {
    "duration": 140,
    "start_time": "2022-04-20T09:25:12.306Z"
   },
   {
    "duration": 8,
    "start_time": "2022-04-20T09:25:15.048Z"
   },
   {
    "duration": 4,
    "start_time": "2022-04-20T09:25:15.241Z"
   },
   {
    "duration": 138,
    "start_time": "2022-04-20T09:25:15.721Z"
   },
   {
    "duration": 8,
    "start_time": "2022-04-20T09:25:15.873Z"
   },
   {
    "duration": 129,
    "start_time": "2022-04-20T09:25:18.422Z"
   },
   {
    "duration": 9,
    "start_time": "2022-04-20T09:25:28.161Z"
   },
   {
    "duration": 9,
    "start_time": "2022-04-20T09:26:17.023Z"
   },
   {
    "duration": 9,
    "start_time": "2022-04-20T09:26:33.495Z"
   },
   {
    "duration": 10,
    "start_time": "2022-04-20T09:26:45.909Z"
   },
   {
    "duration": 207,
    "start_time": "2022-04-20T09:27:02.562Z"
   },
   {
    "duration": 204,
    "start_time": "2022-04-20T09:27:08.520Z"
   },
   {
    "duration": 390,
    "start_time": "2022-04-20T09:27:24.630Z"
   },
   {
    "duration": 294,
    "start_time": "2022-04-20T09:27:25.022Z"
   },
   {
    "duration": 4,
    "start_time": "2022-04-20T09:27:25.318Z"
   },
   {
    "duration": 11,
    "start_time": "2022-04-20T09:27:34.038Z"
   },
   {
    "duration": 17,
    "start_time": "2022-04-20T09:27:34.704Z"
   },
   {
    "duration": 9,
    "start_time": "2022-04-20T09:27:34.934Z"
   },
   {
    "duration": 318,
    "start_time": "2022-04-20T09:27:35.165Z"
   },
   {
    "duration": 298,
    "start_time": "2022-04-20T09:27:37.413Z"
   },
   {
    "duration": 8,
    "start_time": "2022-04-20T09:27:37.937Z"
   },
   {
    "duration": 4,
    "start_time": "2022-04-20T09:28:02.843Z"
   },
   {
    "duration": 5,
    "start_time": "2022-04-20T09:28:05.511Z"
   },
   {
    "duration": 4,
    "start_time": "2022-04-20T09:28:54.460Z"
   },
   {
    "duration": 320,
    "start_time": "2022-04-20T09:29:22.480Z"
   },
   {
    "duration": 300,
    "start_time": "2022-04-20T09:29:22.802Z"
   },
   {
    "duration": 5,
    "start_time": "2022-04-20T09:29:25.952Z"
   },
   {
    "duration": 410,
    "start_time": "2022-04-20T09:30:08.216Z"
   },
   {
    "duration": 324,
    "start_time": "2022-04-20T09:30:25.069Z"
   },
   {
    "duration": 6,
    "start_time": "2022-04-20T09:30:46.734Z"
   },
   {
    "duration": 17,
    "start_time": "2022-04-20T09:30:50.508Z"
   },
   {
    "duration": 20,
    "start_time": "2022-04-20T09:31:09.012Z"
   },
   {
    "duration": 5,
    "start_time": "2022-04-20T09:33:42.038Z"
   },
   {
    "duration": 12,
    "start_time": "2022-04-20T09:34:35.999Z"
   },
   {
    "duration": 18,
    "start_time": "2022-04-20T09:34:47.969Z"
   },
   {
    "duration": 27,
    "start_time": "2022-04-20T09:34:54.896Z"
   },
   {
    "duration": 3,
    "start_time": "2022-04-20T09:35:08.174Z"
   },
   {
    "duration": 423,
    "start_time": "2022-04-20T09:35:08.179Z"
   },
   {
    "duration": 8,
    "start_time": "2022-04-20T09:35:08.604Z"
   },
   {
    "duration": 9,
    "start_time": "2022-04-20T09:35:08.613Z"
   },
   {
    "duration": 7,
    "start_time": "2022-04-20T09:35:08.625Z"
   },
   {
    "duration": 8,
    "start_time": "2022-04-20T09:35:08.633Z"
   },
   {
    "duration": 12,
    "start_time": "2022-04-20T09:35:08.642Z"
   },
   {
    "duration": 25,
    "start_time": "2022-04-20T09:35:08.655Z"
   },
   {
    "duration": 30,
    "start_time": "2022-04-20T09:35:08.699Z"
   },
   {
    "duration": 7,
    "start_time": "2022-04-20T09:35:08.731Z"
   },
   {
    "duration": 12,
    "start_time": "2022-04-20T09:35:08.741Z"
   },
   {
    "duration": 20,
    "start_time": "2022-04-20T09:35:08.754Z"
   },
   {
    "duration": 21,
    "start_time": "2022-04-20T09:35:08.800Z"
   },
   {
    "duration": 18,
    "start_time": "2022-04-20T09:35:08.822Z"
   },
   {
    "duration": 19,
    "start_time": "2022-04-20T09:35:08.842Z"
   },
   {
    "duration": 8,
    "start_time": "2022-04-20T09:35:08.862Z"
   },
   {
    "duration": 10,
    "start_time": "2022-04-20T09:35:08.900Z"
   },
   {
    "duration": 7,
    "start_time": "2022-04-20T09:35:08.911Z"
   },
   {
    "duration": 6,
    "start_time": "2022-04-20T09:35:08.919Z"
   },
   {
    "duration": 8,
    "start_time": "2022-04-20T09:35:08.926Z"
   },
   {
    "duration": 6,
    "start_time": "2022-04-20T09:35:08.935Z"
   },
   {
    "duration": 9,
    "start_time": "2022-04-20T09:35:08.942Z"
   },
   {
    "duration": 576,
    "start_time": "2022-04-20T09:35:08.952Z"
   },
   {
    "duration": 358,
    "start_time": "2022-04-20T09:35:09.530Z"
   },
   {
    "duration": 26,
    "start_time": "2022-04-20T09:35:09.890Z"
   },
   {
    "duration": 49,
    "start_time": "2022-04-20T09:35:09.918Z"
   },
   {
    "duration": 32,
    "start_time": "2022-04-20T09:35:09.969Z"
   },
   {
    "duration": 3,
    "start_time": "2022-04-20T09:35:10.003Z"
   },
   {
    "duration": 8,
    "start_time": "2022-04-20T09:35:10.011Z"
   },
   {
    "duration": 18,
    "start_time": "2022-04-20T09:35:10.020Z"
   },
   {
    "duration": 7,
    "start_time": "2022-04-20T09:35:10.040Z"
   },
   {
    "duration": 52,
    "start_time": "2022-04-20T09:35:10.049Z"
   },
   {
    "duration": 19,
    "start_time": "2022-04-20T09:35:10.102Z"
   },
   {
    "duration": 33,
    "start_time": "2022-04-20T09:35:10.122Z"
   },
   {
    "duration": 16,
    "start_time": "2022-04-20T09:35:10.156Z"
   },
   {
    "duration": 45,
    "start_time": "2022-04-20T09:35:10.173Z"
   },
   {
    "duration": 2,
    "start_time": "2022-04-20T09:35:10.220Z"
   },
   {
    "duration": 19,
    "start_time": "2022-04-20T09:35:10.224Z"
   },
   {
    "duration": 14,
    "start_time": "2022-04-20T09:35:10.244Z"
   },
   {
    "duration": 10,
    "start_time": "2022-04-20T09:35:10.259Z"
   },
   {
    "duration": 849,
    "start_time": "2022-04-20T09:35:10.270Z"
   },
   {
    "duration": 14,
    "start_time": "2022-04-20T09:35:11.121Z"
   },
   {
    "duration": 12,
    "start_time": "2022-04-20T09:35:11.137Z"
   },
   {
    "duration": 3,
    "start_time": "2022-04-20T09:35:11.151Z"
   },
   {
    "duration": 67,
    "start_time": "2022-04-20T09:35:11.156Z"
   },
   {
    "duration": 13,
    "start_time": "2022-04-20T09:35:11.225Z"
   },
   {
    "duration": 6,
    "start_time": "2022-04-20T09:35:11.240Z"
   },
   {
    "duration": 22,
    "start_time": "2022-04-20T09:35:11.247Z"
   },
   {
    "duration": 35,
    "start_time": "2022-04-20T09:35:11.271Z"
   },
   {
    "duration": 73,
    "start_time": "2022-04-20T09:35:11.307Z"
   },
   {
    "duration": 78,
    "start_time": "2022-04-20T09:35:11.382Z"
   },
   {
    "duration": 19,
    "start_time": "2022-04-20T09:35:11.461Z"
   },
   {
    "duration": 22,
    "start_time": "2022-04-20T09:35:11.481Z"
   },
   {
    "duration": 23,
    "start_time": "2022-04-20T09:35:11.504Z"
   },
   {
    "duration": 11,
    "start_time": "2022-04-20T09:35:11.528Z"
   },
   {
    "duration": 4,
    "start_time": "2022-04-20T09:35:11.540Z"
   },
   {
    "duration": 5,
    "start_time": "2022-04-20T09:35:11.545Z"
   },
   {
    "duration": 10,
    "start_time": "2022-04-20T09:35:11.551Z"
   },
   {
    "duration": 39,
    "start_time": "2022-04-20T09:35:11.562Z"
   },
   {
    "duration": 13,
    "start_time": "2022-04-20T09:35:11.603Z"
   },
   {
    "duration": 8,
    "start_time": "2022-04-20T09:35:11.617Z"
   },
   {
    "duration": 157,
    "start_time": "2022-04-20T09:35:11.626Z"
   },
   {
    "duration": 18,
    "start_time": "2022-04-20T09:35:11.785Z"
   },
   {
    "duration": 10,
    "start_time": "2022-04-20T09:35:11.804Z"
   },
   {
    "duration": 164,
    "start_time": "2022-04-20T09:35:11.816Z"
   },
   {
    "duration": 19,
    "start_time": "2022-04-20T09:35:11.982Z"
   },
   {
    "duration": 147,
    "start_time": "2022-04-20T09:35:12.003Z"
   },
   {
    "duration": 10,
    "start_time": "2022-04-20T09:35:12.152Z"
   },
   {
    "duration": 9,
    "start_time": "2022-04-20T09:35:12.163Z"
   },
   {
    "duration": 33,
    "start_time": "2022-04-20T09:35:12.173Z"
   },
   {
    "duration": 8,
    "start_time": "2022-04-20T09:35:12.208Z"
   },
   {
    "duration": 296,
    "start_time": "2022-04-20T09:35:12.218Z"
   },
   {
    "duration": 322,
    "start_time": "2022-04-20T09:35:12.516Z"
   },
   {
    "duration": 5,
    "start_time": "2022-04-20T09:35:12.840Z"
   },
   {
    "duration": 21,
    "start_time": "2022-04-20T09:35:12.847Z"
   },
   {
    "duration": 14,
    "start_time": "2022-04-20T09:35:12.870Z"
   },
   {
    "duration": 29,
    "start_time": "2022-04-20T09:35:12.885Z"
   },
   {
    "duration": 9,
    "start_time": "2022-04-20T09:35:17.063Z"
   },
   {
    "duration": 303,
    "start_time": "2022-04-20T09:35:19.583Z"
   },
   {
    "duration": 314,
    "start_time": "2022-04-20T09:35:33.352Z"
   },
   {
    "duration": 7,
    "start_time": "2022-04-20T09:35:38.370Z"
   },
   {
    "duration": 3,
    "start_time": "2022-04-20T09:35:52.559Z"
   },
   {
    "duration": 5,
    "start_time": "2022-04-20T09:35:56.503Z"
   },
   {
    "duration": 6,
    "start_time": "2022-04-20T09:36:09.806Z"
   },
   {
    "duration": 5,
    "start_time": "2022-04-20T09:36:23.100Z"
   },
   {
    "duration": 5,
    "start_time": "2022-04-20T09:45:48.375Z"
   },
   {
    "duration": 5,
    "start_time": "2022-04-20T09:45:58.596Z"
   },
   {
    "duration": 16,
    "start_time": "2022-04-20T09:46:56.582Z"
   },
   {
    "duration": 18,
    "start_time": "2022-04-20T09:48:05.100Z"
   },
   {
    "duration": 309,
    "start_time": "2022-04-20T09:49:36.517Z"
   },
   {
    "duration": 12,
    "start_time": "2022-04-20T09:50:55.104Z"
   },
   {
    "duration": 6,
    "start_time": "2022-04-20T09:51:57.588Z"
   },
   {
    "duration": 333,
    "start_time": "2022-04-20T09:52:01.086Z"
   },
   {
    "duration": 327,
    "start_time": "2022-04-20T09:52:03.597Z"
   },
   {
    "duration": 7,
    "start_time": "2022-04-20T09:52:07.606Z"
   },
   {
    "duration": 3,
    "start_time": "2022-04-20T09:52:09.449Z"
   },
   {
    "duration": 6,
    "start_time": "2022-04-20T09:52:12.707Z"
   },
   {
    "duration": 5,
    "start_time": "2022-04-20T09:52:16.003Z"
   },
   {
    "duration": 6,
    "start_time": "2022-04-20T09:52:49.101Z"
   },
   {
    "duration": 6,
    "start_time": "2022-04-20T09:52:51.659Z"
   },
   {
    "duration": 1792,
    "start_time": "2022-04-20T10:00:01.412Z"
   },
   {
    "duration": 545,
    "start_time": "2022-04-20T10:00:03.207Z"
   },
   {
    "duration": 15,
    "start_time": "2022-04-20T10:00:03.754Z"
   },
   {
    "duration": 10,
    "start_time": "2022-04-20T10:00:03.772Z"
   },
   {
    "duration": 10,
    "start_time": "2022-04-20T10:00:03.784Z"
   },
   {
    "duration": 14,
    "start_time": "2022-04-20T10:00:03.796Z"
   },
   {
    "duration": 13,
    "start_time": "2022-04-20T10:00:03.812Z"
   },
   {
    "duration": 24,
    "start_time": "2022-04-20T10:00:04.011Z"
   },
   {
    "duration": 32,
    "start_time": "2022-04-20T10:00:04.259Z"
   },
   {
    "duration": 8,
    "start_time": "2022-04-20T10:00:04.705Z"
   },
   {
    "duration": 13,
    "start_time": "2022-04-20T10:00:04.903Z"
   },
   {
    "duration": 33,
    "start_time": "2022-04-20T10:00:05.358Z"
   },
   {
    "duration": 39,
    "start_time": "2022-04-20T10:00:05.590Z"
   },
   {
    "duration": 29,
    "start_time": "2022-04-20T10:00:06.032Z"
   },
   {
    "duration": 33,
    "start_time": "2022-04-20T10:00:06.258Z"
   },
   {
    "duration": 10,
    "start_time": "2022-04-20T10:00:06.917Z"
   },
   {
    "duration": 13,
    "start_time": "2022-04-20T10:00:07.358Z"
   },
   {
    "duration": 5,
    "start_time": "2022-04-20T10:00:07.586Z"
   },
   {
    "duration": 5,
    "start_time": "2022-04-20T10:00:07.816Z"
   },
   {
    "duration": 7,
    "start_time": "2022-04-20T10:00:08.235Z"
   },
   {
    "duration": 5,
    "start_time": "2022-04-20T10:00:08.473Z"
   },
   {
    "duration": 8,
    "start_time": "2022-04-20T10:00:08.736Z"
   },
   {
    "duration": 1114,
    "start_time": "2022-04-20T10:00:08.927Z"
   },
   {
    "duration": 346,
    "start_time": "2022-04-20T10:00:10.043Z"
   },
   {
    "duration": 25,
    "start_time": "2022-04-20T10:00:10.391Z"
   },
   {
    "duration": 55,
    "start_time": "2022-04-20T10:00:10.418Z"
   },
   {
    "duration": 12,
    "start_time": "2022-04-20T10:00:10.811Z"
   },
   {
    "duration": 3,
    "start_time": "2022-04-20T10:00:11.014Z"
   },
   {
    "duration": 5,
    "start_time": "2022-04-20T10:00:11.251Z"
   },
   {
    "duration": 11,
    "start_time": "2022-04-20T10:00:11.739Z"
   },
   {
    "duration": 4,
    "start_time": "2022-04-20T10:00:11.955Z"
   },
   {
    "duration": 42,
    "start_time": "2022-04-20T10:00:13.368Z"
   },
   {
    "duration": 20,
    "start_time": "2022-04-20T10:00:14.069Z"
   },
   {
    "duration": 38,
    "start_time": "2022-04-20T10:00:14.516Z"
   },
   {
    "duration": 15,
    "start_time": "2022-04-20T10:00:15.621Z"
   },
   {
    "duration": 16,
    "start_time": "2022-04-20T10:00:19.916Z"
   },
   {
    "duration": 25,
    "start_time": "2022-04-20T10:00:20.115Z"
   },
   {
    "duration": 2,
    "start_time": "2022-04-20T10:00:20.310Z"
   },
   {
    "duration": 14,
    "start_time": "2022-04-20T10:00:20.495Z"
   },
   {
    "duration": 23,
    "start_time": "2022-04-20T10:00:21.545Z"
   },
   {
    "duration": 4,
    "start_time": "2022-04-20T10:00:21.786Z"
   },
   {
    "duration": 1382,
    "start_time": "2022-04-20T10:00:23.011Z"
   },
   {
    "duration": 23,
    "start_time": "2022-04-20T10:00:24.395Z"
   },
   {
    "duration": 14,
    "start_time": "2022-04-20T10:00:26.198Z"
   },
   {
    "duration": 3,
    "start_time": "2022-04-20T10:00:26.214Z"
   },
   {
    "duration": 76,
    "start_time": "2022-04-20T10:00:30.464Z"
   },
   {
    "duration": 22,
    "start_time": "2022-04-20T10:00:32.033Z"
   },
   {
    "duration": 7,
    "start_time": "2022-04-20T10:00:32.283Z"
   },
   {
    "duration": 28,
    "start_time": "2022-04-20T10:00:32.728Z"
   },
   {
    "duration": 24,
    "start_time": "2022-04-20T10:00:32.954Z"
   },
   {
    "duration": 110,
    "start_time": "2022-04-20T10:00:41.251Z"
   },
   {
    "duration": 109,
    "start_time": "2022-04-20T10:00:41.919Z"
   },
   {
    "duration": 26,
    "start_time": "2022-04-20T10:00:44.197Z"
   },
   {
    "duration": 10,
    "start_time": "2022-04-20T10:00:44.403Z"
   },
   {
    "duration": 23,
    "start_time": "2022-04-20T10:00:47.557Z"
   },
   {
    "duration": 12,
    "start_time": "2022-04-20T10:00:49.057Z"
   },
   {
    "duration": 5,
    "start_time": "2022-04-20T10:00:49.927Z"
   },
   {
    "duration": 2,
    "start_time": "2022-04-20T10:00:51.146Z"
   },
   {
    "duration": 5,
    "start_time": "2022-04-20T10:00:51.718Z"
   },
   {
    "duration": 17,
    "start_time": "2022-04-20T10:00:52.143Z"
   },
   {
    "duration": 12,
    "start_time": "2022-04-20T10:00:53.230Z"
   },
   {
    "duration": 5,
    "start_time": "2022-04-20T10:00:53.826Z"
   },
   {
    "duration": 158,
    "start_time": "2022-04-20T10:00:54.595Z"
   },
   {
    "duration": 8,
    "start_time": "2022-04-20T10:00:57.002Z"
   },
   {
    "duration": 5,
    "start_time": "2022-04-20T10:00:57.292Z"
   },
   {
    "duration": 144,
    "start_time": "2022-04-20T10:00:57.922Z"
   },
   {
    "duration": 9,
    "start_time": "2022-04-20T10:00:58.203Z"
   },
   {
    "duration": 135,
    "start_time": "2022-04-20T10:00:59.118Z"
   },
   {
    "duration": 9,
    "start_time": "2022-04-20T10:00:59.346Z"
   },
   {
    "duration": 8,
    "start_time": "2022-04-20T10:01:00.736Z"
   },
   {
    "duration": 9,
    "start_time": "2022-04-20T10:01:01.487Z"
   },
   {
    "duration": 10,
    "start_time": "2022-04-20T10:01:02.140Z"
   },
   {
    "duration": 320,
    "start_time": "2022-04-20T10:01:03.486Z"
   },
   {
    "duration": 301,
    "start_time": "2022-04-20T10:01:03.808Z"
   },
   {
    "duration": 5,
    "start_time": "2022-04-20T10:01:04.209Z"
   },
   {
    "duration": 13,
    "start_time": "2022-04-20T10:01:17.035Z"
   },
   {
    "duration": 16,
    "start_time": "2022-04-20T10:01:17.255Z"
   },
   {
    "duration": 8,
    "start_time": "2022-04-20T10:01:17.488Z"
   },
   {
    "duration": 8,
    "start_time": "2022-04-20T10:01:17.880Z"
   },
   {
    "duration": 310,
    "start_time": "2022-04-20T10:01:18.276Z"
   },
   {
    "duration": 325,
    "start_time": "2022-04-20T10:01:18.600Z"
   },
   {
    "duration": 7,
    "start_time": "2022-04-20T10:01:18.927Z"
   },
   {
    "duration": 17,
    "start_time": "2022-04-20T10:01:18.936Z"
   },
   {
    "duration": 6,
    "start_time": "2022-04-20T10:01:19.284Z"
   },
   {
    "duration": 5,
    "start_time": "2022-04-20T10:01:27.953Z"
   },
   {
    "duration": 8,
    "start_time": "2022-04-20T10:01:30.388Z"
   },
   {
    "duration": 6,
    "start_time": "2022-04-20T10:01:31.288Z"
   },
   {
    "duration": 93,
    "start_time": "2022-04-21T06:24:11.975Z"
   },
   {
    "duration": 124,
    "start_time": "2022-04-21T06:25:28.831Z"
   },
   {
    "duration": 149,
    "start_time": "2022-04-21T06:29:25.583Z"
   },
   {
    "duration": 64,
    "start_time": "2022-04-21T06:32:45.487Z"
   },
   {
    "duration": 1768,
    "start_time": "2022-04-21T06:33:15.273Z"
   },
   {
    "duration": 483,
    "start_time": "2022-04-21T06:33:17.044Z"
   },
   {
    "duration": 17,
    "start_time": "2022-04-21T06:33:17.529Z"
   },
   {
    "duration": 11,
    "start_time": "2022-04-21T06:33:17.549Z"
   },
   {
    "duration": 19,
    "start_time": "2022-04-21T06:33:17.562Z"
   },
   {
    "duration": 13,
    "start_time": "2022-04-21T06:33:17.583Z"
   },
   {
    "duration": 13,
    "start_time": "2022-04-21T06:33:17.598Z"
   },
   {
    "duration": 61,
    "start_time": "2022-04-21T06:33:17.613Z"
   },
   {
    "duration": 47,
    "start_time": "2022-04-21T06:33:17.677Z"
   },
   {
    "duration": 25,
    "start_time": "2022-04-21T06:33:17.728Z"
   },
   {
    "duration": 22,
    "start_time": "2022-04-21T06:33:17.755Z"
   },
   {
    "duration": 29,
    "start_time": "2022-04-21T06:33:17.780Z"
   },
   {
    "duration": 60,
    "start_time": "2022-04-21T06:33:17.811Z"
   },
   {
    "duration": 25,
    "start_time": "2022-04-21T06:33:17.873Z"
   },
   {
    "duration": 52,
    "start_time": "2022-04-21T06:33:17.900Z"
   },
   {
    "duration": 11,
    "start_time": "2022-04-21T06:33:17.954Z"
   },
   {
    "duration": 14,
    "start_time": "2022-04-21T06:33:17.968Z"
   },
   {
    "duration": 7,
    "start_time": "2022-04-21T06:33:17.985Z"
   },
   {
    "duration": 7,
    "start_time": "2022-04-21T06:33:17.995Z"
   },
   {
    "duration": 13,
    "start_time": "2022-04-21T06:33:18.004Z"
   },
   {
    "duration": 37,
    "start_time": "2022-04-21T06:33:18.020Z"
   },
   {
    "duration": 17,
    "start_time": "2022-04-21T06:33:18.059Z"
   },
   {
    "duration": 1652,
    "start_time": "2022-04-21T06:33:18.079Z"
   },
   {
    "duration": 872,
    "start_time": "2022-04-21T06:33:19.734Z"
   },
   {
    "duration": 52,
    "start_time": "2022-04-21T06:33:20.609Z"
   },
   {
    "duration": 120,
    "start_time": "2022-04-21T06:33:20.664Z"
   },
   {
    "duration": 21,
    "start_time": "2022-04-21T06:33:20.786Z"
   },
   {
    "duration": 4,
    "start_time": "2022-04-21T06:33:20.817Z"
   },
   {
    "duration": 30,
    "start_time": "2022-04-21T06:33:20.823Z"
   },
   {
    "duration": 23,
    "start_time": "2022-04-21T06:33:20.856Z"
   },
   {
    "duration": 9,
    "start_time": "2022-04-21T06:33:20.881Z"
   },
   {
    "duration": 117,
    "start_time": "2022-04-21T06:33:20.892Z"
   },
   {
    "duration": 43,
    "start_time": "2022-04-21T06:33:21.012Z"
   },
   {
    "duration": 77,
    "start_time": "2022-04-21T06:33:21.058Z"
   },
   {
    "duration": 31,
    "start_time": "2022-04-21T06:33:21.151Z"
   },
   {
    "duration": 69,
    "start_time": "2022-04-21T06:33:21.185Z"
   },
   {
    "duration": 5,
    "start_time": "2022-04-21T06:33:21.256Z"
   },
   {
    "duration": 36,
    "start_time": "2022-04-21T06:33:21.263Z"
   },
   {
    "duration": 30,
    "start_time": "2022-04-21T06:33:21.302Z"
   },
   {
    "duration": 10,
    "start_time": "2022-04-21T06:33:21.352Z"
   },
   {
    "duration": 2122,
    "start_time": "2022-04-21T06:33:21.364Z"
   },
   {
    "duration": 33,
    "start_time": "2022-04-21T06:33:23.489Z"
   },
   {
    "duration": 39,
    "start_time": "2022-04-21T06:33:23.524Z"
   },
   {
    "duration": 5,
    "start_time": "2022-04-21T06:33:23.565Z"
   },
   {
    "duration": 131,
    "start_time": "2022-04-21T06:33:23.573Z"
   },
   {
    "duration": 21,
    "start_time": "2022-04-21T06:33:23.706Z"
   },
   {
    "duration": 24,
    "start_time": "2022-04-21T06:33:23.729Z"
   },
   {
    "duration": 35,
    "start_time": "2022-04-21T06:33:23.755Z"
   },
   {
    "duration": 24,
    "start_time": "2022-04-21T06:33:23.792Z"
   },
   {
    "duration": 142,
    "start_time": "2022-04-21T06:33:23.819Z"
   },
   {
    "duration": 122,
    "start_time": "2022-04-21T06:33:23.964Z"
   },
   {
    "duration": 30,
    "start_time": "2022-04-21T06:33:24.088Z"
   },
   {
    "duration": 31,
    "start_time": "2022-04-21T06:33:24.121Z"
   },
   {
    "duration": 59,
    "start_time": "2022-04-21T06:33:24.154Z"
   },
   {
    "duration": 17,
    "start_time": "2022-04-21T06:33:24.215Z"
   },
   {
    "duration": 14,
    "start_time": "2022-04-21T06:33:24.234Z"
   },
   {
    "duration": 12,
    "start_time": "2022-04-21T06:33:24.250Z"
   },
   {
    "duration": 46,
    "start_time": "2022-04-21T06:33:24.264Z"
   },
   {
    "duration": 40,
    "start_time": "2022-04-21T06:33:24.312Z"
   },
   {
    "duration": 26,
    "start_time": "2022-04-21T06:33:24.353Z"
   },
   {
    "duration": 46,
    "start_time": "2022-04-21T06:33:24.381Z"
   },
   {
    "duration": 11,
    "start_time": "2022-04-21T06:33:24.429Z"
   },
   {
    "duration": 297,
    "start_time": "2022-04-21T06:33:24.442Z"
   },
   {
    "duration": 11,
    "start_time": "2022-04-21T06:33:24.742Z"
   },
   {
    "duration": 32,
    "start_time": "2022-04-21T06:33:24.755Z"
   },
   {
    "duration": 382,
    "start_time": "2022-04-21T06:33:24.790Z"
   },
   {
    "duration": 15,
    "start_time": "2022-04-21T06:33:25.175Z"
   },
   {
    "duration": 276,
    "start_time": "2022-04-21T06:33:25.193Z"
   },
   {
    "duration": 12,
    "start_time": "2022-04-21T06:33:25.471Z"
   },
   {
    "duration": 14,
    "start_time": "2022-04-21T06:33:25.486Z"
   },
   {
    "duration": 50,
    "start_time": "2022-04-21T06:33:25.502Z"
   },
   {
    "duration": 12,
    "start_time": "2022-04-21T06:33:25.555Z"
   },
   {
    "duration": 563,
    "start_time": "2022-04-21T06:33:25.570Z"
   },
   {
    "duration": 458,
    "start_time": "2022-04-21T06:33:26.135Z"
   },
   {
    "duration": 7,
    "start_time": "2022-04-21T06:33:26.595Z"
   },
   {
    "duration": 20,
    "start_time": "2022-04-21T06:33:26.605Z"
   },
   {
    "duration": 47,
    "start_time": "2022-04-21T06:33:26.627Z"
   },
   {
    "duration": 12,
    "start_time": "2022-04-21T06:33:26.677Z"
   },
   {
    "duration": 10,
    "start_time": "2022-04-21T06:33:26.691Z"
   },
   {
    "duration": 488,
    "start_time": "2022-04-21T06:33:26.703Z"
   },
   {
    "duration": 488,
    "start_time": "2022-04-21T06:33:27.194Z"
   },
   {
    "duration": 11,
    "start_time": "2022-04-21T06:33:27.690Z"
   },
   {
    "duration": 7,
    "start_time": "2022-04-21T06:33:27.703Z"
   },
   {
    "duration": 7,
    "start_time": "2022-04-21T06:33:27.712Z"
   },
   {
    "duration": 9,
    "start_time": "2022-04-21T06:33:27.753Z"
   },
   {
    "duration": 9,
    "start_time": "2022-04-21T06:33:27.764Z"
   },
   {
    "duration": 157,
    "start_time": "2022-04-21T06:44:49.449Z"
   },
   {
    "duration": 98,
    "start_time": "2022-04-21T06:46:05.412Z"
   },
   {
    "duration": 1536,
    "start_time": "2022-04-21T06:47:36.811Z"
   },
   {
    "duration": 483,
    "start_time": "2022-04-21T06:47:38.349Z"
   },
   {
    "duration": 16,
    "start_time": "2022-04-21T06:47:38.834Z"
   },
   {
    "duration": 28,
    "start_time": "2022-04-21T06:47:38.852Z"
   },
   {
    "duration": 13,
    "start_time": "2022-04-21T06:47:38.883Z"
   },
   {
    "duration": 21,
    "start_time": "2022-04-21T06:47:38.898Z"
   },
   {
    "duration": 28,
    "start_time": "2022-04-21T06:47:38.921Z"
   },
   {
    "duration": 39,
    "start_time": "2022-04-21T06:47:38.951Z"
   },
   {
    "duration": 61,
    "start_time": "2022-04-21T06:47:38.992Z"
   },
   {
    "duration": 12,
    "start_time": "2022-04-21T06:47:39.055Z"
   },
   {
    "duration": 21,
    "start_time": "2022-04-21T06:47:39.069Z"
   },
   {
    "duration": 28,
    "start_time": "2022-04-21T06:47:39.092Z"
   },
   {
    "duration": 62,
    "start_time": "2022-04-21T06:47:39.122Z"
   },
   {
    "duration": 25,
    "start_time": "2022-04-21T06:47:39.189Z"
   },
   {
    "duration": 55,
    "start_time": "2022-04-21T06:47:39.216Z"
   },
   {
    "duration": 11,
    "start_time": "2022-04-21T06:47:39.273Z"
   },
   {
    "duration": 17,
    "start_time": "2022-04-21T06:47:39.287Z"
   },
   {
    "duration": 11,
    "start_time": "2022-04-21T06:47:39.306Z"
   },
   {
    "duration": 33,
    "start_time": "2022-04-21T06:47:39.319Z"
   },
   {
    "duration": 13,
    "start_time": "2022-04-21T06:47:39.354Z"
   },
   {
    "duration": 5,
    "start_time": "2022-04-21T06:47:39.369Z"
   },
   {
    "duration": 12,
    "start_time": "2022-04-21T06:47:39.376Z"
   },
   {
    "duration": 1080,
    "start_time": "2022-04-21T06:47:39.390Z"
   },
   {
    "duration": 511,
    "start_time": "2022-04-21T06:47:40.472Z"
   },
   {
    "duration": 33,
    "start_time": "2022-04-21T06:47:40.985Z"
   },
   {
    "duration": 100,
    "start_time": "2022-04-21T06:47:41.020Z"
   },
   {
    "duration": 34,
    "start_time": "2022-04-21T06:47:41.123Z"
   },
   {
    "duration": 5,
    "start_time": "2022-04-21T06:47:41.159Z"
   },
   {
    "duration": 15,
    "start_time": "2022-04-21T06:47:41.166Z"
   },
   {
    "duration": 19,
    "start_time": "2022-04-21T06:47:41.183Z"
   },
   {
    "duration": 8,
    "start_time": "2022-04-21T06:47:41.205Z"
   },
   {
    "duration": 85,
    "start_time": "2022-04-21T06:47:41.215Z"
   },
   {
    "duration": 49,
    "start_time": "2022-04-21T06:47:41.303Z"
   },
   {
    "duration": 56,
    "start_time": "2022-04-21T06:47:41.354Z"
   },
   {
    "duration": 44,
    "start_time": "2022-04-21T06:47:41.412Z"
   },
   {
    "duration": 36,
    "start_time": "2022-04-21T06:47:41.458Z"
   },
   {
    "duration": 3,
    "start_time": "2022-04-21T06:47:41.496Z"
   },
   {
    "duration": 25,
    "start_time": "2022-04-21T06:47:41.501Z"
   },
   {
    "duration": 43,
    "start_time": "2022-04-21T06:47:41.528Z"
   },
   {
    "duration": 8,
    "start_time": "2022-04-21T06:47:41.573Z"
   },
   {
    "duration": 1593,
    "start_time": "2022-04-21T06:47:41.588Z"
   },
   {
    "duration": 24,
    "start_time": "2022-04-21T06:47:43.184Z"
   },
   {
    "duration": 46,
    "start_time": "2022-04-21T06:47:43.211Z"
   },
   {
    "duration": 5,
    "start_time": "2022-04-21T06:47:43.259Z"
   },
   {
    "duration": 101,
    "start_time": "2022-04-21T06:47:43.266Z"
   },
   {
    "duration": 22,
    "start_time": "2022-04-21T06:47:43.370Z"
   },
   {
    "duration": 11,
    "start_time": "2022-04-21T06:47:43.394Z"
   },
   {
    "duration": 70,
    "start_time": "2022-04-21T06:47:43.407Z"
   },
   {
    "duration": 26,
    "start_time": "2022-04-21T06:47:43.480Z"
   },
   {
    "duration": 142,
    "start_time": "2022-04-21T06:47:43.509Z"
   },
   {
    "duration": 121,
    "start_time": "2022-04-21T06:47:43.654Z"
   },
   {
    "duration": 32,
    "start_time": "2022-04-21T06:47:43.778Z"
   },
   {
    "duration": 12,
    "start_time": "2022-04-21T06:47:43.812Z"
   },
   {
    "duration": 62,
    "start_time": "2022-04-21T06:47:43.826Z"
   },
   {
    "duration": 18,
    "start_time": "2022-04-21T06:47:43.890Z"
   },
   {
    "duration": 6,
    "start_time": "2022-04-21T06:47:43.910Z"
   },
   {
    "duration": 5,
    "start_time": "2022-04-21T06:47:43.918Z"
   },
   {
    "duration": 6,
    "start_time": "2022-04-21T06:47:43.952Z"
   },
   {
    "duration": 32,
    "start_time": "2022-04-21T06:47:43.960Z"
   },
   {
    "duration": 18,
    "start_time": "2022-04-21T06:47:43.994Z"
   },
   {
    "duration": 47,
    "start_time": "2022-04-21T06:47:44.014Z"
   },
   {
    "duration": 12,
    "start_time": "2022-04-21T06:47:44.063Z"
   },
   {
    "duration": 292,
    "start_time": "2022-04-21T06:47:44.077Z"
   },
   {
    "duration": 11,
    "start_time": "2022-04-21T06:47:44.371Z"
   },
   {
    "duration": 7,
    "start_time": "2022-04-21T06:47:44.384Z"
   },
   {
    "duration": 287,
    "start_time": "2022-04-21T06:47:44.393Z"
   },
   {
    "duration": 13,
    "start_time": "2022-04-21T06:47:44.682Z"
   },
   {
    "duration": 263,
    "start_time": "2022-04-21T06:47:44.697Z"
   },
   {
    "duration": 14,
    "start_time": "2022-04-21T06:47:44.963Z"
   },
   {
    "duration": 14,
    "start_time": "2022-04-21T06:47:44.979Z"
   },
   {
    "duration": 15,
    "start_time": "2022-04-21T06:47:44.995Z"
   },
   {
    "duration": 16,
    "start_time": "2022-04-21T06:47:45.052Z"
   },
   {
    "duration": 553,
    "start_time": "2022-04-21T06:47:45.071Z"
   },
   {
    "duration": 513,
    "start_time": "2022-04-21T06:47:45.627Z"
   },
   {
    "duration": 13,
    "start_time": "2022-04-21T06:47:46.142Z"
   },
   {
    "duration": 26,
    "start_time": "2022-04-21T06:47:46.157Z"
   },
   {
    "duration": 30,
    "start_time": "2022-04-21T06:47:46.185Z"
   },
   {
    "duration": 14,
    "start_time": "2022-04-21T06:47:46.217Z"
   },
   {
    "duration": 11,
    "start_time": "2022-04-21T06:47:46.233Z"
   },
   {
    "duration": 879,
    "start_time": "2022-04-21T06:47:46.246Z"
   },
   {
    "duration": 765,
    "start_time": "2022-04-21T06:47:47.127Z"
   },
   {
    "duration": 12,
    "start_time": "2022-04-21T06:47:47.894Z"
   },
   {
    "duration": 4,
    "start_time": "2022-04-21T06:47:47.909Z"
   },
   {
    "duration": 39,
    "start_time": "2022-04-21T06:47:47.916Z"
   },
   {
    "duration": 163,
    "start_time": "2022-04-21T06:47:47.958Z"
   },
   {
    "duration": 0,
    "start_time": "2022-04-21T06:47:48.123Z"
   },
   {
    "duration": 0,
    "start_time": "2022-04-21T06:47:48.125Z"
   },
   {
    "duration": 1521,
    "start_time": "2022-04-21T06:55:11.853Z"
   },
   {
    "duration": 506,
    "start_time": "2022-04-21T06:55:13.376Z"
   },
   {
    "duration": 25,
    "start_time": "2022-04-21T06:55:13.888Z"
   },
   {
    "duration": 16,
    "start_time": "2022-04-21T06:55:13.918Z"
   },
   {
    "duration": 18,
    "start_time": "2022-04-21T06:55:13.937Z"
   },
   {
    "duration": 15,
    "start_time": "2022-04-21T06:55:13.957Z"
   },
   {
    "duration": 16,
    "start_time": "2022-04-21T06:55:13.974Z"
   },
   {
    "duration": 63,
    "start_time": "2022-04-21T06:55:13.992Z"
   },
   {
    "duration": 48,
    "start_time": "2022-04-21T06:55:14.057Z"
   },
   {
    "duration": 12,
    "start_time": "2022-04-21T06:55:14.107Z"
   },
   {
    "duration": 44,
    "start_time": "2022-04-21T06:55:14.121Z"
   },
   {
    "duration": 27,
    "start_time": "2022-04-21T06:55:14.168Z"
   },
   {
    "duration": 58,
    "start_time": "2022-04-21T06:55:14.200Z"
   },
   {
    "duration": 27,
    "start_time": "2022-04-21T06:55:14.260Z"
   },
   {
    "duration": 29,
    "start_time": "2022-04-21T06:55:14.289Z"
   },
   {
    "duration": 34,
    "start_time": "2022-04-21T06:55:14.320Z"
   },
   {
    "duration": 22,
    "start_time": "2022-04-21T06:55:14.356Z"
   },
   {
    "duration": 12,
    "start_time": "2022-04-21T06:55:14.380Z"
   },
   {
    "duration": 11,
    "start_time": "2022-04-21T06:55:14.394Z"
   },
   {
    "duration": 24,
    "start_time": "2022-04-21T06:55:14.407Z"
   },
   {
    "duration": 20,
    "start_time": "2022-04-21T06:55:14.433Z"
   },
   {
    "duration": 13,
    "start_time": "2022-04-21T06:55:14.455Z"
   },
   {
    "duration": 1033,
    "start_time": "2022-04-21T06:55:14.470Z"
   },
   {
    "duration": 497,
    "start_time": "2022-04-21T06:55:15.505Z"
   },
   {
    "duration": 32,
    "start_time": "2022-04-21T06:55:16.004Z"
   },
   {
    "duration": 86,
    "start_time": "2022-04-21T06:55:16.052Z"
   },
   {
    "duration": 28,
    "start_time": "2022-04-21T06:55:16.140Z"
   },
   {
    "duration": 4,
    "start_time": "2022-04-21T06:55:16.170Z"
   },
   {
    "duration": 11,
    "start_time": "2022-04-21T06:55:16.176Z"
   },
   {
    "duration": 21,
    "start_time": "2022-04-21T06:55:16.189Z"
   },
   {
    "duration": 41,
    "start_time": "2022-04-21T06:55:16.213Z"
   },
   {
    "duration": 68,
    "start_time": "2022-04-21T06:55:16.257Z"
   },
   {
    "duration": 44,
    "start_time": "2022-04-21T06:55:16.328Z"
   },
   {
    "duration": 56,
    "start_time": "2022-04-21T06:55:16.374Z"
   },
   {
    "duration": 24,
    "start_time": "2022-04-21T06:55:16.452Z"
   },
   {
    "duration": 37,
    "start_time": "2022-04-21T06:55:16.478Z"
   },
   {
    "duration": 3,
    "start_time": "2022-04-21T06:55:16.517Z"
   },
   {
    "duration": 46,
    "start_time": "2022-04-21T06:55:16.522Z"
   },
   {
    "duration": 24,
    "start_time": "2022-04-21T06:55:16.570Z"
   },
   {
    "duration": 9,
    "start_time": "2022-04-21T06:55:16.603Z"
   },
   {
    "duration": 1538,
    "start_time": "2022-04-21T06:55:16.614Z"
   },
   {
    "duration": 24,
    "start_time": "2022-04-21T06:55:18.154Z"
   },
   {
    "duration": 15,
    "start_time": "2022-04-21T06:55:18.180Z"
   },
   {
    "duration": 4,
    "start_time": "2022-04-21T06:55:18.197Z"
   },
   {
    "duration": 118,
    "start_time": "2022-04-21T06:55:18.203Z"
   },
   {
    "duration": 29,
    "start_time": "2022-04-21T06:55:18.323Z"
   },
   {
    "duration": 8,
    "start_time": "2022-04-21T06:55:18.354Z"
   },
   {
    "duration": 31,
    "start_time": "2022-04-21T06:55:18.364Z"
   },
   {
    "duration": 54,
    "start_time": "2022-04-21T06:55:18.397Z"
   },
   {
    "duration": 123,
    "start_time": "2022-04-21T06:55:18.454Z"
   },
   {
    "duration": 126,
    "start_time": "2022-04-21T06:55:18.579Z"
   },
   {
    "duration": 46,
    "start_time": "2022-04-21T06:55:18.707Z"
   },
   {
    "duration": 23,
    "start_time": "2022-04-21T06:55:18.755Z"
   },
   {
    "duration": 63,
    "start_time": "2022-04-21T06:55:18.780Z"
   },
   {
    "duration": 17,
    "start_time": "2022-04-21T06:55:18.845Z"
   },
   {
    "duration": 14,
    "start_time": "2022-04-21T06:55:18.864Z"
   },
   {
    "duration": 17,
    "start_time": "2022-04-21T06:55:18.880Z"
   },
   {
    "duration": 34,
    "start_time": "2022-04-21T06:55:18.899Z"
   },
   {
    "duration": 52,
    "start_time": "2022-04-21T06:55:18.935Z"
   },
   {
    "duration": 17,
    "start_time": "2022-04-21T06:55:18.989Z"
   },
   {
    "duration": 20,
    "start_time": "2022-04-21T06:55:19.008Z"
   },
   {
    "duration": 21,
    "start_time": "2022-04-21T06:55:19.030Z"
   },
   {
    "duration": 281,
    "start_time": "2022-04-21T06:55:19.053Z"
   },
   {
    "duration": 20,
    "start_time": "2022-04-21T06:55:19.336Z"
   },
   {
    "duration": 5,
    "start_time": "2022-04-21T06:55:19.358Z"
   },
   {
    "duration": 274,
    "start_time": "2022-04-21T06:55:19.365Z"
   },
   {
    "duration": 20,
    "start_time": "2022-04-21T06:55:19.641Z"
   },
   {
    "duration": 274,
    "start_time": "2022-04-21T06:55:19.662Z"
   },
   {
    "duration": 16,
    "start_time": "2022-04-21T06:55:19.939Z"
   },
   {
    "duration": 11,
    "start_time": "2022-04-21T06:55:19.957Z"
   },
   {
    "duration": 13,
    "start_time": "2022-04-21T06:55:19.970Z"
   },
   {
    "duration": 11,
    "start_time": "2022-04-21T06:55:19.985Z"
   },
   {
    "duration": 508,
    "start_time": "2022-04-21T06:55:19.999Z"
   },
   {
    "duration": 499,
    "start_time": "2022-04-21T06:55:20.510Z"
   },
   {
    "duration": 8,
    "start_time": "2022-04-21T06:55:21.012Z"
   },
   {
    "duration": 41,
    "start_time": "2022-04-21T06:55:21.023Z"
   },
   {
    "duration": 29,
    "start_time": "2022-04-21T06:55:21.066Z"
   },
   {
    "duration": 14,
    "start_time": "2022-04-21T06:55:21.098Z"
   },
   {
    "duration": 42,
    "start_time": "2022-04-21T06:55:21.115Z"
   },
   {
    "duration": 493,
    "start_time": "2022-04-21T06:55:21.160Z"
   },
   {
    "duration": 484,
    "start_time": "2022-04-21T06:55:21.656Z"
   },
   {
    "duration": 21,
    "start_time": "2022-04-21T06:55:22.142Z"
   },
   {
    "duration": 15,
    "start_time": "2022-04-21T06:55:22.166Z"
   },
   {
    "duration": 18,
    "start_time": "2022-04-21T06:55:22.184Z"
   },
   {
    "duration": 176,
    "start_time": "2022-04-21T06:55:22.205Z"
   },
   {
    "duration": 0,
    "start_time": "2022-04-21T06:55:22.384Z"
   },
   {
    "duration": 0,
    "start_time": "2022-04-21T06:55:22.386Z"
   },
   {
    "duration": 9,
    "start_time": "2022-04-21T06:55:47.003Z"
   },
   {
    "duration": 11,
    "start_time": "2022-04-21T06:55:50.291Z"
   },
   {
    "duration": 12,
    "start_time": "2022-04-21T06:55:50.805Z"
   },
   {
    "duration": 1367,
    "start_time": "2022-04-21T07:41:49.198Z"
   },
   {
    "duration": 393,
    "start_time": "2022-04-21T07:41:50.566Z"
   },
   {
    "duration": 11,
    "start_time": "2022-04-21T07:41:50.961Z"
   },
   {
    "duration": 11,
    "start_time": "2022-04-21T07:41:50.974Z"
   },
   {
    "duration": 14,
    "start_time": "2022-04-21T07:41:50.987Z"
   },
   {
    "duration": 19,
    "start_time": "2022-04-21T07:41:51.003Z"
   },
   {
    "duration": 20,
    "start_time": "2022-04-21T07:41:51.024Z"
   },
   {
    "duration": 44,
    "start_time": "2022-04-21T07:41:51.389Z"
   },
   {
    "duration": 53,
    "start_time": "2022-04-21T07:41:51.613Z"
   },
   {
    "duration": 11,
    "start_time": "2022-04-21T07:41:52.056Z"
   },
   {
    "duration": 16,
    "start_time": "2022-04-21T07:41:52.268Z"
   },
   {
    "duration": 34,
    "start_time": "2022-04-21T07:41:52.629Z"
   },
   {
    "duration": 53,
    "start_time": "2022-04-21T07:41:52.856Z"
   },
   {
    "duration": 34,
    "start_time": "2022-04-21T07:41:53.244Z"
   },
   {
    "duration": 31,
    "start_time": "2022-04-21T07:41:53.456Z"
   },
   {
    "duration": 10,
    "start_time": "2022-04-21T07:41:54.073Z"
   },
   {
    "duration": 14,
    "start_time": "2022-04-21T07:41:54.472Z"
   },
   {
    "duration": 5,
    "start_time": "2022-04-21T07:41:54.802Z"
   },
   {
    "duration": 5,
    "start_time": "2022-04-21T07:41:54.989Z"
   },
   {
    "duration": 8,
    "start_time": "2022-04-21T07:41:55.397Z"
   },
   {
    "duration": 5,
    "start_time": "2022-04-21T07:41:55.618Z"
   },
   {
    "duration": 9,
    "start_time": "2022-04-21T07:41:55.844Z"
   },
   {
    "duration": 1383,
    "start_time": "2022-04-21T07:41:56.053Z"
   },
   {
    "duration": 592,
    "start_time": "2022-04-21T07:41:57.438Z"
   },
   {
    "duration": 24,
    "start_time": "2022-04-21T07:41:58.938Z"
   },
   {
    "duration": 57,
    "start_time": "2022-04-21T07:41:59.139Z"
   },
   {
    "duration": 12,
    "start_time": "2022-04-21T07:41:59.547Z"
   },
   {
    "duration": 3,
    "start_time": "2022-04-21T07:41:59.727Z"
   },
   {
    "duration": 4,
    "start_time": "2022-04-21T07:41:59.930Z"
   },
   {
    "duration": 13,
    "start_time": "2022-04-21T07:42:02.774Z"
   },
   {
    "duration": 4,
    "start_time": "2022-04-21T07:42:02.957Z"
   },
   {
    "duration": 42,
    "start_time": "2022-04-21T07:42:10.167Z"
   },
   {
    "duration": 19,
    "start_time": "2022-04-21T07:42:10.737Z"
   },
   {
    "duration": 38,
    "start_time": "2022-04-21T07:42:27.038Z"
   },
   {
    "duration": 17,
    "start_time": "2022-04-21T07:42:28.067Z"
   },
   {
    "duration": 26,
    "start_time": "2022-04-21T07:42:28.276Z"
   },
   {
    "duration": 3,
    "start_time": "2022-04-21T07:42:28.481Z"
   },
   {
    "duration": 14,
    "start_time": "2022-04-21T07:42:31.344Z"
   },
   {
    "duration": 14,
    "start_time": "2022-04-21T07:42:32.288Z"
   },
   {
    "duration": 5,
    "start_time": "2022-04-21T07:42:35.342Z"
   },
   {
    "duration": 853,
    "start_time": "2022-04-21T07:42:35.557Z"
   },
   {
    "duration": 15,
    "start_time": "2022-04-21T07:42:36.412Z"
   },
   {
    "duration": 12,
    "start_time": "2022-04-21T07:42:36.429Z"
   },
   {
    "duration": 4,
    "start_time": "2022-04-21T07:42:38.253Z"
   },
   {
    "duration": 108,
    "start_time": "2022-04-21T07:42:38.473Z"
   },
   {
    "duration": 4,
    "start_time": "2022-04-21T07:45:32.896Z"
   },
   {
    "duration": 592,
    "start_time": "2022-04-21T07:45:32.902Z"
   },
   {
    "duration": 10,
    "start_time": "2022-04-21T07:45:33.497Z"
   },
   {
    "duration": 9,
    "start_time": "2022-04-21T07:45:33.509Z"
   },
   {
    "duration": 8,
    "start_time": "2022-04-21T07:45:33.520Z"
   },
   {
    "duration": 11,
    "start_time": "2022-04-21T07:45:33.529Z"
   },
   {
    "duration": 11,
    "start_time": "2022-04-21T07:45:33.541Z"
   },
   {
    "duration": 27,
    "start_time": "2022-04-21T07:45:33.553Z"
   },
   {
    "duration": 41,
    "start_time": "2022-04-21T07:45:33.582Z"
   },
   {
    "duration": 8,
    "start_time": "2022-04-21T07:45:33.625Z"
   },
   {
    "duration": 12,
    "start_time": "2022-04-21T07:45:33.634Z"
   },
   {
    "duration": 20,
    "start_time": "2022-04-21T07:45:33.647Z"
   },
   {
    "duration": 50,
    "start_time": "2022-04-21T07:45:33.669Z"
   },
   {
    "duration": 17,
    "start_time": "2022-04-21T07:45:33.721Z"
   },
   {
    "duration": 17,
    "start_time": "2022-04-21T07:45:33.740Z"
   },
   {
    "duration": 8,
    "start_time": "2022-04-21T07:45:33.758Z"
   },
   {
    "duration": 41,
    "start_time": "2022-04-21T07:45:33.767Z"
   },
   {
    "duration": 7,
    "start_time": "2022-04-21T07:45:33.809Z"
   },
   {
    "duration": 6,
    "start_time": "2022-04-21T07:45:33.817Z"
   },
   {
    "duration": 7,
    "start_time": "2022-04-21T07:45:33.824Z"
   },
   {
    "duration": 4,
    "start_time": "2022-04-21T07:45:33.832Z"
   },
   {
    "duration": 6,
    "start_time": "2022-04-21T07:45:33.838Z"
   },
   {
    "duration": 567,
    "start_time": "2022-04-21T07:45:33.846Z"
   },
   {
    "duration": 350,
    "start_time": "2022-04-21T07:45:34.416Z"
   },
   {
    "duration": 21,
    "start_time": "2022-04-21T07:45:34.768Z"
   },
   {
    "duration": 60,
    "start_time": "2022-04-21T07:45:34.791Z"
   },
   {
    "duration": 10,
    "start_time": "2022-04-21T07:45:34.852Z"
   },
   {
    "duration": 3,
    "start_time": "2022-04-21T07:45:34.864Z"
   },
   {
    "duration": 33,
    "start_time": "2022-04-21T07:45:34.869Z"
   },
   {
    "duration": 13,
    "start_time": "2022-04-21T07:45:34.904Z"
   },
   {
    "duration": 8,
    "start_time": "2022-04-21T07:45:34.918Z"
   },
   {
    "duration": 48,
    "start_time": "2022-04-21T07:45:34.927Z"
   },
   {
    "duration": 34,
    "start_time": "2022-04-21T07:45:34.977Z"
   },
   {
    "duration": 34,
    "start_time": "2022-04-21T07:45:35.013Z"
   },
   {
    "duration": 16,
    "start_time": "2022-04-21T07:45:35.049Z"
   },
   {
    "duration": 43,
    "start_time": "2022-04-21T07:45:35.066Z"
   },
   {
    "duration": 3,
    "start_time": "2022-04-21T07:45:35.111Z"
   },
   {
    "duration": 17,
    "start_time": "2022-04-21T07:45:35.115Z"
   },
   {
    "duration": 13,
    "start_time": "2022-04-21T07:45:35.134Z"
   },
   {
    "duration": 6,
    "start_time": "2022-04-21T07:45:35.148Z"
   },
   {
    "duration": 877,
    "start_time": "2022-04-21T07:45:35.156Z"
   },
   {
    "duration": 14,
    "start_time": "2022-04-21T07:45:36.034Z"
   },
   {
    "duration": 13,
    "start_time": "2022-04-21T07:45:36.050Z"
   },
   {
    "duration": 3,
    "start_time": "2022-04-21T07:45:36.065Z"
   },
   {
    "duration": 71,
    "start_time": "2022-04-21T07:45:36.070Z"
   },
   {
    "duration": 15,
    "start_time": "2022-04-21T07:45:36.142Z"
   },
   {
    "duration": 7,
    "start_time": "2022-04-21T07:45:36.158Z"
   },
   {
    "duration": 39,
    "start_time": "2022-04-21T07:45:36.166Z"
   },
   {
    "duration": 18,
    "start_time": "2022-04-21T07:45:36.207Z"
   },
   {
    "duration": 96,
    "start_time": "2022-04-21T07:45:36.226Z"
   },
   {
    "duration": 84,
    "start_time": "2022-04-21T07:45:36.324Z"
   },
   {
    "duration": 20,
    "start_time": "2022-04-21T07:45:36.410Z"
   },
   {
    "duration": 8,
    "start_time": "2022-04-21T07:45:36.432Z"
   },
   {
    "duration": 30,
    "start_time": "2022-04-21T07:45:36.442Z"
   },
   {
    "duration": 35,
    "start_time": "2022-04-21T07:45:36.474Z"
   },
   {
    "duration": 6,
    "start_time": "2022-04-21T07:45:36.510Z"
   },
   {
    "duration": 6,
    "start_time": "2022-04-21T07:45:36.517Z"
   },
   {
    "duration": 10,
    "start_time": "2022-04-21T07:45:36.525Z"
   },
   {
    "duration": 18,
    "start_time": "2022-04-21T07:45:36.536Z"
   },
   {
    "duration": 12,
    "start_time": "2022-04-21T07:45:36.556Z"
   },
   {
    "duration": 11,
    "start_time": "2022-04-21T07:45:36.569Z"
   },
   {
    "duration": 5,
    "start_time": "2022-04-21T07:45:36.600Z"
   },
   {
    "duration": 170,
    "start_time": "2022-04-21T07:45:36.606Z"
   },
   {
    "duration": 7,
    "start_time": "2022-04-21T07:45:36.778Z"
   },
   {
    "duration": 15,
    "start_time": "2022-04-21T07:45:36.787Z"
   },
   {
    "duration": 165,
    "start_time": "2022-04-21T07:45:36.803Z"
   },
   {
    "duration": 9,
    "start_time": "2022-04-21T07:45:36.969Z"
   },
   {
    "duration": 156,
    "start_time": "2022-04-21T07:45:36.980Z"
   },
   {
    "duration": 9,
    "start_time": "2022-04-21T07:45:37.140Z"
   },
   {
    "duration": 14,
    "start_time": "2022-04-21T07:45:37.150Z"
   },
   {
    "duration": 9,
    "start_time": "2022-04-21T07:45:38.244Z"
   },
   {
    "duration": 136,
    "start_time": "2022-04-21T07:45:38.958Z"
   },
   {
    "duration": 8,
    "start_time": "2022-04-21T07:45:55.046Z"
   },
   {
    "duration": 140,
    "start_time": "2022-04-21T07:45:55.241Z"
   },
   {
    "duration": 134,
    "start_time": "2022-04-21T07:46:07.510Z"
   },
   {
    "duration": 405,
    "start_time": "2022-04-21T07:46:44.542Z"
   },
   {
    "duration": 324,
    "start_time": "2022-04-21T07:46:44.948Z"
   },
   {
    "duration": 4,
    "start_time": "2022-04-21T07:46:45.274Z"
   },
   {
    "duration": 12,
    "start_time": "2022-04-21T07:46:46.206Z"
   },
   {
    "duration": 16,
    "start_time": "2022-04-21T07:46:46.367Z"
   },
   {
    "duration": 8,
    "start_time": "2022-04-21T07:46:46.529Z"
   },
   {
    "duration": 7,
    "start_time": "2022-04-21T07:46:46.863Z"
   },
   {
    "duration": 430,
    "start_time": "2022-04-21T07:46:47.191Z"
   },
   {
    "duration": 306,
    "start_time": "2022-04-21T07:46:47.623Z"
   },
   {
    "duration": 7,
    "start_time": "2022-04-21T07:46:47.931Z"
   },
   {
    "duration": 4,
    "start_time": "2022-04-21T07:46:48.084Z"
   },
   {
    "duration": 6,
    "start_time": "2022-04-21T07:46:48.411Z"
   },
   {
    "duration": 6,
    "start_time": "2022-04-21T07:47:36.774Z"
   },
   {
    "duration": 11,
    "start_time": "2022-04-21T07:52:19.465Z"
   },
   {
    "duration": 14,
    "start_time": "2022-04-21T07:53:03.562Z"
   },
   {
    "duration": 12,
    "start_time": "2022-04-21T07:53:43.975Z"
   },
   {
    "duration": 97,
    "start_time": "2022-04-21T07:53:56.953Z"
   },
   {
    "duration": 13,
    "start_time": "2022-04-21T07:54:10.959Z"
   },
   {
    "duration": 14,
    "start_time": "2022-04-21T07:54:36.070Z"
   },
   {
    "duration": 1049,
    "start_time": "2022-04-21T07:55:59.167Z"
   },
   {
    "duration": 1624,
    "start_time": "2022-04-21T07:56:52.463Z"
   },
   {
    "duration": 459,
    "start_time": "2022-04-21T07:56:54.089Z"
   },
   {
    "duration": 12,
    "start_time": "2022-04-21T07:56:54.550Z"
   },
   {
    "duration": 8,
    "start_time": "2022-04-21T07:56:54.564Z"
   },
   {
    "duration": 8,
    "start_time": "2022-04-21T07:56:54.575Z"
   },
   {
    "duration": 9,
    "start_time": "2022-04-21T07:56:54.584Z"
   },
   {
    "duration": 10,
    "start_time": "2022-04-21T07:56:54.595Z"
   },
   {
    "duration": 27,
    "start_time": "2022-04-21T07:56:54.606Z"
   },
   {
    "duration": 31,
    "start_time": "2022-04-21T07:56:54.635Z"
   },
   {
    "duration": 8,
    "start_time": "2022-04-21T07:56:54.668Z"
   },
   {
    "duration": 31,
    "start_time": "2022-04-21T07:56:54.677Z"
   },
   {
    "duration": 21,
    "start_time": "2022-04-21T07:56:54.709Z"
   },
   {
    "duration": 23,
    "start_time": "2022-04-21T07:56:54.732Z"
   },
   {
    "duration": 17,
    "start_time": "2022-04-21T07:56:54.759Z"
   },
   {
    "duration": 39,
    "start_time": "2022-04-21T07:56:54.778Z"
   },
   {
    "duration": 7,
    "start_time": "2022-04-21T07:56:54.819Z"
   },
   {
    "duration": 11,
    "start_time": "2022-04-21T07:56:54.828Z"
   },
   {
    "duration": 5,
    "start_time": "2022-04-21T07:56:54.840Z"
   },
   {
    "duration": 6,
    "start_time": "2022-04-21T07:56:54.846Z"
   },
   {
    "duration": 8,
    "start_time": "2022-04-21T07:56:54.853Z"
   },
   {
    "duration": 4,
    "start_time": "2022-04-21T07:56:54.862Z"
   },
   {
    "duration": 38,
    "start_time": "2022-04-21T07:56:54.867Z"
   },
   {
    "duration": 753,
    "start_time": "2022-04-21T07:56:54.907Z"
   },
   {
    "duration": 341,
    "start_time": "2022-04-21T07:56:55.661Z"
   },
   {
    "duration": 21,
    "start_time": "2022-04-21T07:56:56.004Z"
   },
   {
    "duration": 55,
    "start_time": "2022-04-21T07:56:56.027Z"
   },
   {
    "duration": 24,
    "start_time": "2022-04-21T07:56:56.084Z"
   },
   {
    "duration": 3,
    "start_time": "2022-04-21T07:56:56.109Z"
   },
   {
    "duration": 8,
    "start_time": "2022-04-21T07:56:56.114Z"
   },
   {
    "duration": 12,
    "start_time": "2022-04-21T07:56:56.123Z"
   },
   {
    "duration": 5,
    "start_time": "2022-04-21T07:56:56.137Z"
   },
   {
    "duration": 67,
    "start_time": "2022-04-21T07:56:56.143Z"
   },
   {
    "duration": 18,
    "start_time": "2022-04-21T07:56:56.211Z"
   },
   {
    "duration": 37,
    "start_time": "2022-04-21T07:56:56.230Z"
   },
   {
    "duration": 37,
    "start_time": "2022-04-21T07:56:56.268Z"
   },
   {
    "duration": 24,
    "start_time": "2022-04-21T07:56:56.306Z"
   },
   {
    "duration": 2,
    "start_time": "2022-04-21T07:56:56.332Z"
   },
   {
    "duration": 16,
    "start_time": "2022-04-21T07:56:56.335Z"
   },
   {
    "duration": 14,
    "start_time": "2022-04-21T07:56:56.353Z"
   },
   {
    "duration": 7,
    "start_time": "2022-04-21T07:56:56.369Z"
   },
   {
    "duration": 879,
    "start_time": "2022-04-21T07:56:56.401Z"
   },
   {
    "duration": 20,
    "start_time": "2022-04-21T07:56:57.281Z"
   },
   {
    "duration": 13,
    "start_time": "2022-04-21T07:56:57.302Z"
   },
   {
    "duration": 4,
    "start_time": "2022-04-21T07:56:57.316Z"
   },
   {
    "duration": 84,
    "start_time": "2022-04-21T07:56:57.321Z"
   },
   {
    "duration": 66,
    "start_time": "2022-04-21T07:57:11.490Z"
   },
   {
    "duration": 1259,
    "start_time": "2022-04-21T07:57:16.426Z"
   },
   {
    "duration": 386,
    "start_time": "2022-04-21T07:57:17.687Z"
   },
   {
    "duration": 11,
    "start_time": "2022-04-21T07:57:18.075Z"
   },
   {
    "duration": 10,
    "start_time": "2022-04-21T07:57:18.088Z"
   },
   {
    "duration": 9,
    "start_time": "2022-04-21T07:57:18.100Z"
   },
   {
    "duration": 9,
    "start_time": "2022-04-21T07:57:18.110Z"
   },
   {
    "duration": 9,
    "start_time": "2022-04-21T07:57:18.121Z"
   },
   {
    "duration": 26,
    "start_time": "2022-04-21T07:57:18.132Z"
   },
   {
    "duration": 47,
    "start_time": "2022-04-21T07:57:18.159Z"
   },
   {
    "duration": 8,
    "start_time": "2022-04-21T07:57:18.208Z"
   },
   {
    "duration": 15,
    "start_time": "2022-04-21T07:57:18.218Z"
   },
   {
    "duration": 21,
    "start_time": "2022-04-21T07:57:18.235Z"
   },
   {
    "duration": 48,
    "start_time": "2022-04-21T07:57:18.258Z"
   },
   {
    "duration": 19,
    "start_time": "2022-04-21T07:57:18.307Z"
   },
   {
    "duration": 19,
    "start_time": "2022-04-21T07:57:18.328Z"
   },
   {
    "duration": 7,
    "start_time": "2022-04-21T07:57:18.348Z"
   },
   {
    "duration": 13,
    "start_time": "2022-04-21T07:57:18.356Z"
   },
   {
    "duration": 30,
    "start_time": "2022-04-21T07:57:18.370Z"
   },
   {
    "duration": 8,
    "start_time": "2022-04-21T07:57:18.402Z"
   },
   {
    "duration": 10,
    "start_time": "2022-04-21T07:57:18.412Z"
   },
   {
    "duration": 4,
    "start_time": "2022-04-21T07:57:18.423Z"
   },
   {
    "duration": 8,
    "start_time": "2022-04-21T07:57:18.428Z"
   },
   {
    "duration": 722,
    "start_time": "2022-04-21T07:57:18.438Z"
   },
   {
    "duration": 339,
    "start_time": "2022-04-21T07:57:19.162Z"
   },
   {
    "duration": 23,
    "start_time": "2022-04-21T07:57:19.502Z"
   },
   {
    "duration": 56,
    "start_time": "2022-04-21T07:57:19.527Z"
   },
   {
    "duration": 25,
    "start_time": "2022-04-21T07:57:19.585Z"
   },
   {
    "duration": 2,
    "start_time": "2022-04-21T07:57:19.613Z"
   },
   {
    "duration": 10,
    "start_time": "2022-04-21T07:57:19.617Z"
   },
   {
    "duration": 13,
    "start_time": "2022-04-21T07:57:19.628Z"
   },
   {
    "duration": 5,
    "start_time": "2022-04-21T07:57:19.642Z"
   },
   {
    "duration": 59,
    "start_time": "2022-04-21T07:57:19.649Z"
   },
   {
    "duration": 18,
    "start_time": "2022-04-21T07:57:19.710Z"
   },
   {
    "duration": 37,
    "start_time": "2022-04-21T07:57:19.729Z"
   },
   {
    "duration": 36,
    "start_time": "2022-04-21T07:57:19.768Z"
   },
   {
    "duration": 25,
    "start_time": "2022-04-21T07:57:19.805Z"
   },
   {
    "duration": 3,
    "start_time": "2022-04-21T07:57:19.831Z"
   },
   {
    "duration": 19,
    "start_time": "2022-04-21T07:57:19.835Z"
   },
   {
    "duration": 23,
    "start_time": "2022-04-21T07:57:19.855Z"
   },
   {
    "duration": 21,
    "start_time": "2022-04-21T07:57:19.879Z"
   },
   {
    "duration": 851,
    "start_time": "2022-04-21T07:57:19.902Z"
   },
   {
    "duration": 15,
    "start_time": "2022-04-21T07:57:20.755Z"
   },
   {
    "duration": 20,
    "start_time": "2022-04-21T07:57:20.772Z"
   },
   {
    "duration": 4,
    "start_time": "2022-04-21T07:57:20.800Z"
   },
   {
    "duration": 59,
    "start_time": "2022-04-21T07:57:20.805Z"
   },
   {
    "duration": 1207,
    "start_time": "2022-04-21T07:57:55.297Z"
   },
   {
    "duration": 390,
    "start_time": "2022-04-21T07:57:56.506Z"
   },
   {
    "duration": 11,
    "start_time": "2022-04-21T07:57:56.898Z"
   },
   {
    "duration": 10,
    "start_time": "2022-04-21T07:57:56.911Z"
   },
   {
    "duration": 12,
    "start_time": "2022-04-21T07:57:56.924Z"
   },
   {
    "duration": 10,
    "start_time": "2022-04-21T07:57:56.937Z"
   },
   {
    "duration": 11,
    "start_time": "2022-04-21T07:57:56.948Z"
   },
   {
    "duration": 58,
    "start_time": "2022-04-21T07:57:56.961Z"
   },
   {
    "duration": 35,
    "start_time": "2022-04-21T07:57:57.021Z"
   },
   {
    "duration": 8,
    "start_time": "2022-04-21T07:57:57.058Z"
   },
   {
    "duration": 35,
    "start_time": "2022-04-21T07:57:57.068Z"
   },
   {
    "duration": 23,
    "start_time": "2022-04-21T07:57:57.105Z"
   },
   {
    "duration": 26,
    "start_time": "2022-04-21T07:57:57.129Z"
   },
   {
    "duration": 63,
    "start_time": "2022-04-21T07:57:57.158Z"
   },
   {
    "duration": 21,
    "start_time": "2022-04-21T07:57:57.223Z"
   },
   {
    "duration": 8,
    "start_time": "2022-04-21T07:57:57.245Z"
   },
   {
    "duration": 11,
    "start_time": "2022-04-21T07:57:57.255Z"
   },
   {
    "duration": 10,
    "start_time": "2022-04-21T07:57:57.268Z"
   },
   {
    "duration": 14,
    "start_time": "2022-04-21T07:57:57.279Z"
   },
   {
    "duration": 12,
    "start_time": "2022-04-21T07:57:57.295Z"
   },
   {
    "duration": 4,
    "start_time": "2022-04-21T07:57:57.308Z"
   },
   {
    "duration": 9,
    "start_time": "2022-04-21T07:57:57.314Z"
   },
   {
    "duration": 808,
    "start_time": "2022-04-21T07:57:57.325Z"
   },
   {
    "duration": 383,
    "start_time": "2022-04-21T07:57:58.135Z"
   },
   {
    "duration": 26,
    "start_time": "2022-04-21T07:57:58.520Z"
   },
   {
    "duration": 76,
    "start_time": "2022-04-21T07:57:58.548Z"
   },
   {
    "duration": 12,
    "start_time": "2022-04-21T07:57:58.625Z"
   },
   {
    "duration": 3,
    "start_time": "2022-04-21T07:57:58.640Z"
   },
   {
    "duration": 10,
    "start_time": "2022-04-21T07:57:58.644Z"
   },
   {
    "duration": 14,
    "start_time": "2022-04-21T07:57:58.656Z"
   },
   {
    "duration": 29,
    "start_time": "2022-04-21T07:57:58.671Z"
   },
   {
    "duration": 43,
    "start_time": "2022-04-21T07:57:58.702Z"
   },
   {
    "duration": 20,
    "start_time": "2022-04-21T07:57:58.746Z"
   },
   {
    "duration": 58,
    "start_time": "2022-04-21T07:57:58.767Z"
   },
   {
    "duration": 17,
    "start_time": "2022-04-21T07:57:58.827Z"
   },
   {
    "duration": 27,
    "start_time": "2022-04-21T07:57:58.845Z"
   },
   {
    "duration": 3,
    "start_time": "2022-04-21T07:57:58.874Z"
   },
   {
    "duration": 33,
    "start_time": "2022-04-21T07:57:58.878Z"
   },
   {
    "duration": 14,
    "start_time": "2022-04-21T07:57:59.548Z"
   },
   {
    "duration": 5,
    "start_time": "2022-04-21T07:57:59.969Z"
   },
   {
    "duration": 856,
    "start_time": "2022-04-21T07:58:00.265Z"
   },
   {
    "duration": 15,
    "start_time": "2022-04-21T07:58:01.123Z"
   },
   {
    "duration": 22,
    "start_time": "2022-04-21T07:58:01.141Z"
   },
   {
    "duration": 3,
    "start_time": "2022-04-21T07:58:01.315Z"
   },
   {
    "duration": 55,
    "start_time": "2022-04-21T07:58:02.146Z"
   },
   {
    "duration": 1835,
    "start_time": "2022-04-21T22:34:58.891Z"
   },
   {
    "duration": 208,
    "start_time": "2022-04-21T22:35:00.729Z"
   },
   {
    "duration": 0,
    "start_time": "2022-04-21T22:35:00.943Z"
   },
   {
    "duration": 0,
    "start_time": "2022-04-21T22:35:00.945Z"
   },
   {
    "duration": 0,
    "start_time": "2022-04-21T22:35:00.946Z"
   },
   {
    "duration": 1,
    "start_time": "2022-04-21T22:35:00.947Z"
   },
   {
    "duration": 0,
    "start_time": "2022-04-21T22:35:00.949Z"
   },
   {
    "duration": 0,
    "start_time": "2022-04-21T22:35:00.950Z"
   },
   {
    "duration": 0,
    "start_time": "2022-04-21T22:35:00.952Z"
   },
   {
    "duration": 0,
    "start_time": "2022-04-21T22:35:00.954Z"
   },
   {
    "duration": 0,
    "start_time": "2022-04-21T22:35:00.957Z"
   },
   {
    "duration": 0,
    "start_time": "2022-04-21T22:35:00.982Z"
   },
   {
    "duration": 0,
    "start_time": "2022-04-21T22:35:00.984Z"
   },
   {
    "duration": 0,
    "start_time": "2022-04-21T22:35:00.986Z"
   },
   {
    "duration": 0,
    "start_time": "2022-04-21T22:35:00.988Z"
   },
   {
    "duration": 0,
    "start_time": "2022-04-21T22:35:00.991Z"
   },
   {
    "duration": 0,
    "start_time": "2022-04-21T22:35:00.993Z"
   },
   {
    "duration": 0,
    "start_time": "2022-04-21T22:35:00.995Z"
   },
   {
    "duration": 0,
    "start_time": "2022-04-21T22:35:00.998Z"
   },
   {
    "duration": 0,
    "start_time": "2022-04-21T22:35:00.999Z"
   },
   {
    "duration": 0,
    "start_time": "2022-04-21T22:35:01.002Z"
   },
   {
    "duration": 0,
    "start_time": "2022-04-21T22:35:01.003Z"
   },
   {
    "duration": 0,
    "start_time": "2022-04-21T22:35:01.006Z"
   },
   {
    "duration": 0,
    "start_time": "2022-04-21T22:35:01.008Z"
   },
   {
    "duration": 0,
    "start_time": "2022-04-21T22:35:01.010Z"
   },
   {
    "duration": 0,
    "start_time": "2022-04-21T22:35:01.012Z"
   },
   {
    "duration": 0,
    "start_time": "2022-04-21T22:35:01.014Z"
   },
   {
    "duration": 0,
    "start_time": "2022-04-21T22:35:01.016Z"
   },
   {
    "duration": 0,
    "start_time": "2022-04-21T22:35:01.082Z"
   },
   {
    "duration": 0,
    "start_time": "2022-04-21T22:35:01.085Z"
   },
   {
    "duration": 0,
    "start_time": "2022-04-21T22:35:01.086Z"
   },
   {
    "duration": 1,
    "start_time": "2022-04-21T22:35:01.088Z"
   },
   {
    "duration": 1,
    "start_time": "2022-04-21T22:35:01.090Z"
   },
   {
    "duration": 0,
    "start_time": "2022-04-21T22:35:01.093Z"
   },
   {
    "duration": 0,
    "start_time": "2022-04-21T22:35:01.094Z"
   },
   {
    "duration": 0,
    "start_time": "2022-04-21T22:35:01.097Z"
   },
   {
    "duration": 0,
    "start_time": "2022-04-21T22:35:01.099Z"
   },
   {
    "duration": 0,
    "start_time": "2022-04-21T22:35:01.101Z"
   },
   {
    "duration": 0,
    "start_time": "2022-04-21T22:35:01.103Z"
   },
   {
    "duration": 0,
    "start_time": "2022-04-21T22:35:01.106Z"
   },
   {
    "duration": 0,
    "start_time": "2022-04-21T22:35:01.108Z"
   },
   {
    "duration": 0,
    "start_time": "2022-04-21T22:35:01.110Z"
   },
   {
    "duration": 0,
    "start_time": "2022-04-21T22:35:01.112Z"
   },
   {
    "duration": 0,
    "start_time": "2022-04-21T22:35:01.114Z"
   },
   {
    "duration": 0,
    "start_time": "2022-04-21T22:35:01.116Z"
   },
   {
    "duration": 0,
    "start_time": "2022-04-21T22:35:01.119Z"
   },
   {
    "duration": 0,
    "start_time": "2022-04-21T22:35:01.182Z"
   },
   {
    "duration": 0,
    "start_time": "2022-04-21T22:35:01.184Z"
   },
   {
    "duration": 0,
    "start_time": "2022-04-21T22:35:01.186Z"
   },
   {
    "duration": 0,
    "start_time": "2022-04-21T22:35:01.188Z"
   },
   {
    "duration": 0,
    "start_time": "2022-04-21T22:35:01.190Z"
   },
   {
    "duration": 0,
    "start_time": "2022-04-21T22:35:01.193Z"
   },
   {
    "duration": 0,
    "start_time": "2022-04-21T22:35:01.195Z"
   },
   {
    "duration": 0,
    "start_time": "2022-04-21T22:35:01.197Z"
   },
   {
    "duration": 1,
    "start_time": "2022-04-21T22:35:01.199Z"
   },
   {
    "duration": 0,
    "start_time": "2022-04-21T22:35:01.202Z"
   },
   {
    "duration": 0,
    "start_time": "2022-04-21T22:35:01.204Z"
   },
   {
    "duration": 0,
    "start_time": "2022-04-21T22:35:01.205Z"
   },
   {
    "duration": 0,
    "start_time": "2022-04-21T22:35:01.206Z"
   },
   {
    "duration": 0,
    "start_time": "2022-04-21T22:35:01.208Z"
   },
   {
    "duration": 0,
    "start_time": "2022-04-21T22:35:01.209Z"
   },
   {
    "duration": 0,
    "start_time": "2022-04-21T22:35:01.210Z"
   },
   {
    "duration": 0,
    "start_time": "2022-04-21T22:35:01.211Z"
   },
   {
    "duration": 0,
    "start_time": "2022-04-21T22:35:01.213Z"
   },
   {
    "duration": 0,
    "start_time": "2022-04-21T22:35:01.214Z"
   },
   {
    "duration": 0,
    "start_time": "2022-04-21T22:35:01.215Z"
   },
   {
    "duration": 0,
    "start_time": "2022-04-21T22:35:01.216Z"
   },
   {
    "duration": 0,
    "start_time": "2022-04-21T22:35:01.218Z"
   },
   {
    "duration": 0,
    "start_time": "2022-04-21T22:35:01.219Z"
   },
   {
    "duration": 0,
    "start_time": "2022-04-21T22:35:01.221Z"
   },
   {
    "duration": 0,
    "start_time": "2022-04-21T22:35:01.282Z"
   },
   {
    "duration": 0,
    "start_time": "2022-04-21T22:35:01.284Z"
   },
   {
    "duration": 0,
    "start_time": "2022-04-21T22:35:01.285Z"
   },
   {
    "duration": 0,
    "start_time": "2022-04-21T22:35:01.287Z"
   },
   {
    "duration": 0,
    "start_time": "2022-04-21T22:35:01.288Z"
   },
   {
    "duration": 0,
    "start_time": "2022-04-21T22:35:01.289Z"
   },
   {
    "duration": 0,
    "start_time": "2022-04-21T22:35:01.290Z"
   },
   {
    "duration": 0,
    "start_time": "2022-04-21T22:35:01.292Z"
   },
   {
    "duration": 0,
    "start_time": "2022-04-21T22:35:01.293Z"
   },
   {
    "duration": 0,
    "start_time": "2022-04-21T22:35:01.294Z"
   },
   {
    "duration": 0,
    "start_time": "2022-04-21T22:35:01.296Z"
   },
   {
    "duration": 0,
    "start_time": "2022-04-21T22:35:01.297Z"
   },
   {
    "duration": 0,
    "start_time": "2022-04-21T22:35:01.299Z"
   },
   {
    "duration": 0,
    "start_time": "2022-04-21T22:35:01.300Z"
   },
   {
    "duration": 0,
    "start_time": "2022-04-21T22:35:01.301Z"
   },
   {
    "duration": 0,
    "start_time": "2022-04-21T22:35:01.302Z"
   },
   {
    "duration": 0,
    "start_time": "2022-04-21T22:35:01.304Z"
   },
   {
    "duration": 0,
    "start_time": "2022-04-21T22:35:01.305Z"
   },
   {
    "duration": 0,
    "start_time": "2022-04-21T22:35:01.306Z"
   },
   {
    "duration": 106,
    "start_time": "2022-04-21T22:36:09.038Z"
   },
   {
    "duration": 513,
    "start_time": "2022-04-21T22:37:05.107Z"
   },
   {
    "duration": 1502,
    "start_time": "2022-04-21T22:37:12.425Z"
   },
   {
    "duration": 515,
    "start_time": "2022-04-21T22:37:13.930Z"
   },
   {
    "duration": 16,
    "start_time": "2022-04-21T22:37:14.448Z"
   },
   {
    "duration": 12,
    "start_time": "2022-04-21T22:37:14.467Z"
   },
   {
    "duration": 11,
    "start_time": "2022-04-21T22:37:14.481Z"
   },
   {
    "duration": 14,
    "start_time": "2022-04-21T22:37:14.494Z"
   },
   {
    "duration": 14,
    "start_time": "2022-04-21T22:37:14.510Z"
   },
   {
    "duration": 64,
    "start_time": "2022-04-21T22:37:14.526Z"
   },
   {
    "duration": 50,
    "start_time": "2022-04-21T22:37:14.592Z"
   },
   {
    "duration": 11,
    "start_time": "2022-04-21T22:37:14.646Z"
   },
   {
    "duration": 20,
    "start_time": "2022-04-21T22:37:14.682Z"
   },
   {
    "duration": 30,
    "start_time": "2022-04-21T22:37:14.704Z"
   },
   {
    "duration": 61,
    "start_time": "2022-04-21T22:37:14.736Z"
   },
   {
    "duration": 25,
    "start_time": "2022-04-21T22:37:14.800Z"
   },
   {
    "duration": 30,
    "start_time": "2022-04-21T22:37:14.827Z"
   },
   {
    "duration": 12,
    "start_time": "2022-04-21T22:37:14.882Z"
   },
   {
    "duration": 16,
    "start_time": "2022-04-21T22:37:14.896Z"
   },
   {
    "duration": 7,
    "start_time": "2022-04-21T22:37:14.914Z"
   },
   {
    "duration": 7,
    "start_time": "2022-04-21T22:37:14.923Z"
   },
   {
    "duration": 11,
    "start_time": "2022-04-21T22:37:14.933Z"
   },
   {
    "duration": 40,
    "start_time": "2022-04-21T22:37:14.946Z"
   },
   {
    "duration": 12,
    "start_time": "2022-04-21T22:37:14.988Z"
   },
   {
    "duration": 1103,
    "start_time": "2022-04-21T22:37:15.003Z"
   },
   {
    "duration": 501,
    "start_time": "2022-04-21T22:37:16.108Z"
   },
   {
    "duration": 34,
    "start_time": "2022-04-21T22:37:16.611Z"
   },
   {
    "duration": 109,
    "start_time": "2022-04-21T22:37:16.647Z"
   },
   {
    "duration": 26,
    "start_time": "2022-04-21T22:37:16.759Z"
   },
   {
    "duration": 4,
    "start_time": "2022-04-21T22:37:16.791Z"
   },
   {
    "duration": 9,
    "start_time": "2022-04-21T22:37:16.798Z"
   },
   {
    "duration": 20,
    "start_time": "2022-04-21T22:37:16.809Z"
   },
   {
    "duration": 7,
    "start_time": "2022-04-21T22:37:16.832Z"
   },
   {
    "duration": 108,
    "start_time": "2022-04-21T22:37:16.841Z"
   },
   {
    "duration": 47,
    "start_time": "2022-04-21T22:37:16.952Z"
   },
   {
    "duration": 60,
    "start_time": "2022-04-21T22:37:17.001Z"
   },
   {
    "duration": 41,
    "start_time": "2022-04-21T22:37:17.063Z"
   },
   {
    "duration": 38,
    "start_time": "2022-04-21T22:37:17.107Z"
   },
   {
    "duration": 4,
    "start_time": "2022-04-21T22:37:17.148Z"
   },
   {
    "duration": 51,
    "start_time": "2022-04-21T22:37:17.154Z"
   },
   {
    "duration": 23,
    "start_time": "2022-04-21T22:37:17.207Z"
   },
   {
    "duration": 7,
    "start_time": "2022-04-21T22:37:17.232Z"
   },
   {
    "duration": 1637,
    "start_time": "2022-04-21T22:37:17.241Z"
   },
   {
    "duration": 25,
    "start_time": "2022-04-21T22:37:18.882Z"
   },
   {
    "duration": 17,
    "start_time": "2022-04-21T22:37:18.909Z"
   },
   {
    "duration": 4,
    "start_time": "2022-04-21T22:37:18.928Z"
   },
   {
    "duration": 6,
    "start_time": "2022-04-21T22:37:18.934Z"
   },
   {
    "duration": 55,
    "start_time": "2022-04-21T22:37:18.942Z"
   },
   {
    "duration": 9,
    "start_time": "2022-04-21T22:37:18.999Z"
   },
   {
    "duration": 35,
    "start_time": "2022-04-21T22:37:19.011Z"
   },
   {
    "duration": 54,
    "start_time": "2022-04-21T22:37:19.048Z"
   },
   {
    "duration": 109,
    "start_time": "2022-04-21T22:37:19.105Z"
   },
   {
    "duration": 85,
    "start_time": "2022-04-21T22:37:19.217Z"
   },
   {
    "duration": 113,
    "start_time": "2022-04-21T22:37:19.305Z"
   },
   {
    "duration": 3,
    "start_time": "2022-04-21T22:37:19.421Z"
   },
   {
    "duration": 16,
    "start_time": "2022-04-21T22:37:19.427Z"
   },
   {
    "duration": 39,
    "start_time": "2022-04-21T22:37:19.445Z"
   },
   {
    "duration": 7,
    "start_time": "2022-04-21T22:37:19.486Z"
   },
   {
    "duration": 8,
    "start_time": "2022-04-21T22:37:19.495Z"
   },
   {
    "duration": 11,
    "start_time": "2022-04-21T22:37:19.505Z"
   },
   {
    "duration": 33,
    "start_time": "2022-04-21T22:37:19.518Z"
   },
   {
    "duration": 44,
    "start_time": "2022-04-21T22:37:19.554Z"
   },
   {
    "duration": 14,
    "start_time": "2022-04-21T22:37:19.601Z"
   },
   {
    "duration": 14,
    "start_time": "2022-04-21T22:37:19.618Z"
   },
   {
    "duration": 47,
    "start_time": "2022-04-21T22:37:19.635Z"
   },
   {
    "duration": 315,
    "start_time": "2022-04-21T22:37:19.685Z"
   },
   {
    "duration": 13,
    "start_time": "2022-04-21T22:37:20.002Z"
   },
   {
    "duration": 7,
    "start_time": "2022-04-21T22:37:20.018Z"
   },
   {
    "duration": 280,
    "start_time": "2022-04-21T22:37:20.028Z"
   },
   {
    "duration": 15,
    "start_time": "2022-04-21T22:37:20.311Z"
   },
   {
    "duration": 295,
    "start_time": "2022-04-21T22:37:20.329Z"
   },
   {
    "duration": 14,
    "start_time": "2022-04-21T22:37:20.627Z"
   },
   {
    "duration": 40,
    "start_time": "2022-04-21T22:37:20.645Z"
   },
   {
    "duration": 273,
    "start_time": "2022-04-21T22:37:20.687Z"
   },
   {
    "duration": 23,
    "start_time": "2022-04-21T22:37:20.963Z"
   },
   {
    "duration": 304,
    "start_time": "2022-04-21T22:37:20.989Z"
   },
   {
    "duration": 13,
    "start_time": "2022-04-21T22:37:21.296Z"
   },
   {
    "duration": 282,
    "start_time": "2022-04-21T22:37:21.311Z"
   },
   {
    "duration": 540,
    "start_time": "2022-04-21T22:37:21.595Z"
   },
   {
    "duration": 490,
    "start_time": "2022-04-21T22:37:22.137Z"
   },
   {
    "duration": 6,
    "start_time": "2022-04-21T22:37:22.629Z"
   },
   {
    "duration": 24,
    "start_time": "2022-04-21T22:37:22.637Z"
   },
   {
    "duration": 27,
    "start_time": "2022-04-21T22:37:22.681Z"
   },
   {
    "duration": 14,
    "start_time": "2022-04-21T22:37:22.716Z"
   },
   {
    "duration": 615,
    "start_time": "2022-04-21T22:37:22.733Z"
   },
   {
    "duration": 516,
    "start_time": "2022-04-21T22:37:23.351Z"
   },
   {
    "duration": 15,
    "start_time": "2022-04-21T22:37:23.869Z"
   },
   {
    "duration": 14,
    "start_time": "2022-04-21T22:37:23.886Z"
   },
   {
    "duration": 11,
    "start_time": "2022-04-21T22:37:23.902Z"
   },
   {
    "duration": 16,
    "start_time": "2022-04-21T22:37:23.915Z"
   },
   {
    "duration": 10,
    "start_time": "2022-04-21T22:37:23.933Z"
   },
   {
    "duration": 13,
    "start_time": "2022-04-21T22:39:38.118Z"
   },
   {
    "duration": 13,
    "start_time": "2022-04-21T22:39:46.861Z"
   },
   {
    "duration": 17,
    "start_time": "2022-04-21T22:39:50.494Z"
   },
   {
    "duration": 7,
    "start_time": "2022-04-21T22:41:36.489Z"
   },
   {
    "duration": 101,
    "start_time": "2022-04-21T22:49:41.172Z"
   },
   {
    "duration": 1562,
    "start_time": "2022-04-21T22:52:14.065Z"
   },
   {
    "duration": 514,
    "start_time": "2022-04-21T22:52:15.630Z"
   },
   {
    "duration": 17,
    "start_time": "2022-04-21T22:52:16.147Z"
   },
   {
    "duration": 14,
    "start_time": "2022-04-21T22:52:16.167Z"
   },
   {
    "duration": 10,
    "start_time": "2022-04-21T22:52:16.183Z"
   },
   {
    "duration": 13,
    "start_time": "2022-04-21T22:52:16.196Z"
   },
   {
    "duration": 16,
    "start_time": "2022-04-21T22:52:16.211Z"
   },
   {
    "duration": 72,
    "start_time": "2022-04-21T22:52:16.229Z"
   },
   {
    "duration": 48,
    "start_time": "2022-04-21T22:52:16.304Z"
   },
   {
    "duration": 27,
    "start_time": "2022-04-21T22:52:16.356Z"
   },
   {
    "duration": 21,
    "start_time": "2022-04-21T22:52:16.385Z"
   },
   {
    "duration": 33,
    "start_time": "2022-04-21T22:52:16.408Z"
   },
   {
    "duration": 63,
    "start_time": "2022-04-21T22:52:16.443Z"
   },
   {
    "duration": 25,
    "start_time": "2022-04-21T22:52:16.508Z"
   },
   {
    "duration": 54,
    "start_time": "2022-04-21T22:52:16.535Z"
   },
   {
    "duration": 11,
    "start_time": "2022-04-21T22:52:16.592Z"
   },
   {
    "duration": 16,
    "start_time": "2022-04-21T22:52:16.605Z"
   },
   {
    "duration": 8,
    "start_time": "2022-04-21T22:52:16.623Z"
   },
   {
    "duration": 6,
    "start_time": "2022-04-21T22:52:16.633Z"
   },
   {
    "duration": 43,
    "start_time": "2022-04-21T22:52:16.641Z"
   },
   {
    "duration": 6,
    "start_time": "2022-04-21T22:52:16.686Z"
   },
   {
    "duration": 12,
    "start_time": "2022-04-21T22:52:16.694Z"
   },
   {
    "duration": 966,
    "start_time": "2022-04-21T22:52:16.708Z"
   },
   {
    "duration": 552,
    "start_time": "2022-04-21T22:52:17.681Z"
   },
   {
    "duration": 33,
    "start_time": "2022-04-21T22:52:18.236Z"
   },
   {
    "duration": 98,
    "start_time": "2022-04-21T22:52:18.272Z"
   },
   {
    "duration": 17,
    "start_time": "2022-04-21T22:52:18.372Z"
   },
   {
    "duration": 3,
    "start_time": "2022-04-21T22:52:18.396Z"
   },
   {
    "duration": 13,
    "start_time": "2022-04-21T22:52:18.401Z"
   },
   {
    "duration": 25,
    "start_time": "2022-04-21T22:52:18.416Z"
   },
   {
    "duration": 7,
    "start_time": "2022-04-21T22:52:18.444Z"
   },
   {
    "duration": 70,
    "start_time": "2022-04-21T22:52:18.454Z"
   },
   {
    "duration": 30,
    "start_time": "2022-04-21T22:52:18.526Z"
   },
   {
    "duration": 65,
    "start_time": "2022-04-21T22:52:18.558Z"
   },
   {
    "duration": 23,
    "start_time": "2022-04-21T22:52:18.625Z"
   },
   {
    "duration": 47,
    "start_time": "2022-04-21T22:52:18.650Z"
   },
   {
    "duration": 4,
    "start_time": "2022-04-21T22:52:18.699Z"
   },
   {
    "duration": 39,
    "start_time": "2022-04-21T22:52:18.705Z"
   },
   {
    "duration": 64,
    "start_time": "2022-04-21T22:52:18.746Z"
   },
   {
    "duration": 7,
    "start_time": "2022-04-21T22:52:18.813Z"
   },
   {
    "duration": 1936,
    "start_time": "2022-04-21T22:52:18.822Z"
   },
   {
    "duration": 29,
    "start_time": "2022-04-21T22:52:20.761Z"
   },
   {
    "duration": 16,
    "start_time": "2022-04-21T22:52:20.792Z"
   },
   {
    "duration": 4,
    "start_time": "2022-04-21T22:52:20.810Z"
   },
   {
    "duration": 11,
    "start_time": "2022-04-21T22:52:20.816Z"
   },
   {
    "duration": 55,
    "start_time": "2022-04-21T22:52:20.829Z"
   },
   {
    "duration": 9,
    "start_time": "2022-04-21T22:52:20.887Z"
   },
   {
    "duration": 34,
    "start_time": "2022-04-21T22:52:20.898Z"
   },
   {
    "duration": 53,
    "start_time": "2022-04-21T22:52:20.934Z"
   },
   {
    "duration": 102,
    "start_time": "2022-04-21T22:52:20.989Z"
   },
   {
    "duration": 72,
    "start_time": "2022-04-21T22:52:21.093Z"
   },
   {
    "duration": 120,
    "start_time": "2022-04-21T22:52:21.167Z"
   },
   {
    "duration": 3,
    "start_time": "2022-04-21T22:52:21.289Z"
   },
   {
    "duration": 15,
    "start_time": "2022-04-21T22:52:21.294Z"
   },
   {
    "duration": 24,
    "start_time": "2022-04-21T22:52:21.311Z"
   },
   {
    "duration": 5,
    "start_time": "2022-04-21T22:52:21.337Z"
   },
   {
    "duration": 7,
    "start_time": "2022-04-21T22:52:21.344Z"
   },
   {
    "duration": 32,
    "start_time": "2022-04-21T22:52:21.353Z"
   },
   {
    "duration": 35,
    "start_time": "2022-04-21T22:52:21.388Z"
   },
   {
    "duration": 18,
    "start_time": "2022-04-21T22:52:21.425Z"
   },
   {
    "duration": 38,
    "start_time": "2022-04-21T22:52:21.445Z"
   },
   {
    "duration": 17,
    "start_time": "2022-04-21T22:52:21.485Z"
   },
   {
    "duration": 10,
    "start_time": "2022-04-21T22:52:21.504Z"
   },
   {
    "duration": 13,
    "start_time": "2022-04-21T22:52:21.516Z"
   },
   {
    "duration": 307,
    "start_time": "2022-04-21T22:52:21.531Z"
   },
   {
    "duration": 11,
    "start_time": "2022-04-21T22:52:21.840Z"
   },
   {
    "duration": 5,
    "start_time": "2022-04-21T22:52:21.854Z"
   },
   {
    "duration": 250,
    "start_time": "2022-04-21T22:52:21.882Z"
   },
   {
    "duration": 13,
    "start_time": "2022-04-21T22:52:22.135Z"
   },
   {
    "duration": 279,
    "start_time": "2022-04-21T22:52:22.150Z"
   },
   {
    "duration": 13,
    "start_time": "2022-04-21T22:52:22.431Z"
   },
   {
    "duration": 35,
    "start_time": "2022-04-21T22:52:22.446Z"
   },
   {
    "duration": 358,
    "start_time": "2022-04-21T22:52:22.484Z"
   },
   {
    "duration": 12,
    "start_time": "2022-04-21T22:52:22.845Z"
   },
   {
    "duration": 289,
    "start_time": "2022-04-21T22:52:22.859Z"
   },
   {
    "duration": 13,
    "start_time": "2022-04-21T22:52:23.150Z"
   },
   {
    "duration": 266,
    "start_time": "2022-04-21T22:52:23.181Z"
   },
   {
    "duration": 511,
    "start_time": "2022-04-21T22:52:23.449Z"
   },
   {
    "duration": 481,
    "start_time": "2022-04-21T22:52:23.963Z"
   },
   {
    "duration": 6,
    "start_time": "2022-04-21T22:52:24.446Z"
   },
   {
    "duration": 40,
    "start_time": "2022-04-21T22:52:24.455Z"
   },
   {
    "duration": 26,
    "start_time": "2022-04-21T22:52:24.503Z"
   },
   {
    "duration": 12,
    "start_time": "2022-04-21T22:52:24.531Z"
   },
   {
    "duration": 576,
    "start_time": "2022-04-21T22:52:24.546Z"
   },
   {
    "duration": 502,
    "start_time": "2022-04-21T22:52:25.124Z"
   },
   {
    "duration": 4,
    "start_time": "2022-04-21T22:52:25.629Z"
   },
   {
    "duration": 8,
    "start_time": "2022-04-21T22:52:25.635Z"
   },
   {
    "duration": 37,
    "start_time": "2022-04-21T22:52:25.645Z"
   },
   {
    "duration": 10,
    "start_time": "2022-04-21T22:52:25.685Z"
   },
   {
    "duration": 8,
    "start_time": "2022-04-21T22:52:25.697Z"
   },
   {
    "duration": 48,
    "start_time": "2022-04-22T04:27:08.352Z"
   },
   {
    "duration": 1280,
    "start_time": "2022-04-22T04:27:11.144Z"
   },
   {
    "duration": 350,
    "start_time": "2022-04-22T04:27:12.426Z"
   },
   {
    "duration": 151,
    "start_time": "2022-04-22T05:08:53.210Z"
   },
   {
    "duration": 1395,
    "start_time": "2022-04-22T05:09:28.491Z"
   },
   {
    "duration": 397,
    "start_time": "2022-04-22T05:09:29.888Z"
   },
   {
    "duration": 11,
    "start_time": "2022-04-22T05:09:30.286Z"
   },
   {
    "duration": 25,
    "start_time": "2022-04-22T05:09:30.299Z"
   },
   {
    "duration": 24,
    "start_time": "2022-04-22T05:09:30.326Z"
   },
   {
    "duration": 24,
    "start_time": "2022-04-22T05:09:30.352Z"
   },
   {
    "duration": 22,
    "start_time": "2022-04-22T05:09:30.378Z"
   },
   {
    "duration": 31,
    "start_time": "2022-04-22T05:09:30.401Z"
   },
   {
    "duration": 31,
    "start_time": "2022-04-22T05:09:30.433Z"
   },
   {
    "duration": 9,
    "start_time": "2022-04-22T05:09:30.466Z"
   },
   {
    "duration": 33,
    "start_time": "2022-04-22T05:09:30.476Z"
   },
   {
    "duration": 32,
    "start_time": "2022-04-22T05:09:30.511Z"
   },
   {
    "duration": 37,
    "start_time": "2022-04-22T05:09:30.545Z"
   },
   {
    "duration": 18,
    "start_time": "2022-04-22T05:09:30.584Z"
   },
   {
    "duration": 40,
    "start_time": "2022-04-22T05:09:30.604Z"
   },
   {
    "duration": 8,
    "start_time": "2022-04-22T05:09:30.645Z"
   },
   {
    "duration": 14,
    "start_time": "2022-04-22T05:09:30.655Z"
   },
   {
    "duration": 14,
    "start_time": "2022-04-22T05:09:30.670Z"
   },
   {
    "duration": 10,
    "start_time": "2022-04-22T05:09:30.686Z"
   },
   {
    "duration": 24,
    "start_time": "2022-04-22T05:09:30.698Z"
   },
   {
    "duration": 7,
    "start_time": "2022-04-22T05:09:30.724Z"
   },
   {
    "duration": 11,
    "start_time": "2022-04-22T05:09:30.732Z"
   },
   {
    "duration": 654,
    "start_time": "2022-04-22T05:09:30.744Z"
   },
   {
    "duration": 333,
    "start_time": "2022-04-22T05:09:31.399Z"
   },
   {
    "duration": 31,
    "start_time": "2022-04-22T05:09:31.733Z"
   },
   {
    "duration": 58,
    "start_time": "2022-04-22T05:09:31.766Z"
   },
   {
    "duration": 12,
    "start_time": "2022-04-22T05:09:31.825Z"
   },
   {
    "duration": 3,
    "start_time": "2022-04-22T05:09:31.854Z"
   },
   {
    "duration": 10,
    "start_time": "2022-04-22T05:09:31.859Z"
   },
   {
    "duration": 15,
    "start_time": "2022-04-22T05:09:31.870Z"
   },
   {
    "duration": 9,
    "start_time": "2022-04-22T05:09:31.886Z"
   },
   {
    "duration": 59,
    "start_time": "2022-04-22T05:09:31.897Z"
   },
   {
    "duration": 19,
    "start_time": "2022-04-22T05:09:31.957Z"
   },
   {
    "duration": 40,
    "start_time": "2022-04-22T05:09:31.978Z"
   },
   {
    "duration": 36,
    "start_time": "2022-04-22T05:09:32.020Z"
   },
   {
    "duration": 26,
    "start_time": "2022-04-22T05:09:32.058Z"
   },
   {
    "duration": 2,
    "start_time": "2022-04-22T05:09:32.086Z"
   },
   {
    "duration": 21,
    "start_time": "2022-04-22T05:09:32.090Z"
   },
   {
    "duration": 17,
    "start_time": "2022-04-22T05:09:32.113Z"
   },
   {
    "duration": 22,
    "start_time": "2022-04-22T05:09:32.132Z"
   },
   {
    "duration": 842,
    "start_time": "2022-04-22T05:09:32.156Z"
   },
   {
    "duration": 16,
    "start_time": "2022-04-22T05:09:33.000Z"
   },
   {
    "duration": 23,
    "start_time": "2022-04-22T05:09:33.018Z"
   },
   {
    "duration": 13,
    "start_time": "2022-04-22T05:09:33.042Z"
   },
   {
    "duration": 21,
    "start_time": "2022-04-22T05:09:33.056Z"
   },
   {
    "duration": 26,
    "start_time": "2022-04-22T05:09:33.079Z"
   },
   {
    "duration": 7,
    "start_time": "2022-04-22T05:09:33.107Z"
   },
   {
    "duration": 43,
    "start_time": "2022-04-22T05:09:33.115Z"
   },
   {
    "duration": 18,
    "start_time": "2022-04-22T05:09:33.159Z"
   },
   {
    "duration": 71,
    "start_time": "2022-04-22T05:09:33.179Z"
   },
   {
    "duration": 48,
    "start_time": "2022-04-22T05:09:33.253Z"
   },
   {
    "duration": 80,
    "start_time": "2022-04-22T05:09:33.302Z"
   },
   {
    "duration": 2,
    "start_time": "2022-04-22T05:09:33.384Z"
   },
   {
    "duration": 12,
    "start_time": "2022-04-22T05:09:33.387Z"
   },
   {
    "duration": 17,
    "start_time": "2022-04-22T05:09:33.401Z"
   },
   {
    "duration": 26,
    "start_time": "2022-04-22T05:09:33.420Z"
   },
   {
    "duration": 12,
    "start_time": "2022-04-22T05:09:33.448Z"
   },
   {
    "duration": 28,
    "start_time": "2022-04-22T05:09:33.461Z"
   },
   {
    "duration": 26,
    "start_time": "2022-04-22T05:09:33.491Z"
   },
   {
    "duration": 23,
    "start_time": "2022-04-22T05:09:33.518Z"
   },
   {
    "duration": 28,
    "start_time": "2022-04-22T05:09:33.543Z"
   },
   {
    "duration": 25,
    "start_time": "2022-04-22T05:09:33.573Z"
   },
   {
    "duration": 13,
    "start_time": "2022-04-22T05:09:33.599Z"
   },
   {
    "duration": 23,
    "start_time": "2022-04-22T05:09:33.614Z"
   },
   {
    "duration": 167,
    "start_time": "2022-04-22T05:09:33.638Z"
   },
   {
    "duration": 7,
    "start_time": "2022-04-22T05:09:33.807Z"
   },
   {
    "duration": 27,
    "start_time": "2022-04-22T05:09:33.816Z"
   },
   {
    "duration": 138,
    "start_time": "2022-04-22T05:09:33.844Z"
   },
   {
    "duration": 8,
    "start_time": "2022-04-22T05:09:33.984Z"
   },
   {
    "duration": 148,
    "start_time": "2022-04-22T05:09:33.994Z"
   },
   {
    "duration": 16,
    "start_time": "2022-04-22T05:09:34.143Z"
   },
   {
    "duration": 22,
    "start_time": "2022-04-22T05:09:34.160Z"
   },
   {
    "duration": 137,
    "start_time": "2022-04-22T05:09:34.183Z"
   },
   {
    "duration": 8,
    "start_time": "2022-04-22T05:09:34.322Z"
   },
   {
    "duration": 147,
    "start_time": "2022-04-22T05:09:34.331Z"
   },
   {
    "duration": 7,
    "start_time": "2022-04-22T05:09:34.480Z"
   },
   {
    "duration": 151,
    "start_time": "2022-04-22T05:09:34.489Z"
   },
   {
    "duration": 371,
    "start_time": "2022-04-22T05:09:34.642Z"
   },
   {
    "duration": 330,
    "start_time": "2022-04-22T05:09:35.014Z"
   },
   {
    "duration": 11,
    "start_time": "2022-04-22T05:09:35.346Z"
   },
   {
    "duration": 15,
    "start_time": "2022-04-22T05:09:35.358Z"
   },
   {
    "duration": 17,
    "start_time": "2022-04-22T05:09:35.379Z"
   },
   {
    "duration": 7,
    "start_time": "2022-04-22T05:09:35.398Z"
   },
   {
    "duration": 427,
    "start_time": "2022-04-22T05:09:35.407Z"
   },
   {
    "duration": 327,
    "start_time": "2022-04-22T05:09:35.836Z"
   },
   {
    "duration": 3,
    "start_time": "2022-04-22T05:09:36.165Z"
   },
   {
    "duration": 6,
    "start_time": "2022-04-22T05:09:36.170Z"
   },
   {
    "duration": 6,
    "start_time": "2022-04-22T05:09:36.178Z"
   },
   {
    "duration": 13,
    "start_time": "2022-04-22T05:09:36.185Z"
   },
   {
    "duration": 6,
    "start_time": "2022-04-22T05:09:36.199Z"
   }
  ],
  "kernelspec": {
   "display_name": "Python 3",
   "language": "python",
   "name": "python3"
  },
  "language_info": {
   "codemirror_mode": {
    "name": "ipython",
    "version": 3
   },
   "file_extension": ".py",
   "mimetype": "text/x-python",
   "name": "python",
   "nbconvert_exporter": "python",
   "pygments_lexer": "ipython3",
   "version": "3.8.8"
  },
  "toc": {
   "base_numbering": 1,
   "nav_menu": {
    "height": "123.982px",
    "width": "159.995px"
   },
   "number_sections": true,
   "sideBar": true,
   "skip_h1_title": true,
   "title_cell": "Table of Contents",
   "title_sidebar": "Contents",
   "toc_cell": false,
   "toc_position": {
    "height": "calc(100% - 180px)",
    "left": "10px",
    "top": "150px",
    "width": "361.009px"
   },
   "toc_section_display": true,
   "toc_window_display": true
  }
 },
 "nbformat": 4,
 "nbformat_minor": 2
}
