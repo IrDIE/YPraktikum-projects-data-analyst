{
 "cells": [
  {
   "cell_type": "markdown",
   "id": "7df0f01a",
   "metadata": {
    "toc": true
   },
   "source": [
    "<h1>Table of Contents<span class=\"tocSkip\"></span></h1>\n",
    "<div class=\"toc\"><ul class=\"toc-item\"><li><span><a href=\"#Декомпозиция.-Анализ-A-B-тестирования\" data-toc-modified-id=\"Декомпозиция.-Анализ-A-B-тестирования-1\"><span class=\"toc-item-num\">1&nbsp;&nbsp;</span>Декомпозиция. Анализ A-B тестирования</a></span><ul class=\"toc-item\"><li><span><a href=\"#Цели-и-задачи\" data-toc-modified-id=\"Цели-и-задачи-1.1\"><span class=\"toc-item-num\">1.1&nbsp;&nbsp;</span>Цели и задачи</a></span></li><li><span><a href=\"#Описание-и-загрузка-данных\" data-toc-modified-id=\"Описание-и-загрузка-данных-1.2\"><span class=\"toc-item-num\">1.2&nbsp;&nbsp;</span>Описание и загрузка данных</a></span></li><li><span><a href=\"#Оценим-корректность-проведения-теста\" data-toc-modified-id=\"Оценим-корректность-проведения-теста-1.3\"><span class=\"toc-item-num\">1.3&nbsp;&nbsp;</span>Оценим корректность проведения теста</a></span><ul class=\"toc-item\"><li><span><a href=\"#Техническое-задание\" data-toc-modified-id=\"Техническое-задание-1.3.1\"><span class=\"toc-item-num\">1.3.1&nbsp;&nbsp;</span>Техническое задание</a></span></li><li><span><a href=\"#ab_project_marketing_events.csv-—-календарь-маркетинговых-событий-на-2020-год.\" data-toc-modified-id=\"ab_project_marketing_events.csv-—-календарь-маркетинговых-событий-на-2020-год.-1.3.2\"><span class=\"toc-item-num\">1.3.2&nbsp;&nbsp;</span><code>ab_project_marketing_events.csv</code> — календарь маркетинговых событий на 2020 год.</a></span></li><li><span><a href=\"#final_ab_participants.csv-—-таблица-участников-тестов.\" data-toc-modified-id=\"final_ab_participants.csv-—-таблица-участников-тестов.-1.3.3\"><span class=\"toc-item-num\">1.3.3&nbsp;&nbsp;</span><code>final_ab_participants.csv</code> — таблица участников тестов.</a></span></li><li><span><a href=\"#final_ab_new_users.csv-—-пользователи,-зарегистрировавшиеся-с-7-по-21-декабря-2020-года.\" data-toc-modified-id=\"final_ab_new_users.csv-—-пользователи,-зарегистрировавшиеся-с-7-по-21-декабря-2020-года.-1.3.4\"><span class=\"toc-item-num\">1.3.4&nbsp;&nbsp;</span><code>final_ab_new_users.csv</code> — пользователи, зарегистрировавшиеся с 7 по 21 декабря 2020 года.</a></span></li><li><span><a href=\"#final_ab_events.csv-—-действия-новых-пользователей-в-период-с-7-декабря-2020-по-4-января-2021-года.\" data-toc-modified-id=\"final_ab_events.csv-—-действия-новых-пользователей-в-период-с-7-декабря-2020-по-4-января-2021-года.-1.3.5\"><span class=\"toc-item-num\">1.3.5&nbsp;&nbsp;</span><code>final_ab_events.csv</code> — действия новых пользователей в период с 7 декабря 2020 по 4 января 2021 года.</a></span></li><li><span><a href=\"#Проверим-доли-в-группах-для-итоговой-таблицы\" data-toc-modified-id=\"Проверим-доли-в-группах-для-итоговой-таблицы-1.3.6\"><span class=\"toc-item-num\">1.3.6&nbsp;&nbsp;</span>Проверим доли в группах для итоговой таблицы</a></span></li><li><span><a href=\"#Посмотрим-на-общую-воронку-событий\" data-toc-modified-id=\"Посмотрим-на-общую-воронку-событий-1.3.7\"><span class=\"toc-item-num\">1.3.7&nbsp;&nbsp;</span>Посмотрим на общую воронку событий</a></span></li><li><span><a href=\"#Проверим-ожидаемый-эффект-для-каждой-метрики\" data-toc-modified-id=\"Проверим-ожидаемый-эффект-для-каждой-метрики-1.3.8\"><span class=\"toc-item-num\">1.3.8&nbsp;&nbsp;</span>Проверим ожидаемый эффект для каждой метрики</a></span></li></ul></li><li><span><a href=\"#EDA.-Ответим-на-вопросы:\" data-toc-modified-id=\"EDA.-Ответим-на-вопросы:-1.4\"><span class=\"toc-item-num\">1.4&nbsp;&nbsp;</span>EDA. Ответим на вопросы:</a></span><ul class=\"toc-item\"><li><span><a href=\"#--Количество-событий-на-пользователя-одинаково-распределены-в-выборках?\" data-toc-modified-id=\"--Количество-событий-на-пользователя-одинаково-распределены-в-выборках?-1.4.1\"><span class=\"toc-item-num\">1.4.1&nbsp;&nbsp;</span>- Количество событий на пользователя одинаково распределены в выборках?</a></span></li><li><span><a href=\"#--Как-число-событий-в-выборках-распределено-по-дням?\" data-toc-modified-id=\"--Как-число-событий-в-выборках-распределено-по-дням?-1.4.2\"><span class=\"toc-item-num\">1.4.2&nbsp;&nbsp;</span>- Как число событий в выборках распределено по дням?</a></span></li><li><span><a href=\"#--Как-меняется-конверсия-в-воронке-в-выборках-на-разных-этапах?\" data-toc-modified-id=\"--Как-меняется-конверсия-в-воронке-в-выборках-на-разных-этапах?-1.4.3\"><span class=\"toc-item-num\">1.4.3&nbsp;&nbsp;</span>- Как меняется конверсия в воронке в выборках на разных этапах?</a></span></li><li><span><a href=\"#--Какие-особенности-данных-нужно-учесть,-прежде-чем-приступать-к-A/B-тестированию?\" data-toc-modified-id=\"--Какие-особенности-данных-нужно-учесть,-прежде-чем-приступать-к-A/B-тестированию?-1.4.4\"><span class=\"toc-item-num\">1.4.4&nbsp;&nbsp;</span>- Какие особенности данных нужно учесть, прежде чем приступать к A/B-тестированию?</a></span></li></ul></li><li><span><a href=\"#Результаты-A-B-теста\" data-toc-modified-id=\"Результаты-A-B-теста-1.5\"><span class=\"toc-item-num\">1.5&nbsp;&nbsp;</span>Результаты A-B теста</a></span><ul class=\"toc-item\"><li><span><a href=\"#--Что-можно-сказать-про-результаты-A/В-тестирования?\" data-toc-modified-id=\"--Что-можно-сказать-про-результаты-A/В-тестирования?-1.5.1\"><span class=\"toc-item-num\">1.5.1&nbsp;&nbsp;</span>- Что можно сказать про результаты A/В-тестирования?</a></span></li><li><span><a href=\"#--Проверим-статистическую-разницу-долей-z-критерием-для--конверсий.\" data-toc-modified-id=\"--Проверим-статистическую-разницу-долей-z-критерием-для--конверсий.-1.5.2\"><span class=\"toc-item-num\">1.5.2&nbsp;&nbsp;</span>- Проверим статистическую разницу долей z-критерием для  конверсий.</a></span></li></ul></li><li><span><a href=\"#Общие-выводы\" data-toc-modified-id=\"Общие-выводы-1.6\"><span class=\"toc-item-num\">1.6&nbsp;&nbsp;</span>Общие выводы</a></span><ul class=\"toc-item\"><li><span><a href=\"#В-процессе-EDA-обнаружили-что:\" data-toc-modified-id=\"В-процессе-EDA-обнаружили-что:-1.6.1\"><span class=\"toc-item-num\">1.6.1&nbsp;&nbsp;</span>В процессе EDA обнаружили что:</a></span></li></ul></li></ul></li></ul></div>"
   ]
  },
  {
   "cell_type": "markdown",
   "id": "a790c6de",
   "metadata": {},
   "source": [
    "# Декомпозиция. Анализ A-B тестирования\n",
    "\n",
    "\n",
    "## Цели и задачи\n",
    "\n",
    "Наша главная задача — провести оценку результатов A/B-теста. \n",
    "\n",
    "Цели :\n",
    "\n",
    "- Оценить корректность проведения теста\n",
    "\n",
    "- Проанализировать результаты теста\n",
    "\n",
    "Чтобы оценить корректность проведения теста, проверим:\n",
    "\n",
    "- соответствие данных требованиям ТЗ\n",
    "\n",
    "- нет пересечения групп\n",
    "\n",
    "- проверить равномерность распределений в группах и соотношение классов\n",
    "\n",
    "- пересечение тестовой аудитории с конкурирующим тестом\n",
    "\n",
    "- Время проведения теста. Совпадение теста и маркетинговых событий, другие проблемы временных границ теста\n",
    "\n",
    "\n",
    "\n",
    "\n"
   ]
  },
  {
   "cell_type": "markdown",
   "id": "1e828c05",
   "metadata": {},
   "source": [
    "\n",
    "## Описание и загрузка данных\n",
    "\n",
    "\n",
    "`ab_project_marketing_events.csv` — календарь маркетинговых событий на 2020 год.\n",
    "\n",
    "Структура файла:\n",
    "\n",
    "- `name` — название маркетингового события;\n",
    "- `regions` — регионы, в которых будет проводиться рекламная кампания;\n",
    "- `start_dt` — дата начала кампании;\n",
    "- `finish_dt` — дата завершения кампании.\n",
    "\n",
    "\n",
    "`final_ab_participants.csv` — таблица участников тестов.\n",
    "\n",
    "Структура файла:\n",
    "\n",
    "- `user_id` — идентификатор пользователя;\n",
    "- `ab_test` — название теста;\n",
    "- `group` — группа пользователя.\n",
    "\n",
    "\n",
    "`final_ab_new_users.csv` — пользователи, зарегистрировавшиеся с 7 по 21 декабря 2020 года.\n",
    "\n",
    "Структура файла:\n",
    "\n",
    "- `user_id` — идентификатор пользователя;\n",
    "- `first_date` — дата регистрации;\n",
    "- `region` — регион пользователя;\n",
    "- `device` — устройство, с которого происходила регистрация.\n",
    "\n",
    "\n",
    "\n",
    "`final_ab_events.csv` — действия новых пользователей в период с 7 декабря 2020 по 4 января 2021 года.\n",
    "\n",
    "Структура файла:\n",
    "\n",
    "- `user_id` — идентификатор пользователя;\n",
    "- `event_dt` — дата и время покупки;\n",
    "- `event_name` — тип события;\n",
    "- `details` — дополнительные данные о событии. Например, для покупок, `purchase,` в этом поле хранится стоимость покупки в долларах.\n",
    "\n"
   ]
  },
  {
   "cell_type": "code",
   "execution_count": 1,
   "id": "a1532d58",
   "metadata": {},
   "outputs": [],
   "source": [
    "import pandas as pd\n",
    "import seaborn as sns\n",
    "from matplotlib import pyplot as plt\n",
    "import plotly.express as px\n",
    "from plotly import graph_objects as go\n",
    "\n",
    "import numpy as np\n",
    "\n",
    "import scipy.stats as stats\n",
    "\n",
    "from scipy.stats import norm\n",
    "\n",
    "import datetime"
   ]
  },
  {
   "cell_type": "code",
   "execution_count": 2,
   "id": "f30a4ee5",
   "metadata": {},
   "outputs": [],
   "source": [
    "# загрузка датасетов с 4 файлов, лежащих на гугл - диске\n",
    "def get_res_url(url):\n",
    "    return 'https://drive.google.com/uc?id=' + url.split('/')[-2]\n",
    "\n",
    "url_mark_events = 'https://drive.google.com/file/d/1xjYZZ6fWOG2dhdWh9M5-biGXVJW4Qy0x/view?usp=sharing'\n",
    "url_ab_participants = 'https://drive.google.com/file/d/1merd8s_fl1gTMW_5AQ7tFo4cFkHzAX0h/view?usp=sharing'\n",
    "url_new_users = 'https://drive.google.com/file/d/1HQeh0kK0OmfhqLlqK9xSFpAwl1k_DVlk/view?usp=sharing'\n",
    "url_events = 'https://drive.google.com/file/d/12veKfTu03hsL2MEOVMacnKmnWbR24rD_/view?usp=sharing'\n",
    "\n",
    "try:\n",
    "    df_mark_events = pd.read_csv(get_res_url(url_mark_events))\n",
    "    df_ab_participants = pd.read_csv(get_res_url(url_ab_participants))\n",
    "    df_ab_new_users = pd.read_csv(get_res_url(url_new_users))\n",
    "    df_ab_events = pd.read_csv(get_res_url(url_events)) \n",
    "\n",
    "except:\n",
    "    print(':-(')"
   ]
  },
  {
   "cell_type": "markdown",
   "id": "f9529a48",
   "metadata": {},
   "source": [
    "## Оценим корректность проведения теста\n"
   ]
  },
  {
   "cell_type": "markdown",
   "id": "a16887bd",
   "metadata": {},
   "source": [
    "\n",
    "### Техническое задание\n",
    "\n",
    "\n",
    "- Название теста: `recommender_system_test`;\n",
    "- группы: А — контрольная, B — новая платёжная воронка;\n",
    "- дата запуска: 2020-12-07;\n",
    "- дата остановки набора новых пользователей: 2020-12-21;\n",
    "- дата остановки: 2021-01-04;\n",
    "- аудитория: 15% новых пользователей из региона EU;\n",
    "- назначение теста: тестирование изменений, связанных с внедрением улучшенной рекомендательной системы;\n",
    "- ожидаемое количество участников теста: 6000.\n",
    "- ожидаемый эффект: за 14 дней с момента регистрации пользователи покажут улучшение каждой метрики не менее, чем на 10%:\n",
    "    - конверсии в просмотр карточек товаров — событие `product_page`,\n",
    "    - просмотры корзины — `product_cart`,\n",
    "    - покупки — `purchase`.\n",
    "\n"
   ]
  },
  {
   "cell_type": "markdown",
   "id": "2d961e1e",
   "metadata": {},
   "source": [
    "### `ab_project_marketing_events.csv` — календарь маркетинговых событий на 2020 год."
   ]
  },
  {
   "cell_type": "code",
   "execution_count": 3,
   "id": "5336fd0a",
   "metadata": {
    "scrolled": false
   },
   "outputs": [
    {
     "data": {
      "text/html": [
       "<div>\n",
       "<style scoped>\n",
       "    .dataframe tbody tr th:only-of-type {\n",
       "        vertical-align: middle;\n",
       "    }\n",
       "\n",
       "    .dataframe tbody tr th {\n",
       "        vertical-align: top;\n",
       "    }\n",
       "\n",
       "    .dataframe thead th {\n",
       "        text-align: right;\n",
       "    }\n",
       "</style>\n",
       "<table border=\"1\" class=\"dataframe\">\n",
       "  <thead>\n",
       "    <tr style=\"text-align: right;\">\n",
       "      <th></th>\n",
       "      <th>name</th>\n",
       "      <th>regions</th>\n",
       "      <th>start_dt</th>\n",
       "      <th>finish_dt</th>\n",
       "    </tr>\n",
       "  </thead>\n",
       "  <tbody>\n",
       "    <tr>\n",
       "      <th>0</th>\n",
       "      <td>Christmas&amp;New Year Promo</td>\n",
       "      <td>EU, N.America</td>\n",
       "      <td>2020-12-25</td>\n",
       "      <td>2021-01-03</td>\n",
       "    </tr>\n",
       "    <tr>\n",
       "      <th>1</th>\n",
       "      <td>St. Valentine's Day Giveaway</td>\n",
       "      <td>EU, CIS, APAC, N.America</td>\n",
       "      <td>2020-02-14</td>\n",
       "      <td>2020-02-16</td>\n",
       "    </tr>\n",
       "    <tr>\n",
       "      <th>2</th>\n",
       "      <td>St. Patric's Day Promo</td>\n",
       "      <td>EU, N.America</td>\n",
       "      <td>2020-03-17</td>\n",
       "      <td>2020-03-19</td>\n",
       "    </tr>\n",
       "    <tr>\n",
       "      <th>3</th>\n",
       "      <td>Easter Promo</td>\n",
       "      <td>EU, CIS, APAC, N.America</td>\n",
       "      <td>2020-04-12</td>\n",
       "      <td>2020-04-19</td>\n",
       "    </tr>\n",
       "    <tr>\n",
       "      <th>4</th>\n",
       "      <td>4th of July Promo</td>\n",
       "      <td>N.America</td>\n",
       "      <td>2020-07-04</td>\n",
       "      <td>2020-07-11</td>\n",
       "    </tr>\n",
       "    <tr>\n",
       "      <th>5</th>\n",
       "      <td>Black Friday Ads Campaign</td>\n",
       "      <td>EU, CIS, APAC, N.America</td>\n",
       "      <td>2020-11-26</td>\n",
       "      <td>2020-12-01</td>\n",
       "    </tr>\n",
       "    <tr>\n",
       "      <th>6</th>\n",
       "      <td>Chinese New Year Promo</td>\n",
       "      <td>APAC</td>\n",
       "      <td>2020-01-25</td>\n",
       "      <td>2020-02-07</td>\n",
       "    </tr>\n",
       "    <tr>\n",
       "      <th>7</th>\n",
       "      <td>Labor day (May 1st) Ads Campaign</td>\n",
       "      <td>EU, CIS, APAC</td>\n",
       "      <td>2020-05-01</td>\n",
       "      <td>2020-05-03</td>\n",
       "    </tr>\n",
       "    <tr>\n",
       "      <th>8</th>\n",
       "      <td>International Women's Day Promo</td>\n",
       "      <td>EU, CIS, APAC</td>\n",
       "      <td>2020-03-08</td>\n",
       "      <td>2020-03-10</td>\n",
       "    </tr>\n",
       "    <tr>\n",
       "      <th>9</th>\n",
       "      <td>Victory Day CIS (May 9th) Event</td>\n",
       "      <td>CIS</td>\n",
       "      <td>2020-05-09</td>\n",
       "      <td>2020-05-11</td>\n",
       "    </tr>\n",
       "    <tr>\n",
       "      <th>10</th>\n",
       "      <td>CIS New Year Gift Lottery</td>\n",
       "      <td>CIS</td>\n",
       "      <td>2020-12-30</td>\n",
       "      <td>2021-01-07</td>\n",
       "    </tr>\n",
       "    <tr>\n",
       "      <th>11</th>\n",
       "      <td>Dragon Boat Festival Giveaway</td>\n",
       "      <td>APAC</td>\n",
       "      <td>2020-06-25</td>\n",
       "      <td>2020-07-01</td>\n",
       "    </tr>\n",
       "    <tr>\n",
       "      <th>12</th>\n",
       "      <td>Single's Day Gift Promo</td>\n",
       "      <td>APAC</td>\n",
       "      <td>2020-11-11</td>\n",
       "      <td>2020-11-12</td>\n",
       "    </tr>\n",
       "    <tr>\n",
       "      <th>13</th>\n",
       "      <td>Chinese Moon Festival</td>\n",
       "      <td>APAC</td>\n",
       "      <td>2020-10-01</td>\n",
       "      <td>2020-10-07</td>\n",
       "    </tr>\n",
       "  </tbody>\n",
       "</table>\n",
       "</div>"
      ],
      "text/plain": [
       "                                name                   regions    start_dt  \\\n",
       "0           Christmas&New Year Promo             EU, N.America  2020-12-25   \n",
       "1       St. Valentine's Day Giveaway  EU, CIS, APAC, N.America  2020-02-14   \n",
       "2             St. Patric's Day Promo             EU, N.America  2020-03-17   \n",
       "3                       Easter Promo  EU, CIS, APAC, N.America  2020-04-12   \n",
       "4                  4th of July Promo                 N.America  2020-07-04   \n",
       "5          Black Friday Ads Campaign  EU, CIS, APAC, N.America  2020-11-26   \n",
       "6             Chinese New Year Promo                      APAC  2020-01-25   \n",
       "7   Labor day (May 1st) Ads Campaign             EU, CIS, APAC  2020-05-01   \n",
       "8    International Women's Day Promo             EU, CIS, APAC  2020-03-08   \n",
       "9    Victory Day CIS (May 9th) Event                       CIS  2020-05-09   \n",
       "10         CIS New Year Gift Lottery                       CIS  2020-12-30   \n",
       "11     Dragon Boat Festival Giveaway                      APAC  2020-06-25   \n",
       "12           Single's Day Gift Promo                      APAC  2020-11-11   \n",
       "13             Chinese Moon Festival                      APAC  2020-10-01   \n",
       "\n",
       "     finish_dt  \n",
       "0   2021-01-03  \n",
       "1   2020-02-16  \n",
       "2   2020-03-19  \n",
       "3   2020-04-19  \n",
       "4   2020-07-11  \n",
       "5   2020-12-01  \n",
       "6   2020-02-07  \n",
       "7   2020-05-03  \n",
       "8   2020-03-10  \n",
       "9   2020-05-11  \n",
       "10  2021-01-07  \n",
       "11  2020-07-01  \n",
       "12  2020-11-12  \n",
       "13  2020-10-07  "
      ]
     },
     "metadata": {},
     "output_type": "display_data"
    },
    {
     "name": "stdout",
     "output_type": "stream",
     "text": [
      "<class 'pandas.core.frame.DataFrame'>\n",
      "RangeIndex: 14 entries, 0 to 13\n",
      "Data columns (total 4 columns):\n",
      " #   Column     Non-Null Count  Dtype \n",
      "---  ------     --------------  ----- \n",
      " 0   name       14 non-null     object\n",
      " 1   regions    14 non-null     object\n",
      " 2   start_dt   14 non-null     object\n",
      " 3   finish_dt  14 non-null     object\n",
      "dtypes: object(4)\n",
      "memory usage: 576.0+ bytes\n"
     ]
    },
    {
     "data": {
      "text/plain": [
       "None"
      ]
     },
     "metadata": {},
     "output_type": "display_data"
    },
    {
     "name": "stdout",
     "output_type": "stream",
     "text": [
      "____________________________________________________________________________________________________\n",
      "Число пропусков = \n"
     ]
    },
    {
     "data": {
      "text/plain": [
       "name         0\n",
       "regions      0\n",
       "start_dt     0\n",
       "finish_dt    0\n",
       "dtype: int64"
      ]
     },
     "metadata": {},
     "output_type": "display_data"
    },
    {
     "name": "stdout",
     "output_type": "stream",
     "text": [
      "____________________________________________________________________________________________________\n",
      "Число полных дубликатов =  0\n"
     ]
    }
   ],
   "source": [
    "def get_summary(df):\n",
    "    display(df.info())\n",
    "    print('_'*100)\n",
    "    print('Число пропусков = ')\n",
    "    display(df.isna().sum())\n",
    "    print('_'*100)\n",
    "    print('Число полных дубликатов = ', df.duplicated().sum())\n",
    "    \n",
    "display(df_mark_events)\n",
    "get_summary(df_mark_events)\n",
    "# приведём к дате\n",
    "df_mark_events['start_dt'] = pd.to_datetime(df_mark_events['start_dt'])\n",
    "df_mark_events['finish_dt'] = pd.to_datetime(df_mark_events['finish_dt'])\n"
   ]
  },
  {
   "cell_type": "markdown",
   "id": "bd7840a0",
   "metadata": {},
   "source": [
    "Посмотрим границы каких событий попали в наш диапазон. Отберём те, где начало или старт попали в период с 7 дек. 2020 до 4 янв.2021"
   ]
  },
  {
   "cell_type": "code",
   "execution_count": 4,
   "id": "e4b7d1cc",
   "metadata": {},
   "outputs": [
    {
     "data": {
      "text/html": [
       "<div>\n",
       "<style scoped>\n",
       "    .dataframe tbody tr th:only-of-type {\n",
       "        vertical-align: middle;\n",
       "    }\n",
       "\n",
       "    .dataframe tbody tr th {\n",
       "        vertical-align: top;\n",
       "    }\n",
       "\n",
       "    .dataframe thead th {\n",
       "        text-align: right;\n",
       "    }\n",
       "</style>\n",
       "<table border=\"1\" class=\"dataframe\">\n",
       "  <thead>\n",
       "    <tr style=\"text-align: right;\">\n",
       "      <th></th>\n",
       "      <th>name</th>\n",
       "      <th>regions</th>\n",
       "      <th>start_dt</th>\n",
       "      <th>finish_dt</th>\n",
       "    </tr>\n",
       "  </thead>\n",
       "  <tbody>\n",
       "    <tr>\n",
       "      <th>0</th>\n",
       "      <td>Christmas&amp;New Year Promo</td>\n",
       "      <td>EU, N.America</td>\n",
       "      <td>2020-12-25</td>\n",
       "      <td>2021-01-03</td>\n",
       "    </tr>\n",
       "    <tr>\n",
       "      <th>10</th>\n",
       "      <td>CIS New Year Gift Lottery</td>\n",
       "      <td>CIS</td>\n",
       "      <td>2020-12-30</td>\n",
       "      <td>2021-01-07</td>\n",
       "    </tr>\n",
       "  </tbody>\n",
       "</table>\n",
       "</div>"
      ],
      "text/plain": [
       "                         name        regions   start_dt  finish_dt\n",
       "0    Christmas&New Year Promo  EU, N.America 2020-12-25 2021-01-03\n",
       "10  CIS New Year Gift Lottery            CIS 2020-12-30 2021-01-07"
      ]
     },
     "execution_count": 4,
     "metadata": {},
     "output_type": "execute_result"
    }
   ],
   "source": [
    "df_mark_events_need = df_mark_events[( ('2020-12-07' <= df_mark_events['start_dt'] ) & (df_mark_events['start_dt'] <= '2021-01-04'))  |\\\n",
    "    ( ('2020-12-07' <= df_mark_events['finish_dt'] ) & (df_mark_events['finish_dt'] <= '2021-01-04'))]\n",
    "\n",
    "df_mark_events_need"
   ]
  },
  {
   "cell_type": "markdown",
   "id": "4e5fa4f5",
   "metadata": {},
   "source": [
    "Всего 2 события приходятся на наш временной промежуток. \n",
    "\n",
    "По ТЗ наши пользователи из EU - остаётся только Christmas&New Year Promo\n",
    "\n",
    "Будем это учитывать, когда посмотрим на динамику во времени какой то метрики."
   ]
  },
  {
   "cell_type": "markdown",
   "id": "d2586920",
   "metadata": {},
   "source": [
    "### `final_ab_participants.csv` — таблица участников тестов.\n"
   ]
  },
  {
   "cell_type": "code",
   "execution_count": 5,
   "id": "9899b40c",
   "metadata": {},
   "outputs": [
    {
     "name": "stdout",
     "output_type": "stream",
     "text": [
      "<class 'pandas.core.frame.DataFrame'>\n",
      "RangeIndex: 18268 entries, 0 to 18267\n",
      "Data columns (total 3 columns):\n",
      " #   Column   Non-Null Count  Dtype \n",
      "---  ------   --------------  ----- \n",
      " 0   user_id  18268 non-null  object\n",
      " 1   group    18268 non-null  object\n",
      " 2   ab_test  18268 non-null  object\n",
      "dtypes: object(3)\n",
      "memory usage: 428.3+ KB\n"
     ]
    },
    {
     "data": {
      "text/plain": [
       "None"
      ]
     },
     "metadata": {},
     "output_type": "display_data"
    },
    {
     "name": "stdout",
     "output_type": "stream",
     "text": [
      "____________________________________________________________________________________________________\n",
      "Число пропусков = \n"
     ]
    },
    {
     "data": {
      "text/plain": [
       "user_id    0\n",
       "group      0\n",
       "ab_test    0\n",
       "dtype: int64"
      ]
     },
     "metadata": {},
     "output_type": "display_data"
    },
    {
     "name": "stdout",
     "output_type": "stream",
     "text": [
      "____________________________________________________________________________________________________\n",
      "Число полных дубликатов =  0\n"
     ]
    }
   ],
   "source": [
    "get_summary(df_ab_participants)"
   ]
  },
  {
   "cell_type": "code",
   "execution_count": 6,
   "id": "884ecdf3",
   "metadata": {
    "scrolled": true
   },
   "outputs": [
    {
     "data": {
      "text/html": [
       "<div>\n",
       "<style scoped>\n",
       "    .dataframe tbody tr th:only-of-type {\n",
       "        vertical-align: middle;\n",
       "    }\n",
       "\n",
       "    .dataframe tbody tr th {\n",
       "        vertical-align: top;\n",
       "    }\n",
       "\n",
       "    .dataframe thead th {\n",
       "        text-align: right;\n",
       "    }\n",
       "</style>\n",
       "<table border=\"1\" class=\"dataframe\">\n",
       "  <thead>\n",
       "    <tr style=\"text-align: right;\">\n",
       "      <th></th>\n",
       "      <th>user_id</th>\n",
       "      <th>group</th>\n",
       "      <th>ab_test</th>\n",
       "    </tr>\n",
       "  </thead>\n",
       "  <tbody>\n",
       "    <tr>\n",
       "      <th>0</th>\n",
       "      <td>D1ABA3E2887B6A73</td>\n",
       "      <td>A</td>\n",
       "      <td>recommender_system_test</td>\n",
       "    </tr>\n",
       "    <tr>\n",
       "      <th>1</th>\n",
       "      <td>A7A3664BD6242119</td>\n",
       "      <td>A</td>\n",
       "      <td>recommender_system_test</td>\n",
       "    </tr>\n",
       "    <tr>\n",
       "      <th>2</th>\n",
       "      <td>DABC14FDDFADD29E</td>\n",
       "      <td>A</td>\n",
       "      <td>recommender_system_test</td>\n",
       "    </tr>\n",
       "  </tbody>\n",
       "</table>\n",
       "</div>"
      ],
      "text/plain": [
       "            user_id group                  ab_test\n",
       "0  D1ABA3E2887B6A73     A  recommender_system_test\n",
       "1  A7A3664BD6242119     A  recommender_system_test\n",
       "2  DABC14FDDFADD29E     A  recommender_system_test"
      ]
     },
     "execution_count": 6,
     "metadata": {},
     "output_type": "execute_result"
    }
   ],
   "source": [
    "df_ab_participants.head(3)"
   ]
  },
  {
   "cell_type": "markdown",
   "id": "cf128195",
   "metadata": {},
   "source": [
    "Проверим тесты на пересечение"
   ]
  },
  {
   "cell_type": "code",
   "execution_count": 7,
   "id": "e0a1f641",
   "metadata": {},
   "outputs": [
    {
     "name": "stdout",
     "output_type": "stream",
     "text": [
      "Число пользователей, которые попали в другие тесты =  1602\n",
      "Исключим таких пользователей, так как не можем определить какой именно тест вызвал изменения в их действиях\n"
     ]
    }
   ],
   "source": [
    "print(\"Число пользователей, которые попали в другие тесты = \", sum(df_ab_participants.query('ab_test == \\\n",
    "\"recommender_system_test\"')['user_id'].isin(df_ab_participants.query('ab_test != \"recommender_system_test\"')['user_id'])))\n",
    "\n",
    "print(\"Исключим таких пользователей, так как не можем определить какой именно тест вызвал изменения в их действиях\")"
   ]
  },
  {
   "cell_type": "code",
   "execution_count": 8,
   "id": "9f6a1a3e",
   "metadata": {},
   "outputs": [],
   "source": [
    "# найдём пересечение user_id в двух тестах\n",
    "recom_id = df_ab_participants.query('ab_test == \"recommender_system_test\"')['user_id']\n",
    "not_recom_id = df_ab_participants.query('ab_test != \"recommender_system_test\"')['user_id']\n",
    "intersection_tests_id = set(not_recom_id) & set(recom_id)\n",
    "df_ab_participants_with_intersection = df_ab_participants.copy()\n",
    "# исключим пользователей которые попали и туда и туда\n",
    "df_ab_participants = df_ab_participants[~df_ab_participants['user_id'].isin(intersection_tests_id)]"
   ]
  },
  {
   "cell_type": "markdown",
   "id": "16ce5e62",
   "metadata": {},
   "source": [
    "Нам нужно анализировать тест - `recommender_system_test`. Отберём данные только для него, сохраним старый датафрейм"
   ]
  },
  {
   "cell_type": "code",
   "execution_count": 9,
   "id": "1bed132c",
   "metadata": {},
   "outputs": [],
   "source": [
    "df_ab_participants_all_tests = df_ab_participants.copy()\n",
    "df_ab_participants = df_ab_participants.query('ab_test == \"recommender_system_test\"')"
   ]
  },
  {
   "cell_type": "code",
   "execution_count": 10,
   "id": "138613b6",
   "metadata": {},
   "outputs": [
    {
     "name": "stdout",
     "output_type": "stream",
     "text": [
      "Число дублирующихся user_id =  0\n"
     ]
    }
   ],
   "source": [
    "print(\"Число дублирующихся user_id = \", df_ab_participants['user_id'].duplicated().sum())\n",
    "# Нет дублирующихся user_id = нет пользователей которые залетели в 2 группы сразу."
   ]
  },
  {
   "cell_type": "code",
   "execution_count": 11,
   "id": "be51d814",
   "metadata": {
    "scrolled": true
   },
   "outputs": [
    {
     "data": {
      "text/plain": [
       "5099"
      ]
     },
     "execution_count": 11,
     "metadata": {},
     "output_type": "execute_result"
    }
   ],
   "source": [
    "df_ab_participants['user_id'].nunique()"
   ]
  },
  {
   "cell_type": "markdown",
   "id": "944a964b",
   "metadata": {},
   "source": [
    "У нас 5000 наблюдений. А мы ожидали 6000 ;-)"
   ]
  },
  {
   "cell_type": "code",
   "execution_count": 12,
   "id": "282fab3d",
   "metadata": {},
   "outputs": [
    {
     "data": {
      "text/plain": [
       "group\n",
       "A    2903\n",
       "B    2196\n",
       "Name: user_id, dtype: int64"
      ]
     },
     "execution_count": 12,
     "metadata": {},
     "output_type": "execute_result"
    }
   ],
   "source": [
    "df_ab_participants.groupby('group')['user_id'].count()"
   ]
  },
  {
   "cell_type": "markdown",
   "id": "769c93e0",
   "metadata": {},
   "source": [
    "Разница на 800 наблюдений. Нехорошо, но пока оставим так."
   ]
  },
  {
   "cell_type": "code",
   "execution_count": 13,
   "id": "94e9899b",
   "metadata": {},
   "outputs": [
    {
     "name": "stdout",
     "output_type": "stream",
     "text": [
      "Группы теста =  ['A' 'B']\n"
     ]
    }
   ],
   "source": [
    "print(\"Группы теста = \", df_ab_participants['group'].unique())"
   ]
  },
  {
   "cell_type": "code",
   "execution_count": null,
   "id": "9681ef7e",
   "metadata": {},
   "outputs": [],
   "source": []
  },
  {
   "cell_type": "markdown",
   "id": "28f03134",
   "metadata": {},
   "source": [
    "### `final_ab_new_users.csv` — пользователи, зарегистрировавшиеся с 7 по 21 декабря 2020 года.\n"
   ]
  },
  {
   "cell_type": "code",
   "execution_count": 14,
   "id": "e917d6c2",
   "metadata": {},
   "outputs": [
    {
     "data": {
      "text/html": [
       "<div>\n",
       "<style scoped>\n",
       "    .dataframe tbody tr th:only-of-type {\n",
       "        vertical-align: middle;\n",
       "    }\n",
       "\n",
       "    .dataframe tbody tr th {\n",
       "        vertical-align: top;\n",
       "    }\n",
       "\n",
       "    .dataframe thead th {\n",
       "        text-align: right;\n",
       "    }\n",
       "</style>\n",
       "<table border=\"1\" class=\"dataframe\">\n",
       "  <thead>\n",
       "    <tr style=\"text-align: right;\">\n",
       "      <th></th>\n",
       "      <th>user_id</th>\n",
       "      <th>first_date</th>\n",
       "      <th>region</th>\n",
       "      <th>device</th>\n",
       "    </tr>\n",
       "  </thead>\n",
       "  <tbody>\n",
       "    <tr>\n",
       "      <th>0</th>\n",
       "      <td>D72A72121175D8BE</td>\n",
       "      <td>2020-12-07</td>\n",
       "      <td>EU</td>\n",
       "      <td>PC</td>\n",
       "    </tr>\n",
       "    <tr>\n",
       "      <th>1</th>\n",
       "      <td>F1C668619DFE6E65</td>\n",
       "      <td>2020-12-07</td>\n",
       "      <td>N.America</td>\n",
       "      <td>Android</td>\n",
       "    </tr>\n",
       "    <tr>\n",
       "      <th>2</th>\n",
       "      <td>2E1BF1D4C37EA01F</td>\n",
       "      <td>2020-12-07</td>\n",
       "      <td>EU</td>\n",
       "      <td>PC</td>\n",
       "    </tr>\n",
       "    <tr>\n",
       "      <th>3</th>\n",
       "      <td>50734A22C0C63768</td>\n",
       "      <td>2020-12-07</td>\n",
       "      <td>EU</td>\n",
       "      <td>iPhone</td>\n",
       "    </tr>\n",
       "    <tr>\n",
       "      <th>4</th>\n",
       "      <td>E1BDDCE0DAFA2679</td>\n",
       "      <td>2020-12-07</td>\n",
       "      <td>N.America</td>\n",
       "      <td>iPhone</td>\n",
       "    </tr>\n",
       "  </tbody>\n",
       "</table>\n",
       "</div>"
      ],
      "text/plain": [
       "            user_id  first_date     region   device\n",
       "0  D72A72121175D8BE  2020-12-07         EU       PC\n",
       "1  F1C668619DFE6E65  2020-12-07  N.America  Android\n",
       "2  2E1BF1D4C37EA01F  2020-12-07         EU       PC\n",
       "3  50734A22C0C63768  2020-12-07         EU   iPhone\n",
       "4  E1BDDCE0DAFA2679  2020-12-07  N.America   iPhone"
      ]
     },
     "execution_count": 14,
     "metadata": {},
     "output_type": "execute_result"
    }
   ],
   "source": [
    "df_ab_new_users.head()"
   ]
  },
  {
   "cell_type": "code",
   "execution_count": 15,
   "id": "0fb22f39",
   "metadata": {},
   "outputs": [
    {
     "name": "stdout",
     "output_type": "stream",
     "text": [
      "<class 'pandas.core.frame.DataFrame'>\n",
      "RangeIndex: 61733 entries, 0 to 61732\n",
      "Data columns (total 4 columns):\n",
      " #   Column      Non-Null Count  Dtype \n",
      "---  ------      --------------  ----- \n",
      " 0   user_id     61733 non-null  object\n",
      " 1   first_date  61733 non-null  object\n",
      " 2   region      61733 non-null  object\n",
      " 3   device      61733 non-null  object\n",
      "dtypes: object(4)\n",
      "memory usage: 1.9+ MB\n"
     ]
    },
    {
     "data": {
      "text/plain": [
       "None"
      ]
     },
     "metadata": {},
     "output_type": "display_data"
    },
    {
     "name": "stdout",
     "output_type": "stream",
     "text": [
      "____________________________________________________________________________________________________\n",
      "Число пропусков = \n"
     ]
    },
    {
     "data": {
      "text/plain": [
       "user_id       0\n",
       "first_date    0\n",
       "region        0\n",
       "device        0\n",
       "dtype: int64"
      ]
     },
     "metadata": {},
     "output_type": "display_data"
    },
    {
     "name": "stdout",
     "output_type": "stream",
     "text": [
      "____________________________________________________________________________________________________\n",
      "Число полных дубликатов =  0\n"
     ]
    }
   ],
   "source": [
    "get_summary(df_ab_new_users)\n",
    "df_ab_new_users['first_date'] = pd.to_datetime(df_ab_new_users['first_date'])"
   ]
  },
  {
   "cell_type": "markdown",
   "id": "54446fed",
   "metadata": {},
   "source": [
    "Сначала отберём пользователей, которые есть в какой то группе - А или В. Сохраним старый датафрейм"
   ]
  },
  {
   "cell_type": "code",
   "execution_count": 16,
   "id": "1dd828e3",
   "metadata": {},
   "outputs": [],
   "source": [
    "df_ab_new_users_all_asers = df_ab_new_users.copy()\n",
    "df_ab_new_users = df_ab_new_users[(df_ab_new_users['user_id'].isin(df_ab_participants['user_id']))]"
   ]
  },
  {
   "cell_type": "code",
   "execution_count": 17,
   "id": "23593b58",
   "metadata": {},
   "outputs": [
    {
     "name": "stdout",
     "output_type": "stream",
     "text": [
      "Число дубликатов user_id =  0\n"
     ]
    }
   ],
   "source": [
    "print(\"Число дубликатов user_id = \", df_ab_new_users['user_id'].duplicated().sum())"
   ]
  },
  {
   "cell_type": "markdown",
   "id": "88420a6a",
   "metadata": {},
   "source": [
    "Проверим дату первого посещения, пробуем найти тех, кто зарегистрировался раньше или позже"
   ]
  },
  {
   "cell_type": "code",
   "execution_count": 18,
   "id": "bb3d7027",
   "metadata": {
    "scrolled": true
   },
   "outputs": [
    {
     "data": {
      "text/html": [
       "<div>\n",
       "<style scoped>\n",
       "    .dataframe tbody tr th:only-of-type {\n",
       "        vertical-align: middle;\n",
       "    }\n",
       "\n",
       "    .dataframe tbody tr th {\n",
       "        vertical-align: top;\n",
       "    }\n",
       "\n",
       "    .dataframe thead th {\n",
       "        text-align: right;\n",
       "    }\n",
       "</style>\n",
       "<table border=\"1\" class=\"dataframe\">\n",
       "  <thead>\n",
       "    <tr style=\"text-align: right;\">\n",
       "      <th></th>\n",
       "      <th>user_id</th>\n",
       "      <th>first_date</th>\n",
       "      <th>region</th>\n",
       "      <th>device</th>\n",
       "    </tr>\n",
       "  </thead>\n",
       "  <tbody>\n",
       "  </tbody>\n",
       "</table>\n",
       "</div>"
      ],
      "text/plain": [
       "Empty DataFrame\n",
       "Columns: [user_id, first_date, region, device]\n",
       "Index: []"
      ]
     },
     "execution_count": 18,
     "metadata": {},
     "output_type": "execute_result"
    }
   ],
   "source": [
    "df_ab_new_users[~(('2020-12-07'<= df_ab_new_users['first_date'] ) & (df_ab_new_users['first_date']  <=  '2020-12-21'))]"
   ]
  },
  {
   "cell_type": "markdown",
   "id": "3e971cec",
   "metadata": {},
   "source": [
    "Таких пользователей нет, значит у нас данные строго за нужный временной промежуток"
   ]
  },
  {
   "cell_type": "code",
   "execution_count": 20,
   "id": "1655e445",
   "metadata": {},
   "outputs": [
    {
     "name": "stdout",
     "output_type": "stream",
     "text": [
      "Число пользователей, попавших в тестирование, и зарегистрированных в нужный временной промежуток =  5099\n"
     ]
    }
   ],
   "source": [
    "print(\"Число пользователей, попавших в тестирование, и зарегистрированных в нужный временной промежуток = \", \\\n",
    "      df_ab_new_users['user_id'].nunique())"
   ]
  },
  {
   "cell_type": "markdown",
   "id": "4c1a9268",
   "metadata": {},
   "source": [
    "Мы отобрали пользователей, которые зарегались с 7 по 21 декабря 2020 года, и которые попали в тест.\n",
    "\n",
    "По ТЗ : аудитория: 15% новых пользователей из региона EU;"
   ]
  },
  {
   "cell_type": "code",
   "execution_count": 21,
   "id": "b728c111",
   "metadata": {},
   "outputs": [
    {
     "name": "stdout",
     "output_type": "stream",
     "text": [
      "Число новых пользователей из EU =  46270\n",
      "Число пользователй, попавших в наш тест =  6701\n",
      "Их отношение =  0.144823859952453\n"
     ]
    }
   ],
   "source": [
    "eu = df_ab_new_users_all_asers['region'].value_counts()['EU']\n",
    "print(\"Число новых пользователей из EU = \", eu)\n",
    "\n",
    "our_users = df_ab_participants_with_intersection.query('ab_test == \"recommender_system_test\"')['user_id'].nunique()\n",
    "print(\"Число пользователй, попавших в наш тест = \", our_users)\n",
    "\n",
    "print(\"Их отношение = \", our_users / eu)"
   ]
  },
  {
   "cell_type": "code",
   "execution_count": null,
   "id": "29a26b6e",
   "metadata": {},
   "outputs": [],
   "source": []
  },
  {
   "cell_type": "markdown",
   "id": "cf7482f2",
   "metadata": {},
   "source": [
    "\n",
    "### `final_ab_events.csv` — действия новых пользователей в период с 7 декабря 2020 по 4 января 2021 года.\n",
    "\n",
    "\n"
   ]
  },
  {
   "cell_type": "code",
   "execution_count": 22,
   "id": "04782f8a",
   "metadata": {},
   "outputs": [
    {
     "data": {
      "text/html": [
       "<div>\n",
       "<style scoped>\n",
       "    .dataframe tbody tr th:only-of-type {\n",
       "        vertical-align: middle;\n",
       "    }\n",
       "\n",
       "    .dataframe tbody tr th {\n",
       "        vertical-align: top;\n",
       "    }\n",
       "\n",
       "    .dataframe thead th {\n",
       "        text-align: right;\n",
       "    }\n",
       "</style>\n",
       "<table border=\"1\" class=\"dataframe\">\n",
       "  <thead>\n",
       "    <tr style=\"text-align: right;\">\n",
       "      <th></th>\n",
       "      <th>user_id</th>\n",
       "      <th>event_dt</th>\n",
       "      <th>event_name</th>\n",
       "      <th>details</th>\n",
       "    </tr>\n",
       "  </thead>\n",
       "  <tbody>\n",
       "    <tr>\n",
       "      <th>0</th>\n",
       "      <td>E1BDDCE0DAFA2679</td>\n",
       "      <td>2020-12-07 20:22:03</td>\n",
       "      <td>purchase</td>\n",
       "      <td>99.99</td>\n",
       "    </tr>\n",
       "    <tr>\n",
       "      <th>1</th>\n",
       "      <td>7B6452F081F49504</td>\n",
       "      <td>2020-12-07 09:22:53</td>\n",
       "      <td>purchase</td>\n",
       "      <td>9.99</td>\n",
       "    </tr>\n",
       "    <tr>\n",
       "      <th>2</th>\n",
       "      <td>9CD9F34546DF254C</td>\n",
       "      <td>2020-12-07 12:59:29</td>\n",
       "      <td>purchase</td>\n",
       "      <td>4.99</td>\n",
       "    </tr>\n",
       "  </tbody>\n",
       "</table>\n",
       "</div>"
      ],
      "text/plain": [
       "            user_id             event_dt event_name  details\n",
       "0  E1BDDCE0DAFA2679  2020-12-07 20:22:03   purchase    99.99\n",
       "1  7B6452F081F49504  2020-12-07 09:22:53   purchase     9.99\n",
       "2  9CD9F34546DF254C  2020-12-07 12:59:29   purchase     4.99"
      ]
     },
     "execution_count": 22,
     "metadata": {},
     "output_type": "execute_result"
    }
   ],
   "source": [
    "df_ab_events.head(3)"
   ]
  },
  {
   "cell_type": "code",
   "execution_count": 23,
   "id": "bd5af87b",
   "metadata": {},
   "outputs": [
    {
     "name": "stdout",
     "output_type": "stream",
     "text": [
      "<class 'pandas.core.frame.DataFrame'>\n",
      "RangeIndex: 440317 entries, 0 to 440316\n",
      "Data columns (total 4 columns):\n",
      " #   Column      Non-Null Count   Dtype  \n",
      "---  ------      --------------   -----  \n",
      " 0   user_id     440317 non-null  object \n",
      " 1   event_dt    440317 non-null  object \n",
      " 2   event_name  440317 non-null  object \n",
      " 3   details     62740 non-null   float64\n",
      "dtypes: float64(1), object(3)\n",
      "memory usage: 13.4+ MB\n"
     ]
    },
    {
     "data": {
      "text/plain": [
       "None"
      ]
     },
     "metadata": {},
     "output_type": "display_data"
    },
    {
     "name": "stdout",
     "output_type": "stream",
     "text": [
      "____________________________________________________________________________________________________\n",
      "Число пропусков = \n"
     ]
    },
    {
     "data": {
      "text/plain": [
       "user_id            0\n",
       "event_dt           0\n",
       "event_name         0\n",
       "details       377577\n",
       "dtype: int64"
      ]
     },
     "metadata": {},
     "output_type": "display_data"
    },
    {
     "name": "stdout",
     "output_type": "stream",
     "text": [
      "____________________________________________________________________________________________________\n",
      "Число полных дубликатов =  0\n"
     ]
    }
   ],
   "source": [
    "get_summary(df_ab_events)"
   ]
  },
  {
   "cell_type": "code",
   "execution_count": 24,
   "id": "6345b9b6",
   "metadata": {},
   "outputs": [],
   "source": [
    "df_ab_events['event_dt'] = pd.to_datetime(df_ab_events['event_dt'])"
   ]
  },
  {
   "cell_type": "code",
   "execution_count": 25,
   "id": "184c4949",
   "metadata": {},
   "outputs": [
    {
     "name": "stdout",
     "output_type": "stream",
     "text": [
      "Имеем данные о событиях для  58703  пользователей\n"
     ]
    }
   ],
   "source": [
    "print(\"Имеем данные о событиях для \", df_ab_events['user_id'].nunique(), \" пользователей\")"
   ]
  },
  {
   "cell_type": "markdown",
   "id": "5f6aa07a",
   "metadata": {},
   "source": [
    "Нам нужно отобрать только пользователей, которые :\n",
    "* прошли регистрацию в нужный период \n",
    "\n",
    "* попали в тестирование\n",
    "\n",
    "* их действия в заданном промежутке  --  с 7 декабря 2020 по 4 января 2021 года\n"
   ]
  },
  {
   "cell_type": "code",
   "execution_count": 26,
   "id": "8eeede40",
   "metadata": {},
   "outputs": [],
   "source": [
    "df_ab_events_old = df_ab_events.copy()\n",
    "df_ab_events = df_ab_events[df_ab_events['user_id'].isin(df_ab_new_users['user_id'].unique())]"
   ]
  },
  {
   "cell_type": "code",
   "execution_count": 27,
   "id": "4232ba07",
   "metadata": {},
   "outputs": [],
   "source": [
    "df_ab_events = df_ab_events[('2020-12-07' <= df_ab_events['event_dt'] ) & (df_ab_events['event_dt'] <= '2021-01-04') ]"
   ]
  },
  {
   "cell_type": "code",
   "execution_count": 28,
   "id": "48ed6534",
   "metadata": {},
   "outputs": [
    {
     "name": "stdout",
     "output_type": "stream",
     "text": [
      "После фильтрации имеем данные о событиях для  2788  пользователей\n"
     ]
    }
   ],
   "source": [
    "print(\"После фильтрации имеем данные о событиях для \", df_ab_events['user_id'].nunique(), \" пользователей\")"
   ]
  },
  {
   "cell_type": "markdown",
   "id": "80395134",
   "metadata": {},
   "source": [
    "Получается что далеко не для всех пользователей у нас есть данные о его действиях"
   ]
  },
  {
   "cell_type": "markdown",
   "id": "64c1ee10",
   "metadata": {},
   "source": [
    "Посмотрим какие детали могут быть для какого события"
   ]
  },
  {
   "cell_type": "code",
   "execution_count": 29,
   "id": "f06e2f57",
   "metadata": {},
   "outputs": [
    {
     "data": {
      "text/plain": [
       "event_name\n",
       "login                                 [nan]\n",
       "product_cart                          [nan]\n",
       "product_page                          [nan]\n",
       "purchase        [4.99, 99.99, 9.99, 499.99]\n",
       "Name: details, dtype: object"
      ]
     },
     "execution_count": 29,
     "metadata": {},
     "output_type": "execute_result"
    }
   ],
   "source": [
    "df_ab_events.groupby('event_name')['details'].unique()"
   ]
  },
  {
   "cell_type": "markdown",
   "id": "6004ab81",
   "metadata": {},
   "source": [
    "Не густо. В подробностях имеем только цену покупки :-("
   ]
  },
  {
   "cell_type": "markdown",
   "id": "14f96a55",
   "metadata": {},
   "source": [
    "Соберём таблицы с отобранными пользователями в одну, с информацией о:\n",
    "\n",
    "* user_id\n",
    "\n",
    "* event_dt - дата события\t\n",
    "\n",
    "* event_name - название события\n",
    "\n",
    "* details - детали события\n",
    "\n",
    "* device с которого зарегистрировались\n",
    "\n",
    "* region с которого зарегистрировались\n",
    "\n",
    "* дата регистрации\n",
    "\n"
   ]
  },
  {
   "cell_type": "code",
   "execution_count": 30,
   "id": "0fe6ca9e",
   "metadata": {},
   "outputs": [
    {
     "data": {
      "text/html": [
       "<div>\n",
       "<style scoped>\n",
       "    .dataframe tbody tr th:only-of-type {\n",
       "        vertical-align: middle;\n",
       "    }\n",
       "\n",
       "    .dataframe tbody tr th {\n",
       "        vertical-align: top;\n",
       "    }\n",
       "\n",
       "    .dataframe thead th {\n",
       "        text-align: right;\n",
       "    }\n",
       "</style>\n",
       "<table border=\"1\" class=\"dataframe\">\n",
       "  <thead>\n",
       "    <tr style=\"text-align: right;\">\n",
       "      <th></th>\n",
       "      <th>user_id</th>\n",
       "      <th>group</th>\n",
       "      <th>ab_test</th>\n",
       "      <th>first_date</th>\n",
       "      <th>region</th>\n",
       "      <th>device</th>\n",
       "      <th>event_dt</th>\n",
       "      <th>event_name</th>\n",
       "      <th>details</th>\n",
       "    </tr>\n",
       "  </thead>\n",
       "  <tbody>\n",
       "    <tr>\n",
       "      <th>0</th>\n",
       "      <td>D1ABA3E2887B6A73</td>\n",
       "      <td>A</td>\n",
       "      <td>recommender_system_test</td>\n",
       "      <td>2020-12-07</td>\n",
       "      <td>EU</td>\n",
       "      <td>PC</td>\n",
       "      <td>2020-12-07 14:43:27</td>\n",
       "      <td>purchase</td>\n",
       "      <td>99.99</td>\n",
       "    </tr>\n",
       "    <tr>\n",
       "      <th>1</th>\n",
       "      <td>D1ABA3E2887B6A73</td>\n",
       "      <td>A</td>\n",
       "      <td>recommender_system_test</td>\n",
       "      <td>2020-12-07</td>\n",
       "      <td>EU</td>\n",
       "      <td>PC</td>\n",
       "      <td>2020-12-25 00:04:56</td>\n",
       "      <td>purchase</td>\n",
       "      <td>4.99</td>\n",
       "    </tr>\n",
       "    <tr>\n",
       "      <th>2</th>\n",
       "      <td>D1ABA3E2887B6A73</td>\n",
       "      <td>A</td>\n",
       "      <td>recommender_system_test</td>\n",
       "      <td>2020-12-07</td>\n",
       "      <td>EU</td>\n",
       "      <td>PC</td>\n",
       "      <td>2020-12-07 14:43:29</td>\n",
       "      <td>product_cart</td>\n",
       "      <td>NaN</td>\n",
       "    </tr>\n",
       "  </tbody>\n",
       "</table>\n",
       "</div>"
      ],
      "text/plain": [
       "            user_id group                  ab_test first_date region device  \\\n",
       "0  D1ABA3E2887B6A73     A  recommender_system_test 2020-12-07     EU     PC   \n",
       "1  D1ABA3E2887B6A73     A  recommender_system_test 2020-12-07     EU     PC   \n",
       "2  D1ABA3E2887B6A73     A  recommender_system_test 2020-12-07     EU     PC   \n",
       "\n",
       "             event_dt    event_name  details  \n",
       "0 2020-12-07 14:43:27      purchase    99.99  \n",
       "1 2020-12-25 00:04:56      purchase     4.99  \n",
       "2 2020-12-07 14:43:29  product_cart      NaN  "
      ]
     },
     "execution_count": 30,
     "metadata": {},
     "output_type": "execute_result"
    }
   ],
   "source": [
    "# inner join - выбираем участников теста и при этом они - новые пользователи\n",
    "df_total = df_ab_participants.merge(df_ab_new_users, on = 'user_id')\n",
    "# left - не для всех пользователей знаем события, но не хотим терять информацию\n",
    "df_total = df_total.merge(df_ab_events, on = 'user_id', how = 'left')\n",
    "df_total.head(3)"
   ]
  },
  {
   "cell_type": "code",
   "execution_count": 31,
   "id": "320c884f",
   "metadata": {},
   "outputs": [],
   "source": [
    "# создадим колонку с датой\n",
    "df_total['event_date'] = df_total['event_dt'].dt.date"
   ]
  },
  {
   "cell_type": "code",
   "execution_count": 32,
   "id": "e2701529",
   "metadata": {
    "scrolled": true
   },
   "outputs": [
    {
     "name": "stdout",
     "output_type": "stream",
     "text": [
      "Имеем  5099  участников теста\n",
      "И лишь для  2788  из них имеем данные о событиях\n"
     ]
    }
   ],
   "source": [
    "print(\"Имеем \", df_ab_new_users['user_id'].nunique(), \" участников теста\")\n",
    "print(\"И лишь для \",  df_ab_events['user_id'].nunique(), \" из них имеем данные о событиях\")"
   ]
  },
  {
   "cell_type": "code",
   "execution_count": null,
   "id": "58c63adf",
   "metadata": {},
   "outputs": [],
   "source": []
  },
  {
   "cell_type": "markdown",
   "id": "151cdc6e",
   "metadata": {},
   "source": [
    "### Проверим доли в группах для итоговой таблицы\n",
    "\n",
    "\n",
    "**проверим число пользователей в каждой группе**"
   ]
  },
  {
   "cell_type": "code",
   "execution_count": 33,
   "id": "3fbb683a",
   "metadata": {},
   "outputs": [
    {
     "name": "stdout",
     "output_type": "stream",
     "text": [
      "Число участников группы A =  2903\n",
      "Число участников группы B =  2196\n"
     ]
    },
    {
     "data": {
      "image/png": "[encoded data removed]",
      "text/plain": [
       "<Figure size 1296x288 with 1 Axes>"
      ]
     },
     "metadata": {
      "needs_background": "light"
     },
     "output_type": "display_data"
    }
   ],
   "source": [
    "print(\"Число участников группы A = \", df_total.query('group == \"A\"')['user_id'].nunique())\n",
    "print(\"Число участников группы B = \", df_total.query('group == \"B\"')['user_id'].nunique())\n",
    "\n",
    "plt.figure(figsize=(18, 4))\n",
    "sns.barplot(x = [df_total.query('group == \"A\"')['user_id'].nunique(), df_total.query('group == \"B\"')['user_id'].nunique()],\\\n",
    "           y = ['group A', 'group B'], palette='pastel')\n",
    "plt.show()"
   ]
  },
  {
   "cell_type": "markdown",
   "id": "ff1562aa",
   "metadata": {},
   "source": [
    "В группе A у нас больше пользователй чем в B."
   ]
  },
  {
   "cell_type": "markdown",
   "id": "4401ffa7",
   "metadata": {},
   "source": [
    "**проверим долю регионов**"
   ]
  },
  {
   "cell_type": "code",
   "execution_count": 34,
   "id": "f4a9d052",
   "metadata": {},
   "outputs": [
    {
     "data": {
      "image/png": "[encoded data removed]",
      "text/plain": [
       "<Figure size 1008x432 with 2 Axes>"
      ]
     },
     "metadata": {},
     "output_type": "display_data"
    }
   ],
   "source": [
    "colors = sns.color_palette('pastel')[0:5]\n",
    "plt.figure(figsize = (14,6))\n",
    "plt.subplot(1,2,1)\n",
    "data = pd.DataFrame(df_total.query('group == \"A\"')[['user_id', \\\n",
    "                                             'region', 'device']].drop_duplicates()['region'].value_counts()).reset_index()\n",
    "plt.pie(data['region'], labels = data['index'],  autopct='%.0f%%', colors=colors)\n",
    "plt.title('Доли регионов для группы A')\n",
    "\n",
    "plt.subplot(1,2,2)\n",
    "data = pd.DataFrame(df_total.query('group == \"B\"')[['user_id', \\\n",
    "                                             'region', 'device']].drop_duplicates()['region'].value_counts()).reset_index()\n",
    "plt.pie(data['region'], labels = data['index'],  autopct='%.0f%%', colors=colors)\n",
    "plt.title('Доли регионов для группы B')\n",
    "\n",
    "plt.show()"
   ]
  },
  {
   "cell_type": "markdown",
   "id": "73fc176a",
   "metadata": {},
   "source": [
    "**проверим доли устройств, с который регистрировались пользователи**"
   ]
  },
  {
   "cell_type": "code",
   "execution_count": 35,
   "id": "b88a0f1f",
   "metadata": {
    "scrolled": false
   },
   "outputs": [
    {
     "data": {
      "image/png": "[encoded data removed]",
      "text/plain": [
       "<Figure size 1008x432 with 2 Axes>"
      ]
     },
     "metadata": {},
     "output_type": "display_data"
    }
   ],
   "source": [
    "colors = sns.color_palette('pastel')[0:5]\n",
    "plt.figure(figsize = (14,6))\n",
    "plt.subplot(1,2,1)\n",
    "data = pd.DataFrame(df_total.query('group == \"A\"')[['user_id', \\\n",
    "                                             'region', 'device']].drop_duplicates()['device'].value_counts()).reset_index()\n",
    "plt.pie(data['device'], labels = data['index'],  autopct='%.0f%%', colors=colors)\n",
    "plt.title('Доли регионов для группы A')\n",
    "\n",
    "plt.subplot(1,2,2)\n",
    "data = pd.DataFrame(df_total.query('group == \"B\"')[['user_id', \\\n",
    "                                             'region', 'device']].drop_duplicates()['device'].value_counts()).reset_index()\n",
    "plt.pie(data['device'], labels = data['index'],  autopct='%.0f%%', colors=colors)\n",
    "plt.title('Доли регионов для группы B')\n",
    "\n",
    "plt.show()"
   ]
  },
  {
   "cell_type": "markdown",
   "id": "d3a74da9",
   "metadata": {},
   "source": [
    "В целом баланс классов нормальный."
   ]
  },
  {
   "cell_type": "markdown",
   "id": "b0a172df",
   "metadata": {},
   "source": [
    "### Посмотрим на общую воронку событий"
   ]
  },
  {
   "cell_type": "code",
   "execution_count": 36,
   "id": "8d25a1c4",
   "metadata": {
    "scrolled": false
   },
   "outputs": [
    {
     "data": {
      "image/svg+xml": [
       "<svg class=\"main-svg\" xmlns=\"http://www.w3.org/2000/svg\" xmlns:xlink=\"http://www.w3.org/1999/xlink\" width=\"700\" height=\"500\" style=\"\" viewBox=\"0 0 700 500\"><rect x=\"0\" y=\"0\" width=\"700\" height=\"500\" style=\"fill: rgb(255, 255, 255); fill-opacity: 1;\"/><defs id=\"defs-c37fee\"><g class=\"clips\"><clipPath id=\"clipc37feexyplot\" class=\"plotclip\"><rect width=\"524\" height=\"320\"/></clipPath><clipPath class=\"axesclip\" id=\"clipc37feex\"><rect x=\"96\" y=\"0\" width=\"524\" height=\"500\"/></clipPath><clipPath class=\"axesclip\" id=\"clipc37feey\"><rect x=\"0\" y=\"100\" width=\"700\" height=\"320\"/></clipPath><clipPath class=\"axesclip\" id=\"clipc37feexy\"><rect x=\"96\" y=\"100\" width=\"524\" height=\"320\"/></clipPath></g><g class=\"gradients\"/><g class=\"patterns\"/></defs><g class=\"bglayer\"><rect class=\"bg\" x=\"96\" y=\"100\" width=\"524\" height=\"320\" style=\"fill: rgb(229, 236, 246); fill-opacity: 1; stroke-width: 0;\"/></g><g class=\"layer-below\"><g class=\"imagelayer\"/><g class=\"shapelayer\"/></g><g class=\"cartesianlayer\"><g class=\"subplot xy\"><g class=\"layer-subplot\"><g class=\"shapelayer\"/><g class=\"imagelayer\"/></g><g class=\"minor-gridlayer\"><g class=\"x\"/><g class=\"y\"/></g><g class=\"gridlayer\"><g class=\"x\"/><g class=\"y\"/></g><g class=\"zerolinelayer\"/><path class=\"xlines-below\"/><path class=\"ylines-below\"/><g class=\"overlines-below\"/><g class=\"xaxislayer-below\"/><g class=\"yaxislayer-below\"/><g class=\"overaxes-below\"/><g class=\"plot\" transform=\"translate(96,100)\" clip-path=\"url(#clipc37feexyplot)\"><g class=\"funnellayer mlayer\"><g class=\"trace bars\" style=\"opacity: 1;\"><g class=\"regions\"><g class=\"region\"><path d=\"M26.2,72L113.4,88H410.6L497.8,72Z\" style=\"stroke-width: 0; fill: rgb(99, 110, 250); fill-opacity: 0.5;\"/></g><g class=\"region\"><path d=\"M113.4,152L192.14,168H331.86L410.6,152Z\" style=\"stroke-width: 0; fill: rgb(99, 110, 250); fill-opacity: 0.5;\"/></g><g class=\"region\"><path d=\"M192.14,232L190.11,248H333.89L331.86,232Z\" style=\"stroke-width: 0; fill: rgb(99, 110, 250); fill-opacity: 0.5;\"/></g><g class=\"region\"><path d=\"M0,0Z\" style=\"stroke-width: 0; fill: rgb(99, 110, 250); fill-opacity: 0.5;\"/></g></g><g class=\"points\"><g class=\"point\"><path d=\"M26.2,8V72H497.8V8Z\" style=\"vector-effect: non-scaling-stroke; fill: rgb(99, 110, 250); fill-opacity: 1; stroke: rgb(68, 68, 68); stroke-opacity: 1; stroke-width: 0px; opacity: 1;\"/><text class=\"bartext bartext-inside\" text-anchor=\"middle\" data-notex=\"1\" x=\"0\" y=\"0\" style=\"font-family: 'Open Sans', verdana, arial, sans-serif; font-size: 12px; fill: rgb(255, 255, 255); fill-opacity: 1; white-space: pre;\" transform=\"translate(261.953125,36.6953125)\"><tspan class=\"line\" dy=\"0em\" x=\"0\" y=\"0\">2788</tspan><tspan class=\"line\" dy=\"1.3em\" x=\"0\" y=\"0\">100%</tspan></text></g><g class=\"point\"><path d=\"M113.4,88V152H410.6V88Z\" style=\"vector-effect: non-scaling-stroke; fill: rgb(99, 110, 250); fill-opacity: 1; stroke: rgb(68, 68, 68); stroke-opacity: 1; stroke-width: 0px; opacity: 1;\"/><text class=\"bartext bartext-inside\" text-anchor=\"middle\" data-notex=\"1\" x=\"0\" y=\"0\" style=\"font-family: 'Open Sans', verdana, arial, sans-serif; font-size: 12px; fill: rgb(255, 255, 255); fill-opacity: 1; white-space: pre;\" transform=\"translate(261.8125,116.6953125)\"><tspan class=\"line\" dy=\"0em\" x=\"0\" y=\"0\">1757</tspan><tspan class=\"line\" dy=\"1.3em\" x=\"0\" y=\"0\">63%</tspan></text></g><g class=\"point\"><path d=\"M192.14,168V232H331.86V168Z\" style=\"vector-effect: non-scaling-stroke; fill: rgb(99, 110, 250); fill-opacity: 1; stroke: rgb(68, 68, 68); stroke-opacity: 1; stroke-width: 0px; opacity: 1;\"/><text class=\"bartext bartext-inside\" text-anchor=\"middle\" data-notex=\"1\" x=\"0\" y=\"0\" style=\"font-family: 'Open Sans', verdana, arial, sans-serif; font-size: 12px; fill: rgb(255, 255, 255); fill-opacity: 1; white-space: pre;\" transform=\"translate(261.9609375,196.6953125)\"><tspan class=\"line\" dy=\"0em\" x=\"0\" y=\"0\">826</tspan><tspan class=\"line\" dy=\"1.3em\" x=\"0\" y=\"0\">30%</tspan></text></g><g class=\"point\"><path d=\"M190.11,248V312H333.89V248Z\" style=\"vector-effect: non-scaling-stroke; fill: rgb(99, 110, 250); fill-opacity: 1; stroke: rgb(68, 68, 68); stroke-opacity: 1; stroke-width: 0px; opacity: 1;\"/><text class=\"bartext bartext-inside\" text-anchor=\"middle\" data-notex=\"1\" x=\"0\" y=\"0\" style=\"font-family: 'Open Sans', verdana, arial, sans-serif; font-size: 12px; fill: rgb(255, 255, 255); fill-opacity: 1; white-space: pre;\" transform=\"translate(261.9609375,276.6953125)\"><tspan class=\"line\" dy=\"0em\" x=\"0\" y=\"0\">850</tspan><tspan class=\"line\" dy=\"1.3em\" x=\"0\" y=\"0\">30%</tspan></text></g></g></g></g></g><g class=\"overplot\"/><path class=\"xlines-above crisp\" d=\"M0,0\" style=\"fill: none;\"/><path class=\"ylines-above crisp\" d=\"M0,0\" style=\"fill: none;\"/><g class=\"overlines-above\"/><g class=\"xaxislayer-above\"/><g class=\"yaxislayer-above\"><g class=\"ytick\"><text text-anchor=\"end\" x=\"95\" y=\"4.199999999999999\" transform=\"translate(0,380)\" style=\"font-family: 'Open Sans', verdana, arial, sans-serif; font-size: 12px; fill: rgb(42, 63, 95); fill-opacity: 1; white-space: pre; opacity: 1;\">purchase</text></g><g class=\"ytick\"><text text-anchor=\"end\" x=\"95\" y=\"4.199999999999999\" transform=\"translate(0,300)\" style=\"font-family: 'Open Sans', verdana, arial, sans-serif; font-size: 12px; fill: rgb(42, 63, 95); fill-opacity: 1; white-space: pre; opacity: 1;\">product_cart</text></g><g class=\"ytick\"><text text-anchor=\"end\" x=\"95\" y=\"4.199999999999999\" transform=\"translate(0,220)\" style=\"font-family: 'Open Sans', verdana, arial, sans-serif; font-size: 12px; fill: rgb(42, 63, 95); fill-opacity: 1; white-space: pre; opacity: 1;\">product_page</text></g><g class=\"ytick\"><text text-anchor=\"end\" x=\"95\" y=\"4.199999999999999\" transform=\"translate(0,140)\" style=\"font-family: 'Open Sans', verdana, arial, sans-serif; font-size: 12px; fill: rgb(42, 63, 95); fill-opacity: 1; white-space: pre; opacity: 1;\">login</text></g></g><g class=\"overaxes-above\"/></g></g><g class=\"polarlayer\"/><g class=\"smithlayer\"/><g class=\"ternarylayer\"/><g class=\"geolayer\"/><g class=\"funnelarealayer\"/><g class=\"pielayer\"/><g class=\"iciclelayer\"/><g class=\"treemaplayer\"/><g class=\"sunburstlayer\"/><g class=\"glimages\"/><defs id=\"topdefs-c37fee\"><g class=\"clips\"/></defs><g class=\"layer-above\"><g class=\"imagelayer\"/><g class=\"shapelayer\"/></g><g class=\"infolayer\"><g class=\"g-gtitle\"><text class=\"gtitle\" x=\"350\" y=\"50\" text-anchor=\"middle\" dy=\"0.7em\" style=\"font-family: 'Open Sans', verdana, arial, sans-serif; font-size: 17px; fill: rgb(42, 63, 95); opacity: 1; font-weight: normal; white-space: pre;\">Конверсия по всем пользователям</text></g><g class=\"g-ytitle\"/></g></svg>"
      ]
     },
     "metadata": {},
     "output_type": "display_data"
    }
   ],
   "source": [
    "\n",
    "'''data = pd.DataFrame(df_total['event_name'].value_counts()).reset_index()\n",
    "data.columns = ['event_name', 'event_counts']'''\n",
    "\n",
    "data = pd.DataFrame(df_total.groupby('event_name')['user_id'].nunique()).reindex(['login',\\\n",
    "                                                        'product_page', 'product_cart', 'purchase']).reset_index()\n",
    "data.columns = ['event_name', 'event_counts']\n",
    "\n",
    "fig = go.Figure(go.Funnel(\n",
    "    x= data['event_counts'] ,\n",
    "    y= data['event_name'] ,\n",
    "     textinfo = \"value+percent initial\"\n",
    "))\n",
    "\n",
    "fig.update_layout(\n",
    "    title={\n",
    "        'text': \"Конверсия по всем пользователям\",\n",
    "        'y':0.9,\n",
    "        'x':0.5,\n",
    "        'xanchor': 'center',\n",
    "        'yanchor': 'top'})\n",
    "\n",
    "fig.show('svg')"
   ]
  },
  {
   "cell_type": "code",
   "execution_count": 37,
   "id": "368f5986",
   "metadata": {},
   "outputs": [
    {
     "data": {
      "text/plain": [
       "Timestamp('2020-12-07 00:16:00')"
      ]
     },
     "execution_count": 37,
     "metadata": {},
     "output_type": "execute_result"
    }
   ],
   "source": [
    "df_total['event_dt'].min()"
   ]
  },
  {
   "cell_type": "markdown",
   "id": "9baa1174",
   "metadata": {},
   "source": [
    "### Проверим ожидаемый эффект для каждой метрики\n",
    "\n",
    "По ТЗ ожидаемый эффект: за 14 дней с момента регистрации пользователи покажут улучшение каждой метрики не менее, чем на 10%:\n",
    "\n",
    "    - конверсии в просмотр карточек товаров — событие `product_page`,\n",
    "    \n",
    "    - просмотры корзины — `product_cart`,\n",
    "    \n",
    "    - покупки — `purchase`.\n",
    "    \n",
    "    \n",
    "* сначала отберём для каждого пользователя его действия за 2 недели\n",
    "\n",
    "* посмотрим воронку конверсии из login в другие шаги\n",
    "\n",
    "* посчитаем относительный прирост каждой метрики "
   ]
  },
  {
   "cell_type": "code",
   "execution_count": 38,
   "id": "3933552f",
   "metadata": {},
   "outputs": [
    {
     "data": {
      "text/html": [
       "<div>\n",
       "<style scoped>\n",
       "    .dataframe tbody tr th:only-of-type {\n",
       "        vertical-align: middle;\n",
       "    }\n",
       "\n",
       "    .dataframe tbody tr th {\n",
       "        vertical-align: top;\n",
       "    }\n",
       "\n",
       "    .dataframe thead th {\n",
       "        text-align: right;\n",
       "    }\n",
       "</style>\n",
       "<table border=\"1\" class=\"dataframe\">\n",
       "  <thead>\n",
       "    <tr style=\"text-align: right;\">\n",
       "      <th></th>\n",
       "      <th>user_id</th>\n",
       "      <th>level_1</th>\n",
       "      <th>event_dt</th>\n",
       "    </tr>\n",
       "  </thead>\n",
       "  <tbody>\n",
       "    <tr>\n",
       "      <th>0</th>\n",
       "      <td>000ABE35EE11412F</td>\n",
       "      <td>18006</td>\n",
       "      <td>False</td>\n",
       "    </tr>\n",
       "    <tr>\n",
       "      <th>1</th>\n",
       "      <td>0010A1C096941592</td>\n",
       "      <td>16322</td>\n",
       "      <td>True</td>\n",
       "    </tr>\n",
       "    <tr>\n",
       "      <th>2</th>\n",
       "      <td>0010A1C096941592</td>\n",
       "      <td>16323</td>\n",
       "      <td>True</td>\n",
       "    </tr>\n",
       "    <tr>\n",
       "      <th>3</th>\n",
       "      <td>0010A1C096941592</td>\n",
       "      <td>16324</td>\n",
       "      <td>True</td>\n",
       "    </tr>\n",
       "    <tr>\n",
       "      <th>4</th>\n",
       "      <td>0010A1C096941592</td>\n",
       "      <td>16325</td>\n",
       "      <td>True</td>\n",
       "    </tr>\n",
       "    <tr>\n",
       "      <th>5</th>\n",
       "      <td>0010A1C096941592</td>\n",
       "      <td>16326</td>\n",
       "      <td>True</td>\n",
       "    </tr>\n",
       "    <tr>\n",
       "      <th>6</th>\n",
       "      <td>0010A1C096941592</td>\n",
       "      <td>16327</td>\n",
       "      <td>True</td>\n",
       "    </tr>\n",
       "    <tr>\n",
       "      <th>7</th>\n",
       "      <td>0010A1C096941592</td>\n",
       "      <td>16328</td>\n",
       "      <td>True</td>\n",
       "    </tr>\n",
       "    <tr>\n",
       "      <th>8</th>\n",
       "      <td>0010A1C096941592</td>\n",
       "      <td>16329</td>\n",
       "      <td>True</td>\n",
       "    </tr>\n",
       "    <tr>\n",
       "      <th>9</th>\n",
       "      <td>0010A1C096941592</td>\n",
       "      <td>16330</td>\n",
       "      <td>True</td>\n",
       "    </tr>\n",
       "  </tbody>\n",
       "</table>\n",
       "</div>"
      ],
      "text/plain": [
       "            user_id  level_1  event_dt\n",
       "0  000ABE35EE11412F    18006     False\n",
       "1  0010A1C096941592    16322      True\n",
       "2  0010A1C096941592    16323      True\n",
       "3  0010A1C096941592    16324      True\n",
       "4  0010A1C096941592    16325      True\n",
       "5  0010A1C096941592    16326      True\n",
       "6  0010A1C096941592    16327      True\n",
       "7  0010A1C096941592    16328      True\n",
       "8  0010A1C096941592    16329      True\n",
       "9  0010A1C096941592    16330      True"
      ]
     },
     "execution_count": 38,
     "metadata": {},
     "output_type": "execute_result"
    }
   ],
   "source": [
    "# отбираем для каждого пользователя 2 недели\n",
    "\n",
    "df_total_2_weeks = df_total.reset_index()\n",
    "df_total_2_weeks.head(5)\n",
    "\n",
    "# группируем по user_id.находим минимальную дату + 14 дней и сранвиваем с текущей (идём построчно для каждого user_id)\n",
    "# на выходе - true false значения для каждого индекса исходной таблицы - является ли строка подходящей\n",
    "# число строк в df_total_2_weeks и в true_false_date совпадает\n",
    "true_false_date = pd.DataFrame(df_total.groupby('user_id').apply(lambda x :   x['event_dt'] <=\\\n",
    "                                                    x['event_dt'].min() +  datetime.timedelta(days=14))).reset_index()\n",
    "\n",
    "true_false_date.head(10)"
   ]
  },
  {
   "cell_type": "code",
   "execution_count": 39,
   "id": "7439b803",
   "metadata": {},
   "outputs": [],
   "source": [
    "df_total_2_weeks = df_total_2_weeks.merge(true_false_date, right_on='level_1', \\\n",
    "                       left_on='index').rename(columns = {'event_dt_y' : 'if_we_need_row',\n",
    "                                                         'user_id_x' : 'user_id',\n",
    "                                                          'event_dt_x' : 'event_dt'\n",
    "                                                         }).drop(columns=['index', 'level_1', 'user_id_y'])\n",
    "# отбираем значения по колонке булевых значений\n",
    "df_total_2_weeks = df_total_2_weeks[df_total_2_weeks['if_we_need_row']]"
   ]
  },
  {
   "cell_type": "code",
   "execution_count": 40,
   "id": "62da3fc0",
   "metadata": {
    "scrolled": false
   },
   "outputs": [
    {
     "data": {
      "image/svg+xml": [
       "<svg class=\"main-svg\" xmlns=\"http://www.w3.org/2000/svg\" xmlns:xlink=\"http://www.w3.org/1999/xlink\" width=\"700\" height=\"500\" style=\"\" viewBox=\"0 0 700 500\"><rect x=\"0\" y=\"0\" width=\"700\" height=\"500\" style=\"fill: rgb(255, 255, 255); fill-opacity: 1;\"/><defs id=\"defs-e29d52\"><g class=\"clips\"><clipPath id=\"clipe29d52xyplot\" class=\"plotclip\"><rect width=\"478\" height=\"320\"/></clipPath><clipPath class=\"axesclip\" id=\"clipe29d52x\"><rect x=\"96\" y=\"0\" width=\"478\" height=\"500\"/></clipPath><clipPath class=\"axesclip\" id=\"clipe29d52y\"><rect x=\"0\" y=\"100\" width=\"700\" height=\"320\"/></clipPath><clipPath class=\"axesclip\" id=\"clipe29d52xy\"><rect x=\"96\" y=\"100\" width=\"478\" height=\"320\"/></clipPath></g><g class=\"gradients\"/><g class=\"patterns\"/></defs><g class=\"bglayer\"><rect class=\"bg\" x=\"96\" y=\"100\" width=\"478\" height=\"320\" style=\"fill: rgb(229, 236, 246); fill-opacity: 1; stroke-width: 0;\"/></g><g class=\"layer-below\"><g class=\"imagelayer\"/><g class=\"shapelayer\"/></g><g class=\"cartesianlayer\"><g class=\"subplot xy\"><g class=\"layer-subplot\"><g class=\"shapelayer\"/><g class=\"imagelayer\"/></g><g class=\"minor-gridlayer\"><g class=\"x\"/><g class=\"y\"/></g><g class=\"gridlayer\"><g class=\"x\"/><g class=\"y\"/></g><g class=\"zerolinelayer\"/><path class=\"xlines-below\"/><path class=\"ylines-below\"/><g class=\"overlines-below\"/><g class=\"xaxislayer-below\"/><g class=\"yaxislayer-below\"/><g class=\"overaxes-below\"/><g class=\"plot\" transform=\"translate(96,100)\" clip-path=\"url(#clipe29d52xyplot)\"><g class=\"funnellayer mlayer\"><g class=\"trace bars\" style=\"opacity: 1;\"><g class=\"regions\"><g class=\"region\"><path d=\"M23.9,72L103.4,88H313.32L345.28,72Z\" style=\"stroke-width: 0; fill: rgb(99, 110, 250); fill-opacity: 0.5;\"/></g><g class=\"region\"><path d=\"M103.4,152L175.25,168H272.65L313.32,152Z\" style=\"stroke-width: 0; fill: rgb(99, 110, 250); fill-opacity: 0.5;\"/></g><g class=\"region\"><path d=\"M175.25,232L173.4,248H274.04L272.65,232Z\" style=\"stroke-width: 0; fill: rgb(99, 110, 250); fill-opacity: 0.5;\"/></g><g class=\"region\"><path d=\"M0,0Z\" style=\"stroke-width: 0; fill: rgb(99, 110, 250); fill-opacity: 0.5;\"/></g></g><g class=\"points\"><g class=\"point\"><path d=\"M23.9,8V72H345.28V8Z\" style=\"vector-effect: non-scaling-stroke; fill: rgb(99, 110, 250); fill-opacity: 1; stroke: rgb(68, 68, 68); stroke-opacity: 1; stroke-width: 0px; opacity: 1;\"/><text class=\"bartext bartext-inside\" text-anchor=\"middle\" data-notex=\"1\" x=\"0\" y=\"0\" style=\"font-family: 'Open Sans', verdana, arial, sans-serif; font-size: 12px; fill: rgb(255, 255, 255); fill-opacity: 1; white-space: pre;\" transform=\"translate(184.54312499999997,36.6953125)\"><tspan class=\"line\" dy=\"0em\" x=\"0\" y=\"0\">2082</tspan><tspan class=\"line\" dy=\"1.3em\" x=\"0\" y=\"0\">100%</tspan></text></g><g class=\"point\"><path d=\"M103.4,88V152H313.32V88Z\" style=\"vector-effect: non-scaling-stroke; fill: rgb(99, 110, 250); fill-opacity: 1; stroke: rgb(68, 68, 68); stroke-opacity: 1; stroke-width: 0px; opacity: 1;\"/><text class=\"bartext bartext-inside\" text-anchor=\"middle\" data-notex=\"1\" x=\"0\" y=\"0\" style=\"font-family: 'Open Sans', verdana, arial, sans-serif; font-size: 12px; fill: rgb(255, 255, 255); fill-opacity: 1; white-space: pre;\" transform=\"translate(208.1725,116.6953125)\"><tspan class=\"line\" dy=\"0em\" x=\"0\" y=\"0\">1360</tspan><tspan class=\"line\" dy=\"1.3em\" x=\"0\" y=\"0\">65%</tspan></text></g><g class=\"point\"><path d=\"M175.25,168V232H272.65V168Z\" style=\"vector-effect: non-scaling-stroke; fill: rgb(99, 110, 250); fill-opacity: 1; stroke: rgb(68, 68, 68); stroke-opacity: 1; stroke-width: 0px; opacity: 1;\"/><text class=\"bartext bartext-inside\" text-anchor=\"middle\" data-notex=\"1\" x=\"0\" y=\"0\" style=\"font-family: 'Open Sans', verdana, arial, sans-serif; font-size: 12px; fill: rgb(255, 255, 255); fill-opacity: 1; white-space: pre;\" transform=\"translate(223.9109375,196.6953125)\"><tspan class=\"line\" dy=\"0em\" x=\"0\" y=\"0\">631</tspan><tspan class=\"line\" dy=\"1.3em\" x=\"0\" y=\"0\">30%</tspan></text></g><g class=\"point\"><path d=\"M173.4,248V312H274.04V248Z\" style=\"vector-effect: non-scaling-stroke; fill: rgb(99, 110, 250); fill-opacity: 1; stroke: rgb(68, 68, 68); stroke-opacity: 1; stroke-width: 0px; opacity: 1;\"/><text class=\"bartext bartext-inside\" text-anchor=\"middle\" data-notex=\"1\" x=\"0\" y=\"0\" style=\"font-family: 'Open Sans', verdana, arial, sans-serif; font-size: 12px; fill: rgb(255, 255, 255); fill-opacity: 1; white-space: pre;\" transform=\"translate(223.68093750000003,276.6953125)\"><tspan class=\"line\" dy=\"0em\" x=\"0\" y=\"0\">652</tspan><tspan class=\"line\" dy=\"1.3em\" x=\"0\" y=\"0\">31%</tspan></text></g></g></g><g class=\"trace bars\" style=\"opacity: 1;\"><g class=\"regions\"><g class=\"region\"><path d=\"M345.28,72L313.32,88H374.6L454.1,72Z\" style=\"stroke-width: 0; fill: rgb(239, 85, 59); fill-opacity: 0.5;\"/></g><g class=\"region\"><path d=\"M313.32,152L272.65,168H302.75L374.6,152Z\" style=\"stroke-width: 0; fill: rgb(239, 85, 59); fill-opacity: 0.5;\"/></g><g class=\"region\"><path d=\"M272.65,232L274.04,248H304.6L302.75,232Z\" style=\"stroke-width: 0; fill: rgb(239, 85, 59); fill-opacity: 0.5;\"/></g><g class=\"region\"><path d=\"M0,0Z\" style=\"stroke-width: 0; fill: rgb(239, 85, 59); fill-opacity: 0.5;\"/></g></g><g class=\"points\"><g class=\"point\"><path d=\"M345.28,8V72H454.1V8Z\" style=\"vector-effect: non-scaling-stroke; fill: rgb(239, 85, 59); fill-opacity: 1; stroke: rgb(68, 68, 68); stroke-opacity: 1; stroke-width: 0px; opacity: 1;\"/><text class=\"bartext bartext-inside\" text-anchor=\"middle\" data-notex=\"1\" x=\"0\" y=\"0\" style=\"font-family: 'Open Sans', verdana, arial, sans-serif; font-size: 12px; fill: rgb(68, 68, 68); fill-opacity: 1; white-space: pre;\" transform=\"translate(399.643125,36.6953125)\"><tspan class=\"line\" dy=\"0em\" x=\"0\" y=\"0\">705</tspan><tspan class=\"line\" dy=\"1.3em\" x=\"0\" y=\"0\">100%</tspan></text></g><g class=\"point\"><path d=\"M313.32,88V152H374.6V88Z\" style=\"vector-effect: non-scaling-stroke; fill: rgb(239, 85, 59); fill-opacity: 1; stroke: rgb(68, 68, 68); stroke-opacity: 1; stroke-width: 0px; opacity: 1;\"/><text class=\"bartext bartext-inside\" text-anchor=\"middle\" data-notex=\"1\" x=\"0\" y=\"0\" style=\"font-family: 'Open Sans', verdana, arial, sans-serif; font-size: 12px; fill: rgb(68, 68, 68); fill-opacity: 1; white-space: pre;\" transform=\"translate(343.92093750000004,116.6953125)\"><tspan class=\"line\" dy=\"0em\" x=\"0\" y=\"0\">397</tspan><tspan class=\"line\" dy=\"1.3em\" x=\"0\" y=\"0\">56%</tspan></text></g><g class=\"point\"><path d=\"M272.65,168V232H302.75V168Z\" style=\"vector-effect: non-scaling-stroke; fill: rgb(239, 85, 59); fill-opacity: 1; stroke: rgb(68, 68, 68); stroke-opacity: 1; stroke-width: 0px; opacity: 1;\"/><text class=\"bartext bartext-outside\" text-anchor=\"middle\" data-notex=\"1\" x=\"0\" y=\"0\" style=\"font-family: 'Open Sans', verdana, arial, sans-serif; font-size: 12px; fill: rgb(42, 63, 95); fill-opacity: 1; white-space: pre;\" transform=\"translate(319.84375,196.6953125)\"><tspan class=\"line\" dy=\"0em\" x=\"0\" y=\"0\">195</tspan><tspan class=\"line\" dy=\"1.3em\" x=\"0\" y=\"0\">28%</tspan></text></g><g class=\"point\"><path d=\"M274.04,248V312H304.6V248Z\" style=\"vector-effect: non-scaling-stroke; fill: rgb(239, 85, 59); fill-opacity: 1; stroke: rgb(68, 68, 68); stroke-opacity: 1; stroke-width: 0px; opacity: 1;\"/><text class=\"bartext bartext-outside\" text-anchor=\"middle\" data-notex=\"1\" x=\"0\" y=\"0\" style=\"font-family: 'Open Sans', verdana, arial, sans-serif; font-size: 12px; fill: rgb(42, 63, 95); fill-opacity: 1; white-space: pre;\" transform=\"translate(321.69375,276.6953125)\"><tspan class=\"line\" dy=\"0em\" x=\"0\" y=\"0\">198</tspan><tspan class=\"line\" dy=\"1.3em\" x=\"0\" y=\"0\">28%</tspan></text></g></g></g></g></g><g class=\"overplot\"/><path class=\"xlines-above crisp\" d=\"M0,0\" style=\"fill: none;\"/><path class=\"ylines-above crisp\" d=\"M0,0\" style=\"fill: none;\"/><g class=\"overlines-above\"/><g class=\"xaxislayer-above\"/><g class=\"yaxislayer-above\"><g class=\"ytick\"><text text-anchor=\"end\" x=\"95\" y=\"4.199999999999999\" transform=\"translate(0,380)\" style=\"font-family: 'Open Sans', verdana, arial, sans-serif; font-size: 12px; fill: rgb(42, 63, 95); fill-opacity: 1; white-space: pre; opacity: 1;\">purchase</text></g><g class=\"ytick\"><text text-anchor=\"end\" x=\"95\" y=\"4.199999999999999\" transform=\"translate(0,300)\" style=\"font-family: 'Open Sans', verdana, arial, sans-serif; font-size: 12px; fill: rgb(42, 63, 95); fill-opacity: 1; white-space: pre; opacity: 1;\">product_cart</text></g><g class=\"ytick\"><text text-anchor=\"end\" x=\"95\" y=\"4.199999999999999\" transform=\"translate(0,220)\" style=\"font-family: 'Open Sans', verdana, arial, sans-serif; font-size: 12px; fill: rgb(42, 63, 95); fill-opacity: 1; white-space: pre; opacity: 1;\">product_page</text></g><g class=\"ytick\"><text text-anchor=\"end\" x=\"95\" y=\"4.199999999999999\" transform=\"translate(0,140)\" style=\"font-family: 'Open Sans', verdana, arial, sans-serif; font-size: 12px; fill: rgb(42, 63, 95); fill-opacity: 1; white-space: pre; opacity: 1;\">login</text></g></g><g class=\"overaxes-above\"/></g></g><g class=\"polarlayer\"/><g class=\"smithlayer\"/><g class=\"ternarylayer\"/><g class=\"geolayer\"/><g class=\"funnelarealayer\"/><g class=\"pielayer\"/><g class=\"iciclelayer\"/><g class=\"treemaplayer\"/><g class=\"sunburstlayer\"/><g class=\"glimages\"/><defs id=\"topdefs-e29d52\"><g class=\"clips\"/><clipPath id=\"legende29d52\"><rect width=\"104\" height=\"48\" x=\"0\" y=\"0\"/></clipPath></defs><g class=\"layer-above\"><g class=\"imagelayer\"/><g class=\"shapelayer\"/></g><g class=\"infolayer\"><g class=\"legend\" pointer-events=\"all\" transform=\"translate(583.56,100)\"><rect class=\"bg\" shape-rendering=\"crispEdges\" style=\"stroke: rgb(68, 68, 68); stroke-opacity: 1; fill: rgb(255, 255, 255); fill-opacity: 1; stroke-width: 0px;\" width=\"104\" height=\"48\" x=\"0\" y=\"0\"/><g class=\"scrollbox\" transform=\"\" clip-path=\"url(#legende29d52)\"><g class=\"groups\"><g class=\"traces\" transform=\"translate(0,14.5)\" style=\"opacity: 1;\"><text class=\"legendtext\" text-anchor=\"start\" x=\"40\" y=\"4.680000000000001\" style=\"font-family: 'Open Sans', verdana, arial, sans-serif; font-size: 12px; fill: rgb(42, 63, 95); fill-opacity: 1; white-space: pre;\">A - group</text><g class=\"layers\" style=\"opacity: 1;\"><g class=\"legendfill\"/><g class=\"legendlines\"/><g class=\"legendsymbols\"><g class=\"legendpoints\"><path class=\"legendfunnel\" d=\"M6,6H-6V-6H6Z\" transform=\"translate(20,0)\" style=\"stroke-width: 0px; fill: rgb(99, 110, 250); fill-opacity: 1;\"/></g></g></g><rect class=\"legendtoggle\" x=\"0\" y=\"-9.5\" width=\"98.578125\" height=\"19\" style=\"fill: rgb(0, 0, 0); fill-opacity: 0;\"/></g><g class=\"traces\" transform=\"translate(0,33.5)\" style=\"opacity: 1;\"><text class=\"legendtext\" text-anchor=\"start\" x=\"40\" y=\"4.680000000000001\" style=\"font-family: 'Open Sans', verdana, arial, sans-serif; font-size: 12px; fill: rgb(42, 63, 95); fill-opacity: 1; white-space: pre;\">B - group</text><g class=\"layers\" style=\"opacity: 1;\"><g class=\"legendfill\"/><g class=\"legendlines\"/><g class=\"legendsymbols\"><g class=\"legendpoints\"><path class=\"legendfunnel\" d=\"M6,6H-6V-6H6Z\" transform=\"translate(20,0)\" style=\"stroke-width: 0px; fill: rgb(239, 85, 59); fill-opacity: 1;\"/></g></g></g><rect class=\"legendtoggle\" x=\"0\" y=\"-9.5\" width=\"98.578125\" height=\"19\" style=\"fill: rgb(0, 0, 0); fill-opacity: 0;\"/></g></g></g><rect class=\"scrollbar\" rx=\"20\" ry=\"3\" width=\"0\" height=\"0\" style=\"fill: rgb(128, 139, 164); fill-opacity: 1;\" x=\"0\" y=\"0\"/></g><g class=\"g-gtitle\"><text class=\"gtitle\" x=\"350\" y=\"50\" text-anchor=\"middle\" dy=\"0.7em\" style=\"font-family: 'Open Sans', verdana, arial, sans-serif; font-size: 17px; fill: rgb(42, 63, 95); opacity: 1; font-weight: normal; white-space: pre;\">Конверсия по группам относительно шага - login</text></g><g class=\"g-ytitle\"/></g></svg>"
      ]
     },
     "metadata": {},
     "output_type": "display_data"
    }
   ],
   "source": [
    "fig = go.Figure()\n",
    "\n",
    "data_a = pd.DataFrame(df_total_2_weeks.query('group == \"A\"').groupby('event_name')['user_id'].nunique()).reindex(['login',\\\n",
    "                                                        'product_page', 'product_cart', 'purchase']).reset_index()\n",
    "data_a.columns = ['event_name_a', 'event_counts_a']\n",
    "fig.add_trace(go.Funnel(\n",
    "    name = 'A - group',\n",
    "    y= data_a['event_name_a'],\n",
    "    x= data_a['event_counts_a'],\n",
    "    textinfo = \"value+percent initial\"))\n",
    "\n",
    "data_b =  pd.DataFrame(df_total_2_weeks.query('group == \"B\"').groupby('event_name')['user_id'].nunique()).reindex(['login',\\\n",
    "                                                        'product_page', 'product_cart', 'purchase']).reset_index()\n",
    "data_b.columns = ['event_name_b', 'event_counts_b']\n",
    "fig.add_trace(go.Funnel(\n",
    "    name = 'B - group',\n",
    "    y= data_b['event_name_b'],\n",
    "    x= data_b['event_counts_b'],\n",
    "    textinfo = \"value+percent initial\"))\n",
    "\n",
    "fig.update_layout(\n",
    "    title={\n",
    "        'text': \"Конверсия по группам относительно шага - login\",\n",
    "        'y':0.9,\n",
    "        'x':0.5,\n",
    "        'xanchor': 'center',\n",
    "        'yanchor': 'top'})\n",
    "\n",
    "fig.show('svg')"
   ]
  },
  {
   "cell_type": "markdown",
   "id": "74db3923",
   "metadata": {},
   "source": [
    "Выведем цифры конверсии из login в другой шаг в датафрейм, чтобы посчитать относительный прирост"
   ]
  },
  {
   "cell_type": "code",
   "execution_count": 41,
   "id": "5c984390",
   "metadata": {},
   "outputs": [
    {
     "data": {
      "text/html": [
       "<div>\n",
       "<style scoped>\n",
       "    .dataframe tbody tr th:only-of-type {\n",
       "        vertical-align: middle;\n",
       "    }\n",
       "\n",
       "    .dataframe tbody tr th {\n",
       "        vertical-align: top;\n",
       "    }\n",
       "\n",
       "    .dataframe thead th {\n",
       "        text-align: right;\n",
       "    }\n",
       "</style>\n",
       "<table border=\"1\" class=\"dataframe\">\n",
       "  <thead>\n",
       "    <tr style=\"text-align: right;\">\n",
       "      <th></th>\n",
       "      <th>event_counts_a</th>\n",
       "      <th>event_counts_b</th>\n",
       "      <th>conversions_a</th>\n",
       "      <th>conversions_b</th>\n",
       "    </tr>\n",
       "  </thead>\n",
       "  <tbody>\n",
       "    <tr>\n",
       "      <th>0</th>\n",
       "      <td>2082</td>\n",
       "      <td>705</td>\n",
       "      <td>1.000000</td>\n",
       "      <td>1.000000</td>\n",
       "    </tr>\n",
       "    <tr>\n",
       "      <th>1</th>\n",
       "      <td>1360</td>\n",
       "      <td>397</td>\n",
       "      <td>0.653218</td>\n",
       "      <td>0.563121</td>\n",
       "    </tr>\n",
       "    <tr>\n",
       "      <th>2</th>\n",
       "      <td>631</td>\n",
       "      <td>195</td>\n",
       "      <td>0.303074</td>\n",
       "      <td>0.276596</td>\n",
       "    </tr>\n",
       "    <tr>\n",
       "      <th>3</th>\n",
       "      <td>652</td>\n",
       "      <td>198</td>\n",
       "      <td>0.313160</td>\n",
       "      <td>0.280851</td>\n",
       "    </tr>\n",
       "  </tbody>\n",
       "</table>\n",
       "</div>"
      ],
      "text/plain": [
       "   event_counts_a  event_counts_b  conversions_a  conversions_b\n",
       "0            2082             705       1.000000       1.000000\n",
       "1            1360             397       0.653218       0.563121\n",
       "2             631             195       0.303074       0.276596\n",
       "3             652             198       0.313160       0.280851"
      ]
     },
     "execution_count": 41,
     "metadata": {},
     "output_type": "execute_result"
    }
   ],
   "source": [
    "conv = data_a.merge(data_b, left_on = 'event_name_a', right_on='event_name_b')[['event_counts_a', 'event_counts_b']]\n",
    "conv['conversions_a'] = conv['event_counts_a'].div(conv['event_counts_a'][0])\n",
    "conv['conversions_b'] = conv['event_counts_b'].div(conv['event_counts_b'][0])\n",
    "conv"
   ]
  },
  {
   "cell_type": "code",
   "execution_count": 42,
   "id": "e32dad26",
   "metadata": {},
   "outputs": [
    {
     "data": {
      "text/plain": [
       "0     0.000000\n",
       "1   -13.792866\n",
       "2    -8.736555\n",
       "3   -10.317191\n",
       "dtype: float64"
      ]
     },
     "execution_count": 42,
     "metadata": {},
     "output_type": "execute_result"
    }
   ],
   "source": [
    "(conv['conversions_b'] - conv['conversions_a']) *100/ conv['conversions_a']"
   ]
  },
  {
   "cell_type": "markdown",
   "id": "20a7240d",
   "metadata": {},
   "source": [
    "Видим везде отрицательный прирост метрик - группа B показывает плохие результаты по сравнению с группой A"
   ]
  },
  {
   "cell_type": "markdown",
   "id": "b38ef02d",
   "metadata": {},
   "source": [
    "\n",
    "## EDA. Ответим на вопросы:\n",
    "\n",
    "### - Количество событий на пользователя одинаково распределены в выборках?\n",
    "\n",
    "\n"
   ]
  },
  {
   "cell_type": "code",
   "execution_count": 43,
   "id": "bb869610",
   "metadata": {},
   "outputs": [
    {
     "name": "stdout",
     "output_type": "stream",
     "text": [
      "До фильтрации событий по двум неделям:\n",
      "\n",
      "Доля известных событий среди всех для группы A = \n",
      "0.947229721043836\n",
      "Доля известных событий среди всех для группы B = \n",
      "0.7318697138743927\n"
     ]
    }
   ],
   "source": [
    "print(\"До фильтрации событий по двум неделям:\\n\")\n",
    "\n",
    "df_total_a = df_total.query('group == \"A\"')\n",
    "print(\"Доля известных событий среди всех для группы A = \")\n",
    "print(len(df_total_a[~(df_total_a['event_name'].isna())]) / len(df_total_a))\n",
    "df_total_b = df_total.query('group == \"B\"')\n",
    "print(\"Доля известных событий среди всех для группы B = \")\n",
    "print(len(df_total_b[~(df_total_b['event_name'].isna())]) / len(df_total_b))"
   ]
  },
  {
   "cell_type": "code",
   "execution_count": 44,
   "id": "e76e150d",
   "metadata": {},
   "outputs": [],
   "source": [
    "df_total_a_2 = df_total_2_weeks.query('group == \"A\"')\n",
    "df_total_b_2 = df_total_2_weeks.query('group == \"B\"')"
   ]
  },
  {
   "cell_type": "code",
   "execution_count": 45,
   "id": "154e5864",
   "metadata": {},
   "outputs": [],
   "source": [
    "# посчитаем число событий на каждого пользователя\n",
    "events_count_a_2 = pd.DataFrame(df_total_a_2.groupby('user_id')['event_name'].count()).reset_index()\n",
    "events_count_b_2 = pd.DataFrame(df_total_b_2.groupby('user_id')['event_name'].count()).reset_index()\n"
   ]
  },
  {
   "cell_type": "code",
   "execution_count": 46,
   "id": "27b03c4b",
   "metadata": {},
   "outputs": [
    {
     "data": {
      "image/png": "[encoded data removed]",
      "text/plain": [
       "<Figure size 1080x360 with 1 Axes>"
      ]
     },
     "metadata": {
      "needs_background": "light"
     },
     "output_type": "display_data"
    }
   ],
   "source": [
    "plt.figure(figsize=(15, 5))\n",
    "sns.histplot(data = events_count_a_2['event_name'], color =  'red', alpha = 0.7)\n",
    "sns.histplot(data = events_count_b_2['event_name'],  color = 'green', alpha = 0.2)\n",
    "plt.legend(['A', 'B'])\n",
    "plt.title(\"Распределение числа событий на пользователя для двух групп\")\n",
    "plt.show()"
   ]
  },
  {
   "cell_type": "markdown",
   "id": "3b3c3b9a",
   "metadata": {},
   "source": [
    "В группе A у нас в целом больше пользователй, сами формы распределений похожи друг на друга."
   ]
  },
  {
   "cell_type": "code",
   "execution_count": null,
   "id": "60ea3173",
   "metadata": {},
   "outputs": [],
   "source": []
  },
  {
   "cell_type": "markdown",
   "id": "1a365b68",
   "metadata": {},
   "source": [
    "\n",
    "### - Как число событий в выборках распределено по дням?\n",
    "\n",
    "\n",
    "Посчитаем для каждого дня число каждого события"
   ]
  },
  {
   "cell_type": "code",
   "execution_count": 47,
   "id": "ec408291",
   "metadata": {},
   "outputs": [
    {
     "data": {
      "text/html": [
       "<div>\n",
       "<style scoped>\n",
       "    .dataframe tbody tr th:only-of-type {\n",
       "        vertical-align: middle;\n",
       "    }\n",
       "\n",
       "    .dataframe tbody tr th {\n",
       "        vertical-align: top;\n",
       "    }\n",
       "\n",
       "    .dataframe thead th {\n",
       "        text-align: right;\n",
       "    }\n",
       "</style>\n",
       "<table border=\"1\" class=\"dataframe\">\n",
       "  <thead>\n",
       "    <tr style=\"text-align: right;\">\n",
       "      <th></th>\n",
       "      <th>event_date</th>\n",
       "      <th>event_name</th>\n",
       "      <th>count</th>\n",
       "    </tr>\n",
       "  </thead>\n",
       "  <tbody>\n",
       "    <tr>\n",
       "      <th>0</th>\n",
       "      <td>2020-12-07</td>\n",
       "      <td>login</td>\n",
       "      <td>124</td>\n",
       "    </tr>\n",
       "    <tr>\n",
       "      <th>1</th>\n",
       "      <td>2020-12-07</td>\n",
       "      <td>product_cart</td>\n",
       "      <td>36</td>\n",
       "    </tr>\n",
       "    <tr>\n",
       "      <th>2</th>\n",
       "      <td>2020-12-07</td>\n",
       "      <td>product_page</td>\n",
       "      <td>83</td>\n",
       "    </tr>\n",
       "    <tr>\n",
       "      <th>3</th>\n",
       "      <td>2020-12-07</td>\n",
       "      <td>purchase</td>\n",
       "      <td>47</td>\n",
       "    </tr>\n",
       "    <tr>\n",
       "      <th>4</th>\n",
       "      <td>2020-12-08</td>\n",
       "      <td>login</td>\n",
       "      <td>87</td>\n",
       "    </tr>\n",
       "    <tr>\n",
       "      <th>...</th>\n",
       "      <td>...</td>\n",
       "      <td>...</td>\n",
       "      <td>...</td>\n",
       "    </tr>\n",
       "    <tr>\n",
       "      <th>87</th>\n",
       "      <td>2020-12-28</td>\n",
       "      <td>purchase</td>\n",
       "      <td>3</td>\n",
       "    </tr>\n",
       "    <tr>\n",
       "      <th>88</th>\n",
       "      <td>2020-12-29</td>\n",
       "      <td>login</td>\n",
       "      <td>18</td>\n",
       "    </tr>\n",
       "    <tr>\n",
       "      <th>89</th>\n",
       "      <td>2020-12-29</td>\n",
       "      <td>product_cart</td>\n",
       "      <td>2</td>\n",
       "    </tr>\n",
       "    <tr>\n",
       "      <th>90</th>\n",
       "      <td>2020-12-29</td>\n",
       "      <td>product_page</td>\n",
       "      <td>8</td>\n",
       "    </tr>\n",
       "    <tr>\n",
       "      <th>91</th>\n",
       "      <td>2020-12-29</td>\n",
       "      <td>purchase</td>\n",
       "      <td>5</td>\n",
       "    </tr>\n",
       "  </tbody>\n",
       "</table>\n",
       "<p>92 rows × 3 columns</p>\n",
       "</div>"
      ],
      "text/plain": [
       "    event_date    event_name  count\n",
       "0   2020-12-07         login    124\n",
       "1   2020-12-07  product_cart     36\n",
       "2   2020-12-07  product_page     83\n",
       "3   2020-12-07      purchase     47\n",
       "4   2020-12-08         login     87\n",
       "..         ...           ...    ...\n",
       "87  2020-12-28      purchase      3\n",
       "88  2020-12-29         login     18\n",
       "89  2020-12-29  product_cart      2\n",
       "90  2020-12-29  product_page      8\n",
       "91  2020-12-29      purchase      5\n",
       "\n",
       "[92 rows x 3 columns]"
      ]
     },
     "execution_count": 47,
     "metadata": {},
     "output_type": "execute_result"
    }
   ],
   "source": [
    "event_date_count_a = df_total_a_2.groupby(['event_date', 'event_name']).size().reset_index()\n",
    "event_date_count_a.columns = ['event_date', 'event_name', 'count']\n",
    "\n",
    "event_date_count_b = df_total_b_2.groupby(['event_date', 'event_name']).size().reset_index()\n",
    "event_date_count_b.columns = ['event_date', 'event_name', 'count']\n",
    "event_date_count_b"
   ]
  },
  {
   "cell_type": "markdown",
   "id": "897815cd",
   "metadata": {},
   "source": [
    "Посмотрим на динамику событий в разрезе по названию события для каждой группы, отметим начало и конец  маркетингового события, которое попадает в наш временной промежуток"
   ]
  },
  {
   "cell_type": "code",
   "execution_count": 48,
   "id": "4f834709",
   "metadata": {
    "scrolled": false
   },
   "outputs": [
    {
     "data": {
      "image/svg+xml": [
       "<svg class=\"main-svg\" xmlns=\"http://www.w3.org/2000/svg\" xmlns:xlink=\"http://www.w3.org/1999/xlink\" width=\"700\" height=\"500\" style=\"\" viewBox=\"0 0 700 500\"><rect x=\"0\" y=\"0\" width=\"700\" height=\"500\" style=\"fill: rgb(255, 255, 255); fill-opacity: 1;\"/><defs id=\"defs-56442a\"><g class=\"clips\"><clipPath id=\"clip56442axyplot\" class=\"plotclip\"><rect width=\"478\" height=\"320\"/></clipPath><clipPath class=\"axesclip\" id=\"clip56442ax\"><rect x=\"96\" y=\"0\" width=\"478\" height=\"500\"/></clipPath><clipPath class=\"axesclip\" id=\"clip56442ay\"><rect x=\"0\" y=\"100\" width=\"700\" height=\"320\"/></clipPath><clipPath class=\"axesclip\" id=\"clip56442axy\"><rect x=\"96\" y=\"100\" width=\"478\" height=\"320\"/></clipPath></g><g class=\"gradients\"/><g class=\"patterns\"/></defs><g class=\"bglayer\"><rect class=\"bg\" x=\"96\" y=\"100\" width=\"478\" height=\"320\" style=\"fill: rgb(229, 236, 246); fill-opacity: 1; stroke-width: 0;\"/></g><g class=\"layer-below\"><g class=\"imagelayer\"/><g class=\"shapelayer\"/></g><g class=\"cartesianlayer\"><g class=\"subplot xy\"><g class=\"layer-subplot\"><g class=\"shapelayer\"/><g class=\"imagelayer\"/></g><g class=\"minor-gridlayer\"><g class=\"x\"/><g class=\"y\"/></g><g class=\"gridlayer\"><g class=\"x\"/><g class=\"y\"/></g><g class=\"zerolinelayer\"/><path class=\"xlines-below\"/><path class=\"ylines-below\"/><g class=\"overlines-below\"/><g class=\"xaxislayer-below\"/><g class=\"yaxislayer-below\"/><g class=\"overaxes-below\"/><g class=\"plot\" transform=\"translate(96,100)\" clip-path=\"url(#clip56442axyplot)\"><g class=\"funnellayer mlayer\"><g class=\"trace bars\" style=\"opacity: 1;\"><g class=\"regions\"><g class=\"region\"><path d=\"M23.9,72L103.4,88H313.32L345.28,72Z\" style=\"stroke-width: 0; fill: rgb(99, 110, 250); fill-opacity: 0.5;\"/></g><g class=\"region\"><path d=\"M103.4,152L175.25,168H272.65L313.32,152Z\" style=\"stroke-width: 0; fill: rgb(99, 110, 250); fill-opacity: 0.5;\"/></g><g class=\"region\"><path d=\"M175.25,232L173.4,248H274.04L272.65,232Z\" style=\"stroke-width: 0; fill: rgb(99, 110, 250); fill-opacity: 0.5;\"/></g><g class=\"region\"><path d=\"M0,0Z\" style=\"stroke-width: 0; fill: rgb(99, 110, 250); fill-opacity: 0.5;\"/></g></g><g class=\"points\"><g class=\"point\"><path d=\"M23.9,8V72H345.28V8Z\" style=\"vector-effect: non-scaling-stroke; fill: rgb(99, 110, 250); fill-opacity: 1; stroke: rgb(68, 68, 68); stroke-opacity: 1; stroke-width: 0px; opacity: 1;\"/><text class=\"bartext bartext-inside\" text-anchor=\"middle\" data-notex=\"1\" x=\"0\" y=\"0\" style=\"font-family: 'Open Sans', verdana, arial, sans-serif; font-size: 12px; fill: rgb(255, 255, 255); fill-opacity: 1; white-space: pre;\" transform=\"translate(184.54312499999997,36.6953125)\"><tspan class=\"line\" dy=\"0em\" x=\"0\" y=\"0\">2082</tspan><tspan class=\"line\" dy=\"1.3em\" x=\"0\" y=\"0\">100%</tspan></text></g><g class=\"point\"><path d=\"M103.4,88V152H313.32V88Z\" style=\"vector-effect: non-scaling-stroke; fill: rgb(99, 110, 250); fill-opacity: 1; stroke: rgb(68, 68, 68); stroke-opacity: 1; stroke-width: 0px; opacity: 1;\"/><text class=\"bartext bartext-inside\" text-anchor=\"middle\" data-notex=\"1\" x=\"0\" y=\"0\" style=\"font-family: 'Open Sans', verdana, arial, sans-serif; font-size: 12px; fill: rgb(255, 255, 255); fill-opacity: 1; white-space: pre;\" transform=\"translate(208.1725,116.6953125)\"><tspan class=\"line\" dy=\"0em\" x=\"0\" y=\"0\">1360</tspan><tspan class=\"line\" dy=\"1.3em\" x=\"0\" y=\"0\">65%</tspan></text></g><g class=\"point\"><path d=\"M175.25,168V232H272.65V168Z\" style=\"vector-effect: non-scaling-stroke; fill: rgb(99, 110, 250); fill-opacity: 1; stroke: rgb(68, 68, 68); stroke-opacity: 1; stroke-width: 0px; opacity: 1;\"/><text class=\"bartext bartext-inside\" text-anchor=\"middle\" data-notex=\"1\" x=\"0\" y=\"0\" style=\"font-family: 'Open Sans', verdana, arial, sans-serif; font-size: 12px; fill: rgb(255, 255, 255); fill-opacity: 1; white-space: pre;\" transform=\"translate(223.9109375,196.6953125)\"><tspan class=\"line\" dy=\"0em\" x=\"0\" y=\"0\">631</tspan><tspan class=\"line\" dy=\"1.3em\" x=\"0\" y=\"0\">30%</tspan></text></g><g class=\"point\"><path d=\"M173.4,248V312H274.04V248Z\" style=\"vector-effect: non-scaling-stroke; fill: rgb(99, 110, 250); fill-opacity: 1; stroke: rgb(68, 68, 68); stroke-opacity: 1; stroke-width: 0px; opacity: 1;\"/><text class=\"bartext bartext-inside\" text-anchor=\"middle\" data-notex=\"1\" x=\"0\" y=\"0\" style=\"font-family: 'Open Sans', verdana, arial, sans-serif; font-size: 12px; fill: rgb(255, 255, 255); fill-opacity: 1; white-space: pre;\" transform=\"translate(223.68093750000003,276.6953125)\"><tspan class=\"line\" dy=\"0em\" x=\"0\" y=\"0\">652</tspan><tspan class=\"line\" dy=\"1.3em\" x=\"0\" y=\"0\">31%</tspan></text></g></g></g><g class=\"trace bars\" style=\"opacity: 1;\"><g class=\"regions\"><g class=\"region\"><path d=\"M345.28,72L313.32,88H374.6L454.1,72Z\" style=\"stroke-width: 0; fill: rgb(239, 85, 59); fill-opacity: 0.5;\"/></g><g class=\"region\"><path d=\"M313.32,152L272.65,168H302.75L374.6,152Z\" style=\"stroke-width: 0; fill: rgb(239, 85, 59); fill-opacity: 0.5;\"/></g><g class=\"region\"><path d=\"M272.65,232L274.04,248H304.6L302.75,232Z\" style=\"stroke-width: 0; fill: rgb(239, 85, 59); fill-opacity: 0.5;\"/></g><g class=\"region\"><path d=\"M0,0Z\" style=\"stroke-width: 0; fill: rgb(239, 85, 59); fill-opacity: 0.5;\"/></g></g><g class=\"points\"><g class=\"point\"><path d=\"M345.28,8V72H454.1V8Z\" style=\"vector-effect: non-scaling-stroke; fill: rgb(239, 85, 59); fill-opacity: 1; stroke: rgb(68, 68, 68); stroke-opacity: 1; stroke-width: 0px; opacity: 1;\"/><text class=\"bartext bartext-inside\" text-anchor=\"middle\" data-notex=\"1\" x=\"0\" y=\"0\" style=\"font-family: 'Open Sans', verdana, arial, sans-serif; font-size: 12px; fill: rgb(68, 68, 68); fill-opacity: 1; white-space: pre;\" transform=\"translate(399.643125,36.6953125)\"><tspan class=\"line\" dy=\"0em\" x=\"0\" y=\"0\">705</tspan><tspan class=\"line\" dy=\"1.3em\" x=\"0\" y=\"0\">100%</tspan></text></g><g class=\"point\"><path d=\"M313.32,88V152H374.6V88Z\" style=\"vector-effect: non-scaling-stroke; fill: rgb(239, 85, 59); fill-opacity: 1; stroke: rgb(68, 68, 68); stroke-opacity: 1; stroke-width: 0px; opacity: 1;\"/><text class=\"bartext bartext-inside\" text-anchor=\"middle\" data-notex=\"1\" x=\"0\" y=\"0\" style=\"font-family: 'Open Sans', verdana, arial, sans-serif; font-size: 12px; fill: rgb(68, 68, 68); fill-opacity: 1; white-space: pre;\" transform=\"translate(343.92093750000004,116.6953125)\"><tspan class=\"line\" dy=\"0em\" x=\"0\" y=\"0\">397</tspan><tspan class=\"line\" dy=\"1.3em\" x=\"0\" y=\"0\">56%</tspan></text></g><g class=\"point\"><path d=\"M272.65,168V232H302.75V168Z\" style=\"vector-effect: non-scaling-stroke; fill: rgb(239, 85, 59); fill-opacity: 1; stroke: rgb(68, 68, 68); stroke-opacity: 1; stroke-width: 0px; opacity: 1;\"/><text class=\"bartext bartext-outside\" text-anchor=\"middle\" data-notex=\"1\" x=\"0\" y=\"0\" style=\"font-family: 'Open Sans', verdana, arial, sans-serif; font-size: 12px; fill: rgb(42, 63, 95); fill-opacity: 1; white-space: pre;\" transform=\"translate(319.84375,196.6953125)\"><tspan class=\"line\" dy=\"0em\" x=\"0\" y=\"0\">195</tspan><tspan class=\"line\" dy=\"1.3em\" x=\"0\" y=\"0\">28%</tspan></text></g><g class=\"point\"><path d=\"M274.04,248V312H304.6V248Z\" style=\"vector-effect: non-scaling-stroke; fill: rgb(239, 85, 59); fill-opacity: 1; stroke: rgb(68, 68, 68); stroke-opacity: 1; stroke-width: 0px; opacity: 1;\"/><text class=\"bartext bartext-outside\" text-anchor=\"middle\" data-notex=\"1\" x=\"0\" y=\"0\" style=\"font-family: 'Open Sans', verdana, arial, sans-serif; font-size: 12px; fill: rgb(42, 63, 95); fill-opacity: 1; white-space: pre;\" transform=\"translate(321.69375,276.6953125)\"><tspan class=\"line\" dy=\"0em\" x=\"0\" y=\"0\">198</tspan><tspan class=\"line\" dy=\"1.3em\" x=\"0\" y=\"0\">28%</tspan></text></g></g></g></g></g><g class=\"overplot\"/><path class=\"xlines-above crisp\" d=\"M0,0\" style=\"fill: none;\"/><path class=\"ylines-above crisp\" d=\"M0,0\" style=\"fill: none;\"/><g class=\"overlines-above\"/><g class=\"xaxislayer-above\"/><g class=\"yaxislayer-above\"><g class=\"ytick\"><text text-anchor=\"end\" x=\"95\" y=\"4.199999999999999\" transform=\"translate(0,380)\" style=\"font-family: 'Open Sans', verdana, arial, sans-serif; font-size: 12px; fill: rgb(42, 63, 95); fill-opacity: 1; white-space: pre; opacity: 1;\">purchase</text></g><g class=\"ytick\"><text text-anchor=\"end\" x=\"95\" y=\"4.199999999999999\" transform=\"translate(0,300)\" style=\"font-family: 'Open Sans', verdana, arial, sans-serif; font-size: 12px; fill: rgb(42, 63, 95); fill-opacity: 1; white-space: pre; opacity: 1;\">product_cart</text></g><g class=\"ytick\"><text text-anchor=\"end\" x=\"95\" y=\"4.199999999999999\" transform=\"translate(0,220)\" style=\"font-family: 'Open Sans', verdana, arial, sans-serif; font-size: 12px; fill: rgb(42, 63, 95); fill-opacity: 1; white-space: pre; opacity: 1;\">product_page</text></g><g class=\"ytick\"><text text-anchor=\"end\" x=\"95\" y=\"4.199999999999999\" transform=\"translate(0,140)\" style=\"font-family: 'Open Sans', verdana, arial, sans-serif; font-size: 12px; fill: rgb(42, 63, 95); fill-opacity: 1; white-space: pre; opacity: 1;\">login</text></g></g><g class=\"overaxes-above\"/></g></g><g class=\"polarlayer\"/><g class=\"smithlayer\"/><g class=\"ternarylayer\"/><g class=\"geolayer\"/><g class=\"funnelarealayer\"/><g class=\"pielayer\"/><g class=\"iciclelayer\"/><g class=\"treemaplayer\"/><g class=\"sunburstlayer\"/><g class=\"glimages\"/><defs id=\"topdefs-56442a\"><g class=\"clips\"/><clipPath id=\"legend56442a\"><rect width=\"104\" height=\"48\" x=\"0\" y=\"0\"/></clipPath></defs><g class=\"layer-above\"><g class=\"imagelayer\"/><g class=\"shapelayer\"/></g><g class=\"infolayer\"><g class=\"legend\" pointer-events=\"all\" transform=\"translate(583.56,100)\"><rect class=\"bg\" shape-rendering=\"crispEdges\" width=\"104\" height=\"48\" x=\"0\" y=\"0\" style=\"stroke: rgb(68, 68, 68); stroke-opacity: 1; fill: rgb(255, 255, 255); fill-opacity: 1; stroke-width: 0px;\"/><g class=\"scrollbox\" transform=\"\" clip-path=\"url(#legend56442a)\"><g class=\"groups\"><g class=\"traces\" transform=\"translate(0,14.5)\" style=\"opacity: 1;\"><text class=\"legendtext\" text-anchor=\"start\" x=\"40\" y=\"4.680000000000001\" style=\"font-family: 'Open Sans', verdana, arial, sans-serif; font-size: 12px; fill: rgb(42, 63, 95); fill-opacity: 1; white-space: pre;\">A - group</text><g class=\"layers\" style=\"opacity: 1;\"><g class=\"legendfill\"/><g class=\"legendlines\"/><g class=\"legendsymbols\"><g class=\"legendpoints\"><path class=\"legendfunnel\" d=\"M6,6H-6V-6H6Z\" transform=\"translate(20,0)\" style=\"stroke-width: 0px; fill: rgb(99, 110, 250); fill-opacity: 1;\"/></g></g></g><rect class=\"legendtoggle\" x=\"0\" y=\"-9.5\" width=\"98.578125\" height=\"19\" style=\"fill: rgb(0, 0, 0); fill-opacity: 0;\"/></g><g class=\"traces\" transform=\"translate(0,33.5)\" style=\"opacity: 1;\"><text class=\"legendtext\" text-anchor=\"start\" x=\"40\" y=\"4.680000000000001\" style=\"font-family: 'Open Sans', verdana, arial, sans-serif; font-size: 12px; fill: rgb(42, 63, 95); fill-opacity: 1; white-space: pre;\">B - group</text><g class=\"layers\" style=\"opacity: 1;\"><g class=\"legendfill\"/><g class=\"legendlines\"/><g class=\"legendsymbols\"><g class=\"legendpoints\"><path class=\"legendfunnel\" d=\"M6,6H-6V-6H6Z\" transform=\"translate(20,0)\" style=\"stroke-width: 0px; fill: rgb(239, 85, 59); fill-opacity: 1;\"/></g></g></g><rect class=\"legendtoggle\" x=\"0\" y=\"-9.5\" width=\"98.578125\" height=\"19\" style=\"fill: rgb(0, 0, 0); fill-opacity: 0;\"/></g></g></g><rect class=\"scrollbar\" rx=\"20\" ry=\"3\" width=\"0\" height=\"0\" x=\"0\" y=\"0\" style=\"fill: rgb(128, 139, 164); fill-opacity: 1;\"/></g><g class=\"g-gtitle\"><text class=\"gtitle\" x=\"350\" y=\"50\" text-anchor=\"middle\" dy=\"0.7em\" style=\"font-family: 'Open Sans', verdana, arial, sans-serif; font-size: 17px; fill: rgb(42, 63, 95); opacity: 1; font-weight: normal; white-space: pre;\">Конверсия по группам относительно шага - login</text></g><g class=\"g-ytitle\"/></g></svg>"
      ]
     },
     "metadata": {},
     "output_type": "display_data"
    },
    {
     "data": {
      "image/png": "[encoded data removed]",
      "text/plain": [
       "<Figure size 1440x576 with 1 Axes>"
      ]
     },
     "metadata": {
      "needs_background": "light"
     },
     "output_type": "display_data"
    }
   ],
   "source": [
    "plt.figure(figsize=(20, 8))\n",
    "\n",
    "sns.lineplot(data=event_date_count_a, x='event_date', y='count', hue='event_name', palette=\"flare\" )\n",
    "sns.lineplot(data=event_date_count_b, x='event_date', y='count', hue='event_name', palette=\"crest\" )\n",
    "# Добавим маркетинговые события\n",
    "plt.axvline(x = df_mark_events_need.query('name == \"Christmas&New Year Promo\"')['start_dt'], color = 'black', \\\n",
    "            ls = '--', label = 'Начало события Christmas&New Year Promo')\n",
    "plt.axvline(x = df_mark_events_need.query('name == \"Christmas&New Year Promo\"')['finish_dt'], color = 'black', \\\n",
    "            ls = '--', label = 'Конец события Christmas&New Year Promo')\n",
    "\n",
    "\n",
    "\n",
    "\n",
    "plt.legend()\n",
    "plt.title('Динамика числа событий в выборках по дням')\n",
    "\n",
    "fig.show('svg')"
   ]
  },
  {
   "cell_type": "markdown",
   "id": "9b3fb75a",
   "metadata": {},
   "source": [
    "Видим что динамика числа событий по дням сохраняется в двух группах.\n",
    "\n",
    "У нас резко прекратились события после 29 декабря 2020 года."
   ]
  },
  {
   "cell_type": "code",
   "execution_count": 49,
   "id": "95c67b77",
   "metadata": {
    "scrolled": true
   },
   "outputs": [
    {
     "data": {
      "text/plain": [
       "datetime.date(2020, 12, 29)"
      ]
     },
     "execution_count": 49,
     "metadata": {},
     "output_type": "execute_result"
    }
   ],
   "source": [
    "event_date_count_b['event_date'].max()"
   ]
  },
  {
   "cell_type": "markdown",
   "id": "72d60849",
   "metadata": {},
   "source": [
    "Максимальная дата для событий - 29 декабря, по нашему замыслу пользователь должен был совершать действия 2 недели.(остановили набор новых пользователей 1 дек - действия должны быть до 4 янв)\n",
    "\n",
    "Но только для пользователей, которые зарегестрировались 15 декабря (или раньше) мы имеем 2-х недельные действия."
   ]
  },
  {
   "cell_type": "code",
   "execution_count": null,
   "id": "841e3f2a",
   "metadata": {},
   "outputs": [],
   "source": []
  },
  {
   "cell_type": "markdown",
   "id": "5c6d26a8",
   "metadata": {},
   "source": [
    "### - Как меняется конверсия в воронке в выборках на разных этапах?\n",
    "\n"
   ]
  },
  {
   "cell_type": "markdown",
   "id": "1e28e9b9",
   "metadata": {},
   "source": [
    "Мы уже смотрели воронку в шаге *1.3.8  Проверим ожидаемый эффект для каждой метрики*\n",
    "\n",
    "Группа B показала везде худшую конверсию "
   ]
  },
  {
   "cell_type": "markdown",
   "id": "3d02c525",
   "metadata": {},
   "source": [
    "### - Какие особенности данных нужно учесть, прежде чем приступать к A/B-тестированию?\n",
    "\n",
    "Перед проведением A-B теста нужно правильно разделить пользователей на выборки и провести A-A тест для понимания правильно ли у нас вообще делятся пользователи. Также для уменьшения дисперсии оценок средних (или других статистик) лучше брать стратифицированные выборки. Число пользователей в 2х выборках должно быть примерно одинаковым и они не пересекаются.\n",
    "\n"
   ]
  },
  {
   "cell_type": "markdown",
   "id": "07f8cddc",
   "metadata": {},
   "source": [
    "## Результаты A-B теста\n",
    "\n"
   ]
  },
  {
   "cell_type": "markdown",
   "id": "15d5eac1",
   "metadata": {},
   "source": [
    "### - Что можно сказать про результаты A/В-тестирования?"
   ]
  },
  {
   "cell_type": "markdown",
   "id": "dfe83a3b",
   "metadata": {},
   "source": [
    "Группа B показала большую конверсию только на шаге \"конверсия в product_cart\" ( прирост метрики = 9% ). По остальным метрикам только ухудшение"
   ]
  },
  {
   "attachments": {
    "image.png": {
     "image/png": "[encoded data removed]"
    }
   },
   "cell_type": "markdown",
   "id": "127150ad",
   "metadata": {},
   "source": [
    "\n",
    "### - Проверим статистическую разницу долей z-критерием для  конверсий.\n",
    "\n",
    "Будем использовать Z-test\n",
    "\n",
    "![image.png](attachment:image.png)\n",
    "\n",
    "В формуле n₁ и n₂ — размеры двух сравниваемых выборок, то есть количества наблюдений в них; P₁, P₂ — пропорции, наблюдаемые в выборках; P — пропорция в выборке, скомбинированной из двух наблюдаемых; π₁, π₂ — настоящие пропорции в сравниваемых генеральных совокупностях.\n",
    "\n",
    "\n",
    "https://baguzin.ru/wp/proverka-gipotez-dvuhvyborochnye-kri/\n",
    "\n",
    "\n",
    "\n",
    "Нам нужно посчитать для двух групп:\n",
    "\n",
    "* долю пользователей, провалившихся из login в product_page\n",
    "\n",
    "* долю пользователей, провалившихся из login в product_cart\n",
    "\n",
    "* долю пользователей, провалившихся из login в purchase\n",
    "\n"
   ]
  },
  {
   "cell_type": "markdown",
   "id": "17e95b31",
   "metadata": {},
   "source": [
    "**Считаем Z критерий для первой конверсии**\n",
    "\n",
    "H_0: значимых различий нет\n",
    "\n",
    "H_1: конверсия из 'login' в  'product_page' группы A значимо отличается от конверсии группы B"
   ]
  },
  {
   "cell_type": "code",
   "execution_count": 50,
   "id": "1e4cc163",
   "metadata": {},
   "outputs": [
    {
     "name": "stdout",
     "output_type": "stream",
     "text": [
      "Z - value =  4.283626682686839\n",
      "p-значение:  1.8387132766806147e-05\n",
      "Отвергаем нулевую гипотезу: между долями есть значимая разница\n"
     ]
    },
    {
     "data": {
      "text/plain": [
       "4.283626682686839"
      ]
     },
     "execution_count": 50,
     "metadata": {},
     "output_type": "execute_result"
    }
   ],
   "source": [
    "# функция для подсчёта z значения\n",
    "def get_z_value(group_a, group_b, from_state, to_state):\n",
    "\n",
    "    # подсчёт по уникальным пользователям\n",
    "    n1 = group_a[group_a['event_name'] == from_state]['user_id'].nunique()\n",
    "    p1 = group_a[group_a['event_name'] == to_state]['user_id'].nunique()/ n1\n",
    "\n",
    "    n2 = group_b[group_b['event_name'] == from_state]['user_id'].nunique()\n",
    "    p2 = group_b[group_b['event_name'] == to_state]['user_id'].nunique() / n2\n",
    "    \n",
    "    group_ab = pd.concat([group_a, group_b])\n",
    "    p = group_ab[group_ab['event_name'] == to_state]['user_id'].nunique() / \\\n",
    "                        group_ab[group_ab['event_name'] == from_state]['user_id'].nunique()\n",
    "    \n",
    "    z = (p1 - p2) / (np.sqrt(p * (1-p) * ( (1 / n1) + ( 1 / n2) )))\n",
    "    print(\"Z - value = \", z)\n",
    "    distr = stats.norm(0, 1) \n",
    "    p_value = (1 - distr.cdf(abs(z))) * 2\n",
    "    print('p-значение: ', p_value)\n",
    "    alpha = 0.05\n",
    "    if p_value < alpha:\n",
    "        print('Отвергаем нулевую гипотезу: между долями есть значимая разница')\n",
    "    else:\n",
    "        print(\n",
    "            'Не получилось отвергнуть нулевую гипотезу, нет оснований считать доли разными'\n",
    "        )\n",
    "    return z\n",
    "\n",
    "\n",
    "\n",
    "get_z_value(df_total_a_2, df_total_b_2, from_state = 'login', to_state = 'product_page')"
   ]
  },
  {
   "cell_type": "markdown",
   "id": "dbeccb86",
   "metadata": {},
   "source": [
    "получили z-value больше 0, значит конверсия группы A значимо больше конверсии группы B ( конверсия из логирования в просмотр страницы)\n",
    "\n",
    "\n",
    "**Считаем Z критерий для второй конверсии**\n",
    "\n",
    "\n",
    "H_0:  значимых различий нет\n",
    "\n",
    "H_1:  конверсия из 'login' в  'product_cart' группы A значимо отличается от конверсии группы B"
   ]
  },
  {
   "cell_type": "code",
   "execution_count": 51,
   "id": "7af12200",
   "metadata": {
    "scrolled": true
   },
   "outputs": [
    {
     "name": "stdout",
     "output_type": "stream",
     "text": [
      "Z - value =  1.3306487024844451\n",
      "p-значение:  0.18330462936588865\n",
      "Не получилось отвергнуть нулевую гипотезу, нет оснований считать доли разными\n"
     ]
    },
    {
     "data": {
      "text/plain": [
       "1.3306487024844451"
      ]
     },
     "execution_count": 51,
     "metadata": {},
     "output_type": "execute_result"
    }
   ],
   "source": [
    "get_z_value(df_total_a_2, df_total_b_2, from_state = 'login', to_state = 'product_cart')"
   ]
  },
  {
   "cell_type": "markdown",
   "id": "9c29da29",
   "metadata": {},
   "source": [
    "получили z-value больше 0, значит конверсия группы A  больше конверсии группы B ( конверсия из просмотра страницы в просмотр карточки товара), но не смогли сказать что она значима"
   ]
  },
  {
   "cell_type": "markdown",
   "id": "5d6f9552",
   "metadata": {},
   "source": [
    "**Аналогично смотрим третью конверсию - конверсию из просмотра карточки товара в покупку**\n",
    "\n",
    "\n",
    "H_0: значимых различий нет\n",
    "\n",
    "H_1:  конверсия из 'login' в  'purchase' группы A значимо отличается от конверсии группы B"
   ]
  },
  {
   "cell_type": "code",
   "execution_count": 52,
   "id": "5a4db952",
   "metadata": {},
   "outputs": [
    {
     "name": "stdout",
     "output_type": "stream",
     "text": [
      "Z - value =  1.610487921566414\n",
      "p-значение:  0.1072913801985722\n",
      "Не получилось отвергнуть нулевую гипотезу, нет оснований считать доли разными\n"
     ]
    },
    {
     "data": {
      "text/plain": [
       "1.610487921566414"
      ]
     },
     "execution_count": 52,
     "metadata": {},
     "output_type": "execute_result"
    }
   ],
   "source": [
    "get_z_value(df_total_a_2, df_total_b_2, from_state = 'login', to_state = 'purchase')"
   ]
  },
  {
   "cell_type": "markdown",
   "id": "c6209ccd",
   "metadata": {},
   "source": [
    "Видим что группа B  хуже покупает чем группа A, но не значительно (при альфа = 0,05)"
   ]
  },
  {
   "cell_type": "code",
   "execution_count": null,
   "id": "0df05359",
   "metadata": {},
   "outputs": [],
   "source": []
  },
  {
   "cell_type": "markdown",
   "id": "07288b16",
   "metadata": {},
   "source": [
    "## Общие выводы\n",
    "\n",
    "\n",
    "### В процессе EDA обнаружили что:\n",
    "\n",
    "* у нас есть маркетинговое событие во время нашего эксперимента\n",
    "\n",
    "* было пересечение тестов\n",
    "\n",
    "* пользователей меньше ожидаемых 6000 \n",
    "\n",
    "    Число пользователей, попавших в тестирование, и зарегистрированных в нужный временной промежуток =  5099. Число участников группы A =  2903. Число участников группы B =  2196\n",
    "\n",
    "\n",
    "* имеем данные о событиях для  2788  пользователей \n",
    "\n",
    "* 14 % новых пользователей из EU \n",
    "\n",
    "    \n",
    "* баланс классов в выборках сохраняется\n",
    "\n",
    "* У нас резко прекратились события после 29 декабря 2020 года. ( нужно выяснить - произошёл какой то сбой или пользователи просто все разом ушли от нас)\n"
   ]
  },
  {
   "cell_type": "markdown",
   "id": "9d197db6",
   "metadata": {},
   "source": [
    "**Группа B ведёт себя значимо хуже в одной из трёх конверсиях.** Для остальных конверсих показатели хуже, но не получилось отвергнуть нулевую гипотезу о незначительности различий в выборках при уровне значимости 0,05\n",
    "\n",
    "\n",
    "Были **нарушены требования ТЗ:**\n",
    "\n",
    "* недостаточно пользователей\n",
    "\n",
    "* нет данных о событиях после 29дек\n",
    "\n",
    "При таких результатах стоит признать , что хоть группа B и показывает худшие результаты по сравнению с группой A, доверять результатам этого теста мы не можем. \n",
    "\n",
    "Рекомендации для проведения будущих тестов:\n",
    "\n",
    "* отслеживать метрики (количество активных пользователей , их действия) во время проведения теста\n",
    "\n",
    "* заранее отбирать пользователей, которые не участвуют в других тестах\n",
    "\n"
   ]
  },
  {
   "cell_type": "code",
   "execution_count": null,
   "id": "fe44163b",
   "metadata": {},
   "outputs": [],
   "source": []
  }
 ],
 "metadata": {
  "ExecuteTimeLog": [
   {
    "duration": 1449,
    "start_time": "2022-10-10T05:12:00.017Z"
   },
   {
    "duration": 6898,
    "start_time": "2022-10-10T05:12:01.468Z"
   },
   {
    "duration": 48,
    "start_time": "2022-10-10T05:12:08.368Z"
   },
   {
    "duration": 9,
    "start_time": "2022-10-10T05:12:08.418Z"
   },
   {
    "duration": 25,
    "start_time": "2022-10-10T05:12:08.429Z"
   },
   {
    "duration": 34,
    "start_time": "2022-10-10T05:12:08.456Z"
   },
   {
    "duration": 30,
    "start_time": "2022-10-10T05:12:08.492Z"
   },
   {
    "duration": 12,
    "start_time": "2022-10-10T05:12:08.524Z"
   },
   {
    "duration": 5,
    "start_time": "2022-10-10T05:12:08.537Z"
   },
   {
    "duration": 6,
    "start_time": "2022-10-10T05:12:08.544Z"
   },
   {
    "duration": 17,
    "start_time": "2022-10-10T05:12:08.551Z"
   },
   {
    "duration": 10,
    "start_time": "2022-10-10T05:12:08.570Z"
   },
   {
    "duration": 46,
    "start_time": "2022-10-10T05:12:08.582Z"
   },
   {
    "duration": 15,
    "start_time": "2022-10-10T05:12:08.632Z"
   },
   {
    "duration": 100,
    "start_time": "2022-10-10T05:12:08.649Z"
   },
   {
    "duration": 14,
    "start_time": "2022-10-10T05:12:08.751Z"
   },
   {
    "duration": 45,
    "start_time": "2022-10-10T05:12:08.767Z"
   },
   {
    "duration": 16,
    "start_time": "2022-10-10T05:12:08.814Z"
   },
   {
    "duration": 5,
    "start_time": "2022-10-10T05:12:08.831Z"
   },
   {
    "duration": 8,
    "start_time": "2022-10-10T05:12:08.837Z"
   },
   {
    "duration": 13,
    "start_time": "2022-10-10T05:12:08.846Z"
   },
   {
    "duration": 400,
    "start_time": "2022-10-10T05:12:08.860Z"
   },
   {
    "duration": 107,
    "start_time": "2022-10-10T05:12:09.262Z"
   },
   {
    "duration": 100,
    "start_time": "2022-10-10T05:12:09.371Z"
   },
   {
    "duration": 70,
    "start_time": "2022-10-10T05:12:09.482Z"
   },
   {
    "duration": 6,
    "start_time": "2022-10-10T05:12:09.554Z"
   },
   {
    "duration": 30,
    "start_time": "2022-10-10T05:12:09.561Z"
   },
   {
    "duration": 15,
    "start_time": "2022-10-10T05:12:09.597Z"
   },
   {
    "duration": 35,
    "start_time": "2022-10-10T05:12:09.614Z"
   },
   {
    "duration": 14,
    "start_time": "2022-10-10T05:12:09.651Z"
   },
   {
    "duration": 18,
    "start_time": "2022-10-10T05:12:09.667Z"
   },
   {
    "duration": 38,
    "start_time": "2022-10-10T05:12:09.686Z"
   },
   {
    "duration": 131,
    "start_time": "2022-10-10T05:12:09.726Z"
   },
   {
    "duration": 233,
    "start_time": "2022-10-10T05:12:09.858Z"
   },
   {
    "duration": 201,
    "start_time": "2022-10-10T05:12:10.093Z"
   },
   {
    "duration": 173,
    "start_time": "2022-10-10T05:12:10.295Z"
   },
   {
    "duration": 31,
    "start_time": "2022-10-10T05:12:10.469Z"
   },
   {
    "duration": 22,
    "start_time": "2022-10-10T05:12:10.502Z"
   },
   {
    "duration": 9,
    "start_time": "2022-10-10T05:12:10.526Z"
   },
   {
    "duration": 60,
    "start_time": "2022-10-10T05:12:10.537Z"
   },
   {
    "duration": 29,
    "start_time": "2022-10-10T05:12:10.602Z"
   },
   {
    "duration": 321,
    "start_time": "2022-10-10T05:12:10.633Z"
   },
   {
    "duration": 33,
    "start_time": "2022-10-10T05:12:10.956Z"
   },
   {
    "duration": 737,
    "start_time": "2022-10-10T05:12:10.995Z"
   },
   {
    "duration": 5,
    "start_time": "2022-10-10T05:12:11.734Z"
   },
   {
    "duration": 120,
    "start_time": "2022-10-10T05:12:11.741Z"
   },
   {
    "duration": 33,
    "start_time": "2022-10-10T05:12:11.863Z"
   },
   {
    "duration": 20,
    "start_time": "2022-10-10T05:12:11.898Z"
   },
   {
    "duration": 21,
    "start_time": "2022-10-10T05:44:37.600Z"
   },
   {
    "duration": 1216,
    "start_time": "2022-10-10T05:56:20.304Z"
   },
   {
    "duration": 6656,
    "start_time": "2022-10-10T05:56:21.523Z"
   },
   {
    "duration": 37,
    "start_time": "2022-10-10T05:56:28.184Z"
   },
   {
    "duration": 11,
    "start_time": "2022-10-10T05:56:28.222Z"
   },
   {
    "duration": 51,
    "start_time": "2022-10-10T05:56:28.235Z"
   },
   {
    "duration": 15,
    "start_time": "2022-10-10T05:56:28.293Z"
   },
   {
    "duration": 15,
    "start_time": "2022-10-10T05:56:28.310Z"
   },
   {
    "duration": 13,
    "start_time": "2022-10-10T05:56:28.327Z"
   },
   {
    "duration": 6,
    "start_time": "2022-10-10T05:56:28.341Z"
   },
   {
    "duration": 7,
    "start_time": "2022-10-10T05:56:28.349Z"
   },
   {
    "duration": 49,
    "start_time": "2022-10-10T05:56:28.358Z"
   },
   {
    "duration": 10,
    "start_time": "2022-10-10T05:56:28.409Z"
   },
   {
    "duration": 6,
    "start_time": "2022-10-10T05:56:28.421Z"
   },
   {
    "duration": 11,
    "start_time": "2022-10-10T05:56:28.431Z"
   },
   {
    "duration": 76,
    "start_time": "2022-10-10T05:56:28.444Z"
   },
   {
    "duration": 13,
    "start_time": "2022-10-10T05:56:28.522Z"
   },
   {
    "duration": 7,
    "start_time": "2022-10-10T05:56:28.536Z"
   },
   {
    "duration": 50,
    "start_time": "2022-10-10T05:56:28.545Z"
   },
   {
    "duration": 14,
    "start_time": "2022-10-10T05:56:28.596Z"
   },
   {
    "duration": 10,
    "start_time": "2022-10-10T05:56:28.613Z"
   },
   {
    "duration": 12,
    "start_time": "2022-10-10T05:56:28.624Z"
   },
   {
    "duration": 421,
    "start_time": "2022-10-10T05:56:28.637Z"
   },
   {
    "duration": 110,
    "start_time": "2022-10-10T05:56:29.059Z"
   },
   {
    "duration": 120,
    "start_time": "2022-10-10T05:56:29.171Z"
   },
   {
    "duration": 55,
    "start_time": "2022-10-10T05:56:29.292Z"
   },
   {
    "duration": 6,
    "start_time": "2022-10-10T05:56:29.349Z"
   },
   {
    "duration": 25,
    "start_time": "2022-10-10T05:56:29.357Z"
   },
   {
    "duration": 17,
    "start_time": "2022-10-10T05:56:29.386Z"
   },
   {
    "duration": 29,
    "start_time": "2022-10-10T05:56:29.405Z"
   },
   {
    "duration": 9,
    "start_time": "2022-10-10T05:56:29.436Z"
   },
   {
    "duration": 15,
    "start_time": "2022-10-10T05:56:29.447Z"
   },
   {
    "duration": 35,
    "start_time": "2022-10-10T05:56:29.464Z"
   },
   {
    "duration": 148,
    "start_time": "2022-10-10T05:56:29.502Z"
   },
   {
    "duration": 255,
    "start_time": "2022-10-10T05:56:29.652Z"
   },
   {
    "duration": 205,
    "start_time": "2022-10-10T05:56:29.912Z"
   },
   {
    "duration": 186,
    "start_time": "2022-10-10T05:56:30.119Z"
   },
   {
    "duration": 23,
    "start_time": "2022-10-10T05:56:30.307Z"
   },
   {
    "duration": 66,
    "start_time": "2022-10-10T05:56:30.331Z"
   },
   {
    "duration": 38,
    "start_time": "2022-10-10T05:56:30.398Z"
   },
   {
    "duration": 53,
    "start_time": "2022-10-10T05:56:30.437Z"
   },
   {
    "duration": 36,
    "start_time": "2022-10-10T05:56:30.494Z"
   },
   {
    "duration": 332,
    "start_time": "2022-10-10T05:56:30.531Z"
   },
   {
    "duration": 38,
    "start_time": "2022-10-10T05:56:30.864Z"
   },
   {
    "duration": 656,
    "start_time": "2022-10-10T05:56:30.904Z"
   },
   {
    "duration": 9,
    "start_time": "2022-10-10T05:56:31.562Z"
   },
   {
    "duration": 110,
    "start_time": "2022-10-10T05:56:31.577Z"
   },
   {
    "duration": 35,
    "start_time": "2022-10-10T05:56:31.689Z"
   },
   {
    "duration": 16,
    "start_time": "2022-10-10T05:56:31.725Z"
   },
   {
    "duration": 1269,
    "start_time": "2022-10-10T05:57:50.577Z"
   },
   {
    "duration": 6199,
    "start_time": "2022-10-10T05:57:51.848Z"
   },
   {
    "duration": 37,
    "start_time": "2022-10-10T05:57:58.049Z"
   },
   {
    "duration": 13,
    "start_time": "2022-10-10T05:57:58.091Z"
   },
   {
    "duration": 33,
    "start_time": "2022-10-10T05:57:58.106Z"
   },
   {
    "duration": 7,
    "start_time": "2022-10-10T05:57:58.141Z"
   },
   {
    "duration": 43,
    "start_time": "2022-10-10T05:57:58.150Z"
   },
   {
    "duration": 14,
    "start_time": "2022-10-10T05:57:58.199Z"
   },
   {
    "duration": 19,
    "start_time": "2022-10-10T05:57:58.215Z"
   },
   {
    "duration": 8,
    "start_time": "2022-10-10T05:57:58.237Z"
   },
   {
    "duration": 21,
    "start_time": "2022-10-10T05:57:58.246Z"
   },
   {
    "duration": 29,
    "start_time": "2022-10-10T05:57:58.268Z"
   },
   {
    "duration": 14,
    "start_time": "2022-10-10T05:57:58.302Z"
   },
   {
    "duration": 24,
    "start_time": "2022-10-10T05:57:58.318Z"
   },
   {
    "duration": 73,
    "start_time": "2022-10-10T05:57:58.343Z"
   },
   {
    "duration": 13,
    "start_time": "2022-10-10T05:57:58.417Z"
   },
   {
    "duration": 8,
    "start_time": "2022-10-10T05:57:58.431Z"
   },
   {
    "duration": 24,
    "start_time": "2022-10-10T05:57:58.440Z"
   },
   {
    "duration": 43,
    "start_time": "2022-10-10T05:57:58.465Z"
   },
   {
    "duration": 33,
    "start_time": "2022-10-10T05:57:58.510Z"
   },
   {
    "duration": 15,
    "start_time": "2022-10-10T05:57:58.545Z"
   },
   {
    "duration": 397,
    "start_time": "2022-10-10T05:57:58.562Z"
   },
   {
    "duration": 102,
    "start_time": "2022-10-10T05:57:58.961Z"
   },
   {
    "duration": 132,
    "start_time": "2022-10-10T05:57:59.065Z"
   },
   {
    "duration": 49,
    "start_time": "2022-10-10T05:57:59.198Z"
   },
   {
    "duration": 6,
    "start_time": "2022-10-10T05:57:59.248Z"
   },
   {
    "duration": 19,
    "start_time": "2022-10-10T05:57:59.255Z"
   },
   {
    "duration": 55,
    "start_time": "2022-10-10T05:57:59.277Z"
   },
   {
    "duration": 30,
    "start_time": "2022-10-10T05:57:59.334Z"
   },
   {
    "duration": 9,
    "start_time": "2022-10-10T05:57:59.366Z"
   },
   {
    "duration": 46,
    "start_time": "2022-10-10T05:57:59.378Z"
   },
   {
    "duration": 23,
    "start_time": "2022-10-10T05:57:59.425Z"
   },
   {
    "duration": 136,
    "start_time": "2022-10-10T05:57:59.450Z"
   },
   {
    "duration": 219,
    "start_time": "2022-10-10T05:57:59.591Z"
   },
   {
    "duration": 198,
    "start_time": "2022-10-10T05:57:59.812Z"
   },
   {
    "duration": 194,
    "start_time": "2022-10-10T05:58:00.011Z"
   },
   {
    "duration": 24,
    "start_time": "2022-10-10T05:58:00.207Z"
   },
   {
    "duration": 60,
    "start_time": "2022-10-10T05:58:00.233Z"
   },
   {
    "duration": 48,
    "start_time": "2022-10-10T05:58:00.299Z"
   },
   {
    "duration": 69,
    "start_time": "2022-10-10T05:58:00.349Z"
   },
   {
    "duration": 44,
    "start_time": "2022-10-10T05:58:00.420Z"
   },
   {
    "duration": 351,
    "start_time": "2022-10-10T05:58:00.466Z"
   },
   {
    "duration": 19,
    "start_time": "2022-10-10T05:58:00.819Z"
   },
   {
    "duration": 718,
    "start_time": "2022-10-10T05:58:00.840Z"
   },
   {
    "duration": 4,
    "start_time": "2022-10-10T05:58:01.560Z"
   },
   {
    "duration": 125,
    "start_time": "2022-10-10T05:58:01.577Z"
   },
   {
    "duration": 64,
    "start_time": "2022-10-10T05:58:01.704Z"
   },
   {
    "duration": 51,
    "start_time": "2022-10-10T05:58:01.770Z"
   },
   {
    "duration": 1231,
    "start_time": "2022-10-10T06:00:13.416Z"
   },
   {
    "duration": 6170,
    "start_time": "2022-10-10T06:00:14.649Z"
   },
   {
    "duration": 34,
    "start_time": "2022-10-10T06:00:20.821Z"
   },
   {
    "duration": 40,
    "start_time": "2022-10-10T06:00:20.856Z"
   },
   {
    "duration": 63,
    "start_time": "2022-10-10T06:00:20.899Z"
   },
   {
    "duration": 8,
    "start_time": "2022-10-10T06:00:20.964Z"
   },
   {
    "duration": 52,
    "start_time": "2022-10-10T06:00:20.974Z"
   },
   {
    "duration": 14,
    "start_time": "2022-10-10T06:00:21.028Z"
   },
   {
    "duration": 7,
    "start_time": "2022-10-10T06:00:21.044Z"
   },
   {
    "duration": 16,
    "start_time": "2022-10-10T06:00:21.053Z"
   },
   {
    "duration": 39,
    "start_time": "2022-10-10T06:00:21.070Z"
   },
   {
    "duration": 15,
    "start_time": "2022-10-10T06:00:21.111Z"
   },
   {
    "duration": 5,
    "start_time": "2022-10-10T06:00:21.127Z"
   },
   {
    "duration": 9,
    "start_time": "2022-10-10T06:00:21.136Z"
   },
   {
    "duration": 86,
    "start_time": "2022-10-10T06:00:21.147Z"
   },
   {
    "duration": 11,
    "start_time": "2022-10-10T06:00:21.235Z"
   },
   {
    "duration": 5,
    "start_time": "2022-10-10T06:00:21.248Z"
   },
   {
    "duration": 35,
    "start_time": "2022-10-10T06:00:21.255Z"
   },
   {
    "duration": 6,
    "start_time": "2022-10-10T06:00:21.299Z"
   },
   {
    "duration": 18,
    "start_time": "2022-10-10T06:00:21.306Z"
   },
   {
    "duration": 12,
    "start_time": "2022-10-10T06:00:21.325Z"
   },
   {
    "duration": 422,
    "start_time": "2022-10-10T06:00:21.339Z"
   },
   {
    "duration": 115,
    "start_time": "2022-10-10T06:00:21.762Z"
   },
   {
    "duration": 105,
    "start_time": "2022-10-10T06:00:21.880Z"
   },
   {
    "duration": 48,
    "start_time": "2022-10-10T06:00:21.997Z"
   },
   {
    "duration": 5,
    "start_time": "2022-10-10T06:00:22.047Z"
   },
   {
    "duration": 9,
    "start_time": "2022-10-10T06:00:22.053Z"
   },
   {
    "duration": 35,
    "start_time": "2022-10-10T06:00:22.064Z"
   },
   {
    "duration": 28,
    "start_time": "2022-10-10T06:00:22.104Z"
   },
   {
    "duration": 8,
    "start_time": "2022-10-10T06:00:22.133Z"
   },
   {
    "duration": 16,
    "start_time": "2022-10-10T06:00:22.143Z"
   },
   {
    "duration": 14,
    "start_time": "2022-10-10T06:00:22.161Z"
   },
   {
    "duration": 160,
    "start_time": "2022-10-10T06:00:22.179Z"
   },
   {
    "duration": 241,
    "start_time": "2022-10-10T06:00:22.341Z"
   },
   {
    "duration": 259,
    "start_time": "2022-10-10T06:00:22.583Z"
   },
   {
    "duration": 185,
    "start_time": "2022-10-10T06:00:22.844Z"
   },
   {
    "duration": 55,
    "start_time": "2022-10-10T06:00:23.031Z"
   },
   {
    "duration": 24,
    "start_time": "2022-10-10T06:00:23.093Z"
   },
   {
    "duration": 15,
    "start_time": "2022-10-10T06:00:23.119Z"
   },
   {
    "duration": 19,
    "start_time": "2022-10-10T06:00:23.176Z"
   },
   {
    "duration": 25,
    "start_time": "2022-10-10T06:00:23.206Z"
   },
   {
    "duration": 318,
    "start_time": "2022-10-10T06:00:23.232Z"
   },
   {
    "duration": 34,
    "start_time": "2022-10-10T06:00:23.552Z"
   },
   {
    "duration": 721,
    "start_time": "2022-10-10T06:00:23.590Z"
   },
   {
    "duration": 5,
    "start_time": "2022-10-10T06:00:24.313Z"
   },
   {
    "duration": 110,
    "start_time": "2022-10-10T06:00:24.320Z"
   },
   {
    "duration": 17,
    "start_time": "2022-10-10T06:00:24.431Z"
   },
   {
    "duration": 47,
    "start_time": "2022-10-10T06:00:24.449Z"
   },
   {
    "duration": 1366,
    "start_time": "2022-10-11T16:28:32.008Z"
   },
   {
    "duration": 462935,
    "start_time": "2022-10-11T16:28:33.376Z"
   },
   {
    "duration": 27,
    "start_time": "2022-10-11T16:36:16.314Z"
   },
   {
    "duration": 10,
    "start_time": "2022-10-11T16:36:16.344Z"
   },
   {
    "duration": 148,
    "start_time": "2022-10-11T16:36:16.355Z"
   },
   {
    "duration": 0,
    "start_time": "2022-10-11T16:36:16.509Z"
   },
   {
    "duration": 0,
    "start_time": "2022-10-11T16:36:16.510Z"
   },
   {
    "duration": 0,
    "start_time": "2022-10-11T16:36:16.512Z"
   },
   {
    "duration": 0,
    "start_time": "2022-10-11T16:36:16.513Z"
   },
   {
    "duration": 0,
    "start_time": "2022-10-11T16:36:16.515Z"
   },
   {
    "duration": 0,
    "start_time": "2022-10-11T16:36:16.516Z"
   },
   {
    "duration": 0,
    "start_time": "2022-10-11T16:36:16.517Z"
   },
   {
    "duration": 0,
    "start_time": "2022-10-11T16:36:16.518Z"
   },
   {
    "duration": 0,
    "start_time": "2022-10-11T16:36:16.519Z"
   },
   {
    "duration": 0,
    "start_time": "2022-10-11T16:36:16.520Z"
   },
   {
    "duration": 0,
    "start_time": "2022-10-11T16:36:16.521Z"
   },
   {
    "duration": 0,
    "start_time": "2022-10-11T16:36:16.522Z"
   },
   {
    "duration": 0,
    "start_time": "2022-10-11T16:36:16.523Z"
   },
   {
    "duration": 0,
    "start_time": "2022-10-11T16:36:16.524Z"
   },
   {
    "duration": 0,
    "start_time": "2022-10-11T16:36:16.525Z"
   },
   {
    "duration": 0,
    "start_time": "2022-10-11T16:36:16.526Z"
   },
   {
    "duration": 0,
    "start_time": "2022-10-11T16:36:16.527Z"
   },
   {
    "duration": 0,
    "start_time": "2022-10-11T16:36:16.528Z"
   },
   {
    "duration": 0,
    "start_time": "2022-10-11T16:36:16.530Z"
   },
   {
    "duration": 0,
    "start_time": "2022-10-11T16:36:16.531Z"
   },
   {
    "duration": 0,
    "start_time": "2022-10-11T16:36:16.532Z"
   },
   {
    "duration": 0,
    "start_time": "2022-10-11T16:36:16.534Z"
   },
   {
    "duration": 0,
    "start_time": "2022-10-11T16:36:16.536Z"
   },
   {
    "duration": 0,
    "start_time": "2022-10-11T16:36:16.537Z"
   },
   {
    "duration": 0,
    "start_time": "2022-10-11T16:36:16.538Z"
   },
   {
    "duration": 0,
    "start_time": "2022-10-11T16:36:16.539Z"
   },
   {
    "duration": 0,
    "start_time": "2022-10-11T16:36:16.540Z"
   },
   {
    "duration": 0,
    "start_time": "2022-10-11T16:36:16.542Z"
   },
   {
    "duration": 0,
    "start_time": "2022-10-11T16:36:16.543Z"
   },
   {
    "duration": 0,
    "start_time": "2022-10-11T16:36:16.545Z"
   },
   {
    "duration": 0,
    "start_time": "2022-10-11T16:36:16.546Z"
   },
   {
    "duration": 0,
    "start_time": "2022-10-11T16:36:16.547Z"
   },
   {
    "duration": 0,
    "start_time": "2022-10-11T16:36:16.608Z"
   },
   {
    "duration": 0,
    "start_time": "2022-10-11T16:36:16.610Z"
   },
   {
    "duration": 0,
    "start_time": "2022-10-11T16:36:16.612Z"
   },
   {
    "duration": 0,
    "start_time": "2022-10-11T16:36:16.613Z"
   },
   {
    "duration": 0,
    "start_time": "2022-10-11T16:36:16.614Z"
   },
   {
    "duration": 0,
    "start_time": "2022-10-11T16:36:16.615Z"
   },
   {
    "duration": 0,
    "start_time": "2022-10-11T16:36:16.616Z"
   },
   {
    "duration": 0,
    "start_time": "2022-10-11T16:36:16.617Z"
   },
   {
    "duration": 0,
    "start_time": "2022-10-11T16:36:16.619Z"
   },
   {
    "duration": 0,
    "start_time": "2022-10-11T16:36:16.620Z"
   },
   {
    "duration": 0,
    "start_time": "2022-10-11T16:36:16.621Z"
   },
   {
    "duration": 0,
    "start_time": "2022-10-11T16:36:16.621Z"
   },
   {
    "duration": 0,
    "start_time": "2022-10-11T16:36:16.622Z"
   },
   {
    "duration": 0,
    "start_time": "2022-10-11T16:36:16.623Z"
   },
   {
    "duration": 0,
    "start_time": "2022-10-11T16:36:16.624Z"
   },
   {
    "duration": 0,
    "start_time": "2022-10-11T16:36:16.625Z"
   },
   {
    "duration": 1227,
    "start_time": "2022-10-11T16:36:21.677Z"
   },
   {
    "duration": 6637,
    "start_time": "2022-10-11T16:36:22.906Z"
   },
   {
    "duration": 25,
    "start_time": "2022-10-11T16:36:29.545Z"
   },
   {
    "duration": 9,
    "start_time": "2022-10-11T16:36:29.571Z"
   },
   {
    "duration": 43,
    "start_time": "2022-10-11T16:36:29.581Z"
   },
   {
    "duration": 6,
    "start_time": "2022-10-11T16:36:29.625Z"
   },
   {
    "duration": 11,
    "start_time": "2022-10-11T16:36:29.633Z"
   },
   {
    "duration": 12,
    "start_time": "2022-10-11T16:36:29.645Z"
   },
   {
    "duration": 6,
    "start_time": "2022-10-11T16:36:29.659Z"
   },
   {
    "duration": 4,
    "start_time": "2022-10-11T16:36:29.666Z"
   },
   {
    "duration": 6,
    "start_time": "2022-10-11T16:36:29.709Z"
   },
   {
    "duration": 7,
    "start_time": "2022-10-11T16:36:29.717Z"
   },
   {
    "duration": 4,
    "start_time": "2022-10-11T16:36:29.725Z"
   },
   {
    "duration": 9,
    "start_time": "2022-10-11T16:36:29.733Z"
   },
   {
    "duration": 92,
    "start_time": "2022-10-11T16:36:29.744Z"
   },
   {
    "duration": 10,
    "start_time": "2022-10-11T16:36:29.838Z"
   },
   {
    "duration": 4,
    "start_time": "2022-10-11T16:36:29.850Z"
   },
   {
    "duration": 9,
    "start_time": "2022-10-11T16:36:29.856Z"
   },
   {
    "duration": 2,
    "start_time": "2022-10-11T16:36:29.867Z"
   },
   {
    "duration": 6,
    "start_time": "2022-10-11T16:36:29.871Z"
   },
   {
    "duration": 37,
    "start_time": "2022-10-11T16:36:29.878Z"
   },
   {
    "duration": 7,
    "start_time": "2022-10-11T16:36:29.917Z"
   },
   {
    "duration": 346,
    "start_time": "2022-10-11T16:36:29.925Z"
   },
   {
    "duration": 93,
    "start_time": "2022-10-11T16:36:30.273Z"
   },
   {
    "duration": 81,
    "start_time": "2022-10-11T16:36:30.367Z"
   },
   {
    "duration": 50,
    "start_time": "2022-10-11T16:36:30.449Z"
   },
   {
    "duration": 6,
    "start_time": "2022-10-11T16:36:30.509Z"
   },
   {
    "duration": 20,
    "start_time": "2022-10-11T16:36:30.516Z"
   },
   {
    "duration": 23,
    "start_time": "2022-10-11T16:36:30.537Z"
   },
   {
    "duration": 29,
    "start_time": "2022-10-11T16:36:30.561Z"
   },
   {
    "duration": 8,
    "start_time": "2022-10-11T16:36:30.591Z"
   },
   {
    "duration": 24,
    "start_time": "2022-10-11T16:36:30.601Z"
   },
   {
    "duration": 122,
    "start_time": "2022-10-11T16:36:30.626Z"
   },
   {
    "duration": 196,
    "start_time": "2022-10-11T16:36:30.749Z"
   },
   {
    "duration": 186,
    "start_time": "2022-10-11T16:36:30.946Z"
   },
   {
    "duration": 175,
    "start_time": "2022-10-11T16:36:31.133Z"
   },
   {
    "duration": 5,
    "start_time": "2022-10-11T16:36:31.309Z"
   },
   {
    "duration": 3939,
    "start_time": "2022-10-11T16:36:31.315Z"
   },
   {
    "duration": 23,
    "start_time": "2022-10-11T16:36:35.255Z"
   },
   {
    "duration": 47,
    "start_time": "2022-10-11T16:36:35.280Z"
   },
   {
    "duration": 12,
    "start_time": "2022-10-11T16:36:35.331Z"
   },
   {
    "duration": 46,
    "start_time": "2022-10-11T16:36:35.345Z"
   },
   {
    "duration": 43,
    "start_time": "2022-10-11T16:36:35.392Z"
   },
   {
    "duration": 28,
    "start_time": "2022-10-11T16:36:35.437Z"
   },
   {
    "duration": 39,
    "start_time": "2022-10-11T16:36:35.467Z"
   },
   {
    "duration": 225,
    "start_time": "2022-10-11T16:36:35.508Z"
   },
   {
    "duration": 3,
    "start_time": "2022-10-11T16:36:35.734Z"
   },
   {
    "duration": 41,
    "start_time": "2022-10-11T16:36:35.738Z"
   },
   {
    "duration": 644,
    "start_time": "2022-10-11T16:36:35.781Z"
   },
   {
    "duration": 4,
    "start_time": "2022-10-11T16:36:36.427Z"
   },
   {
    "duration": 29,
    "start_time": "2022-10-11T16:36:36.433Z"
   },
   {
    "duration": 50,
    "start_time": "2022-10-11T16:36:36.463Z"
   },
   {
    "duration": 25,
    "start_time": "2022-10-11T16:36:36.514Z"
   },
   {
    "duration": 4,
    "start_time": "2022-10-11T16:38:38.753Z"
   },
   {
    "duration": 27,
    "start_time": "2022-10-11T16:43:04.467Z"
   },
   {
    "duration": 18,
    "start_time": "2022-10-11T16:43:16.089Z"
   },
   {
    "duration": 21,
    "start_time": "2022-10-11T16:46:10.510Z"
   },
   {
    "duration": 72,
    "start_time": "2022-10-11T16:48:10.709Z"
   },
   {
    "duration": 74,
    "start_time": "2022-10-11T16:48:18.725Z"
   },
   {
    "duration": 74,
    "start_time": "2022-10-11T16:48:28.912Z"
   },
   {
    "duration": 36,
    "start_time": "2022-10-11T16:53:45.716Z"
   },
   {
    "duration": 29,
    "start_time": "2022-10-11T16:53:49.018Z"
   },
   {
    "duration": 28,
    "start_time": "2022-10-11T16:54:06.073Z"
   },
   {
    "duration": 1202,
    "start_time": "2022-10-11T17:04:37.193Z"
   },
   {
    "duration": 6482,
    "start_time": "2022-10-11T17:04:38.397Z"
   },
   {
    "duration": 35,
    "start_time": "2022-10-11T17:04:44.880Z"
   },
   {
    "duration": 9,
    "start_time": "2022-10-11T17:04:44.917Z"
   },
   {
    "duration": 36,
    "start_time": "2022-10-11T17:04:44.928Z"
   },
   {
    "duration": 7,
    "start_time": "2022-10-11T17:04:44.965Z"
   },
   {
    "duration": 14,
    "start_time": "2022-10-11T17:04:44.973Z"
   },
   {
    "duration": 14,
    "start_time": "2022-10-11T17:04:45.008Z"
   },
   {
    "duration": 6,
    "start_time": "2022-10-11T17:04:45.023Z"
   },
   {
    "duration": 6,
    "start_time": "2022-10-11T17:04:45.032Z"
   },
   {
    "duration": 12,
    "start_time": "2022-10-11T17:04:45.039Z"
   },
   {
    "duration": 11,
    "start_time": "2022-10-11T17:04:45.053Z"
   },
   {
    "duration": 4,
    "start_time": "2022-10-11T17:04:45.065Z"
   },
   {
    "duration": 16,
    "start_time": "2022-10-11T17:04:45.070Z"
   },
   {
    "duration": 87,
    "start_time": "2022-10-11T17:04:45.088Z"
   },
   {
    "duration": 34,
    "start_time": "2022-10-11T17:04:45.176Z"
   },
   {
    "duration": 5,
    "start_time": "2022-10-11T17:04:45.211Z"
   },
   {
    "duration": 12,
    "start_time": "2022-10-11T17:04:45.218Z"
   },
   {
    "duration": 6,
    "start_time": "2022-10-11T17:04:45.232Z"
   },
   {
    "duration": 14,
    "start_time": "2022-10-11T17:04:45.239Z"
   },
   {
    "duration": 15,
    "start_time": "2022-10-11T17:04:45.255Z"
   },
   {
    "duration": 28,
    "start_time": "2022-10-11T17:04:45.272Z"
   },
   {
    "duration": 360,
    "start_time": "2022-10-11T17:04:45.302Z"
   },
   {
    "duration": 92,
    "start_time": "2022-10-11T17:04:45.664Z"
   },
   {
    "duration": 91,
    "start_time": "2022-10-11T17:04:45.757Z"
   },
   {
    "duration": 65,
    "start_time": "2022-10-11T17:04:45.850Z"
   },
   {
    "duration": 6,
    "start_time": "2022-10-11T17:04:45.916Z"
   },
   {
    "duration": 7,
    "start_time": "2022-10-11T17:04:45.927Z"
   },
   {
    "duration": 10,
    "start_time": "2022-10-11T17:04:45.936Z"
   },
   {
    "duration": 25,
    "start_time": "2022-10-11T17:04:45.947Z"
   },
   {
    "duration": 36,
    "start_time": "2022-10-11T17:04:45.974Z"
   },
   {
    "duration": 15,
    "start_time": "2022-10-11T17:04:46.012Z"
   },
   {
    "duration": 161,
    "start_time": "2022-10-11T17:04:46.029Z"
   },
   {
    "duration": 219,
    "start_time": "2022-10-11T17:04:46.192Z"
   },
   {
    "duration": 194,
    "start_time": "2022-10-11T17:04:46.413Z"
   },
   {
    "duration": 223,
    "start_time": "2022-10-11T17:04:46.609Z"
   },
   {
    "duration": 5,
    "start_time": "2022-10-11T17:04:46.833Z"
   },
   {
    "duration": 3982,
    "start_time": "2022-10-11T17:04:46.840Z"
   },
   {
    "duration": 23,
    "start_time": "2022-10-11T17:04:50.824Z"
   },
   {
    "duration": 28,
    "start_time": "2022-10-11T17:04:50.849Z"
   },
   {
    "duration": 35,
    "start_time": "2022-10-11T17:04:50.879Z"
   },
   {
    "duration": 12,
    "start_time": "2022-10-11T17:04:50.916Z"
   },
   {
    "duration": 26,
    "start_time": "2022-10-11T17:04:50.929Z"
   },
   {
    "duration": 8,
    "start_time": "2022-10-11T17:04:50.956Z"
   },
   {
    "duration": 12,
    "start_time": "2022-10-11T17:04:50.965Z"
   },
   {
    "duration": 240,
    "start_time": "2022-10-11T17:04:50.978Z"
   },
   {
    "duration": 4,
    "start_time": "2022-10-11T17:04:51.219Z"
   },
   {
    "duration": 27,
    "start_time": "2022-10-11T17:04:51.224Z"
   },
   {
    "duration": 601,
    "start_time": "2022-10-11T17:04:51.253Z"
   },
   {
    "duration": 4,
    "start_time": "2022-10-11T17:04:51.856Z"
   },
   {
    "duration": 103,
    "start_time": "2022-10-11T17:04:51.861Z"
   },
   {
    "duration": 44,
    "start_time": "2022-10-11T17:04:51.966Z"
   },
   {
    "duration": 25,
    "start_time": "2022-10-11T17:04:52.011Z"
   },
   {
    "duration": 1237,
    "start_time": "2022-10-11T17:05:39.216Z"
   },
   {
    "duration": 5596,
    "start_time": "2022-10-11T17:05:40.455Z"
   },
   {
    "duration": 34,
    "start_time": "2022-10-11T17:05:46.053Z"
   },
   {
    "duration": 15,
    "start_time": "2022-10-11T17:05:46.108Z"
   },
   {
    "duration": 37,
    "start_time": "2022-10-11T17:05:46.125Z"
   },
   {
    "duration": 10,
    "start_time": "2022-10-11T17:05:46.164Z"
   },
   {
    "duration": 47,
    "start_time": "2022-10-11T17:05:46.176Z"
   },
   {
    "duration": 13,
    "start_time": "2022-10-11T17:05:46.224Z"
   },
   {
    "duration": 6,
    "start_time": "2022-10-11T17:05:46.238Z"
   },
   {
    "duration": 13,
    "start_time": "2022-10-11T17:05:46.247Z"
   },
   {
    "duration": 13,
    "start_time": "2022-10-11T17:05:46.262Z"
   },
   {
    "duration": 10,
    "start_time": "2022-10-11T17:05:46.277Z"
   },
   {
    "duration": 9,
    "start_time": "2022-10-11T17:05:46.289Z"
   },
   {
    "duration": 8,
    "start_time": "2022-10-11T17:05:46.309Z"
   },
   {
    "duration": 63,
    "start_time": "2022-10-11T17:05:46.319Z"
   },
   {
    "duration": 31,
    "start_time": "2022-10-11T17:05:46.384Z"
   },
   {
    "duration": 9,
    "start_time": "2022-10-11T17:05:46.417Z"
   },
   {
    "duration": 19,
    "start_time": "2022-10-11T17:05:46.427Z"
   },
   {
    "duration": 3,
    "start_time": "2022-10-11T17:05:46.448Z"
   },
   {
    "duration": 8,
    "start_time": "2022-10-11T17:05:46.452Z"
   },
   {
    "duration": 16,
    "start_time": "2022-10-11T17:05:46.461Z"
   },
   {
    "duration": 33,
    "start_time": "2022-10-11T17:05:46.478Z"
   },
   {
    "duration": 352,
    "start_time": "2022-10-11T17:05:46.512Z"
   },
   {
    "duration": 97,
    "start_time": "2022-10-11T17:05:46.865Z"
   },
   {
    "duration": 84,
    "start_time": "2022-10-11T17:05:46.964Z"
   },
   {
    "duration": 66,
    "start_time": "2022-10-11T17:05:47.050Z"
   },
   {
    "duration": 5,
    "start_time": "2022-10-11T17:05:47.118Z"
   },
   {
    "duration": 10,
    "start_time": "2022-10-11T17:05:47.127Z"
   },
   {
    "duration": 9,
    "start_time": "2022-10-11T17:05:47.139Z"
   },
   {
    "duration": 25,
    "start_time": "2022-10-11T17:05:47.150Z"
   },
   {
    "duration": 9,
    "start_time": "2022-10-11T17:05:47.177Z"
   },
   {
    "duration": 11,
    "start_time": "2022-10-11T17:05:47.210Z"
   },
   {
    "duration": 146,
    "start_time": "2022-10-11T17:05:47.222Z"
   },
   {
    "duration": 214,
    "start_time": "2022-10-11T17:05:47.370Z"
   },
   {
    "duration": 186,
    "start_time": "2022-10-11T17:05:47.586Z"
   },
   {
    "duration": 196,
    "start_time": "2022-10-11T17:05:47.773Z"
   },
   {
    "duration": 4,
    "start_time": "2022-10-11T17:05:47.971Z"
   },
   {
    "duration": 3967,
    "start_time": "2022-10-11T17:05:47.976Z"
   },
   {
    "duration": 23,
    "start_time": "2022-10-11T17:05:51.945Z"
   },
   {
    "duration": 56,
    "start_time": "2022-10-11T17:05:51.970Z"
   },
   {
    "duration": 18,
    "start_time": "2022-10-11T17:05:52.028Z"
   },
   {
    "duration": 5,
    "start_time": "2022-10-11T17:05:52.047Z"
   },
   {
    "duration": 21,
    "start_time": "2022-10-11T17:05:52.054Z"
   },
   {
    "duration": 33,
    "start_time": "2022-10-11T17:05:52.076Z"
   },
   {
    "duration": 13,
    "start_time": "2022-10-11T17:05:52.110Z"
   },
   {
    "duration": 264,
    "start_time": "2022-10-11T17:05:52.124Z"
   },
   {
    "duration": 4,
    "start_time": "2022-10-11T17:05:52.390Z"
   },
   {
    "duration": 31,
    "start_time": "2022-10-11T17:05:52.396Z"
   },
   {
    "duration": 651,
    "start_time": "2022-10-11T17:05:52.429Z"
   },
   {
    "duration": 5,
    "start_time": "2022-10-11T17:05:53.081Z"
   },
   {
    "duration": 46,
    "start_time": "2022-10-11T17:05:53.087Z"
   },
   {
    "duration": 25,
    "start_time": "2022-10-11T17:05:53.135Z"
   },
   {
    "duration": 26,
    "start_time": "2022-10-11T17:05:53.162Z"
   },
   {
    "duration": 1192,
    "start_time": "2022-10-12T12:59:58.854Z"
   },
   {
    "duration": 7169,
    "start_time": "2022-10-12T13:00:00.048Z"
   },
   {
    "duration": 32,
    "start_time": "2022-10-12T13:00:07.218Z"
   },
   {
    "duration": 10,
    "start_time": "2022-10-12T13:00:07.252Z"
   },
   {
    "duration": 51,
    "start_time": "2022-10-12T13:00:07.263Z"
   },
   {
    "duration": 7,
    "start_time": "2022-10-12T13:00:07.316Z"
   },
   {
    "duration": 14,
    "start_time": "2022-10-12T13:00:07.324Z"
   },
   {
    "duration": 12,
    "start_time": "2022-10-12T13:00:07.340Z"
   },
   {
    "duration": 8,
    "start_time": "2022-10-12T13:00:07.354Z"
   },
   {
    "duration": 6,
    "start_time": "2022-10-12T13:00:07.394Z"
   },
   {
    "duration": 9,
    "start_time": "2022-10-12T13:00:07.402Z"
   },
   {
    "duration": 13,
    "start_time": "2022-10-12T13:00:07.413Z"
   },
   {
    "duration": 3,
    "start_time": "2022-10-12T13:00:07.428Z"
   },
   {
    "duration": 9,
    "start_time": "2022-10-12T13:00:07.433Z"
   },
   {
    "duration": 88,
    "start_time": "2022-10-12T13:00:07.444Z"
   },
   {
    "duration": 10,
    "start_time": "2022-10-12T13:00:07.534Z"
   },
   {
    "duration": 7,
    "start_time": "2022-10-12T13:00:07.545Z"
   },
   {
    "duration": 20,
    "start_time": "2022-10-12T13:00:07.553Z"
   },
   {
    "duration": 13,
    "start_time": "2022-10-12T13:00:07.574Z"
   },
   {
    "duration": 10,
    "start_time": "2022-10-12T13:00:07.588Z"
   },
   {
    "duration": 17,
    "start_time": "2022-10-12T13:00:07.599Z"
   },
   {
    "duration": 9,
    "start_time": "2022-10-12T13:00:07.617Z"
   },
   {
    "duration": 369,
    "start_time": "2022-10-12T13:00:07.627Z"
   },
   {
    "duration": 101,
    "start_time": "2022-10-12T13:00:07.998Z"
   },
   {
    "duration": 95,
    "start_time": "2022-10-12T13:00:08.100Z"
   },
   {
    "duration": 54,
    "start_time": "2022-10-12T13:00:08.196Z"
   },
   {
    "duration": 5,
    "start_time": "2022-10-12T13:00:08.251Z"
   },
   {
    "duration": 7,
    "start_time": "2022-10-12T13:00:08.260Z"
   },
   {
    "duration": 30,
    "start_time": "2022-10-12T13:00:08.268Z"
   },
   {
    "duration": 34,
    "start_time": "2022-10-12T13:00:08.299Z"
   },
   {
    "duration": 9,
    "start_time": "2022-10-12T13:00:08.335Z"
   },
   {
    "duration": 13,
    "start_time": "2022-10-12T13:00:08.346Z"
   },
   {
    "duration": 155,
    "start_time": "2022-10-12T13:00:08.361Z"
   },
   {
    "duration": 219,
    "start_time": "2022-10-12T13:00:08.518Z"
   },
   {
    "duration": 194,
    "start_time": "2022-10-12T13:00:08.739Z"
   },
   {
    "duration": 241,
    "start_time": "2022-10-12T13:00:08.935Z"
   },
   {
    "duration": 5,
    "start_time": "2022-10-12T13:00:09.178Z"
   },
   {
    "duration": 4561,
    "start_time": "2022-10-12T13:00:09.184Z"
   },
   {
    "duration": 22,
    "start_time": "2022-10-12T13:00:13.747Z"
   },
   {
    "duration": 38,
    "start_time": "2022-10-12T13:00:13.770Z"
   },
   {
    "duration": 13,
    "start_time": "2022-10-12T13:00:13.809Z"
   },
   {
    "duration": 12,
    "start_time": "2022-10-12T13:00:13.824Z"
   },
   {
    "duration": 21,
    "start_time": "2022-10-12T13:00:13.838Z"
   },
   {
    "duration": 8,
    "start_time": "2022-10-12T13:00:13.861Z"
   },
   {
    "duration": 32,
    "start_time": "2022-10-12T13:00:13.870Z"
   },
   {
    "duration": 270,
    "start_time": "2022-10-12T13:00:13.903Z"
   },
   {
    "duration": 3,
    "start_time": "2022-10-12T13:00:14.174Z"
   },
   {
    "duration": 30,
    "start_time": "2022-10-12T13:00:14.179Z"
   },
   {
    "duration": 687,
    "start_time": "2022-10-12T13:00:14.211Z"
   },
   {
    "duration": 4,
    "start_time": "2022-10-12T13:00:14.900Z"
   },
   {
    "duration": 31,
    "start_time": "2022-10-12T13:00:14.906Z"
   },
   {
    "duration": 25,
    "start_time": "2022-10-12T13:00:14.939Z"
   },
   {
    "duration": 54,
    "start_time": "2022-10-12T13:00:14.966Z"
   },
   {
    "duration": 1281,
    "start_time": "2022-10-12T13:13:19.845Z"
   },
   {
    "duration": 7264,
    "start_time": "2022-10-12T13:13:21.128Z"
   },
   {
    "duration": 37,
    "start_time": "2022-10-12T13:13:28.394Z"
   },
   {
    "duration": 14,
    "start_time": "2022-10-12T13:13:28.434Z"
   },
   {
    "duration": 67,
    "start_time": "2022-10-12T13:13:28.450Z"
   },
   {
    "duration": 11,
    "start_time": "2022-10-12T13:13:28.520Z"
   },
   {
    "duration": 18,
    "start_time": "2022-10-12T13:13:28.533Z"
   },
   {
    "duration": 46,
    "start_time": "2022-10-12T13:13:28.553Z"
   },
   {
    "duration": 8,
    "start_time": "2022-10-12T13:13:28.601Z"
   },
   {
    "duration": 9,
    "start_time": "2022-10-12T13:13:28.612Z"
   },
   {
    "duration": 13,
    "start_time": "2022-10-12T13:13:28.623Z"
   },
   {
    "duration": 8,
    "start_time": "2022-10-12T13:13:28.638Z"
   },
   {
    "duration": 6,
    "start_time": "2022-10-12T13:13:28.650Z"
   },
   {
    "duration": 39,
    "start_time": "2022-10-12T13:13:28.657Z"
   },
   {
    "duration": 134,
    "start_time": "2022-10-12T13:13:28.698Z"
   },
   {
    "duration": 21,
    "start_time": "2022-10-12T13:13:28.834Z"
   },
   {
    "duration": 12,
    "start_time": "2022-10-12T13:13:28.857Z"
   },
   {
    "duration": 37,
    "start_time": "2022-10-12T13:13:28.871Z"
   },
   {
    "duration": 13,
    "start_time": "2022-10-12T13:13:28.911Z"
   },
   {
    "duration": 12,
    "start_time": "2022-10-12T13:13:28.926Z"
   },
   {
    "duration": 21,
    "start_time": "2022-10-12T13:13:28.940Z"
   },
   {
    "duration": 9,
    "start_time": "2022-10-12T13:13:28.963Z"
   },
   {
    "duration": 485,
    "start_time": "2022-10-12T13:13:28.995Z"
   },
   {
    "duration": 101,
    "start_time": "2022-10-12T13:13:29.481Z"
   },
   {
    "duration": 144,
    "start_time": "2022-10-12T13:13:29.584Z"
   },
   {
    "duration": 74,
    "start_time": "2022-10-12T13:13:29.730Z"
   },
   {
    "duration": 7,
    "start_time": "2022-10-12T13:13:29.806Z"
   },
   {
    "duration": 11,
    "start_time": "2022-10-12T13:13:29.816Z"
   },
   {
    "duration": 11,
    "start_time": "2022-10-12T13:13:29.828Z"
   },
   {
    "duration": 40,
    "start_time": "2022-10-12T13:13:29.841Z"
   },
   {
    "duration": 13,
    "start_time": "2022-10-12T13:13:29.882Z"
   },
   {
    "duration": 14,
    "start_time": "2022-10-12T13:13:29.897Z"
   },
   {
    "duration": 163,
    "start_time": "2022-10-12T13:13:29.913Z"
   },
   {
    "duration": 293,
    "start_time": "2022-10-12T13:13:30.078Z"
   },
   {
    "duration": 374,
    "start_time": "2022-10-12T13:13:30.373Z"
   },
   {
    "duration": 243,
    "start_time": "2022-10-12T13:13:30.749Z"
   },
   {
    "duration": 6,
    "start_time": "2022-10-12T13:13:30.994Z"
   },
   {
    "duration": 5228,
    "start_time": "2022-10-12T13:13:31.003Z"
   },
   {
    "duration": 32,
    "start_time": "2022-10-12T13:13:36.233Z"
   },
   {
    "duration": 46,
    "start_time": "2022-10-12T13:13:36.267Z"
   },
   {
    "duration": 15,
    "start_time": "2022-10-12T13:13:36.315Z"
   },
   {
    "duration": 7,
    "start_time": "2022-10-12T13:13:36.332Z"
   },
   {
    "duration": 19,
    "start_time": "2022-10-12T13:13:36.340Z"
   },
   {
    "duration": 42,
    "start_time": "2022-10-12T13:13:36.361Z"
   },
   {
    "duration": 12,
    "start_time": "2022-10-12T13:13:36.405Z"
   },
   {
    "duration": 348,
    "start_time": "2022-10-12T13:13:36.419Z"
   },
   {
    "duration": 4,
    "start_time": "2022-10-12T13:13:36.769Z"
   },
   {
    "duration": 48,
    "start_time": "2022-10-12T13:13:36.775Z"
   },
   {
    "duration": 755,
    "start_time": "2022-10-12T13:13:36.824Z"
   },
   {
    "duration": 5,
    "start_time": "2022-10-12T13:13:37.581Z"
   },
   {
    "duration": 153,
    "start_time": "2022-10-12T13:13:37.596Z"
   },
   {
    "duration": 43,
    "start_time": "2022-10-12T13:13:37.751Z"
   },
   {
    "duration": 31,
    "start_time": "2022-10-12T13:13:37.796Z"
   }
  ],
  "kernelspec": {
   "display_name": "Python 3",
   "language": "python",
   "name": "python3"
  },
  "language_info": {
   "codemirror_mode": {
    "name": "ipython",
    "version": 3
   },
   "file_extension": ".py",
   "mimetype": "text/x-python",
   "name": "python",
   "nbconvert_exporter": "python",
   "pygments_lexer": "ipython3",
   "version": "3.8.8"
  },
  "toc": {
   "base_numbering": 1,
   "nav_menu": {
    "height": "573px",
    "width": "355px"
   },
   "number_sections": true,
   "sideBar": true,
   "skip_h1_title": false,
   "title_cell": "Table of Contents",
   "title_sidebar": "Contents",
   "toc_cell": true,
   "toc_position": {
    "height": "calc(100% - 180px)",
    "left": "10px",
    "top": "150px",
    "width": "258.314px"
   },
   "toc_section_display": true,
   "toc_window_display": false
  }
 },
 "nbformat": 4,
 "nbformat_minor": 5
}
