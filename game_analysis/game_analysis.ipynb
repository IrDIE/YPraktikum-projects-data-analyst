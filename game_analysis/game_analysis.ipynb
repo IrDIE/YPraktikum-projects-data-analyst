{
 "cells": [
  {
   "cell_type": "markdown",
   "id": "b793368d",
   "metadata": {},
   "source": [
    "# Описание проекта\n",
    "\n",
    "Вы работаете в интернет-магазине «Стримчик», который продаёт по всему миру компьютерные игры. Из открытых источников доступны исторические данные о продажах игр, оценки пользователей и экспертов, жанры и платформы (например, Xbox или PlayStation). Вам нужно выявить определяющие успешность игры закономерности. Это позволит сделать ставку на потенциально популярный продукт и спланировать рекламные кампании.\n",
    "\n",
    "\n",
    "Перед вами данные до 2016 года. Представим, что сейчас декабрь 2016 г., и вы планируете кампанию на 2017-й. Нужно отработать принцип работы с данными. Неважно, прогнозируете ли вы продажи на 2017 год по данным 2016-го или же 2027-й — по данным 2026 года.\n",
    "\n",
    "\n",
    "В наборе данных попадается аббревиатура ESRB (Entertainment Software Rating Board) — это ассоциация, определяющая возрастной рейтинг компьютерных игр. ESRB оценивает игровой контент и присваивает ему подходящую возрастную категорию, например, «Для взрослых», «Для детей младшего возраста» или «Для подростков».\n",
    "\n",
    "\n",
    "# Описание данных\n",
    "\n",
    "● Name — название игры\n",
    "\n",
    "● Platform — платформа\n",
    "\n",
    "● Year_of_Release — год выпуска\n",
    "\n",
    "● Genre — жанр игры\n",
    "\n",
    "● NA_sales — продажи в Северной Америке (миллионы проданных копий)\n",
    "\n",
    "● EU_sales — продажи в Европе (миллионы проданных копий)\n",
    "\n",
    "● JP_sales — продажи в Японии (миллионы проданных копий)\n",
    "\n",
    "● Other_sales — продажи в других странах (миллионы проданных копий)\n",
    "\n",
    "● Critic_Score — оценка критиков (максимум 100)\n",
    "\n",
    "● User_Score — оценка пользователей (максимум 10)\n",
    "\n",
    "● Rating — рейтинг от организации ESRB (англ. Entertainment Software Rating\n",
    "Board). Эта ассоциация определяет рейтинг компьютерных игр и присваивает\n",
    "им подходящую возрастную категорию.\n",
    "\n",
    "\n",
    "**Нужно выявить определяющие успешность игры закономерности.**\n",
    "\n",
    "\n"
   ]
  },
  {
   "cell_type": "markdown",
   "id": "559034af",
   "metadata": {},
   "source": [
    "# ПЛАН РАБОТЫ\n",
    "\n",
    "1. Загрузим датасет, предобработка данных, считаем суммарные продажи по регионам\n",
    "2. Проанализируем : \n",
    "* сколько игр выпускалось в разные годы. Важны ли данные за все периоды?\n",
    "* как менялись продажи по платформам\n",
    "\n",
    "3. Выделим данные за актуальный период\n",
    "5. Выберем самые потенциально прибыльные платформы и исследуем их\n",
    "6. Построим график «ящик с усами» по глобальным продажам игр в разбивке по платформам.\n",
    "7. Посмотрим влияние отзывов на продажи и распределения жанров\n",
    "\n",
    "8. Найдём топ-5 платформ и жанров для регионов\n",
    "9. Влияет ли рейтинг ESRB на продажи в отдельном регионе?\n",
    "10. Определим гипотезы и проверим их\n",
    "11. Вывод"
   ]
  },
  {
   "cell_type": "markdown",
   "id": "ef541a89",
   "metadata": {},
   "source": [
    "# Подготовка данных"
   ]
  },
  {
   "cell_type": "code",
   "execution_count": 1,
   "id": "5ed105fa",
   "metadata": {},
   "outputs": [],
   "source": [
    "import pandas as pd\n",
    "import seaborn as sns\n",
    "import matplotlib.pyplot as plt\n",
    "import numpy as np\n",
    "import matplotlib\n",
    "from scipy import stats"
   ]
  },
  {
   "cell_type": "code",
   "execution_count": 2,
   "id": "deaa4a10",
   "metadata": {},
   "outputs": [
    {
     "data": {
      "text/html": [
       "<div>\n",
       "<style scoped>\n",
       "    .dataframe tbody tr th:only-of-type {\n",
       "        vertical-align: middle;\n",
       "    }\n",
       "\n",
       "    .dataframe tbody tr th {\n",
       "        vertical-align: top;\n",
       "    }\n",
       "\n",
       "    .dataframe thead th {\n",
       "        text-align: right;\n",
       "    }\n",
       "</style>\n",
       "<table border=\"1\" class=\"dataframe\">\n",
       "  <thead>\n",
       "    <tr style=\"text-align: right;\">\n",
       "      <th></th>\n",
       "      <th>Name</th>\n",
       "      <th>Platform</th>\n",
       "      <th>Year_of_Release</th>\n",
       "      <th>Genre</th>\n",
       "      <th>NA_sales</th>\n",
       "      <th>EU_sales</th>\n",
       "      <th>JP_sales</th>\n",
       "      <th>Other_sales</th>\n",
       "      <th>Critic_Score</th>\n",
       "      <th>User_Score</th>\n",
       "      <th>Rating</th>\n",
       "    </tr>\n",
       "  </thead>\n",
       "  <tbody>\n",
       "    <tr>\n",
       "      <th>0</th>\n",
       "      <td>Wii Sports</td>\n",
       "      <td>Wii</td>\n",
       "      <td>2006.0</td>\n",
       "      <td>Sports</td>\n",
       "      <td>41.36</td>\n",
       "      <td>28.96</td>\n",
       "      <td>3.77</td>\n",
       "      <td>8.45</td>\n",
       "      <td>76.0</td>\n",
       "      <td>8</td>\n",
       "      <td>E</td>\n",
       "    </tr>\n",
       "    <tr>\n",
       "      <th>1</th>\n",
       "      <td>Super Mario Bros.</td>\n",
       "      <td>NES</td>\n",
       "      <td>1985.0</td>\n",
       "      <td>Platform</td>\n",
       "      <td>29.08</td>\n",
       "      <td>3.58</td>\n",
       "      <td>6.81</td>\n",
       "      <td>0.77</td>\n",
       "      <td>NaN</td>\n",
       "      <td>NaN</td>\n",
       "      <td>NaN</td>\n",
       "    </tr>\n",
       "    <tr>\n",
       "      <th>2</th>\n",
       "      <td>Mario Kart Wii</td>\n",
       "      <td>Wii</td>\n",
       "      <td>2008.0</td>\n",
       "      <td>Racing</td>\n",
       "      <td>15.68</td>\n",
       "      <td>12.76</td>\n",
       "      <td>3.79</td>\n",
       "      <td>3.29</td>\n",
       "      <td>82.0</td>\n",
       "      <td>8.3</td>\n",
       "      <td>E</td>\n",
       "    </tr>\n",
       "    <tr>\n",
       "      <th>3</th>\n",
       "      <td>Wii Sports Resort</td>\n",
       "      <td>Wii</td>\n",
       "      <td>2009.0</td>\n",
       "      <td>Sports</td>\n",
       "      <td>15.61</td>\n",
       "      <td>10.93</td>\n",
       "      <td>3.28</td>\n",
       "      <td>2.95</td>\n",
       "      <td>80.0</td>\n",
       "      <td>8</td>\n",
       "      <td>E</td>\n",
       "    </tr>\n",
       "    <tr>\n",
       "      <th>4</th>\n",
       "      <td>Pokemon Red/Pokemon Blue</td>\n",
       "      <td>GB</td>\n",
       "      <td>1996.0</td>\n",
       "      <td>Role-Playing</td>\n",
       "      <td>11.27</td>\n",
       "      <td>8.89</td>\n",
       "      <td>10.22</td>\n",
       "      <td>1.00</td>\n",
       "      <td>NaN</td>\n",
       "      <td>NaN</td>\n",
       "      <td>NaN</td>\n",
       "    </tr>\n",
       "  </tbody>\n",
       "</table>\n",
       "</div>"
      ],
      "text/plain": [
       "                       Name Platform  Year_of_Release         Genre  NA_sales  \\\n",
       "0                Wii Sports      Wii           2006.0        Sports     41.36   \n",
       "1         Super Mario Bros.      NES           1985.0      Platform     29.08   \n",
       "2            Mario Kart Wii      Wii           2008.0        Racing     15.68   \n",
       "3         Wii Sports Resort      Wii           2009.0        Sports     15.61   \n",
       "4  Pokemon Red/Pokemon Blue       GB           1996.0  Role-Playing     11.27   \n",
       "\n",
       "   EU_sales  JP_sales  Other_sales  Critic_Score User_Score Rating  \n",
       "0     28.96      3.77         8.45          76.0          8      E  \n",
       "1      3.58      6.81         0.77           NaN        NaN    NaN  \n",
       "2     12.76      3.79         3.29          82.0        8.3      E  \n",
       "3     10.93      3.28         2.95          80.0          8      E  \n",
       "4      8.89     10.22         1.00           NaN        NaN    NaN  "
      ]
     },
     "execution_count": 2,
     "metadata": {},
     "output_type": "execute_result"
    }
   ],
   "source": [
    "df = pd.read_csv('games.csv')\n",
    "df.head()"
   ]
  },
  {
   "cell_type": "markdown",
   "id": "5fb7c561",
   "metadata": {},
   "source": [
    "Сначала приведём названия колонок к нижнему регистру"
   ]
  },
  {
   "cell_type": "code",
   "execution_count": 3,
   "id": "c9b9c107",
   "metadata": {},
   "outputs": [],
   "source": [
    "df.columns = df.columns.str.lower()"
   ]
  },
  {
   "cell_type": "code",
   "execution_count": 4,
   "id": "11051894",
   "metadata": {
    "scrolled": true
   },
   "outputs": [
    {
     "name": "stdout",
     "output_type": "stream",
     "text": [
      "<class 'pandas.core.frame.DataFrame'>\n",
      "RangeIndex: 16715 entries, 0 to 16714\n",
      "Data columns (total 11 columns):\n",
      " #   Column           Non-Null Count  Dtype  \n",
      "---  ------           --------------  -----  \n",
      " 0   name             16713 non-null  object \n",
      " 1   platform         16715 non-null  object \n",
      " 2   year_of_release  16446 non-null  float64\n",
      " 3   genre            16713 non-null  object \n",
      " 4   na_sales         16715 non-null  float64\n",
      " 5   eu_sales         16715 non-null  float64\n",
      " 6   jp_sales         16715 non-null  float64\n",
      " 7   other_sales      16715 non-null  float64\n",
      " 8   critic_score     8137 non-null   float64\n",
      " 9   user_score       10014 non-null  object \n",
      " 10  rating           9949 non-null   object \n",
      "dtypes: float64(6), object(5)\n",
      "memory usage: 1.4+ MB\n"
     ]
    }
   ],
   "source": [
    "df.info()"
   ]
  },
  {
   "cell_type": "code",
   "execution_count": 5,
   "id": "e62ce687",
   "metadata": {},
   "outputs": [
    {
     "name": "stdout",
     "output_type": "stream",
     "text": [
      "доля пропусков =  0.01609332934489979\n"
     ]
    }
   ],
   "source": [
    "# Year_of_Release - нужно к дате -- это год. \n",
    "df['year_of_release'] = pd.DatetimeIndex(pd.to_datetime(df['year_of_release'], format = '%Y')).year\n",
    "print('доля пропусков = ', df.year_of_release.isna().sum() / len(df))\n",
    "\n",
    "# Процент пропусков небольшой - удалим строки с пропусками\n",
    "df = df.dropna(subset = ['year_of_release'])"
   ]
  },
  {
   "cell_type": "code",
   "execution_count": null,
   "id": "197523b9",
   "metadata": {},
   "outputs": [],
   "source": []
  },
  {
   "cell_type": "markdown",
   "id": "4121a2b7",
   "metadata": {},
   "source": [
    "**столбец critic_score** - оценка критиков"
   ]
  },
  {
   "cell_type": "code",
   "execution_count": 6,
   "id": "3f1ef720",
   "metadata": {},
   "outputs": [
    {
     "data": {
      "text/plain": [
       "<AxesSubplot:xlabel='critic_score', ylabel='Count'>"
      ]
     },
     "execution_count": 6,
     "metadata": {},
     "output_type": "execute_result"
    },
    {
     "data": {
      "image/png": "[encoded data removed]",
      "text/plain": [
       "<Figure size 432x288 with 1 Axes>"
      ]
     },
     "metadata": {
      "needs_background": "light"
     },
     "output_type": "display_data"
    }
   ],
   "source": [
    "# много пропусков, вероятнее всего оценки просто нет\n",
    "# посмотрим на распределение\n",
    "sns.histplot(df['critic_score'])"
   ]
  },
  {
   "cell_type": "markdown",
   "id": "606b53fd",
   "metadata": {},
   "source": [
    "поставим заглушку на строки с пропусками (чтобы не удалять их и не терять данные) : потом будем их фильтровать"
   ]
  },
  {
   "cell_type": "code",
   "execution_count": 7,
   "id": "5809b8eb",
   "metadata": {},
   "outputs": [],
   "source": [
    "#пропуски заполним -1 и приведём значения к нужному типу\n",
    "df['critic_score'] = df['critic_score'].fillna(-1)\n",
    "\n",
    "df['critic_score'] = df['critic_score'].astype('int64')"
   ]
  },
  {
   "cell_type": "markdown",
   "id": "555a9c1c",
   "metadata": {
    "scrolled": true
   },
   "source": [
    "В основком критики оценивают от 60 до 90"
   ]
  },
  {
   "cell_type": "markdown",
   "id": "9dc5898a",
   "metadata": {},
   "source": [
    "**столбец user_score** - пользовательская оценка"
   ]
  },
  {
   "cell_type": "code",
   "execution_count": 8,
   "id": "dd2a7c9e",
   "metadata": {},
   "outputs": [
    {
     "name": "stdout",
     "output_type": "stream",
     "text": [
      "доля пропусков =  0.40173902468685396\n"
     ]
    }
   ],
   "source": [
    "print('доля пропусков = ', df['user_score'].isna().sum() / len(df))\n",
    "# пропусков очень много"
   ]
  },
  {
   "cell_type": "code",
   "execution_count": 9,
   "id": "69904867",
   "metadata": {},
   "outputs": [
    {
     "data": {
      "text/plain": [
       "array(['8', nan, '8.3', '8.5', '6.6', '8.4', '8.6', '7.7', '6.3', '7.4',\n",
       "       '8.2', '9', '7.9', '8.1', '8.7', '7.1', '3.4', '5.3', '4.8', '3.2',\n",
       "       '8.9', '6.4', '7.8', '7.5', '2.6', '7.2', '9.2', '7', '7.3', '4.3',\n",
       "       '7.6', '5.7', '5', '9.1', '6.5', 'tbd', '8.8', '6.9', '9.4', '6.8',\n",
       "       '6.1', '6.7', '5.4', '4', '4.9', '4.5', '9.3', '6.2', '4.2', '6',\n",
       "       '3.7', '4.1', '5.8', '5.6', '5.5', '4.4', '4.6', '5.9', '3.9',\n",
       "       '3.1', '2.9', '5.2', '3.3', '4.7', '5.1', '3.5', '2.5', '1.9', '3',\n",
       "       '2.7', '2.2', '2', '9.5', '2.1', '3.6', '2.8', '1.8', '3.8', '0',\n",
       "       '1.6', '9.6', '2.4', '1.7', '1.1', '0.3', '1.5', '0.7', '1.2',\n",
       "       '2.3', '0.5', '1.3', '0.2', '0.6', '1.4', '0.9', '1', '9.7'],\n",
       "      dtype=object)"
      ]
     },
     "execution_count": 9,
     "metadata": {},
     "output_type": "execute_result"
    }
   ],
   "source": [
    "df.user_score.unique()"
   ]
  },
  {
   "cell_type": "markdown",
   "id": "1f5e68f0",
   "metadata": {},
   "source": [
    "Видим что у нас есть пропуски и строковое значение tbd - to be determined - ещё не определено. Ставим заглушки"
   ]
  },
  {
   "cell_type": "code",
   "execution_count": 10,
   "id": "dfa806d3",
   "metadata": {},
   "outputs": [],
   "source": [
    "# ставим заглушку\n",
    "df['user_score'].replace({'tbd' : '-1'}, inplace= True)\n",
    "df['user_score'] = df['user_score'].fillna(-1)\n",
    "# теперь можем привести к нужному типу\n",
    "df['user_score'] = df['user_score'].astype('float64')"
   ]
  },
  {
   "cell_type": "code",
   "execution_count": 11,
   "id": "1914b773",
   "metadata": {
    "scrolled": true
   },
   "outputs": [
    {
     "data": {
      "text/plain": [
       "<AxesSubplot:xlabel='user_score', ylabel='Count'>"
      ]
     },
     "execution_count": 11,
     "metadata": {},
     "output_type": "execute_result"
    },
    {
     "data": {
      "image/png": "[encoded data removed]",
      "text/plain": [
       "<Figure size 432x288 with 1 Axes>"
      ]
     },
     "metadata": {
      "needs_background": "light"
     },
     "output_type": "display_data"
    }
   ],
   "source": [
    "sns.histplot(df['user_score'])"
   ]
  },
  {
   "cell_type": "code",
   "execution_count": 12,
   "id": "a0d9b226",
   "metadata": {},
   "outputs": [
    {
     "data": {
      "text/plain": [
       "Text(0.5, 1.0, 'распределение пользовательских оценок')"
      ]
     },
     "execution_count": 12,
     "metadata": {},
     "output_type": "execute_result"
    },
    {
     "data": {
      "image/png": "[encoded data removed]",
      "text/plain": [
       "<Figure size 432x288 with 1 Axes>"
      ]
     },
     "metadata": {
      "needs_background": "light"
     },
     "output_type": "display_data"
    }
   ],
   "source": [
    "sns.histplot(df.query('user_score >= 0')['user_score'])\n",
    "plt.title('распределение пользовательских оценок')"
   ]
  },
  {
   "cell_type": "markdown",
   "id": "cae405bf",
   "metadata": {},
   "source": [
    "Пользователи в основном оценивают от 7 до 9 (10 бальная шкала)"
   ]
  },
  {
   "cell_type": "code",
   "execution_count": null,
   "id": "f392d9d6",
   "metadata": {},
   "outputs": [],
   "source": []
  },
  {
   "cell_type": "code",
   "execution_count": null,
   "id": "1848ef0a",
   "metadata": {},
   "outputs": [],
   "source": []
  },
  {
   "cell_type": "markdown",
   "id": "b203b9d5",
   "metadata": {},
   "source": [
    "**столбец rating**\n",
    "\n",
    "Заполнить пропуски в этом столбце сложнее всего, тк это не численные данные\n",
    "\n",
    "\n",
    "в идеале можно было бы скормить табличку какой нибудь модельке ML и она бы предсказала нам "
   ]
  },
  {
   "cell_type": "code",
   "execution_count": 13,
   "id": "9f7b1052",
   "metadata": {},
   "outputs": [
    {
     "data": {
      "text/plain": [
       "array(['E', nan, 'M', 'T', 'E10+', 'K-A', 'AO', 'EC', 'RP'], dtype=object)"
      ]
     },
     "execution_count": 13,
     "metadata": {},
     "output_type": "execute_result"
    }
   ],
   "source": [
    "df['rating'].unique()"
   ]
  },
  {
   "cell_type": "code",
   "execution_count": 14,
   "id": "c7ff5b78",
   "metadata": {},
   "outputs": [
    {
     "data": {
      "text/plain": [
       "0.4060561838744984"
      ]
     },
     "execution_count": 14,
     "metadata": {},
     "output_type": "execute_result"
    }
   ],
   "source": [
    "df['rating'].isna().sum() / len(df['rating'])\n",
    "# очень много пропусков"
   ]
  },
  {
   "cell_type": "markdown",
   "id": "4aa7938f",
   "metadata": {},
   "source": [
    "Посмотрим на расшифровку рейтинга"
   ]
  },
  {
   "cell_type": "markdown",
   "id": "be4af74b",
   "metadata": {},
   "source": [
    "* «EC» («Early childhood») — «Для детей младшего возраста»:\n",
    "* «E» («Everyone») — «Для всех»\n",
    "* «E10+» («Everyone 10 and older») — «Для всех от 10 лет и старше»\n",
    "* «T» («Teen») — «Подросткам»\n",
    "* «M» («Mature») — «Для взрослых»\n",
    "* «AO» («Adults Only 18+») — «Только для взрослых»\n",
    "* «RP» («Rating Pending») — «Рейтинг ожидается»\n",
    "* «K-A» («Kids to Adults»)— «Для детей и взрослых»\n"
   ]
  },
  {
   "cell_type": "markdown",
   "id": "53927eec",
   "metadata": {},
   "source": [
    "рейтинг ESRB - рейтинг для США и Канады, а значит пропуск не савязан с ошибкой заполнения данных, просто не только для Северной Америки выпускаются игры. "
   ]
  },
  {
   "cell_type": "code",
   "execution_count": 15,
   "id": "d3050670",
   "metadata": {},
   "outputs": [
    {
     "data": {
      "text/plain": [
       "<AxesSubplot:>"
      ]
     },
     "execution_count": 15,
     "metadata": {},
     "output_type": "execute_result"
    },
    {
     "data": {
      "image/png": "[encoded data removed]",
      "text/plain": [
       "<Figure size 432x288 with 1 Axes>"
      ]
     },
     "metadata": {
      "needs_background": "light"
     },
     "output_type": "display_data"
    }
   ],
   "source": [
    "# Поставим заглушку на данные\n",
    "df['rating'] = df['rating'].fillna('-1')\n",
    "df.query('rating != \"-1\"')['rating'].hist()\n"
   ]
  },
  {
   "cell_type": "markdown",
   "id": "ab6b4df4",
   "metadata": {},
   "source": [
    "Видим что больше всего у нас игр категории \"для всех\" и \"подростки\""
   ]
  },
  {
   "cell_type": "markdown",
   "id": "df1d5663",
   "metadata": {},
   "source": [
    "**Посчитаем суммарные продажи по регионам**"
   ]
  },
  {
   "cell_type": "code",
   "execution_count": 16,
   "id": "60f882dc",
   "metadata": {
    "scrolled": true
   },
   "outputs": [
    {
     "name": "stdout",
     "output_type": "stream",
     "text": [
      "<class 'pandas.core.frame.DataFrame'>\n",
      "Int64Index: 16446 entries, 0 to 16714\n",
      "Data columns (total 11 columns):\n",
      " #   Column           Non-Null Count  Dtype  \n",
      "---  ------           --------------  -----  \n",
      " 0   name             16444 non-null  object \n",
      " 1   platform         16446 non-null  object \n",
      " 2   year_of_release  16446 non-null  float64\n",
      " 3   genre            16444 non-null  object \n",
      " 4   na_sales         16446 non-null  float64\n",
      " 5   eu_sales         16446 non-null  float64\n",
      " 6   jp_sales         16446 non-null  float64\n",
      " 7   other_sales      16446 non-null  float64\n",
      " 8   critic_score     16446 non-null  int64  \n",
      " 9   user_score       16446 non-null  float64\n",
      " 10  rating           16446 non-null  object \n",
      "dtypes: float64(6), int64(1), object(4)\n",
      "memory usage: 1.5+ MB\n"
     ]
    }
   ],
   "source": [
    "df.info()\n",
    "# у нас осталось немного пропусков по каждой колонке, удалим эти строки\n",
    "df = df.dropna(subset = df.columns)"
   ]
  },
  {
   "cell_type": "code",
   "execution_count": 17,
   "id": "831915bd",
   "metadata": {},
   "outputs": [
    {
     "data": {
      "text/html": [
       "<div>\n",
       "<style scoped>\n",
       "    .dataframe tbody tr th:only-of-type {\n",
       "        vertical-align: middle;\n",
       "    }\n",
       "\n",
       "    .dataframe tbody tr th {\n",
       "        vertical-align: top;\n",
       "    }\n",
       "\n",
       "    .dataframe thead th {\n",
       "        text-align: right;\n",
       "    }\n",
       "</style>\n",
       "<table border=\"1\" class=\"dataframe\">\n",
       "  <thead>\n",
       "    <tr style=\"text-align: right;\">\n",
       "      <th></th>\n",
       "      <th>name</th>\n",
       "      <th>platform</th>\n",
       "      <th>year_of_release</th>\n",
       "      <th>genre</th>\n",
       "      <th>na_sales</th>\n",
       "      <th>eu_sales</th>\n",
       "      <th>jp_sales</th>\n",
       "      <th>other_sales</th>\n",
       "      <th>critic_score</th>\n",
       "      <th>user_score</th>\n",
       "      <th>rating</th>\n",
       "      <th>total</th>\n",
       "    </tr>\n",
       "  </thead>\n",
       "  <tbody>\n",
       "    <tr>\n",
       "      <th>0</th>\n",
       "      <td>Wii Sports</td>\n",
       "      <td>Wii</td>\n",
       "      <td>2006.0</td>\n",
       "      <td>Sports</td>\n",
       "      <td>41.36</td>\n",
       "      <td>28.96</td>\n",
       "      <td>3.77</td>\n",
       "      <td>8.45</td>\n",
       "      <td>76</td>\n",
       "      <td>8.0</td>\n",
       "      <td>E</td>\n",
       "      <td>82.54</td>\n",
       "    </tr>\n",
       "    <tr>\n",
       "      <th>1</th>\n",
       "      <td>Super Mario Bros.</td>\n",
       "      <td>NES</td>\n",
       "      <td>1985.0</td>\n",
       "      <td>Platform</td>\n",
       "      <td>29.08</td>\n",
       "      <td>3.58</td>\n",
       "      <td>6.81</td>\n",
       "      <td>0.77</td>\n",
       "      <td>-1</td>\n",
       "      <td>-1.0</td>\n",
       "      <td>-1</td>\n",
       "      <td>40.24</td>\n",
       "    </tr>\n",
       "    <tr>\n",
       "      <th>2</th>\n",
       "      <td>Mario Kart Wii</td>\n",
       "      <td>Wii</td>\n",
       "      <td>2008.0</td>\n",
       "      <td>Racing</td>\n",
       "      <td>15.68</td>\n",
       "      <td>12.76</td>\n",
       "      <td>3.79</td>\n",
       "      <td>3.29</td>\n",
       "      <td>82</td>\n",
       "      <td>8.3</td>\n",
       "      <td>E</td>\n",
       "      <td>35.52</td>\n",
       "    </tr>\n",
       "    <tr>\n",
       "      <th>3</th>\n",
       "      <td>Wii Sports Resort</td>\n",
       "      <td>Wii</td>\n",
       "      <td>2009.0</td>\n",
       "      <td>Sports</td>\n",
       "      <td>15.61</td>\n",
       "      <td>10.93</td>\n",
       "      <td>3.28</td>\n",
       "      <td>2.95</td>\n",
       "      <td>80</td>\n",
       "      <td>8.0</td>\n",
       "      <td>E</td>\n",
       "      <td>32.77</td>\n",
       "    </tr>\n",
       "    <tr>\n",
       "      <th>4</th>\n",
       "      <td>Pokemon Red/Pokemon Blue</td>\n",
       "      <td>GB</td>\n",
       "      <td>1996.0</td>\n",
       "      <td>Role-Playing</td>\n",
       "      <td>11.27</td>\n",
       "      <td>8.89</td>\n",
       "      <td>10.22</td>\n",
       "      <td>1.00</td>\n",
       "      <td>-1</td>\n",
       "      <td>-1.0</td>\n",
       "      <td>-1</td>\n",
       "      <td>31.38</td>\n",
       "    </tr>\n",
       "  </tbody>\n",
       "</table>\n",
       "</div>"
      ],
      "text/plain": [
       "                       name platform  year_of_release         genre  na_sales  \\\n",
       "0                Wii Sports      Wii           2006.0        Sports     41.36   \n",
       "1         Super Mario Bros.      NES           1985.0      Platform     29.08   \n",
       "2            Mario Kart Wii      Wii           2008.0        Racing     15.68   \n",
       "3         Wii Sports Resort      Wii           2009.0        Sports     15.61   \n",
       "4  Pokemon Red/Pokemon Blue       GB           1996.0  Role-Playing     11.27   \n",
       "\n",
       "   eu_sales  jp_sales  other_sales  critic_score  user_score rating  total  \n",
       "0     28.96      3.77         8.45            76         8.0      E  82.54  \n",
       "1      3.58      6.81         0.77            -1        -1.0     -1  40.24  \n",
       "2     12.76      3.79         3.29            82         8.3      E  35.52  \n",
       "3     10.93      3.28         2.95            80         8.0      E  32.77  \n",
       "4      8.89     10.22         1.00            -1        -1.0     -1  31.38  "
      ]
     },
     "execution_count": 17,
     "metadata": {},
     "output_type": "execute_result"
    }
   ],
   "source": [
    "# суммируем продажи по регионам\n",
    "df['total'] = np.sum(df[['na_sales','eu_sales','jp_sales', 'other_sales']], axis = 1)\n",
    "df.head(5)"
   ]
  },
  {
   "cell_type": "code",
   "execution_count": 18,
   "id": "c3cfc24e",
   "metadata": {},
   "outputs": [
    {
     "data": {
      "text/plain": [
       "(0.0, 5.0)"
      ]
     },
     "execution_count": 18,
     "metadata": {},
     "output_type": "execute_result"
    },
    {
     "data": {
      "image/png": "[encoded data removed]",
      "text/plain": [
       "<Figure size 432x288 with 1 Axes>"
      ]
     },
     "metadata": {
      "needs_background": "light"
     },
     "output_type": "display_data"
    }
   ],
   "source": [
    "plt.hist(df['na_sales'], label = 'na_sales', alpha = 0.3, bins = 50)\n",
    "plt.hist(df['eu_sales'], label = 'eu_sales', alpha = 0.3, bins = 50)\n",
    "plt.hist(df['jp_sales'], label = 'jp_sales', alpha = 0.3, bins = 50)\n",
    "plt.legend(loc='upper right')\n",
    "plt.title('Распределение продаж по регионам в млн. копий')\n",
    "plt.xlim(0, 5)"
   ]
  },
  {
   "cell_type": "markdown",
   "id": "6d2c80f4",
   "metadata": {},
   "source": [
    "Видим что основная масса продаж - до 1 млн копий"
   ]
  },
  {
   "cell_type": "code",
   "execution_count": null,
   "id": "93b370f5",
   "metadata": {},
   "outputs": [],
   "source": []
  },
  {
   "cell_type": "markdown",
   "id": "1ea6c40d",
   "metadata": {},
   "source": [
    "# Исследовательский анализ данных\n",
    "\n",
    "\n",
    "## Сколько игр выпускалось в разные годы. Важны ли данные за все периоды?\n"
   ]
  },
  {
   "cell_type": "code",
   "execution_count": 19,
   "id": "854c7dc3",
   "metadata": {},
   "outputs": [],
   "source": [
    "# сгруппируем по году, посчитаем количество игр\n",
    "df_ngames = pd.DataFrame(df.groupby('year_of_release')['name'].count().reset_index())"
   ]
  },
  {
   "cell_type": "code",
   "execution_count": 20,
   "id": "fcfb906c",
   "metadata": {},
   "outputs": [
    {
     "name": "stdout",
     "output_type": "stream",
     "text": [
      "\n"
     ]
    },
    {
     "data": {
      "image/png": "[encoded data removed]",
      "text/plain": [
       "<Figure size 360x360 with 1 Axes>"
      ]
     },
     "metadata": {
      "needs_background": "light"
     },
     "output_type": "display_data"
    }
   ],
   "source": [
    "\n",
    "sns.relplot(x = df_ngames.year_of_release, y = df_ngames.name, kind = 'line')\n",
    "plt.title('Динамика количества выпущенных игр по годам')\n",
    "print()"
   ]
  },
  {
   "cell_type": "markdown",
   "id": "1f8bd85e",
   "metadata": {},
   "source": [
    "---\n",
    "\n",
    "<div class=\"alert alert-info\">\n",
    "Наблюдаем сильный скачок после 2000 года, в 2005 уже начали выпускать около 1000 игр/год. \n",
    "Актуальными будем считать данные с годом релиза >= 2005\n",
    "</div>\n",
    "\n",
    "---"
   ]
  },
  {
   "cell_type": "markdown",
   "id": "7a80bf03",
   "metadata": {},
   "source": [
    "## Как менялись продажи по платформам\n",
    "\n",
    "Выберем платформы с наибольшими суммарными продажами и построим распределение по годам. \n",
    "\n",
    "Изучим за какой характерный срок появляются новые и исчезают старые платформы"
   ]
  },
  {
   "cell_type": "code",
   "execution_count": 21,
   "id": "96c5fef2",
   "metadata": {},
   "outputs": [
    {
     "data": {
      "text/html": [
       "<div>\n",
       "<style scoped>\n",
       "    .dataframe tbody tr th:only-of-type {\n",
       "        vertical-align: middle;\n",
       "    }\n",
       "\n",
       "    .dataframe tbody tr th {\n",
       "        vertical-align: top;\n",
       "    }\n",
       "\n",
       "    .dataframe thead th {\n",
       "        text-align: right;\n",
       "    }\n",
       "</style>\n",
       "<table border=\"1\" class=\"dataframe\">\n",
       "  <thead>\n",
       "    <tr style=\"text-align: right;\">\n",
       "      <th></th>\n",
       "      <th>platform</th>\n",
       "      <th>year_of_release</th>\n",
       "      <th>na_sales</th>\n",
       "      <th>eu_sales</th>\n",
       "      <th>jp_sales</th>\n",
       "      <th>other_sales</th>\n",
       "      <th>total_year</th>\n",
       "    </tr>\n",
       "  </thead>\n",
       "  <tbody>\n",
       "    <tr>\n",
       "      <th>0</th>\n",
       "      <td>3DS</td>\n",
       "      <td>2011.0</td>\n",
       "      <td>27.34</td>\n",
       "      <td>18.63</td>\n",
       "      <td>12.83</td>\n",
       "      <td>4.40</td>\n",
       "      <td>63.20</td>\n",
       "    </tr>\n",
       "    <tr>\n",
       "      <th>1</th>\n",
       "      <td>3DS</td>\n",
       "      <td>2012.0</td>\n",
       "      <td>17.11</td>\n",
       "      <td>11.68</td>\n",
       "      <td>19.98</td>\n",
       "      <td>2.59</td>\n",
       "      <td>51.36</td>\n",
       "    </tr>\n",
       "    <tr>\n",
       "      <th>2</th>\n",
       "      <td>3DS</td>\n",
       "      <td>2013.0</td>\n",
       "      <td>15.56</td>\n",
       "      <td>14.84</td>\n",
       "      <td>23.57</td>\n",
       "      <td>2.60</td>\n",
       "      <td>56.57</td>\n",
       "    </tr>\n",
       "    <tr>\n",
       "      <th>3</th>\n",
       "      <td>3DS</td>\n",
       "      <td>2014.0</td>\n",
       "      <td>12.33</td>\n",
       "      <td>8.73</td>\n",
       "      <td>20.69</td>\n",
       "      <td>2.01</td>\n",
       "      <td>43.76</td>\n",
       "    </tr>\n",
       "    <tr>\n",
       "      <th>4</th>\n",
       "      <td>3DS</td>\n",
       "      <td>2015.0</td>\n",
       "      <td>6.17</td>\n",
       "      <td>5.06</td>\n",
       "      <td>15.52</td>\n",
       "      <td>1.03</td>\n",
       "      <td>27.78</td>\n",
       "    </tr>\n",
       "    <tr>\n",
       "      <th>5</th>\n",
       "      <td>3DS</td>\n",
       "      <td>2016.0</td>\n",
       "      <td>4.14</td>\n",
       "      <td>2.33</td>\n",
       "      <td>8.03</td>\n",
       "      <td>0.64</td>\n",
       "      <td>15.14</td>\n",
       "    </tr>\n",
       "    <tr>\n",
       "      <th>6</th>\n",
       "      <td>DC</td>\n",
       "      <td>2007.0</td>\n",
       "      <td>0.00</td>\n",
       "      <td>0.00</td>\n",
       "      <td>0.02</td>\n",
       "      <td>0.00</td>\n",
       "      <td>0.02</td>\n",
       "    </tr>\n",
       "    <tr>\n",
       "      <th>7</th>\n",
       "      <td>DC</td>\n",
       "      <td>2008.0</td>\n",
       "      <td>0.00</td>\n",
       "      <td>0.00</td>\n",
       "      <td>0.04</td>\n",
       "      <td>0.00</td>\n",
       "      <td>0.04</td>\n",
       "    </tr>\n",
       "  </tbody>\n",
       "</table>\n",
       "</div>"
      ],
      "text/plain": [
       "  platform  year_of_release  na_sales  eu_sales  jp_sales  other_sales  \\\n",
       "0      3DS           2011.0     27.34     18.63     12.83         4.40   \n",
       "1      3DS           2012.0     17.11     11.68     19.98         2.59   \n",
       "2      3DS           2013.0     15.56     14.84     23.57         2.60   \n",
       "3      3DS           2014.0     12.33      8.73     20.69         2.01   \n",
       "4      3DS           2015.0      6.17      5.06     15.52         1.03   \n",
       "5      3DS           2016.0      4.14      2.33      8.03         0.64   \n",
       "6       DC           2007.0      0.00      0.00      0.02         0.00   \n",
       "7       DC           2008.0      0.00      0.00      0.04         0.00   \n",
       "\n",
       "   total_year  \n",
       "0       63.20  \n",
       "1       51.36  \n",
       "2       56.57  \n",
       "3       43.76  \n",
       "4       27.78  \n",
       "5       15.14  \n",
       "6        0.02  \n",
       "7        0.04  "
      ]
     },
     "execution_count": 21,
     "metadata": {},
     "output_type": "execute_result"
    }
   ],
   "source": [
    "# сгруппирем по платформам и году и для каждой платформы посчитаем суммарные продажи по регионам в год\n",
    "df_platf_sales = df.query('year_of_release > 2005').groupby(['platform', 'year_of_release'])[['na_sales','eu_sales', 'jp_sales', 'other_sales']].sum().reset_index()\n",
    "\n",
    "# посчитаем суммарные прожажи для каждой платформы в год (сложим все регионы)\n",
    "df_platf_sales['total_year'] = np.sum(df_platf_sales.iloc[:, 2:], axis = 1)\n",
    "\n",
    "df_platf_sales.head(8)"
   ]
  },
  {
   "cell_type": "code",
   "execution_count": 22,
   "id": "ca52d3df",
   "metadata": {},
   "outputs": [
    {
     "data": {
      "text/plain": [
       "['PS3', 'X360', 'DS', 'PS4', 'Wii']"
      ]
     },
     "execution_count": 22,
     "metadata": {},
     "output_type": "execute_result"
    }
   ],
   "source": [
    "# отсортируем и создадим список названий платформ с наилучшими продажами\n",
    "top_sales_platform_15 = df_platf_sales.sort_values('total_year', ascending=False).head(20)['platform'].values\n",
    "top_sales_platform_15 = list(set(top_sales_platform_15))\n",
    "top_sales_platform_15"
   ]
  },
  {
   "cell_type": "markdown",
   "id": "e5855d13",
   "metadata": {},
   "source": [
    "Получили лидеров среди платформ по итоговым продажам, посмтрим их динамику"
   ]
  },
  {
   "cell_type": "code",
   "execution_count": 23,
   "id": "f86a171b",
   "metadata": {},
   "outputs": [
    {
     "name": "stdout",
     "output_type": "stream",
     "text": [
      "\n"
     ]
    },
    {
     "data": {
      "image/png": "[encoded data removed]",
      "text/plain": [
       "<Figure size 422x360 with 1 Axes>"
      ]
     },
     "metadata": {
      "needs_background": "light"
     },
     "output_type": "display_data"
    }
   ],
   "source": [
    "sns.relplot(data = df_platf_sales.query('platform in @top_sales_platform_15'),\\\n",
    "            x = 'year_of_release', y = 'total_year', hue = 'platform', kind = 'line' )\n",
    "plt.title('Динамика выручки по годам для каждой платформы - лидера')\n",
    "print()"
   ]
  },
  {
   "cell_type": "markdown",
   "id": "f38c0e1f",
   "metadata": {},
   "source": [
    "Микровывод : Характерный срок появления новых платформ - год, устаревают платформы примерно за 2-3 года"
   ]
  },
  {
   "cell_type": "markdown",
   "id": "bb7b5a49",
   "metadata": {},
   "source": [
    "**Возьмём данные с 2013 года - В 2010 выпустили рекордное количество игр, нам хватит данных. Мы делаем прогноз на 2017 год - возьмём данные за последние 5 лет**\n"
   ]
  },
  {
   "cell_type": "code",
   "execution_count": 24,
   "id": "1594ef9e",
   "metadata": {},
   "outputs": [],
   "source": [
    "df_2013 = df.query('year_of_release >= 2013')"
   ]
  },
  {
   "cell_type": "code",
   "execution_count": null,
   "id": "7da73858",
   "metadata": {},
   "outputs": [],
   "source": []
  },
  {
   "cell_type": "markdown",
   "id": "37e1fc02",
   "metadata": {},
   "source": [
    "## Какие платформы лидируют по продажам, растут или падают? Выберите несколько потенциально прибыльных платформ."
   ]
  },
  {
   "cell_type": "code",
   "execution_count": 25,
   "id": "c2583e87",
   "metadata": {},
   "outputs": [
    {
     "data": {
      "text/html": [
       "<div>\n",
       "<style scoped>\n",
       "    .dataframe tbody tr th:only-of-type {\n",
       "        vertical-align: middle;\n",
       "    }\n",
       "\n",
       "    .dataframe tbody tr th {\n",
       "        vertical-align: top;\n",
       "    }\n",
       "\n",
       "    .dataframe thead th {\n",
       "        text-align: right;\n",
       "    }\n",
       "</style>\n",
       "<table border=\"1\" class=\"dataframe\">\n",
       "  <thead>\n",
       "    <tr style=\"text-align: right;\">\n",
       "      <th></th>\n",
       "      <th>platform</th>\n",
       "      <th>year_of_release</th>\n",
       "      <th>na_sales</th>\n",
       "      <th>eu_sales</th>\n",
       "      <th>jp_sales</th>\n",
       "      <th>other_sales</th>\n",
       "      <th>total_year</th>\n",
       "    </tr>\n",
       "  </thead>\n",
       "  <tbody>\n",
       "    <tr>\n",
       "      <th>0</th>\n",
       "      <td>3DS</td>\n",
       "      <td>2011.0</td>\n",
       "      <td>27.34</td>\n",
       "      <td>18.63</td>\n",
       "      <td>12.83</td>\n",
       "      <td>4.40</td>\n",
       "      <td>63.20</td>\n",
       "    </tr>\n",
       "    <tr>\n",
       "      <th>1</th>\n",
       "      <td>3DS</td>\n",
       "      <td>2012.0</td>\n",
       "      <td>17.11</td>\n",
       "      <td>11.68</td>\n",
       "      <td>19.98</td>\n",
       "      <td>2.59</td>\n",
       "      <td>51.36</td>\n",
       "    </tr>\n",
       "    <tr>\n",
       "      <th>2</th>\n",
       "      <td>3DS</td>\n",
       "      <td>2013.0</td>\n",
       "      <td>15.56</td>\n",
       "      <td>14.84</td>\n",
       "      <td>23.57</td>\n",
       "      <td>2.60</td>\n",
       "      <td>56.57</td>\n",
       "    </tr>\n",
       "    <tr>\n",
       "      <th>3</th>\n",
       "      <td>3DS</td>\n",
       "      <td>2014.0</td>\n",
       "      <td>12.33</td>\n",
       "      <td>8.73</td>\n",
       "      <td>20.69</td>\n",
       "      <td>2.01</td>\n",
       "      <td>43.76</td>\n",
       "    </tr>\n",
       "    <tr>\n",
       "      <th>4</th>\n",
       "      <td>3DS</td>\n",
       "      <td>2015.0</td>\n",
       "      <td>6.17</td>\n",
       "      <td>5.06</td>\n",
       "      <td>15.52</td>\n",
       "      <td>1.03</td>\n",
       "      <td>27.78</td>\n",
       "    </tr>\n",
       "  </tbody>\n",
       "</table>\n",
       "</div>"
      ],
      "text/plain": [
       "  platform  year_of_release  na_sales  eu_sales  jp_sales  other_sales  \\\n",
       "0      3DS           2011.0     27.34     18.63     12.83         4.40   \n",
       "1      3DS           2012.0     17.11     11.68     19.98         2.59   \n",
       "2      3DS           2013.0     15.56     14.84     23.57         2.60   \n",
       "3      3DS           2014.0     12.33      8.73     20.69         2.01   \n",
       "4      3DS           2015.0      6.17      5.06     15.52         1.03   \n",
       "\n",
       "   total_year  \n",
       "0       63.20  \n",
       "1       51.36  \n",
       "2       56.57  \n",
       "3       43.76  \n",
       "4       27.78  "
      ]
     },
     "execution_count": 25,
     "metadata": {},
     "output_type": "execute_result"
    }
   ],
   "source": [
    "# есть таблица с данными за платформа/год \n",
    "df_platf_sales.head()"
   ]
  },
  {
   "cell_type": "code",
   "execution_count": 26,
   "id": "3e8de3ca",
   "metadata": {},
   "outputs": [
    {
     "data": {
      "image/png": "[encoded data removed]",
      "text/plain": [
       "<Figure size 648x576 with 1 Axes>"
      ]
     },
     "metadata": {
      "needs_background": "light"
     },
     "output_type": "display_data"
    }
   ],
   "source": [
    "df_platf_sales = df_platf_sales.query('year_of_release > 2012')\n",
    "plt.figure(figsize=(9,8))\n",
    "sns.lineplot(data = df_platf_sales, x = 'year_of_release', y = 'total_year', hue = 'platform')\n",
    "plt.show()\n"
   ]
  },
  {
   "cell_type": "markdown",
   "id": "668ef2c1",
   "metadata": {},
   "source": [
    "Видим что \n",
    "* PS4, XOne, X360 и 3DS падают в продажах но остаются лидерами\n",
    "* как только начинает падать в продажах версия PS то создаётся новая\n",
    "* в целом все платформы падают в продажах за 2014-2016 год\n"
   ]
  },
  {
   "cell_type": "code",
   "execution_count": null,
   "id": "6355a4ed",
   "metadata": {},
   "outputs": [],
   "source": []
  },
  {
   "cell_type": "code",
   "execution_count": null,
   "id": "27af1b61",
   "metadata": {},
   "outputs": [],
   "source": []
  },
  {
   "cell_type": "markdown",
   "id": "6eac3fa9",
   "metadata": {},
   "source": [
    "## Построим график «ящик с усами» по глобальным продажам игр в разбивке по платформам."
   ]
  },
  {
   "cell_type": "code",
   "execution_count": 27,
   "id": "854da762",
   "metadata": {},
   "outputs": [
    {
     "data": {
      "text/html": [
       "<div>\n",
       "<style scoped>\n",
       "    .dataframe tbody tr th:only-of-type {\n",
       "        vertical-align: middle;\n",
       "    }\n",
       "\n",
       "    .dataframe tbody tr th {\n",
       "        vertical-align: top;\n",
       "    }\n",
       "\n",
       "    .dataframe thead th {\n",
       "        text-align: right;\n",
       "    }\n",
       "</style>\n",
       "<table border=\"1\" class=\"dataframe\">\n",
       "  <thead>\n",
       "    <tr style=\"text-align: right;\">\n",
       "      <th></th>\n",
       "      <th>platform</th>\n",
       "      <th>name</th>\n",
       "      <th>na_sales</th>\n",
       "      <th>eu_sales</th>\n",
       "      <th>jp_sales</th>\n",
       "      <th>other_sales</th>\n",
       "      <th>total_per_game</th>\n",
       "    </tr>\n",
       "  </thead>\n",
       "  <tbody>\n",
       "    <tr>\n",
       "      <th>0</th>\n",
       "      <td>2600</td>\n",
       "      <td>Action Force</td>\n",
       "      <td>0.50</td>\n",
       "      <td>0.03</td>\n",
       "      <td>0.0</td>\n",
       "      <td>0.01</td>\n",
       "      <td>0.54</td>\n",
       "    </tr>\n",
       "    <tr>\n",
       "      <th>1</th>\n",
       "      <td>2600</td>\n",
       "      <td>Adventures of Tron</td>\n",
       "      <td>0.63</td>\n",
       "      <td>0.03</td>\n",
       "      <td>0.0</td>\n",
       "      <td>0.01</td>\n",
       "      <td>0.67</td>\n",
       "    </tr>\n",
       "    <tr>\n",
       "      <th>2</th>\n",
       "      <td>2600</td>\n",
       "      <td>Air Raid</td>\n",
       "      <td>0.72</td>\n",
       "      <td>0.04</td>\n",
       "      <td>0.0</td>\n",
       "      <td>0.01</td>\n",
       "      <td>0.77</td>\n",
       "    </tr>\n",
       "    <tr>\n",
       "      <th>3</th>\n",
       "      <td>2600</td>\n",
       "      <td>Airlock</td>\n",
       "      <td>0.36</td>\n",
       "      <td>0.02</td>\n",
       "      <td>0.0</td>\n",
       "      <td>0.00</td>\n",
       "      <td>0.38</td>\n",
       "    </tr>\n",
       "    <tr>\n",
       "      <th>4</th>\n",
       "      <td>2600</td>\n",
       "      <td>Alien</td>\n",
       "      <td>0.74</td>\n",
       "      <td>0.04</td>\n",
       "      <td>0.0</td>\n",
       "      <td>0.01</td>\n",
       "      <td>0.79</td>\n",
       "    </tr>\n",
       "  </tbody>\n",
       "</table>\n",
       "</div>"
      ],
      "text/plain": [
       "  platform                name  na_sales  eu_sales  jp_sales  other_sales  \\\n",
       "0     2600        Action Force      0.50      0.03       0.0         0.01   \n",
       "1     2600  Adventures of Tron      0.63      0.03       0.0         0.01   \n",
       "2     2600            Air Raid      0.72      0.04       0.0         0.01   \n",
       "3     2600             Airlock      0.36      0.02       0.0         0.00   \n",
       "4     2600               Alien      0.74      0.04       0.0         0.01   \n",
       "\n",
       "   total_per_game  \n",
       "0            0.54  \n",
       "1            0.67  \n",
       "2            0.77  \n",
       "3            0.38  \n",
       "4            0.79  "
      ]
     },
     "execution_count": 27,
     "metadata": {},
     "output_type": "execute_result"
    }
   ],
   "source": [
    "# сгруппируем по платформе и играм, получим суммарный доход с каждой игры на каждой платформе\n",
    "df_game_sales = df.groupby(['platform', 'name'])[['na_sales', 'eu_sales', 'jp_sales', 'other_sales']].sum().reset_index()\n",
    "df_game_sales['total_per_game'] = np.sum(df_game_sales.iloc[:, 2:6], axis = 1)\n",
    "df_game_sales.head()"
   ]
  },
  {
   "cell_type": "code",
   "execution_count": 28,
   "id": "bd23b115",
   "metadata": {},
   "outputs": [
    {
     "data": {
      "text/plain": [
       "<AxesSubplot:xlabel='platform', ylabel='total_per_game'>"
      ]
     },
     "execution_count": 28,
     "metadata": {},
     "output_type": "execute_result"
    },
    {
     "data": {
      "image/png": "[encoded data removed]",
      "text/plain": [
       "<Figure size 1440x1080 with 1 Axes>"
      ]
     },
     "metadata": {
      "needs_background": "light"
     },
     "output_type": "display_data"
    }
   ],
   "source": [
    "plt.figure(figsize=(20,15))\n",
    "plt.ylim(0,5)\n",
    "sns.boxplot(data = df_game_sales, x = 'platform', y = 'total_per_game')"
   ]
  },
  {
   "cell_type": "markdown",
   "id": "4eb20bb3",
   "metadata": {},
   "source": [
    "Видим что за весь период больше всего зарабатывают на играх с NES, GB, 2600, PS и Wii/WiiU, X360, XOne"
   ]
  },
  {
   "cell_type": "markdown",
   "id": "535bd4b5",
   "metadata": {},
   "source": [
    "## Как влияют на продажи внутри одной популярной платформы отзывы пользователей и критиков. \n",
    "Постройте диаграмму рассеяния и\n",
    "посчитайте корреляцию между отзывами и продажами. Сформулируйте\n",
    "выводы.\n",
    "\n",
    "\n",
    "Рассмотрим - PS, X360, XOne, PS2, PS4\n",
    "\n",
    "Будем смотреть глобальную таблицу"
   ]
  },
  {
   "cell_type": "code",
   "execution_count": 29,
   "id": "cf2e50a7",
   "metadata": {},
   "outputs": [
    {
     "data": {
      "text/html": [
       "<div>\n",
       "<style scoped>\n",
       "    .dataframe tbody tr th:only-of-type {\n",
       "        vertical-align: middle;\n",
       "    }\n",
       "\n",
       "    .dataframe tbody tr th {\n",
       "        vertical-align: top;\n",
       "    }\n",
       "\n",
       "    .dataframe thead th {\n",
       "        text-align: right;\n",
       "    }\n",
       "</style>\n",
       "<table border=\"1\" class=\"dataframe\">\n",
       "  <thead>\n",
       "    <tr style=\"text-align: right;\">\n",
       "      <th></th>\n",
       "      <th>critic_score</th>\n",
       "      <th>user_score</th>\n",
       "      <th>total</th>\n",
       "    </tr>\n",
       "  </thead>\n",
       "  <tbody>\n",
       "    <tr>\n",
       "      <th>critic_score</th>\n",
       "      <td>1.000000</td>\n",
       "      <td>0.631154</td>\n",
       "      <td>0.428213</td>\n",
       "    </tr>\n",
       "    <tr>\n",
       "      <th>user_score</th>\n",
       "      <td>0.631154</td>\n",
       "      <td>1.000000</td>\n",
       "      <td>0.143978</td>\n",
       "    </tr>\n",
       "    <tr>\n",
       "      <th>total</th>\n",
       "      <td>0.428213</td>\n",
       "      <td>0.143978</td>\n",
       "      <td>1.000000</td>\n",
       "    </tr>\n",
       "  </tbody>\n",
       "</table>\n",
       "</div>"
      ],
      "text/plain": [
       "              critic_score  user_score     total\n",
       "critic_score      1.000000    0.631154  0.428213\n",
       "user_score        0.631154    1.000000  0.143978\n",
       "total             0.428213    0.143978  1.000000"
      ]
     },
     "execution_count": 29,
     "metadata": {},
     "output_type": "execute_result"
    }
   ],
   "source": [
    "# отделим PS и отфильтруем заглушки\n",
    "df_ps = df.query('platform == \"PS3\"')\n",
    "df_ps = df_ps.query('critic_score > 0 & user_score > 0')\n",
    "df_ps_1 = df_ps[['critic_score', 'user_score', 'total']]\n",
    "df_ps_1.corr()"
   ]
  },
  {
   "cell_type": "code",
   "execution_count": 30,
   "id": "37bb5eaf",
   "metadata": {
    "scrolled": false
   },
   "outputs": [
    {
     "data": {
      "image/png": "[encoded data removed]",
      "text/plain": [
       "<Figure size 864x432 with 2 Axes>"
      ]
     },
     "metadata": {
      "needs_background": "light"
     },
     "output_type": "display_data"
    }
   ],
   "source": [
    "plt.figure(figsize = (12,6))\n",
    "plt.subplot(1, 2, 1)\n",
    "sns.scatterplot(data = df_ps_1, x = 'critic_score', y = 'total', alpha = 0.5)\n",
    "plt.title('Влияние оценки критиков на продажи для PS')\n",
    "\n",
    "\n",
    "plt.subplot(1, 2, 2)\n",
    "sns.scatterplot(data = df_ps_1, x = 'user_score', y = 'total', alpha = 0.5)\n",
    "plt.title('Влияние оценки пользователей на продажи для PS')\n",
    "\n",
    "plt.show()"
   ]
  },
  {
   "cell_type": "markdown",
   "id": "bb714b66",
   "metadata": {},
   "source": [
    "---   \n",
    "    \n",
    "    * видим что есть сильная (коэфф = 0,63) зависимость между отзывами критиков и клиентов\n",
    "    * видим что оценки критиков влияют на продажи сильнее оценок пользователей \n",
    "</div>\n",
    "\n",
    "---"
   ]
  },
  {
   "cell_type": "code",
   "execution_count": 31,
   "id": "50ee9745",
   "metadata": {},
   "outputs": [
    {
     "data": {
      "text/html": [
       "<div>\n",
       "<style scoped>\n",
       "    .dataframe tbody tr th:only-of-type {\n",
       "        vertical-align: middle;\n",
       "    }\n",
       "\n",
       "    .dataframe tbody tr th {\n",
       "        vertical-align: top;\n",
       "    }\n",
       "\n",
       "    .dataframe thead th {\n",
       "        text-align: right;\n",
       "    }\n",
       "</style>\n",
       "<table border=\"1\" class=\"dataframe\">\n",
       "  <thead>\n",
       "    <tr style=\"text-align: right;\">\n",
       "      <th></th>\n",
       "      <th>critic_score</th>\n",
       "      <th>user_score</th>\n",
       "      <th>total</th>\n",
       "    </tr>\n",
       "  </thead>\n",
       "  <tbody>\n",
       "    <tr>\n",
       "      <th>critic_score</th>\n",
       "      <td>1.000000</td>\n",
       "      <td>0.472462</td>\n",
       "      <td>0.410422</td>\n",
       "    </tr>\n",
       "    <tr>\n",
       "      <th>user_score</th>\n",
       "      <td>0.472462</td>\n",
       "      <td>1.000000</td>\n",
       "      <td>-0.094003</td>\n",
       "    </tr>\n",
       "    <tr>\n",
       "      <th>total</th>\n",
       "      <td>0.410422</td>\n",
       "      <td>-0.094003</td>\n",
       "      <td>1.000000</td>\n",
       "    </tr>\n",
       "  </tbody>\n",
       "</table>\n",
       "</div>"
      ],
      "text/plain": [
       "              critic_score  user_score     total\n",
       "critic_score      1.000000    0.472462  0.410422\n",
       "user_score        0.472462    1.000000 -0.094003\n",
       "total             0.410422   -0.094003  1.000000"
      ]
     },
     "execution_count": 31,
     "metadata": {},
     "output_type": "execute_result"
    }
   ],
   "source": [
    "# всё то же самое для XOne\n",
    "df_x1 = df.query('platform == \"XOne\"')\n",
    "df_x1 = df_x1.query('critic_score > 0 & user_score > 0')\n",
    "df_x1_1 = df_x1[['critic_score', 'user_score', 'total']]\n",
    "df_x1_1.corr()"
   ]
  },
  {
   "cell_type": "code",
   "execution_count": 32,
   "id": "9b54c504",
   "metadata": {},
   "outputs": [
    {
     "data": {
      "image/png": "[encoded data removed]",
      "text/plain": [
       "<Figure size 864x432 with 2 Axes>"
      ]
     },
     "metadata": {
      "needs_background": "light"
     },
     "output_type": "display_data"
    }
   ],
   "source": [
    "\n",
    "plt.figure(figsize = (12,6))\n",
    "plt.subplot(1, 2, 1)\n",
    "sns.scatterplot(data = df_x1_1, x = 'critic_score', y = 'total', alpha = 0.5)\n",
    "plt.title('Влияние оценки критиков на продажи для XOne')\n",
    "\n",
    "\n",
    "plt.subplot(1, 2, 2)\n",
    "sns.scatterplot(data = df_x1_1, x = 'user_score', y = 'total', alpha = 0.5)\n",
    "plt.title('Влияние оценки пользователей на продажи для XOne')\n",
    "\n",
    "plt.show()"
   ]
  },
  {
   "cell_type": "code",
   "execution_count": 33,
   "id": "4c7b3a9b",
   "metadata": {},
   "outputs": [
    {
     "name": "stdout",
     "output_type": "stream",
     "text": [
      "              critic_score  user_score     total\n",
      "critic_score      1.000000     0.62502  0.388992\n",
      "user_score        0.625020     1.00000  0.110280\n",
      "total             0.388992     0.11028  1.000000\n"
     ]
    },
    {
     "data": {
      "image/png": "[encoded data removed]",
      "text/plain": [
       "<Figure size 864x432 with 2 Axes>"
      ]
     },
     "metadata": {
      "needs_background": "light"
     },
     "output_type": "display_data"
    }
   ],
   "source": [
    "# Для X360\n",
    "df_x360 = df.query('platform == \"X360\"')\n",
    "df_x360 = df_x360.query('critic_score > 0 & user_score > 0')\n",
    "df_x360_1 = df_x360[['critic_score', 'user_score', 'total']]\n",
    "print(df_x360_1.corr())\n",
    "\n",
    "plt.figure(figsize = (12,6))\n",
    "plt.subplot(1, 2, 1)\n",
    "sns.scatterplot(data = df_x360_1, x = 'critic_score', y = 'total', alpha = 0.5)\n",
    "plt.title('Влияние оценки критиков на продажи для df_x360_1')\n",
    "\n",
    "\n",
    "plt.subplot(1, 2, 2)\n",
    "sns.scatterplot(data = df_x360_1, x = 'user_score', y = 'total', alpha = 0.5)\n",
    "plt.title('Влияние оценки пользователей на продажи для df_x360_1')\n",
    "\n",
    "plt.show()"
   ]
  },
  {
   "cell_type": "code",
   "execution_count": 34,
   "id": "a939cb3e",
   "metadata": {},
   "outputs": [
    {
     "name": "stdout",
     "output_type": "stream",
     "text": [
      "              critic_score  user_score     total\n",
      "critic_score      1.000000    0.565841  0.386415\n",
      "user_score        0.565841    1.000000  0.171690\n",
      "total             0.386415    0.171690  1.000000\n"
     ]
    },
    {
     "data": {
      "image/png": "[encoded data removed]",
      "text/plain": [
       "<Figure size 864x432 with 2 Axes>"
      ]
     },
     "metadata": {
      "needs_background": "light"
     },
     "output_type": "display_data"
    }
   ],
   "source": [
    "# Для PS2\n",
    "df_x = df.query('platform == \"PS2\"')\n",
    "df_x = df_x.query('critic_score > 0 & user_score > 0')\n",
    "df_x_1 = df_x[['critic_score', 'user_score', 'total']]\n",
    "print(df_x_1.corr())\n",
    "\n",
    "plt.figure(figsize = (12,6))\n",
    "plt.subplot(1, 2, 1)\n",
    "sns.scatterplot(data = df_x_1, x = 'critic_score', y = 'total', alpha = 0.5)\n",
    "plt.title('Влияние оценки критиков на продажи для PS2')\n",
    "\n",
    "\n",
    "plt.subplot(1, 2, 2)\n",
    "sns.scatterplot(data = df_x_1, x = 'user_score', y = 'total', alpha = 0.5)\n",
    "plt.title('Влияние оценки пользователей на продажи для PS2')\n",
    "\n",
    "plt.show()"
   ]
  },
  {
   "cell_type": "code",
   "execution_count": 35,
   "id": "2268efc7",
   "metadata": {},
   "outputs": [
    {
     "name": "stdout",
     "output_type": "stream",
     "text": [
      "              critic_score  user_score     total\n",
      "critic_score      1.000000    0.557654  0.405895\n",
      "user_score        0.557654    1.000000 -0.033625\n",
      "total             0.405895   -0.033625  1.000000\n"
     ]
    },
    {
     "data": {
      "image/png": "[encoded data removed]",
      "text/plain": [
       "<Figure size 864x432 with 2 Axes>"
      ]
     },
     "metadata": {
      "needs_background": "light"
     },
     "output_type": "display_data"
    }
   ],
   "source": [
    "# Для ps4\n",
    "\n",
    "df_x0 = df.query('platform == \"PS4\"')\n",
    "df_x0 = df_x0.query('critic_score > 0 & user_score > 0')\n",
    "df_x0_1 = df_x0[['critic_score', 'user_score', 'total']]\n",
    "print(df_x0_1.corr())\n",
    "\n",
    "plt.figure(figsize = (12,6))\n",
    "plt.subplot(1, 2, 1)\n",
    "sns.scatterplot(data = df_x0_1, x = 'critic_score', y = 'total', alpha = 0.5)\n",
    "plt.title('Влияние оценки критиков на продажи для ps4')\n",
    "\n",
    "\n",
    "plt.subplot(1, 2, 2)\n",
    "sns.scatterplot(data = df_x0_1, x = 'user_score', y = 'total', alpha = 0.5)\n",
    "plt.title('Влияние оценки пользователей на продажи для ps4')\n",
    "\n",
    "plt.show()"
   ]
  },
  {
   "cell_type": "markdown",
   "id": "78caa48a",
   "metadata": {},
   "source": [
    "Везде ситуация примерно одинаковая :\n",
    "* зависисмость оценка критиков / пользователей - средняя \n",
    "* влиянние оценки пользователей на продажи очень слабое\n",
    "* влияне оценки критиков на продажи больше чем оценки пользователей, но всё равно мало"
   ]
  },
  {
   "cell_type": "code",
   "execution_count": null,
   "id": "63842f5e",
   "metadata": {},
   "outputs": [],
   "source": []
  },
  {
   "cell_type": "code",
   "execution_count": null,
   "id": "dc8a2a11",
   "metadata": {},
   "outputs": [],
   "source": []
  },
  {
   "cell_type": "markdown",
   "id": "f745c393",
   "metadata": {},
   "source": [
    "\n",
    "## Посмотрим на общее распределение игр по жанрам. \n",
    "Что можно сказать о\n",
    "самых прибыльных жанрах? \n",
    "\n",
    "Выделяются ли жанры с высокими и низкими\n",
    "продажами?"
   ]
  },
  {
   "cell_type": "code",
   "execution_count": 36,
   "id": "331ee365",
   "metadata": {},
   "outputs": [
    {
     "data": {
      "text/plain": [
       "Text(0.5, 1.0, 'Число игр по жанрам')"
      ]
     },
     "execution_count": 36,
     "metadata": {},
     "output_type": "execute_result"
    },
    {
     "data": {
      "image/png": "[encoded data removed]",
      "text/plain": [
       "<Figure size 1080x432 with 1 Axes>"
      ]
     },
     "metadata": {
      "needs_background": "light"
     },
     "output_type": "display_data"
    }
   ],
   "source": [
    "# гистограмма распределения для жанров\n",
    "plt.figure(figsize=(15,6))\n",
    "sns.histplot(df_2013.genre)\n",
    "plt.title('Число игр по жанрам')"
   ]
  },
  {
   "cell_type": "markdown",
   "id": "f65d9b09",
   "metadata": {},
   "source": [
    "Самые популярные - Action, Sports, Adventure, Role-Playing\n",
    "\n",
    "Посмотрим на какие игры есть постоянный спрос"
   ]
  },
  {
   "cell_type": "code",
   "execution_count": 37,
   "id": "4028bb87",
   "metadata": {},
   "outputs": [
    {
     "data": {
      "text/plain": [
       "(0.0, 4.0)"
      ]
     },
     "execution_count": 37,
     "metadata": {},
     "output_type": "execute_result"
    },
    {
     "data": {
      "image/png": "[encoded data removed]",
      "text/plain": [
       "<Figure size 1080x576 with 1 Axes>"
      ]
     },
     "metadata": {
      "needs_background": "light"
     },
     "output_type": "display_data"
    }
   ],
   "source": [
    "plt.figure(figsize=(15,8))\n",
    "sns.boxplot(data = df_2013, x = 'genre',y = 'total')\n",
    "plt.ylim(0,4)"
   ]
  },
  {
   "cell_type": "markdown",
   "id": "acfb8417",
   "metadata": {},
   "source": [
    "---\n",
    "\n",
    "<div class=\"alert alert-info\">\n",
    "Cамые прибыльные жанры -  Sports, Shooter, Platform. \n",
    "</div>\n",
    "\n",
    "---"
   ]
  },
  {
   "cell_type": "code",
   "execution_count": null,
   "id": "be161456",
   "metadata": {},
   "outputs": [],
   "source": []
  },
  {
   "cell_type": "markdown",
   "id": "cf3d2dfa",
   "metadata": {},
   "source": [
    "## Определим для пользователя каждого региона (NA, EU, JP):\n",
    "\n",
    "### Самые популярные платформы (топ-5). Найдём различия в долях продаж."
   ]
  },
  {
   "cell_type": "code",
   "execution_count": 38,
   "id": "a2ddd712",
   "metadata": {},
   "outputs": [],
   "source": [
    "# сгруппируем по платфрме, просуммируем продажи по регионам\n",
    "# создадим отдельно топ 5 датасетов\n",
    "top_region_na_sales = df_2013.groupby('platform').agg({\n",
    "    'na_sales' : 'sum',\n",
    "    'eu_sales' : 'sum',\n",
    "    'jp_sales' : 'sum'\n",
    "}).sort_values('na_sales', ascending=False).reset_index().iloc[:5,:2]\n",
    "\n",
    "top_region_eu_sales = df_2013.groupby('platform').agg({\n",
    "    'na_sales' : 'sum',\n",
    "    'eu_sales' : 'sum',\n",
    "    'jp_sales' : 'sum'\n",
    "}).sort_values('eu_sales', ascending=False).reset_index().iloc[:5,[0,2]]\n",
    "\n",
    "top_region_jp_sales = df_2013.groupby('platform').agg({\n",
    "    'na_sales' : 'sum',\n",
    "    'eu_sales' : 'sum',\n",
    "    'jp_sales' : 'sum'\n",
    "}).sort_values('jp_sales', ascending=False).reset_index().iloc[:5,[0,3]]"
   ]
  },
  {
   "cell_type": "code",
   "execution_count": 39,
   "id": "10014bf7",
   "metadata": {},
   "outputs": [
    {
     "data": {
      "text/html": [
       "<div>\n",
       "<style scoped>\n",
       "    .dataframe tbody tr th:only-of-type {\n",
       "        vertical-align: middle;\n",
       "    }\n",
       "\n",
       "    .dataframe tbody tr th {\n",
       "        vertical-align: top;\n",
       "    }\n",
       "\n",
       "    .dataframe thead th {\n",
       "        text-align: right;\n",
       "    }\n",
       "</style>\n",
       "<table border=\"1\" class=\"dataframe\">\n",
       "  <thead>\n",
       "    <tr style=\"text-align: right;\">\n",
       "      <th></th>\n",
       "      <th>platform</th>\n",
       "      <th>na_sales</th>\n",
       "      <th>eu_sales</th>\n",
       "      <th>jp_sales</th>\n",
       "    </tr>\n",
       "  </thead>\n",
       "  <tbody>\n",
       "    <tr>\n",
       "      <th>0</th>\n",
       "      <td>PS4</td>\n",
       "      <td>108.74</td>\n",
       "      <td>141.09</td>\n",
       "      <td>15.96</td>\n",
       "    </tr>\n",
       "    <tr>\n",
       "      <th>1</th>\n",
       "      <td>XOne</td>\n",
       "      <td>93.12</td>\n",
       "      <td>51.59</td>\n",
       "      <td>0.00</td>\n",
       "    </tr>\n",
       "    <tr>\n",
       "      <th>2</th>\n",
       "      <td>X360</td>\n",
       "      <td>81.66</td>\n",
       "      <td>42.52</td>\n",
       "      <td>0.00</td>\n",
       "    </tr>\n",
       "    <tr>\n",
       "      <th>3</th>\n",
       "      <td>PS3</td>\n",
       "      <td>63.50</td>\n",
       "      <td>67.81</td>\n",
       "      <td>23.35</td>\n",
       "    </tr>\n",
       "    <tr>\n",
       "      <th>4</th>\n",
       "      <td>3DS</td>\n",
       "      <td>38.20</td>\n",
       "      <td>30.96</td>\n",
       "      <td>67.81</td>\n",
       "    </tr>\n",
       "    <tr>\n",
       "      <th>5</th>\n",
       "      <td>PSV</td>\n",
       "      <td>0.00</td>\n",
       "      <td>0.00</td>\n",
       "      <td>18.59</td>\n",
       "    </tr>\n",
       "    <tr>\n",
       "      <th>6</th>\n",
       "      <td>WiiU</td>\n",
       "      <td>0.00</td>\n",
       "      <td>0.00</td>\n",
       "      <td>10.88</td>\n",
       "    </tr>\n",
       "  </tbody>\n",
       "</table>\n",
       "</div>"
      ],
      "text/plain": [
       "  platform  na_sales  eu_sales  jp_sales\n",
       "0      PS4    108.74    141.09     15.96\n",
       "1     XOne     93.12     51.59      0.00\n",
       "2     X360     81.66     42.52      0.00\n",
       "3      PS3     63.50     67.81     23.35\n",
       "4      3DS     38.20     30.96     67.81\n",
       "5      PSV      0.00      0.00     18.59\n",
       "6     WiiU      0.00      0.00     10.88"
      ]
     },
     "execution_count": 39,
     "metadata": {},
     "output_type": "execute_result"
    }
   ],
   "source": [
    "# слепим топ-5 платформ по регионам, просуммируем по строкам чтобы получить суммарную прибыль для платформы\n",
    "# построим график и посмотрим долю, которую занимает тот или иной регион на каждой платформе\n",
    "\n",
    "top_region = top_region_na_sales.merge(top_region_eu_sales, how = 'outer', \\\n",
    "                          on = 'platform').merge(top_region_jp_sales, how = 'outer', on = 'platform')\n",
    "top_region = top_region.fillna(0)\n",
    "top_region"
   ]
  },
  {
   "cell_type": "code",
   "execution_count": 40,
   "id": "ebe6efde",
   "metadata": {},
   "outputs": [
    {
     "data": {
      "text/plain": [
       "array(['PS4', 'XOne', 'X360', 'PS3', '3DS', 'PSV', 'WiiU'], dtype=object)"
      ]
     },
     "execution_count": 40,
     "metadata": {},
     "output_type": "execute_result"
    }
   ],
   "source": [
    "top_region.platform.values"
   ]
  },
  {
   "cell_type": "markdown",
   "id": "a9027312",
   "metadata": {},
   "source": [
    "Видим что в топ - 5 по продажам в 3х регионах входят платформы 'X360', 'PS4', 'PS3', 'XOne', '3DS', 'PSV', 'WiiU'"
   ]
  },
  {
   "cell_type": "code",
   "execution_count": 41,
   "id": "2dd76b06",
   "metadata": {},
   "outputs": [
    {
     "data": {
      "text/plain": [
       "array([[108.74,  93.12,  81.66,  63.5 ,  38.2 ,   0.  ,   0.  ],\n",
       "       [141.09,  51.59,  42.52,  67.81,  30.96,   0.  ,   0.  ],\n",
       "       [ 15.96,   0.  ,   0.  ,  23.35,  67.81,  18.59,  10.88]])"
      ]
     },
     "execution_count": 41,
     "metadata": {},
     "output_type": "execute_result"
    }
   ],
   "source": [
    "platforms = top_region.platform.values\n",
    "# создадим массив с данными из таблицы выше\n",
    "ds = np.array([np.array(top_region.iloc[:, 1]), np.array(top_region.iloc[:, 2]), np.array(top_region.iloc[:, 3])])\n",
    "ds"
   ]
  },
  {
   "cell_type": "code",
   "execution_count": 42,
   "id": "2a9b08e7",
   "metadata": {},
   "outputs": [
    {
     "data": {
      "image/png": "[encoded data removed]",
      "text/plain": [
       "<Figure size 432x288 with 1 Axes>"
      ]
     },
     "metadata": {},
     "output_type": "display_data"
    }
   ],
   "source": [
    "fig, ax = plt.subplots()\n",
    "\n",
    "cmap = plt.get_cmap(\"tab20c\")\n",
    "outer_colors = cmap(np.arange(3))\n",
    "inner_colors = cmap(np.array([1,2,3,4,5, 9, 10, 11, 12, 13,16,17,18,19,20]))\n",
    "\n",
    "\n",
    "ax.pie(ds.sum(axis=1), radius=4,labels= ['na_region', 'eu_region', 'jp_region'], colors=outer_colors)\n",
    "\n",
    "ax.pie(ds.flatten(), radius=3, labels= ['X360', 'PS4', 'PS3', 'XOne', '3DS', 'PSV', 'WiiU',\\\n",
    "                                           'X360', 'PS4', 'PS3', 'XOne', '3DS', 'PSV', 'WiiU',\\\n",
    "                                           'X360', 'PS4', 'PS3', 'XOne', '3DS', 'PSV', 'WiiU'], colors=inner_colors,)\n",
    "\n",
    "#ax.set(aspect=\"equal\", title='Pie plot with `ax.pie`')\n",
    "plt.show()"
   ]
  },
  {
   "cell_type": "markdown",
   "id": "95419405",
   "metadata": {},
   "source": [
    "На pie-графике видим долю каждой платформы в каждом регионе, видим что больая доля рынка у Америки, далее идут Европа и Япония.\n",
    "\n",
    "3DS преобладает в Японии\n",
    "\n",
    "PS3, PS4 популярны в Америке и в Европе\n",
    "\n",
    "X360 - самая прибыльная в NA и EU"
   ]
  },
  {
   "cell_type": "markdown",
   "id": "c7f3c49b",
   "metadata": {},
   "source": [
    "### Самые популярные жанры (топ-5)."
   ]
  },
  {
   "cell_type": "code",
   "execution_count": 43,
   "id": "23cdc485",
   "metadata": {},
   "outputs": [
    {
     "data": {
      "text/html": [
       "<div>\n",
       "<style scoped>\n",
       "    .dataframe tbody tr th:only-of-type {\n",
       "        vertical-align: middle;\n",
       "    }\n",
       "\n",
       "    .dataframe tbody tr th {\n",
       "        vertical-align: top;\n",
       "    }\n",
       "\n",
       "    .dataframe thead th {\n",
       "        text-align: right;\n",
       "    }\n",
       "</style>\n",
       "<table border=\"1\" class=\"dataframe\">\n",
       "  <thead>\n",
       "    <tr style=\"text-align: right;\">\n",
       "      <th></th>\n",
       "      <th>genre</th>\n",
       "      <th>na_sales</th>\n",
       "    </tr>\n",
       "  </thead>\n",
       "  <tbody>\n",
       "    <tr>\n",
       "      <th>0</th>\n",
       "      <td>Action</td>\n",
       "      <td>126.05</td>\n",
       "    </tr>\n",
       "    <tr>\n",
       "      <th>8</th>\n",
       "      <td>Shooter</td>\n",
       "      <td>109.74</td>\n",
       "    </tr>\n",
       "    <tr>\n",
       "      <th>10</th>\n",
       "      <td>Sports</td>\n",
       "      <td>65.27</td>\n",
       "    </tr>\n",
       "    <tr>\n",
       "      <th>7</th>\n",
       "      <td>Role-Playing</td>\n",
       "      <td>46.40</td>\n",
       "    </tr>\n",
       "    <tr>\n",
       "      <th>3</th>\n",
       "      <td>Misc</td>\n",
       "      <td>27.49</td>\n",
       "    </tr>\n",
       "  </tbody>\n",
       "</table>\n",
       "</div>"
      ],
      "text/plain": [
       "           genre  na_sales\n",
       "0         Action    126.05\n",
       "8        Shooter    109.74\n",
       "10        Sports     65.27\n",
       "7   Role-Playing     46.40\n",
       "3           Misc     27.49"
      ]
     },
     "execution_count": 43,
     "metadata": {},
     "output_type": "execute_result"
    }
   ],
   "source": [
    "# создадим таблицы с самыми популярными жанрами по регионам\n",
    "top_genre_na_sales = df_2013.groupby('genre')[['na_sales', 'eu_sales',\\\n",
    "                         'jp_sales']].sum().reset_index().sort_values('na_sales',ascending = False).iloc[:5, [0,1]]\n",
    "top_genre_na_sales"
   ]
  },
  {
   "cell_type": "code",
   "execution_count": 44,
   "id": "271e7b61",
   "metadata": {},
   "outputs": [
    {
     "data": {
      "text/html": [
       "<div>\n",
       "<style scoped>\n",
       "    .dataframe tbody tr th:only-of-type {\n",
       "        vertical-align: middle;\n",
       "    }\n",
       "\n",
       "    .dataframe tbody tr th {\n",
       "        vertical-align: top;\n",
       "    }\n",
       "\n",
       "    .dataframe thead th {\n",
       "        text-align: right;\n",
       "    }\n",
       "</style>\n",
       "<table border=\"1\" class=\"dataframe\">\n",
       "  <thead>\n",
       "    <tr style=\"text-align: right;\">\n",
       "      <th></th>\n",
       "      <th>genre</th>\n",
       "      <th>eu_sales</th>\n",
       "    </tr>\n",
       "  </thead>\n",
       "  <tbody>\n",
       "    <tr>\n",
       "      <th>0</th>\n",
       "      <td>Action</td>\n",
       "      <td>118.13</td>\n",
       "    </tr>\n",
       "    <tr>\n",
       "      <th>8</th>\n",
       "      <td>Shooter</td>\n",
       "      <td>87.86</td>\n",
       "    </tr>\n",
       "    <tr>\n",
       "      <th>10</th>\n",
       "      <td>Sports</td>\n",
       "      <td>60.52</td>\n",
       "    </tr>\n",
       "    <tr>\n",
       "      <th>7</th>\n",
       "      <td>Role-Playing</td>\n",
       "      <td>36.97</td>\n",
       "    </tr>\n",
       "    <tr>\n",
       "      <th>6</th>\n",
       "      <td>Racing</td>\n",
       "      <td>20.19</td>\n",
       "    </tr>\n",
       "  </tbody>\n",
       "</table>\n",
       "</div>"
      ],
      "text/plain": [
       "           genre  eu_sales\n",
       "0         Action    118.13\n",
       "8        Shooter     87.86\n",
       "10        Sports     60.52\n",
       "7   Role-Playing     36.97\n",
       "6         Racing     20.19"
      ]
     },
     "execution_count": 44,
     "metadata": {},
     "output_type": "execute_result"
    }
   ],
   "source": [
    "top_genre_eu_sales = df_2013.groupby('genre')[['na_sales', 'eu_sales',\\\n",
    "                         'jp_sales']].sum().reset_index().sort_values('eu_sales',ascending = False).iloc[:5, [0,2]]\n",
    "top_genre_eu_sales"
   ]
  },
  {
   "cell_type": "code",
   "execution_count": 45,
   "id": "8a8ceb83",
   "metadata": {},
   "outputs": [
    {
     "data": {
      "text/html": [
       "<div>\n",
       "<style scoped>\n",
       "    .dataframe tbody tr th:only-of-type {\n",
       "        vertical-align: middle;\n",
       "    }\n",
       "\n",
       "    .dataframe tbody tr th {\n",
       "        vertical-align: top;\n",
       "    }\n",
       "\n",
       "    .dataframe thead th {\n",
       "        text-align: right;\n",
       "    }\n",
       "</style>\n",
       "<table border=\"1\" class=\"dataframe\">\n",
       "  <thead>\n",
       "    <tr style=\"text-align: right;\">\n",
       "      <th></th>\n",
       "      <th>genre</th>\n",
       "      <th>jp_sales</th>\n",
       "    </tr>\n",
       "  </thead>\n",
       "  <tbody>\n",
       "    <tr>\n",
       "      <th>7</th>\n",
       "      <td>Role-Playing</td>\n",
       "      <td>51.04</td>\n",
       "    </tr>\n",
       "    <tr>\n",
       "      <th>0</th>\n",
       "      <td>Action</td>\n",
       "      <td>40.49</td>\n",
       "    </tr>\n",
       "    <tr>\n",
       "      <th>3</th>\n",
       "      <td>Misc</td>\n",
       "      <td>9.20</td>\n",
       "    </tr>\n",
       "    <tr>\n",
       "      <th>2</th>\n",
       "      <td>Fighting</td>\n",
       "      <td>7.65</td>\n",
       "    </tr>\n",
       "    <tr>\n",
       "      <th>8</th>\n",
       "      <td>Shooter</td>\n",
       "      <td>6.61</td>\n",
       "    </tr>\n",
       "  </tbody>\n",
       "</table>\n",
       "</div>"
      ],
      "text/plain": [
       "          genre  jp_sales\n",
       "7  Role-Playing     51.04\n",
       "0        Action     40.49\n",
       "3          Misc      9.20\n",
       "2      Fighting      7.65\n",
       "8       Shooter      6.61"
      ]
     },
     "execution_count": 45,
     "metadata": {},
     "output_type": "execute_result"
    }
   ],
   "source": [
    "top_genre_jp_sales = df_2013.groupby('genre')[['na_sales', 'eu_sales',\\\n",
    "                         'jp_sales']].sum().reset_index().sort_values('jp_sales',ascending = False).iloc[:5, [0,3]]\n",
    "top_genre_jp_sales"
   ]
  },
  {
   "cell_type": "markdown",
   "id": "ef74590b",
   "metadata": {},
   "source": [
    "Action, Role-Playing, Shooter входят в топ-5 по всем регионам.\n",
    "\n",
    "Sports для NA и EU.\n",
    " \n",
    "Music для JP и NA\n",
    "\n",
    "Fighting для  JP"
   ]
  },
  {
   "cell_type": "markdown",
   "id": "cd7a28a6",
   "metadata": {},
   "source": [
    "### Влияет ли рейтинг ESRB на продажи в отдельном регионе? \n"
   ]
  },
  {
   "cell_type": "code",
   "execution_count": 46,
   "id": "75c4bfb9",
   "metadata": {},
   "outputs": [
    {
     "data": {
      "text/plain": [
       "array(['M', '-1', 'E', 'T', 'E10+'], dtype=object)"
      ]
     },
     "execution_count": 46,
     "metadata": {},
     "output_type": "execute_result"
    }
   ],
   "source": [
    "df_2013['rating'].unique()"
   ]
  },
  {
   "cell_type": "markdown",
   "id": "9279dc47",
   "metadata": {},
   "source": [
    "Вспомним\n",
    "\n",
    "* «EC» («Early childhood») — «Для детей младшего возраста»:\n",
    "* «E» («Everyone») — «Для всех»\n",
    "* «E10+» («Everyone 10 and older») — «Для всех от 10 лет и старше»\n",
    "* «T» («Teen») — «Подросткам»\n",
    "* «M» («Mature») — «Для взрослых»\n",
    "* «AO» («Adults Only 18+») — «Только для взрослых»\n",
    "* «RP» («Rating Pending») — «Рейтинг ожидается»\n",
    "* «K-A» («Kids to Adults»)— «Для детей и взрослых»\n"
   ]
  },
  {
   "cell_type": "code",
   "execution_count": 47,
   "id": "89ecb705",
   "metadata": {
    "scrolled": false
   },
   "outputs": [
    {
     "data": {
      "text/plain": [
       "<AxesSubplot:xlabel='rating', ylabel='na_sales'>"
      ]
     },
     "execution_count": 47,
     "metadata": {},
     "output_type": "execute_result"
    },
    {
     "data": {
      "image/png": "[encoded data removed]",
      "text/plain": [
       "<Figure size 864x720 with 1 Axes>"
      ]
     },
     "metadata": {
      "needs_background": "light"
     },
     "output_type": "display_data"
    }
   ],
   "source": [
    "# псмотрим на средние продажи в NA по рейтингам\n",
    "plt.figure(figsize=(12,10))\n",
    "plt.ylim(0,1.2)\n",
    "sns.boxplot(x = df_2013.query('rating != \"-1\"')['rating'], y = df_2013.query('rating != \"-1\"')['na_sales'])"
   ]
  },
  {
   "cell_type": "code",
   "execution_count": 48,
   "id": "047ac978",
   "metadata": {
    "scrolled": false
   },
   "outputs": [
    {
     "data": {
      "text/plain": [
       "<AxesSubplot:xlabel='rating', ylabel='eu_sales'>"
      ]
     },
     "execution_count": 48,
     "metadata": {},
     "output_type": "execute_result"
    },
    {
     "data": {
      "image/png": "[encoded data removed]",
      "text/plain": [
       "<Figure size 864x720 with 1 Axes>"
      ]
     },
     "metadata": {
      "needs_background": "light"
     },
     "output_type": "display_data"
    }
   ],
   "source": [
    "# псмотрим на средние продажи в  EU по рейтингам\n",
    "plt.figure(figsize=(12,10))\n",
    "plt.ylim(0,1.2)\n",
    "sns.boxplot(x = df_2013.query('rating != \"-1\"')['rating'], y = df_2013.query('rating != \"-1\"')['eu_sales'])"
   ]
  },
  {
   "cell_type": "code",
   "execution_count": 49,
   "id": "8c864755",
   "metadata": {
    "scrolled": false
   },
   "outputs": [
    {
     "data": {
      "text/plain": [
       "<AxesSubplot:xlabel='rating', ylabel='jp_sales'>"
      ]
     },
     "execution_count": 49,
     "metadata": {},
     "output_type": "execute_result"
    },
    {
     "data": {
      "image/png": "[encoded data removed]",
      "text/plain": [
       "<Figure size 864x720 with 1 Axes>"
      ]
     },
     "metadata": {
      "needs_background": "light"
     },
     "output_type": "display_data"
    }
   ],
   "source": [
    "# в JP\n",
    "plt.figure(figsize=(12,10))\n",
    "plt.ylim(0,0.2)\n",
    "sns.boxplot(x = df_2013.query('rating != \"-1\"')['rating'], y = df_2013.query('rating != \"-1\"')['jp_sales'])"
   ]
  },
  {
   "cell_type": "markdown",
   "id": "91305533",
   "metadata": {},
   "source": [
    "В NA и EU ситуации похожие:\n",
    "\n",
    "Видим что со взлослых зарабатывают больше всего (логично, тк это более платёжеспособные люди чем подростки)\n",
    "\n",
    "С подростков, людей старше 10ти примерно одинаково\n",
    "\n",
    "\n",
    "------\n",
    "В JP больше всего зарабатывают с T - для подростков и  M- для взрослых "
   ]
  },
  {
   "cell_type": "markdown",
   "id": "5901d1af",
   "metadata": {},
   "source": [
    "## Гипотезы\n",
    "### Гипотеза первая\n",
    "\n",
    "H0_1 =  Средние пользовательские рейтинги платформ Xbox One и PC одинаковые;\n",
    "\n",
    "H1_1 = Они не равны"
   ]
  },
  {
   "cell_type": "code",
   "execution_count": 50,
   "id": "35a5bb0c",
   "metadata": {},
   "outputs": [
    {
     "data": {
      "text/plain": [
       "Text(0.5, 1.0, 'Распределение пользовательских оценок для PC')"
      ]
     },
     "execution_count": 50,
     "metadata": {},
     "output_type": "execute_result"
    },
    {
     "data": {
      "image/png": "[encoded data removed]",
      "text/plain": [
       "<Figure size 864x432 with 2 Axes>"
      ]
     },
     "metadata": {
      "needs_background": "light"
     },
     "output_type": "display_data"
    }
   ],
   "source": [
    "# посмтрим на распределения и дисперсии\n",
    "\n",
    "plt.figure(figsize = (12,6))\n",
    "plt.subplot(1, 2, 1)\n",
    "df_2013.query('platform == \"XOne\" & user_score !=-1')['user_score'].hist(bins = 30)\n",
    "plt.title('Распределение пользовательских оценок для XOne')\n",
    "plt.subplot(1, 2, 2)\n",
    "df_2013.query('platform == \"PC\"& user_score !=-1')['user_score'].hist(bins = 30)\n",
    "plt.title('Распределение пользовательских оценок для PC')"
   ]
  },
  {
   "cell_type": "code",
   "execution_count": 51,
   "id": "a09a94a7",
   "metadata": {},
   "outputs": [
    {
     "name": "stdout",
     "output_type": "stream",
     "text": [
      "Дисперсия XOne =  1.9069968429360702\n"
     ]
    }
   ],
   "source": [
    "print('Дисперсия XOne = ' ,df_2013.query('platform == \"XOne\" & user_score !=-1')['user_score'].var())"
   ]
  },
  {
   "cell_type": "code",
   "execution_count": 52,
   "id": "aefea20d",
   "metadata": {},
   "outputs": [
    {
     "name": "stdout",
     "output_type": "stream",
     "text": [
      "Дисперсия PC =  3.035892752408884\n"
     ]
    }
   ],
   "source": [
    "print('Дисперсия PC = ' ,df_2013.query('platform == \"PC\" & user_score !=-1')['user_score'].var())\n",
    "# будем считать дисперсии равными\n",
    "# распределения не похожи на нормальные, значит t-test скорее всего будет ошибаться"
   ]
  },
  {
   "cell_type": "code",
   "execution_count": 53,
   "id": "8cb5a121",
   "metadata": {},
   "outputs": [
    {
     "data": {
      "text/plain": [
       "Ttest_indResult(statistic=1.4788255981357277, pvalue=0.14012658403611647)"
      ]
     },
     "execution_count": 53,
     "metadata": {},
     "output_type": "execute_result"
    }
   ],
   "source": [
    "# пусть альфа = 0,01\n",
    "stats.ttest_ind(df_2013.query('platform == \"XOne\" & user_score !=-1')['user_score'], \\\n",
    "                df_2013.query('platform == \"PC\" & user_score !=-1')['user_score'], equal_var=True)"
   ]
  },
  {
   "cell_type": "markdown",
   "id": "20de5031",
   "metadata": {},
   "source": [
    "Получили pvalue=0.14 > 0.01\n",
    "\n",
    "Значит недостаточно оснований отвергнуть нулевую гипотезу о том, что средние равны\n",
    "\n",
    "Проведём непараметрический тест "
   ]
  },
  {
   "cell_type": "code",
   "execution_count": 54,
   "id": "2257b44c",
   "metadata": {},
   "outputs": [
    {
     "data": {
      "text/plain": [
       "MannwhitneyuResult(statistic=13505.0, pvalue=0.2505503367311187)"
      ]
     },
     "execution_count": 54,
     "metadata": {},
     "output_type": "execute_result"
    }
   ],
   "source": [
    "stats.mannwhitneyu(df_2013.query('platform == \"XOne\" & user_score !=-1')['user_score'], \\\n",
    "                df_2013.query('platform == \"PC\" & user_score !=-1')['user_score'])"
   ]
  },
  {
   "cell_type": "markdown",
   "id": "c60c878e",
   "metadata": {},
   "source": [
    "pvalue=0,25 > 0,01, значит нулевая гипотеза остаётся не отвергнутой"
   ]
  },
  {
   "cell_type": "markdown",
   "id": "cd6a9b1f",
   "metadata": {},
   "source": [
    "### Гипотеза вторая\n",
    "\n",
    "\n",
    "\n",
    "\n",
    "H0_2 = Средние пользовательские рейтинги жанров Action  и Sports одинаковые.\n",
    "\n",
    "H1_2 = Средние пользовательские рейтинги жанров Action и Sports разные."
   ]
  },
  {
   "cell_type": "code",
   "execution_count": 55,
   "id": "77614520",
   "metadata": {},
   "outputs": [
    {
     "data": {
      "text/plain": [
       "<AxesSubplot:>"
      ]
     },
     "execution_count": 55,
     "metadata": {},
     "output_type": "execute_result"
    },
    {
     "data": {
      "image/png": "[encoded data removed]",
      "text/plain": [
       "<Figure size 432x288 with 1 Axes>"
      ]
     },
     "metadata": {
      "needs_background": "light"
     },
     "output_type": "display_data"
    }
   ],
   "source": [
    "df_2013.query('genre == \"Action\" & user_score !=-1')['user_score'].hist(bins = 30)"
   ]
  },
  {
   "cell_type": "code",
   "execution_count": 56,
   "id": "88a0e457",
   "metadata": {
    "scrolled": true
   },
   "outputs": [
    {
     "data": {
      "text/plain": [
       "<AxesSubplot:>"
      ]
     },
     "execution_count": 56,
     "metadata": {},
     "output_type": "execute_result"
    },
    {
     "data": {
      "image/png": "[encoded data removed]",
      "text/plain": [
       "<Figure size 432x288 with 1 Axes>"
      ]
     },
     "metadata": {
      "needs_background": "light"
     },
     "output_type": "display_data"
    }
   ],
   "source": [
    "df_2013.query('genre == \"Sports\" & user_score !=-1')['user_score'].hist(bins = 30)"
   ]
  },
  {
   "cell_type": "markdown",
   "id": "84f6174b",
   "metadata": {},
   "source": [
    "---\n",
    "\n",
    "<div class=\"alert alert-info\">\n",
    "<h2> Комментарий от студента</h2>    \n",
    "\n",
    "нельзя проводить тест М-У, смотрим сразу на т-тест\n",
    "</div>\n",
    "\n",
    "---"
   ]
  },
  {
   "cell_type": "code",
   "execution_count": 58,
   "id": "e94d421d",
   "metadata": {},
   "outputs": [
    {
     "data": {
      "text/plain": [
       "Ttest_indResult(statistic=11.535100577928208, pvalue=1.0517832389140023e-27)"
      ]
     },
     "execution_count": 58,
     "metadata": {},
     "output_type": "execute_result"
    }
   ],
   "source": [
    "stats.ttest_ind(df_2013.query('genre == \"Action\" & user_score !=-1')['user_score'], \\\n",
    "                df_2013.query('genre == \"Sports\"  & user_score !=-1')['user_score'], equal_var=True)"
   ]
  },
  {
   "cell_type": "markdown",
   "id": "8b33b65e",
   "metadata": {},
   "source": [
    "pvalue << 0.01 можем отклонить нулевую гипотезу"
   ]
  },
  {
   "cell_type": "markdown",
   "id": "51274212",
   "metadata": {},
   "source": [
    "## Общий вывод и рекомендации\n",
    "\n",
    "Итак , мы выяснили,что характерный срок появления новых платформ - год, устаревают платформы примерно за 2-3 года\n",
    "\n",
    "* PS4, XOne, X360 и 3DS падают в продажах но остаются лидерами\n",
    "* как только начинает падать в продажах версия PS то создаётся новая\n",
    "* в целом все платформы падают в продажах за 2014-2016 год\n",
    "* Видим что за весь период больше всего зарабатывают на играх с NES, GB, 2600, PS и Wii/WiiU, X360, XOne\n",
    "\n",
    "----------------------------------------\n",
    "* оценка критиков / пользователей средне коррелируют\n",
    "* влиянние оценки пользователей слабое\n",
    "* влияне оценки критиков больше чем оценки пользователей, но всё равно мало\n",
    "\n",
    "\n",
    "* самые популярные жанры в общем распределении -  Action, Sports, Adventure, Role-Playing\n",
    "* самые прибыльные жанры -  Sports, Shooter, Platform.\n",
    "\n",
    "\n",
    "* платформы 'X360', 'PS4', 'PS3', 'XOne', '3DS', 'PSV', 'WiiU' являются самыми популярными\n",
    "* 3DS преобладает в Японии\n",
    "\n",
    "* PS3, PS4, X360 популярны в Америке и в Европе\n",
    "\n",
    "------------\n",
    "Для игр вышедших после 2013 года включительно:\n",
    "* Action, Role-Playing, Shooter входят в топ-5 по всем регионам.\n",
    "* Sports популярен для NA и EU.\n",
    "\n",
    "* Music для JP и NA\n",
    "\n",
    "* Fighting для JP\n",
    "\n",
    "**связь рейтинга ESRB и продаж**\n",
    "* В NA и EU ситуации похожие:\n",
    "\n",
    "\n",
    "Видим что со взлослых зарабатывают больше всего (логично, тк это более платёжеспособные люди чем подростки)\n",
    "\n",
    "С подростков, людей старше 10ти, и детей младшего возраста примерно одинаково\n",
    "\n",
    "\n",
    "* В JP:\n",
    "\n",
    "больше всего зарабатывают с  подростков и  взрослых\n",
    "\n",
    "**гипотезы**\n",
    "\n",
    "Гпотеза 1:\n",
    "* Средние пользовательские рейтинги платформ Xbox One и PC одинаковые;\n",
    "* не удалось отвергнуть\n",
    "\n",
    "Гипотеза 2:\n",
    "\n",
    "* Средние пользовательские рейтинги жанров Action и Sports одинаковые.\n",
    "\n",
    "* удалось отвергнуть , то есть они разные (у Action больше)"
   ]
  },
  {
   "cell_type": "markdown",
   "id": "f1c25eca",
   "metadata": {},
   "source": [
    "# Рекомендации \n",
    "\n",
    "PS3, PS4, XOne пользуется постоянным спросом, являются самыми прибыльными, лучше инвестировать в них\n",
    "\n",
    "Из жанров стоит выбирать Action, Role-Playing или Shooter\n",
    "\n",
    "Рейтингу лучше быть категории \"для взрослых\", или \"старше 10\""
   ]
  },
  {
   "cell_type": "code",
   "execution_count": null,
   "id": "b44682ab",
   "metadata": {},
   "outputs": [],
   "source": []
  }
 ],
 "metadata": {
  "ExecuteTimeLog": [
   {
    "duration": 1434,
    "start_time": "2022-04-29T23:26:32.326Z"
   },
   {
    "duration": 66,
    "start_time": "2022-04-29T23:26:33.763Z"
   },
   {
    "duration": 5,
    "start_time": "2022-04-29T23:26:33.831Z"
   },
   {
    "duration": 30,
    "start_time": "2022-04-29T23:26:33.839Z"
   },
   {
    "duration": 10,
    "start_time": "2022-04-29T23:26:33.871Z"
   },
   {
    "duration": 12,
    "start_time": "2022-04-29T23:26:33.883Z"
   },
   {
    "duration": 317,
    "start_time": "2022-04-29T23:26:33.897Z"
   },
   {
    "duration": 74,
    "start_time": "2022-04-29T23:26:34.216Z"
   },
   {
    "duration": 279,
    "start_time": "2022-04-29T23:26:34.292Z"
   },
   {
    "duration": 8,
    "start_time": "2022-04-29T23:26:34.575Z"
   },
   {
    "duration": 11,
    "start_time": "2022-04-29T23:26:34.585Z"
   },
   {
    "duration": 7,
    "start_time": "2022-04-29T23:26:34.599Z"
   },
   {
    "duration": 8,
    "start_time": "2022-04-29T23:26:34.608Z"
   },
   {
    "duration": 271,
    "start_time": "2022-04-29T23:26:34.618Z"
   },
   {
    "duration": 73,
    "start_time": "2022-04-29T23:26:34.891Z"
   },
   {
    "duration": 261,
    "start_time": "2022-04-29T23:26:34.966Z"
   },
   {
    "duration": 7,
    "start_time": "2022-04-29T23:26:35.229Z"
   },
   {
    "duration": 243,
    "start_time": "2022-04-29T23:26:35.238Z"
   },
   {
    "duration": 7,
    "start_time": "2022-04-29T23:26:35.483Z"
   },
   {
    "duration": 217,
    "start_time": "2022-04-29T23:26:35.492Z"
   },
   {
    "duration": 45,
    "start_time": "2022-04-29T23:26:35.711Z"
   },
   {
    "duration": 9,
    "start_time": "2022-04-29T23:26:35.758Z"
   },
   {
    "duration": 27,
    "start_time": "2022-04-29T23:26:35.770Z"
   },
   {
    "duration": 10,
    "start_time": "2022-04-29T23:26:35.799Z"
   },
   {
    "duration": 435,
    "start_time": "2022-04-29T23:26:35.811Z"
   },
   {
    "duration": 20,
    "start_time": "2022-04-29T23:26:36.249Z"
   },
   {
    "duration": 15,
    "start_time": "2022-04-29T23:26:36.271Z"
   },
   {
    "duration": 7,
    "start_time": "2022-04-29T23:26:36.295Z"
   },
   {
    "duration": 82,
    "start_time": "2022-04-29T23:26:36.304Z"
   },
   {
    "duration": 25,
    "start_time": "2022-04-29T23:26:36.389Z"
   },
   {
    "duration": 2268,
    "start_time": "2022-04-29T23:26:36.416Z"
   },
   {
    "duration": 144,
    "start_time": "2022-04-29T23:26:38.687Z"
   },
   {
    "duration": 22,
    "start_time": "2022-04-29T23:26:38.835Z"
   },
   {
    "duration": 16,
    "start_time": "2022-04-29T23:26:38.859Z"
   },
   {
    "duration": 7,
    "start_time": "2022-04-29T23:26:38.877Z"
   },
   {
    "duration": 5,
    "start_time": "2022-04-29T23:26:38.885Z"
   },
   {
    "duration": 1860,
    "start_time": "2022-04-29T23:26:38.892Z"
   },
   {
    "duration": 44,
    "start_time": "2022-04-29T23:26:40.754Z"
   },
   {
    "duration": 1340,
    "start_time": "2022-04-29T23:26:40.852Z"
   },
   {
    "duration": 10,
    "start_time": "2022-04-29T23:26:42.194Z"
   },
   {
    "duration": 47,
    "start_time": "2022-04-29T23:26:42.206Z"
   },
   {
    "duration": 4766,
    "start_time": "2022-04-29T23:26:42.255Z"
   },
   {
    "duration": 48,
    "start_time": "2022-04-29T23:26:47.023Z"
   },
   {
    "duration": 333,
    "start_time": "2022-04-29T23:26:47.073Z"
   },
   {
    "duration": 26,
    "start_time": "2022-04-29T23:26:47.408Z"
   },
   {
    "duration": 356,
    "start_time": "2022-04-29T23:26:47.437Z"
   },
   {
    "duration": 30,
    "start_time": "2022-04-29T23:26:47.795Z"
   },
   {
    "duration": 39,
    "start_time": "2022-04-29T23:26:47.827Z"
   },
   {
    "duration": 5,
    "start_time": "2022-04-29T23:26:47.868Z"
   },
   {
    "duration": 436,
    "start_time": "2022-04-29T23:26:47.875Z"
   },
   {
    "duration": 18,
    "start_time": "2022-04-29T23:26:48.313Z"
   },
   {
    "duration": 34,
    "start_time": "2022-04-29T23:26:48.334Z"
   },
   {
    "duration": 18,
    "start_time": "2022-04-29T23:26:48.370Z"
   },
   {
    "duration": 6,
    "start_time": "2022-04-29T23:26:48.391Z"
   },
   {
    "duration": 399,
    "start_time": "2022-04-29T23:26:48.399Z"
   },
   {
    "duration": 385,
    "start_time": "2022-04-29T23:26:48.800Z"
   },
   {
    "duration": 489,
    "start_time": "2022-04-29T23:26:49.187Z"
   },
   {
    "duration": 25,
    "start_time": "2022-04-29T23:26:49.678Z"
   },
   {
    "duration": 439,
    "start_time": "2022-04-29T23:26:49.706Z"
   },
   {
    "duration": 12,
    "start_time": "2022-04-29T23:26:50.147Z"
   },
   {
    "duration": 11,
    "start_time": "2022-04-29T23:26:50.161Z"
   },
   {
    "duration": 17,
    "start_time": "2022-04-29T23:26:50.174Z"
   },
   {
    "duration": 18,
    "start_time": "2022-04-29T23:26:50.193Z"
   },
   {
    "duration": 271,
    "start_time": "2022-04-29T23:26:50.213Z"
   },
   {
    "duration": 256,
    "start_time": "2022-04-29T23:26:50.486Z"
   },
   {
    "duration": 16,
    "start_time": "2022-04-29T23:26:50.744Z"
   },
   {
    "duration": 10,
    "start_time": "2022-04-29T23:26:50.763Z"
   },
   {
    "duration": 18,
    "start_time": "2022-04-29T23:26:50.775Z"
   },
   {
    "duration": 16,
    "start_time": "2022-04-29T23:26:50.795Z"
   },
   {
    "duration": 10,
    "start_time": "2022-04-30T00:31:54.834Z"
   },
   {
    "duration": 11,
    "start_time": "2022-04-30T00:32:05.439Z"
   },
   {
    "duration": 154,
    "start_time": "2022-04-30T00:32:33.050Z"
   },
   {
    "duration": 148,
    "start_time": "2022-04-30T00:33:33.470Z"
   },
   {
    "duration": 11,
    "start_time": "2022-04-30T00:33:38.621Z"
   },
   {
    "duration": 11,
    "start_time": "2022-04-30T00:33:55.386Z"
   },
   {
    "duration": 16,
    "start_time": "2022-04-30T00:34:06.011Z"
   },
   {
    "duration": 17,
    "start_time": "2022-04-30T00:34:29.312Z"
   },
   {
    "duration": 12,
    "start_time": "2022-04-30T00:38:53.697Z"
   },
   {
    "duration": 11,
    "start_time": "2022-04-30T00:41:15.494Z"
   },
   {
    "duration": 12,
    "start_time": "2022-04-30T00:41:56.526Z"
   },
   {
    "duration": 1767,
    "start_time": "2022-04-30T05:35:43.132Z"
   },
   {
    "duration": 75,
    "start_time": "2022-04-30T05:35:44.902Z"
   },
   {
    "duration": 4,
    "start_time": "2022-04-30T05:35:44.979Z"
   },
   {
    "duration": 23,
    "start_time": "2022-04-30T05:35:44.985Z"
   },
   {
    "duration": 10,
    "start_time": "2022-04-30T05:35:45.011Z"
   },
   {
    "duration": 20,
    "start_time": "2022-04-30T05:35:54.900Z"
   },
   {
    "duration": 11,
    "start_time": "2022-04-30T05:35:55.086Z"
   },
   {
    "duration": 11,
    "start_time": "2022-04-30T05:35:55.437Z"
   },
   {
    "duration": 305,
    "start_time": "2022-04-30T05:35:56.251Z"
   },
   {
    "duration": 6,
    "start_time": "2022-04-30T05:42:03.172Z"
   },
   {
    "duration": 5,
    "start_time": "2022-04-30T05:42:11.662Z"
   },
   {
    "duration": 88,
    "start_time": "2022-04-30T05:42:11.840Z"
   },
   {
    "duration": 5,
    "start_time": "2022-04-30T05:42:12.149Z"
   },
   {
    "duration": 23,
    "start_time": "2022-04-30T05:42:12.432Z"
   },
   {
    "duration": 10,
    "start_time": "2022-04-30T05:42:12.558Z"
   },
   {
    "duration": 9,
    "start_time": "2022-04-30T05:42:13.300Z"
   },
   {
    "duration": 276,
    "start_time": "2022-04-30T05:42:13.563Z"
   },
   {
    "duration": 3,
    "start_time": "2022-04-30T05:42:13.842Z"
   },
   {
    "duration": 7,
    "start_time": "2022-04-30T05:42:16.119Z"
   },
   {
    "duration": 244,
    "start_time": "2022-04-30T05:42:18.997Z"
   },
   {
    "duration": 7,
    "start_time": "2022-04-30T05:42:46.189Z"
   },
   {
    "duration": 8,
    "start_time": "2022-04-30T05:42:52.969Z"
   },
   {
    "duration": 5,
    "start_time": "2022-05-01T07:56:15.693Z"
   },
   {
    "duration": 69,
    "start_time": "2022-05-01T07:56:15.839Z"
   },
   {
    "duration": 4,
    "start_time": "2022-05-01T07:56:16.121Z"
   },
   {
    "duration": 25,
    "start_time": "2022-05-01T07:56:17.088Z"
   },
   {
    "duration": 9,
    "start_time": "2022-05-01T07:56:17.271Z"
   },
   {
    "duration": 10,
    "start_time": "2022-05-01T07:56:43.596Z"
   },
   {
    "duration": 289,
    "start_time": "2022-05-01T07:56:44.028Z"
   },
   {
    "duration": 4,
    "start_time": "2022-05-01T07:56:44.321Z"
   },
   {
    "duration": 5,
    "start_time": "2022-05-01T07:56:47.353Z"
   },
   {
    "duration": 8,
    "start_time": "2022-05-01T07:56:49.222Z"
   },
   {
    "duration": 9,
    "start_time": "2022-05-01T07:57:48.002Z"
   },
   {
    "duration": 6,
    "start_time": "2022-05-01T07:57:59.033Z"
   },
   {
    "duration": 240,
    "start_time": "2022-05-01T07:58:01.261Z"
   },
   {
    "duration": 5,
    "start_time": "2022-05-01T07:59:34.379Z"
   },
   {
    "duration": 5,
    "start_time": "2022-05-01T08:00:07.562Z"
   },
   {
    "duration": 233,
    "start_time": "2022-05-01T08:00:10.073Z"
   },
   {
    "duration": 7,
    "start_time": "2022-05-01T08:01:07.033Z"
   },
   {
    "duration": 226,
    "start_time": "2022-05-01T08:01:12.256Z"
   },
   {
    "duration": 12,
    "start_time": "2022-05-01T08:02:00.378Z"
   },
   {
    "duration": 7,
    "start_time": "2022-05-01T08:02:14.319Z"
   },
   {
    "duration": 6,
    "start_time": "2022-05-01T08:02:34.842Z"
   },
   {
    "duration": 3,
    "start_time": "2022-05-01T08:04:42.852Z"
   },
   {
    "duration": 32,
    "start_time": "2022-05-01T08:04:57.537Z"
   },
   {
    "duration": 8,
    "start_time": "2022-05-01T08:07:23.307Z"
   },
   {
    "duration": 7,
    "start_time": "2022-05-01T08:07:50.849Z"
   },
   {
    "duration": 220,
    "start_time": "2022-05-01T08:08:23.832Z"
   },
   {
    "duration": 4,
    "start_time": "2022-05-01T08:08:42.236Z"
   },
   {
    "duration": 74,
    "start_time": "2022-05-01T08:08:42.243Z"
   },
   {
    "duration": 3,
    "start_time": "2022-05-01T08:08:42.319Z"
   },
   {
    "duration": 22,
    "start_time": "2022-05-01T08:08:42.324Z"
   },
   {
    "duration": 9,
    "start_time": "2022-05-01T08:08:42.349Z"
   },
   {
    "duration": 32,
    "start_time": "2022-05-01T08:08:42.360Z"
   },
   {
    "duration": 306,
    "start_time": "2022-05-01T08:08:42.394Z"
   },
   {
    "duration": 3,
    "start_time": "2022-05-01T08:08:42.703Z"
   },
   {
    "duration": 9,
    "start_time": "2022-05-01T08:08:42.710Z"
   },
   {
    "duration": 10,
    "start_time": "2022-05-01T08:08:42.722Z"
   },
   {
    "duration": 7,
    "start_time": "2022-05-01T08:08:42.735Z"
   },
   {
    "duration": 42,
    "start_time": "2022-05-01T08:08:42.745Z"
   },
   {
    "duration": 15,
    "start_time": "2022-05-01T08:08:42.792Z"
   },
   {
    "duration": 9,
    "start_time": "2022-05-01T08:08:42.810Z"
   },
   {
    "duration": 319,
    "start_time": "2022-05-01T08:08:42.821Z"
   },
   {
    "duration": 4,
    "start_time": "2022-05-01T08:08:43.143Z"
   },
   {
    "duration": 7,
    "start_time": "2022-05-01T08:08:43.149Z"
   },
   {
    "duration": 254,
    "start_time": "2022-05-01T08:08:43.158Z"
   },
   {
    "duration": 7,
    "start_time": "2022-05-01T08:08:43.414Z"
   },
   {
    "duration": 10,
    "start_time": "2022-05-01T08:08:43.422Z"
   },
   {
    "duration": 8,
    "start_time": "2022-05-01T08:08:43.434Z"
   },
   {
    "duration": 10,
    "start_time": "2022-05-01T08:08:43.444Z"
   },
   {
    "duration": 6,
    "start_time": "2022-05-01T08:08:45.020Z"
   },
   {
    "duration": 322,
    "start_time": "2022-05-01T08:08:45.393Z"
   },
   {
    "duration": 5,
    "start_time": "2022-05-01T08:09:03.154Z"
   },
   {
    "duration": 71,
    "start_time": "2022-05-01T08:09:03.161Z"
   },
   {
    "duration": 4,
    "start_time": "2022-05-01T08:09:03.234Z"
   },
   {
    "duration": 50,
    "start_time": "2022-05-01T08:09:03.241Z"
   },
   {
    "duration": 11,
    "start_time": "2022-05-01T08:09:03.293Z"
   },
   {
    "duration": 16,
    "start_time": "2022-05-01T08:09:03.306Z"
   },
   {
    "duration": 308,
    "start_time": "2022-05-01T08:09:03.324Z"
   },
   {
    "duration": 3,
    "start_time": "2022-05-01T08:09:03.635Z"
   },
   {
    "duration": 11,
    "start_time": "2022-05-01T08:09:03.640Z"
   },
   {
    "duration": 8,
    "start_time": "2022-05-01T08:09:03.654Z"
   },
   {
    "duration": 12,
    "start_time": "2022-05-01T08:09:03.682Z"
   },
   {
    "duration": 11,
    "start_time": "2022-05-01T08:09:03.697Z"
   },
   {
    "duration": 9,
    "start_time": "2022-05-01T08:09:03.711Z"
   },
   {
    "duration": 10,
    "start_time": "2022-05-01T08:09:03.722Z"
   },
   {
    "duration": 262,
    "start_time": "2022-05-01T08:09:03.734Z"
   },
   {
    "duration": 3,
    "start_time": "2022-05-01T08:09:03.999Z"
   },
   {
    "duration": 17,
    "start_time": "2022-05-01T08:09:04.004Z"
   },
   {
    "duration": 253,
    "start_time": "2022-05-01T08:09:04.023Z"
   },
   {
    "duration": 8,
    "start_time": "2022-05-01T08:09:04.282Z"
   },
   {
    "duration": 21,
    "start_time": "2022-05-01T08:09:04.292Z"
   },
   {
    "duration": 7,
    "start_time": "2022-05-01T08:09:04.315Z"
   },
   {
    "duration": 18,
    "start_time": "2022-05-01T08:09:04.324Z"
   },
   {
    "duration": 6,
    "start_time": "2022-05-01T08:09:04.518Z"
   },
   {
    "duration": 220,
    "start_time": "2022-05-01T08:09:04.717Z"
   },
   {
    "duration": 220,
    "start_time": "2022-05-01T08:09:14.629Z"
   },
   {
    "duration": 31,
    "start_time": "2022-05-01T08:09:24.519Z"
   },
   {
    "duration": 30,
    "start_time": "2022-05-01T08:10:41.140Z"
   },
   {
    "duration": 982,
    "start_time": "2022-05-01T08:13:13.717Z"
   },
   {
    "duration": 17,
    "start_time": "2022-05-01T08:13:19.288Z"
   },
   {
    "duration": 16,
    "start_time": "2022-05-01T08:13:22.791Z"
   },
   {
    "duration": 10,
    "start_time": "2022-05-01T08:13:38.611Z"
   },
   {
    "duration": 19,
    "start_time": "2022-05-01T08:13:53.969Z"
   },
   {
    "duration": 11,
    "start_time": "2022-05-01T08:13:58.739Z"
   },
   {
    "duration": 11,
    "start_time": "2022-05-01T08:14:15.322Z"
   },
   {
    "duration": 6,
    "start_time": "2022-05-01T08:14:22.018Z"
   },
   {
    "duration": 34,
    "start_time": "2022-05-01T08:14:24.111Z"
   },
   {
    "duration": 23,
    "start_time": "2022-05-01T08:14:31.400Z"
   },
   {
    "duration": 16,
    "start_time": "2022-05-01T08:14:47.870Z"
   },
   {
    "duration": 549,
    "start_time": "2022-05-01T08:14:52.108Z"
   },
   {
    "duration": 443,
    "start_time": "2022-05-01T08:22:41.839Z"
   },
   {
    "duration": 29,
    "start_time": "2022-05-01T08:22:42.285Z"
   },
   {
    "duration": 20,
    "start_time": "2022-05-01T08:23:58.507Z"
   },
   {
    "duration": 13,
    "start_time": "2022-05-01T08:25:30.427Z"
   },
   {
    "duration": 13,
    "start_time": "2022-05-01T08:25:48.706Z"
   },
   {
    "duration": 35,
    "start_time": "2022-05-01T08:27:10.335Z"
   },
   {
    "duration": 56,
    "start_time": "2022-05-01T08:34:44.279Z"
   },
   {
    "duration": 26,
    "start_time": "2022-05-01T08:35:14.010Z"
   },
   {
    "duration": 17,
    "start_time": "2022-05-01T08:36:00.110Z"
   },
   {
    "duration": 16,
    "start_time": "2022-05-01T08:36:03.410Z"
   },
   {
    "duration": 20,
    "start_time": "2022-05-01T08:36:23.657Z"
   },
   {
    "duration": 56,
    "start_time": "2022-05-01T08:37:06.864Z"
   },
   {
    "duration": 36,
    "start_time": "2022-05-01T08:38:59.505Z"
   },
   {
    "duration": 23,
    "start_time": "2022-05-01T08:40:29.419Z"
   },
   {
    "duration": 28,
    "start_time": "2022-05-01T08:40:33.927Z"
   },
   {
    "duration": 45,
    "start_time": "2022-05-01T08:41:16.645Z"
   },
   {
    "duration": 34,
    "start_time": "2022-05-01T08:41:45.887Z"
   },
   {
    "duration": 19,
    "start_time": "2022-05-01T08:43:19.395Z"
   },
   {
    "duration": 5,
    "start_time": "2022-05-01T08:45:04.948Z"
   },
   {
    "duration": 26,
    "start_time": "2022-05-01T08:45:08.225Z"
   },
   {
    "duration": 12,
    "start_time": "2022-05-01T08:46:00.493Z"
   },
   {
    "duration": 15,
    "start_time": "2022-05-01T08:46:55.715Z"
   },
   {
    "duration": 8,
    "start_time": "2022-05-01T08:47:07.121Z"
   },
   {
    "duration": 8,
    "start_time": "2022-05-01T08:47:12.515Z"
   },
   {
    "duration": 6,
    "start_time": "2022-05-01T08:47:18.442Z"
   },
   {
    "duration": 9,
    "start_time": "2022-05-01T08:47:34.712Z"
   },
   {
    "duration": 915,
    "start_time": "2022-05-01T08:51:10.217Z"
   },
   {
    "duration": 1072,
    "start_time": "2022-05-01T08:51:52.572Z"
   },
   {
    "duration": 1203,
    "start_time": "2022-05-01T08:51:59.957Z"
   },
   {
    "duration": 863,
    "start_time": "2022-05-01T08:52:09.088Z"
   },
   {
    "duration": 865,
    "start_time": "2022-05-01T08:52:14.734Z"
   },
   {
    "duration": 860,
    "start_time": "2022-05-01T08:53:55.434Z"
   },
   {
    "duration": 51,
    "start_time": "2022-05-01T08:56:18.389Z"
   },
   {
    "duration": 38,
    "start_time": "2022-05-01T08:56:30.682Z"
   },
   {
    "duration": 7,
    "start_time": "2022-05-01T08:56:35.412Z"
   },
   {
    "duration": 57,
    "start_time": "2022-05-01T08:56:37.374Z"
   },
   {
    "duration": 22,
    "start_time": "2022-05-01T08:56:43.319Z"
   },
   {
    "duration": 26,
    "start_time": "2022-05-01T08:56:50.933Z"
   },
   {
    "duration": 7,
    "start_time": "2022-05-01T08:57:43.955Z"
   },
   {
    "duration": 26,
    "start_time": "2022-05-01T08:57:44.149Z"
   },
   {
    "duration": 19,
    "start_time": "2022-05-01T08:57:48.776Z"
   },
   {
    "duration": 39,
    "start_time": "2022-05-01T08:58:33.817Z"
   },
   {
    "duration": 7,
    "start_time": "2022-05-01T08:59:04.025Z"
   },
   {
    "duration": 65,
    "start_time": "2022-05-01T08:59:15.612Z"
   },
   {
    "duration": 19,
    "start_time": "2022-05-01T08:59:38.300Z"
   },
   {
    "duration": 12,
    "start_time": "2022-05-01T08:59:44.262Z"
   },
   {
    "duration": 7,
    "start_time": "2022-05-01T08:59:51.448Z"
   },
   {
    "duration": 43,
    "start_time": "2022-05-01T09:00:22.747Z"
   },
   {
    "duration": 9,
    "start_time": "2022-05-01T09:01:55.266Z"
   },
   {
    "duration": 10,
    "start_time": "2022-05-01T09:02:13.195Z"
   },
   {
    "duration": 884,
    "start_time": "2022-05-01T09:02:49.390Z"
   },
   {
    "duration": 828,
    "start_time": "2022-05-01T09:03:05.577Z"
   },
   {
    "duration": 6,
    "start_time": "2022-05-01T09:03:46.648Z"
   },
   {
    "duration": 4,
    "start_time": "2022-05-01T09:03:47.158Z"
   },
   {
    "duration": 26,
    "start_time": "2022-05-01T09:04:38.043Z"
   },
   {
    "duration": 7,
    "start_time": "2022-05-01T09:04:38.260Z"
   },
   {
    "duration": 24,
    "start_time": "2022-05-01T09:04:38.439Z"
   },
   {
    "duration": 14,
    "start_time": "2022-05-01T09:04:38.599Z"
   },
   {
    "duration": 780,
    "start_time": "2022-05-01T09:04:38.909Z"
   },
   {
    "duration": 27,
    "start_time": "2022-05-01T09:04:55.522Z"
   },
   {
    "duration": 7,
    "start_time": "2022-05-01T09:04:55.733Z"
   },
   {
    "duration": 23,
    "start_time": "2022-05-01T09:04:55.897Z"
   },
   {
    "duration": 10,
    "start_time": "2022-05-01T09:04:56.040Z"
   },
   {
    "duration": 1018,
    "start_time": "2022-05-01T09:04:56.692Z"
   },
   {
    "duration": 3,
    "start_time": "2022-05-01T09:05:30.552Z"
   },
   {
    "duration": 32,
    "start_time": "2022-05-01T09:06:52.327Z"
   },
   {
    "duration": 7,
    "start_time": "2022-05-01T09:06:52.572Z"
   },
   {
    "duration": 18,
    "start_time": "2022-05-01T09:06:52.755Z"
   },
   {
    "duration": 9,
    "start_time": "2022-05-01T09:06:52.927Z"
   },
   {
    "duration": 823,
    "start_time": "2022-05-01T09:06:53.352Z"
   },
   {
    "duration": 8,
    "start_time": "2022-05-01T09:14:18.635Z"
   },
   {
    "duration": 70,
    "start_time": "2022-05-01T09:15:34.955Z"
   },
   {
    "duration": 17,
    "start_time": "2022-05-01T09:16:17.062Z"
   },
   {
    "duration": 7,
    "start_time": "2022-05-01T09:16:50.599Z"
   },
   {
    "duration": 4,
    "start_time": "2022-05-01T09:18:16.883Z"
   },
   {
    "duration": 14,
    "start_time": "2022-05-01T09:18:41.747Z"
   },
   {
    "duration": 574,
    "start_time": "2022-05-01T09:18:55.467Z"
   },
   {
    "duration": 700,
    "start_time": "2022-05-01T09:19:11.803Z"
   },
   {
    "duration": 591,
    "start_time": "2022-05-01T09:19:17.417Z"
   },
   {
    "duration": 615,
    "start_time": "2022-05-01T09:19:51.693Z"
   },
   {
    "duration": 37,
    "start_time": "2022-05-01T09:24:12.870Z"
   },
   {
    "duration": 36,
    "start_time": "2022-05-01T09:24:35.431Z"
   },
   {
    "duration": 34,
    "start_time": "2022-05-01T09:25:53.337Z"
   },
   {
    "duration": 56,
    "start_time": "2022-05-01T09:27:49.753Z"
   },
   {
    "duration": 50,
    "start_time": "2022-05-01T09:28:05.460Z"
   },
   {
    "duration": 1035,
    "start_time": "2022-05-01T09:28:37.511Z"
   },
   {
    "duration": 1268,
    "start_time": "2022-05-01T09:29:05.137Z"
   },
   {
    "duration": 1024,
    "start_time": "2022-05-01T09:29:10.307Z"
   },
   {
    "duration": 1010,
    "start_time": "2022-05-01T09:29:15.008Z"
   },
   {
    "duration": 8,
    "start_time": "2022-05-01T09:32:29.898Z"
   },
   {
    "duration": 38,
    "start_time": "2022-05-01T09:33:05.112Z"
   },
   {
    "duration": 14,
    "start_time": "2022-05-01T09:34:41.963Z"
   },
   {
    "duration": 1191,
    "start_time": "2022-05-01T09:35:01.262Z"
   },
   {
    "duration": 1257,
    "start_time": "2022-05-01T09:35:11.010Z"
   },
   {
    "duration": 34,
    "start_time": "2022-05-01T09:54:07.970Z"
   },
   {
    "duration": 25,
    "start_time": "2022-05-01T09:54:22.931Z"
   },
   {
    "duration": 25,
    "start_time": "2022-05-01T09:55:03.097Z"
   },
   {
    "duration": 25,
    "start_time": "2022-05-01T09:55:08.983Z"
   },
   {
    "duration": 15,
    "start_time": "2022-05-01T09:55:17.999Z"
   },
   {
    "duration": 26,
    "start_time": "2022-05-01T09:55:25.627Z"
   },
   {
    "duration": 13,
    "start_time": "2022-05-01T09:57:14.945Z"
   },
   {
    "duration": 21,
    "start_time": "2022-05-01T09:57:15.341Z"
   },
   {
    "duration": 1499,
    "start_time": "2022-05-01T09:57:16.772Z"
   },
   {
    "duration": 35,
    "start_time": "2022-05-01T09:59:16.648Z"
   },
   {
    "duration": 45,
    "start_time": "2022-05-01T10:00:39.082Z"
   },
   {
    "duration": 36,
    "start_time": "2022-05-01T10:01:34.896Z"
   },
   {
    "duration": 11,
    "start_time": "2022-05-01T10:01:56.042Z"
   },
   {
    "duration": 47,
    "start_time": "2022-05-01T10:02:01.749Z"
   },
   {
    "duration": 92,
    "start_time": "2022-05-01T10:02:23.599Z"
   },
   {
    "duration": 13,
    "start_time": "2022-05-01T10:06:53.404Z"
   },
   {
    "duration": 298,
    "start_time": "2022-05-01T10:08:22.666Z"
   },
   {
    "duration": 209,
    "start_time": "2022-05-01T10:08:30.398Z"
   },
   {
    "duration": 216,
    "start_time": "2022-05-01T10:09:19.565Z"
   },
   {
    "duration": 217,
    "start_time": "2022-05-01T10:09:39.029Z"
   },
   {
    "duration": 318,
    "start_time": "2022-05-01T10:09:40.048Z"
   },
   {
    "duration": 12,
    "start_time": "2022-05-01T10:13:39.603Z"
   },
   {
    "duration": 19,
    "start_time": "2022-05-01T10:13:43.922Z"
   },
   {
    "duration": 258,
    "start_time": "2022-05-01T10:13:50.526Z"
   },
   {
    "duration": 220,
    "start_time": "2022-05-01T10:14:05.336Z"
   },
   {
    "duration": 219,
    "start_time": "2022-05-01T10:14:09.792Z"
   },
   {
    "duration": 435,
    "start_time": "2022-05-01T10:15:35.303Z"
   },
   {
    "duration": 437,
    "start_time": "2022-05-01T10:19:37.362Z"
   },
   {
    "duration": 467,
    "start_time": "2022-05-01T10:19:46.925Z"
   },
   {
    "duration": 439,
    "start_time": "2022-05-01T10:20:42.968Z"
   },
   {
    "duration": 467,
    "start_time": "2022-05-01T10:21:04.424Z"
   },
   {
    "duration": 445,
    "start_time": "2022-05-01T10:21:36.619Z"
   },
   {
    "duration": 437,
    "start_time": "2022-05-01T10:21:37.248Z"
   },
   {
    "duration": 14,
    "start_time": "2022-05-01T10:25:13.336Z"
   },
   {
    "duration": 451,
    "start_time": "2022-05-01T10:25:21.231Z"
   },
   {
    "duration": 18,
    "start_time": "2022-05-01T10:26:06.910Z"
   },
   {
    "duration": 19,
    "start_time": "2022-05-01T10:26:07.118Z"
   },
   {
    "duration": 27,
    "start_time": "2022-05-01T10:26:17.428Z"
   },
   {
    "duration": 317,
    "start_time": "2022-05-01T10:26:19.828Z"
   },
   {
    "duration": 26,
    "start_time": "2022-05-01T10:31:43.375Z"
   },
   {
    "duration": 35,
    "start_time": "2022-05-01T10:32:09.441Z"
   },
   {
    "duration": 16,
    "start_time": "2022-05-01T10:39:49.580Z"
   },
   {
    "duration": 22,
    "start_time": "2022-05-01T10:40:03.771Z"
   },
   {
    "duration": 22,
    "start_time": "2022-05-01T10:41:16.365Z"
   },
   {
    "duration": 9,
    "start_time": "2022-05-01T10:42:06.518Z"
   },
   {
    "duration": 14,
    "start_time": "2022-05-01T10:42:11.846Z"
   },
   {
    "duration": 13,
    "start_time": "2022-05-01T10:42:15.472Z"
   },
   {
    "duration": 8,
    "start_time": "2022-05-01T10:42:19.761Z"
   },
   {
    "duration": 7,
    "start_time": "2022-05-01T10:42:26.954Z"
   },
   {
    "duration": 5,
    "start_time": "2022-05-01T10:44:58.631Z"
   },
   {
    "duration": 12,
    "start_time": "2022-05-01T10:46:58.083Z"
   },
   {
    "duration": 6,
    "start_time": "2022-05-01T10:47:03.347Z"
   },
   {
    "duration": 22,
    "start_time": "2022-05-01T10:48:11.651Z"
   },
   {
    "duration": 32,
    "start_time": "2022-05-01T10:48:49.361Z"
   },
   {
    "duration": 15,
    "start_time": "2022-05-01T10:49:44.379Z"
   },
   {
    "duration": 4,
    "start_time": "2022-05-01T10:50:05.851Z"
   },
   {
    "duration": 311,
    "start_time": "2022-05-01T10:50:17.181Z"
   },
   {
    "duration": 15,
    "start_time": "2022-05-01T10:52:46.970Z"
   },
   {
    "duration": 27,
    "start_time": "2022-05-01T10:52:59.916Z"
   },
   {
    "duration": 35,
    "start_time": "2022-05-01T10:53:04.908Z"
   },
   {
    "duration": 8,
    "start_time": "2022-05-01T10:53:09.301Z"
   },
   {
    "duration": 531,
    "start_time": "2022-05-01T10:53:10.981Z"
   },
   {
    "duration": 21,
    "start_time": "2022-05-01T10:57:47.486Z"
   },
   {
    "duration": 15,
    "start_time": "2022-05-01T10:57:48.011Z"
   },
   {
    "duration": 13,
    "start_time": "2022-05-01T10:57:48.457Z"
   },
   {
    "duration": 20,
    "start_time": "2022-05-01T10:57:54.439Z"
   },
   {
    "duration": 18,
    "start_time": "2022-05-01T10:57:58.099Z"
   },
   {
    "duration": 11,
    "start_time": "2022-05-01T10:59:24.937Z"
   },
   {
    "duration": 6,
    "start_time": "2022-05-01T10:59:28.335Z"
   },
   {
    "duration": 507,
    "start_time": "2022-05-01T11:02:00.779Z"
   },
   {
    "duration": 494,
    "start_time": "2022-05-01T11:02:06.787Z"
   },
   {
    "duration": 490,
    "start_time": "2022-05-01T11:02:10.441Z"
   },
   {
    "duration": 11,
    "start_time": "2022-05-01T11:02:20.527Z"
   },
   {
    "duration": 15,
    "start_time": "2022-05-01T11:02:24.027Z"
   },
   {
    "duration": 35,
    "start_time": "2022-05-01T11:05:15.621Z"
   },
   {
    "duration": 25,
    "start_time": "2022-05-01T11:05:31.776Z"
   },
   {
    "duration": 36,
    "start_time": "2022-05-01T11:05:36.738Z"
   },
   {
    "duration": 58,
    "start_time": "2022-05-01T11:06:11.127Z"
   },
   {
    "duration": 20,
    "start_time": "2022-05-01T12:04:55.197Z"
   },
   {
    "duration": 13,
    "start_time": "2022-05-01T12:04:58.228Z"
   },
   {
    "duration": 11,
    "start_time": "2022-05-01T12:04:58.484Z"
   },
   {
    "duration": 41,
    "start_time": "2022-05-01T12:05:26.224Z"
   },
   {
    "duration": 11,
    "start_time": "2022-05-01T12:05:38.269Z"
   },
   {
    "duration": 14,
    "start_time": "2022-05-01T12:05:42.053Z"
   },
   {
    "duration": 687,
    "start_time": "2022-05-01T12:11:00.687Z"
   },
   {
    "duration": 17,
    "start_time": "2022-05-01T12:11:13.382Z"
   },
   {
    "duration": 15,
    "start_time": "2022-05-01T12:11:17.170Z"
   },
   {
    "duration": 20,
    "start_time": "2022-05-01T12:11:36.879Z"
   },
   {
    "duration": 21,
    "start_time": "2022-05-01T12:15:05.720Z"
   },
   {
    "duration": 363,
    "start_time": "2022-05-01T12:16:36.167Z"
   },
   {
    "duration": 374,
    "start_time": "2022-05-01T12:16:41.692Z"
   },
   {
    "duration": 15,
    "start_time": "2022-05-01T12:16:51.080Z"
   },
   {
    "duration": 13,
    "start_time": "2022-05-01T12:16:51.290Z"
   },
   {
    "duration": 18,
    "start_time": "2022-05-01T12:17:30.623Z"
   },
   {
    "duration": 17,
    "start_time": "2022-05-01T12:17:52.218Z"
   },
   {
    "duration": 13,
    "start_time": "2022-05-01T12:20:21.252Z"
   },
   {
    "duration": 198,
    "start_time": "2022-05-01T12:20:45.328Z"
   },
   {
    "duration": 322,
    "start_time": "2022-05-01T12:20:51.573Z"
   },
   {
    "duration": 26,
    "start_time": "2022-05-01T12:20:59.918Z"
   },
   {
    "duration": 336,
    "start_time": "2022-05-01T12:22:25.758Z"
   },
   {
    "duration": 275,
    "start_time": "2022-05-01T12:22:26.101Z"
   },
   {
    "duration": 12,
    "start_time": "2022-05-01T12:29:43.207Z"
   },
   {
    "duration": 7,
    "start_time": "2022-05-01T12:29:51.613Z"
   },
   {
    "duration": 12,
    "start_time": "2022-05-01T12:29:59.376Z"
   },
   {
    "duration": 447,
    "start_time": "2022-05-01T12:30:39.243Z"
   },
   {
    "duration": 5,
    "start_time": "2022-05-01T12:51:57.905Z"
   },
   {
    "duration": 94,
    "start_time": "2022-05-01T12:51:57.913Z"
   },
   {
    "duration": 4,
    "start_time": "2022-05-01T12:51:58.011Z"
   },
   {
    "duration": 30,
    "start_time": "2022-05-01T12:51:58.018Z"
   },
   {
    "duration": 43,
    "start_time": "2022-05-01T12:51:58.053Z"
   },
   {
    "duration": 24,
    "start_time": "2022-05-01T12:51:58.102Z"
   },
   {
    "duration": 583,
    "start_time": "2022-05-01T12:51:58.129Z"
   },
   {
    "duration": 4,
    "start_time": "2022-05-01T12:51:58.716Z"
   },
   {
    "duration": 20,
    "start_time": "2022-05-01T12:51:58.723Z"
   },
   {
    "duration": 12,
    "start_time": "2022-05-01T12:51:58.745Z"
   },
   {
    "duration": 35,
    "start_time": "2022-05-01T12:51:58.764Z"
   },
   {
    "duration": 27,
    "start_time": "2022-05-01T12:51:58.801Z"
   },
   {
    "duration": 9,
    "start_time": "2022-05-01T12:51:58.831Z"
   },
   {
    "duration": 15,
    "start_time": "2022-05-01T12:51:58.843Z"
   },
   {
    "duration": 851,
    "start_time": "2022-05-01T12:51:58.862Z"
   },
   {
    "duration": 4,
    "start_time": "2022-05-01T12:51:59.715Z"
   },
   {
    "duration": 15,
    "start_time": "2022-05-01T12:51:59.722Z"
   },
   {
    "duration": 471,
    "start_time": "2022-05-01T12:51:59.740Z"
   },
   {
    "duration": 21,
    "start_time": "2022-05-01T12:52:00.214Z"
   },
   {
    "duration": 21,
    "start_time": "2022-05-01T12:52:00.238Z"
   },
   {
    "duration": 23,
    "start_time": "2022-05-01T12:52:00.264Z"
   },
   {
    "duration": 25,
    "start_time": "2022-05-01T12:52:00.295Z"
   },
   {
    "duration": 18,
    "start_time": "2022-05-01T12:52:00.323Z"
   },
   {
    "duration": 363,
    "start_time": "2022-05-01T12:52:00.345Z"
   },
   {
    "duration": 50,
    "start_time": "2022-05-01T12:52:00.711Z"
   },
   {
    "duration": 62,
    "start_time": "2022-05-01T12:52:00.765Z"
   },
   {
    "duration": 7,
    "start_time": "2022-05-01T12:52:00.831Z"
   },
   {
    "duration": 27,
    "start_time": "2022-05-01T12:52:00.842Z"
   },
   {
    "duration": 30,
    "start_time": "2022-05-01T12:52:00.895Z"
   },
   {
    "duration": 18,
    "start_time": "2022-05-01T12:52:00.928Z"
   },
   {
    "duration": 588,
    "start_time": "2022-05-01T12:52:00.949Z"
   },
   {
    "duration": 58,
    "start_time": "2022-05-01T12:52:01.540Z"
   },
   {
    "duration": 11,
    "start_time": "2022-05-01T12:52:01.601Z"
   },
   {
    "duration": 38,
    "start_time": "2022-05-01T12:52:01.615Z"
   },
   {
    "duration": 18,
    "start_time": "2022-05-01T12:52:01.656Z"
   },
   {
    "duration": 1235,
    "start_time": "2022-05-01T12:52:01.687Z"
   },
   {
    "duration": 4,
    "start_time": "2022-05-01T12:52:02.925Z"
   },
   {
    "duration": 8,
    "start_time": "2022-05-01T12:52:02.932Z"
   },
   {
    "duration": 10,
    "start_time": "2022-05-01T12:52:02.943Z"
   },
   {
    "duration": 66,
    "start_time": "2022-05-01T12:52:02.956Z"
   },
   {
    "duration": 27,
    "start_time": "2022-05-01T12:52:03.025Z"
   },
   {
    "duration": 859,
    "start_time": "2022-05-01T12:52:03.055Z"
   },
   {
    "duration": 65,
    "start_time": "2022-05-01T12:52:03.917Z"
   },
   {
    "duration": 46,
    "start_time": "2022-05-01T12:52:03.987Z"
   },
   {
    "duration": 94,
    "start_time": "2022-05-01T12:52:04.036Z"
   },
   {
    "duration": 1241,
    "start_time": "2022-05-01T12:52:04.133Z"
   },
   {
    "duration": 17,
    "start_time": "2022-05-01T12:52:05.377Z"
   },
   {
    "duration": 31,
    "start_time": "2022-05-01T12:52:05.397Z"
   },
   {
    "duration": 263,
    "start_time": "2022-05-01T12:52:05.432Z"
   },
   {
    "duration": 269,
    "start_time": "2022-05-01T12:52:05.701Z"
   },
   {
    "duration": 31,
    "start_time": "2022-05-01T12:52:05.973Z"
   },
   {
    "duration": 492,
    "start_time": "2022-05-01T12:52:06.010Z"
   },
   {
    "duration": 487,
    "start_time": "2022-05-01T12:52:06.505Z"
   },
   {
    "duration": 542,
    "start_time": "2022-05-01T12:52:06.995Z"
   },
   {
    "duration": 496,
    "start_time": "2022-05-01T12:52:07.540Z"
   },
   {
    "duration": 346,
    "start_time": "2022-05-01T12:52:08.039Z"
   },
   {
    "duration": 36,
    "start_time": "2022-05-01T12:52:08.388Z"
   },
   {
    "duration": 5,
    "start_time": "2022-05-01T12:52:08.427Z"
   },
   {
    "duration": 61,
    "start_time": "2022-05-01T12:52:08.435Z"
   },
   {
    "duration": 20,
    "start_time": "2022-05-01T12:52:08.499Z"
   },
   {
    "duration": 17,
    "start_time": "2022-05-01T12:52:08.524Z"
   },
   {
    "duration": 52,
    "start_time": "2022-05-01T12:52:08.543Z"
   },
   {
    "duration": 595,
    "start_time": "2022-05-01T12:52:08.602Z"
   },
   {
    "duration": 42,
    "start_time": "2022-05-01T12:52:09.199Z"
   },
   {
    "duration": 40,
    "start_time": "2022-05-01T12:52:09.244Z"
   },
   {
    "duration": 39,
    "start_time": "2022-05-01T12:52:09.287Z"
   },
   {
    "duration": 16,
    "start_time": "2022-05-01T12:52:09.329Z"
   },
   {
    "duration": 620,
    "start_time": "2022-05-01T12:52:09.349Z"
   },
   {
    "duration": 28,
    "start_time": "2022-05-01T12:52:09.972Z"
   },
   {
    "duration": 45,
    "start_time": "2022-05-01T12:52:10.003Z"
   },
   {
    "duration": 23,
    "start_time": "2022-05-01T12:52:10.051Z"
   },
   {
    "duration": 12,
    "start_time": "2022-05-01T12:52:10.088Z"
   },
   {
    "duration": 496,
    "start_time": "2022-05-01T12:52:10.103Z"
   },
   {
    "duration": 510,
    "start_time": "2022-05-01T12:52:10.602Z"
   },
   {
    "duration": 394,
    "start_time": "2022-05-01T12:52:11.115Z"
   },
   {
    "duration": 11,
    "start_time": "2022-05-01T12:52:11.512Z"
   },
   {
    "duration": 16,
    "start_time": "2022-05-01T12:52:11.526Z"
   },
   {
    "duration": 47,
    "start_time": "2022-05-01T12:52:11.545Z"
   },
   {
    "duration": 518,
    "start_time": "2022-05-01T12:52:11.594Z"
   },
   {
    "duration": 11,
    "start_time": "2022-05-01T12:52:12.114Z"
   },
   {
    "duration": 20,
    "start_time": "2022-05-01T12:52:12.128Z"
   },
   {
    "duration": 36,
    "start_time": "2022-05-01T12:52:12.151Z"
   },
   {
    "duration": 20,
    "start_time": "2022-05-01T12:52:12.202Z"
   },
   {
    "duration": 32,
    "start_time": "2022-05-01T12:52:12.224Z"
   },
   {
    "duration": 0,
    "start_time": "2022-05-01T12:52:12.259Z"
   },
   {
    "duration": 0,
    "start_time": "2022-05-01T12:52:12.289Z"
   },
   {
    "duration": 0,
    "start_time": "2022-05-01T12:52:12.292Z"
   },
   {
    "duration": 0,
    "start_time": "2022-05-01T12:52:12.294Z"
   },
   {
    "duration": 1,
    "start_time": "2022-05-01T12:52:12.295Z"
   },
   {
    "duration": 0,
    "start_time": "2022-05-01T12:52:12.298Z"
   },
   {
    "duration": 0,
    "start_time": "2022-05-01T12:52:12.299Z"
   },
   {
    "duration": 0,
    "start_time": "2022-05-01T12:52:12.301Z"
   },
   {
    "duration": 1773,
    "start_time": "2022-05-01T12:52:21.667Z"
   },
   {
    "duration": 84,
    "start_time": "2022-05-01T12:52:23.446Z"
   },
   {
    "duration": 6,
    "start_time": "2022-05-01T12:52:23.533Z"
   },
   {
    "duration": 54,
    "start_time": "2022-05-01T12:52:23.542Z"
   },
   {
    "duration": 13,
    "start_time": "2022-05-01T12:52:23.599Z"
   },
   {
    "duration": 27,
    "start_time": "2022-05-01T12:52:23.615Z"
   },
   {
    "duration": 319,
    "start_time": "2022-05-01T12:52:23.645Z"
   },
   {
    "duration": 3,
    "start_time": "2022-05-01T12:52:23.968Z"
   },
   {
    "duration": 40,
    "start_time": "2022-05-01T12:52:23.974Z"
   },
   {
    "duration": 12,
    "start_time": "2022-05-01T12:52:24.017Z"
   },
   {
    "duration": 8,
    "start_time": "2022-05-01T12:52:24.033Z"
   },
   {
    "duration": 7,
    "start_time": "2022-05-01T12:52:24.043Z"
   },
   {
    "duration": 10,
    "start_time": "2022-05-01T12:52:24.052Z"
   },
   {
    "duration": 25,
    "start_time": "2022-05-01T12:52:24.067Z"
   },
   {
    "duration": 322,
    "start_time": "2022-05-01T12:52:24.095Z"
   },
   {
    "duration": 4,
    "start_time": "2022-05-01T12:52:24.420Z"
   },
   {
    "duration": 15,
    "start_time": "2022-05-01T12:52:24.426Z"
   },
   {
    "duration": 373,
    "start_time": "2022-05-01T12:52:24.443Z"
   },
   {
    "duration": 10,
    "start_time": "2022-05-01T12:52:24.819Z"
   },
   {
    "duration": 20,
    "start_time": "2022-05-01T12:52:24.832Z"
   },
   {
    "duration": 26,
    "start_time": "2022-05-01T12:52:24.855Z"
   },
   {
    "duration": 28,
    "start_time": "2022-05-01T12:52:24.884Z"
   },
   {
    "duration": 9,
    "start_time": "2022-05-01T12:52:24.914Z"
   },
   {
    "duration": 262,
    "start_time": "2022-05-01T12:52:24.925Z"
   },
   {
    "duration": 39,
    "start_time": "2022-05-01T12:52:25.190Z"
   },
   {
    "duration": 55,
    "start_time": "2022-05-01T12:52:25.233Z"
   },
   {
    "duration": 4,
    "start_time": "2022-05-01T12:52:25.291Z"
   },
   {
    "duration": 30,
    "start_time": "2022-05-01T12:52:25.298Z"
   },
   {
    "duration": 39,
    "start_time": "2022-05-01T12:52:25.330Z"
   },
   {
    "duration": 22,
    "start_time": "2022-05-01T12:52:25.371Z"
   },
   {
    "duration": 490,
    "start_time": "2022-05-01T12:52:25.400Z"
   },
   {
    "duration": 34,
    "start_time": "2022-05-01T12:52:25.894Z"
   },
   {
    "duration": 7,
    "start_time": "2022-05-01T12:52:25.930Z"
   },
   {
    "duration": 48,
    "start_time": "2022-05-01T12:52:25.939Z"
   },
   {
    "duration": 25,
    "start_time": "2022-05-01T12:52:25.990Z"
   },
   {
    "duration": 840,
    "start_time": "2022-05-01T12:52:26.021Z"
   },
   {
    "duration": 4,
    "start_time": "2022-05-01T12:52:26.864Z"
   },
   {
    "duration": 22,
    "start_time": "2022-05-01T12:52:26.870Z"
   },
   {
    "duration": 28,
    "start_time": "2022-05-01T12:52:26.895Z"
   },
   {
    "duration": 18,
    "start_time": "2022-05-01T12:52:26.926Z"
   },
   {
    "duration": 17,
    "start_time": "2022-05-01T12:52:26.952Z"
   },
   {
    "duration": 654,
    "start_time": "2022-05-01T12:52:26.972Z"
   },
   {
    "duration": 47,
    "start_time": "2022-05-01T12:52:27.629Z"
   },
   {
    "duration": 55,
    "start_time": "2022-05-01T12:52:27.679Z"
   },
   {
    "duration": 72,
    "start_time": "2022-05-01T12:52:27.736Z"
   },
   {
    "duration": 1205,
    "start_time": "2022-05-01T12:52:27.811Z"
   },
   {
    "duration": 9,
    "start_time": "2022-05-01T12:52:29.018Z"
   },
   {
    "duration": 20,
    "start_time": "2022-05-01T12:52:29.029Z"
   },
   {
    "duration": 262,
    "start_time": "2022-05-01T12:52:29.053Z"
   },
   {
    "duration": 243,
    "start_time": "2022-05-01T12:52:29.317Z"
   },
   {
    "duration": 325,
    "start_time": "2022-05-01T12:52:29.562Z"
   },
   {
    "duration": 0,
    "start_time": "2022-05-01T12:52:29.890Z"
   },
   {
    "duration": 0,
    "start_time": "2022-05-01T12:52:29.891Z"
   },
   {
    "duration": 0,
    "start_time": "2022-05-01T12:52:29.893Z"
   },
   {
    "duration": 0,
    "start_time": "2022-05-01T12:52:29.894Z"
   },
   {
    "duration": 0,
    "start_time": "2022-05-01T12:52:29.896Z"
   },
   {
    "duration": 0,
    "start_time": "2022-05-01T12:52:29.898Z"
   },
   {
    "duration": 0,
    "start_time": "2022-05-01T12:52:29.900Z"
   },
   {
    "duration": 0,
    "start_time": "2022-05-01T12:52:29.901Z"
   },
   {
    "duration": 0,
    "start_time": "2022-05-01T12:52:29.903Z"
   },
   {
    "duration": 0,
    "start_time": "2022-05-01T12:52:29.904Z"
   },
   {
    "duration": 0,
    "start_time": "2022-05-01T12:52:29.909Z"
   },
   {
    "duration": 0,
    "start_time": "2022-05-01T12:52:29.910Z"
   },
   {
    "duration": 0,
    "start_time": "2022-05-01T12:52:29.912Z"
   },
   {
    "duration": 0,
    "start_time": "2022-05-01T12:52:29.913Z"
   },
   {
    "duration": 0,
    "start_time": "2022-05-01T12:52:29.915Z"
   },
   {
    "duration": 0,
    "start_time": "2022-05-01T12:52:29.916Z"
   },
   {
    "duration": 0,
    "start_time": "2022-05-01T12:52:29.918Z"
   },
   {
    "duration": 0,
    "start_time": "2022-05-01T12:52:29.922Z"
   },
   {
    "duration": 0,
    "start_time": "2022-05-01T12:52:29.981Z"
   },
   {
    "duration": 0,
    "start_time": "2022-05-01T12:52:29.986Z"
   },
   {
    "duration": 0,
    "start_time": "2022-05-01T12:52:29.988Z"
   },
   {
    "duration": 0,
    "start_time": "2022-05-01T12:52:29.990Z"
   },
   {
    "duration": 0,
    "start_time": "2022-05-01T12:52:29.992Z"
   },
   {
    "duration": 0,
    "start_time": "2022-05-01T12:52:29.994Z"
   },
   {
    "duration": 0,
    "start_time": "2022-05-01T12:52:29.996Z"
   },
   {
    "duration": 0,
    "start_time": "2022-05-01T12:52:29.998Z"
   },
   {
    "duration": 0,
    "start_time": "2022-05-01T12:52:30.008Z"
   },
   {
    "duration": 0,
    "start_time": "2022-05-01T12:52:30.013Z"
   },
   {
    "duration": 0,
    "start_time": "2022-05-01T12:52:30.014Z"
   },
   {
    "duration": 0,
    "start_time": "2022-05-01T12:52:30.015Z"
   },
   {
    "duration": 0,
    "start_time": "2022-05-01T12:52:30.017Z"
   },
   {
    "duration": 0,
    "start_time": "2022-05-01T12:52:30.020Z"
   },
   {
    "duration": 0,
    "start_time": "2022-05-01T12:52:30.022Z"
   },
   {
    "duration": 0,
    "start_time": "2022-05-01T12:52:30.024Z"
   },
   {
    "duration": 0,
    "start_time": "2022-05-01T12:52:30.026Z"
   },
   {
    "duration": 0,
    "start_time": "2022-05-01T12:52:30.028Z"
   },
   {
    "duration": 0,
    "start_time": "2022-05-01T12:52:30.030Z"
   },
   {
    "duration": 0,
    "start_time": "2022-05-01T12:52:30.032Z"
   },
   {
    "duration": 0,
    "start_time": "2022-05-01T12:52:30.033Z"
   },
   {
    "duration": 0,
    "start_time": "2022-05-01T12:52:30.035Z"
   },
   {
    "duration": 0,
    "start_time": "2022-05-01T12:52:30.037Z"
   },
   {
    "duration": 25,
    "start_time": "2022-05-01T12:55:05.135Z"
   },
   {
    "duration": 481,
    "start_time": "2022-05-01T12:55:21.192Z"
   },
   {
    "duration": 554,
    "start_time": "2022-05-01T12:56:37.254Z"
   },
   {
    "duration": 583,
    "start_time": "2022-05-01T12:57:24.311Z"
   },
   {
    "duration": 766,
    "start_time": "2022-05-01T12:58:10.121Z"
   },
   {
    "duration": 678,
    "start_time": "2022-05-01T12:58:38.989Z"
   },
   {
    "duration": 699,
    "start_time": "2022-05-01T12:59:15.221Z"
   },
   {
    "duration": 461,
    "start_time": "2022-05-01T12:59:39.374Z"
   },
   {
    "duration": 458,
    "start_time": "2022-05-01T12:59:44.098Z"
   },
   {
    "duration": 466,
    "start_time": "2022-05-01T13:00:06.803Z"
   },
   {
    "duration": 37,
    "start_time": "2022-05-01T13:00:08.030Z"
   },
   {
    "duration": 4,
    "start_time": "2022-05-01T13:00:08.262Z"
   },
   {
    "duration": 32,
    "start_time": "2022-05-01T13:00:09.307Z"
   },
   {
    "duration": 24,
    "start_time": "2022-05-01T13:00:09.506Z"
   },
   {
    "duration": 12,
    "start_time": "2022-05-01T13:00:09.682Z"
   },
   {
    "duration": 40,
    "start_time": "2022-05-01T13:00:09.878Z"
   },
   {
    "duration": 479,
    "start_time": "2022-05-01T13:00:10.085Z"
   },
   {
    "duration": 45,
    "start_time": "2022-05-01T13:00:10.774Z"
   },
   {
    "duration": 43,
    "start_time": "2022-05-01T13:00:10.976Z"
   },
   {
    "duration": 7,
    "start_time": "2022-05-01T13:00:11.154Z"
   },
   {
    "duration": 8,
    "start_time": "2022-05-01T13:00:12.017Z"
   },
   {
    "duration": 603,
    "start_time": "2022-05-01T13:00:12.206Z"
   },
   {
    "duration": 8,
    "start_time": "2022-05-01T13:00:18.833Z"
   },
   {
    "duration": 597,
    "start_time": "2022-05-01T13:00:19.045Z"
   },
   {
    "duration": 47,
    "start_time": "2022-05-01T13:00:19.646Z"
   },
   {
    "duration": 25,
    "start_time": "2022-05-01T13:00:19.728Z"
   },
   {
    "duration": 23,
    "start_time": "2022-05-01T13:00:19.911Z"
   },
   {
    "duration": 8,
    "start_time": "2022-05-01T13:00:20.573Z"
   },
   {
    "duration": 641,
    "start_time": "2022-05-01T13:00:20.947Z"
   },
   {
    "duration": 516,
    "start_time": "2022-05-01T13:00:21.591Z"
   },
   {
    "duration": 512,
    "start_time": "2022-05-01T13:00:22.110Z"
   },
   {
    "duration": 16,
    "start_time": "2022-05-01T13:00:22.626Z"
   },
   {
    "duration": 20,
    "start_time": "2022-05-01T13:00:25.681Z"
   },
   {
    "duration": 12,
    "start_time": "2022-05-01T13:00:25.908Z"
   },
   {
    "duration": 508,
    "start_time": "2022-05-01T13:00:27.522Z"
   },
   {
    "duration": 13,
    "start_time": "2022-05-01T13:00:28.626Z"
   },
   {
    "duration": 12,
    "start_time": "2022-05-01T13:00:28.809Z"
   },
   {
    "duration": 15,
    "start_time": "2022-05-01T13:00:28.956Z"
   },
   {
    "duration": 22,
    "start_time": "2022-05-01T13:00:29.302Z"
   },
   {
    "duration": 16,
    "start_time": "2022-05-01T13:00:29.840Z"
   },
   {
    "duration": 256,
    "start_time": "2022-05-01T13:00:30.377Z"
   },
   {
    "duration": 280,
    "start_time": "2022-05-01T13:00:30.637Z"
   },
   {
    "duration": 2147,
    "start_time": "2022-05-01T13:02:49.789Z"
   },
   {
    "duration": 110,
    "start_time": "2022-05-01T13:02:51.943Z"
   },
   {
    "duration": 6,
    "start_time": "2022-05-01T13:02:52.060Z"
   },
   {
    "duration": 70,
    "start_time": "2022-05-01T13:02:52.069Z"
   },
   {
    "duration": 29,
    "start_time": "2022-05-01T13:02:52.148Z"
   },
   {
    "duration": 15,
    "start_time": "2022-05-01T13:02:52.184Z"
   },
   {
    "duration": 474,
    "start_time": "2022-05-01T13:02:52.207Z"
   },
   {
    "duration": 6,
    "start_time": "2022-05-01T13:02:52.684Z"
   },
   {
    "duration": 41,
    "start_time": "2022-05-01T13:02:52.693Z"
   },
   {
    "duration": 9,
    "start_time": "2022-05-01T13:02:52.738Z"
   },
   {
    "duration": 17,
    "start_time": "2022-05-01T13:02:52.750Z"
   },
   {
    "duration": 11,
    "start_time": "2022-05-01T13:02:52.770Z"
   },
   {
    "duration": 41,
    "start_time": "2022-05-01T13:02:52.794Z"
   },
   {
    "duration": 10,
    "start_time": "2022-05-01T13:02:52.842Z"
   },
   {
    "duration": 368,
    "start_time": "2022-05-01T13:02:52.855Z"
   },
   {
    "duration": 4,
    "start_time": "2022-05-01T13:02:53.228Z"
   },
   {
    "duration": 16,
    "start_time": "2022-05-01T13:02:53.235Z"
   },
   {
    "duration": 351,
    "start_time": "2022-05-01T13:02:53.254Z"
   },
   {
    "duration": 10,
    "start_time": "2022-05-01T13:02:53.608Z"
   },
   {
    "duration": 29,
    "start_time": "2022-05-01T13:02:53.621Z"
   },
   {
    "duration": 7,
    "start_time": "2022-05-01T13:02:53.655Z"
   },
   {
    "duration": 21,
    "start_time": "2022-05-01T13:02:53.665Z"
   },
   {
    "duration": 41,
    "start_time": "2022-05-01T13:02:53.689Z"
   },
   {
    "duration": 349,
    "start_time": "2022-05-01T13:02:53.733Z"
   },
   {
    "duration": 50,
    "start_time": "2022-05-01T13:02:54.085Z"
   },
   {
    "duration": 69,
    "start_time": "2022-05-01T13:02:54.138Z"
   },
   {
    "duration": 21,
    "start_time": "2022-05-01T13:02:54.210Z"
   },
   {
    "duration": 13,
    "start_time": "2022-05-01T13:02:54.234Z"
   },
   {
    "duration": 40,
    "start_time": "2022-05-01T13:02:54.250Z"
   },
   {
    "duration": 14,
    "start_time": "2022-05-01T13:02:54.296Z"
   },
   {
    "duration": 552,
    "start_time": "2022-05-01T13:02:54.313Z"
   },
   {
    "duration": 37,
    "start_time": "2022-05-01T13:02:54.871Z"
   },
   {
    "duration": 32,
    "start_time": "2022-05-01T13:02:54.911Z"
   },
   {
    "duration": 25,
    "start_time": "2022-05-01T13:02:54.946Z"
   },
   {
    "duration": 49,
    "start_time": "2022-05-01T13:02:54.974Z"
   },
   {
    "duration": 848,
    "start_time": "2022-05-01T13:02:55.026Z"
   },
   {
    "duration": 5,
    "start_time": "2022-05-01T13:02:55.886Z"
   },
   {
    "duration": 35,
    "start_time": "2022-05-01T13:02:55.894Z"
   },
   {
    "duration": 10,
    "start_time": "2022-05-01T13:02:55.932Z"
   },
   {
    "duration": 18,
    "start_time": "2022-05-01T13:02:55.944Z"
   },
   {
    "duration": 20,
    "start_time": "2022-05-01T13:02:55.975Z"
   },
   {
    "duration": 736,
    "start_time": "2022-05-01T13:02:55.998Z"
   },
   {
    "duration": 36,
    "start_time": "2022-05-01T13:02:56.736Z"
   },
   {
    "duration": 51,
    "start_time": "2022-05-01T13:02:56.775Z"
   },
   {
    "duration": 65,
    "start_time": "2022-05-01T13:02:56.828Z"
   },
   {
    "duration": 1225,
    "start_time": "2022-05-01T13:02:56.895Z"
   },
   {
    "duration": 11,
    "start_time": "2022-05-01T13:02:58.123Z"
   },
   {
    "duration": 20,
    "start_time": "2022-05-01T13:02:58.137Z"
   },
   {
    "duration": 359,
    "start_time": "2022-05-01T13:02:58.159Z"
   },
   {
    "duration": 332,
    "start_time": "2022-05-01T13:02:58.521Z"
   },
   {
    "duration": 53,
    "start_time": "2022-05-01T13:02:58.856Z"
   },
   {
    "duration": 621,
    "start_time": "2022-05-01T13:02:58.912Z"
   },
   {
    "duration": 687,
    "start_time": "2022-05-01T13:02:59.536Z"
   },
   {
    "duration": 808,
    "start_time": "2022-05-01T13:03:00.226Z"
   },
   {
    "duration": 655,
    "start_time": "2022-05-01T13:03:01.038Z"
   },
   {
    "duration": 448,
    "start_time": "2022-05-01T13:03:01.702Z"
   },
   {
    "duration": 59,
    "start_time": "2022-05-01T13:03:02.153Z"
   },
   {
    "duration": 4,
    "start_time": "2022-05-01T13:03:02.214Z"
   },
   {
    "duration": 47,
    "start_time": "2022-05-01T13:03:02.221Z"
   },
   {
    "duration": 28,
    "start_time": "2022-05-01T13:03:02.271Z"
   },
   {
    "duration": 15,
    "start_time": "2022-05-01T13:03:02.303Z"
   },
   {
    "duration": 75,
    "start_time": "2022-05-01T13:03:02.321Z"
   },
   {
    "duration": 466,
    "start_time": "2022-05-01T13:03:02.402Z"
   },
   {
    "duration": 67,
    "start_time": "2022-05-01T13:03:02.871Z"
   },
   {
    "duration": 59,
    "start_time": "2022-05-01T13:03:02.950Z"
   },
   {
    "duration": 14,
    "start_time": "2022-05-01T13:03:03.012Z"
   },
   {
    "duration": 38,
    "start_time": "2022-05-01T13:03:03.029Z"
   },
   {
    "duration": 607,
    "start_time": "2022-05-01T13:03:03.070Z"
   },
   {
    "duration": 33,
    "start_time": "2022-05-01T13:03:03.691Z"
   },
   {
    "duration": 68,
    "start_time": "2022-05-01T13:03:03.728Z"
   },
   {
    "duration": 27,
    "start_time": "2022-05-01T13:03:03.805Z"
   },
   {
    "duration": 11,
    "start_time": "2022-05-01T13:03:03.839Z"
   },
   {
    "duration": 502,
    "start_time": "2022-05-01T13:03:03.853Z"
   },
   {
    "duration": 507,
    "start_time": "2022-05-01T13:03:04.358Z"
   },
   {
    "duration": 638,
    "start_time": "2022-05-01T13:03:04.868Z"
   },
   {
    "duration": 15,
    "start_time": "2022-05-01T13:03:05.515Z"
   },
   {
    "duration": 14,
    "start_time": "2022-05-01T13:03:05.535Z"
   },
   {
    "duration": 40,
    "start_time": "2022-05-01T13:03:05.552Z"
   },
   {
    "duration": 682,
    "start_time": "2022-05-01T13:03:05.599Z"
   },
   {
    "duration": 13,
    "start_time": "2022-05-01T13:03:06.284Z"
   },
   {
    "duration": 53,
    "start_time": "2022-05-01T13:03:06.300Z"
   },
   {
    "duration": 24,
    "start_time": "2022-05-01T13:03:06.356Z"
   },
   {
    "duration": 58,
    "start_time": "2022-05-01T13:03:06.390Z"
   },
   {
    "duration": 260,
    "start_time": "2022-05-01T13:03:06.452Z"
   },
   {
    "duration": 0,
    "start_time": "2022-05-01T13:03:06.715Z"
   },
   {
    "duration": 0,
    "start_time": "2022-05-01T13:03:06.717Z"
   },
   {
    "duration": 0,
    "start_time": "2022-05-01T13:03:06.720Z"
   },
   {
    "duration": 0,
    "start_time": "2022-05-01T13:03:06.722Z"
   },
   {
    "duration": 0,
    "start_time": "2022-05-01T13:03:06.724Z"
   },
   {
    "duration": 0,
    "start_time": "2022-05-01T13:03:06.726Z"
   },
   {
    "duration": 0,
    "start_time": "2022-05-01T13:03:06.728Z"
   },
   {
    "duration": 0,
    "start_time": "2022-05-01T13:03:06.730Z"
   },
   {
    "duration": 18,
    "start_time": "2022-05-01T13:03:16.599Z"
   },
   {
    "duration": 524,
    "start_time": "2022-05-01T13:03:17.809Z"
   },
   {
    "duration": 398,
    "start_time": "2022-05-01T13:03:18.338Z"
   },
   {
    "duration": 21,
    "start_time": "2022-05-01T13:03:18.740Z"
   },
   {
    "duration": 97,
    "start_time": "2022-05-01T13:03:18.764Z"
   },
   {
    "duration": 26,
    "start_time": "2022-05-01T13:03:19.048Z"
   },
   {
    "duration": 49,
    "start_time": "2022-05-01T13:03:19.431Z"
   },
   {
    "duration": 368,
    "start_time": "2022-05-01T13:03:20.255Z"
   },
   {
    "duration": 292,
    "start_time": "2022-05-01T13:03:20.627Z"
   },
   {
    "duration": 1491,
    "start_time": "2022-05-01T23:25:52.904Z"
   },
   {
    "duration": 71,
    "start_time": "2022-05-01T23:25:54.398Z"
   },
   {
    "duration": 4,
    "start_time": "2022-05-01T23:25:54.471Z"
   },
   {
    "duration": 21,
    "start_time": "2022-05-01T23:25:54.478Z"
   },
   {
    "duration": 10,
    "start_time": "2022-05-01T23:25:54.503Z"
   },
   {
    "duration": 39,
    "start_time": "2022-05-01T23:25:54.516Z"
   },
   {
    "duration": 301,
    "start_time": "2022-05-01T23:25:54.557Z"
   },
   {
    "duration": 3,
    "start_time": "2022-05-01T23:25:54.861Z"
   },
   {
    "duration": 6,
    "start_time": "2022-05-01T23:25:54.867Z"
   },
   {
    "duration": 9,
    "start_time": "2022-05-01T23:25:54.876Z"
   },
   {
    "duration": 9,
    "start_time": "2022-05-01T23:25:54.887Z"
   },
   {
    "duration": 5,
    "start_time": "2022-05-01T23:25:54.898Z"
   },
   {
    "duration": 47,
    "start_time": "2022-05-01T23:25:54.905Z"
   },
   {
    "duration": 11,
    "start_time": "2022-05-01T23:25:54.957Z"
   },
   {
    "duration": 236,
    "start_time": "2022-05-01T23:25:54.970Z"
   },
   {
    "duration": 4,
    "start_time": "2022-05-01T23:25:55.208Z"
   },
   {
    "duration": 10,
    "start_time": "2022-05-01T23:25:55.214Z"
   },
   {
    "duration": 238,
    "start_time": "2022-05-01T23:25:55.226Z"
   },
   {
    "duration": 7,
    "start_time": "2022-05-01T23:25:55.466Z"
   },
   {
    "duration": 9,
    "start_time": "2022-05-01T23:25:55.475Z"
   },
   {
    "duration": 4,
    "start_time": "2022-05-01T23:25:55.486Z"
   },
   {
    "duration": 4,
    "start_time": "2022-05-01T23:25:55.493Z"
   },
   {
    "duration": 6,
    "start_time": "2022-05-01T23:25:55.500Z"
   },
   {
    "duration": 267,
    "start_time": "2022-05-01T23:25:55.508Z"
   },
   {
    "duration": 31,
    "start_time": "2022-05-01T23:25:55.777Z"
   },
   {
    "duration": 55,
    "start_time": "2022-05-01T23:25:55.810Z"
   },
   {
    "duration": 9,
    "start_time": "2022-05-01T23:25:55.868Z"
   },
   {
    "duration": 8,
    "start_time": "2022-05-01T23:25:55.879Z"
   },
   {
    "duration": 21,
    "start_time": "2022-05-01T23:25:55.889Z"
   },
   {
    "duration": 183,
    "start_time": "2022-05-01T23:25:55.912Z"
   },
   {
    "duration": 0,
    "start_time": "2022-05-01T23:25:56.100Z"
   },
   {
    "duration": 0,
    "start_time": "2022-05-01T23:25:56.102Z"
   },
   {
    "duration": 0,
    "start_time": "2022-05-01T23:25:56.103Z"
   },
   {
    "duration": 0,
    "start_time": "2022-05-01T23:25:56.105Z"
   },
   {
    "duration": 0,
    "start_time": "2022-05-01T23:25:56.106Z"
   },
   {
    "duration": 0,
    "start_time": "2022-05-01T23:25:56.108Z"
   },
   {
    "duration": 0,
    "start_time": "2022-05-01T23:25:56.109Z"
   },
   {
    "duration": 0,
    "start_time": "2022-05-01T23:25:56.110Z"
   },
   {
    "duration": 0,
    "start_time": "2022-05-01T23:25:56.112Z"
   },
   {
    "duration": 0,
    "start_time": "2022-05-01T23:25:56.113Z"
   },
   {
    "duration": 0,
    "start_time": "2022-05-01T23:25:56.115Z"
   },
   {
    "duration": 0,
    "start_time": "2022-05-01T23:25:56.116Z"
   },
   {
    "duration": 0,
    "start_time": "2022-05-01T23:25:56.118Z"
   },
   {
    "duration": 0,
    "start_time": "2022-05-01T23:25:56.119Z"
   },
   {
    "duration": 0,
    "start_time": "2022-05-01T23:25:56.152Z"
   },
   {
    "duration": 0,
    "start_time": "2022-05-01T23:25:56.153Z"
   },
   {
    "duration": 0,
    "start_time": "2022-05-01T23:25:56.155Z"
   },
   {
    "duration": 0,
    "start_time": "2022-05-01T23:25:56.157Z"
   },
   {
    "duration": 0,
    "start_time": "2022-05-01T23:25:56.158Z"
   },
   {
    "duration": 0,
    "start_time": "2022-05-01T23:25:56.160Z"
   },
   {
    "duration": 0,
    "start_time": "2022-05-01T23:25:56.161Z"
   },
   {
    "duration": 0,
    "start_time": "2022-05-01T23:25:56.163Z"
   },
   {
    "duration": 0,
    "start_time": "2022-05-01T23:25:56.164Z"
   },
   {
    "duration": 0,
    "start_time": "2022-05-01T23:25:56.166Z"
   },
   {
    "duration": 0,
    "start_time": "2022-05-01T23:25:56.167Z"
   },
   {
    "duration": 0,
    "start_time": "2022-05-01T23:25:56.169Z"
   },
   {
    "duration": 0,
    "start_time": "2022-05-01T23:25:56.170Z"
   },
   {
    "duration": 0,
    "start_time": "2022-05-01T23:25:56.172Z"
   },
   {
    "duration": 0,
    "start_time": "2022-05-01T23:25:56.173Z"
   },
   {
    "duration": 0,
    "start_time": "2022-05-01T23:25:56.175Z"
   },
   {
    "duration": 0,
    "start_time": "2022-05-01T23:25:56.176Z"
   },
   {
    "duration": 0,
    "start_time": "2022-05-01T23:25:56.177Z"
   },
   {
    "duration": 0,
    "start_time": "2022-05-01T23:25:56.179Z"
   },
   {
    "duration": 0,
    "start_time": "2022-05-01T23:25:56.181Z"
   },
   {
    "duration": 0,
    "start_time": "2022-05-01T23:25:56.182Z"
   },
   {
    "duration": 0,
    "start_time": "2022-05-01T23:25:56.184Z"
   },
   {
    "duration": 0,
    "start_time": "2022-05-01T23:25:56.185Z"
   },
   {
    "duration": 0,
    "start_time": "2022-05-01T23:25:56.186Z"
   },
   {
    "duration": 0,
    "start_time": "2022-05-01T23:25:56.188Z"
   },
   {
    "duration": 0,
    "start_time": "2022-05-01T23:25:56.189Z"
   },
   {
    "duration": 0,
    "start_time": "2022-05-01T23:25:56.252Z"
   },
   {
    "duration": 0,
    "start_time": "2022-05-01T23:25:56.253Z"
   },
   {
    "duration": 0,
    "start_time": "2022-05-01T23:25:56.255Z"
   },
   {
    "duration": 0,
    "start_time": "2022-05-01T23:25:56.256Z"
   },
   {
    "duration": 0,
    "start_time": "2022-05-01T23:25:56.258Z"
   },
   {
    "duration": 0,
    "start_time": "2022-05-01T23:25:56.259Z"
   },
   {
    "duration": 0,
    "start_time": "2022-05-01T23:25:56.261Z"
   },
   {
    "duration": 0,
    "start_time": "2022-05-01T23:25:56.263Z"
   },
   {
    "duration": 0,
    "start_time": "2022-05-01T23:25:56.264Z"
   },
   {
    "duration": 0,
    "start_time": "2022-05-01T23:25:56.265Z"
   },
   {
    "duration": 0,
    "start_time": "2022-05-01T23:25:56.267Z"
   },
   {
    "duration": 0,
    "start_time": "2022-05-01T23:25:56.268Z"
   },
   {
    "duration": 0,
    "start_time": "2022-05-01T23:25:56.270Z"
   },
   {
    "duration": 0,
    "start_time": "2022-05-01T23:25:56.271Z"
   },
   {
    "duration": 0,
    "start_time": "2022-05-01T23:25:56.272Z"
   },
   {
    "duration": 0,
    "start_time": "2022-05-01T23:25:56.274Z"
   },
   {
    "duration": 0,
    "start_time": "2022-05-01T23:25:56.275Z"
   },
   {
    "duration": 0,
    "start_time": "2022-05-01T23:25:56.277Z"
   },
   {
    "duration": 0,
    "start_time": "2022-05-01T23:25:56.278Z"
   },
   {
    "duration": 0,
    "start_time": "2022-05-01T23:25:56.280Z"
   },
   {
    "duration": 0,
    "start_time": "2022-05-01T23:25:56.281Z"
   },
   {
    "duration": 0,
    "start_time": "2022-05-01T23:25:56.283Z"
   },
   {
    "duration": 0,
    "start_time": "2022-05-01T23:25:56.284Z"
   },
   {
    "duration": 27,
    "start_time": "2022-05-01T23:27:17.789Z"
   },
   {
    "duration": 1510,
    "start_time": "2022-05-01T23:28:17.241Z"
   },
   {
    "duration": 70,
    "start_time": "2022-05-01T23:28:18.754Z"
   },
   {
    "duration": 4,
    "start_time": "2022-05-01T23:28:18.826Z"
   },
   {
    "duration": 36,
    "start_time": "2022-05-01T23:28:18.832Z"
   },
   {
    "duration": 10,
    "start_time": "2022-05-01T23:28:18.870Z"
   },
   {
    "duration": 11,
    "start_time": "2022-05-01T23:28:18.882Z"
   },
   {
    "duration": 321,
    "start_time": "2022-05-01T23:28:18.895Z"
   },
   {
    "duration": 4,
    "start_time": "2022-05-01T23:28:19.218Z"
   },
   {
    "duration": 6,
    "start_time": "2022-05-01T23:28:19.224Z"
   },
   {
    "duration": 8,
    "start_time": "2022-05-01T23:28:19.251Z"
   },
   {
    "duration": 21,
    "start_time": "2022-05-01T23:28:19.261Z"
   },
   {
    "duration": 11,
    "start_time": "2022-05-01T23:28:19.284Z"
   },
   {
    "duration": 19,
    "start_time": "2022-05-01T23:28:19.297Z"
   },
   {
    "duration": 8,
    "start_time": "2022-05-01T23:28:19.319Z"
   },
   {
    "duration": 242,
    "start_time": "2022-05-01T23:28:19.329Z"
   },
   {
    "duration": 3,
    "start_time": "2022-05-01T23:28:19.573Z"
   },
   {
    "duration": 8,
    "start_time": "2022-05-01T23:28:19.578Z"
   },
   {
    "duration": 240,
    "start_time": "2022-05-01T23:28:19.588Z"
   },
   {
    "duration": 7,
    "start_time": "2022-05-01T23:28:19.831Z"
   },
   {
    "duration": 17,
    "start_time": "2022-05-01T23:28:19.840Z"
   },
   {
    "duration": 7,
    "start_time": "2022-05-01T23:28:19.859Z"
   },
   {
    "duration": 6,
    "start_time": "2022-05-01T23:28:19.868Z"
   },
   {
    "duration": 10,
    "start_time": "2022-05-01T23:28:19.875Z"
   },
   {
    "duration": 257,
    "start_time": "2022-05-01T23:28:19.887Z"
   },
   {
    "duration": 31,
    "start_time": "2022-05-01T23:28:20.147Z"
   },
   {
    "duration": 31,
    "start_time": "2022-05-01T23:28:20.180Z"
   },
   {
    "duration": 39,
    "start_time": "2022-05-01T23:28:20.213Z"
   },
   {
    "duration": 7,
    "start_time": "2022-05-01T23:28:20.258Z"
   },
   {
    "duration": 25,
    "start_time": "2022-05-01T23:28:20.267Z"
   },
   {
    "duration": 33,
    "start_time": "2022-05-01T23:28:20.294Z"
   },
   {
    "duration": 26,
    "start_time": "2022-05-01T23:28:20.329Z"
   },
   {
    "duration": 431,
    "start_time": "2022-05-01T23:28:20.357Z"
   },
   {
    "duration": 26,
    "start_time": "2022-05-01T23:28:20.790Z"
   },
   {
    "duration": 6,
    "start_time": "2022-05-01T23:28:20.818Z"
   },
   {
    "duration": 47,
    "start_time": "2022-05-01T23:28:20.825Z"
   },
   {
    "duration": 10,
    "start_time": "2022-05-01T23:28:20.875Z"
   },
   {
    "duration": 776,
    "start_time": "2022-05-01T23:28:20.887Z"
   },
   {
    "duration": 4,
    "start_time": "2022-05-01T23:28:21.666Z"
   },
   {
    "duration": 7,
    "start_time": "2022-05-01T23:28:21.673Z"
   },
   {
    "duration": 8,
    "start_time": "2022-05-01T23:28:21.682Z"
   },
   {
    "duration": 12,
    "start_time": "2022-05-01T23:28:21.692Z"
   },
   {
    "duration": 47,
    "start_time": "2022-05-01T23:28:21.706Z"
   },
   {
    "duration": 661,
    "start_time": "2022-05-01T23:28:21.756Z"
   },
   {
    "duration": 48,
    "start_time": "2022-05-01T23:28:22.420Z"
   },
   {
    "duration": 33,
    "start_time": "2022-05-01T23:28:22.471Z"
   },
   {
    "duration": 81,
    "start_time": "2022-05-01T23:28:22.506Z"
   },
   {
    "duration": 1064,
    "start_time": "2022-05-01T23:28:22.590Z"
   },
   {
    "duration": 8,
    "start_time": "2022-05-01T23:28:23.656Z"
   },
   {
    "duration": 21,
    "start_time": "2022-05-01T23:28:23.666Z"
   },
   {
    "duration": 232,
    "start_time": "2022-05-01T23:28:23.689Z"
   },
   {
    "duration": 228,
    "start_time": "2022-05-01T23:28:23.924Z"
   },
   {
    "duration": 18,
    "start_time": "2022-05-01T23:28:24.154Z"
   },
   {
    "duration": 443,
    "start_time": "2022-05-01T23:28:24.174Z"
   },
   {
    "duration": 464,
    "start_time": "2022-05-01T23:28:24.620Z"
   },
   {
    "duration": 538,
    "start_time": "2022-05-01T23:28:25.086Z"
   },
   {
    "duration": 430,
    "start_time": "2022-05-01T23:28:25.626Z"
   },
   {
    "duration": 325,
    "start_time": "2022-05-01T23:28:26.059Z"
   },
   {
    "duration": 28,
    "start_time": "2022-05-01T23:28:26.386Z"
   },
   {
    "duration": 7,
    "start_time": "2022-05-01T23:28:26.416Z"
   },
   {
    "duration": 45,
    "start_time": "2022-05-01T23:28:26.425Z"
   },
   {
    "duration": 14,
    "start_time": "2022-05-01T23:28:26.472Z"
   },
   {
    "duration": 17,
    "start_time": "2022-05-01T23:28:26.489Z"
   },
   {
    "duration": 46,
    "start_time": "2022-05-01T23:28:26.508Z"
   },
   {
    "duration": 314,
    "start_time": "2022-05-01T23:28:26.557Z"
   },
   {
    "duration": 28,
    "start_time": "2022-05-01T23:28:26.874Z"
   },
   {
    "duration": 50,
    "start_time": "2022-05-01T23:28:26.904Z"
   },
   {
    "duration": 20,
    "start_time": "2022-05-01T23:28:26.956Z"
   },
   {
    "duration": 12,
    "start_time": "2022-05-01T23:28:26.979Z"
   },
   {
    "duration": 416,
    "start_time": "2022-05-01T23:28:26.994Z"
   },
   {
    "duration": 20,
    "start_time": "2022-05-01T23:28:27.412Z"
   },
   {
    "duration": 19,
    "start_time": "2022-05-01T23:28:27.452Z"
   },
   {
    "duration": 18,
    "start_time": "2022-05-01T23:28:27.474Z"
   },
   {
    "duration": 8,
    "start_time": "2022-05-01T23:28:27.495Z"
   },
   {
    "duration": 383,
    "start_time": "2022-05-01T23:28:27.506Z"
   },
   {
    "duration": 343,
    "start_time": "2022-05-01T23:28:27.891Z"
   },
   {
    "duration": 358,
    "start_time": "2022-05-01T23:28:28.236Z"
   },
   {
    "duration": 14,
    "start_time": "2022-05-01T23:28:28.653Z"
   },
   {
    "duration": 15,
    "start_time": "2022-05-01T23:28:28.670Z"
   },
   {
    "duration": 66,
    "start_time": "2022-05-01T23:28:28.688Z"
   },
   {
    "duration": 1411,
    "start_time": "2022-05-01T23:28:28.756Z"
   },
   {
    "duration": 13,
    "start_time": "2022-05-01T23:28:30.170Z"
   },
   {
    "duration": 67,
    "start_time": "2022-05-01T23:28:30.197Z"
   },
   {
    "duration": 20,
    "start_time": "2022-05-01T23:28:30.266Z"
   },
   {
    "duration": 77,
    "start_time": "2022-05-01T23:28:30.289Z"
   },
   {
    "duration": 39,
    "start_time": "2022-05-01T23:28:30.369Z"
   },
   {
    "duration": 699,
    "start_time": "2022-05-01T23:28:30.453Z"
   },
   {
    "duration": 437,
    "start_time": "2022-05-01T23:28:31.154Z"
   },
   {
    "duration": 61,
    "start_time": "2022-05-01T23:28:31.593Z"
   },
   {
    "duration": 15,
    "start_time": "2022-05-01T23:28:31.656Z"
   },
   {
    "duration": 24,
    "start_time": "2022-05-01T23:28:31.673Z"
   },
   {
    "duration": 64,
    "start_time": "2022-05-01T23:28:31.699Z"
   },
   {
    "duration": 417,
    "start_time": "2022-05-01T23:28:31.765Z"
   },
   {
    "duration": 194,
    "start_time": "2022-05-01T23:28:32.184Z"
   },
   {
    "duration": 1823,
    "start_time": "2022-05-03T05:12:44.725Z"
   },
   {
    "duration": 76,
    "start_time": "2022-05-03T05:12:46.551Z"
   },
   {
    "duration": 5,
    "start_time": "2022-05-03T05:12:48.554Z"
   },
   {
    "duration": 22,
    "start_time": "2022-05-03T05:12:49.013Z"
   },
   {
    "duration": 13,
    "start_time": "2022-05-03T05:12:49.226Z"
   },
   {
    "duration": 12,
    "start_time": "2022-05-03T05:12:49.650Z"
   },
   {
    "duration": 306,
    "start_time": "2022-05-03T05:12:50.027Z"
   },
   {
    "duration": 3,
    "start_time": "2022-05-03T05:12:50.336Z"
   },
   {
    "duration": 4,
    "start_time": "2022-05-03T05:13:07.180Z"
   },
   {
    "duration": 5,
    "start_time": "2022-05-03T05:13:08.261Z"
   },
   {
    "duration": 8,
    "start_time": "2022-05-03T05:13:08.948Z"
   },
   {
    "duration": 4,
    "start_time": "2022-05-03T05:15:12.460Z"
   },
   {
    "duration": 75,
    "start_time": "2022-05-03T05:15:12.466Z"
   },
   {
    "duration": 4,
    "start_time": "2022-05-03T05:15:12.543Z"
   },
   {
    "duration": 30,
    "start_time": "2022-05-03T05:15:12.549Z"
   },
   {
    "duration": 8,
    "start_time": "2022-05-03T05:15:12.581Z"
   },
   {
    "duration": 38,
    "start_time": "2022-05-03T05:15:12.591Z"
   },
   {
    "duration": 286,
    "start_time": "2022-05-03T05:15:12.631Z"
   },
   {
    "duration": 3,
    "start_time": "2022-05-03T05:15:12.924Z"
   },
   {
    "duration": 17,
    "start_time": "2022-05-03T05:15:12.931Z"
   },
   {
    "duration": 12,
    "start_time": "2022-05-03T05:15:12.950Z"
   },
   {
    "duration": 8,
    "start_time": "2022-05-03T05:15:12.964Z"
   },
   {
    "duration": 7,
    "start_time": "2022-05-03T05:15:12.974Z"
   },
   {
    "duration": 13,
    "start_time": "2022-05-03T05:15:12.983Z"
   },
   {
    "duration": 32,
    "start_time": "2022-05-03T05:15:12.998Z"
   },
   {
    "duration": 250,
    "start_time": "2022-05-03T05:15:13.032Z"
   },
   {
    "duration": 3,
    "start_time": "2022-05-03T05:15:13.284Z"
   },
   {
    "duration": 9,
    "start_time": "2022-05-03T05:15:13.289Z"
   },
   {
    "duration": 242,
    "start_time": "2022-05-03T05:15:13.300Z"
   },
   {
    "duration": 7,
    "start_time": "2022-05-03T05:15:13.544Z"
   },
   {
    "duration": 11,
    "start_time": "2022-05-03T05:15:13.554Z"
   },
   {
    "duration": 29,
    "start_time": "2022-05-03T05:15:13.567Z"
   },
   {
    "duration": 9,
    "start_time": "2022-05-03T05:15:13.598Z"
   },
   {
    "duration": 28,
    "start_time": "2022-05-03T05:15:13.609Z"
   },
   {
    "duration": 237,
    "start_time": "2022-05-03T05:15:13.641Z"
   },
   {
    "duration": 33,
    "start_time": "2022-05-03T05:15:13.880Z"
   },
   {
    "duration": 32,
    "start_time": "2022-05-03T05:15:13.924Z"
   },
   {
    "duration": 8,
    "start_time": "2022-05-03T05:15:13.958Z"
   },
   {
    "duration": 7,
    "start_time": "2022-05-03T05:17:46.944Z"
   },
   {
    "duration": 34,
    "start_time": "2022-05-03T05:17:49.614Z"
   },
   {
    "duration": 27,
    "start_time": "2022-05-03T05:18:05.980Z"
   },
   {
    "duration": 20,
    "start_time": "2022-05-03T05:19:46.419Z"
   },
   {
    "duration": 21,
    "start_time": "2022-05-03T05:20:14.468Z"
   },
   {
    "duration": 8,
    "start_time": "2022-05-03T05:20:15.047Z"
   },
   {
    "duration": 488,
    "start_time": "2022-05-03T05:20:16.173Z"
   },
   {
    "duration": 27,
    "start_time": "2022-05-03T05:20:18.967Z"
   },
   {
    "duration": 6,
    "start_time": "2022-05-03T05:20:19.944Z"
   },
   {
    "duration": 17,
    "start_time": "2022-05-03T05:20:20.285Z"
   },
   {
    "duration": 9,
    "start_time": "2022-05-03T05:20:20.520Z"
   },
   {
    "duration": 788,
    "start_time": "2022-05-03T05:20:20.779Z"
   },
   {
    "duration": 3,
    "start_time": "2022-05-03T05:20:26.379Z"
   },
   {
    "duration": 4,
    "start_time": "2022-05-03T05:20:28.417Z"
   },
   {
    "duration": 3,
    "start_time": "2022-05-03T05:20:28.509Z"
   },
   {
    "duration": 9,
    "start_time": "2022-05-03T05:20:45.157Z"
   },
   {
    "duration": 16,
    "start_time": "2022-05-03T05:20:45.547Z"
   },
   {
    "duration": 580,
    "start_time": "2022-05-03T05:20:56.972Z"
   },
   {
    "duration": 36,
    "start_time": "2022-05-03T05:20:58.690Z"
   },
   {
    "duration": 36,
    "start_time": "2022-05-03T05:20:58.942Z"
   },
   {
    "duration": 48,
    "start_time": "2022-05-03T05:21:42.946Z"
   },
   {
    "duration": 1069,
    "start_time": "2022-05-03T05:21:43.476Z"
   },
   {
    "duration": 8,
    "start_time": "2022-05-03T05:21:55.734Z"
   },
   {
    "duration": 26,
    "start_time": "2022-05-03T05:23:43.168Z"
   },
   {
    "duration": 204,
    "start_time": "2022-05-03T05:23:57.901Z"
   },
   {
    "duration": 196,
    "start_time": "2022-05-03T05:24:26.855Z"
   },
   {
    "duration": 21,
    "start_time": "2022-05-03T05:24:57.868Z"
   },
   {
    "duration": 206,
    "start_time": "2022-05-03T05:25:01.752Z"
   },
   {
    "duration": 204,
    "start_time": "2022-05-03T05:25:03.711Z"
   },
   {
    "duration": 23,
    "start_time": "2022-05-03T05:27:29.257Z"
   },
   {
    "duration": 436,
    "start_time": "2022-05-03T05:27:35.048Z"
   },
   {
    "duration": 512,
    "start_time": "2022-05-03T05:27:39.404Z"
   },
   {
    "duration": 727,
    "start_time": "2022-05-03T05:28:14.901Z"
   },
   {
    "duration": 435,
    "start_time": "2022-05-03T05:28:40.297Z"
   },
   {
    "duration": 465,
    "start_time": "2022-05-03T05:29:02.187Z"
   },
   {
    "duration": 328,
    "start_time": "2022-05-03T05:31:28.646Z"
   },
   {
    "duration": 26,
    "start_time": "2022-05-03T05:31:35.776Z"
   },
   {
    "duration": 37,
    "start_time": "2022-05-03T05:34:09.984Z"
   },
   {
    "duration": 21,
    "start_time": "2022-05-03T05:34:43.555Z"
   },
   {
    "duration": 20,
    "start_time": "2022-05-03T05:36:34.607Z"
   },
   {
    "duration": 161,
    "start_time": "2022-05-03T05:37:56.276Z"
   },
   {
    "duration": 9,
    "start_time": "2022-05-03T05:38:12.788Z"
   },
   {
    "duration": 7,
    "start_time": "2022-05-03T05:38:20.599Z"
   },
   {
    "duration": 21,
    "start_time": "2022-05-03T05:38:39.204Z"
   },
   {
    "duration": 8,
    "start_time": "2022-05-03T05:39:42.482Z"
   },
   {
    "duration": 15,
    "start_time": "2022-05-03T05:39:48.579Z"
   },
   {
    "duration": 37,
    "start_time": "2022-05-03T05:40:41.234Z"
   },
   {
    "duration": 14,
    "start_time": "2022-05-03T05:42:13.150Z"
   },
   {
    "duration": 35,
    "start_time": "2022-05-03T05:42:26.901Z"
   },
   {
    "duration": 14,
    "start_time": "2022-05-03T05:43:07.488Z"
   },
   {
    "duration": 40,
    "start_time": "2022-05-03T05:43:12.412Z"
   },
   {
    "duration": 84,
    "start_time": "2022-05-03T05:46:33.218Z"
   },
   {
    "duration": 82,
    "start_time": "2022-05-03T05:46:56.406Z"
   },
   {
    "duration": 22,
    "start_time": "2022-05-03T05:48:41.106Z"
   },
   {
    "duration": 4,
    "start_time": "2022-05-03T05:50:10.875Z"
   },
   {
    "duration": 3,
    "start_time": "2022-05-03T05:52:47.047Z"
   },
   {
    "duration": 21,
    "start_time": "2022-05-03T05:54:26.796Z"
   },
   {
    "duration": 20,
    "start_time": "2022-05-03T05:57:45.835Z"
   },
   {
    "duration": 38,
    "start_time": "2022-05-03T05:58:03.290Z"
   },
   {
    "duration": 37,
    "start_time": "2022-05-03T05:58:32.369Z"
   },
   {
    "duration": 388,
    "start_time": "2022-05-03T05:59:20.194Z"
   },
   {
    "duration": 603,
    "start_time": "2022-05-03T06:00:34.288Z"
   },
   {
    "duration": 542,
    "start_time": "2022-05-03T06:00:48.143Z"
   },
   {
    "duration": 483,
    "start_time": "2022-05-03T06:00:55.231Z"
   },
   {
    "duration": 472,
    "start_time": "2022-05-03T06:01:03.462Z"
   },
   {
    "duration": 489,
    "start_time": "2022-05-03T06:01:09.853Z"
   },
   {
    "duration": 22,
    "start_time": "2022-05-03T06:04:01.075Z"
   },
   {
    "duration": 29,
    "start_time": "2022-05-03T06:05:00.881Z"
   },
   {
    "duration": 26,
    "start_time": "2022-05-03T06:05:01.190Z"
   },
   {
    "duration": 5,
    "start_time": "2022-05-03T06:05:01.531Z"
   },
   {
    "duration": 6,
    "start_time": "2022-05-03T06:05:01.901Z"
   },
   {
    "duration": 415,
    "start_time": "2022-05-03T06:05:02.052Z"
   },
   {
    "duration": 19,
    "start_time": "2022-05-03T06:05:13.758Z"
   },
   {
    "duration": 18,
    "start_time": "2022-05-03T06:05:13.904Z"
   },
   {
    "duration": 20,
    "start_time": "2022-05-03T06:05:14.050Z"
   },
   {
    "duration": 7,
    "start_time": "2022-05-03T06:05:14.678Z"
   },
   {
    "duration": 328,
    "start_time": "2022-05-03T06:05:14.983Z"
   },
   {
    "duration": 348,
    "start_time": "2022-05-03T06:05:15.314Z"
   },
   {
    "duration": 352,
    "start_time": "2022-05-03T06:05:15.665Z"
   },
   {
    "duration": 11,
    "start_time": "2022-05-03T06:05:18.246Z"
   },
   {
    "duration": 11,
    "start_time": "2022-05-03T06:05:18.378Z"
   },
   {
    "duration": 12,
    "start_time": "2022-05-03T06:05:18.908Z"
   },
   {
    "duration": 645,
    "start_time": "2022-05-03T06:07:10.807Z"
   },
   {
    "duration": 10,
    "start_time": "2022-05-03T06:07:11.455Z"
   },
   {
    "duration": 17,
    "start_time": "2022-05-03T06:07:11.468Z"
   },
   {
    "duration": 14,
    "start_time": "2022-05-03T06:07:11.615Z"
   },
   {
    "duration": 544,
    "start_time": "2022-05-03T06:07:56.784Z"
   },
   {
    "duration": 566,
    "start_time": "2022-05-03T06:09:52.316Z"
   },
   {
    "duration": 673,
    "start_time": "2022-05-03T06:10:48.619Z"
   },
   {
    "duration": 17,
    "start_time": "2022-05-03T06:10:54.152Z"
   },
   {
    "duration": 13,
    "start_time": "2022-05-03T06:10:54.386Z"
   },
   {
    "duration": 17,
    "start_time": "2022-05-03T06:11:05.239Z"
   },
   {
    "duration": 17,
    "start_time": "2022-05-03T06:11:26.585Z"
   },
   {
    "duration": 12,
    "start_time": "2022-05-03T06:11:29.794Z"
   },
   {
    "duration": 361,
    "start_time": "2022-05-03T06:11:33.151Z"
   },
   {
    "duration": 251,
    "start_time": "2022-05-03T06:11:36.276Z"
   },
   {
    "duration": 12,
    "start_time": "2022-05-03T06:11:39.575Z"
   },
   {
    "duration": 10,
    "start_time": "2022-05-03T06:11:39.760Z"
   },
   {
    "duration": 16,
    "start_time": "2022-05-03T06:12:20.403Z"
   },
   {
    "duration": 15,
    "start_time": "2022-05-03T06:12:23.112Z"
   },
   {
    "duration": 240,
    "start_time": "2022-05-03T06:12:35.910Z"
   },
   {
    "duration": 208,
    "start_time": "2022-05-03T06:12:36.153Z"
   },
   {
    "duration": 56,
    "start_time": "2022-05-03T23:01:21.593Z"
   },
   {
    "duration": 1403,
    "start_time": "2022-05-03T23:01:33.381Z"
   },
   {
    "duration": 60,
    "start_time": "2022-05-03T23:01:34.787Z"
   },
   {
    "duration": 3,
    "start_time": "2022-05-03T23:01:34.850Z"
   },
   {
    "duration": 18,
    "start_time": "2022-05-03T23:01:34.855Z"
   },
   {
    "duration": 8,
    "start_time": "2022-05-03T23:01:34.876Z"
   },
   {
    "duration": 12,
    "start_time": "2022-05-03T23:01:34.885Z"
   },
   {
    "duration": 224,
    "start_time": "2022-05-03T23:01:34.899Z"
   },
   {
    "duration": 4,
    "start_time": "2022-05-03T23:01:35.132Z"
   },
   {
    "duration": 16,
    "start_time": "2022-05-03T23:01:35.138Z"
   },
   {
    "duration": 9,
    "start_time": "2022-05-03T23:01:35.156Z"
   },
   {
    "duration": 10,
    "start_time": "2022-05-03T23:01:35.166Z"
   },
   {
    "duration": 5,
    "start_time": "2022-05-03T23:01:35.177Z"
   },
   {
    "duration": 11,
    "start_time": "2022-05-03T23:01:35.183Z"
   },
   {
    "duration": 8,
    "start_time": "2022-05-03T23:01:35.197Z"
   },
   {
    "duration": 173,
    "start_time": "2022-05-03T23:01:35.207Z"
   },
   {
    "duration": 3,
    "start_time": "2022-05-03T23:01:35.383Z"
   },
   {
    "duration": 8,
    "start_time": "2022-05-03T23:01:35.387Z"
   },
   {
    "duration": 178,
    "start_time": "2022-05-03T23:01:35.397Z"
   },
   {
    "duration": 6,
    "start_time": "2022-05-03T23:01:35.577Z"
   },
   {
    "duration": 10,
    "start_time": "2022-05-03T23:01:35.585Z"
   },
   {
    "duration": 7,
    "start_time": "2022-05-03T23:01:35.597Z"
   },
   {
    "duration": 7,
    "start_time": "2022-05-03T23:01:35.606Z"
   },
   {
    "duration": 41,
    "start_time": "2022-05-03T23:01:35.615Z"
   },
   {
    "duration": 169,
    "start_time": "2022-05-03T23:01:35.658Z"
   },
   {
    "duration": 30,
    "start_time": "2022-05-03T23:01:35.828Z"
   },
   {
    "duration": 19,
    "start_time": "2022-05-03T23:01:35.860Z"
   },
   {
    "duration": 2,
    "start_time": "2022-05-03T23:01:35.881Z"
   },
   {
    "duration": 5,
    "start_time": "2022-05-03T23:01:35.885Z"
   },
   {
    "duration": 9,
    "start_time": "2022-05-03T23:01:35.892Z"
   },
   {
    "duration": 47,
    "start_time": "2022-05-03T23:01:35.903Z"
   },
   {
    "duration": 14,
    "start_time": "2022-05-03T23:01:35.952Z"
   },
   {
    "duration": 13,
    "start_time": "2022-05-03T23:01:35.967Z"
   },
   {
    "duration": 396,
    "start_time": "2022-05-03T23:01:35.982Z"
   },
   {
    "duration": 20,
    "start_time": "2022-05-03T23:01:36.380Z"
   },
   {
    "duration": 5,
    "start_time": "2022-05-03T23:01:36.402Z"
   },
   {
    "duration": 44,
    "start_time": "2022-05-03T23:01:36.408Z"
   },
   {
    "duration": 6,
    "start_time": "2022-05-03T23:01:36.454Z"
   },
   {
    "duration": 596,
    "start_time": "2022-05-03T23:01:36.462Z"
   },
   {
    "duration": 2,
    "start_time": "2022-05-03T23:01:37.060Z"
   },
   {
    "duration": 8,
    "start_time": "2022-05-03T23:01:37.064Z"
   },
   {
    "duration": 4,
    "start_time": "2022-05-03T23:01:37.077Z"
   },
   {
    "duration": 10,
    "start_time": "2022-05-03T23:01:37.082Z"
   },
   {
    "duration": 11,
    "start_time": "2022-05-03T23:01:37.094Z"
   },
   {
    "duration": 437,
    "start_time": "2022-05-03T23:01:37.107Z"
   },
   {
    "duration": 36,
    "start_time": "2022-05-03T23:01:37.548Z"
   },
   {
    "duration": 741,
    "start_time": "2022-05-03T23:01:37.585Z"
   },
   {
    "duration": 10,
    "start_time": "2022-05-03T23:01:38.328Z"
   },
   {
    "duration": 20,
    "start_time": "2022-05-03T23:01:38.343Z"
   },
   {
    "duration": 122,
    "start_time": "2022-05-03T23:01:38.364Z"
   },
   {
    "duration": 0,
    "start_time": "2022-05-03T23:01:38.487Z"
   },
   {
    "duration": 0,
    "start_time": "2022-05-03T23:01:38.489Z"
   },
   {
    "duration": 0,
    "start_time": "2022-05-03T23:01:38.490Z"
   },
   {
    "duration": 0,
    "start_time": "2022-05-03T23:01:38.491Z"
   },
   {
    "duration": 0,
    "start_time": "2022-05-03T23:01:38.493Z"
   },
   {
    "duration": 0,
    "start_time": "2022-05-03T23:01:38.494Z"
   },
   {
    "duration": 0,
    "start_time": "2022-05-03T23:01:38.495Z"
   },
   {
    "duration": 0,
    "start_time": "2022-05-03T23:01:38.496Z"
   },
   {
    "duration": 0,
    "start_time": "2022-05-03T23:01:38.497Z"
   },
   {
    "duration": 0,
    "start_time": "2022-05-03T23:01:38.499Z"
   },
   {
    "duration": 0,
    "start_time": "2022-05-03T23:01:38.500Z"
   },
   {
    "duration": 0,
    "start_time": "2022-05-03T23:01:38.501Z"
   },
   {
    "duration": 0,
    "start_time": "2022-05-03T23:01:38.502Z"
   },
   {
    "duration": 0,
    "start_time": "2022-05-03T23:01:38.503Z"
   },
   {
    "duration": 0,
    "start_time": "2022-05-03T23:01:38.504Z"
   },
   {
    "duration": 0,
    "start_time": "2022-05-03T23:01:38.505Z"
   },
   {
    "duration": 0,
    "start_time": "2022-05-03T23:01:38.539Z"
   },
   {
    "duration": 1,
    "start_time": "2022-05-03T23:01:38.540Z"
   },
   {
    "duration": 0,
    "start_time": "2022-05-03T23:01:38.542Z"
   },
   {
    "duration": 1,
    "start_time": "2022-05-03T23:01:38.543Z"
   },
   {
    "duration": 0,
    "start_time": "2022-05-03T23:01:38.547Z"
   },
   {
    "duration": 0,
    "start_time": "2022-05-03T23:01:38.548Z"
   },
   {
    "duration": 0,
    "start_time": "2022-05-03T23:01:38.549Z"
   },
   {
    "duration": 0,
    "start_time": "2022-05-03T23:01:38.553Z"
   },
   {
    "duration": 0,
    "start_time": "2022-05-03T23:01:38.554Z"
   },
   {
    "duration": 0,
    "start_time": "2022-05-03T23:01:38.555Z"
   },
   {
    "duration": 0,
    "start_time": "2022-05-03T23:01:38.557Z"
   },
   {
    "duration": 0,
    "start_time": "2022-05-03T23:01:38.557Z"
   },
   {
    "duration": 0,
    "start_time": "2022-05-03T23:01:38.559Z"
   },
   {
    "duration": 0,
    "start_time": "2022-05-03T23:01:38.560Z"
   },
   {
    "duration": 0,
    "start_time": "2022-05-03T23:01:38.561Z"
   },
   {
    "duration": 0,
    "start_time": "2022-05-03T23:01:38.562Z"
   },
   {
    "duration": 0,
    "start_time": "2022-05-03T23:01:38.563Z"
   },
   {
    "duration": 0,
    "start_time": "2022-05-03T23:01:38.565Z"
   },
   {
    "duration": 0,
    "start_time": "2022-05-03T23:01:38.565Z"
   },
   {
    "duration": 0,
    "start_time": "2022-05-03T23:01:38.566Z"
   },
   {
    "duration": 0,
    "start_time": "2022-05-03T23:01:38.568Z"
   },
   {
    "duration": 0,
    "start_time": "2022-05-03T23:01:38.569Z"
   },
   {
    "duration": 0,
    "start_time": "2022-05-03T23:01:38.570Z"
   },
   {
    "duration": 11,
    "start_time": "2022-05-03T23:02:43.761Z"
   },
   {
    "duration": 1213,
    "start_time": "2022-05-03T23:02:51.757Z"
   },
   {
    "duration": 59,
    "start_time": "2022-05-03T23:02:52.972Z"
   },
   {
    "duration": 3,
    "start_time": "2022-05-03T23:02:53.033Z"
   },
   {
    "duration": 19,
    "start_time": "2022-05-03T23:02:53.037Z"
   },
   {
    "duration": 7,
    "start_time": "2022-05-03T23:02:53.059Z"
   },
   {
    "duration": 12,
    "start_time": "2022-05-03T23:02:53.068Z"
   },
   {
    "duration": 208,
    "start_time": "2022-05-03T23:02:53.082Z"
   },
   {
    "duration": 3,
    "start_time": "2022-05-03T23:02:53.291Z"
   },
   {
    "duration": 12,
    "start_time": "2022-05-03T23:02:53.295Z"
   },
   {
    "duration": 9,
    "start_time": "2022-05-03T23:02:53.309Z"
   },
   {
    "duration": 16,
    "start_time": "2022-05-03T23:02:53.319Z"
   },
   {
    "duration": 2,
    "start_time": "2022-05-03T23:02:53.337Z"
   },
   {
    "duration": 9,
    "start_time": "2022-05-03T23:02:53.341Z"
   },
   {
    "duration": 5,
    "start_time": "2022-05-03T23:02:53.353Z"
   },
   {
    "duration": 181,
    "start_time": "2022-05-03T23:02:53.359Z"
   },
   {
    "duration": 3,
    "start_time": "2022-05-03T23:02:53.542Z"
   },
   {
    "duration": 6,
    "start_time": "2022-05-03T23:02:53.546Z"
   },
   {
    "duration": 162,
    "start_time": "2022-05-03T23:02:53.554Z"
   },
   {
    "duration": 5,
    "start_time": "2022-05-03T23:02:53.717Z"
   },
   {
    "duration": 18,
    "start_time": "2022-05-03T23:02:53.724Z"
   },
   {
    "duration": 5,
    "start_time": "2022-05-03T23:02:53.743Z"
   },
   {
    "duration": 6,
    "start_time": "2022-05-03T23:02:53.749Z"
   },
   {
    "duration": 9,
    "start_time": "2022-05-03T23:02:53.756Z"
   },
   {
    "duration": 160,
    "start_time": "2022-05-03T23:02:53.766Z"
   },
   {
    "duration": 24,
    "start_time": "2022-05-03T23:02:53.932Z"
   },
   {
    "duration": 20,
    "start_time": "2022-05-03T23:02:53.958Z"
   },
   {
    "duration": 5,
    "start_time": "2022-05-03T23:02:53.979Z"
   },
   {
    "duration": 6,
    "start_time": "2022-05-03T23:02:53.985Z"
   },
   {
    "duration": 8,
    "start_time": "2022-05-03T23:02:53.992Z"
   },
   {
    "duration": 45,
    "start_time": "2022-05-03T23:02:54.002Z"
   },
   {
    "duration": 14,
    "start_time": "2022-05-03T23:02:54.049Z"
   },
   {
    "duration": 8,
    "start_time": "2022-05-03T23:02:54.065Z"
   },
   {
    "duration": 348,
    "start_time": "2022-05-03T23:02:54.075Z"
   },
   {
    "duration": 20,
    "start_time": "2022-05-03T23:02:54.432Z"
   },
   {
    "duration": 4,
    "start_time": "2022-05-03T23:02:54.454Z"
   },
   {
    "duration": 22,
    "start_time": "2022-05-03T23:02:54.460Z"
   },
   {
    "duration": 9,
    "start_time": "2022-05-03T23:02:54.485Z"
   },
   {
    "duration": 591,
    "start_time": "2022-05-03T23:02:54.495Z"
   },
   {
    "duration": 2,
    "start_time": "2022-05-03T23:02:55.088Z"
   },
   {
    "duration": 5,
    "start_time": "2022-05-03T23:02:55.092Z"
   },
   {
    "duration": 4,
    "start_time": "2022-05-03T23:02:55.103Z"
   },
   {
    "duration": 28,
    "start_time": "2022-05-03T23:02:55.109Z"
   },
   {
    "duration": 14,
    "start_time": "2022-05-03T23:02:55.139Z"
   },
   {
    "duration": 423,
    "start_time": "2022-05-03T23:02:55.155Z"
   },
   {
    "duration": 39,
    "start_time": "2022-05-03T23:02:55.580Z"
   },
   {
    "duration": 707,
    "start_time": "2022-05-03T23:02:55.621Z"
   },
   {
    "duration": 7,
    "start_time": "2022-05-03T23:02:56.330Z"
   },
   {
    "duration": 18,
    "start_time": "2022-05-03T23:02:56.339Z"
   },
   {
    "duration": 10,
    "start_time": "2022-05-03T23:02:56.359Z"
   },
   {
    "duration": 152,
    "start_time": "2022-05-03T23:02:56.371Z"
   },
   {
    "duration": 132,
    "start_time": "2022-05-03T23:02:56.534Z"
   },
   {
    "duration": 15,
    "start_time": "2022-05-03T23:02:56.668Z"
   },
   {
    "duration": 300,
    "start_time": "2022-05-03T23:02:56.685Z"
   },
   {
    "duration": 313,
    "start_time": "2022-05-03T23:02:56.987Z"
   },
   {
    "duration": 382,
    "start_time": "2022-05-03T23:02:57.302Z"
   },
   {
    "duration": 316,
    "start_time": "2022-05-03T23:02:57.685Z"
   },
   {
    "duration": 209,
    "start_time": "2022-05-03T23:02:58.002Z"
   },
   {
    "duration": 2,
    "start_time": "2022-05-03T23:02:58.213Z"
   },
   {
    "duration": 321,
    "start_time": "2022-05-03T23:02:58.217Z"
   },
   {
    "duration": 18,
    "start_time": "2022-05-03T23:02:58.540Z"
   },
   {
    "duration": 17,
    "start_time": "2022-05-03T23:02:58.560Z"
   },
   {
    "duration": 4,
    "start_time": "2022-05-03T23:02:58.579Z"
   },
   {
    "duration": 8,
    "start_time": "2022-05-03T23:02:58.585Z"
   },
   {
    "duration": 285,
    "start_time": "2022-05-03T23:02:58.594Z"
   },
   {
    "duration": 13,
    "start_time": "2022-05-03T23:02:58.881Z"
   },
   {
    "duration": 12,
    "start_time": "2022-05-03T23:02:58.895Z"
   },
   {
    "duration": 33,
    "start_time": "2022-05-03T23:02:58.909Z"
   },
   {
    "duration": 6,
    "start_time": "2022-05-03T23:02:58.944Z"
   },
   {
    "duration": 218,
    "start_time": "2022-05-03T23:02:58.952Z"
   },
   {
    "duration": 212,
    "start_time": "2022-05-03T23:02:59.171Z"
   },
   {
    "duration": 212,
    "start_time": "2022-05-03T23:02:59.385Z"
   },
   {
    "duration": 8,
    "start_time": "2022-05-03T23:02:59.599Z"
   },
   {
    "duration": 25,
    "start_time": "2022-05-03T23:02:59.609Z"
   },
   {
    "duration": 7,
    "start_time": "2022-05-03T23:02:59.636Z"
   },
   {
    "duration": 459,
    "start_time": "2022-05-03T23:02:59.645Z"
   },
   {
    "duration": 10,
    "start_time": "2022-05-03T23:03:00.105Z"
   },
   {
    "duration": 18,
    "start_time": "2022-05-03T23:03:00.117Z"
   },
   {
    "duration": 14,
    "start_time": "2022-05-03T23:03:00.138Z"
   },
   {
    "duration": 18,
    "start_time": "2022-05-03T23:03:00.154Z"
   },
   {
    "duration": 14,
    "start_time": "2022-05-03T23:03:00.174Z"
   },
   {
    "duration": 207,
    "start_time": "2022-05-03T23:03:00.190Z"
   },
   {
    "duration": 189,
    "start_time": "2022-05-03T23:03:00.399Z"
   },
   {
    "duration": 9,
    "start_time": "2022-05-03T23:03:00.590Z"
   },
   {
    "duration": 17,
    "start_time": "2022-05-03T23:03:00.601Z"
   },
   {
    "duration": 14,
    "start_time": "2022-05-03T23:03:00.632Z"
   },
   {
    "duration": 14,
    "start_time": "2022-05-03T23:03:00.648Z"
   },
   {
    "duration": 167,
    "start_time": "2022-05-03T23:03:00.664Z"
   },
   {
    "duration": 134,
    "start_time": "2022-05-03T23:03:00.833Z"
   },
   {
    "duration": 23,
    "start_time": "2022-05-03T23:03:57.696Z"
   }
  ],
  "celltoolbar": "Отсутствует",
  "kernelspec": {
   "display_name": "Python 3",
   "language": "python",
   "name": "python3"
  },
  "language_info": {
   "codemirror_mode": {
    "name": "ipython",
    "version": 3
   },
   "file_extension": ".py",
   "mimetype": "text/x-python",
   "name": "python",
   "nbconvert_exporter": "python",
   "pygments_lexer": "ipython3",
   "version": "3.8.8"
  },
  "toc": {
   "base_numbering": 1,
   "nav_menu": {},
   "number_sections": true,
   "sideBar": true,
   "skip_h1_title": true,
   "title_cell": "Table of Contents",
   "title_sidebar": "Contents",
   "toc_cell": false,
   "toc_position": {
    "height": "calc(100% - 180px)",
    "left": "10px",
    "top": "150px",
    "width": "239.005px"
   },
   "toc_section_display": true,
   "toc_window_display": true
  }
 },
 "nbformat": 4,
 "nbformat_minor": 5
}
