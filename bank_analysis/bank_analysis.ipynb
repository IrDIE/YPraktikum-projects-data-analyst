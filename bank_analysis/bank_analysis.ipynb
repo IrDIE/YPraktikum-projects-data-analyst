{
 "cells": [
  {
   "cell_type": "markdown",
   "id": "5ab2ecfd",
   "metadata": {},
   "source": [
    "."
   ]
  },
  {
   "cell_type": "markdown",
   "id": "3cb6edca",
   "metadata": {},
   "source": [
    "# Исследование надежности заемщиков.\n",
    "\n",
    "# **Описание проекта**\n",
    "\n",
    "\n",
    "Заказчик — кредитный отдел банка. Нужно разобраться:\n",
    "\n",
    "* влияет ли семейное положение и количество детей клиента на факт погашения кредита в срок. \n",
    "\n",
    "Входные данные от банка — статистика о платёжеспособности клиентов.\n",
    "\n",
    "Результаты исследования будут учтены при построении модели кредитного скоринга — специальной системы, которая оценивает способность потенциального заёмщика вернуть кредит банку"
   ]
  },
  {
   "cell_type": "markdown",
   "id": "b29eb965",
   "metadata": {},
   "source": [
    "Будем смотреть влияние детей / семейного статуса / категории кредита  на возврат кредита в срок\n"
   ]
  },
  {
   "cell_type": "markdown",
   "id": "d6a0627b",
   "metadata": {},
   "source": [
    "### Шаг 1. Обзор данных"
   ]
  },
  {
   "cell_type": "markdown",
   "id": "e41e5170",
   "metadata": {},
   "source": [
    "Описание данных\n",
    "\n",
    "children — количество детей в семье\n",
    "\n",
    "days_employed — общий трудовой стаж в днях\n",
    "\n",
    "dob_years — возраст клиента в годах\n",
    "\n",
    "education — уровень образования клиента\n",
    "\n",
    "education_id — идентификатор уровня образования\n",
    "\n",
    "family_status — семейное положение\n",
    "\n",
    "family_status_id — идентификатор семейного положения\n",
    "\n",
    "gender — пол клиента\n",
    "\n",
    "income_type — тип занятости\n",
    "\n",
    "debt — имел ли задолженность по возврату кредитов\n",
    "\n",
    "total_income — ежемесячный доход\n",
    "\n",
    "purpose — цель получения кредита"
   ]
  },
  {
   "cell_type": "code",
   "execution_count": 1,
   "id": "d1e3918f",
   "metadata": {},
   "outputs": [],
   "source": [
    "import pandas as pd\n",
    "import seaborn as sns\n",
    "import matplotlib.pyplot as plt"
   ]
  },
  {
   "cell_type": "code",
   "execution_count": 2,
   "id": "6375bd95",
   "metadata": {},
   "outputs": [
    {
     "data": {
      "text/html": [
       "<div>\n",
       "<style scoped>\n",
       "    .dataframe tbody tr th:only-of-type {\n",
       "        vertical-align: middle;\n",
       "    }\n",
       "\n",
       "    .dataframe tbody tr th {\n",
       "        vertical-align: top;\n",
       "    }\n",
       "\n",
       "    .dataframe thead th {\n",
       "        text-align: right;\n",
       "    }\n",
       "</style>\n",
       "<table border=\"1\" class=\"dataframe\">\n",
       "  <thead>\n",
       "    <tr style=\"text-align: right;\">\n",
       "      <th></th>\n",
       "      <th>children</th>\n",
       "      <th>days_employed</th>\n",
       "      <th>dob_years</th>\n",
       "      <th>education</th>\n",
       "      <th>education_id</th>\n",
       "      <th>family_status</th>\n",
       "      <th>family_status_id</th>\n",
       "      <th>gender</th>\n",
       "      <th>income_type</th>\n",
       "      <th>debt</th>\n",
       "      <th>total_income</th>\n",
       "      <th>purpose</th>\n",
       "    </tr>\n",
       "  </thead>\n",
       "  <tbody>\n",
       "    <tr>\n",
       "      <th>0</th>\n",
       "      <td>1</td>\n",
       "      <td>-8437.673028</td>\n",
       "      <td>42</td>\n",
       "      <td>высшее</td>\n",
       "      <td>0</td>\n",
       "      <td>женат / замужем</td>\n",
       "      <td>0</td>\n",
       "      <td>F</td>\n",
       "      <td>сотрудник</td>\n",
       "      <td>0</td>\n",
       "      <td>253875.639453</td>\n",
       "      <td>покупка жилья</td>\n",
       "    </tr>\n",
       "    <tr>\n",
       "      <th>1</th>\n",
       "      <td>1</td>\n",
       "      <td>-4024.803754</td>\n",
       "      <td>36</td>\n",
       "      <td>среднее</td>\n",
       "      <td>1</td>\n",
       "      <td>женат / замужем</td>\n",
       "      <td>0</td>\n",
       "      <td>F</td>\n",
       "      <td>сотрудник</td>\n",
       "      <td>0</td>\n",
       "      <td>112080.014102</td>\n",
       "      <td>приобретение автомобиля</td>\n",
       "    </tr>\n",
       "    <tr>\n",
       "      <th>2</th>\n",
       "      <td>0</td>\n",
       "      <td>-5623.422610</td>\n",
       "      <td>33</td>\n",
       "      <td>Среднее</td>\n",
       "      <td>1</td>\n",
       "      <td>женат / замужем</td>\n",
       "      <td>0</td>\n",
       "      <td>M</td>\n",
       "      <td>сотрудник</td>\n",
       "      <td>0</td>\n",
       "      <td>145885.952297</td>\n",
       "      <td>покупка жилья</td>\n",
       "    </tr>\n",
       "    <tr>\n",
       "      <th>3</th>\n",
       "      <td>3</td>\n",
       "      <td>-4124.747207</td>\n",
       "      <td>32</td>\n",
       "      <td>среднее</td>\n",
       "      <td>1</td>\n",
       "      <td>женат / замужем</td>\n",
       "      <td>0</td>\n",
       "      <td>M</td>\n",
       "      <td>сотрудник</td>\n",
       "      <td>0</td>\n",
       "      <td>267628.550329</td>\n",
       "      <td>дополнительное образование</td>\n",
       "    </tr>\n",
       "    <tr>\n",
       "      <th>4</th>\n",
       "      <td>0</td>\n",
       "      <td>340266.072047</td>\n",
       "      <td>53</td>\n",
       "      <td>среднее</td>\n",
       "      <td>1</td>\n",
       "      <td>гражданский брак</td>\n",
       "      <td>1</td>\n",
       "      <td>F</td>\n",
       "      <td>пенсионер</td>\n",
       "      <td>0</td>\n",
       "      <td>158616.077870</td>\n",
       "      <td>сыграть свадьбу</td>\n",
       "    </tr>\n",
       "  </tbody>\n",
       "</table>\n",
       "</div>"
      ],
      "text/plain": [
       "   children  days_employed  dob_years education  education_id  \\\n",
       "0         1   -8437.673028         42    высшее             0   \n",
       "1         1   -4024.803754         36   среднее             1   \n",
       "2         0   -5623.422610         33   Среднее             1   \n",
       "3         3   -4124.747207         32   среднее             1   \n",
       "4         0  340266.072047         53   среднее             1   \n",
       "\n",
       "      family_status  family_status_id gender income_type  debt   total_income  \\\n",
       "0   женат / замужем                 0      F   сотрудник     0  253875.639453   \n",
       "1   женат / замужем                 0      F   сотрудник     0  112080.014102   \n",
       "2   женат / замужем                 0      M   сотрудник     0  145885.952297   \n",
       "3   женат / замужем                 0      M   сотрудник     0  267628.550329   \n",
       "4  гражданский брак                 1      F   пенсионер     0  158616.077870   \n",
       "\n",
       "                      purpose  \n",
       "0               покупка жилья  \n",
       "1     приобретение автомобиля  \n",
       "2               покупка жилья  \n",
       "3  дополнительное образование  \n",
       "4             сыграть свадьбу  "
      ]
     },
     "execution_count": 2,
     "metadata": {},
     "output_type": "execute_result"
    }
   ],
   "source": [
    "# сохраним старый датасет на всякий случай\n",
    "df = pd.read_csv('data.csv')\n",
    "df_ = df.copy()\n",
    "df.head(5)\n",
    "# уже видим какие то странные отрицательные значения, обработаем из позже"
   ]
  },
  {
   "cell_type": "markdown",
   "id": "8ddbcf3b",
   "metadata": {},
   "source": [
    "### Шаг 2.1 Заполнение пропусков"
   ]
  },
  {
   "cell_type": "code",
   "execution_count": 3,
   "id": "419470a8",
   "metadata": {},
   "outputs": [
    {
     "name": "stdout",
     "output_type": "stream",
     "text": [
      "<class 'pandas.core.frame.DataFrame'>\n",
      "RangeIndex: 21525 entries, 0 to 21524\n",
      "Data columns (total 12 columns):\n",
      " #   Column            Non-Null Count  Dtype  \n",
      "---  ------            --------------  -----  \n",
      " 0   children          21525 non-null  int64  \n",
      " 1   days_employed     19351 non-null  float64\n",
      " 2   dob_years         21525 non-null  int64  \n",
      " 3   education         21525 non-null  object \n",
      " 4   education_id      21525 non-null  int64  \n",
      " 5   family_status     21525 non-null  object \n",
      " 6   family_status_id  21525 non-null  int64  \n",
      " 7   gender            21525 non-null  object \n",
      " 8   income_type       21525 non-null  object \n",
      " 9   debt              21525 non-null  int64  \n",
      " 10  total_income      19351 non-null  float64\n",
      " 11  purpose           21525 non-null  object \n",
      "dtypes: float64(2), int64(5), object(5)\n",
      "memory usage: 2.0+ MB\n"
     ]
    }
   ],
   "source": [
    "df.info()"
   ]
  },
  {
   "cell_type": "markdown",
   "id": "810d1bbb",
   "metadata": {},
   "source": [
    "Видим, что в столбцах days_employed, total_income есть пропуски.\n",
    "\n",
    "Пропуски в числовых данных - возможная ошибка человека, обычно их заполняют медианным значением или средним, но сперва нужно проверить данные на выбросы\n",
    "\n",
    "Оценим долю пропусков в каждом столбце:"
   ]
  },
  {
   "cell_type": "code",
   "execution_count": 4,
   "id": "66cdb116",
   "metadata": {},
   "outputs": [
    {
     "name": "stdout",
     "output_type": "stream",
     "text": [
      "Для  days_employed  0.10099883855981417\n",
      "Для  total_income  0.10099883855981417\n"
     ]
    }
   ],
   "source": [
    "print('Для  days_employed ',  df.days_employed.isna().sum() / len(df))\n",
    "print('Для  total_income ', df.total_income.isna().sum() / len(df))"
   ]
  },
  {
   "cell_type": "markdown",
   "id": "989c44ff",
   "metadata": {},
   "source": [
    "В столбце total_income проверим данные на выбросы"
   ]
  },
  {
   "cell_type": "code",
   "execution_count": 5,
   "id": "0c326607",
   "metadata": {},
   "outputs": [
    {
     "data": {
      "text/plain": [
       "<AxesSubplot:>"
      ]
     },
     "execution_count": 5,
     "metadata": {},
     "output_type": "execute_result"
    },
    {
     "data": {
      "image/png": "[encoded data removed]",
      "text/plain": [
       "<Figure size 432x288 with 1 Axes>"
      ]
     },
     "metadata": {
      "needs_background": "light"
     },
     "output_type": "display_data"
    }
   ],
   "source": [
    "df['total_income'].plot(kind = 'box')"
   ]
  },
  {
   "cell_type": "markdown",
   "id": "7e28744a",
   "metadata": {},
   "source": [
    "Видим что есть выбросы, заменяем медианным значением - тк медиана меньше всего подвержена выбросам"
   ]
  },
  {
   "cell_type": "code",
   "execution_count": 6,
   "id": "ab5b71ff",
   "metadata": {},
   "outputs": [],
   "source": [
    "df['total_income'] = df['total_income'].fillna(df['total_income'].median())"
   ]
  },
  {
   "cell_type": "markdown",
   "id": "18d2677c",
   "metadata": {},
   "source": [
    "### Шаг 2.2 Проверка данных на аномалии и исправления."
   ]
  },
  {
   "cell_type": "markdown",
   "id": "d6853fe5",
   "metadata": {},
   "source": [
    "В столбце days_employed отрицательное количество дней трудового стажа. Число отрицательных значений намного больше чем положительных, скорее всего минус поставили случайно, поэтому отбросим его"
   ]
  },
  {
   "cell_type": "code",
   "execution_count": 7,
   "id": "434e483f",
   "metadata": {},
   "outputs": [
    {
     "name": "stdout",
     "output_type": "stream",
     "text": [
      "Отрицательных 15906\n",
      "Положительных 3445\n"
     ]
    }
   ],
   "source": [
    "print('Отрицательных', df[df['days_employed'] < 0]['children'].count())\n",
    "print('Положительных', df[df['days_employed'] > 0]['children'].count())"
   ]
  },
  {
   "cell_type": "code",
   "execution_count": 8,
   "id": "ab067d8a",
   "metadata": {},
   "outputs": [],
   "source": [
    "# теперь будут только положительные\n",
    "df['days_employed'] = df['days_employed'].apply(abs)"
   ]
  },
  {
   "cell_type": "markdown",
   "id": "7b0c17ed",
   "metadata": {},
   "source": [
    "Мы избаились о отрицательных значений, но у нас все еще могут быть очень большие положительные значения.\n",
    "\n",
    "Посмтрим на распределение и решим как заполнить пропуски"
   ]
  },
  {
   "cell_type": "code",
   "execution_count": 9,
   "id": "2af31447",
   "metadata": {},
   "outputs": [
    {
     "data": {
      "text/plain": [
       "<AxesSubplot:>"
      ]
     },
     "execution_count": 9,
     "metadata": {},
     "output_type": "execute_result"
    },
    {
     "data": {
      "image/png": "[encoded data removed]",
      "text/plain": [
       "<Figure size 432x288 with 1 Axes>"
      ]
     },
     "metadata": {
      "needs_background": "light"
     },
     "output_type": "display_data"
    }
   ],
   "source": [
    "df['days_employed'].plot(kind = 'box')"
   ]
  },
  {
   "cell_type": "markdown",
   "id": "ef4746a0",
   "metadata": {},
   "source": [
    "*видим что есть выбросы, исследуем*\n"
   ]
  },
  {
   "cell_type": "code",
   "execution_count": 10,
   "id": "d3418160",
   "metadata": {},
   "outputs": [
    {
     "name": "stdout",
     "output_type": "stream",
     "text": [
      "Доля выбросов: 0.16004645760743322\n"
     ]
    }
   ],
   "source": [
    "# смотрим долю выбросов\n",
    "print('Доля выбросов:', len(df.query('days_employed > 300000') ) / len(df))\n",
    "# "
   ]
  },
  {
   "cell_type": "markdown",
   "id": "1623677a",
   "metadata": {},
   "source": [
    "Доля выбросов не очень большая, удалим их, посмотрим распределение основной массы"
   ]
  },
  {
   "cell_type": "code",
   "execution_count": 11,
   "id": "0afe40be",
   "metadata": {},
   "outputs": [
    {
     "data": {
      "text/plain": [
       "<AxesSubplot:>"
      ]
     },
     "execution_count": 11,
     "metadata": {},
     "output_type": "execute_result"
    },
    {
     "data": {
      "image/png": "[encoded data removed]",
      "text/plain": [
       "<Figure size 432x288 with 1 Axes>"
      ]
     },
     "metadata": {
      "needs_background": "light"
     },
     "output_type": "display_data"
    }
   ],
   "source": [
    "df = df.query('days_employed < 300000')\n",
    "df['days_employed'].plot(kind = 'box')"
   ]
  },
  {
   "cell_type": "code",
   "execution_count": 12,
   "id": "d19d9e0f",
   "metadata": {},
   "outputs": [
    {
     "name": "stdout",
     "output_type": "stream",
     "text": [
      "<class 'pandas.core.frame.DataFrame'>\n",
      "Int64Index: 15906 entries, 0 to 21524\n",
      "Data columns (total 12 columns):\n",
      " #   Column            Non-Null Count  Dtype  \n",
      "---  ------            --------------  -----  \n",
      " 0   children          15906 non-null  int64  \n",
      " 1   days_employed     15906 non-null  float64\n",
      " 2   dob_years         15906 non-null  int64  \n",
      " 3   education         15906 non-null  object \n",
      " 4   education_id      15906 non-null  int64  \n",
      " 5   family_status     15906 non-null  object \n",
      " 6   family_status_id  15906 non-null  int64  \n",
      " 7   gender            15906 non-null  object \n",
      " 8   income_type       15906 non-null  object \n",
      " 9   debt              15906 non-null  int64  \n",
      " 10  total_income      15906 non-null  float64\n",
      " 11  purpose           15906 non-null  object \n",
      "dtypes: float64(2), int64(5), object(5)\n",
      "memory usage: 1.6+ MB\n"
     ]
    }
   ],
   "source": [
    "# теперь можно заполнить пропуски медианой\n",
    "df['days_employed'] = df['days_employed'].fillna(df['days_employed'].mean())\n",
    "# проверим на пропуски ещё раз\n",
    "df.info()"
   ]
  },
  {
   "cell_type": "markdown",
   "id": "dcc26ce2",
   "metadata": {},
   "source": [
    "Проверим на аномалии остальные столбцы"
   ]
  },
  {
   "cell_type": "code",
   "execution_count": 13,
   "id": "d64ff05d",
   "metadata": {},
   "outputs": [
    {
     "data": {
      "text/plain": [
       "array([ 1,  0,  3,  2, -1,  4, 20,  5], dtype=int64)"
      ]
     },
     "execution_count": 13,
     "metadata": {},
     "output_type": "execute_result"
    }
   ],
   "source": [
    "df['children'].unique()\n",
    "# -1 ребёнок очень странно"
   ]
  },
  {
   "cell_type": "code",
   "execution_count": 14,
   "id": "c69b87d1",
   "metadata": {},
   "outputs": [
    {
     "name": "stdout",
     "output_type": "stream",
     "text": [
      "20 детей ... 0.37721614485099964\n",
      "-1 ребёнок ... 0.23261662265811645\n"
     ]
    }
   ],
   "source": [
    "# посмотрим на долю аномальных значений, если она меньше 5% то удалим их\n",
    "print('20 детей ...', len(df.query('children == 20')) *100 / len(df))\n",
    "print('-1 ребёнок ...', len(df.query('children == -1')) *100 / len(df))"
   ]
  },
  {
   "cell_type": "code",
   "execution_count": 15,
   "id": "a13fde34",
   "metadata": {},
   "outputs": [
    {
     "data": {
      "text/plain": [
       "array([1, 0, 3, 2, 4, 5], dtype=int64)"
      ]
     },
     "execution_count": 15,
     "metadata": {},
     "output_type": "execute_result"
    }
   ],
   "source": [
    "df = df.query('children != 20')\n",
    "df = df.query('children != -1')\n",
    "# проверим на выбросы, всё хорошо\n",
    "df['children'].unique()"
   ]
  },
  {
   "cell_type": "markdown",
   "id": "72543c2f",
   "metadata": {},
   "source": [
    "### Шаг 2.3. Изменение типов данных."
   ]
  },
  {
   "cell_type": "markdown",
   "id": "1dfe2c2b",
   "metadata": {},
   "source": [
    "Заменим тип данныx с float64 на int64"
   ]
  },
  {
   "cell_type": "code",
   "execution_count": 16,
   "id": "90d702c8",
   "metadata": {},
   "outputs": [
    {
     "data": {
      "text/plain": [
       "0    253875\n",
       "1    112080\n",
       "2    145885\n",
       "3    267628\n",
       "5    255763\n",
       "Name: total_income, dtype: int64"
      ]
     },
     "execution_count": 16,
     "metadata": {},
     "output_type": "execute_result"
    }
   ],
   "source": [
    "df['total_income'] = (df['total_income'] // 1).astype('int64', errors='ignore')\n",
    "df['total_income'].head()"
   ]
  },
  {
   "cell_type": "markdown",
   "id": "6c5aeab7",
   "metadata": {},
   "source": [
    "### Шаг 2.4. Удаление дубликатов."
   ]
  },
  {
   "cell_type": "markdown",
   "id": "82d08404",
   "metadata": {},
   "source": [
    "возможные причины дубликатов - ошибка в хранении/перемещении данных"
   ]
  },
  {
   "cell_type": "code",
   "execution_count": 17,
   "id": "27a86a09",
   "metadata": {},
   "outputs": [
    {
     "data": {
      "text/plain": [
       "54"
      ]
     },
     "execution_count": 17,
     "metadata": {},
     "output_type": "execute_result"
    }
   ],
   "source": [
    "#Сколько явных дублей было до обработки (смотрим по старому датасету, который скопировали в самом начале) :\n",
    "df_.duplicated().sum()"
   ]
  },
  {
   "cell_type": "code",
   "execution_count": 18,
   "id": "617a6944",
   "metadata": {},
   "outputs": [
    {
     "name": "stdout",
     "output_type": "stream",
     "text": [
      "было: ['высшее' 'среднее' 'Среднее' 'СРЕДНЕЕ' 'ВЫСШЕЕ' 'неоконченное высшее'\n",
      " 'начальное' 'Высшее' 'НЕОКОНЧЕННОЕ ВЫСШЕЕ' 'Неоконченное высшее'\n",
      " 'НАЧАЛЬНОЕ' 'Начальное' 'УЧЕНАЯ СТЕПЕНЬ' 'ученая степень']\n",
      "стало после обработки: ['высшее' 'среднее' 'неоконченное высшее' 'начальное' 'ученая степень']\n"
     ]
    }
   ],
   "source": [
    "#посмотрим уникальные значения на дубликаты с помощью .unique()\n",
    "print('было:', df['education'].unique())\n",
    "#приведём их к одному регистру\n",
    "print('стало после обработки:',df['education'].str.lower().unique())\n",
    "df.loc[:, 'education'] = df.loc[:, 'education'].str.lower()"
   ]
  },
  {
   "cell_type": "code",
   "execution_count": 19,
   "id": "ad453042",
   "metadata": {},
   "outputs": [
    {
     "name": "stdout",
     "output_type": "stream",
     "text": [
      "['женат / замужем' 'гражданский брак' 'в разводе' 'Не женат / не замужем'\n",
      " 'вдовец / вдова']\n",
      "['сотрудник' 'компаньон' 'госслужащий' 'студент' 'предприниматель'\n",
      " 'в декрете']\n",
      "['покупка жилья' 'приобретение автомобиля' 'дополнительное образование'\n",
      " 'операции с жильем' 'образование' 'на проведение свадьбы'\n",
      " 'покупка жилья для семьи' 'покупка недвижимости'\n",
      " 'покупка коммерческой недвижимости' 'покупка жилой недвижимости'\n",
      " 'строительство собственной недвижимости' 'недвижимость'\n",
      " 'строительство недвижимости' 'на покупку своего автомобиля'\n",
      " 'на покупку подержанного автомобиля' 'сыграть свадьбу' 'жилье'\n",
      " 'операции со своей недвижимостью' 'автомобили' 'заняться образованием'\n",
      " 'получение образования' 'сделка с подержанным автомобилем' 'автомобиль'\n",
      " 'свадьба' 'получение дополнительного образования' 'покупка своего жилья'\n",
      " 'операции с недвижимостью' 'получение высшего образования'\n",
      " 'операции с коммерческой недвижимостью' 'свой автомобиль'\n",
      " 'сделка с автомобилем' 'профильное образование' 'высшее образование'\n",
      " 'на покупку автомобиля' 'покупка жилья для сдачи'\n",
      " 'строительство жилой недвижимости' 'ремонт жилью'\n",
      " 'заняться высшим образованием']\n",
      "['F' 'M' 'XNA']\n"
     ]
    }
   ],
   "source": [
    "# проверим уникальные значения других столбцов\n",
    "print(df['family_status'].unique())\n",
    "print(df['income_type'].unique())\n",
    "print(df['purpose'].unique())\n",
    "print(df['gender'].unique())"
   ]
  },
  {
   "cell_type": "markdown",
   "id": "e15cda23",
   "metadata": {},
   "source": [
    "В столбце 'gender' есть пропуски - XNA. Оказывается такая строка всего одна, удалим её"
   ]
  },
  {
   "cell_type": "code",
   "execution_count": 20,
   "id": "39882ade",
   "metadata": {},
   "outputs": [
    {
     "data": {
      "text/html": [
       "<div>\n",
       "<style scoped>\n",
       "    .dataframe tbody tr th:only-of-type {\n",
       "        vertical-align: middle;\n",
       "    }\n",
       "\n",
       "    .dataframe tbody tr th {\n",
       "        vertical-align: top;\n",
       "    }\n",
       "\n",
       "    .dataframe thead th {\n",
       "        text-align: right;\n",
       "    }\n",
       "</style>\n",
       "<table border=\"1\" class=\"dataframe\">\n",
       "  <thead>\n",
       "    <tr style=\"text-align: right;\">\n",
       "      <th></th>\n",
       "      <th>children</th>\n",
       "      <th>days_employed</th>\n",
       "      <th>dob_years</th>\n",
       "      <th>education</th>\n",
       "      <th>education_id</th>\n",
       "      <th>family_status</th>\n",
       "      <th>family_status_id</th>\n",
       "      <th>gender</th>\n",
       "      <th>income_type</th>\n",
       "      <th>debt</th>\n",
       "      <th>total_income</th>\n",
       "      <th>purpose</th>\n",
       "    </tr>\n",
       "  </thead>\n",
       "  <tbody>\n",
       "    <tr>\n",
       "      <th>10701</th>\n",
       "      <td>0</td>\n",
       "      <td>2358.600502</td>\n",
       "      <td>24</td>\n",
       "      <td>неоконченное высшее</td>\n",
       "      <td>2</td>\n",
       "      <td>гражданский брак</td>\n",
       "      <td>1</td>\n",
       "      <td>XNA</td>\n",
       "      <td>компаньон</td>\n",
       "      <td>0</td>\n",
       "      <td>203905</td>\n",
       "      <td>покупка недвижимости</td>\n",
       "    </tr>\n",
       "  </tbody>\n",
       "</table>\n",
       "</div>"
      ],
      "text/plain": [
       "       children  days_employed  dob_years            education  education_id  \\\n",
       "10701         0    2358.600502         24  неоконченное высшее             2   \n",
       "\n",
       "          family_status  family_status_id gender income_type  debt  \\\n",
       "10701  гражданский брак                 1    XNA   компаньон     0   \n",
       "\n",
       "       total_income               purpose  \n",
       "10701        203905  покупка недвижимости  "
      ]
     },
     "execution_count": 20,
     "metadata": {},
     "output_type": "execute_result"
    }
   ],
   "source": [
    "df[df['gender'] == 'XNA']"
   ]
  },
  {
   "cell_type": "code",
   "execution_count": 21,
   "id": "0bf17270",
   "metadata": {},
   "outputs": [
    {
     "data": {
      "text/html": [
       "<div>\n",
       "<style scoped>\n",
       "    .dataframe tbody tr th:only-of-type {\n",
       "        vertical-align: middle;\n",
       "    }\n",
       "\n",
       "    .dataframe tbody tr th {\n",
       "        vertical-align: top;\n",
       "    }\n",
       "\n",
       "    .dataframe thead th {\n",
       "        text-align: right;\n",
       "    }\n",
       "</style>\n",
       "<table border=\"1\" class=\"dataframe\">\n",
       "  <thead>\n",
       "    <tr style=\"text-align: right;\">\n",
       "      <th></th>\n",
       "      <th>children</th>\n",
       "      <th>days_employed</th>\n",
       "      <th>dob_years</th>\n",
       "      <th>education</th>\n",
       "      <th>education_id</th>\n",
       "      <th>family_status</th>\n",
       "      <th>family_status_id</th>\n",
       "      <th>gender</th>\n",
       "      <th>income_type</th>\n",
       "      <th>debt</th>\n",
       "      <th>total_income</th>\n",
       "      <th>purpose</th>\n",
       "    </tr>\n",
       "  </thead>\n",
       "  <tbody>\n",
       "    <tr>\n",
       "      <th>0</th>\n",
       "      <td>1</td>\n",
       "      <td>8437.673028</td>\n",
       "      <td>42</td>\n",
       "      <td>высшее</td>\n",
       "      <td>0</td>\n",
       "      <td>женат / замужем</td>\n",
       "      <td>0</td>\n",
       "      <td>F</td>\n",
       "      <td>сотрудник</td>\n",
       "      <td>0</td>\n",
       "      <td>253875</td>\n",
       "      <td>покупка жилья</td>\n",
       "    </tr>\n",
       "    <tr>\n",
       "      <th>1</th>\n",
       "      <td>1</td>\n",
       "      <td>4024.803754</td>\n",
       "      <td>36</td>\n",
       "      <td>среднее</td>\n",
       "      <td>1</td>\n",
       "      <td>женат / замужем</td>\n",
       "      <td>0</td>\n",
       "      <td>F</td>\n",
       "      <td>сотрудник</td>\n",
       "      <td>0</td>\n",
       "      <td>112080</td>\n",
       "      <td>приобретение автомобиля</td>\n",
       "    </tr>\n",
       "    <tr>\n",
       "      <th>2</th>\n",
       "      <td>0</td>\n",
       "      <td>5623.422610</td>\n",
       "      <td>33</td>\n",
       "      <td>среднее</td>\n",
       "      <td>1</td>\n",
       "      <td>женат / замужем</td>\n",
       "      <td>0</td>\n",
       "      <td>M</td>\n",
       "      <td>сотрудник</td>\n",
       "      <td>0</td>\n",
       "      <td>145885</td>\n",
       "      <td>покупка жилья</td>\n",
       "    </tr>\n",
       "  </tbody>\n",
       "</table>\n",
       "</div>"
      ],
      "text/plain": [
       "   children  days_employed  dob_years education  education_id  \\\n",
       "0         1    8437.673028         42    высшее             0   \n",
       "1         1    4024.803754         36   среднее             1   \n",
       "2         0    5623.422610         33   среднее             1   \n",
       "\n",
       "     family_status  family_status_id gender income_type  debt  total_income  \\\n",
       "0  женат / замужем                 0      F   сотрудник     0        253875   \n",
       "1  женат / замужем                 0      F   сотрудник     0        112080   \n",
       "2  женат / замужем                 0      M   сотрудник     0        145885   \n",
       "\n",
       "                   purpose  \n",
       "0            покупка жилья  \n",
       "1  приобретение автомобиля  \n",
       "2            покупка жилья  "
      ]
     },
     "execution_count": 21,
     "metadata": {},
     "output_type": "execute_result"
    }
   ],
   "source": [
    "df = df[df.gender != 'XNA'].reset_index(drop = True)\n",
    "df.head(3)"
   ]
  },
  {
   "cell_type": "code",
   "execution_count": 22,
   "id": "9e202157",
   "metadata": {},
   "outputs": [
    {
     "data": {
      "text/plain": [
       "0"
      ]
     },
     "execution_count": 22,
     "metadata": {},
     "output_type": "execute_result"
    }
   ],
   "source": [
    "# посмотрим есть ли явные дубликаты:\n",
    "df.duplicated().sum()"
   ]
  },
  {
   "cell_type": "markdown",
   "id": "ccb4c6f8",
   "metadata": {},
   "source": [
    "Явных дубликатов не осталось, можем шагать дальше."
   ]
  },
  {
   "cell_type": "markdown",
   "id": "b5e8c146",
   "metadata": {},
   "source": [
    "### Шаг 2.5. Формирование дополнительных датафреймов словарей, декомпозиция исходного датафрейма."
   ]
  },
  {
   "cell_type": "markdown",
   "id": "37ddd175",
   "metadata": {},
   "source": [
    "Уменьшим наш датафрейм, вынесем информацию об образовании и семейном статусе в отдельные таблицы"
   ]
  },
  {
   "cell_type": "code",
   "execution_count": 23,
   "id": "aab51a4c",
   "metadata": {},
   "outputs": [
    {
     "data": {
      "text/html": [
       "<div>\n",
       "<style scoped>\n",
       "    .dataframe tbody tr th:only-of-type {\n",
       "        vertical-align: middle;\n",
       "    }\n",
       "\n",
       "    .dataframe tbody tr th {\n",
       "        vertical-align: top;\n",
       "    }\n",
       "\n",
       "    .dataframe thead th {\n",
       "        text-align: right;\n",
       "    }\n",
       "</style>\n",
       "<table border=\"1\" class=\"dataframe\">\n",
       "  <thead>\n",
       "    <tr style=\"text-align: right;\">\n",
       "      <th></th>\n",
       "      <th>education</th>\n",
       "      <th>education_id</th>\n",
       "    </tr>\n",
       "  </thead>\n",
       "  <tbody>\n",
       "    <tr>\n",
       "      <th>0</th>\n",
       "      <td>высшее</td>\n",
       "      <td>0</td>\n",
       "    </tr>\n",
       "    <tr>\n",
       "      <th>1</th>\n",
       "      <td>среднее</td>\n",
       "      <td>1</td>\n",
       "    </tr>\n",
       "    <tr>\n",
       "      <th>2</th>\n",
       "      <td>среднее</td>\n",
       "      <td>1</td>\n",
       "    </tr>\n",
       "    <tr>\n",
       "      <th>3</th>\n",
       "      <td>среднее</td>\n",
       "      <td>1</td>\n",
       "    </tr>\n",
       "    <tr>\n",
       "      <th>4</th>\n",
       "      <td>высшее</td>\n",
       "      <td>0</td>\n",
       "    </tr>\n",
       "    <tr>\n",
       "      <th>5</th>\n",
       "      <td>высшее</td>\n",
       "      <td>0</td>\n",
       "    </tr>\n",
       "    <tr>\n",
       "      <th>6</th>\n",
       "      <td>среднее</td>\n",
       "      <td>1</td>\n",
       "    </tr>\n",
       "    <tr>\n",
       "      <th>7</th>\n",
       "      <td>высшее</td>\n",
       "      <td>0</td>\n",
       "    </tr>\n",
       "    <tr>\n",
       "      <th>8</th>\n",
       "      <td>среднее</td>\n",
       "      <td>1</td>\n",
       "    </tr>\n",
       "    <tr>\n",
       "      <th>9</th>\n",
       "      <td>высшее</td>\n",
       "      <td>0</td>\n",
       "    </tr>\n",
       "    <tr>\n",
       "      <th>10</th>\n",
       "      <td>среднее</td>\n",
       "      <td>1</td>\n",
       "    </tr>\n",
       "    <tr>\n",
       "      <th>11</th>\n",
       "      <td>неоконченное высшее</td>\n",
       "      <td>2</td>\n",
       "    </tr>\n",
       "    <tr>\n",
       "      <th>12</th>\n",
       "      <td>высшее</td>\n",
       "      <td>0</td>\n",
       "    </tr>\n",
       "    <tr>\n",
       "      <th>13</th>\n",
       "      <td>среднее</td>\n",
       "      <td>1</td>\n",
       "    </tr>\n",
       "    <tr>\n",
       "      <th>14</th>\n",
       "      <td>среднее</td>\n",
       "      <td>1</td>\n",
       "    </tr>\n",
       "  </tbody>\n",
       "</table>\n",
       "</div>"
      ],
      "text/plain": [
       "              education  education_id\n",
       "0                высшее             0\n",
       "1               среднее             1\n",
       "2               среднее             1\n",
       "3               среднее             1\n",
       "4                высшее             0\n",
       "5                высшее             0\n",
       "6               среднее             1\n",
       "7                высшее             0\n",
       "8               среднее             1\n",
       "9                высшее             0\n",
       "10              среднее             1\n",
       "11  неоконченное высшее             2\n",
       "12               высшее             0\n",
       "13              среднее             1\n",
       "14              среднее             1"
      ]
     },
     "execution_count": 23,
     "metadata": {},
     "output_type": "execute_result"
    }
   ],
   "source": [
    "df_education = df[['education', 'education_id']]\n",
    "df_education.head(15)"
   ]
  },
  {
   "cell_type": "code",
   "execution_count": 24,
   "id": "58e4e49d",
   "metadata": {},
   "outputs": [
    {
     "data": {
      "text/html": [
       "<div>\n",
       "<style scoped>\n",
       "    .dataframe tbody tr th:only-of-type {\n",
       "        vertical-align: middle;\n",
       "    }\n",
       "\n",
       "    .dataframe tbody tr th {\n",
       "        vertical-align: top;\n",
       "    }\n",
       "\n",
       "    .dataframe thead th {\n",
       "        text-align: right;\n",
       "    }\n",
       "</style>\n",
       "<table border=\"1\" class=\"dataframe\">\n",
       "  <thead>\n",
       "    <tr style=\"text-align: right;\">\n",
       "      <th></th>\n",
       "      <th>family_status</th>\n",
       "      <th>family_status_id</th>\n",
       "    </tr>\n",
       "  </thead>\n",
       "  <tbody>\n",
       "    <tr>\n",
       "      <th>0</th>\n",
       "      <td>женат / замужем</td>\n",
       "      <td>0</td>\n",
       "    </tr>\n",
       "    <tr>\n",
       "      <th>1</th>\n",
       "      <td>женат / замужем</td>\n",
       "      <td>0</td>\n",
       "    </tr>\n",
       "    <tr>\n",
       "      <th>2</th>\n",
       "      <td>женат / замужем</td>\n",
       "      <td>0</td>\n",
       "    </tr>\n",
       "  </tbody>\n",
       "</table>\n",
       "</div>"
      ],
      "text/plain": [
       "     family_status  family_status_id\n",
       "0  женат / замужем                 0\n",
       "1  женат / замужем                 0\n",
       "2  женат / замужем                 0"
      ]
     },
     "execution_count": 24,
     "metadata": {},
     "output_type": "execute_result"
    }
   ],
   "source": [
    "df_family = df[['family_status', 'family_status_id']]\n",
    "df_family.head(3)"
   ]
  },
  {
   "cell_type": "code",
   "execution_count": 25,
   "id": "cca414df",
   "metadata": {},
   "outputs": [
    {
     "data": {
      "text/html": [
       "<div>\n",
       "<style scoped>\n",
       "    .dataframe tbody tr th:only-of-type {\n",
       "        vertical-align: middle;\n",
       "    }\n",
       "\n",
       "    .dataframe tbody tr th {\n",
       "        vertical-align: top;\n",
       "    }\n",
       "\n",
       "    .dataframe thead th {\n",
       "        text-align: right;\n",
       "    }\n",
       "</style>\n",
       "<table border=\"1\" class=\"dataframe\">\n",
       "  <thead>\n",
       "    <tr style=\"text-align: right;\">\n",
       "      <th></th>\n",
       "      <th>children</th>\n",
       "      <th>days_employed</th>\n",
       "      <th>dob_years</th>\n",
       "      <th>education_id</th>\n",
       "      <th>family_status_id</th>\n",
       "      <th>gender</th>\n",
       "      <th>income_type</th>\n",
       "      <th>debt</th>\n",
       "      <th>total_income</th>\n",
       "      <th>purpose</th>\n",
       "    </tr>\n",
       "  </thead>\n",
       "  <tbody>\n",
       "    <tr>\n",
       "      <th>0</th>\n",
       "      <td>1</td>\n",
       "      <td>8437.673028</td>\n",
       "      <td>42</td>\n",
       "      <td>0</td>\n",
       "      <td>0</td>\n",
       "      <td>F</td>\n",
       "      <td>сотрудник</td>\n",
       "      <td>0</td>\n",
       "      <td>253875</td>\n",
       "      <td>покупка жилья</td>\n",
       "    </tr>\n",
       "    <tr>\n",
       "      <th>1</th>\n",
       "      <td>1</td>\n",
       "      <td>4024.803754</td>\n",
       "      <td>36</td>\n",
       "      <td>1</td>\n",
       "      <td>0</td>\n",
       "      <td>F</td>\n",
       "      <td>сотрудник</td>\n",
       "      <td>0</td>\n",
       "      <td>112080</td>\n",
       "      <td>приобретение автомобиля</td>\n",
       "    </tr>\n",
       "    <tr>\n",
       "      <th>2</th>\n",
       "      <td>0</td>\n",
       "      <td>5623.422610</td>\n",
       "      <td>33</td>\n",
       "      <td>1</td>\n",
       "      <td>0</td>\n",
       "      <td>M</td>\n",
       "      <td>сотрудник</td>\n",
       "      <td>0</td>\n",
       "      <td>145885</td>\n",
       "      <td>покупка жилья</td>\n",
       "    </tr>\n",
       "  </tbody>\n",
       "</table>\n",
       "</div>"
      ],
      "text/plain": [
       "   children  days_employed  dob_years  education_id  family_status_id gender  \\\n",
       "0         1    8437.673028         42             0                 0      F   \n",
       "1         1    4024.803754         36             1                 0      F   \n",
       "2         0    5623.422610         33             1                 0      M   \n",
       "\n",
       "  income_type  debt  total_income                  purpose  \n",
       "0   сотрудник     0        253875            покупка жилья  \n",
       "1   сотрудник     0        112080  приобретение автомобиля  \n",
       "2   сотрудник     0        145885            покупка жилья  "
      ]
     },
     "execution_count": 25,
     "metadata": {},
     "output_type": "execute_result"
    }
   ],
   "source": [
    "df = df.drop(['education', 'family_status'], axis = 1)\n",
    "df.head(3)"
   ]
  },
  {
   "cell_type": "markdown",
   "id": "a1c40bbd",
   "metadata": {},
   "source": [
    "### Шаг 2.6. Категоризация дохода."
   ]
  },
  {
   "cell_type": "markdown",
   "id": "243d6b37",
   "metadata": {},
   "source": [
    "Создадим функцию и потом применим её к столбцу чтобы закодировать переменные"
   ]
  },
  {
   "cell_type": "code",
   "execution_count": 26,
   "id": "d7e16806",
   "metadata": {},
   "outputs": [],
   "source": [
    "def type_category(number):\n",
    "    if number <= 30000:\n",
    "        return 'E'\n",
    "    elif 30001 <= number  <= 50000:\n",
    "        return 'D'\n",
    "    elif 50001 <= number  <= 200000:\n",
    "        return 'C' \n",
    "    elif 200001 <= number  <= 1000000:\n",
    "        return 'B'\n",
    "    elif number >= 1000001:\n",
    "        return 'A'"
   ]
  },
  {
   "cell_type": "code",
   "execution_count": 27,
   "id": "bc5945bf",
   "metadata": {},
   "outputs": [],
   "source": [
    "df['total_income_category'] = df['total_income'].apply(type_category)"
   ]
  },
  {
   "cell_type": "code",
   "execution_count": 28,
   "id": "7b8c1b9b",
   "metadata": {},
   "outputs": [],
   "source": [
    "# теперь можно отщепить total_income от исходной таблицы\n",
    "df_income_type = df[['total_income', 'total_income_category']]\n",
    "df = df.drop('total_income', axis = 1)\n"
   ]
  },
  {
   "cell_type": "markdown",
   "id": "c30fb1f5",
   "metadata": {},
   "source": [
    "### Шаг 2.7. Категоризация целей кредита."
   ]
  },
  {
   "cell_type": "code",
   "execution_count": 29,
   "id": "75a0f2cc",
   "metadata": {},
   "outputs": [
    {
     "data": {
      "text/plain": [
       "array(['покупка жилья', 'приобретение автомобиля',\n",
       "       'дополнительное образование', 'операции с жильем', 'образование',\n",
       "       'на проведение свадьбы', 'покупка жилья для семьи',\n",
       "       'покупка недвижимости', 'покупка коммерческой недвижимости',\n",
       "       'покупка жилой недвижимости',\n",
       "       'строительство собственной недвижимости', 'недвижимость',\n",
       "       'строительство недвижимости', 'на покупку своего автомобиля',\n",
       "       'на покупку подержанного автомобиля', 'сыграть свадьбу', 'жилье',\n",
       "       'операции со своей недвижимостью', 'автомобили',\n",
       "       'заняться образованием', 'получение образования',\n",
       "       'сделка с подержанным автомобилем', 'автомобиль', 'свадьба',\n",
       "       'получение дополнительного образования', 'покупка своего жилья',\n",
       "       'операции с недвижимостью', 'получение высшего образования',\n",
       "       'операции с коммерческой недвижимостью', 'свой автомобиль',\n",
       "       'сделка с автомобилем', 'профильное образование',\n",
       "       'высшее образование', 'на покупку автомобиля',\n",
       "       'покупка жилья для сдачи', 'строительство жилой недвижимости',\n",
       "       'ремонт жилью', 'заняться высшим образованием'], dtype=object)"
      ]
     },
     "execution_count": 29,
     "metadata": {},
     "output_type": "execute_result"
    }
   ],
   "source": [
    "# посмотрим на уникальные значения\n",
    "df['purpose'].unique()"
   ]
  },
  {
   "cell_type": "code",
   "execution_count": 30,
   "id": "4b369056",
   "metadata": {},
   "outputs": [],
   "source": [
    "def purpose_cod(purpose):\n",
    "    if 'авто' in purpose:\n",
    "        return 'операции с автомобилем'\n",
    "    elif 'образов' in purpose:\n",
    "        return 'получение образования'\n",
    "    elif ('недвиж' in purpose) or ('жиль' in purpose):\n",
    "        return 'операции с недвижимостью'\n",
    "    elif 'свадьб' in purpose:\n",
    "        return 'проведение свадьбы'"
   ]
  },
  {
   "cell_type": "code",
   "execution_count": 31,
   "id": "19d3aeab",
   "metadata": {},
   "outputs": [],
   "source": [
    "df['purpose_category'] = df['purpose'].apply(purpose_cod)"
   ]
  },
  {
   "cell_type": "code",
   "execution_count": 32,
   "id": "da5f7436",
   "metadata": {},
   "outputs": [],
   "source": [
    "df_purpose = df[['purpose', 'purpose_category']]\n",
    "# выкинем столбец purpose тк же закодировали его в purpose_category, при этом сохранив подвыборку с исходной таблицы\n",
    "df = df.drop('purpose', axis = 1)"
   ]
  },
  {
   "cell_type": "code",
   "execution_count": 33,
   "id": "4165b498",
   "metadata": {},
   "outputs": [
    {
     "data": {
      "text/html": [
       "<div>\n",
       "<style scoped>\n",
       "    .dataframe tbody tr th:only-of-type {\n",
       "        vertical-align: middle;\n",
       "    }\n",
       "\n",
       "    .dataframe tbody tr th {\n",
       "        vertical-align: top;\n",
       "    }\n",
       "\n",
       "    .dataframe thead th {\n",
       "        text-align: right;\n",
       "    }\n",
       "</style>\n",
       "<table border=\"1\" class=\"dataframe\">\n",
       "  <thead>\n",
       "    <tr style=\"text-align: right;\">\n",
       "      <th></th>\n",
       "      <th>children</th>\n",
       "      <th>days_employed</th>\n",
       "      <th>dob_years</th>\n",
       "      <th>education_id</th>\n",
       "      <th>family_status_id</th>\n",
       "      <th>gender</th>\n",
       "      <th>income_type</th>\n",
       "      <th>debt</th>\n",
       "      <th>total_income_category</th>\n",
       "      <th>purpose_category</th>\n",
       "    </tr>\n",
       "  </thead>\n",
       "  <tbody>\n",
       "    <tr>\n",
       "      <th>0</th>\n",
       "      <td>1</td>\n",
       "      <td>8437.673028</td>\n",
       "      <td>42</td>\n",
       "      <td>0</td>\n",
       "      <td>0</td>\n",
       "      <td>F</td>\n",
       "      <td>сотрудник</td>\n",
       "      <td>0</td>\n",
       "      <td>B</td>\n",
       "      <td>операции с недвижимостью</td>\n",
       "    </tr>\n",
       "    <tr>\n",
       "      <th>1</th>\n",
       "      <td>1</td>\n",
       "      <td>4024.803754</td>\n",
       "      <td>36</td>\n",
       "      <td>1</td>\n",
       "      <td>0</td>\n",
       "      <td>F</td>\n",
       "      <td>сотрудник</td>\n",
       "      <td>0</td>\n",
       "      <td>C</td>\n",
       "      <td>операции с автомобилем</td>\n",
       "    </tr>\n",
       "    <tr>\n",
       "      <th>2</th>\n",
       "      <td>0</td>\n",
       "      <td>5623.422610</td>\n",
       "      <td>33</td>\n",
       "      <td>1</td>\n",
       "      <td>0</td>\n",
       "      <td>M</td>\n",
       "      <td>сотрудник</td>\n",
       "      <td>0</td>\n",
       "      <td>C</td>\n",
       "      <td>операции с недвижимостью</td>\n",
       "    </tr>\n",
       "    <tr>\n",
       "      <th>3</th>\n",
       "      <td>3</td>\n",
       "      <td>4124.747207</td>\n",
       "      <td>32</td>\n",
       "      <td>1</td>\n",
       "      <td>0</td>\n",
       "      <td>M</td>\n",
       "      <td>сотрудник</td>\n",
       "      <td>0</td>\n",
       "      <td>B</td>\n",
       "      <td>получение образования</td>\n",
       "    </tr>\n",
       "  </tbody>\n",
       "</table>\n",
       "</div>"
      ],
      "text/plain": [
       "   children  days_employed  dob_years  education_id  family_status_id gender  \\\n",
       "0         1    8437.673028         42             0                 0      F   \n",
       "1         1    4024.803754         36             1                 0      F   \n",
       "2         0    5623.422610         33             1                 0      M   \n",
       "3         3    4124.747207         32             1                 0      M   \n",
       "\n",
       "  income_type  debt total_income_category          purpose_category  \n",
       "0   сотрудник     0                     B  операции с недвижимостью  \n",
       "1   сотрудник     0                     C    операции с автомобилем  \n",
       "2   сотрудник     0                     C  операции с недвижимостью  \n",
       "3   сотрудник     0                     B     получение образования  "
      ]
     },
     "execution_count": 33,
     "metadata": {},
     "output_type": "execute_result"
    }
   ],
   "source": [
    "#посмтрим что у нас вышло\n",
    "df.head(4)"
   ]
  },
  {
   "cell_type": "markdown",
   "id": "265d34a2",
   "metadata": {},
   "source": [
    "### Ответы на вопросы."
   ]
  },
  {
   "cell_type": "markdown",
   "id": "3851f04d",
   "metadata": {},
   "source": [
    "##### Вопрос 1:   Есть ли зависимость между количеством детей и возвратом кредита в срок?"
   ]
  },
  {
   "cell_type": "markdown",
   "id": "d3190a29",
   "metadata": {},
   "source": [
    "Посчитаем среднее количество детей у тех, кто возвращал кредит , и у тех у кого есть зодолженность. \n",
    "\n",
    "построим график "
   ]
  },
  {
   "cell_type": "code",
   "execution_count": 34,
   "id": "fc4d3a47",
   "metadata": {},
   "outputs": [],
   "source": [
    "has_debt = df.loc[df['debt'] == 1, 'children'].mean()\n",
    "no_debt = df.loc[df['debt'] == 0, 'children'].mean()"
   ]
  },
  {
   "cell_type": "code",
   "execution_count": 35,
   "id": "522af8ac",
   "metadata": {},
   "outputs": [
    {
     "name": "stdout",
     "output_type": "stream",
     "text": [
      "среднее по детям у задолженников :  0.5949275362318841\n",
      "среднее по детям у не-задолженников :  0.552606043803715\n"
     ]
    }
   ],
   "source": [
    "print('среднее по детям у задолженников : ', has_debt)\n",
    "print('среднее по детям у не-задолженников : ', no_debt)"
   ]
  },
  {
   "cell_type": "code",
   "execution_count": 36,
   "id": "a0e215a9",
   "metadata": {},
   "outputs": [
    {
     "data": {
      "text/plain": [
       "<AxesSubplot:xlabel='children', ylabel='debt'>"
      ]
     },
     "execution_count": 36,
     "metadata": {},
     "output_type": "execute_result"
    },
    {
     "data": {
      "image/png": "[encoded data removed]",
      "text/plain": [
       "<Figure size 432x288 with 1 Axes>"
      ]
     },
     "metadata": {
      "needs_background": "light"
     },
     "output_type": "display_data"
    }
   ],
   "source": [
    "sns.barplot(data=df, x=\"children\", y=\"debt\" )"
   ]
  },
  {
   "cell_type": "markdown",
   "id": "29e27e30",
   "metadata": {},
   "source": [
    "Видно, что среднее у одних и у других примерно одинаковое.\n",
    "\n",
    "\n",
    "На графике сильных различий по высоте столбцов тоже нет \n",
    "\n",
    "посмотрим на сводную таблицу"
   ]
  },
  {
   "cell_type": "code",
   "execution_count": 37,
   "id": "8edf10ac",
   "metadata": {},
   "outputs": [
    {
     "data": {
      "text/html": [
       "<div>\n",
       "<style scoped>\n",
       "    .dataframe tbody tr th:only-of-type {\n",
       "        vertical-align: middle;\n",
       "    }\n",
       "\n",
       "    .dataframe tbody tr th {\n",
       "        vertical-align: top;\n",
       "    }\n",
       "\n",
       "    .dataframe thead tr th {\n",
       "        text-align: left;\n",
       "    }\n",
       "\n",
       "    .dataframe thead tr:last-of-type th {\n",
       "        text-align: right;\n",
       "    }\n",
       "</style>\n",
       "<table border=\"1\" class=\"dataframe\">\n",
       "  <thead>\n",
       "    <tr>\n",
       "      <th></th>\n",
       "      <th>sum</th>\n",
       "      <th>count</th>\n",
       "      <th>mean</th>\n",
       "    </tr>\n",
       "    <tr>\n",
       "      <th></th>\n",
       "      <th>debt</th>\n",
       "      <th>debt</th>\n",
       "      <th>debt</th>\n",
       "    </tr>\n",
       "    <tr>\n",
       "      <th>children</th>\n",
       "      <th></th>\n",
       "      <th></th>\n",
       "      <th></th>\n",
       "    </tr>\n",
       "  </thead>\n",
       "  <tbody>\n",
       "    <tr>\n",
       "      <th>0</th>\n",
       "      <td>785</td>\n",
       "      <td>9555</td>\n",
       "      <td>0.082156</td>\n",
       "    </tr>\n",
       "    <tr>\n",
       "      <th>1</th>\n",
       "      <td>396</td>\n",
       "      <td>4090</td>\n",
       "      <td>0.096822</td>\n",
       "    </tr>\n",
       "    <tr>\n",
       "      <th>2</th>\n",
       "      <td>175</td>\n",
       "      <td>1834</td>\n",
       "      <td>0.095420</td>\n",
       "    </tr>\n",
       "    <tr>\n",
       "      <th>3</th>\n",
       "      <td>21</td>\n",
       "      <td>288</td>\n",
       "      <td>0.072917</td>\n",
       "    </tr>\n",
       "    <tr>\n",
       "      <th>4</th>\n",
       "      <td>3</td>\n",
       "      <td>33</td>\n",
       "      <td>0.090909</td>\n",
       "    </tr>\n",
       "    <tr>\n",
       "      <th>5</th>\n",
       "      <td>0</td>\n",
       "      <td>8</td>\n",
       "      <td>0.000000</td>\n",
       "    </tr>\n",
       "  </tbody>\n",
       "</table>\n",
       "</div>"
      ],
      "text/plain": [
       "          sum count      mean\n",
       "         debt  debt      debt\n",
       "children                     \n",
       "0         785  9555  0.082156\n",
       "1         396  4090  0.096822\n",
       "2         175  1834  0.095420\n",
       "3          21   288  0.072917\n",
       "4           3    33  0.090909\n",
       "5           0     8  0.000000"
      ]
     },
     "execution_count": 37,
     "metadata": {},
     "output_type": "execute_result"
    }
   ],
   "source": [
    " df.pivot_table(index=['children'], values='debt', aggfunc=['sum','count','mean'])"
   ]
  },
  {
   "cell_type": "markdown",
   "id": "369aee4c",
   "metadata": {},
   "source": [
    "Видно что среди тех, у кого нет детей доля должников = 0,08\n",
    "\n",
    "А среди родителей (только если у тебя не 3 или 5 детей) = 0,09"
   ]
  },
  {
   "cell_type": "markdown",
   "id": "253f7692",
   "metadata": {},
   "source": [
    "Различия слабые, но всё же, можем сказать, что семьи с детьми хуже отдают кредиты"
   ]
  },
  {
   "cell_type": "markdown",
   "id": "8486b541",
   "metadata": {},
   "source": [
    "##### Вопрос 2:  Есть ли зависимость между семейным положением и возвратом кредита в срок?"
   ]
  },
  {
   "cell_type": "markdown",
   "id": "e3149924",
   "metadata": {},
   "source": [
    "Сгруппируем таблицу по столбцу debt (имел ли задолженность по возврату кредитов), и посчитаем сколько каждой категории статуса семьи "
   ]
  },
  {
   "cell_type": "code",
   "execution_count": 38,
   "id": "11b1a481",
   "metadata": {},
   "outputs": [
    {
     "data": {
      "text/html": [
       "<div>\n",
       "<style scoped>\n",
       "    .dataframe tbody tr th:only-of-type {\n",
       "        vertical-align: middle;\n",
       "    }\n",
       "\n",
       "    .dataframe tbody tr th {\n",
       "        vertical-align: top;\n",
       "    }\n",
       "\n",
       "    .dataframe thead th {\n",
       "        text-align: right;\n",
       "    }\n",
       "</style>\n",
       "<table border=\"1\" class=\"dataframe\">\n",
       "  <thead>\n",
       "    <tr style=\"text-align: right;\">\n",
       "      <th></th>\n",
       "      <th>debt</th>\n",
       "      <th>family_status_id</th>\n",
       "      <th>count</th>\n",
       "    </tr>\n",
       "  </thead>\n",
       "  <tbody>\n",
       "    <tr>\n",
       "      <th>0</th>\n",
       "      <td>0</td>\n",
       "      <td>0</td>\n",
       "      <td>8459</td>\n",
       "    </tr>\n",
       "    <tr>\n",
       "      <th>1</th>\n",
       "      <td>0</td>\n",
       "      <td>1</td>\n",
       "      <td>2835</td>\n",
       "    </tr>\n",
       "    <tr>\n",
       "      <th>2</th>\n",
       "      <td>0</td>\n",
       "      <td>4</td>\n",
       "      <td>1963</td>\n",
       "    </tr>\n",
       "    <tr>\n",
       "      <th>3</th>\n",
       "      <td>0</td>\n",
       "      <td>3</td>\n",
       "      <td>817</td>\n",
       "    </tr>\n",
       "    <tr>\n",
       "      <th>4</th>\n",
       "      <td>0</td>\n",
       "      <td>2</td>\n",
       "      <td>354</td>\n",
       "    </tr>\n",
       "    <tr>\n",
       "      <th>5</th>\n",
       "      <td>1</td>\n",
       "      <td>0</td>\n",
       "      <td>744</td>\n",
       "    </tr>\n",
       "    <tr>\n",
       "      <th>6</th>\n",
       "      <td>1</td>\n",
       "      <td>1</td>\n",
       "      <td>307</td>\n",
       "    </tr>\n",
       "    <tr>\n",
       "      <th>7</th>\n",
       "      <td>1</td>\n",
       "      <td>4</td>\n",
       "      <td>241</td>\n",
       "    </tr>\n",
       "    <tr>\n",
       "      <th>8</th>\n",
       "      <td>1</td>\n",
       "      <td>3</td>\n",
       "      <td>64</td>\n",
       "    </tr>\n",
       "    <tr>\n",
       "      <th>9</th>\n",
       "      <td>1</td>\n",
       "      <td>2</td>\n",
       "      <td>24</td>\n",
       "    </tr>\n",
       "  </tbody>\n",
       "</table>\n",
       "</div>"
      ],
      "text/plain": [
       "   debt  family_status_id  count\n",
       "0     0                 0   8459\n",
       "1     0                 1   2835\n",
       "2     0                 4   1963\n",
       "3     0                 3    817\n",
       "4     0                 2    354\n",
       "5     1                 0    744\n",
       "6     1                 1    307\n",
       "7     1                 4    241\n",
       "8     1                 3     64\n",
       "9     1                 2     24"
      ]
     },
     "execution_count": 38,
     "metadata": {},
     "output_type": "execute_result"
    }
   ],
   "source": [
    "family_status_debt = df.groupby('debt')['family_status_id'].value_counts().reset_index(name='count')\n",
    "family_status_debt"
   ]
  },
  {
   "cell_type": "code",
   "execution_count": 39,
   "id": "76d22788",
   "metadata": {},
   "outputs": [
    {
     "data": {
      "text/html": [
       "<div>\n",
       "<style scoped>\n",
       "    .dataframe tbody tr th:only-of-type {\n",
       "        vertical-align: middle;\n",
       "    }\n",
       "\n",
       "    .dataframe tbody tr th {\n",
       "        vertical-align: top;\n",
       "    }\n",
       "\n",
       "    .dataframe thead th {\n",
       "        text-align: right;\n",
       "    }\n",
       "</style>\n",
       "<table border=\"1\" class=\"dataframe\">\n",
       "  <thead>\n",
       "    <tr style=\"text-align: right;\">\n",
       "      <th>debt</th>\n",
       "      <th>0</th>\n",
       "      <th>1</th>\n",
       "    </tr>\n",
       "    <tr>\n",
       "      <th>family_status_id</th>\n",
       "      <th></th>\n",
       "      <th></th>\n",
       "    </tr>\n",
       "  </thead>\n",
       "  <tbody>\n",
       "    <tr>\n",
       "      <th>0</th>\n",
       "      <td>8459</td>\n",
       "      <td>744</td>\n",
       "    </tr>\n",
       "    <tr>\n",
       "      <th>1</th>\n",
       "      <td>2835</td>\n",
       "      <td>307</td>\n",
       "    </tr>\n",
       "    <tr>\n",
       "      <th>2</th>\n",
       "      <td>354</td>\n",
       "      <td>24</td>\n",
       "    </tr>\n",
       "    <tr>\n",
       "      <th>3</th>\n",
       "      <td>817</td>\n",
       "      <td>64</td>\n",
       "    </tr>\n",
       "    <tr>\n",
       "      <th>4</th>\n",
       "      <td>1963</td>\n",
       "      <td>241</td>\n",
       "    </tr>\n",
       "  </tbody>\n",
       "</table>\n",
       "</div>"
      ],
      "text/plain": [
       "debt                 0    1\n",
       "family_status_id           \n",
       "0                 8459  744\n",
       "1                 2835  307\n",
       "2                  354   24\n",
       "3                  817   64\n",
       "4                 1963  241"
      ]
     },
     "execution_count": 39,
     "metadata": {},
     "output_type": "execute_result"
    }
   ],
   "source": [
    "# выведем это через сводную таблицу, для наглядности\n",
    "family_debt_piv = pd.pivot_table(family_status_debt, index = 'family_status_id', columns = 'debt', values = 'count')\n",
    "\n",
    "family_debt_piv"
   ]
  },
  {
   "cell_type": "markdown",
   "id": "6e1a600c",
   "metadata": {},
   "source": [
    "Можем построить график для каждой группы семейного положения, перед этим найдем количество людей в каждой группе и посмотрим на долю должников"
   ]
  },
  {
   "cell_type": "code",
   "execution_count": 40,
   "id": "b039034f",
   "metadata": {},
   "outputs": [
    {
     "data": {
      "text/html": [
       "<div>\n",
       "<style scoped>\n",
       "    .dataframe tbody tr th:only-of-type {\n",
       "        vertical-align: middle;\n",
       "    }\n",
       "\n",
       "    .dataframe tbody tr th {\n",
       "        vertical-align: top;\n",
       "    }\n",
       "\n",
       "    .dataframe thead th {\n",
       "        text-align: right;\n",
       "    }\n",
       "</style>\n",
       "<table border=\"1\" class=\"dataframe\">\n",
       "  <thead>\n",
       "    <tr style=\"text-align: right;\">\n",
       "      <th>debt</th>\n",
       "      <th>family_status_id</th>\n",
       "      <th>0</th>\n",
       "      <th>1</th>\n",
       "      <th>sum</th>\n",
       "    </tr>\n",
       "  </thead>\n",
       "  <tbody>\n",
       "    <tr>\n",
       "      <th>0</th>\n",
       "      <td>0</td>\n",
       "      <td>8459</td>\n",
       "      <td>744</td>\n",
       "      <td>9203</td>\n",
       "    </tr>\n",
       "    <tr>\n",
       "      <th>1</th>\n",
       "      <td>1</td>\n",
       "      <td>2835</td>\n",
       "      <td>307</td>\n",
       "      <td>3142</td>\n",
       "    </tr>\n",
       "    <tr>\n",
       "      <th>2</th>\n",
       "      <td>2</td>\n",
       "      <td>354</td>\n",
       "      <td>24</td>\n",
       "      <td>378</td>\n",
       "    </tr>\n",
       "    <tr>\n",
       "      <th>3</th>\n",
       "      <td>3</td>\n",
       "      <td>817</td>\n",
       "      <td>64</td>\n",
       "      <td>881</td>\n",
       "    </tr>\n",
       "    <tr>\n",
       "      <th>4</th>\n",
       "      <td>4</td>\n",
       "      <td>1963</td>\n",
       "      <td>241</td>\n",
       "      <td>2204</td>\n",
       "    </tr>\n",
       "  </tbody>\n",
       "</table>\n",
       "</div>"
      ],
      "text/plain": [
       "debt  family_status_id     0    1   sum\n",
       "0                    0  8459  744  9203\n",
       "1                    1  2835  307  3142\n",
       "2                    2   354   24   378\n",
       "3                    3   817   64   881\n",
       "4                    4  1963  241  2204"
      ]
     },
     "execution_count": 40,
     "metadata": {},
     "output_type": "execute_result"
    }
   ],
   "source": [
    "family_debt_piv_  = family_debt_piv.reset_index()\n",
    "family_debt_piv_['sum'] = family_debt_piv_[0] + family_debt_piv_[1]\n",
    "family_debt_piv_"
   ]
  },
  {
   "cell_type": "code",
   "execution_count": 41,
   "id": "d88c4fc8",
   "metadata": {},
   "outputs": [
    {
     "data": {
      "text/plain": [
       "Text(0.5, 1.0, 'Доля должников в каждом статусе')"
      ]
     },
     "execution_count": 41,
     "metadata": {},
     "output_type": "execute_result"
    },
    {
     "data": {
      "image/png": "[encoded data removed]",
      "text/plain": [
       "<Figure size 432x288 with 1 Axes>"
      ]
     },
     "metadata": {
      "needs_background": "light"
     },
     "output_type": "display_data"
    }
   ],
   "source": [
    "sns.barplot(x = family_debt_piv_.family_status_id, y = family_debt_piv_[1] / family_debt_piv_['sum'])\n",
    "plt.title('Доля должников в каждом статусе')"
   ]
  },
  {
   "cell_type": "code",
   "execution_count": 42,
   "id": "06c48d93",
   "metadata": {},
   "outputs": [
    {
     "data": {
      "text/html": [
       "<div>\n",
       "<style scoped>\n",
       "    .dataframe tbody tr th:only-of-type {\n",
       "        vertical-align: middle;\n",
       "    }\n",
       "\n",
       "    .dataframe tbody tr th {\n",
       "        vertical-align: top;\n",
       "    }\n",
       "\n",
       "    .dataframe thead th {\n",
       "        text-align: right;\n",
       "    }\n",
       "</style>\n",
       "<table border=\"1\" class=\"dataframe\">\n",
       "  <thead>\n",
       "    <tr style=\"text-align: right;\">\n",
       "      <th></th>\n",
       "      <th>family_status_id</th>\n",
       "    </tr>\n",
       "    <tr>\n",
       "      <th>family_status</th>\n",
       "      <th></th>\n",
       "    </tr>\n",
       "  </thead>\n",
       "  <tbody>\n",
       "    <tr>\n",
       "      <th>Не женат / не замужем</th>\n",
       "      <td>4</td>\n",
       "    </tr>\n",
       "    <tr>\n",
       "      <th>в разводе</th>\n",
       "      <td>3</td>\n",
       "    </tr>\n",
       "    <tr>\n",
       "      <th>вдовец / вдова</th>\n",
       "      <td>2</td>\n",
       "    </tr>\n",
       "    <tr>\n",
       "      <th>гражданский брак</th>\n",
       "      <td>1</td>\n",
       "    </tr>\n",
       "    <tr>\n",
       "      <th>женат / замужем</th>\n",
       "      <td>0</td>\n",
       "    </tr>\n",
       "  </tbody>\n",
       "</table>\n",
       "</div>"
      ],
      "text/plain": [
       "                       family_status_id\n",
       "family_status                          \n",
       "Не женат / не замужем                 4\n",
       "в разводе                             3\n",
       "вдовец / вдова                        2\n",
       "гражданский брак                      1\n",
       "женат / замужем                       0"
      ]
     },
     "execution_count": 42,
     "metadata": {},
     "output_type": "execute_result"
    }
   ],
   "source": [
    "# вспомним расшифровку цифра - значение для семейного статуса:\n",
    "df_family.groupby('family_status').first()"
   ]
  },
  {
   "cell_type": "markdown",
   "id": "922b12bb",
   "metadata": {},
   "source": [
    " **Видим, что не женатые или в гражданском браке чаще склонны не отдавать кредиты**"
   ]
  },
  {
   "cell_type": "markdown",
   "id": "4de8f0bf",
   "metadata": {},
   "source": [
    "##### Вопрос 3:  Есть ли зависимость между уровнем дохода и возвратом кредита в срок?"
   ]
  },
  {
   "cell_type": "markdown",
   "id": "aa2651a6",
   "metadata": {},
   "source": [
    "Проделаем то же самое что и для категорий семейного статуса"
   ]
  },
  {
   "cell_type": "code",
   "execution_count": 43,
   "id": "27cdcfb1",
   "metadata": {},
   "outputs": [
    {
     "data": {
      "text/html": [
       "<div>\n",
       "<style scoped>\n",
       "    .dataframe tbody tr th:only-of-type {\n",
       "        vertical-align: middle;\n",
       "    }\n",
       "\n",
       "    .dataframe tbody tr th {\n",
       "        vertical-align: top;\n",
       "    }\n",
       "\n",
       "    .dataframe thead th {\n",
       "        text-align: right;\n",
       "    }\n",
       "</style>\n",
       "<table border=\"1\" class=\"dataframe\">\n",
       "  <thead>\n",
       "    <tr style=\"text-align: right;\">\n",
       "      <th>debt</th>\n",
       "      <th>0</th>\n",
       "      <th>1</th>\n",
       "    </tr>\n",
       "    <tr>\n",
       "      <th>total_income_category</th>\n",
       "      <th></th>\n",
       "      <th></th>\n",
       "    </tr>\n",
       "  </thead>\n",
       "  <tbody>\n",
       "    <tr>\n",
       "      <th>A</th>\n",
       "      <td>23.0</td>\n",
       "      <td>2.0</td>\n",
       "    </tr>\n",
       "    <tr>\n",
       "      <th>B</th>\n",
       "      <td>4136.0</td>\n",
       "      <td>323.0</td>\n",
       "    </tr>\n",
       "    <tr>\n",
       "      <th>C</th>\n",
       "      <td>10091.0</td>\n",
       "      <td>1041.0</td>\n",
       "    </tr>\n",
       "    <tr>\n",
       "      <th>D</th>\n",
       "      <td>171.0</td>\n",
       "      <td>14.0</td>\n",
       "    </tr>\n",
       "    <tr>\n",
       "      <th>E</th>\n",
       "      <td>7.0</td>\n",
       "      <td>NaN</td>\n",
       "    </tr>\n",
       "  </tbody>\n",
       "</table>\n",
       "</div>"
      ],
      "text/plain": [
       "debt                         0       1\n",
       "total_income_category                 \n",
       "A                         23.0     2.0\n",
       "B                       4136.0   323.0\n",
       "C                      10091.0  1041.0\n",
       "D                        171.0    14.0\n",
       "E                          7.0     NaN"
      ]
     },
     "execution_count": 43,
     "metadata": {},
     "output_type": "execute_result"
    }
   ],
   "source": [
    "income_debt = df.groupby('debt')['total_income_category'].value_counts().reset_index(name='count')\n",
    "income_debt_pivot = pd.pivot_table(data = income_debt, columns= 'debt', index = 'total_income_category', values = 'count')\n",
    "income_debt_pivot"
   ]
  },
  {
   "cell_type": "markdown",
   "id": "74e4f5ee",
   "metadata": {},
   "source": [
    "Смотрим откуда выполз NaN"
   ]
  },
  {
   "cell_type": "code",
   "execution_count": 44,
   "id": "fe8af015",
   "metadata": {},
   "outputs": [
    {
     "data": {
      "text/html": [
       "<div>\n",
       "<style scoped>\n",
       "    .dataframe tbody tr th:only-of-type {\n",
       "        vertical-align: middle;\n",
       "    }\n",
       "\n",
       "    .dataframe tbody tr th {\n",
       "        vertical-align: top;\n",
       "    }\n",
       "\n",
       "    .dataframe thead th {\n",
       "        text-align: right;\n",
       "    }\n",
       "</style>\n",
       "<table border=\"1\" class=\"dataframe\">\n",
       "  <thead>\n",
       "    <tr style=\"text-align: right;\">\n",
       "      <th></th>\n",
       "      <th>children</th>\n",
       "      <th>days_employed</th>\n",
       "      <th>dob_years</th>\n",
       "      <th>education_id</th>\n",
       "      <th>family_status_id</th>\n",
       "      <th>gender</th>\n",
       "      <th>income_type</th>\n",
       "      <th>debt</th>\n",
       "      <th>total_income_category</th>\n",
       "      <th>purpose_category</th>\n",
       "    </tr>\n",
       "  </thead>\n",
       "  <tbody>\n",
       "    <tr>\n",
       "      <th>6075</th>\n",
       "      <td>0</td>\n",
       "      <td>615.774147</td>\n",
       "      <td>46</td>\n",
       "      <td>1</td>\n",
       "      <td>0</td>\n",
       "      <td>F</td>\n",
       "      <td>сотрудник</td>\n",
       "      <td>0</td>\n",
       "      <td>E</td>\n",
       "      <td>операции с недвижимостью</td>\n",
       "    </tr>\n",
       "    <tr>\n",
       "      <th>7420</th>\n",
       "      <td>0</td>\n",
       "      <td>4959.893007</td>\n",
       "      <td>43</td>\n",
       "      <td>1</td>\n",
       "      <td>0</td>\n",
       "      <td>F</td>\n",
       "      <td>сотрудник</td>\n",
       "      <td>0</td>\n",
       "      <td>E</td>\n",
       "      <td>получение образования</td>\n",
       "    </tr>\n",
       "    <tr>\n",
       "      <th>10972</th>\n",
       "      <td>2</td>\n",
       "      <td>1440.353367</td>\n",
       "      <td>28</td>\n",
       "      <td>1</td>\n",
       "      <td>1</td>\n",
       "      <td>F</td>\n",
       "      <td>сотрудник</td>\n",
       "      <td>0</td>\n",
       "      <td>E</td>\n",
       "      <td>проведение свадьбы</td>\n",
       "    </tr>\n",
       "    <tr>\n",
       "      <th>11316</th>\n",
       "      <td>1</td>\n",
       "      <td>2945.051315</td>\n",
       "      <td>45</td>\n",
       "      <td>1</td>\n",
       "      <td>0</td>\n",
       "      <td>F</td>\n",
       "      <td>сотрудник</td>\n",
       "      <td>0</td>\n",
       "      <td>E</td>\n",
       "      <td>операции с недвижимостью</td>\n",
       "    </tr>\n",
       "    <tr>\n",
       "      <th>11898</th>\n",
       "      <td>1</td>\n",
       "      <td>3642.820023</td>\n",
       "      <td>52</td>\n",
       "      <td>1</td>\n",
       "      <td>0</td>\n",
       "      <td>M</td>\n",
       "      <td>сотрудник</td>\n",
       "      <td>0</td>\n",
       "      <td>E</td>\n",
       "      <td>операции с автомобилем</td>\n",
       "    </tr>\n",
       "    <tr>\n",
       "      <th>12199</th>\n",
       "      <td>0</td>\n",
       "      <td>241.247456</td>\n",
       "      <td>49</td>\n",
       "      <td>1</td>\n",
       "      <td>1</td>\n",
       "      <td>F</td>\n",
       "      <td>компаньон</td>\n",
       "      <td>0</td>\n",
       "      <td>E</td>\n",
       "      <td>проведение свадьбы</td>\n",
       "    </tr>\n",
       "    <tr>\n",
       "      <th>13718</th>\n",
       "      <td>1</td>\n",
       "      <td>1953.777603</td>\n",
       "      <td>50</td>\n",
       "      <td>1</td>\n",
       "      <td>0</td>\n",
       "      <td>F</td>\n",
       "      <td>госслужащий</td>\n",
       "      <td>0</td>\n",
       "      <td>E</td>\n",
       "      <td>операции с автомобилем</td>\n",
       "    </tr>\n",
       "  </tbody>\n",
       "</table>\n",
       "</div>"
      ],
      "text/plain": [
       "       children  days_employed  dob_years  education_id  family_status_id  \\\n",
       "6075          0     615.774147         46             1                 0   \n",
       "7420          0    4959.893007         43             1                 0   \n",
       "10972         2    1440.353367         28             1                 1   \n",
       "11316         1    2945.051315         45             1                 0   \n",
       "11898         1    3642.820023         52             1                 0   \n",
       "12199         0     241.247456         49             1                 1   \n",
       "13718         1    1953.777603         50             1                 0   \n",
       "\n",
       "      gender  income_type  debt total_income_category  \\\n",
       "6075       F    сотрудник     0                     E   \n",
       "7420       F    сотрудник     0                     E   \n",
       "10972      F    сотрудник     0                     E   \n",
       "11316      F    сотрудник     0                     E   \n",
       "11898      M    сотрудник     0                     E   \n",
       "12199      F    компаньон     0                     E   \n",
       "13718      F  госслужащий     0                     E   \n",
       "\n",
       "               purpose_category  \n",
       "6075   операции с недвижимостью  \n",
       "7420      получение образования  \n",
       "10972        проведение свадьбы  \n",
       "11316  операции с недвижимостью  \n",
       "11898    операции с автомобилем  \n",
       "12199        проведение свадьбы  \n",
       "13718    операции с автомобилем  "
      ]
     },
     "execution_count": 44,
     "metadata": {},
     "output_type": "execute_result"
    }
   ],
   "source": [
    "df.query('total_income_category == \"E\"')\n",
    "# оказывается с категорией E debt = 0 везде"
   ]
  },
  {
   "cell_type": "code",
   "execution_count": 45,
   "id": "2bba4b9b",
   "metadata": {},
   "outputs": [
    {
     "data": {
      "text/html": [
       "<div>\n",
       "<style scoped>\n",
       "    .dataframe tbody tr th:only-of-type {\n",
       "        vertical-align: middle;\n",
       "    }\n",
       "\n",
       "    .dataframe tbody tr th {\n",
       "        vertical-align: top;\n",
       "    }\n",
       "\n",
       "    .dataframe thead th {\n",
       "        text-align: right;\n",
       "    }\n",
       "</style>\n",
       "<table border=\"1\" class=\"dataframe\">\n",
       "  <thead>\n",
       "    <tr style=\"text-align: right;\">\n",
       "      <th>debt</th>\n",
       "      <th>total_income_category</th>\n",
       "      <th>0</th>\n",
       "      <th>1</th>\n",
       "      <th>sum</th>\n",
       "    </tr>\n",
       "  </thead>\n",
       "  <tbody>\n",
       "    <tr>\n",
       "      <th>0</th>\n",
       "      <td>A</td>\n",
       "      <td>23.0</td>\n",
       "      <td>2.0</td>\n",
       "      <td>25.0</td>\n",
       "    </tr>\n",
       "    <tr>\n",
       "      <th>1</th>\n",
       "      <td>B</td>\n",
       "      <td>4136.0</td>\n",
       "      <td>323.0</td>\n",
       "      <td>4459.0</td>\n",
       "    </tr>\n",
       "    <tr>\n",
       "      <th>2</th>\n",
       "      <td>C</td>\n",
       "      <td>10091.0</td>\n",
       "      <td>1041.0</td>\n",
       "      <td>11132.0</td>\n",
       "    </tr>\n",
       "    <tr>\n",
       "      <th>3</th>\n",
       "      <td>D</td>\n",
       "      <td>171.0</td>\n",
       "      <td>14.0</td>\n",
       "      <td>185.0</td>\n",
       "    </tr>\n",
       "    <tr>\n",
       "      <th>4</th>\n",
       "      <td>E</td>\n",
       "      <td>7.0</td>\n",
       "      <td>0.0</td>\n",
       "      <td>7.0</td>\n",
       "    </tr>\n",
       "  </tbody>\n",
       "</table>\n",
       "</div>"
      ],
      "text/plain": [
       "debt total_income_category        0       1      sum\n",
       "0                        A     23.0     2.0     25.0\n",
       "1                        B   4136.0   323.0   4459.0\n",
       "2                        C  10091.0  1041.0  11132.0\n",
       "3                        D    171.0    14.0    185.0\n",
       "4                        E      7.0     0.0      7.0"
      ]
     },
     "execution_count": 45,
     "metadata": {},
     "output_type": "execute_result"
    }
   ],
   "source": [
    "# заменим его на 0\n",
    "income_debt_pivot[1][4] = 0\n",
    "income_debt_pivot = income_debt_pivot.reset_index()\n",
    "income_debt_pivot['sum'] = income_debt_pivot[0] + income_debt_pivot[1]\n",
    "income_debt_pivot"
   ]
  },
  {
   "cell_type": "code",
   "execution_count": 46,
   "id": "6eedf15c",
   "metadata": {},
   "outputs": [
    {
     "name": "stdout",
     "output_type": "stream",
     "text": [
      "\n"
     ]
    },
    {
     "data": {
      "image/png": "[encoded data removed]",
      "text/plain": [
       "<Figure size 432x288 with 1 Axes>"
      ]
     },
     "metadata": {
      "needs_background": "light"
     },
     "output_type": "display_data"
    }
   ],
   "source": [
    "# график для тех кто не имеет задолженностей\n",
    "sns.barplot( x = income_debt_pivot['total_income_category'], y = income_debt_pivot[1] / income_debt_pivot['sum'])\n",
    "plt.title('Доля должников для каждой категории')\n",
    "print()"
   ]
  },
  {
   "cell_type": "markdown",
   "id": "5332b18d",
   "metadata": {},
   "source": [
    "Помним что мы создавали категории:\n",
    "\n",
    "0–30000 — 'E';\n",
    "\n",
    "30001–50000 — 'D';\n",
    "\n",
    "50001–200000 — 'C';\n",
    "\n",
    "200001–1000000 — 'B';\n",
    "\n",
    "1000001 и выше — 'A'."
   ]
  },
  {
   "cell_type": "markdown",
   "id": "a6c0107a",
   "metadata": {},
   "source": [
    "Среди категории С - наибольшая доля должников"
   ]
  },
  {
   "cell_type": "markdown",
   "id": "e8394ad4",
   "metadata": {},
   "source": [
    "##### Вопрос 4:  Как разные цели кредита влияют на его возврат в срок?"
   ]
  },
  {
   "cell_type": "code",
   "execution_count": 47,
   "id": "9de35373",
   "metadata": {},
   "outputs": [],
   "source": [
    "purpose_debt = df.groupby('debt')['purpose_category'].value_counts().reset_index( name='count')\n",
    "purpose_debt_pivot = pd.pivot_table(data = purpose_debt, columns= 'debt', index = 'purpose_category', values = 'count')\n",
    "purpose_debt_pivot['rate'] = purpose_debt_pivot[1] / (purpose_debt_pivot[1] + purpose_debt_pivot[0]) \n",
    "purpose_debt_pivot = purpose_debt_pivot.reset_index()"
   ]
  },
  {
   "cell_type": "code",
   "execution_count": 48,
   "id": "cc75af9f",
   "metadata": {},
   "outputs": [
    {
     "data": {
      "text/html": [
       "<div>\n",
       "<style scoped>\n",
       "    .dataframe tbody tr th:only-of-type {\n",
       "        vertical-align: middle;\n",
       "    }\n",
       "\n",
       "    .dataframe tbody tr th {\n",
       "        vertical-align: top;\n",
       "    }\n",
       "\n",
       "    .dataframe thead th {\n",
       "        text-align: right;\n",
       "    }\n",
       "</style>\n",
       "<table border=\"1\" class=\"dataframe\">\n",
       "  <thead>\n",
       "    <tr style=\"text-align: right;\">\n",
       "      <th>debt</th>\n",
       "      <th>purpose_category</th>\n",
       "      <th>0</th>\n",
       "      <th>1</th>\n",
       "      <th>rate</th>\n",
       "    </tr>\n",
       "  </thead>\n",
       "  <tbody>\n",
       "    <tr>\n",
       "      <th>0</th>\n",
       "      <td>операции с автомобилем</td>\n",
       "      <td>2839</td>\n",
       "      <td>321</td>\n",
       "      <td>0.101582</td>\n",
       "    </tr>\n",
       "    <tr>\n",
       "      <th>1</th>\n",
       "      <td>операции с недвижимостью</td>\n",
       "      <td>7375</td>\n",
       "      <td>635</td>\n",
       "      <td>0.079276</td>\n",
       "    </tr>\n",
       "    <tr>\n",
       "      <th>2</th>\n",
       "      <td>получение образования</td>\n",
       "      <td>2635</td>\n",
       "      <td>288</td>\n",
       "      <td>0.098529</td>\n",
       "    </tr>\n",
       "    <tr>\n",
       "      <th>3</th>\n",
       "      <td>проведение свадьбы</td>\n",
       "      <td>1579</td>\n",
       "      <td>136</td>\n",
       "      <td>0.079300</td>\n",
       "    </tr>\n",
       "  </tbody>\n",
       "</table>\n",
       "</div>"
      ],
      "text/plain": [
       "debt          purpose_category     0    1      rate\n",
       "0       операции с автомобилем  2839  321  0.101582\n",
       "1     операции с недвижимостью  7375  635  0.079276\n",
       "2        получение образования  2635  288  0.098529\n",
       "3           проведение свадьбы  1579  136  0.079300"
      ]
     },
     "execution_count": 48,
     "metadata": {},
     "output_type": "execute_result"
    }
   ],
   "source": [
    "purpose_debt_pivot"
   ]
  },
  {
   "cell_type": "code",
   "execution_count": 49,
   "id": "dbef649a",
   "metadata": {},
   "outputs": [
    {
     "data": {
      "text/plain": [
       "<AxesSubplot:xlabel='purpose_category', ylabel='rate'>"
      ]
     },
     "execution_count": 49,
     "metadata": {},
     "output_type": "execute_result"
    },
    {
     "data": {
      "image/png": "[encoded data removed]",
      "text/plain": [
       "<Figure size 864x432 with 1 Axes>"
      ]
     },
     "metadata": {
      "needs_background": "light"
     },
     "output_type": "display_data"
    }
   ],
   "source": [
    "plt.figure(figsize = (12, 6))\n",
    "sns.barplot(x = purpose_debt_pivot['purpose_category'], y = purpose_debt_pivot['rate'])"
   ]
  },
  {
   "cell_type": "markdown",
   "id": "151a4e3f",
   "metadata": {},
   "source": [
    "**Видим, что люди хуже отдают кредеиты, связанные с автомабилем и образованием**"
   ]
  },
  {
   "cell_type": "markdown",
   "id": "c9cbcdee",
   "metadata": {},
   "source": [
    "## Общий вывод:"
   ]
  },
  {
   "cell_type": "markdown",
   "id": "70ca56f0",
   "metadata": {},
   "source": [
    "1. Обнаружили что у нас есть пропуски. Перед их заполнением проверили данные на выбросы и аномальные значения, исправили их, и затем заполнили пропуски\n",
    "2. Обработали дубликаты\n",
    "3. Закодировали переменные, сохраним словари в отдельные переменные\n",
    "4. Посмотрели на распределения данных, чтобы выявить зависимости и получили :"
   ]
  },
  {
   "cell_type": "markdown",
   "id": "ad9529df",
   "metadata": {},
   "source": [
    "\n",
    "\n",
    "* можем сказать, что семьи с детьми хуже отдают кредиты\n",
    "* Видим, что не женатые или в гражданском браке чаще склонны не отдавать кредиты\n",
    "* Среди категории С (средний уровень дохода) - наибольшая доля должников\n",
    "* Видим, что люди хуже отдают кредеиты, связанные с автомабилем и образованием"
   ]
  },
  {
   "cell_type": "code",
   "execution_count": null,
   "id": "a0cf0f6f",
   "metadata": {},
   "outputs": [],
   "source": []
  }
 ],
 "metadata": {
  "ExecuteTimeLog": [
   {
    "duration": 948,
    "start_time": "2022-03-07T13:28:43.815Z"
   },
   {
    "duration": 69,
    "start_time": "2022-03-07T13:28:50.154Z"
   },
   {
    "duration": 59,
    "start_time": "2022-03-07T13:31:38.877Z"
   },
   {
    "duration": 58,
    "start_time": "2022-03-07T13:31:42.210Z"
   },
   {
    "duration": 11,
    "start_time": "2022-03-07T13:31:48.431Z"
   },
   {
    "duration": 10,
    "start_time": "2022-03-07T13:32:39.462Z"
   },
   {
    "duration": -24,
    "start_time": "2022-03-07T13:35:09.310Z"
   },
   {
    "duration": 4,
    "start_time": "2022-03-07T13:35:17.287Z"
   },
   {
    "duration": 3,
    "start_time": "2022-03-07T13:36:26.111Z"
   },
   {
    "duration": 3,
    "start_time": "2022-03-07T13:36:51.082Z"
   },
   {
    "duration": 4,
    "start_time": "2022-03-07T13:36:58.338Z"
   },
   {
    "duration": 4,
    "start_time": "2022-03-07T13:37:03.686Z"
   },
   {
    "duration": 20,
    "start_time": "2022-03-07T13:41:12.705Z"
   },
   {
    "duration": 11,
    "start_time": "2022-03-07T13:41:20.812Z"
   },
   {
    "duration": 2146,
    "start_time": "2022-03-07T13:41:32.804Z"
   },
   {
    "duration": 320,
    "start_time": "2022-03-07T13:41:44.826Z"
   },
   {
    "duration": 15,
    "start_time": "2022-03-07T13:41:53.805Z"
   },
   {
    "duration": 6,
    "start_time": "2022-03-07T13:42:01.417Z"
   },
   {
    "duration": 6,
    "start_time": "2022-03-07T13:43:06.790Z"
   },
   {
    "duration": 6,
    "start_time": "2022-03-07T13:43:11.217Z"
   },
   {
    "duration": 8,
    "start_time": "2022-03-07T13:46:16.418Z"
   },
   {
    "duration": 286,
    "start_time": "2022-03-07T13:46:47.301Z"
   },
   {
    "duration": 9,
    "start_time": "2022-03-07T13:46:51.642Z"
   },
   {
    "duration": 4,
    "start_time": "2022-03-07T13:47:28.322Z"
   },
   {
    "duration": 6,
    "start_time": "2022-03-07T13:47:36.485Z"
   },
   {
    "duration": 10,
    "start_time": "2022-03-07T13:47:41.256Z"
   },
   {
    "duration": 5,
    "start_time": "2022-03-07T13:48:07.991Z"
   },
   {
    "duration": 325,
    "start_time": "2022-03-07T13:52:06.128Z"
   },
   {
    "duration": 304,
    "start_time": "2022-03-07T13:53:28.808Z"
   },
   {
    "duration": 307,
    "start_time": "2022-03-07T13:53:54.967Z"
   },
   {
    "duration": 6,
    "start_time": "2022-03-07T13:54:03.886Z"
   },
   {
    "duration": 6,
    "start_time": "2022-03-07T13:55:18.957Z"
   },
   {
    "duration": 311,
    "start_time": "2022-03-07T13:56:13.331Z"
   },
   {
    "duration": 5,
    "start_time": "2022-03-07T13:56:15.979Z"
   },
   {
    "duration": 6,
    "start_time": "2022-03-07T13:56:35.040Z"
   },
   {
    "duration": 5,
    "start_time": "2022-03-07T13:56:38.852Z"
   },
   {
    "duration": 6,
    "start_time": "2022-03-07T13:58:07.190Z"
   },
   {
    "duration": 302,
    "start_time": "2022-03-07T13:58:10.926Z"
   },
   {
    "duration": 6,
    "start_time": "2022-03-07T13:58:13.775Z"
   },
   {
    "duration": 305,
    "start_time": "2022-03-07T13:59:11.521Z"
   },
   {
    "duration": 6,
    "start_time": "2022-03-07T13:59:16.113Z"
   },
   {
    "duration": 7,
    "start_time": "2022-03-07T13:59:57.136Z"
   },
   {
    "duration": 303,
    "start_time": "2022-03-07T14:00:03.519Z"
   },
   {
    "duration": 308,
    "start_time": "2022-03-07T14:00:11.106Z"
   },
   {
    "duration": 12,
    "start_time": "2022-03-07T14:00:29.707Z"
   },
   {
    "duration": 9,
    "start_time": "2022-03-07T14:00:44.575Z"
   },
   {
    "duration": 6,
    "start_time": "2022-03-07T14:01:02.177Z"
   },
   {
    "duration": 6,
    "start_time": "2022-03-07T14:01:10.461Z"
   },
   {
    "duration": 4,
    "start_time": "2022-03-07T14:01:15.900Z"
   },
   {
    "duration": 6,
    "start_time": "2022-03-07T14:02:03.871Z"
   },
   {
    "duration": 5,
    "start_time": "2022-03-07T14:02:12.708Z"
   },
   {
    "duration": 6,
    "start_time": "2022-03-07T14:02:13.843Z"
   },
   {
    "duration": 2,
    "start_time": "2022-03-07T14:02:33.377Z"
   },
   {
    "duration": 5,
    "start_time": "2022-03-07T14:04:09.552Z"
   },
   {
    "duration": 2,
    "start_time": "2022-03-07T14:05:15.752Z"
   },
   {
    "duration": 34,
    "start_time": "2022-03-07T14:09:28.944Z"
   },
   {
    "duration": 20,
    "start_time": "2022-03-07T14:10:07.314Z"
   },
   {
    "duration": 5,
    "start_time": "2022-03-07T14:10:22.739Z"
   },
   {
    "duration": 109,
    "start_time": "2022-03-07T14:10:28.902Z"
   },
   {
    "duration": 5,
    "start_time": "2022-03-07T14:10:31.522Z"
   },
   {
    "duration": 285,
    "start_time": "2022-03-07T14:11:43.871Z"
   },
   {
    "duration": 353,
    "start_time": "2022-03-07T14:12:04.669Z"
   },
   {
    "duration": 310,
    "start_time": "2022-03-07T14:12:18.758Z"
   },
   {
    "duration": 297,
    "start_time": "2022-03-07T14:12:24.175Z"
   },
   {
    "duration": 304,
    "start_time": "2022-03-07T14:12:30.645Z"
   },
   {
    "duration": 309,
    "start_time": "2022-03-07T14:13:26.994Z"
   },
   {
    "duration": 343,
    "start_time": "2022-03-07T14:13:32.780Z"
   },
   {
    "duration": 111,
    "start_time": "2022-03-07T14:14:03.395Z"
   },
   {
    "duration": 16,
    "start_time": "2022-03-07T14:14:05.801Z"
   },
   {
    "duration": 15,
    "start_time": "2022-03-07T14:14:15.263Z"
   },
   {
    "duration": 32,
    "start_time": "2022-03-07T14:14:47.481Z"
   },
   {
    "duration": 24,
    "start_time": "2022-03-07T14:15:06.600Z"
   },
   {
    "duration": 17,
    "start_time": "2022-03-07T14:15:07.333Z"
   },
   {
    "duration": 13,
    "start_time": "2022-03-07T14:15:34.767Z"
   },
   {
    "duration": 12,
    "start_time": "2022-03-07T14:15:48.234Z"
   },
   {
    "duration": 5,
    "start_time": "2022-03-07T14:15:54.346Z"
   },
   {
    "duration": 59,
    "start_time": "2022-03-07T14:16:03.999Z"
   },
   {
    "duration": 10,
    "start_time": "2022-03-07T14:16:04.060Z"
   },
   {
    "duration": 4,
    "start_time": "2022-03-07T14:16:04.072Z"
   },
   {
    "duration": 13,
    "start_time": "2022-03-07T14:16:04.078Z"
   },
   {
    "duration": 7,
    "start_time": "2022-03-07T14:16:04.105Z"
   },
   {
    "duration": 8,
    "start_time": "2022-03-07T14:16:04.113Z"
   },
   {
    "duration": 2,
    "start_time": "2022-03-07T14:16:06.198Z"
   },
   {
    "duration": 15,
    "start_time": "2022-03-07T14:16:07.836Z"
   },
   {
    "duration": 15,
    "start_time": "2022-03-07T14:16:09.445Z"
   },
   {
    "duration": 15,
    "start_time": "2022-03-07T14:17:14.998Z"
   },
   {
    "duration": 4,
    "start_time": "2022-03-07T14:17:17.651Z"
   },
   {
    "duration": 18,
    "start_time": "2022-03-07T14:17:29.248Z"
   },
   {
    "duration": 4,
    "start_time": "2022-03-07T14:17:48.625Z"
   },
   {
    "duration": 20,
    "start_time": "2022-03-07T14:17:52.461Z"
   },
   {
    "duration": 5,
    "start_time": "2022-03-07T14:18:02.284Z"
   },
   {
    "duration": 5,
    "start_time": "2022-03-07T14:18:09.724Z"
   },
   {
    "duration": 5,
    "start_time": "2022-03-07T14:18:18.518Z"
   },
   {
    "duration": 28,
    "start_time": "2022-03-07T14:19:59.559Z"
   },
   {
    "duration": 5,
    "start_time": "2022-03-07T14:20:18.045Z"
   },
   {
    "duration": 10,
    "start_time": "2022-03-07T14:21:03.169Z"
   },
   {
    "duration": 12,
    "start_time": "2022-03-07T14:22:11.280Z"
   },
   {
    "duration": 8,
    "start_time": "2022-03-07T14:22:20.517Z"
   },
   {
    "duration": 11,
    "start_time": "2022-03-07T14:22:27.881Z"
   },
   {
    "duration": 309,
    "start_time": "2022-03-07T14:22:57.772Z"
   },
   {
    "duration": 289,
    "start_time": "2022-03-07T14:23:06.050Z"
   },
   {
    "duration": 8,
    "start_time": "2022-03-07T14:23:09.480Z"
   },
   {
    "duration": 11,
    "start_time": "2022-03-07T14:23:14.649Z"
   },
   {
    "duration": 19,
    "start_time": "2022-03-07T14:25:35.193Z"
   },
   {
    "duration": 2114,
    "start_time": "2022-03-07T14:26:03.762Z"
   },
   {
    "duration": 14,
    "start_time": "2022-03-07T14:26:10.478Z"
   },
   {
    "duration": 18,
    "start_time": "2022-03-07T14:26:27.119Z"
   },
   {
    "duration": 16,
    "start_time": "2022-03-07T14:26:39.889Z"
   },
   {
    "duration": 17,
    "start_time": "2022-03-07T14:26:54.769Z"
   },
   {
    "duration": 14,
    "start_time": "2022-03-07T14:26:59.800Z"
   },
   {
    "duration": 21,
    "start_time": "2022-03-07T14:27:21.127Z"
   },
   {
    "duration": 347,
    "start_time": "2022-03-07T14:27:39.007Z"
   },
   {
    "duration": 15,
    "start_time": "2022-03-07T14:27:42.202Z"
   },
   {
    "duration": 24,
    "start_time": "2022-03-07T14:27:53.257Z"
   },
   {
    "duration": 38,
    "start_time": "2022-03-07T14:28:03.235Z"
   },
   {
    "duration": 11,
    "start_time": "2022-03-07T14:28:31.700Z"
   },
   {
    "duration": 13,
    "start_time": "2022-03-07T14:28:50.754Z"
   },
   {
    "duration": 13,
    "start_time": "2022-03-07T14:28:57.420Z"
   },
   {
    "duration": 15,
    "start_time": "2022-03-07T14:29:03.311Z"
   },
   {
    "duration": 11,
    "start_time": "2022-03-07T14:29:12.153Z"
   },
   {
    "duration": 7,
    "start_time": "2022-03-07T14:29:27.962Z"
   },
   {
    "duration": 98,
    "start_time": "2022-03-07T14:38:57.195Z"
   },
   {
    "duration": 591,
    "start_time": "2022-03-08T06:48:33.457Z"
   },
   {
    "duration": 12,
    "start_time": "2022-03-08T06:48:34.068Z"
   },
   {
    "duration": 4,
    "start_time": "2022-03-08T06:48:35.204Z"
   },
   {
    "duration": 9,
    "start_time": "2022-03-08T06:48:35.750Z"
   },
   {
    "duration": 8,
    "start_time": "2022-03-08T06:48:35.911Z"
   },
   {
    "duration": 8,
    "start_time": "2022-03-08T06:48:36.406Z"
   },
   {
    "duration": 2,
    "start_time": "2022-03-08T06:48:36.556Z"
   },
   {
    "duration": 17,
    "start_time": "2022-03-08T06:48:37.046Z"
   },
   {
    "duration": 23,
    "start_time": "2022-03-08T06:48:37.229Z"
   },
   {
    "duration": 10,
    "start_time": "2022-03-08T06:48:37.397Z"
   },
   {
    "duration": 13,
    "start_time": "2022-03-08T06:48:37.746Z"
   },
   {
    "duration": 10,
    "start_time": "2022-03-08T06:48:37.928Z"
   },
   {
    "duration": 20,
    "start_time": "2022-03-08T06:50:57.454Z"
   },
   {
    "duration": 4,
    "start_time": "2022-03-08T06:51:35.847Z"
   },
   {
    "duration": 8,
    "start_time": "2022-03-08T06:51:43.648Z"
   },
   {
    "duration": 20,
    "start_time": "2022-03-08T06:51:51.942Z"
   },
   {
    "duration": 8,
    "start_time": "2022-03-08T06:52:24.400Z"
   },
   {
    "duration": 10,
    "start_time": "2022-03-08T06:52:33.035Z"
   },
   {
    "duration": 8,
    "start_time": "2022-03-08T06:52:39.397Z"
   },
   {
    "duration": 21,
    "start_time": "2022-03-08T06:53:33.362Z"
   },
   {
    "duration": 227,
    "start_time": "2022-03-08T06:53:46.795Z"
   },
   {
    "duration": 186,
    "start_time": "2022-03-08T06:53:53.407Z"
   },
   {
    "duration": 19,
    "start_time": "2022-03-08T06:53:56.505Z"
   },
   {
    "duration": 11,
    "start_time": "2022-03-08T06:54:13.537Z"
   },
   {
    "duration": 168,
    "start_time": "2022-03-08T06:59:12.131Z"
   },
   {
    "duration": 8,
    "start_time": "2022-03-08T06:59:20.252Z"
   },
   {
    "duration": 21,
    "start_time": "2022-03-08T06:59:23.086Z"
   },
   {
    "duration": 64,
    "start_time": "2022-03-08T07:01:00.127Z"
   },
   {
    "duration": 56,
    "start_time": "2022-03-08T07:01:18.790Z"
   },
   {
    "duration": 58,
    "start_time": "2022-03-08T07:01:47.104Z"
   },
   {
    "duration": 93,
    "start_time": "2022-03-08T07:04:27.123Z"
   },
   {
    "duration": 61,
    "start_time": "2022-03-08T07:04:36.166Z"
   },
   {
    "duration": 14,
    "start_time": "2022-03-08T07:04:45.201Z"
   },
   {
    "duration": 57,
    "start_time": "2022-03-08T07:04:58.296Z"
   },
   {
    "duration": 57,
    "start_time": "2022-03-08T07:05:05.537Z"
   },
   {
    "duration": 87,
    "start_time": "2022-03-08T07:05:15.317Z"
   },
   {
    "duration": 4,
    "start_time": "2022-03-08T07:10:46.600Z"
   },
   {
    "duration": 19,
    "start_time": "2022-03-08T07:11:01.176Z"
   },
   {
    "duration": 4278,
    "start_time": "2022-03-08T07:11:14.044Z"
   },
   {
    "duration": 4212,
    "start_time": "2022-03-08T07:11:24.959Z"
   },
   {
    "duration": 4265,
    "start_time": "2022-03-08T07:12:12.665Z"
   },
   {
    "duration": 751,
    "start_time": "2022-03-08T07:12:30.516Z"
   },
   {
    "duration": 175,
    "start_time": "2022-03-08T07:12:38.935Z"
   },
   {
    "duration": 13,
    "start_time": "2022-03-08T07:12:50.340Z"
   },
   {
    "duration": 11,
    "start_time": "2022-03-08T07:13:09.109Z"
   },
   {
    "duration": 19,
    "start_time": "2022-03-08T07:13:11.122Z"
   },
   {
    "duration": 56,
    "start_time": "2022-03-08T07:13:26.671Z"
   },
   {
    "duration": 9,
    "start_time": "2022-03-08T07:13:26.729Z"
   },
   {
    "duration": 3,
    "start_time": "2022-03-08T07:13:26.740Z"
   },
   {
    "duration": 8,
    "start_time": "2022-03-08T07:13:26.745Z"
   },
   {
    "duration": 5,
    "start_time": "2022-03-08T07:13:26.754Z"
   },
   {
    "duration": 8,
    "start_time": "2022-03-08T07:13:26.761Z"
   },
   {
    "duration": 2,
    "start_time": "2022-03-08T07:13:26.770Z"
   },
   {
    "duration": 17,
    "start_time": "2022-03-08T07:13:26.774Z"
   },
   {
    "duration": 49,
    "start_time": "2022-03-08T07:13:26.794Z"
   },
   {
    "duration": 9,
    "start_time": "2022-03-08T07:13:26.845Z"
   },
   {
    "duration": 11,
    "start_time": "2022-03-08T07:13:26.855Z"
   },
   {
    "duration": 10,
    "start_time": "2022-03-08T07:13:26.868Z"
   },
   {
    "duration": 7,
    "start_time": "2022-03-08T07:13:26.879Z"
   },
   {
    "duration": 7,
    "start_time": "2022-03-08T07:13:26.888Z"
   },
   {
    "duration": 40,
    "start_time": "2022-03-08T07:13:26.897Z"
   },
   {
    "duration": 3,
    "start_time": "2022-03-08T07:13:26.939Z"
   },
   {
    "duration": 18,
    "start_time": "2022-03-08T07:13:26.943Z"
   },
   {
    "duration": 22,
    "start_time": "2022-03-08T07:13:26.963Z"
   },
   {
    "duration": 20,
    "start_time": "2022-03-08T07:13:30.204Z"
   },
   {
    "duration": 227,
    "start_time": "2022-03-08T07:14:39.452Z"
   },
   {
    "duration": 19,
    "start_time": "2022-03-08T07:14:42.885Z"
   },
   {
    "duration": 6,
    "start_time": "2022-03-08T07:15:10.549Z"
   },
   {
    "duration": 3,
    "start_time": "2022-03-08T07:20:19.773Z"
   },
   {
    "duration": 10,
    "start_time": "2022-03-08T07:20:39.785Z"
   },
   {
    "duration": 10,
    "start_time": "2022-03-08T07:20:47.383Z"
   },
   {
    "duration": 8,
    "start_time": "2022-03-08T07:21:13.506Z"
   },
   {
    "duration": 60,
    "start_time": "2022-03-08T07:24:58.567Z"
   },
   {
    "duration": 11,
    "start_time": "2022-03-08T07:25:02.191Z"
   },
   {
    "duration": 4,
    "start_time": "2022-03-08T07:25:06.195Z"
   },
   {
    "duration": 5,
    "start_time": "2022-03-08T07:27:09.727Z"
   },
   {
    "duration": 6,
    "start_time": "2022-03-08T07:27:16.173Z"
   },
   {
    "duration": 6,
    "start_time": "2022-03-08T07:27:30.679Z"
   },
   {
    "duration": 61,
    "start_time": "2022-03-08T07:27:39.220Z"
   },
   {
    "duration": 11,
    "start_time": "2022-03-08T07:27:39.588Z"
   },
   {
    "duration": 4,
    "start_time": "2022-03-08T07:27:39.894Z"
   },
   {
    "duration": 12,
    "start_time": "2022-03-08T07:27:58.898Z"
   },
   {
    "duration": 5,
    "start_time": "2022-03-08T07:28:07.679Z"
   },
   {
    "duration": 11,
    "start_time": "2022-03-08T07:28:11.766Z"
   },
   {
    "duration": 4,
    "start_time": "2022-03-08T07:29:11.273Z"
   },
   {
    "duration": 11,
    "start_time": "2022-03-08T07:29:16.375Z"
   },
   {
    "duration": 8,
    "start_time": "2022-03-08T07:29:43.067Z"
   },
   {
    "duration": 8,
    "start_time": "2022-03-08T07:29:50.125Z"
   },
   {
    "duration": 13,
    "start_time": "2022-03-08T07:30:21.841Z"
   },
   {
    "duration": 59,
    "start_time": "2022-03-08T07:30:40.657Z"
   },
   {
    "duration": 11,
    "start_time": "2022-03-08T07:30:40.717Z"
   },
   {
    "duration": 4,
    "start_time": "2022-03-08T07:30:40.730Z"
   },
   {
    "duration": 4,
    "start_time": "2022-03-08T07:30:40.736Z"
   },
   {
    "duration": 10,
    "start_time": "2022-03-08T07:30:40.741Z"
   },
   {
    "duration": 6,
    "start_time": "2022-03-08T07:30:40.752Z"
   },
   {
    "duration": 21,
    "start_time": "2022-03-08T07:30:40.760Z"
   },
   {
    "duration": 7,
    "start_time": "2022-03-08T07:30:40.783Z"
   },
   {
    "duration": 15,
    "start_time": "2022-03-08T07:30:40.792Z"
   },
   {
    "duration": 43,
    "start_time": "2022-03-08T07:30:40.809Z"
   },
   {
    "duration": 9,
    "start_time": "2022-03-08T07:30:40.854Z"
   },
   {
    "duration": 11,
    "start_time": "2022-03-08T07:30:40.865Z"
   },
   {
    "duration": 7,
    "start_time": "2022-03-08T07:30:40.877Z"
   },
   {
    "duration": 8,
    "start_time": "2022-03-08T07:30:40.885Z"
   },
   {
    "duration": 43,
    "start_time": "2022-03-08T07:30:40.894Z"
   },
   {
    "duration": 11,
    "start_time": "2022-03-08T07:30:40.938Z"
   },
   {
    "duration": 6,
    "start_time": "2022-03-08T07:30:40.951Z"
   },
   {
    "duration": 17,
    "start_time": "2022-03-08T07:30:40.958Z"
   },
   {
    "duration": 9,
    "start_time": "2022-03-08T07:30:40.976Z"
   },
   {
    "duration": 3,
    "start_time": "2022-03-08T07:30:40.987Z"
   },
   {
    "duration": 13,
    "start_time": "2022-03-08T07:30:40.992Z"
   },
   {
    "duration": 18,
    "start_time": "2022-03-08T07:30:46.975Z"
   },
   {
    "duration": 167,
    "start_time": "2022-03-08T07:32:35.663Z"
   },
   {
    "duration": 19,
    "start_time": "2022-03-08T07:32:39.986Z"
   },
   {
    "duration": 5,
    "start_time": "2022-03-08T07:33:43.074Z"
   },
   {
    "duration": 79,
    "start_time": "2022-03-08T07:34:32.636Z"
   },
   {
    "duration": 20,
    "start_time": "2022-03-08T07:34:32.718Z"
   },
   {
    "duration": 4,
    "start_time": "2022-03-08T07:34:32.740Z"
   },
   {
    "duration": 5,
    "start_time": "2022-03-08T07:34:32.745Z"
   },
   {
    "duration": 8,
    "start_time": "2022-03-08T07:34:32.752Z"
   },
   {
    "duration": 6,
    "start_time": "2022-03-08T07:34:32.762Z"
   },
   {
    "duration": 13,
    "start_time": "2022-03-08T07:34:32.770Z"
   },
   {
    "duration": 7,
    "start_time": "2022-03-08T07:34:32.784Z"
   },
   {
    "duration": 17,
    "start_time": "2022-03-08T07:34:32.834Z"
   },
   {
    "duration": 23,
    "start_time": "2022-03-08T07:34:32.853Z"
   },
   {
    "duration": 8,
    "start_time": "2022-03-08T07:34:32.878Z"
   },
   {
    "duration": 10,
    "start_time": "2022-03-08T07:34:32.888Z"
   },
   {
    "duration": 33,
    "start_time": "2022-03-08T07:34:32.900Z"
   },
   {
    "duration": 8,
    "start_time": "2022-03-08T07:34:32.935Z"
   },
   {
    "duration": 8,
    "start_time": "2022-03-08T07:34:32.944Z"
   },
   {
    "duration": 13,
    "start_time": "2022-03-08T07:34:32.954Z"
   },
   {
    "duration": 5,
    "start_time": "2022-03-08T07:34:32.969Z"
   },
   {
    "duration": 12,
    "start_time": "2022-03-08T07:34:32.975Z"
   },
   {
    "duration": 45,
    "start_time": "2022-03-08T07:34:32.989Z"
   },
   {
    "duration": 3,
    "start_time": "2022-03-08T07:34:33.035Z"
   },
   {
    "duration": 14,
    "start_time": "2022-03-08T07:34:33.039Z"
   },
   {
    "duration": 9,
    "start_time": "2022-03-08T07:34:33.055Z"
   },
   {
    "duration": 16,
    "start_time": "2022-03-08T07:34:45.618Z"
   },
   {
    "duration": 500,
    "start_time": "2022-03-08T07:35:40.802Z"
   },
   {
    "duration": 208,
    "start_time": "2022-03-08T07:37:14.090Z"
   },
   {
    "duration": 3290,
    "start_time": "2022-03-08T07:37:18.955Z"
   },
   {
    "duration": 5,
    "start_time": "2022-03-08T07:38:03.229Z"
   },
   {
    "duration": 55,
    "start_time": "2022-03-08T07:38:26.652Z"
   },
   {
    "duration": 5,
    "start_time": "2022-03-08T07:38:33.749Z"
   },
   {
    "duration": 179,
    "start_time": "2022-03-08T07:39:06.321Z"
   },
   {
    "duration": 5,
    "start_time": "2022-03-08T07:39:12.388Z"
   },
   {
    "duration": 4,
    "start_time": "2022-03-08T07:40:01.673Z"
   },
   {
    "duration": 57,
    "start_time": "2022-03-08T07:42:56.121Z"
   },
   {
    "duration": 9,
    "start_time": "2022-03-08T07:43:11.808Z"
   },
   {
    "duration": 12,
    "start_time": "2022-03-08T07:43:19.181Z"
   },
   {
    "duration": 3297,
    "start_time": "2022-03-08T07:43:48.441Z"
   },
   {
    "duration": 57,
    "start_time": "2022-03-08T07:44:13.508Z"
   },
   {
    "duration": 3522,
    "start_time": "2022-03-08T07:44:17.682Z"
   },
   {
    "duration": 19,
    "start_time": "2022-03-08T07:44:50.497Z"
   },
   {
    "duration": 17,
    "start_time": "2022-03-08T07:46:27.211Z"
   },
   {
    "duration": 5,
    "start_time": "2022-03-08T07:46:57.053Z"
   },
   {
    "duration": 17,
    "start_time": "2022-03-08T07:47:58.382Z"
   },
   {
    "duration": 5,
    "start_time": "2022-03-08T07:48:24.162Z"
   },
   {
    "duration": 6,
    "start_time": "2022-03-08T07:50:11.004Z"
   },
   {
    "duration": 10,
    "start_time": "2022-03-08T07:51:06.059Z"
   },
   {
    "duration": 10,
    "start_time": "2022-03-08T07:51:14.328Z"
   },
   {
    "duration": 17,
    "start_time": "2022-03-08T07:52:39.098Z"
   },
   {
    "duration": 761,
    "start_time": "2022-03-08T07:53:23.310Z"
   },
   {
    "duration": 164,
    "start_time": "2022-03-08T07:54:38.102Z"
   },
   {
    "duration": 721,
    "start_time": "2022-03-08T07:54:43.113Z"
   },
   {
    "duration": 570,
    "start_time": "2022-03-08T07:54:52.054Z"
   },
   {
    "duration": 12,
    "start_time": "2022-03-08T07:56:40.112Z"
   },
   {
    "duration": 169,
    "start_time": "2022-03-08T08:00:55.959Z"
   },
   {
    "duration": 1200,
    "start_time": "2022-03-08T08:01:02.335Z"
   },
   {
    "duration": 731,
    "start_time": "2022-03-08T08:02:05.335Z"
   },
   {
    "duration": 190,
    "start_time": "2022-03-08T08:03:43.180Z"
   },
   {
    "duration": 177,
    "start_time": "2022-03-08T08:03:48.470Z"
   },
   {
    "duration": 196,
    "start_time": "2022-03-08T08:03:55.307Z"
   },
   {
    "duration": 56,
    "start_time": "2022-03-08T08:04:04.347Z"
   },
   {
    "duration": 422,
    "start_time": "2022-03-08T08:04:07.874Z"
   },
   {
    "duration": 397,
    "start_time": "2022-03-08T08:04:38.370Z"
   },
   {
    "duration": 568,
    "start_time": "2022-03-08T08:07:07.030Z"
   },
   {
    "duration": 16,
    "start_time": "2022-03-08T08:09:46.974Z"
   },
   {
    "duration": 4199,
    "start_time": "2022-03-08T08:10:43.528Z"
   },
   {
    "duration": 4222,
    "start_time": "2022-03-08T08:11:08.119Z"
   },
   {
    "duration": 4224,
    "start_time": "2022-03-08T08:11:15.159Z"
   },
   {
    "duration": 4177,
    "start_time": "2022-03-08T08:11:22.170Z"
   },
   {
    "duration": 16,
    "start_time": "2022-03-08T08:11:40.760Z"
   },
   {
    "duration": 4259,
    "start_time": "2022-03-08T08:11:47.891Z"
   },
   {
    "duration": 5,
    "start_time": "2022-03-08T08:12:05.699Z"
   },
   {
    "duration": 6,
    "start_time": "2022-03-08T08:12:27.777Z"
   },
   {
    "duration": 6,
    "start_time": "2022-03-08T08:12:39.419Z"
   },
   {
    "duration": 4,
    "start_time": "2022-03-08T08:12:39.597Z"
   },
   {
    "duration": 5,
    "start_time": "2022-03-08T08:12:43.410Z"
   },
   {
    "duration": 5,
    "start_time": "2022-03-08T08:13:25.075Z"
   },
   {
    "duration": 3,
    "start_time": "2022-03-08T08:13:25.231Z"
   },
   {
    "duration": 926,
    "start_time": "2022-03-09T07:38:26.626Z"
   },
   {
    "duration": 21,
    "start_time": "2022-03-09T07:38:27.556Z"
   },
   {
    "duration": 5,
    "start_time": "2022-03-09T07:38:27.581Z"
   },
   {
    "duration": 7,
    "start_time": "2022-03-09T07:38:27.590Z"
   },
   {
    "duration": 22,
    "start_time": "2022-03-09T07:38:27.600Z"
   },
   {
    "duration": 49,
    "start_time": "2022-03-09T07:38:27.625Z"
   },
   {
    "duration": 24,
    "start_time": "2022-03-09T07:38:27.676Z"
   },
   {
    "duration": 6,
    "start_time": "2022-03-09T07:38:27.702Z"
   },
   {
    "duration": 18,
    "start_time": "2022-03-09T07:38:27.712Z"
   },
   {
    "duration": 7,
    "start_time": "2022-03-09T07:38:27.732Z"
   },
   {
    "duration": 8,
    "start_time": "2022-03-09T07:38:27.773Z"
   },
   {
    "duration": 16,
    "start_time": "2022-03-09T07:38:27.783Z"
   },
   {
    "duration": 15,
    "start_time": "2022-03-09T07:38:27.801Z"
   },
   {
    "duration": 63,
    "start_time": "2022-03-09T07:38:27.819Z"
   },
   {
    "duration": 37,
    "start_time": "2022-03-09T07:38:27.885Z"
   },
   {
    "duration": 14,
    "start_time": "2022-03-09T07:38:27.925Z"
   },
   {
    "duration": 48,
    "start_time": "2022-03-09T07:38:27.941Z"
   },
   {
    "duration": 17,
    "start_time": "2022-03-09T07:38:27.992Z"
   },
   {
    "duration": 22,
    "start_time": "2022-03-09T07:38:28.012Z"
   },
   {
    "duration": 46,
    "start_time": "2022-03-09T07:38:28.037Z"
   },
   {
    "duration": 19,
    "start_time": "2022-03-09T07:38:28.086Z"
   },
   {
    "duration": 7,
    "start_time": "2022-03-09T07:38:28.108Z"
   },
   {
    "duration": 17,
    "start_time": "2022-03-09T07:38:28.117Z"
   },
   {
    "duration": 39,
    "start_time": "2022-03-09T07:38:28.136Z"
   },
   {
    "duration": 4,
    "start_time": "2022-03-09T07:38:28.178Z"
   },
   {
    "duration": 17,
    "start_time": "2022-03-09T07:38:28.184Z"
   },
   {
    "duration": 11,
    "start_time": "2022-03-09T07:38:28.206Z"
   },
   {
    "duration": 63,
    "start_time": "2022-03-09T07:38:28.219Z"
   },
   {
    "duration": 712,
    "start_time": "2022-03-09T07:38:28.285Z"
   },
   {
    "duration": 8,
    "start_time": "2022-03-09T07:38:28.999Z"
   },
   {
    "duration": 8,
    "start_time": "2022-03-09T07:38:29.009Z"
   },
   {
    "duration": 1000,
    "start_time": "2022-03-09T07:38:29.019Z"
   },
   {
    "duration": 39,
    "start_time": "2022-03-09T08:27:11.197Z"
   },
   {
    "duration": 7,
    "start_time": "2022-03-09T08:27:58.442Z"
   },
   {
    "duration": 26,
    "start_time": "2022-03-09T08:28:10.148Z"
   },
   {
    "duration": 8,
    "start_time": "2022-03-09T08:29:38.545Z"
   },
   {
    "duration": 418,
    "start_time": "2022-03-09T08:30:04.975Z"
   },
   {
    "duration": 12,
    "start_time": "2022-03-09T08:30:30.800Z"
   },
   {
    "duration": 4,
    "start_time": "2022-03-09T08:30:52.280Z"
   },
   {
    "duration": 11,
    "start_time": "2022-03-09T08:31:42.789Z"
   },
   {
    "duration": 14,
    "start_time": "2022-03-09T08:33:41.716Z"
   },
   {
    "duration": 261,
    "start_time": "2022-03-09T08:34:48.105Z"
   },
   {
    "duration": 12,
    "start_time": "2022-03-09T08:35:43.790Z"
   },
   {
    "duration": 12,
    "start_time": "2022-03-09T08:35:54.000Z"
   },
   {
    "duration": 288,
    "start_time": "2022-03-09T08:35:54.232Z"
   },
   {
    "duration": 279,
    "start_time": "2022-03-09T08:36:24.597Z"
   },
   {
    "duration": 19,
    "start_time": "2022-03-09T08:36:37.229Z"
   },
   {
    "duration": 283,
    "start_time": "2022-03-09T08:38:31.445Z"
   },
   {
    "duration": 5,
    "start_time": "2022-03-09T08:38:35.608Z"
   },
   {
    "duration": 31,
    "start_time": "2022-03-09T08:38:35.814Z"
   },
   {
    "duration": 28,
    "start_time": "2022-03-09T08:39:02.778Z"
   },
   {
    "duration": 25,
    "start_time": "2022-03-09T08:39:14.274Z"
   },
   {
    "duration": 9,
    "start_time": "2022-03-09T08:39:24.269Z"
   },
   {
    "duration": 20,
    "start_time": "2022-03-09T08:39:26.487Z"
   },
   {
    "duration": 12,
    "start_time": "2022-03-09T08:39:43.767Z"
   },
   {
    "duration": 3,
    "start_time": "2022-03-09T08:40:49.210Z"
   },
   {
    "duration": 12,
    "start_time": "2022-03-09T08:40:50.804Z"
   },
   {
    "duration": 21,
    "start_time": "2022-03-09T08:40:51.467Z"
   },
   {
    "duration": 9,
    "start_time": "2022-03-09T08:40:52.284Z"
   },
   {
    "duration": 3,
    "start_time": "2022-03-09T08:41:10.411Z"
   },
   {
    "duration": 12,
    "start_time": "2022-03-09T08:41:10.983Z"
   },
   {
    "duration": 21,
    "start_time": "2022-03-09T08:41:11.506Z"
   },
   {
    "duration": 10,
    "start_time": "2022-03-09T08:41:12.089Z"
   },
   {
    "duration": 306,
    "start_time": "2022-03-09T08:43:11.828Z"
   },
   {
    "duration": 27,
    "start_time": "2022-03-09T08:43:28.557Z"
   },
   {
    "duration": 278,
    "start_time": "2022-03-09T08:44:04.081Z"
   },
   {
    "duration": 13,
    "start_time": "2022-03-09T08:44:13.539Z"
   },
   {
    "duration": 13,
    "start_time": "2022-03-09T08:44:36.670Z"
   },
   {
    "duration": 291,
    "start_time": "2022-03-09T08:44:45.556Z"
   },
   {
    "duration": 339,
    "start_time": "2022-03-09T08:44:52.770Z"
   },
   {
    "duration": 13,
    "start_time": "2022-03-09T08:44:56.675Z"
   },
   {
    "duration": 307,
    "start_time": "2022-03-09T08:45:32.296Z"
   },
   {
    "duration": 272,
    "start_time": "2022-03-09T08:46:19.659Z"
   },
   {
    "duration": 266,
    "start_time": "2022-03-09T08:46:23.216Z"
   },
   {
    "duration": 13,
    "start_time": "2022-03-09T08:46:38.903Z"
   },
   {
    "duration": 323,
    "start_time": "2022-03-09T08:48:16.157Z"
   },
   {
    "duration": 12,
    "start_time": "2022-03-09T08:48:28.658Z"
   },
   {
    "duration": 271,
    "start_time": "2022-03-09T08:50:02.306Z"
   },
   {
    "duration": 10,
    "start_time": "2022-03-09T08:50:06.362Z"
   },
   {
    "duration": 276,
    "start_time": "2022-03-09T08:50:06.568Z"
   },
   {
    "duration": 12,
    "start_time": "2022-03-09T08:50:36.058Z"
   },
   {
    "duration": 11,
    "start_time": "2022-03-09T08:50:52.217Z"
   },
   {
    "duration": 11,
    "start_time": "2022-03-09T08:51:05.754Z"
   },
   {
    "duration": 11,
    "start_time": "2022-03-09T08:51:09.683Z"
   },
   {
    "duration": 11,
    "start_time": "2022-03-09T08:51:14.612Z"
   },
   {
    "duration": 11,
    "start_time": "2022-03-09T08:52:09.269Z"
   },
   {
    "duration": 12,
    "start_time": "2022-03-09T08:52:22.682Z"
   },
   {
    "duration": 9,
    "start_time": "2022-03-09T08:52:37.244Z"
   },
   {
    "duration": 7,
    "start_time": "2022-03-09T08:54:33.324Z"
   },
   {
    "duration": 9,
    "start_time": "2022-03-09T08:54:34.241Z"
   },
   {
    "duration": 6893,
    "start_time": "2022-03-09T08:54:43.355Z"
   },
   {
    "duration": 9,
    "start_time": "2022-03-09T08:54:54.400Z"
   },
   {
    "duration": 9,
    "start_time": "2022-03-09T08:55:00.301Z"
   },
   {
    "duration": 275,
    "start_time": "2022-03-09T08:55:20.630Z"
   },
   {
    "duration": 8,
    "start_time": "2022-03-09T08:55:30.984Z"
   },
   {
    "duration": 7,
    "start_time": "2022-03-09T08:57:01.700Z"
   },
   {
    "duration": 8,
    "start_time": "2022-03-09T08:57:05.871Z"
   },
   {
    "duration": 16,
    "start_time": "2022-03-09T08:57:27.969Z"
   },
   {
    "duration": 11,
    "start_time": "2022-03-09T08:57:51.581Z"
   },
   {
    "duration": 12,
    "start_time": "2022-03-09T08:58:00.889Z"
   },
   {
    "duration": 321,
    "start_time": "2022-03-09T08:58:06.189Z"
   },
   {
    "duration": 268,
    "start_time": "2022-03-09T08:58:13.698Z"
   },
   {
    "duration": 14,
    "start_time": "2022-03-09T08:58:29.573Z"
   },
   {
    "duration": 14,
    "start_time": "2022-03-09T08:58:35.686Z"
   },
   {
    "duration": 288,
    "start_time": "2022-03-09T08:58:49.679Z"
   },
   {
    "duration": 13,
    "start_time": "2022-03-09T08:58:54.409Z"
   },
   {
    "duration": 302,
    "start_time": "2022-03-09T08:59:19.449Z"
   },
   {
    "duration": 228,
    "start_time": "2022-03-09T08:59:23.694Z"
   },
   {
    "duration": 12,
    "start_time": "2022-03-09T08:59:38.309Z"
   },
   {
    "duration": 12,
    "start_time": "2022-03-09T08:59:46.543Z"
   },
   {
    "duration": 244,
    "start_time": "2022-03-09T08:59:49.075Z"
   },
   {
    "duration": 290,
    "start_time": "2022-03-09T09:00:57.174Z"
   },
   {
    "duration": 6,
    "start_time": "2022-03-09T09:01:05.044Z"
   },
   {
    "duration": 23,
    "start_time": "2022-03-09T09:01:11.913Z"
   },
   {
    "duration": 12,
    "start_time": "2022-03-09T09:01:39.187Z"
   },
   {
    "duration": 301,
    "start_time": "2022-03-09T09:04:19.945Z"
   },
   {
    "duration": 12,
    "start_time": "2022-03-09T09:04:34.028Z"
   },
   {
    "duration": 12,
    "start_time": "2022-03-09T09:05:08.932Z"
   },
   {
    "duration": 14,
    "start_time": "2022-03-09T09:06:27.487Z"
   },
   {
    "duration": 278,
    "start_time": "2022-03-09T09:06:46.356Z"
   },
   {
    "duration": 10,
    "start_time": "2022-03-09T09:06:51.330Z"
   },
   {
    "duration": 6844,
    "start_time": "2022-03-09T09:06:57.831Z"
   },
   {
    "duration": 15,
    "start_time": "2022-03-09T09:07:07.449Z"
   },
   {
    "duration": 214,
    "start_time": "2022-03-09T09:07:18.913Z"
   },
   {
    "duration": 16,
    "start_time": "2022-03-09T09:08:07.472Z"
   },
   {
    "duration": 16,
    "start_time": "2022-03-09T09:08:24.267Z"
   },
   {
    "duration": 112,
    "start_time": "2022-03-09T09:08:33.930Z"
   },
   {
    "duration": 15,
    "start_time": "2022-03-09T09:09:19.120Z"
   },
   {
    "duration": 11,
    "start_time": "2022-03-09T09:09:41.326Z"
   },
   {
    "duration": 15,
    "start_time": "2022-03-09T09:10:13.511Z"
   },
   {
    "duration": 23,
    "start_time": "2022-03-09T09:10:42.940Z"
   },
   {
    "duration": 14,
    "start_time": "2022-03-09T09:10:57.330Z"
   },
   {
    "duration": 295,
    "start_time": "2022-03-09T09:11:19.003Z"
   },
   {
    "duration": 15,
    "start_time": "2022-03-09T09:11:24.459Z"
   },
   {
    "duration": 11,
    "start_time": "2022-03-09T09:13:05.877Z"
   },
   {
    "duration": 11,
    "start_time": "2022-03-09T09:13:18.325Z"
   },
   {
    "duration": 348,
    "start_time": "2022-03-09T09:13:34.321Z"
   },
   {
    "duration": 11,
    "start_time": "2022-03-09T09:13:39.079Z"
   },
   {
    "duration": 11,
    "start_time": "2022-03-09T09:13:47.747Z"
   },
   {
    "duration": 12,
    "start_time": "2022-03-09T09:13:54.424Z"
   },
   {
    "duration": 11,
    "start_time": "2022-03-09T09:14:29.411Z"
   },
   {
    "duration": 12,
    "start_time": "2022-03-09T09:15:09.000Z"
   },
   {
    "duration": 11,
    "start_time": "2022-03-09T09:15:16.687Z"
   },
   {
    "duration": 11,
    "start_time": "2022-03-09T09:15:45.063Z"
   },
   {
    "duration": 11,
    "start_time": "2022-03-09T09:15:58.773Z"
   },
   {
    "duration": 9,
    "start_time": "2022-03-09T09:16:09.872Z"
   },
   {
    "duration": 286,
    "start_time": "2022-03-09T09:16:12.328Z"
   },
   {
    "duration": 374,
    "start_time": "2022-03-09T09:16:40.301Z"
   },
   {
    "duration": 9,
    "start_time": "2022-03-09T09:17:01.288Z"
   },
   {
    "duration": 9,
    "start_time": "2022-03-09T09:17:12.503Z"
   },
   {
    "duration": 12,
    "start_time": "2022-03-09T09:17:31.448Z"
   },
   {
    "duration": 79,
    "start_time": "2022-03-09T09:19:11.195Z"
   },
   {
    "duration": 16,
    "start_time": "2022-03-09T09:19:11.277Z"
   },
   {
    "duration": 5,
    "start_time": "2022-03-09T09:19:11.297Z"
   },
   {
    "duration": 12,
    "start_time": "2022-03-09T09:19:11.305Z"
   },
   {
    "duration": 18,
    "start_time": "2022-03-09T09:19:11.320Z"
   },
   {
    "duration": 38,
    "start_time": "2022-03-09T09:19:11.340Z"
   },
   {
    "duration": 19,
    "start_time": "2022-03-09T09:19:11.380Z"
   },
   {
    "duration": 6,
    "start_time": "2022-03-09T09:19:11.402Z"
   },
   {
    "duration": 18,
    "start_time": "2022-03-09T09:19:11.412Z"
   },
   {
    "duration": 46,
    "start_time": "2022-03-09T09:19:11.433Z"
   },
   {
    "duration": 13,
    "start_time": "2022-03-09T09:19:11.481Z"
   },
   {
    "duration": 20,
    "start_time": "2022-03-09T09:19:11.496Z"
   },
   {
    "duration": 11,
    "start_time": "2022-03-09T09:19:11.518Z"
   },
   {
    "duration": 66,
    "start_time": "2022-03-09T09:19:11.532Z"
   },
   {
    "duration": 34,
    "start_time": "2022-03-09T09:19:11.600Z"
   },
   {
    "duration": 38,
    "start_time": "2022-03-09T09:19:11.637Z"
   },
   {
    "duration": 18,
    "start_time": "2022-03-09T09:19:11.678Z"
   },
   {
    "duration": 15,
    "start_time": "2022-03-09T09:19:11.699Z"
   },
   {
    "duration": 21,
    "start_time": "2022-03-09T09:19:11.716Z"
   },
   {
    "duration": 40,
    "start_time": "2022-03-09T09:19:11.739Z"
   },
   {
    "duration": 28,
    "start_time": "2022-03-09T09:19:11.782Z"
   },
   {
    "duration": 38,
    "start_time": "2022-03-09T09:19:11.812Z"
   },
   {
    "duration": 23,
    "start_time": "2022-03-09T09:19:11.852Z"
   },
   {
    "duration": 17,
    "start_time": "2022-03-09T09:19:11.877Z"
   },
   {
    "duration": 5,
    "start_time": "2022-03-09T09:19:11.896Z"
   },
   {
    "duration": 16,
    "start_time": "2022-03-09T09:19:11.904Z"
   },
   {
    "duration": 11,
    "start_time": "2022-03-09T09:19:11.925Z"
   },
   {
    "duration": 53,
    "start_time": "2022-03-09T09:19:11.938Z"
   },
   {
    "duration": 4,
    "start_time": "2022-03-09T09:19:11.994Z"
   },
   {
    "duration": 9,
    "start_time": "2022-03-09T09:19:12.000Z"
   },
   {
    "duration": 7,
    "start_time": "2022-03-09T09:19:12.012Z"
   },
   {
    "duration": 1111,
    "start_time": "2022-03-09T09:19:12.021Z"
   },
   {
    "duration": 4,
    "start_time": "2022-03-09T09:19:15.711Z"
   },
   {
    "duration": 11,
    "start_time": "2022-03-09T09:19:16.505Z"
   },
   {
    "duration": 294,
    "start_time": "2022-03-09T09:19:23.928Z"
   },
   {
    "duration": 14,
    "start_time": "2022-03-09T09:19:38.286Z"
   },
   {
    "duration": 12,
    "start_time": "2022-03-09T09:19:53.902Z"
   },
   {
    "duration": 14,
    "start_time": "2022-03-09T09:20:08.414Z"
   },
   {
    "duration": 280,
    "start_time": "2022-03-09T09:20:16.183Z"
   },
   {
    "duration": 12,
    "start_time": "2022-03-09T09:20:59.493Z"
   },
   {
    "duration": 12,
    "start_time": "2022-03-09T09:21:21.776Z"
   },
   {
    "duration": 16,
    "start_time": "2022-03-09T09:21:36.201Z"
   },
   {
    "duration": 6911,
    "start_time": "2022-03-09T09:21:49.793Z"
   },
   {
    "duration": 14,
    "start_time": "2022-03-09T09:22:43.654Z"
   },
   {
    "duration": 19,
    "start_time": "2022-03-09T09:23:53.320Z"
   },
   {
    "duration": 366,
    "start_time": "2022-03-09T09:30:02.867Z"
   },
   {
    "duration": 9,
    "start_time": "2022-03-09T09:31:03.425Z"
   },
   {
    "duration": 12,
    "start_time": "2022-03-09T09:31:06.034Z"
   },
   {
    "duration": 321,
    "start_time": "2022-03-09T09:31:13.072Z"
   },
   {
    "duration": 13,
    "start_time": "2022-03-09T09:31:21.882Z"
   },
   {
    "duration": 12,
    "start_time": "2022-03-09T09:32:32.590Z"
   },
   {
    "duration": 291,
    "start_time": "2022-03-09T09:33:58.728Z"
   },
   {
    "duration": 12,
    "start_time": "2022-03-09T09:34:12.742Z"
   },
   {
    "duration": 12,
    "start_time": "2022-03-09T09:34:20.075Z"
   },
   {
    "duration": 13,
    "start_time": "2022-03-09T09:34:40.024Z"
   },
   {
    "duration": 16,
    "start_time": "2022-03-09T09:35:29.724Z"
   },
   {
    "duration": 6826,
    "start_time": "2022-03-09T09:35:35.933Z"
   },
   {
    "duration": 16,
    "start_time": "2022-03-09T09:35:47.100Z"
   },
   {
    "duration": 331,
    "start_time": "2022-03-09T09:36:02.665Z"
   },
   {
    "duration": 11,
    "start_time": "2022-03-09T09:37:06.351Z"
   },
   {
    "duration": 310,
    "start_time": "2022-03-09T09:37:10.611Z"
   },
   {
    "duration": 12,
    "start_time": "2022-03-09T09:37:14.521Z"
   },
   {
    "duration": 27,
    "start_time": "2022-03-09T09:41:15.575Z"
   },
   {
    "duration": 345,
    "start_time": "2022-03-09T09:45:16.060Z"
   },
   {
    "duration": 14,
    "start_time": "2022-03-09T09:47:28.339Z"
   },
   {
    "duration": 16,
    "start_time": "2022-03-09T09:47:45.183Z"
   },
   {
    "duration": 14,
    "start_time": "2022-03-09T09:48:27.319Z"
   },
   {
    "duration": 910,
    "start_time": "2022-03-09T09:48:35.446Z"
   },
   {
    "duration": 6,
    "start_time": "2022-03-09T09:48:38.312Z"
   },
   {
    "duration": 11,
    "start_time": "2022-03-09T09:48:47.393Z"
   },
   {
    "duration": 8,
    "start_time": "2022-03-09T09:48:55.305Z"
   },
   {
    "duration": 13,
    "start_time": "2022-03-09T09:49:17.982Z"
   },
   {
    "duration": 1445,
    "start_time": "2022-03-09T09:49:30.975Z"
   },
   {
    "duration": 15,
    "start_time": "2022-03-09T09:49:35.591Z"
   },
   {
    "duration": 8,
    "start_time": "2022-03-09T09:49:44.990Z"
   },
   {
    "duration": 18473,
    "start_time": "2022-03-09T09:49:53.809Z"
   },
   {
    "duration": 9,
    "start_time": "2022-03-09T09:50:15.479Z"
   },
   {
    "duration": 13,
    "start_time": "2022-03-09T09:52:15.491Z"
   },
   {
    "duration": 8,
    "start_time": "2022-03-09T09:52:16.039Z"
   },
   {
    "duration": 1017,
    "start_time": "2022-03-09T09:52:50.455Z"
   },
   {
    "duration": 11,
    "start_time": "2022-03-09T09:52:51.717Z"
   },
   {
    "duration": 511,
    "start_time": "2022-03-09T09:53:02.634Z"
   },
   {
    "duration": 835,
    "start_time": "2022-03-09T09:53:34.672Z"
   },
   {
    "duration": 11,
    "start_time": "2022-03-09T09:54:46.544Z"
   },
   {
    "duration": 8,
    "start_time": "2022-03-09T09:54:56.727Z"
   },
   {
    "duration": 8,
    "start_time": "2022-03-09T09:55:07.087Z"
   },
   {
    "duration": 285,
    "start_time": "2022-03-09T09:56:54.493Z"
   },
   {
    "duration": 289,
    "start_time": "2022-03-09T09:57:29.118Z"
   },
   {
    "duration": 285,
    "start_time": "2022-03-09T09:57:34.136Z"
   },
   {
    "duration": 79,
    "start_time": "2022-03-09T09:57:56.270Z"
   },
   {
    "duration": 16,
    "start_time": "2022-03-09T09:57:57.742Z"
   },
   {
    "duration": 6,
    "start_time": "2022-03-09T09:57:58.094Z"
   },
   {
    "duration": 6,
    "start_time": "2022-03-09T09:57:58.448Z"
   },
   {
    "duration": 13,
    "start_time": "2022-03-09T09:57:59.046Z"
   },
   {
    "duration": 9,
    "start_time": "2022-03-09T09:57:59.211Z"
   },
   {
    "duration": 17,
    "start_time": "2022-03-09T09:57:59.401Z"
   },
   {
    "duration": 6,
    "start_time": "2022-03-09T09:57:59.789Z"
   },
   {
    "duration": 17,
    "start_time": "2022-03-09T09:58:00.015Z"
   },
   {
    "duration": 7,
    "start_time": "2022-03-09T09:58:00.398Z"
   },
   {
    "duration": 8,
    "start_time": "2022-03-09T09:58:00.773Z"
   },
   {
    "duration": 18,
    "start_time": "2022-03-09T09:58:00.980Z"
   },
   {
    "duration": 11,
    "start_time": "2022-03-09T09:58:01.763Z"
   },
   {
    "duration": 27,
    "start_time": "2022-03-09T09:58:02.321Z"
   },
   {
    "duration": 36,
    "start_time": "2022-03-09T09:58:02.525Z"
   },
   {
    "duration": 15,
    "start_time": "2022-03-09T09:58:02.694Z"
   },
   {
    "duration": 20,
    "start_time": "2022-03-09T09:58:03.057Z"
   },
   {
    "duration": 12,
    "start_time": "2022-03-09T09:58:03.256Z"
   },
   {
    "duration": 13,
    "start_time": "2022-03-09T09:58:03.785Z"
   },
   {
    "duration": 12,
    "start_time": "2022-03-09T09:58:03.998Z"
   },
   {
    "duration": 21,
    "start_time": "2022-03-09T09:58:04.155Z"
   },
   {
    "duration": 6,
    "start_time": "2022-03-09T09:58:04.734Z"
   },
   {
    "duration": 16,
    "start_time": "2022-03-09T09:58:04.947Z"
   },
   {
    "duration": 8,
    "start_time": "2022-03-09T09:58:05.380Z"
   },
   {
    "duration": 6,
    "start_time": "2022-03-09T09:58:05.583Z"
   },
   {
    "duration": 14,
    "start_time": "2022-03-09T09:58:05.761Z"
   },
   {
    "duration": 11,
    "start_time": "2022-03-09T09:58:05.962Z"
   },
   {
    "duration": 28,
    "start_time": "2022-03-09T09:58:06.149Z"
   },
   {
    "duration": 3,
    "start_time": "2022-03-09T09:58:07.442Z"
   },
   {
    "duration": 8,
    "start_time": "2022-03-09T09:58:08.003Z"
   },
   {
    "duration": 292,
    "start_time": "2022-03-09T09:58:15.465Z"
   },
   {
    "duration": 26,
    "start_time": "2022-03-09T09:58:58.042Z"
   },
   {
    "duration": 13,
    "start_time": "2022-03-09T09:59:04.074Z"
   },
   {
    "duration": 10,
    "start_time": "2022-03-09T10:00:28.348Z"
   },
   {
    "duration": 7,
    "start_time": "2022-03-09T10:00:31.875Z"
   },
   {
    "duration": 8,
    "start_time": "2022-03-09T10:00:34.839Z"
   },
   {
    "duration": 14,
    "start_time": "2022-03-09T10:02:29.715Z"
   },
   {
    "duration": 275,
    "start_time": "2022-03-09T10:02:38.999Z"
   },
   {
    "duration": 710,
    "start_time": "2022-03-09T10:02:42.267Z"
   },
   {
    "duration": 12,
    "start_time": "2022-03-09T10:02:45.643Z"
   },
   {
    "duration": 13,
    "start_time": "2022-03-09T10:04:44.429Z"
   },
   {
    "duration": 14,
    "start_time": "2022-03-09T10:04:51.652Z"
   },
   {
    "duration": 6,
    "start_time": "2022-03-09T10:05:05.991Z"
   },
   {
    "duration": 6,
    "start_time": "2022-03-09T10:05:16.175Z"
   },
   {
    "duration": 290,
    "start_time": "2022-03-09T10:05:26.231Z"
   },
   {
    "duration": 281,
    "start_time": "2022-03-09T10:05:56.446Z"
   },
   {
    "duration": 271,
    "start_time": "2022-03-09T10:06:01.879Z"
   },
   {
    "duration": 25,
    "start_time": "2022-03-09T10:11:49.353Z"
   },
   {
    "duration": 435,
    "start_time": "2022-03-09T10:12:21.261Z"
   },
   {
    "duration": 82,
    "start_time": "2022-03-09T10:12:33.754Z"
   },
   {
    "duration": 36,
    "start_time": "2022-03-09T10:12:33.839Z"
   },
   {
    "duration": 5,
    "start_time": "2022-03-09T10:12:33.878Z"
   },
   {
    "duration": 14,
    "start_time": "2022-03-09T10:12:33.886Z"
   },
   {
    "duration": 21,
    "start_time": "2022-03-09T10:12:33.903Z"
   },
   {
    "duration": 9,
    "start_time": "2022-03-09T10:12:33.926Z"
   },
   {
    "duration": 43,
    "start_time": "2022-03-09T10:12:33.937Z"
   },
   {
    "duration": 7,
    "start_time": "2022-03-09T10:12:33.982Z"
   },
   {
    "duration": 21,
    "start_time": "2022-03-09T10:12:33.993Z"
   },
   {
    "duration": 8,
    "start_time": "2022-03-09T10:12:34.017Z"
   },
   {
    "duration": 48,
    "start_time": "2022-03-09T10:12:34.027Z"
   },
   {
    "duration": 30,
    "start_time": "2022-03-09T10:12:34.078Z"
   },
   {
    "duration": 14,
    "start_time": "2022-03-09T10:12:34.110Z"
   },
   {
    "duration": 54,
    "start_time": "2022-03-09T10:12:34.127Z"
   },
   {
    "duration": 35,
    "start_time": "2022-03-09T10:12:34.185Z"
   },
   {
    "duration": 14,
    "start_time": "2022-03-09T10:12:34.222Z"
   },
   {
    "duration": 51,
    "start_time": "2022-03-09T10:12:34.239Z"
   },
   {
    "duration": 19,
    "start_time": "2022-03-09T10:12:34.293Z"
   },
   {
    "duration": 12,
    "start_time": "2022-03-09T10:12:34.314Z"
   },
   {
    "duration": 46,
    "start_time": "2022-03-09T10:12:34.329Z"
   },
   {
    "duration": 22,
    "start_time": "2022-03-09T10:12:34.378Z"
   },
   {
    "duration": 5,
    "start_time": "2022-03-09T10:12:34.402Z"
   },
   {
    "duration": 18,
    "start_time": "2022-03-09T10:12:34.410Z"
   },
   {
    "duration": 43,
    "start_time": "2022-03-09T10:12:34.430Z"
   },
   {
    "duration": 5,
    "start_time": "2022-03-09T10:12:34.475Z"
   },
   {
    "duration": 22,
    "start_time": "2022-03-09T10:12:34.482Z"
   },
   {
    "duration": 10,
    "start_time": "2022-03-09T10:12:34.509Z"
   },
   {
    "duration": 52,
    "start_time": "2022-03-09T10:12:34.522Z"
   },
   {
    "duration": 4,
    "start_time": "2022-03-09T10:12:34.576Z"
   },
   {
    "duration": 9,
    "start_time": "2022-03-09T10:12:34.582Z"
   },
   {
    "duration": 7,
    "start_time": "2022-03-09T10:12:34.593Z"
   },
   {
    "duration": 1087,
    "start_time": "2022-03-09T10:12:34.602Z"
   },
   {
    "duration": 349,
    "start_time": "2022-03-09T10:12:35.692Z"
   },
   {
    "duration": -5,
    "start_time": "2022-03-09T10:12:36.048Z"
   },
   {
    "duration": -16,
    "start_time": "2022-03-09T10:12:36.061Z"
   },
   {
    "duration": 7,
    "start_time": "2022-03-09T10:13:27.964Z"
   },
   {
    "duration": 12,
    "start_time": "2022-03-09T10:13:47.392Z"
   },
   {
    "duration": 303,
    "start_time": "2022-03-09T10:14:38.390Z"
   },
   {
    "duration": 297,
    "start_time": "2022-03-09T10:14:44.086Z"
   },
   {
    "duration": 14,
    "start_time": "2022-03-09T10:14:47.307Z"
   },
   {
    "duration": 16,
    "start_time": "2022-03-09T10:15:10.137Z"
   },
   {
    "duration": 11,
    "start_time": "2022-03-09T10:15:34.061Z"
   },
   {
    "duration": 11,
    "start_time": "2022-03-09T10:15:57.472Z"
   },
   {
    "duration": 16,
    "start_time": "2022-03-09T10:18:38.945Z"
   },
   {
    "duration": 16,
    "start_time": "2022-03-09T10:28:46.293Z"
   },
   {
    "duration": 17,
    "start_time": "2022-03-09T10:29:56.829Z"
   },
   {
    "duration": 272,
    "start_time": "2022-03-09T10:31:26.081Z"
   },
   {
    "duration": 30,
    "start_time": "2022-03-09T10:31:30.061Z"
   },
   {
    "duration": 27,
    "start_time": "2022-03-09T10:32:20.811Z"
   },
   {
    "duration": 27,
    "start_time": "2022-03-09T10:32:33.907Z"
   },
   {
    "duration": 26,
    "start_time": "2022-03-09T10:33:04.937Z"
   },
   {
    "duration": 7,
    "start_time": "2022-03-09T10:33:11.611Z"
   },
   {
    "duration": 11,
    "start_time": "2022-03-09T10:33:20.020Z"
   },
   {
    "duration": 242,
    "start_time": "2022-03-09T10:33:53.309Z"
   },
   {
    "duration": 214,
    "start_time": "2022-03-09T10:33:58.807Z"
   },
   {
    "duration": 384,
    "start_time": "2022-03-09T10:34:11.961Z"
   },
   {
    "duration": 238,
    "start_time": "2022-03-09T10:34:19.745Z"
   },
   {
    "duration": 288,
    "start_time": "2022-03-09T10:35:36.019Z"
   },
   {
    "duration": 6,
    "start_time": "2022-03-09T10:35:39.179Z"
   },
   {
    "duration": 240,
    "start_time": "2022-03-09T10:36:04.750Z"
   },
   {
    "duration": 250,
    "start_time": "2022-03-09T10:36:13.673Z"
   },
   {
    "duration": 7,
    "start_time": "2022-03-09T10:36:49.559Z"
   },
   {
    "duration": 88,
    "start_time": "2022-03-09T13:12:49.251Z"
   },
   {
    "duration": 38,
    "start_time": "2022-03-09T13:12:49.342Z"
   },
   {
    "duration": 6,
    "start_time": "2022-03-09T13:12:49.383Z"
   },
   {
    "duration": 20,
    "start_time": "2022-03-09T13:12:49.392Z"
   },
   {
    "duration": 12,
    "start_time": "2022-03-09T13:12:49.414Z"
   },
   {
    "duration": 46,
    "start_time": "2022-03-09T13:12:49.428Z"
   },
   {
    "duration": 24,
    "start_time": "2022-03-09T13:12:49.478Z"
   },
   {
    "duration": 6,
    "start_time": "2022-03-09T13:12:49.506Z"
   },
   {
    "duration": 21,
    "start_time": "2022-03-09T13:12:49.515Z"
   },
   {
    "duration": 7,
    "start_time": "2022-03-09T13:12:49.539Z"
   },
   {
    "duration": 10,
    "start_time": "2022-03-09T13:12:49.573Z"
   },
   {
    "duration": 27,
    "start_time": "2022-03-09T13:12:49.586Z"
   },
   {
    "duration": 14,
    "start_time": "2022-03-09T13:12:49.616Z"
   },
   {
    "duration": 63,
    "start_time": "2022-03-09T13:12:49.633Z"
   },
   {
    "duration": 38,
    "start_time": "2022-03-09T13:12:49.699Z"
   },
   {
    "duration": 39,
    "start_time": "2022-03-09T13:12:49.740Z"
   },
   {
    "duration": 22,
    "start_time": "2022-03-09T13:12:49.782Z"
   },
   {
    "duration": 29,
    "start_time": "2022-03-09T13:12:49.807Z"
   },
   {
    "duration": 35,
    "start_time": "2022-03-09T13:12:49.838Z"
   },
   {
    "duration": 15,
    "start_time": "2022-03-09T13:12:49.876Z"
   },
   {
    "duration": 35,
    "start_time": "2022-03-09T13:12:49.894Z"
   },
   {
    "duration": 5,
    "start_time": "2022-03-09T13:12:49.931Z"
   },
   {
    "duration": 43,
    "start_time": "2022-03-09T13:12:49.940Z"
   },
   {
    "duration": 10,
    "start_time": "2022-03-09T13:12:49.986Z"
   },
   {
    "duration": 7,
    "start_time": "2022-03-09T13:12:49.999Z"
   },
   {
    "duration": 35,
    "start_time": "2022-03-09T13:12:50.009Z"
   },
   {
    "duration": 37,
    "start_time": "2022-03-09T13:12:50.046Z"
   },
   {
    "duration": 47,
    "start_time": "2022-03-09T13:12:50.090Z"
   },
   {
    "duration": 21,
    "start_time": "2022-03-09T13:12:50.140Z"
   },
   {
    "duration": 37,
    "start_time": "2022-03-09T13:12:50.163Z"
   },
   {
    "duration": 23,
    "start_time": "2022-03-09T13:12:50.202Z"
   },
   {
    "duration": 1055,
    "start_time": "2022-03-09T13:12:50.228Z"
   },
   {
    "duration": 17,
    "start_time": "2022-03-09T13:12:53.343Z"
   },
   {
    "duration": 27,
    "start_time": "2022-03-09T13:13:50.931Z"
   },
   {
    "duration": 242,
    "start_time": "2022-03-09T13:17:21.697Z"
   },
   {
    "duration": 236,
    "start_time": "2022-03-09T13:17:28.511Z"
   },
   {
    "duration": 23,
    "start_time": "2022-03-09T13:17:38.042Z"
   },
   {
    "duration": 30,
    "start_time": "2022-03-09T13:17:44.486Z"
   },
   {
    "duration": 21,
    "start_time": "2022-03-09T13:17:54.519Z"
   },
   {
    "duration": 27,
    "start_time": "2022-03-09T13:17:59.916Z"
   },
   {
    "duration": 27,
    "start_time": "2022-03-09T13:21:18.707Z"
   },
   {
    "duration": 16,
    "start_time": "2022-03-09T13:25:45.029Z"
   },
   {
    "duration": 18,
    "start_time": "2022-03-09T13:27:51.799Z"
   },
   {
    "duration": 290,
    "start_time": "2022-03-09T13:29:54.121Z"
   },
   {
    "duration": 33,
    "start_time": "2022-03-09T13:30:04.432Z"
   },
   {
    "duration": 5,
    "start_time": "2022-03-09T13:30:21.563Z"
   },
   {
    "duration": 1169,
    "start_time": "2022-03-09T13:30:57.658Z"
   },
   {
    "duration": 258,
    "start_time": "2022-03-09T13:31:04.217Z"
   },
   {
    "duration": 245,
    "start_time": "2022-03-09T13:31:27.191Z"
   },
   {
    "duration": 27,
    "start_time": "2022-03-09T13:33:03.143Z"
   },
   {
    "duration": 301,
    "start_time": "2022-03-09T13:35:05.330Z"
   },
   {
    "duration": 296,
    "start_time": "2022-03-09T13:35:42.829Z"
   },
   {
    "duration": 27,
    "start_time": "2022-03-09T13:39:30.956Z"
   },
   {
    "duration": 35,
    "start_time": "2022-03-09T13:40:02.995Z"
   },
   {
    "duration": 297,
    "start_time": "2022-03-09T13:40:14.464Z"
   },
   {
    "duration": 35,
    "start_time": "2022-03-09T13:40:25.433Z"
   },
   {
    "duration": 257,
    "start_time": "2022-03-09T13:41:06.270Z"
   },
   {
    "duration": 287,
    "start_time": "2022-03-09T13:41:06.530Z"
   },
   {
    "duration": 247,
    "start_time": "2022-03-09T13:42:02.159Z"
   },
   {
    "duration": 282,
    "start_time": "2022-03-09T13:42:08.135Z"
   },
   {
    "duration": 3,
    "start_time": "2022-03-09T13:43:24.775Z"
   },
   {
    "duration": 410,
    "start_time": "2022-03-09T13:43:43.890Z"
   },
   {
    "duration": 339,
    "start_time": "2022-03-09T13:43:51.088Z"
   },
   {
    "duration": 347,
    "start_time": "2022-03-09T13:44:00.656Z"
   },
   {
    "duration": 257,
    "start_time": "2022-03-09T13:44:06.519Z"
   },
   {
    "duration": 286,
    "start_time": "2022-03-09T13:44:09.839Z"
   },
   {
    "duration": 306,
    "start_time": "2022-03-09T13:44:13.673Z"
   },
   {
    "duration": 308,
    "start_time": "2022-03-09T13:44:23.718Z"
   },
   {
    "duration": 868,
    "start_time": "2022-03-10T05:10:17.828Z"
   },
   {
    "duration": 16,
    "start_time": "2022-03-10T05:10:20.802Z"
   },
   {
    "duration": 5,
    "start_time": "2022-03-10T05:13:36.771Z"
   },
   {
    "duration": 5,
    "start_time": "2022-03-10T05:13:37.281Z"
   },
   {
    "duration": 13,
    "start_time": "2022-03-10T05:13:37.934Z"
   },
   {
    "duration": 9,
    "start_time": "2022-03-10T05:13:38.156Z"
   },
   {
    "duration": 16,
    "start_time": "2022-03-10T05:13:38.470Z"
   },
   {
    "duration": 6,
    "start_time": "2022-03-10T05:13:39.628Z"
   },
   {
    "duration": 22,
    "start_time": "2022-03-10T05:13:39.918Z"
   },
   {
    "duration": 7,
    "start_time": "2022-03-10T05:13:40.602Z"
   },
   {
    "duration": 8,
    "start_time": "2022-03-10T05:13:41.899Z"
   },
   {
    "duration": 19,
    "start_time": "2022-03-10T05:13:42.452Z"
   },
   {
    "duration": 16,
    "start_time": "2022-03-10T05:13:44.545Z"
   },
   {
    "duration": 27,
    "start_time": "2022-03-10T05:14:04.578Z"
   },
   {
    "duration": 34,
    "start_time": "2022-03-10T05:14:05.471Z"
   },
   {
    "duration": 14,
    "start_time": "2022-03-10T05:15:39.450Z"
   },
   {
    "duration": 18,
    "start_time": "2022-03-10T05:15:39.878Z"
   },
   {
    "duration": 13,
    "start_time": "2022-03-10T05:15:40.074Z"
   },
   {
    "duration": 12,
    "start_time": "2022-03-10T05:15:53.936Z"
   },
   {
    "duration": 11,
    "start_time": "2022-03-10T05:15:55.171Z"
   },
   {
    "duration": 18,
    "start_time": "2022-03-10T05:15:59.846Z"
   },
   {
    "duration": 5,
    "start_time": "2022-03-10T05:16:06.725Z"
   },
   {
    "duration": 15,
    "start_time": "2022-03-10T05:16:16.510Z"
   },
   {
    "duration": 27,
    "start_time": "2022-03-10T05:16:19.161Z"
   },
   {
    "duration": 32,
    "start_time": "2022-03-10T05:18:09.222Z"
   },
   {
    "duration": 425,
    "start_time": "2022-03-10T05:18:24.119Z"
   },
   {
    "duration": 29,
    "start_time": "2022-03-10T05:18:38.647Z"
   },
   {
    "duration": 8,
    "start_time": "2022-03-10T05:18:49.179Z"
   },
   {
    "duration": 4,
    "start_time": "2022-03-10T05:18:51.471Z"
   },
   {
    "duration": 13,
    "start_time": "2022-03-10T05:18:55.439Z"
   },
   {
    "duration": 12,
    "start_time": "2022-03-10T05:19:04.202Z"
   },
   {
    "duration": 25,
    "start_time": "2022-03-10T05:19:04.443Z"
   },
   {
    "duration": 721,
    "start_time": "2022-03-10T05:19:16.277Z"
   },
   {
    "duration": 3,
    "start_time": "2022-03-10T05:19:41.351Z"
   },
   {
    "duration": 8,
    "start_time": "2022-03-10T05:19:50.249Z"
   },
   {
    "duration": 5,
    "start_time": "2022-03-10T05:21:04.181Z"
   },
   {
    "duration": 18,
    "start_time": "2022-03-10T05:23:01.359Z"
   },
   {
    "duration": 18,
    "start_time": "2022-03-10T05:23:46.844Z"
   },
   {
    "duration": 441,
    "start_time": "2022-03-10T05:24:18.777Z"
   },
   {
    "duration": 8295,
    "start_time": "2022-03-10T05:24:35.514Z"
   },
   {
    "duration": 17,
    "start_time": "2022-03-10T05:24:46.308Z"
   },
   {
    "duration": 11,
    "start_time": "2022-03-10T05:24:54.386Z"
   },
   {
    "duration": 10,
    "start_time": "2022-03-10T05:24:57.638Z"
   },
   {
    "duration": 364,
    "start_time": "2022-03-10T05:25:08.635Z"
   },
   {
    "duration": 26,
    "start_time": "2022-03-10T05:25:58.549Z"
   },
   {
    "duration": 19,
    "start_time": "2022-03-10T05:26:14.885Z"
   },
   {
    "duration": 353,
    "start_time": "2022-03-10T05:26:17.199Z"
   },
   {
    "duration": 336,
    "start_time": "2022-03-10T05:26:21.121Z"
   },
   {
    "duration": 367,
    "start_time": "2022-03-10T05:26:27.539Z"
   },
   {
    "duration": 16,
    "start_time": "2022-03-10T05:26:32.612Z"
   },
   {
    "duration": 29,
    "start_time": "2022-03-10T05:26:38.088Z"
   },
   {
    "duration": 6,
    "start_time": "2022-03-10T05:26:56.095Z"
   },
   {
    "duration": 337,
    "start_time": "2022-03-10T05:27:49.743Z"
   },
   {
    "duration": 320,
    "start_time": "2022-03-10T05:27:54.150Z"
   },
   {
    "duration": 342,
    "start_time": "2022-03-10T05:28:10.861Z"
   },
   {
    "duration": 332,
    "start_time": "2022-03-10T05:28:14.652Z"
   },
   {
    "duration": 254,
    "start_time": "2022-03-10T05:28:39.461Z"
   },
   {
    "duration": 248,
    "start_time": "2022-03-10T05:28:51.202Z"
   },
   {
    "duration": 1348,
    "start_time": "2022-03-10T05:29:46.236Z"
   },
   {
    "duration": 17,
    "start_time": "2022-03-10T05:29:57.144Z"
   },
   {
    "duration": 34,
    "start_time": "2022-03-10T05:29:57.164Z"
   },
   {
    "duration": 230,
    "start_time": "2022-03-10T05:29:57.492Z"
   },
   {
    "duration": 248,
    "start_time": "2022-03-10T05:29:57.827Z"
   },
   {
    "duration": 34,
    "start_time": "2022-03-10T05:29:59.220Z"
   },
   {
    "duration": 261,
    "start_time": "2022-03-10T05:29:59.471Z"
   },
   {
    "duration": 312,
    "start_time": "2022-03-10T05:29:59.735Z"
   },
   {
    "duration": 34,
    "start_time": "2022-03-10T05:30:00.874Z"
   },
   {
    "duration": 323,
    "start_time": "2022-03-10T05:30:01.164Z"
   },
   {
    "duration": 314,
    "start_time": "2022-03-10T05:30:01.491Z"
   },
   {
    "duration": 443,
    "start_time": "2022-03-20T05:35:20.135Z"
   },
   {
    "duration": 16,
    "start_time": "2022-03-20T05:35:20.581Z"
   },
   {
    "duration": 4,
    "start_time": "2022-03-20T05:35:20.599Z"
   },
   {
    "duration": 545,
    "start_time": "2022-03-20T05:35:57.323Z"
   },
   {
    "duration": 5,
    "start_time": "2022-03-20T05:39:52.526Z"
   },
   {
    "duration": 89,
    "start_time": "2022-03-20T05:41:26.171Z"
   },
   {
    "duration": 5,
    "start_time": "2022-03-20T05:42:10.697Z"
   },
   {
    "duration": 189,
    "start_time": "2022-03-20T05:42:34.779Z"
   },
   {
    "duration": 68,
    "start_time": "2022-03-20T05:42:37.351Z"
   },
   {
    "duration": 25,
    "start_time": "2022-03-20T05:42:41.232Z"
   },
   {
    "duration": 110,
    "start_time": "2022-03-20T05:44:03.460Z"
   },
   {
    "duration": 116,
    "start_time": "2022-03-20T05:44:03.571Z"
   },
   {
    "duration": 85,
    "start_time": "2022-03-20T05:44:32.830Z"
   },
   {
    "duration": 15,
    "start_time": "2022-03-20T05:44:32.917Z"
   },
   {
    "duration": 4,
    "start_time": "2022-03-20T05:44:32.933Z"
   },
   {
    "duration": 113,
    "start_time": "2022-03-20T05:44:32.939Z"
   },
   {
    "duration": 5,
    "start_time": "2022-03-20T05:44:33.055Z"
   },
   {
    "duration": 9,
    "start_time": "2022-03-20T05:44:33.061Z"
   },
   {
    "duration": 7,
    "start_time": "2022-03-20T05:44:33.072Z"
   },
   {
    "duration": 119,
    "start_time": "2022-03-20T05:44:33.102Z"
   },
   {
    "duration": 350,
    "start_time": "2022-03-20T05:44:33.223Z"
   },
   {
    "duration": 113,
    "start_time": "2022-03-20T05:44:33.575Z"
   },
   {
    "duration": 98,
    "start_time": "2022-03-20T05:45:04.424Z"
   },
   {
    "duration": 107,
    "start_time": "2022-03-20T05:45:08.980Z"
   },
   {
    "duration": 20,
    "start_time": "2022-03-20T05:45:29.434Z"
   },
   {
    "duration": 21,
    "start_time": "2022-03-20T05:45:36.509Z"
   },
   {
    "duration": 7,
    "start_time": "2022-03-20T05:46:13.586Z"
   },
   {
    "duration": 8,
    "start_time": "2022-03-20T05:46:35.875Z"
   },
   {
    "duration": 7,
    "start_time": "2022-03-20T05:49:23.362Z"
   },
   {
    "duration": 15,
    "start_time": "2022-03-20T05:49:30.554Z"
   },
   {
    "duration": 5,
    "start_time": "2022-03-20T05:50:03.326Z"
   },
   {
    "duration": 11,
    "start_time": "2022-03-20T05:50:07.347Z"
   },
   {
    "duration": 82,
    "start_time": "2022-03-20T05:50:22.529Z"
   },
   {
    "duration": 13,
    "start_time": "2022-03-20T05:50:22.884Z"
   },
   {
    "duration": 4,
    "start_time": "2022-03-20T05:50:23.307Z"
   },
   {
    "duration": 85,
    "start_time": "2022-03-20T05:50:24.390Z"
   },
   {
    "duration": 4,
    "start_time": "2022-03-20T05:50:24.598Z"
   },
   {
    "duration": 8,
    "start_time": "2022-03-20T05:50:25.748Z"
   },
   {
    "duration": 6,
    "start_time": "2022-03-20T05:50:25.933Z"
   },
   {
    "duration": 104,
    "start_time": "2022-03-20T05:50:26.315Z"
   },
   {
    "duration": 8,
    "start_time": "2022-03-20T05:50:26.956Z"
   },
   {
    "duration": 100,
    "start_time": "2022-03-20T05:50:27.317Z"
   },
   {
    "duration": 7,
    "start_time": "2022-03-20T05:50:27.475Z"
   },
   {
    "duration": 15,
    "start_time": "2022-03-20T05:50:29.060Z"
   },
   {
    "duration": 4,
    "start_time": "2022-03-20T05:50:30.657Z"
   },
   {
    "duration": 9,
    "start_time": "2022-03-20T05:50:30.885Z"
   },
   {
    "duration": 6,
    "start_time": "2022-03-20T05:50:33.636Z"
   },
   {
    "duration": 6,
    "start_time": "2022-03-20T05:50:46.200Z"
   },
   {
    "duration": 9,
    "start_time": "2022-03-20T05:51:06.654Z"
   },
   {
    "duration": 7,
    "start_time": "2022-03-20T05:51:34.435Z"
   },
   {
    "duration": 17,
    "start_time": "2022-03-20T05:52:08.890Z"
   },
   {
    "duration": 17,
    "start_time": "2022-03-20T05:52:10.910Z"
   },
   {
    "duration": 73,
    "start_time": "2022-03-20T05:52:28.534Z"
   },
   {
    "duration": 15,
    "start_time": "2022-03-20T05:52:28.609Z"
   },
   {
    "duration": 4,
    "start_time": "2022-03-20T05:52:28.625Z"
   },
   {
    "duration": 111,
    "start_time": "2022-03-20T05:52:28.630Z"
   },
   {
    "duration": 4,
    "start_time": "2022-03-20T05:52:28.743Z"
   },
   {
    "duration": 10,
    "start_time": "2022-03-20T05:52:28.749Z"
   },
   {
    "duration": 6,
    "start_time": "2022-03-20T05:52:28.761Z"
   },
   {
    "duration": 124,
    "start_time": "2022-03-20T05:52:28.768Z"
   },
   {
    "duration": 7,
    "start_time": "2022-03-20T05:52:28.900Z"
   },
   {
    "duration": 115,
    "start_time": "2022-03-20T05:52:28.910Z"
   },
   {
    "duration": 7,
    "start_time": "2022-03-20T05:52:29.027Z"
   },
   {
    "duration": 15,
    "start_time": "2022-03-20T05:52:29.035Z"
   },
   {
    "duration": 4,
    "start_time": "2022-03-20T05:52:29.051Z"
   },
   {
    "duration": 10,
    "start_time": "2022-03-20T05:52:29.057Z"
   },
   {
    "duration": 5,
    "start_time": "2022-03-20T05:52:29.069Z"
   },
   {
    "duration": 5,
    "start_time": "2022-03-20T05:52:29.102Z"
   },
   {
    "duration": 12,
    "start_time": "2022-03-20T05:52:29.109Z"
   },
   {
    "duration": 9,
    "start_time": "2022-03-20T05:52:29.122Z"
   },
   {
    "duration": 20,
    "start_time": "2022-03-20T05:52:36.344Z"
   },
   {
    "duration": 19,
    "start_time": "2022-03-20T05:53:08.198Z"
   },
   {
    "duration": 21,
    "start_time": "2022-03-20T05:53:09.018Z"
   },
   {
    "duration": 4,
    "start_time": "2022-03-20T05:53:32.011Z"
   },
   {
    "duration": 4,
    "start_time": "2022-03-20T05:53:36.960Z"
   },
   {
    "duration": 72,
    "start_time": "2022-03-20T05:54:21.592Z"
   },
   {
    "duration": 15,
    "start_time": "2022-03-20T05:54:21.667Z"
   },
   {
    "duration": 18,
    "start_time": "2022-03-20T05:54:21.684Z"
   },
   {
    "duration": 104,
    "start_time": "2022-03-20T05:54:21.704Z"
   },
   {
    "duration": 5,
    "start_time": "2022-03-20T05:54:21.810Z"
   },
   {
    "duration": 9,
    "start_time": "2022-03-20T05:54:21.817Z"
   },
   {
    "duration": 7,
    "start_time": "2022-03-20T05:54:21.828Z"
   },
   {
    "duration": 133,
    "start_time": "2022-03-20T05:54:21.837Z"
   },
   {
    "duration": 8,
    "start_time": "2022-03-20T05:54:21.972Z"
   },
   {
    "duration": 109,
    "start_time": "2022-03-20T05:54:22.001Z"
   },
   {
    "duration": 8,
    "start_time": "2022-03-20T05:54:22.111Z"
   },
   {
    "duration": 15,
    "start_time": "2022-03-20T05:54:22.121Z"
   },
   {
    "duration": 5,
    "start_time": "2022-03-20T05:54:22.138Z"
   },
   {
    "duration": 10,
    "start_time": "2022-03-20T05:54:22.145Z"
   },
   {
    "duration": 7,
    "start_time": "2022-03-20T05:54:22.157Z"
   },
   {
    "duration": 6,
    "start_time": "2022-03-20T05:54:22.202Z"
   },
   {
    "duration": 11,
    "start_time": "2022-03-20T05:54:22.209Z"
   },
   {
    "duration": 8,
    "start_time": "2022-03-20T05:54:22.222Z"
   },
   {
    "duration": 4,
    "start_time": "2022-03-20T05:54:22.231Z"
   },
   {
    "duration": 21,
    "start_time": "2022-03-20T05:54:22.236Z"
   },
   {
    "duration": 3,
    "start_time": "2022-03-20T05:54:22.259Z"
   },
   {
    "duration": 19,
    "start_time": "2022-03-20T05:54:29.232Z"
   },
   {
    "duration": 9,
    "start_time": "2022-03-20T05:54:33.565Z"
   },
   {
    "duration": 17,
    "start_time": "2022-03-20T05:54:39.673Z"
   },
   {
    "duration": 7,
    "start_time": "2022-03-20T05:54:44.525Z"
   },
   {
    "duration": 18,
    "start_time": "2022-03-20T05:56:28.270Z"
   },
   {
    "duration": 73,
    "start_time": "2022-03-20T05:57:08.698Z"
   },
   {
    "duration": 14,
    "start_time": "2022-03-20T05:57:08.773Z"
   },
   {
    "duration": 4,
    "start_time": "2022-03-20T05:57:08.801Z"
   },
   {
    "duration": 104,
    "start_time": "2022-03-20T05:57:08.807Z"
   },
   {
    "duration": 4,
    "start_time": "2022-03-20T05:57:08.913Z"
   },
   {
    "duration": 8,
    "start_time": "2022-03-20T05:57:08.919Z"
   },
   {
    "duration": 6,
    "start_time": "2022-03-20T05:57:08.929Z"
   },
   {
    "duration": 124,
    "start_time": "2022-03-20T05:57:08.937Z"
   },
   {
    "duration": 8,
    "start_time": "2022-03-20T05:57:09.062Z"
   },
   {
    "duration": 108,
    "start_time": "2022-03-20T05:57:09.072Z"
   },
   {
    "duration": 6,
    "start_time": "2022-03-20T05:57:09.181Z"
   },
   {
    "duration": 25,
    "start_time": "2022-03-20T05:57:09.188Z"
   },
   {
    "duration": 4,
    "start_time": "2022-03-20T05:57:09.214Z"
   },
   {
    "duration": 11,
    "start_time": "2022-03-20T05:57:09.220Z"
   },
   {
    "duration": 10,
    "start_time": "2022-03-20T05:57:09.233Z"
   },
   {
    "duration": 9,
    "start_time": "2022-03-20T05:57:09.244Z"
   },
   {
    "duration": 13,
    "start_time": "2022-03-20T05:57:09.254Z"
   },
   {
    "duration": 33,
    "start_time": "2022-03-20T05:57:09.269Z"
   },
   {
    "duration": 4,
    "start_time": "2022-03-20T05:57:09.304Z"
   },
   {
    "duration": 18,
    "start_time": "2022-03-20T05:57:09.310Z"
   },
   {
    "duration": 9,
    "start_time": "2022-03-20T05:57:09.329Z"
   },
   {
    "duration": 12,
    "start_time": "2022-03-20T05:57:09.339Z"
   },
   {
    "duration": 6,
    "start_time": "2022-03-20T05:57:09.352Z"
   },
   {
    "duration": 16,
    "start_time": "2022-03-20T05:57:11.466Z"
   },
   {
    "duration": 7,
    "start_time": "2022-03-20T05:57:21.678Z"
   },
   {
    "duration": 11,
    "start_time": "2022-03-20T05:57:32.948Z"
   },
   {
    "duration": 8,
    "start_time": "2022-03-20T05:57:42.272Z"
   },
   {
    "duration": 7,
    "start_time": "2022-03-20T05:57:42.545Z"
   },
   {
    "duration": 11,
    "start_time": "2022-03-20T05:57:42.787Z"
   },
   {
    "duration": 3,
    "start_time": "2022-03-20T05:57:48.559Z"
   },
   {
    "duration": 8,
    "start_time": "2022-03-20T05:57:48.723Z"
   },
   {
    "duration": 19,
    "start_time": "2022-03-20T05:57:48.894Z"
   },
   {
    "duration": 5,
    "start_time": "2022-03-20T05:57:49.204Z"
   },
   {
    "duration": 3,
    "start_time": "2022-03-20T05:57:50.442Z"
   },
   {
    "duration": 9,
    "start_time": "2022-03-20T05:57:50.447Z"
   },
   {
    "duration": 6,
    "start_time": "2022-03-20T05:57:50.457Z"
   },
   {
    "duration": 15,
    "start_time": "2022-03-20T05:57:50.465Z"
   },
   {
    "duration": 409,
    "start_time": "2022-03-20T05:57:54.809Z"
   },
   {
    "duration": 5,
    "start_time": "2022-03-20T05:57:59.426Z"
   },
   {
    "duration": 3,
    "start_time": "2022-03-20T05:58:03.845Z"
   },
   {
    "duration": 4,
    "start_time": "2022-03-20T05:58:09.617Z"
   },
   {
    "duration": 333,
    "start_time": "2022-03-20T05:58:11.175Z"
   },
   {
    "duration": 24,
    "start_time": "2022-03-20T05:59:54.907Z"
   },
   {
    "duration": 10,
    "start_time": "2022-03-20T06:02:13.258Z"
   },
   {
    "duration": 17,
    "start_time": "2022-03-20T06:02:27.877Z"
   },
   {
    "duration": 112,
    "start_time": "2022-03-20T06:03:35.474Z"
   },
   {
    "duration": 122,
    "start_time": "2022-03-20T06:03:37.085Z"
   },
   {
    "duration": 19,
    "start_time": "2022-03-20T06:03:43.251Z"
   },
   {
    "duration": 81,
    "start_time": "2022-03-20T06:03:57.689Z"
   },
   {
    "duration": 14,
    "start_time": "2022-03-20T06:03:57.772Z"
   },
   {
    "duration": 3,
    "start_time": "2022-03-20T06:03:57.787Z"
   },
   {
    "duration": 84,
    "start_time": "2022-03-20T06:03:57.802Z"
   },
   {
    "duration": 16,
    "start_time": "2022-03-20T06:03:57.888Z"
   },
   {
    "duration": 7,
    "start_time": "2022-03-20T06:03:57.906Z"
   },
   {
    "duration": 6,
    "start_time": "2022-03-20T06:03:57.915Z"
   },
   {
    "duration": 123,
    "start_time": "2022-03-20T06:03:57.922Z"
   },
   {
    "duration": 9,
    "start_time": "2022-03-20T06:03:58.047Z"
   },
   {
    "duration": 112,
    "start_time": "2022-03-20T06:03:58.059Z"
   },
   {
    "duration": 8,
    "start_time": "2022-03-20T06:03:58.173Z"
   },
   {
    "duration": 31,
    "start_time": "2022-03-20T06:03:58.182Z"
   },
   {
    "duration": 4,
    "start_time": "2022-03-20T06:03:58.214Z"
   },
   {
    "duration": 10,
    "start_time": "2022-03-20T06:03:58.220Z"
   },
   {
    "duration": 5,
    "start_time": "2022-03-20T06:03:58.232Z"
   },
   {
    "duration": 6,
    "start_time": "2022-03-20T06:03:58.238Z"
   },
   {
    "duration": 13,
    "start_time": "2022-03-20T06:03:58.246Z"
   },
   {
    "duration": 8,
    "start_time": "2022-03-20T06:03:58.261Z"
   },
   {
    "duration": 32,
    "start_time": "2022-03-20T06:03:58.270Z"
   },
   {
    "duration": 21,
    "start_time": "2022-03-20T06:03:58.304Z"
   },
   {
    "duration": 8,
    "start_time": "2022-03-20T06:03:58.327Z"
   },
   {
    "duration": 11,
    "start_time": "2022-03-20T06:03:58.337Z"
   },
   {
    "duration": 7,
    "start_time": "2022-03-20T06:03:58.349Z"
   },
   {
    "duration": 47,
    "start_time": "2022-03-20T06:03:58.357Z"
   },
   {
    "duration": 11,
    "start_time": "2022-03-20T06:03:58.405Z"
   },
   {
    "duration": 8,
    "start_time": "2022-03-20T06:03:58.418Z"
   },
   {
    "duration": 8,
    "start_time": "2022-03-20T06:03:58.428Z"
   },
   {
    "duration": 11,
    "start_time": "2022-03-20T06:03:58.440Z"
   },
   {
    "duration": 6,
    "start_time": "2022-03-20T06:03:58.453Z"
   },
   {
    "duration": 17,
    "start_time": "2022-03-20T06:03:58.460Z"
   },
   {
    "duration": 36,
    "start_time": "2022-03-20T06:03:58.478Z"
   },
   {
    "duration": 5,
    "start_time": "2022-03-20T06:03:58.515Z"
   },
   {
    "duration": 6,
    "start_time": "2022-03-20T06:03:58.521Z"
   },
   {
    "duration": 12,
    "start_time": "2022-03-20T06:03:58.528Z"
   },
   {
    "duration": 10,
    "start_time": "2022-03-20T06:03:58.541Z"
   },
   {
    "duration": 15,
    "start_time": "2022-03-20T06:03:58.552Z"
   },
   {
    "duration": 6,
    "start_time": "2022-03-20T06:03:58.569Z"
   },
   {
    "duration": 25,
    "start_time": "2022-03-20T06:03:58.576Z"
   },
   {
    "duration": 4,
    "start_time": "2022-03-20T06:03:58.602Z"
   },
   {
    "duration": 355,
    "start_time": "2022-03-20T06:03:58.607Z"
   },
   {
    "duration": 25,
    "start_time": "2022-03-20T06:03:58.963Z"
   },
   {
    "duration": 20,
    "start_time": "2022-03-20T06:03:58.989Z"
   },
   {
    "duration": 16,
    "start_time": "2022-03-20T06:03:59.010Z"
   },
   {
    "duration": 137,
    "start_time": "2022-03-20T06:03:59.027Z"
   },
   {
    "duration": 118,
    "start_time": "2022-03-20T06:03:59.165Z"
   },
   {
    "duration": 29,
    "start_time": "2022-03-20T06:04:01.069Z"
   },
   {
    "duration": 39,
    "start_time": "2022-03-20T06:04:47.178Z"
   },
   {
    "duration": 12,
    "start_time": "2022-03-20T06:04:50.498Z"
   },
   {
    "duration": 8,
    "start_time": "2022-03-20T06:06:13.136Z"
   },
   {
    "duration": 10,
    "start_time": "2022-03-20T06:06:17.183Z"
   },
   {
    "duration": 7,
    "start_time": "2022-03-20T06:07:17.475Z"
   },
   {
    "duration": 14,
    "start_time": "2022-03-20T06:09:33.461Z"
   },
   {
    "duration": 8,
    "start_time": "2022-03-20T06:09:36.689Z"
   },
   {
    "duration": 6,
    "start_time": "2022-03-20T06:09:47.150Z"
   },
   {
    "duration": 5,
    "start_time": "2022-03-20T06:09:51.437Z"
   },
   {
    "duration": 5,
    "start_time": "2022-03-20T06:10:02.103Z"
   },
   {
    "duration": 4,
    "start_time": "2022-03-20T06:10:05.565Z"
   },
   {
    "duration": 3,
    "start_time": "2022-03-20T06:10:09.101Z"
   },
   {
    "duration": 8,
    "start_time": "2022-03-20T06:10:12.974Z"
   },
   {
    "duration": 8,
    "start_time": "2022-03-20T06:10:46.304Z"
   },
   {
    "duration": 104,
    "start_time": "2022-03-20T06:10:49.855Z"
   },
   {
    "duration": 104,
    "start_time": "2022-03-20T06:10:52.158Z"
   },
   {
    "duration": 21,
    "start_time": "2022-03-20T06:11:59.074Z"
   },
   {
    "duration": 120,
    "start_time": "2022-03-20T06:12:01.759Z"
   },
   {
    "duration": 190,
    "start_time": "2022-03-20T06:12:03.621Z"
   },
   {
    "duration": 7,
    "start_time": "2022-03-20T06:15:33.536Z"
   },
   {
    "duration": 7,
    "start_time": "2022-03-20T06:18:33.183Z"
   },
   {
    "duration": 4,
    "start_time": "2022-03-20T06:18:47.049Z"
   },
   {
    "duration": 5,
    "start_time": "2022-03-20T06:18:59.464Z"
   },
   {
    "duration": 8,
    "start_time": "2022-03-20T06:19:06.562Z"
   },
   {
    "duration": 4,
    "start_time": "2022-03-20T06:19:56.699Z"
   },
   {
    "duration": 8,
    "start_time": "2022-03-20T06:20:01.320Z"
   },
   {
    "duration": 5,
    "start_time": "2022-03-20T06:22:35.884Z"
   },
   {
    "duration": 9,
    "start_time": "2022-03-20T06:22:36.430Z"
   },
   {
    "duration": 9,
    "start_time": "2022-03-20T06:24:50.197Z"
   },
   {
    "duration": 102,
    "start_time": "2022-03-20T06:24:57.277Z"
   },
   {
    "duration": 102,
    "start_time": "2022-03-20T06:25:42.067Z"
   },
   {
    "duration": 7,
    "start_time": "2022-03-20T06:30:24.257Z"
   },
   {
    "duration": 9,
    "start_time": "2022-03-20T06:31:18.558Z"
   },
   {
    "duration": 112,
    "start_time": "2022-03-20T06:31:54.091Z"
   },
   {
    "duration": 121,
    "start_time": "2022-03-20T06:32:00.781Z"
   },
   {
    "duration": 111,
    "start_time": "2022-03-20T06:32:22.313Z"
   },
   {
    "duration": 113,
    "start_time": "2022-03-20T06:32:27.656Z"
   },
   {
    "duration": 127,
    "start_time": "2022-03-20T06:32:32.086Z"
   },
   {
    "duration": 115,
    "start_time": "2022-03-20T06:32:41.467Z"
   },
   {
    "duration": 406,
    "start_time": "2022-03-20T06:32:45.834Z"
   },
   {
    "duration": 124,
    "start_time": "2022-03-20T06:32:52.583Z"
   },
   {
    "duration": 189,
    "start_time": "2022-03-20T06:45:01.485Z"
   },
   {
    "duration": 80,
    "start_time": "2022-03-20T06:45:02.074Z"
   },
   {
    "duration": 15,
    "start_time": "2022-03-20T06:45:02.466Z"
   },
   {
    "duration": 4,
    "start_time": "2022-03-20T06:45:02.858Z"
   },
   {
    "duration": 89,
    "start_time": "2022-03-20T06:45:03.681Z"
   },
   {
    "duration": 5,
    "start_time": "2022-03-20T06:45:03.907Z"
   },
   {
    "duration": 8,
    "start_time": "2022-03-20T06:45:10.729Z"
   },
   {
    "duration": 7,
    "start_time": "2022-03-20T06:45:10.984Z"
   },
   {
    "duration": 98,
    "start_time": "2022-03-20T06:45:11.357Z"
   },
   {
    "duration": 7,
    "start_time": "2022-03-20T06:45:11.768Z"
   },
   {
    "duration": 98,
    "start_time": "2022-03-20T06:45:12.143Z"
   },
   {
    "duration": 7,
    "start_time": "2022-03-20T06:45:12.340Z"
   },
   {
    "duration": 15,
    "start_time": "2022-03-20T06:45:12.719Z"
   },
   {
    "duration": 4,
    "start_time": "2022-03-20T06:45:15.673Z"
   },
   {
    "duration": 10,
    "start_time": "2022-03-20T06:45:15.879Z"
   },
   {
    "duration": 5,
    "start_time": "2022-03-20T06:45:16.447Z"
   },
   {
    "duration": 5,
    "start_time": "2022-03-20T06:45:16.869Z"
   },
   {
    "duration": 9,
    "start_time": "2022-03-20T06:45:17.056Z"
   },
   {
    "duration": 7,
    "start_time": "2022-03-20T06:45:17.802Z"
   },
   {
    "duration": 3,
    "start_time": "2022-03-20T06:45:18.573Z"
   },
   {
    "duration": 19,
    "start_time": "2022-03-20T06:45:18.914Z"
   },
   {
    "duration": 9,
    "start_time": "2022-03-20T06:45:19.087Z"
   },
   {
    "duration": 13,
    "start_time": "2022-03-20T06:45:19.450Z"
   },
   {
    "duration": 6,
    "start_time": "2022-03-20T06:45:19.620Z"
   },
   {
    "duration": 19,
    "start_time": "2022-03-20T06:45:20.139Z"
   },
   {
    "duration": 11,
    "start_time": "2022-03-20T06:45:22.339Z"
   },
   {
    "duration": 8,
    "start_time": "2022-03-20T06:45:23.779Z"
   },
   {
    "duration": 8,
    "start_time": "2022-03-20T06:45:23.969Z"
   },
   {
    "duration": 13,
    "start_time": "2022-03-20T06:45:24.171Z"
   },
   {
    "duration": 3,
    "start_time": "2022-03-20T06:45:24.732Z"
   },
   {
    "duration": 8,
    "start_time": "2022-03-20T06:45:24.909Z"
   },
   {
    "duration": 19,
    "start_time": "2022-03-20T06:45:25.095Z"
   },
   {
    "duration": 5,
    "start_time": "2022-03-20T06:45:25.447Z"
   },
   {
    "duration": 4,
    "start_time": "2022-03-20T06:45:25.609Z"
   },
   {
    "duration": 7,
    "start_time": "2022-03-20T06:45:25.810Z"
   },
   {
    "duration": 8,
    "start_time": "2022-03-20T06:45:25.963Z"
   },
   {
    "duration": 16,
    "start_time": "2022-03-20T06:45:26.135Z"
   },
   {
    "duration": 3,
    "start_time": "2022-03-20T06:45:26.642Z"
   },
   {
    "duration": 6,
    "start_time": "2022-03-20T06:45:27.141Z"
   },
   {
    "duration": 3,
    "start_time": "2022-03-20T06:45:27.316Z"
   },
   {
    "duration": 345,
    "start_time": "2022-03-20T06:45:27.491Z"
   },
   {
    "duration": 24,
    "start_time": "2022-03-20T06:45:28.012Z"
   },
   {
    "duration": 11,
    "start_time": "2022-03-20T06:45:28.845Z"
   },
   {
    "duration": 19,
    "start_time": "2022-03-20T06:45:29.012Z"
   },
   {
    "duration": 117,
    "start_time": "2022-03-20T06:45:29.517Z"
   },
   {
    "duration": 114,
    "start_time": "2022-03-20T06:45:29.684Z"
   },
   {
    "duration": 21,
    "start_time": "2022-03-20T06:45:52.938Z"
   },
   {
    "duration": 13,
    "start_time": "2022-03-20T06:45:53.474Z"
   },
   {
    "duration": 9,
    "start_time": "2022-03-20T06:45:53.612Z"
   },
   {
    "duration": 108,
    "start_time": "2022-03-20T06:45:53.810Z"
   },
   {
    "duration": 107,
    "start_time": "2022-03-20T06:45:53.958Z"
   },
   {
    "duration": 5,
    "start_time": "2022-03-20T06:46:16.703Z"
   },
   {
    "duration": 195,
    "start_time": "2022-03-20T06:50:19.092Z"
   },
   {
    "duration": 0,
    "start_time": "2022-03-20T06:50:19.290Z"
   },
   {
    "duration": 0,
    "start_time": "2022-03-20T06:50:19.291Z"
   },
   {
    "duration": 0,
    "start_time": "2022-03-20T06:50:19.292Z"
   },
   {
    "duration": 0,
    "start_time": "2022-03-20T06:50:19.293Z"
   },
   {
    "duration": 0,
    "start_time": "2022-03-20T06:50:19.294Z"
   },
   {
    "duration": 0,
    "start_time": "2022-03-20T06:50:19.295Z"
   },
   {
    "duration": 0,
    "start_time": "2022-03-20T06:50:19.296Z"
   },
   {
    "duration": 0,
    "start_time": "2022-03-20T06:50:19.297Z"
   },
   {
    "duration": 0,
    "start_time": "2022-03-20T06:50:19.298Z"
   },
   {
    "duration": 0,
    "start_time": "2022-03-20T06:50:19.299Z"
   },
   {
    "duration": 0,
    "start_time": "2022-03-20T06:50:19.300Z"
   },
   {
    "duration": 0,
    "start_time": "2022-03-20T06:50:19.300Z"
   },
   {
    "duration": 0,
    "start_time": "2022-03-20T06:50:19.301Z"
   },
   {
    "duration": 0,
    "start_time": "2022-03-20T06:50:19.302Z"
   },
   {
    "duration": 0,
    "start_time": "2022-03-20T06:50:19.303Z"
   },
   {
    "duration": 0,
    "start_time": "2022-03-20T06:50:19.304Z"
   },
   {
    "duration": 0,
    "start_time": "2022-03-20T06:50:19.305Z"
   },
   {
    "duration": 0,
    "start_time": "2022-03-20T06:50:19.306Z"
   },
   {
    "duration": 0,
    "start_time": "2022-03-20T06:50:19.307Z"
   },
   {
    "duration": 0,
    "start_time": "2022-03-20T06:50:19.308Z"
   },
   {
    "duration": 0,
    "start_time": "2022-03-20T06:50:19.308Z"
   },
   {
    "duration": 0,
    "start_time": "2022-03-20T06:50:19.309Z"
   },
   {
    "duration": 0,
    "start_time": "2022-03-20T06:50:19.310Z"
   },
   {
    "duration": 0,
    "start_time": "2022-03-20T06:50:19.311Z"
   },
   {
    "duration": 0,
    "start_time": "2022-03-20T06:50:19.312Z"
   },
   {
    "duration": 0,
    "start_time": "2022-03-20T06:50:19.313Z"
   },
   {
    "duration": 0,
    "start_time": "2022-03-20T06:50:19.314Z"
   },
   {
    "duration": 0,
    "start_time": "2022-03-20T06:50:19.315Z"
   },
   {
    "duration": 0,
    "start_time": "2022-03-20T06:50:19.316Z"
   },
   {
    "duration": 0,
    "start_time": "2022-03-20T06:50:19.317Z"
   },
   {
    "duration": 0,
    "start_time": "2022-03-20T06:50:19.318Z"
   },
   {
    "duration": 0,
    "start_time": "2022-03-20T06:50:19.319Z"
   },
   {
    "duration": 0,
    "start_time": "2022-03-20T06:50:19.320Z"
   },
   {
    "duration": 0,
    "start_time": "2022-03-20T06:50:19.321Z"
   },
   {
    "duration": 0,
    "start_time": "2022-03-20T06:50:19.322Z"
   },
   {
    "duration": 0,
    "start_time": "2022-03-20T06:50:19.323Z"
   },
   {
    "duration": 0,
    "start_time": "2022-03-20T06:50:19.324Z"
   },
   {
    "duration": 0,
    "start_time": "2022-03-20T06:50:19.325Z"
   },
   {
    "duration": 0,
    "start_time": "2022-03-20T06:50:19.326Z"
   },
   {
    "duration": 0,
    "start_time": "2022-03-20T06:50:19.327Z"
   },
   {
    "duration": 0,
    "start_time": "2022-03-20T06:50:19.328Z"
   },
   {
    "duration": 0,
    "start_time": "2022-03-20T06:50:19.329Z"
   },
   {
    "duration": 0,
    "start_time": "2022-03-20T06:50:19.330Z"
   },
   {
    "duration": 0,
    "start_time": "2022-03-20T06:50:19.331Z"
   },
   {
    "duration": 0,
    "start_time": "2022-03-20T06:50:19.332Z"
   },
   {
    "duration": 0,
    "start_time": "2022-03-20T06:50:19.333Z"
   },
   {
    "duration": 0,
    "start_time": "2022-03-20T06:50:19.334Z"
   },
   {
    "duration": 0,
    "start_time": "2022-03-20T06:50:19.335Z"
   },
   {
    "duration": 0,
    "start_time": "2022-03-20T06:50:19.336Z"
   },
   {
    "duration": 0,
    "start_time": "2022-03-20T06:50:19.337Z"
   },
   {
    "duration": 0,
    "start_time": "2022-03-20T06:50:19.338Z"
   },
   {
    "duration": 0,
    "start_time": "2022-03-20T06:50:19.339Z"
   },
   {
    "duration": 0,
    "start_time": "2022-03-20T06:50:19.340Z"
   },
   {
    "duration": 0,
    "start_time": "2022-03-20T06:50:19.341Z"
   },
   {
    "duration": 0,
    "start_time": "2022-03-20T06:50:19.401Z"
   },
   {
    "duration": 0,
    "start_time": "2022-03-20T06:50:19.402Z"
   },
   {
    "duration": 0,
    "start_time": "2022-03-20T06:50:19.403Z"
   },
   {
    "duration": 0,
    "start_time": "2022-03-20T06:50:19.403Z"
   },
   {
    "duration": 87,
    "start_time": "2022-03-20T06:50:45.761Z"
   },
   {
    "duration": 14,
    "start_time": "2022-03-20T06:50:45.849Z"
   },
   {
    "duration": 3,
    "start_time": "2022-03-20T06:50:45.865Z"
   },
   {
    "duration": 112,
    "start_time": "2022-03-20T06:50:45.870Z"
   },
   {
    "duration": 17,
    "start_time": "2022-03-20T06:50:45.984Z"
   },
   {
    "duration": 8,
    "start_time": "2022-03-20T06:50:46.003Z"
   },
   {
    "duration": 6,
    "start_time": "2022-03-20T06:50:46.013Z"
   },
   {
    "duration": 121,
    "start_time": "2022-03-20T06:50:46.021Z"
   },
   {
    "duration": 7,
    "start_time": "2022-03-20T06:50:46.143Z"
   },
   {
    "duration": 113,
    "start_time": "2022-03-20T06:50:46.152Z"
   },
   {
    "duration": 6,
    "start_time": "2022-03-20T06:50:46.267Z"
   },
   {
    "duration": 28,
    "start_time": "2022-03-20T06:50:46.275Z"
   },
   {
    "duration": 5,
    "start_time": "2022-03-20T06:50:46.305Z"
   },
   {
    "duration": 10,
    "start_time": "2022-03-20T06:50:46.314Z"
   },
   {
    "duration": 5,
    "start_time": "2022-03-20T06:50:46.326Z"
   },
   {
    "duration": 6,
    "start_time": "2022-03-20T06:50:46.333Z"
   },
   {
    "duration": 9,
    "start_time": "2022-03-20T06:50:46.340Z"
   },
   {
    "duration": 7,
    "start_time": "2022-03-20T06:50:46.351Z"
   },
   {
    "duration": 3,
    "start_time": "2022-03-20T06:50:46.402Z"
   },
   {
    "duration": 22,
    "start_time": "2022-03-20T06:50:46.407Z"
   },
   {
    "duration": 8,
    "start_time": "2022-03-20T06:50:46.430Z"
   },
   {
    "duration": 12,
    "start_time": "2022-03-20T06:50:46.439Z"
   },
   {
    "duration": 5,
    "start_time": "2022-03-20T06:50:46.453Z"
   },
   {
    "duration": 45,
    "start_time": "2022-03-20T06:50:46.460Z"
   },
   {
    "duration": 10,
    "start_time": "2022-03-20T06:50:46.507Z"
   },
   {
    "duration": 7,
    "start_time": "2022-03-20T06:50:46.519Z"
   },
   {
    "duration": 7,
    "start_time": "2022-03-20T06:50:46.528Z"
   },
   {
    "duration": 13,
    "start_time": "2022-03-20T06:50:46.536Z"
   },
   {
    "duration": 9,
    "start_time": "2022-03-20T06:50:46.551Z"
   },
   {
    "duration": 12,
    "start_time": "2022-03-20T06:50:46.562Z"
   },
   {
    "duration": 38,
    "start_time": "2022-03-20T06:50:46.576Z"
   },
   {
    "duration": 4,
    "start_time": "2022-03-20T06:50:46.615Z"
   },
   {
    "duration": 3,
    "start_time": "2022-03-20T06:50:46.621Z"
   },
   {
    "duration": 11,
    "start_time": "2022-03-20T06:50:46.625Z"
   },
   {
    "duration": 9,
    "start_time": "2022-03-20T06:50:46.637Z"
   },
   {
    "duration": 15,
    "start_time": "2022-03-20T06:50:46.648Z"
   },
   {
    "duration": 7,
    "start_time": "2022-03-20T06:50:46.664Z"
   },
   {
    "duration": 10,
    "start_time": "2022-03-20T06:50:46.672Z"
   },
   {
    "duration": 18,
    "start_time": "2022-03-20T06:50:46.683Z"
   },
   {
    "duration": 347,
    "start_time": "2022-03-20T06:50:46.702Z"
   },
   {
    "duration": 24,
    "start_time": "2022-03-20T06:50:47.053Z"
   },
   {
    "duration": 23,
    "start_time": "2022-03-20T06:50:47.079Z"
   },
   {
    "duration": 17,
    "start_time": "2022-03-20T06:50:47.103Z"
   },
   {
    "duration": 134,
    "start_time": "2022-03-20T06:50:47.121Z"
   },
   {
    "duration": 114,
    "start_time": "2022-03-20T06:50:47.257Z"
   },
   {
    "duration": 29,
    "start_time": "2022-03-20T06:50:47.373Z"
   },
   {
    "duration": 13,
    "start_time": "2022-03-20T06:50:47.403Z"
   },
   {
    "duration": 8,
    "start_time": "2022-03-20T06:50:47.417Z"
   },
   {
    "duration": 117,
    "start_time": "2022-03-20T06:50:47.426Z"
   },
   {
    "duration": 112,
    "start_time": "2022-03-20T06:50:47.545Z"
   },
   {
    "duration": 4,
    "start_time": "2022-03-20T06:50:47.659Z"
   },
   {
    "duration": 10,
    "start_time": "2022-03-20T06:50:47.665Z"
   },
   {
    "duration": 112,
    "start_time": "2022-03-20T06:50:47.676Z"
   },
   {
    "duration": 24,
    "start_time": "2022-03-20T06:50:47.790Z"
   },
   {
    "duration": 135,
    "start_time": "2022-03-20T06:50:47.816Z"
   },
   {
    "duration": 123,
    "start_time": "2022-03-20T06:50:47.952Z"
   },
   {
    "duration": 9,
    "start_time": "2022-03-20T06:50:48.077Z"
   },
   {
    "duration": 140,
    "start_time": "2022-03-20T06:50:48.088Z"
   },
   {
    "duration": 540,
    "start_time": "2022-03-20T08:21:48.883Z"
   },
   {
    "duration": 16,
    "start_time": "2022-03-20T08:21:51.486Z"
   },
   {
    "duration": 4,
    "start_time": "2022-03-20T08:21:54.439Z"
   },
   {
    "duration": 353,
    "start_time": "2022-03-20T08:21:55.436Z"
   },
   {
    "duration": 5,
    "start_time": "2022-03-20T08:21:57.737Z"
   },
   {
    "duration": 74,
    "start_time": "2022-03-20T08:22:18.734Z"
   },
   {
    "duration": 22,
    "start_time": "2022-03-20T08:22:23.301Z"
   },
   {
    "duration": 23,
    "start_time": "2022-03-20T08:23:00.071Z"
   },
   {
    "duration": 21,
    "start_time": "2022-03-20T08:23:19.194Z"
   },
   {
    "duration": 5,
    "start_time": "2022-03-20T08:23:59.241Z"
   },
   {
    "duration": 7,
    "start_time": "2022-03-20T08:27:33.845Z"
   },
   {
    "duration": 11,
    "start_time": "2022-03-20T08:27:47.466Z"
   },
   {
    "duration": 13,
    "start_time": "2022-03-20T08:27:53.174Z"
   },
   {
    "duration": 8,
    "start_time": "2022-03-20T08:27:54.288Z"
   },
   {
    "duration": 8,
    "start_time": "2022-03-20T08:27:54.484Z"
   },
   {
    "duration": 13,
    "start_time": "2022-03-20T08:27:54.739Z"
   },
   {
    "duration": 3,
    "start_time": "2022-03-20T08:27:55.209Z"
   },
   {
    "duration": 12,
    "start_time": "2022-03-20T08:27:55.346Z"
   },
   {
    "duration": 21,
    "start_time": "2022-03-20T08:27:55.542Z"
   },
   {
    "duration": 6,
    "start_time": "2022-03-20T08:27:55.911Z"
   },
   {
    "duration": 3,
    "start_time": "2022-03-20T08:27:56.035Z"
   },
   {
    "duration": 8,
    "start_time": "2022-03-20T08:27:56.197Z"
   },
   {
    "duration": 8,
    "start_time": "2022-03-20T08:27:56.359Z"
   },
   {
    "duration": 18,
    "start_time": "2022-03-20T08:27:56.550Z"
   },
   {
    "duration": 494,
    "start_time": "2022-03-20T08:27:57.049Z"
   },
   {
    "duration": 7,
    "start_time": "2022-03-20T08:27:57.731Z"
   },
   {
    "duration": 4,
    "start_time": "2022-03-20T08:27:57.889Z"
   },
   {
    "duration": 451,
    "start_time": "2022-03-20T08:27:58.097Z"
   },
   {
    "duration": 26,
    "start_time": "2022-03-20T08:28:15.660Z"
   },
   {
    "duration": 13,
    "start_time": "2022-03-20T08:28:19.458Z"
   },
   {
    "duration": 16,
    "start_time": "2022-03-20T08:28:22.230Z"
   },
   {
    "duration": 127,
    "start_time": "2022-03-20T08:28:22.248Z"
   },
   {
    "duration": 118,
    "start_time": "2022-03-20T08:28:22.377Z"
   },
   {
    "duration": 21,
    "start_time": "2022-03-20T08:28:22.497Z"
   },
   {
    "duration": 16,
    "start_time": "2022-03-20T08:28:27.356Z"
   },
   {
    "duration": 7,
    "start_time": "2022-03-20T08:28:27.531Z"
   },
   {
    "duration": 124,
    "start_time": "2022-03-20T08:28:27.733Z"
   },
   {
    "duration": 115,
    "start_time": "2022-03-20T08:28:27.903Z"
   },
   {
    "duration": 5,
    "start_time": "2022-03-20T08:28:30.498Z"
   },
   {
    "duration": 8,
    "start_time": "2022-03-20T08:28:32.343Z"
   },
   {
    "duration": 107,
    "start_time": "2022-03-20T08:28:33.849Z"
   },
   {
    "duration": 120,
    "start_time": "2022-03-20T08:28:36.373Z"
   },
   {
    "duration": 21,
    "start_time": "2022-03-20T08:32:11.909Z"
   },
   {
    "duration": 117,
    "start_time": "2022-03-20T08:32:18.875Z"
   },
   {
    "duration": 201,
    "start_time": "2022-03-20T08:32:27.059Z"
   },
   {
    "duration": 9,
    "start_time": "2022-03-20T08:32:40.977Z"
   },
   {
    "duration": 120,
    "start_time": "2022-03-20T08:32:42.557Z"
   },
   {
    "duration": 111,
    "start_time": "2022-03-20T08:33:13.757Z"
   }
  ],
  "kernelspec": {
   "display_name": "Python 3",
   "language": "python",
   "name": "python3"
  },
  "language_info": {
   "codemirror_mode": {
    "name": "ipython",
    "version": 3
   },
   "file_extension": ".py",
   "mimetype": "text/x-python",
   "name": "python",
   "nbconvert_exporter": "python",
   "pygments_lexer": "ipython3",
   "version": "3.8.8"
  },
  "toc": {
   "base_numbering": 1,
   "nav_menu": {},
   "number_sections": true,
   "sideBar": true,
   "skip_h1_title": true,
   "title_cell": "Table of Contents",
   "title_sidebar": "Contents",
   "toc_cell": false,
   "toc_position": {
    "height": "calc(100% - 180px)",
    "left": "10px",
    "top": "150px",
    "width": "261.3px"
   },
   "toc_section_display": true,
   "toc_window_display": true
  }
 },
 "nbformat": 4,
 "nbformat_minor": 5
}
