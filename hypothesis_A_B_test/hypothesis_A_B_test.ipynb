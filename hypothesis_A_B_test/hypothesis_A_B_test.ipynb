{
 "cells": [
  {
   "cell_type": "markdown",
   "metadata": {},
   "source": [
    "\n",
    "# Описание проекта\n",
    "\n",
    "Вы — аналитик крупного интернет-магазина. Вместе с отделом маркетинга вы подготовили список гипотез для увеличения выручки.\n",
    "\n",
    "Приоритизируйте гипотезы, запустите A/B-тест и проанализируйте результаты.\n",
    "\n",
    "\n",
    "# Описание файла с гипотезами : \n",
    "- `Hypothesis` — краткое описание гипотезы;\n",
    "- `Reach` — охват пользователей по 10-балльной шкале;\n",
    "- `Impact` — влияние на пользователей по 10-балльной шкале;\n",
    "- `Confidence` — уверенность в гипотезе по 10-балльной шкале;\n",
    "- `Efforts` — затраты ресурсов на проверку гипотезы по 10-балльной шкале. Чем больше значение `Efforts`, тем дороже проверка гипотезы.\n",
    "\n",
    "\n",
    "# Описание заказов:\n",
    "- `transactionId` — идентификатор заказа;\n",
    "- `visitorId` — идентификатор пользователя, совершившего заказ;\n",
    "- `date` — дата, когда был совершён заказ;\n",
    "- `revenue` — выручка заказа;\n",
    "- `group` — группа A/B-теста, в которую попал заказ.\n",
    "\n",
    "\n",
    "# Описание пользовательского датасета:\n",
    "- `date` — дата;\n",
    "- `group` — группа A/B-теста;\n",
    "- `visitors` — количество пользователей в указанную дату в указанной группе A/B-теста\n",
    "\n",
    "\n",
    "\n",
    "# Ход работы: \n",
    "\n",
    "1. Предобработка данных\n",
    "2. Приоритизация гипотез.\n",
    "\n",
    "    - У нас есть 9 гипотез по увеличению выручки интернет-магазина с указанными параметрами `Reach`, `Impact`, `Confidence`, `Effort`.\n",
    "\n",
    "**Задача**\n",
    "\n",
    "    - Применим фреймворки `ICE`  и `RICE` для приоритизации гипотез. Отсортируем их по убыванию приоритета.\n",
    "    - Посмотрим, как изменилась приоритизация гипотез при применении `RICE` вместо `ICE`.\n",
    "\n",
    "\n",
    "3. Анализ A/B-теста\n",
    "\n",
    "    - Мы провели A/B-тест и получили результаты, которые описаны в файлах orders.csv и visitors.csv\n",
    "\n",
    "**Задача**\n",
    "\n",
    "Проанализируем A/B-тест:\n",
    "\n",
    "1. Построим график кумулятивной выручки по группам. \n",
    "2. Построим график кумулятивного среднего чека по группам. \n",
    "3. Построим график относительного изменения кумулятивного среднего чека группы B к группе A. \n",
    "4. Построим график кумулятивной конверсии по группам.\n",
    "5. Построим график относительного изменения кумулятивной конверсии группы B к группе A. \n",
    "6. Построим точечный график количества заказов по пользователям. \n",
    "\n",
    "**сделаем выводы и предположения**\n",
    "\n",
    "7. Посчитаем 95-й и 99-й перцентили количества заказов на пользователя. Выберем границу для определения аномальных пользователей.\n",
    "8. Построим точечный график стоимостей заказов. \n",
    "9. Посчитаем 95-й и 99-й перцентили стоимости заказов. Также выберем границу аномалий\n",
    "10. Посчитаем статистическую значимость различий в конверсии между группами по «сырым» данным\n",
    "11. Посчитаем статистическую значимость различий в среднем чеке заказа между группами по «сырым» данным. \n",
    "12. Посчитаем статистическую значимость различий в конверсии между группами по «очищенным» данным. \n",
    "13. Посчитаем статистическую значимость различий в среднем чеке заказа между группами по «очищенным» данным.\n",
    "\n",
    "14. Примем решение по результатам теста. \n",
    "\n",
    "    - Варианты решений: \n",
    "    1. Остановить тест, зафиксировать победу одной из групп. \n",
    "    \n",
    "    2. Остановить тест, зафиксировать отсутствие различий между группами. \n",
    "    \n",
    "    3. Продолжить тест."
   ]
  },
  {
   "cell_type": "markdown",
   "metadata": {},
   "source": [
    "## Предобработка данных"
   ]
  },
  {
   "cell_type": "code",
   "execution_count": 25,
   "metadata": {},
   "outputs": [],
   "source": [
    "import pandas as pd\n",
    "from matplotlib import pyplot as plt\n",
    "import seaborn as sns\n",
    "import numpy as np\n",
    "from scipy import stats as st\n"
   ]
  },
  {
   "cell_type": "code",
   "execution_count": 26,
   "metadata": {},
   "outputs": [
    {
     "name": "stdout",
     "output_type": "stream",
     "text": [
      "<class 'pandas.core.frame.DataFrame'>\n",
      "RangeIndex: 9 entries, 0 to 8\n",
      "Data columns (total 5 columns):\n",
      " #   Column      Non-Null Count  Dtype \n",
      "---  ------      --------------  ----- \n",
      " 0   Hypothesis  9 non-null      object\n",
      " 1   Reach       9 non-null      int64 \n",
      " 2   Impact      9 non-null      int64 \n",
      " 3   Confidence  9 non-null      int64 \n",
      " 4   Efforts     9 non-null      int64 \n",
      "dtypes: int64(4), object(1)\n",
      "memory usage: 488.0+ bytes\n"
     ]
    },
    {
     "data": {
      "text/plain": [
       "None"
      ]
     },
     "metadata": {},
     "output_type": "display_data"
    },
    {
     "name": "stdout",
     "output_type": "stream",
     "text": [
      "<class 'pandas.core.frame.DataFrame'>\n",
      "RangeIndex: 62 entries, 0 to 61\n",
      "Data columns (total 3 columns):\n",
      " #   Column    Non-Null Count  Dtype \n",
      "---  ------    --------------  ----- \n",
      " 0   date      62 non-null     object\n",
      " 1   group     62 non-null     object\n",
      " 2   visitors  62 non-null     int64 \n",
      "dtypes: int64(1), object(2)\n",
      "memory usage: 1.6+ KB\n"
     ]
    }
   ],
   "source": [
    "hpt = pd.read_csv('hypothesis.csv') # файл с гипотезами\n",
    "display(hpt.info())\n",
    "visitors = pd.read_csv('visitors.csv') # датасет с данными о пользователях в каждой группе\n",
    "visitors.info()"
   ]
  },
  {
   "cell_type": "code",
   "execution_count": 27,
   "metadata": {},
   "outputs": [
    {
     "name": "stdout",
     "output_type": "stream",
     "text": [
      "<class 'pandas.core.frame.DataFrame'>\n",
      "RangeIndex: 1197 entries, 0 to 1196\n",
      "Data columns (total 5 columns):\n",
      " #   Column         Non-Null Count  Dtype \n",
      "---  ------         --------------  ----- \n",
      " 0   transactionId  1197 non-null   int64 \n",
      " 1   visitorId      1197 non-null   int64 \n",
      " 2   date           1197 non-null   object\n",
      " 3   revenue        1197 non-null   int64 \n",
      " 4   group          1197 non-null   object\n",
      "dtypes: int64(3), object(2)\n",
      "memory usage: 46.9+ KB\n"
     ]
    }
   ],
   "source": [
    "orders = pd.read_csv('orders.csv')\n",
    "orders.info()"
   ]
  },
  {
   "cell_type": "markdown",
   "metadata": {},
   "source": [
    "<div class=\"alert alert-info\"> \n",
    "Видим что нет пропусков, проведём проверку на дубликаты\n",
    "</div>"
   ]
  },
  {
   "cell_type": "code",
   "execution_count": 28,
   "metadata": {},
   "outputs": [],
   "source": [
    "# приведём к нижнему регистру колонки\n",
    "# приведём к типу даты везде где надо\n",
    "\n",
    "hpt.columns = [x.lower() for x in hpt.columns.values]\n",
    "visitors.date = pd.to_datetime(visitors.date)\n",
    "orders.date = pd.to_datetime(orders.date)"
   ]
  },
  {
   "cell_type": "code",
   "execution_count": 29,
   "metadata": {},
   "outputs": [
    {
     "data": {
      "text/plain": [
       "0"
      ]
     },
     "metadata": {},
     "output_type": "display_data"
    },
    {
     "data": {
      "text/plain": [
       "0"
      ]
     },
     "metadata": {},
     "output_type": "display_data"
    },
    {
     "data": {
      "text/plain": [
       "0"
      ]
     },
     "metadata": {},
     "output_type": "display_data"
    }
   ],
   "source": [
    "# проверим на дубликаты\n",
    "display(hpt.duplicated().sum())\n",
    "display(visitors.duplicated().sum())\n",
    "display(orders.duplicated().sum())"
   ]
  },
  {
   "cell_type": "code",
   "execution_count": 30,
   "metadata": {},
   "outputs": [
    {
     "data": {
      "text/plain": [
       "array(['2019-08-01T00:00:00.000000000', '2019-08-02T00:00:00.000000000',\n",
       "       '2019-08-03T00:00:00.000000000', '2019-08-04T00:00:00.000000000',\n",
       "       '2019-08-05T00:00:00.000000000', '2019-08-06T00:00:00.000000000',\n",
       "       '2019-08-07T00:00:00.000000000', '2019-08-08T00:00:00.000000000',\n",
       "       '2019-08-09T00:00:00.000000000', '2019-08-10T00:00:00.000000000',\n",
       "       '2019-08-11T00:00:00.000000000', '2019-08-12T00:00:00.000000000',\n",
       "       '2019-08-13T00:00:00.000000000', '2019-08-14T00:00:00.000000000',\n",
       "       '2019-08-15T00:00:00.000000000', '2019-08-16T00:00:00.000000000',\n",
       "       '2019-08-17T00:00:00.000000000', '2019-08-18T00:00:00.000000000',\n",
       "       '2019-08-19T00:00:00.000000000', '2019-08-20T00:00:00.000000000',\n",
       "       '2019-08-21T00:00:00.000000000', '2019-08-22T00:00:00.000000000',\n",
       "       '2019-08-23T00:00:00.000000000', '2019-08-24T00:00:00.000000000',\n",
       "       '2019-08-25T00:00:00.000000000', '2019-08-26T00:00:00.000000000',\n",
       "       '2019-08-27T00:00:00.000000000', '2019-08-28T00:00:00.000000000',\n",
       "       '2019-08-29T00:00:00.000000000', '2019-08-30T00:00:00.000000000',\n",
       "       '2019-08-31T00:00:00.000000000'], dtype='datetime64[ns]')"
      ]
     },
     "execution_count": 30,
     "metadata": {},
     "output_type": "execute_result"
    }
   ],
   "source": [
    "# проверим что каждый пользователь принадлежит только одной группе\n",
    "users_ab = set(orders[orders['group'] == \"A\"]['visitorId'].values).intersection(set(orders[orders['group'] \\\n",
    "                                                                         == \"B\"]['visitorId'].values))\n",
    "orders[orders['visitorId'].isin(users_ab)].sort_values(by = 'date')['date'].unique()\n",
    "# видим что пользователи с августа попали в обе группы"
   ]
  },
  {
   "cell_type": "markdown",
   "metadata": {},
   "source": [
    "Нужно исключить пользователей которые попали в обе группы, иначе нельзя будет опираться на результаты теста"
   ]
  },
  {
   "cell_type": "code",
   "execution_count": 31,
   "metadata": {},
   "outputs": [
    {
     "data": {
      "text/html": [
       "<div>\n",
       "<style scoped>\n",
       "    .dataframe tbody tr th:only-of-type {\n",
       "        vertical-align: middle;\n",
       "    }\n",
       "\n",
       "    .dataframe tbody tr th {\n",
       "        vertical-align: top;\n",
       "    }\n",
       "\n",
       "    .dataframe thead th {\n",
       "        text-align: right;\n",
       "    }\n",
       "</style>\n",
       "<table border=\"1\" class=\"dataframe\">\n",
       "  <thead>\n",
       "    <tr style=\"text-align: right;\">\n",
       "      <th></th>\n",
       "      <th>transactionId</th>\n",
       "      <th>visitorId</th>\n",
       "      <th>date</th>\n",
       "      <th>revenue</th>\n",
       "      <th>group</th>\n",
       "    </tr>\n",
       "  </thead>\n",
       "  <tbody>\n",
       "    <tr>\n",
       "      <th>0</th>\n",
       "      <td>3667963787</td>\n",
       "      <td>3312258926</td>\n",
       "      <td>2019-08-15</td>\n",
       "      <td>1650</td>\n",
       "      <td>B</td>\n",
       "    </tr>\n",
       "    <tr>\n",
       "      <th>1</th>\n",
       "      <td>2804400009</td>\n",
       "      <td>3642806036</td>\n",
       "      <td>2019-08-15</td>\n",
       "      <td>730</td>\n",
       "      <td>B</td>\n",
       "    </tr>\n",
       "    <tr>\n",
       "      <th>3</th>\n",
       "      <td>3797467345</td>\n",
       "      <td>1196621759</td>\n",
       "      <td>2019-08-15</td>\n",
       "      <td>9759</td>\n",
       "      <td>B</td>\n",
       "    </tr>\n",
       "    <tr>\n",
       "      <th>4</th>\n",
       "      <td>2282983706</td>\n",
       "      <td>2322279887</td>\n",
       "      <td>2019-08-15</td>\n",
       "      <td>2308</td>\n",
       "      <td>B</td>\n",
       "    </tr>\n",
       "    <tr>\n",
       "      <th>5</th>\n",
       "      <td>182168103</td>\n",
       "      <td>935554773</td>\n",
       "      <td>2019-08-15</td>\n",
       "      <td>2210</td>\n",
       "      <td>B</td>\n",
       "    </tr>\n",
       "    <tr>\n",
       "      <th>...</th>\n",
       "      <td>...</td>\n",
       "      <td>...</td>\n",
       "      <td>...</td>\n",
       "      <td>...</td>\n",
       "      <td>...</td>\n",
       "    </tr>\n",
       "    <tr>\n",
       "      <th>1191</th>\n",
       "      <td>3592955527</td>\n",
       "      <td>608641596</td>\n",
       "      <td>2019-08-14</td>\n",
       "      <td>16490</td>\n",
       "      <td>B</td>\n",
       "    </tr>\n",
       "    <tr>\n",
       "      <th>1192</th>\n",
       "      <td>2662137336</td>\n",
       "      <td>3733762160</td>\n",
       "      <td>2019-08-14</td>\n",
       "      <td>6490</td>\n",
       "      <td>B</td>\n",
       "    </tr>\n",
       "    <tr>\n",
       "      <th>1193</th>\n",
       "      <td>2203539145</td>\n",
       "      <td>370388673</td>\n",
       "      <td>2019-08-14</td>\n",
       "      <td>3190</td>\n",
       "      <td>A</td>\n",
       "    </tr>\n",
       "    <tr>\n",
       "      <th>1194</th>\n",
       "      <td>1807773912</td>\n",
       "      <td>573423106</td>\n",
       "      <td>2019-08-14</td>\n",
       "      <td>10550</td>\n",
       "      <td>A</td>\n",
       "    </tr>\n",
       "    <tr>\n",
       "      <th>1196</th>\n",
       "      <td>3936777065</td>\n",
       "      <td>2108080724</td>\n",
       "      <td>2019-08-15</td>\n",
       "      <td>202740</td>\n",
       "      <td>B</td>\n",
       "    </tr>\n",
       "  </tbody>\n",
       "</table>\n",
       "<p>1016 rows × 5 columns</p>\n",
       "</div>"
      ],
      "text/plain": [
       "      transactionId   visitorId       date  revenue group\n",
       "0        3667963787  3312258926 2019-08-15     1650     B\n",
       "1        2804400009  3642806036 2019-08-15      730     B\n",
       "3        3797467345  1196621759 2019-08-15     9759     B\n",
       "4        2282983706  2322279887 2019-08-15     2308     B\n",
       "5         182168103   935554773 2019-08-15     2210     B\n",
       "...             ...         ...        ...      ...   ...\n",
       "1191     3592955527   608641596 2019-08-14    16490     B\n",
       "1192     2662137336  3733762160 2019-08-14     6490     B\n",
       "1193     2203539145   370388673 2019-08-14     3190     A\n",
       "1194     1807773912   573423106 2019-08-14    10550     A\n",
       "1196     3936777065  2108080724 2019-08-15   202740     B\n",
       "\n",
       "[1016 rows x 5 columns]"
      ]
     },
     "execution_count": 31,
     "metadata": {},
     "output_type": "execute_result"
    }
   ],
   "source": [
    "orders_old = orders.copy()\n",
    "orders = orders[~orders['visitorId'].isin(users_ab)]\n",
    "orders\n",
    "# вместо 1197 у нас теперь 1016 строк"
   ]
  },
  {
   "cell_type": "markdown",
   "metadata": {},
   "source": [
    "## Приоритизация гипотез.\n",
    "### считаем ICE"
   ]
  },
  {
   "cell_type": "markdown",
   "metadata": {},
   "source": [
    "ICE score = (Impact x Confidence) / Efforts"
   ]
  },
  {
   "cell_type": "code",
   "execution_count": 32,
   "metadata": {
    "scrolled": true
   },
   "outputs": [
    {
     "data": {
      "text/html": [
       "<div>\n",
       "<style scoped>\n",
       "    .dataframe tbody tr th:only-of-type {\n",
       "        vertical-align: middle;\n",
       "    }\n",
       "\n",
       "    .dataframe tbody tr th {\n",
       "        vertical-align: top;\n",
       "    }\n",
       "\n",
       "    .dataframe thead th {\n",
       "        text-align: right;\n",
       "    }\n",
       "</style>\n",
       "<table border=\"1\" class=\"dataframe\">\n",
       "  <thead>\n",
       "    <tr style=\"text-align: right;\">\n",
       "      <th></th>\n",
       "      <th>hypothesis</th>\n",
       "      <th>reach</th>\n",
       "      <th>impact</th>\n",
       "      <th>confidence</th>\n",
       "      <th>efforts</th>\n",
       "      <th>ice</th>\n",
       "    </tr>\n",
       "  </thead>\n",
       "  <tbody>\n",
       "    <tr>\n",
       "      <th>8</th>\n",
       "      <td>Запустить акцию, дающую скидку на товар в день рождения</td>\n",
       "      <td>1</td>\n",
       "      <td>9</td>\n",
       "      <td>9</td>\n",
       "      <td>5</td>\n",
       "      <td>16.200000</td>\n",
       "    </tr>\n",
       "    <tr>\n",
       "      <th>0</th>\n",
       "      <td>Добавить два новых канала привлечения трафика, что позволит привлекать на 30% больше пользователей</td>\n",
       "      <td>3</td>\n",
       "      <td>10</td>\n",
       "      <td>8</td>\n",
       "      <td>6</td>\n",
       "      <td>13.333333</td>\n",
       "    </tr>\n",
       "    <tr>\n",
       "      <th>7</th>\n",
       "      <td>Добавить форму подписки на все основные страницы, чтобы собрать базу клиентов для email-рассылок</td>\n",
       "      <td>10</td>\n",
       "      <td>7</td>\n",
       "      <td>8</td>\n",
       "      <td>5</td>\n",
       "      <td>11.200000</td>\n",
       "    </tr>\n",
       "    <tr>\n",
       "      <th>6</th>\n",
       "      <td>Показать на главной странице баннеры с актуальными акциями и распродажами, чтобы увеличить конверсию</td>\n",
       "      <td>5</td>\n",
       "      <td>3</td>\n",
       "      <td>8</td>\n",
       "      <td>3</td>\n",
       "      <td>8.000000</td>\n",
       "    </tr>\n",
       "    <tr>\n",
       "      <th>2</th>\n",
       "      <td>Добавить блоки рекомендаций товаров на сайт интернет магазина, чтобы повысить конверсию и средний чек заказа</td>\n",
       "      <td>8</td>\n",
       "      <td>3</td>\n",
       "      <td>7</td>\n",
       "      <td>3</td>\n",
       "      <td>7.000000</td>\n",
       "    </tr>\n",
       "    <tr>\n",
       "      <th>1</th>\n",
       "      <td>Запустить собственную службу доставки, что сократит срок доставки заказов</td>\n",
       "      <td>2</td>\n",
       "      <td>5</td>\n",
       "      <td>4</td>\n",
       "      <td>10</td>\n",
       "      <td>2.000000</td>\n",
       "    </tr>\n",
       "    <tr>\n",
       "      <th>5</th>\n",
       "      <td>Добавить страницу отзывов клиентов о магазине, что позволит увеличить количество заказов</td>\n",
       "      <td>3</td>\n",
       "      <td>2</td>\n",
       "      <td>2</td>\n",
       "      <td>3</td>\n",
       "      <td>1.333333</td>\n",
       "    </tr>\n",
       "    <tr>\n",
       "      <th>3</th>\n",
       "      <td>Изменить структура категорий, что увеличит конверсию, т.к. пользователи быстрее найдут нужный товар</td>\n",
       "      <td>8</td>\n",
       "      <td>3</td>\n",
       "      <td>3</td>\n",
       "      <td>8</td>\n",
       "      <td>1.125000</td>\n",
       "    </tr>\n",
       "    <tr>\n",
       "      <th>4</th>\n",
       "      <td>Изменить цвет фона главной страницы, чтобы увеличить вовлеченность пользователей</td>\n",
       "      <td>3</td>\n",
       "      <td>1</td>\n",
       "      <td>1</td>\n",
       "      <td>1</td>\n",
       "      <td>1.000000</td>\n",
       "    </tr>\n",
       "  </tbody>\n",
       "</table>\n",
       "</div>"
      ],
      "text/plain": [
       "                                                                                                     hypothesis  \\\n",
       "8                                                       Запустить акцию, дающую скидку на товар в день рождения   \n",
       "0            Добавить два новых канала привлечения трафика, что позволит привлекать на 30% больше пользователей   \n",
       "7              Добавить форму подписки на все основные страницы, чтобы собрать базу клиентов для email-рассылок   \n",
       "6          Показать на главной странице баннеры с актуальными акциями и распродажами, чтобы увеличить конверсию   \n",
       "2  Добавить блоки рекомендаций товаров на сайт интернет магазина, чтобы повысить конверсию и средний чек заказа   \n",
       "1                                     Запустить собственную службу доставки, что сократит срок доставки заказов   \n",
       "5                      Добавить страницу отзывов клиентов о магазине, что позволит увеличить количество заказов   \n",
       "3           Изменить структура категорий, что увеличит конверсию, т.к. пользователи быстрее найдут нужный товар   \n",
       "4                              Изменить цвет фона главной страницы, чтобы увеличить вовлеченность пользователей   \n",
       "\n",
       "   reach  impact  confidence  efforts        ice  \n",
       "8      1       9           9        5  16.200000  \n",
       "0      3      10           8        6  13.333333  \n",
       "7     10       7           8        5  11.200000  \n",
       "6      5       3           8        3   8.000000  \n",
       "2      8       3           7        3   7.000000  \n",
       "1      2       5           4       10   2.000000  \n",
       "5      3       2           2        3   1.333333  \n",
       "3      8       3           3        8   1.125000  \n",
       "4      3       1           1        1   1.000000  "
      ]
     },
     "execution_count": 32,
     "metadata": {},
     "output_type": "execute_result"
    }
   ],
   "source": [
    "pd.options.display.max_colwidth = 1000\n",
    "\n",
    "hpt['ice'] = hpt['impact'] * hpt['confidence'] / hpt['efforts']\n",
    "hpt.sort_values(by = 'ice', ascending = False)"
   ]
  },
  {
   "cell_type": "markdown",
   "metadata": {},
   "source": [
    "Приоритетные гипотезы : 8, 0, 7, 6\n",
    "\n",
    "### считаем RICE"
   ]
  },
  {
   "cell_type": "code",
   "execution_count": 33,
   "metadata": {},
   "outputs": [
    {
     "data": {
      "text/html": [
       "<div>\n",
       "<style scoped>\n",
       "    .dataframe tbody tr th:only-of-type {\n",
       "        vertical-align: middle;\n",
       "    }\n",
       "\n",
       "    .dataframe tbody tr th {\n",
       "        vertical-align: top;\n",
       "    }\n",
       "\n",
       "    .dataframe thead th {\n",
       "        text-align: right;\n",
       "    }\n",
       "</style>\n",
       "<table border=\"1\" class=\"dataframe\">\n",
       "  <thead>\n",
       "    <tr style=\"text-align: right;\">\n",
       "      <th></th>\n",
       "      <th>hypothesis</th>\n",
       "      <th>reach</th>\n",
       "      <th>impact</th>\n",
       "      <th>confidence</th>\n",
       "      <th>efforts</th>\n",
       "      <th>ice</th>\n",
       "      <th>rice</th>\n",
       "    </tr>\n",
       "  </thead>\n",
       "  <tbody>\n",
       "    <tr>\n",
       "      <th>7</th>\n",
       "      <td>Добавить форму подписки на все основные страницы, чтобы собрать базу клиентов для email-рассылок</td>\n",
       "      <td>10</td>\n",
       "      <td>7</td>\n",
       "      <td>8</td>\n",
       "      <td>5</td>\n",
       "      <td>11.200000</td>\n",
       "      <td>112.0</td>\n",
       "    </tr>\n",
       "    <tr>\n",
       "      <th>2</th>\n",
       "      <td>Добавить блоки рекомендаций товаров на сайт интернет магазина, чтобы повысить конверсию и средний чек заказа</td>\n",
       "      <td>8</td>\n",
       "      <td>3</td>\n",
       "      <td>7</td>\n",
       "      <td>3</td>\n",
       "      <td>7.000000</td>\n",
       "      <td>56.0</td>\n",
       "    </tr>\n",
       "    <tr>\n",
       "      <th>0</th>\n",
       "      <td>Добавить два новых канала привлечения трафика, что позволит привлекать на 30% больше пользователей</td>\n",
       "      <td>3</td>\n",
       "      <td>10</td>\n",
       "      <td>8</td>\n",
       "      <td>6</td>\n",
       "      <td>13.333333</td>\n",
       "      <td>40.0</td>\n",
       "    </tr>\n",
       "    <tr>\n",
       "      <th>6</th>\n",
       "      <td>Показать на главной странице баннеры с актуальными акциями и распродажами, чтобы увеличить конверсию</td>\n",
       "      <td>5</td>\n",
       "      <td>3</td>\n",
       "      <td>8</td>\n",
       "      <td>3</td>\n",
       "      <td>8.000000</td>\n",
       "      <td>40.0</td>\n",
       "    </tr>\n",
       "    <tr>\n",
       "      <th>8</th>\n",
       "      <td>Запустить акцию, дающую скидку на товар в день рождения</td>\n",
       "      <td>1</td>\n",
       "      <td>9</td>\n",
       "      <td>9</td>\n",
       "      <td>5</td>\n",
       "      <td>16.200000</td>\n",
       "      <td>16.2</td>\n",
       "    </tr>\n",
       "    <tr>\n",
       "      <th>3</th>\n",
       "      <td>Изменить структура категорий, что увеличит конверсию, т.к. пользователи быстрее найдут нужный товар</td>\n",
       "      <td>8</td>\n",
       "      <td>3</td>\n",
       "      <td>3</td>\n",
       "      <td>8</td>\n",
       "      <td>1.125000</td>\n",
       "      <td>9.0</td>\n",
       "    </tr>\n",
       "    <tr>\n",
       "      <th>1</th>\n",
       "      <td>Запустить собственную службу доставки, что сократит срок доставки заказов</td>\n",
       "      <td>2</td>\n",
       "      <td>5</td>\n",
       "      <td>4</td>\n",
       "      <td>10</td>\n",
       "      <td>2.000000</td>\n",
       "      <td>4.0</td>\n",
       "    </tr>\n",
       "    <tr>\n",
       "      <th>5</th>\n",
       "      <td>Добавить страницу отзывов клиентов о магазине, что позволит увеличить количество заказов</td>\n",
       "      <td>3</td>\n",
       "      <td>2</td>\n",
       "      <td>2</td>\n",
       "      <td>3</td>\n",
       "      <td>1.333333</td>\n",
       "      <td>4.0</td>\n",
       "    </tr>\n",
       "    <tr>\n",
       "      <th>4</th>\n",
       "      <td>Изменить цвет фона главной страницы, чтобы увеличить вовлеченность пользователей</td>\n",
       "      <td>3</td>\n",
       "      <td>1</td>\n",
       "      <td>1</td>\n",
       "      <td>1</td>\n",
       "      <td>1.000000</td>\n",
       "      <td>3.0</td>\n",
       "    </tr>\n",
       "  </tbody>\n",
       "</table>\n",
       "</div>"
      ],
      "text/plain": [
       "                                                                                                     hypothesis  \\\n",
       "7              Добавить форму подписки на все основные страницы, чтобы собрать базу клиентов для email-рассылок   \n",
       "2  Добавить блоки рекомендаций товаров на сайт интернет магазина, чтобы повысить конверсию и средний чек заказа   \n",
       "0            Добавить два новых канала привлечения трафика, что позволит привлекать на 30% больше пользователей   \n",
       "6          Показать на главной странице баннеры с актуальными акциями и распродажами, чтобы увеличить конверсию   \n",
       "8                                                       Запустить акцию, дающую скидку на товар в день рождения   \n",
       "3           Изменить структура категорий, что увеличит конверсию, т.к. пользователи быстрее найдут нужный товар   \n",
       "1                                     Запустить собственную службу доставки, что сократит срок доставки заказов   \n",
       "5                      Добавить страницу отзывов клиентов о магазине, что позволит увеличить количество заказов   \n",
       "4                              Изменить цвет фона главной страницы, чтобы увеличить вовлеченность пользователей   \n",
       "\n",
       "   reach  impact  confidence  efforts        ice   rice  \n",
       "7     10       7           8        5  11.200000  112.0  \n",
       "2      8       3           7        3   7.000000   56.0  \n",
       "0      3      10           8        6  13.333333   40.0  \n",
       "6      5       3           8        3   8.000000   40.0  \n",
       "8      1       9           9        5  16.200000   16.2  \n",
       "3      8       3           3        8   1.125000    9.0  \n",
       "1      2       5           4       10   2.000000    4.0  \n",
       "5      3       2           2        3   1.333333    4.0  \n",
       "4      3       1           1        1   1.000000    3.0  "
      ]
     },
     "execution_count": 33,
     "metadata": {},
     "output_type": "execute_result"
    }
   ],
   "source": [
    "hpt['rice'] = hpt['reach'] * hpt['ice']\n",
    "hpt.sort_values(by = 'rice', ascending = False)"
   ]
  },
  {
   "cell_type": "markdown",
   "metadata": {},
   "source": [
    "Приоритетные : 7, 2, 0, 6\n",
    "\n",
    "\n",
    "0,7,6 остаются в приоритете и там и там.:\n",
    "\n",
    "- 7: Добавить форму подписки на все основные страницы, чтобы собрать базу клиентов для email-рассылок\n",
    "- 2:  Добавить блоки рекомендаций товаров на сайт интернет магазина, чтобы повысить конверсию и средний чек заказа\n",
    "- 0:  Добавить два новых канала привлечения трафика, что позволит привлекать на 30% больше пользователей\n",
    "- 6: Показать на главной странице баннеры с актуальными акциями и распродажами, чтобы увеличить конверсию\n",
    "\n"
   ]
  },
  {
   "cell_type": "markdown",
   "metadata": {},
   "source": [
    "Метод RICE учитывает охват пользователей (Reach), и оба они учитывают Impact - насколько сильно влияние, Confidence - насколько мы уверены, Efforts - сколько усилий нам нужно"
   ]
  },
  {
   "cell_type": "code",
   "execution_count": null,
   "metadata": {},
   "outputs": [],
   "source": []
  },
  {
   "cell_type": "markdown",
   "metadata": {},
   "source": [
    "## Анализ A/B-теста\n",
    "###  Построим график кумулятивной ( то есть накопленной ) выручки по группам. "
   ]
  },
  {
   "cell_type": "code",
   "execution_count": 34,
   "metadata": {},
   "outputs": [
    {
     "data": {
      "text/html": [
       "<div>\n",
       "<style scoped>\n",
       "    .dataframe tbody tr th:only-of-type {\n",
       "        vertical-align: middle;\n",
       "    }\n",
       "\n",
       "    .dataframe tbody tr th {\n",
       "        vertical-align: top;\n",
       "    }\n",
       "\n",
       "    .dataframe thead th {\n",
       "        text-align: right;\n",
       "    }\n",
       "</style>\n",
       "<table border=\"1\" class=\"dataframe\">\n",
       "  <thead>\n",
       "    <tr style=\"text-align: right;\">\n",
       "      <th></th>\n",
       "      <th>date</th>\n",
       "      <th>group</th>\n",
       "    </tr>\n",
       "  </thead>\n",
       "  <tbody>\n",
       "    <tr>\n",
       "      <th>0</th>\n",
       "      <td>2019-08-15</td>\n",
       "      <td>B</td>\n",
       "    </tr>\n",
       "    <tr>\n",
       "      <th>7</th>\n",
       "      <td>2019-08-15</td>\n",
       "      <td>A</td>\n",
       "    </tr>\n",
       "    <tr>\n",
       "      <th>45</th>\n",
       "      <td>2019-08-16</td>\n",
       "      <td>A</td>\n",
       "    </tr>\n",
       "    <tr>\n",
       "      <th>47</th>\n",
       "      <td>2019-08-16</td>\n",
       "      <td>B</td>\n",
       "    </tr>\n",
       "    <tr>\n",
       "      <th>55</th>\n",
       "      <td>2019-08-01</td>\n",
       "      <td>A</td>\n",
       "    </tr>\n",
       "    <tr>\n",
       "      <th>...</th>\n",
       "      <td>...</td>\n",
       "      <td>...</td>\n",
       "    </tr>\n",
       "    <tr>\n",
       "      <th>1068</th>\n",
       "      <td>2019-08-12</td>\n",
       "      <td>A</td>\n",
       "    </tr>\n",
       "    <tr>\n",
       "      <th>1114</th>\n",
       "      <td>2019-08-13</td>\n",
       "      <td>B</td>\n",
       "    </tr>\n",
       "    <tr>\n",
       "      <th>1116</th>\n",
       "      <td>2019-08-13</td>\n",
       "      <td>A</td>\n",
       "    </tr>\n",
       "    <tr>\n",
       "      <th>1149</th>\n",
       "      <td>2019-08-14</td>\n",
       "      <td>B</td>\n",
       "    </tr>\n",
       "    <tr>\n",
       "      <th>1150</th>\n",
       "      <td>2019-08-14</td>\n",
       "      <td>A</td>\n",
       "    </tr>\n",
       "  </tbody>\n",
       "</table>\n",
       "<p>62 rows × 2 columns</p>\n",
       "</div>"
      ],
      "text/plain": [
       "           date group\n",
       "0    2019-08-15     B\n",
       "7    2019-08-15     A\n",
       "45   2019-08-16     A\n",
       "47   2019-08-16     B\n",
       "55   2019-08-01     A\n",
       "...         ...   ...\n",
       "1068 2019-08-12     A\n",
       "1114 2019-08-13     B\n",
       "1116 2019-08-13     A\n",
       "1149 2019-08-14     B\n",
       "1150 2019-08-14     A\n",
       "\n",
       "[62 rows x 2 columns]"
      ]
     },
     "execution_count": 34,
     "metadata": {},
     "output_type": "execute_result"
    }
   ],
   "source": [
    "date_group = orders[['date', 'group']].drop_duplicates()\n",
    "date_group"
   ]
  },
  {
   "cell_type": "code",
   "execution_count": 35,
   "metadata": {},
   "outputs": [
    {
     "data": {
      "text/html": [
       "<div>\n",
       "<style scoped>\n",
       "    .dataframe tbody tr th:only-of-type {\n",
       "        vertical-align: middle;\n",
       "    }\n",
       "\n",
       "    .dataframe tbody tr th {\n",
       "        vertical-align: top;\n",
       "    }\n",
       "\n",
       "    .dataframe thead th {\n",
       "        text-align: right;\n",
       "    }\n",
       "</style>\n",
       "<table border=\"1\" class=\"dataframe\">\n",
       "  <thead>\n",
       "    <tr style=\"text-align: right;\">\n",
       "      <th></th>\n",
       "      <th>date</th>\n",
       "      <th>group</th>\n",
       "      <th>buyers</th>\n",
       "      <th>orders</th>\n",
       "      <th>revenue</th>\n",
       "      <th>visitors</th>\n",
       "    </tr>\n",
       "  </thead>\n",
       "  <tbody>\n",
       "    <tr>\n",
       "      <th>0</th>\n",
       "      <td>2019-08-01</td>\n",
       "      <td>A</td>\n",
       "      <td>19</td>\n",
       "      <td>23</td>\n",
       "      <td>142779</td>\n",
       "      <td>719</td>\n",
       "    </tr>\n",
       "    <tr>\n",
       "      <th>1</th>\n",
       "      <td>2019-08-01</td>\n",
       "      <td>B</td>\n",
       "      <td>17</td>\n",
       "      <td>17</td>\n",
       "      <td>59758</td>\n",
       "      <td>713</td>\n",
       "    </tr>\n",
       "    <tr>\n",
       "      <th>2</th>\n",
       "      <td>2019-08-02</td>\n",
       "      <td>A</td>\n",
       "      <td>36</td>\n",
       "      <td>42</td>\n",
       "      <td>234381</td>\n",
       "      <td>1338</td>\n",
       "    </tr>\n",
       "    <tr>\n",
       "      <th>3</th>\n",
       "      <td>2019-08-02</td>\n",
       "      <td>B</td>\n",
       "      <td>39</td>\n",
       "      <td>40</td>\n",
       "      <td>221801</td>\n",
       "      <td>1294</td>\n",
       "    </tr>\n",
       "    <tr>\n",
       "      <th>4</th>\n",
       "      <td>2019-08-03</td>\n",
       "      <td>A</td>\n",
       "      <td>60</td>\n",
       "      <td>66</td>\n",
       "      <td>346854</td>\n",
       "      <td>1845</td>\n",
       "    </tr>\n",
       "  </tbody>\n",
       "</table>\n",
       "</div>"
      ],
      "text/plain": [
       "        date group  buyers  orders  revenue  visitors\n",
       "0 2019-08-01     A      19      23   142779       719\n",
       "1 2019-08-01     B      17      17    59758       713\n",
       "2 2019-08-02     A      36      42   234381      1338\n",
       "3 2019-08-02     B      39      40   221801      1294\n",
       "4 2019-08-03     A      60      66   346854      1845"
      ]
     },
     "execution_count": 35,
     "metadata": {},
     "output_type": "execute_result"
    }
   ],
   "source": [
    "# собираем кумулятивные данные\n",
    "# к таблице date_group применяем метод apply который внутри себя через lambda возвращает данные orders\n",
    "ordersAggregated = date_group.apply(lambda x : orders[np.logical_and(orders['group'] == x['group'], \\\n",
    "                                                                     orders['date'] <= x['date'])].agg({\n",
    "    'date' : 'max',\n",
    "    'group' : 'max',\n",
    "    'visitorId' : 'nunique',\n",
    "    'transactionId' : 'nunique',\n",
    "    'revenue' : 'sum'\n",
    "}), axis = 1).sort_values(by = ['date', 'group'])\n",
    "\n",
    "# аналогично с visitors\n",
    "visitorsAggregated = date_group.apply(lambda x : visitors[np.logical_and(visitors['group'] == x['group'], \\\n",
    "                                                                         visitors['date'] <= x['date'])].agg({\n",
    "    'date' : 'max',\n",
    "    'group' : 'max',\n",
    "    'visitors' : 'sum',\n",
    "}), axis = 1).sort_values(by = ['date', 'group'])\n",
    "# соединяем таблицы \n",
    "cumulativeData = ordersAggregated.merge(visitorsAggregated, on = ['date', 'group'])\n",
    "cumulativeData.columns = ['date', 'group', 'buyers', 'orders', 'revenue', 'visitors']\n",
    "cumulativeData.head()"
   ]
  },
  {
   "cell_type": "code",
   "execution_count": null,
   "metadata": {},
   "outputs": [],
   "source": []
  },
  {
   "cell_type": "code",
   "execution_count": 36,
   "metadata": {
    "scrolled": true
   },
   "outputs": [
    {
     "name": "stdout",
     "output_type": "stream",
     "text": [
      "\n"
     ]
    },
    {
     "data": {
      "image/png": "[encoded data removed]",
      "text/plain": [
       "<Figure size 864x288 with 1 Axes>"
      ]
     },
     "metadata": {
      "needs_background": "light"
     },
     "output_type": "display_data"
    }
   ],
   "source": [
    "# посчитаем сразу конверсию\n",
    "cumulativeData['conversion'] = cumulativeData['orders'] / cumulativeData['visitors']\n",
    "#cumulativeData['conversion'] = cumulativeData['buyers'] / cumulativeData['visitors']\n",
    "# PS мы смотрим конверсию в заказы\n",
    "\n",
    "#разделяем группы\n",
    "cumulativeDataA = cumulativeData[cumulativeData['group'] == \"A\"]\n",
    "cumulativeDataB = cumulativeData[cumulativeData['group'] == \"B\"]\n",
    "\n",
    "plt.figure(figsize = (12,4))\n",
    "plt.plot(cumulativeDataA['date'], cumulativeDataA['revenue'], label = 'A')\n",
    "plt.plot(cumulativeDataB['date'], cumulativeDataB['revenue'], label = 'B')\n",
    "plt.xlabel('Дата')\n",
    "plt.ylabel('Выручка')\n",
    "\n",
    "plt.title('График кумулятивной выручки по группам')\n",
    "plt.legend()\n",
    "print()"
   ]
  },
  {
   "cell_type": "markdown",
   "metadata": {},
   "source": [
    "Выручка в группе B стабильно выше группы A. Наблюдаем скачок 18-19 числа "
   ]
  },
  {
   "cell_type": "code",
   "execution_count": null,
   "metadata": {},
   "outputs": [],
   "source": []
  },
  {
   "cell_type": "markdown",
   "metadata": {},
   "source": [
    "### Построим график кумулятивного среднего чека по группам. "
   ]
  },
  {
   "cell_type": "code",
   "execution_count": 37,
   "metadata": {
    "scrolled": true
   },
   "outputs": [
    {
     "name": "stdout",
     "output_type": "stream",
     "text": [
      "\n"
     ]
    },
    {
     "data": {
      "image/png": "[encoded data removed]",
      "text/plain": [
       "<Figure size 864x288 with 1 Axes>"
      ]
     },
     "metadata": {
      "needs_background": "light"
     },
     "output_type": "display_data"
    }
   ],
   "source": [
    "plt.figure(figsize = (12,4))\n",
    "plt.plot(cumulativeDataA['date'], cumulativeDataA['revenue'] / cumulativeDataA['orders'], label = 'A')\n",
    "plt.plot(cumulativeDataB['date'], cumulativeDataB['revenue'] / cumulativeDataB['orders'], label = 'B')\n",
    "plt.title('График кумулятивного среднего чека по группам')\n",
    "plt.legend()\n",
    "print()"
   ]
  },
  {
   "cell_type": "markdown",
   "metadata": {},
   "source": [
    "Опять резкий скчок графика группы В 18-19 числа, нужно исследовать на выбросы и тогда делать выводы. После 21 числа средний чек обеих групп выравнивается"
   ]
  },
  {
   "cell_type": "markdown",
   "metadata": {},
   "source": [
    "### Построим график относительного изменения кумулятивного среднего чека группы B к группе A. "
   ]
  },
  {
   "cell_type": "code",
   "execution_count": 38,
   "metadata": {},
   "outputs": [
    {
     "data": {
      "text/html": [
       "<div>\n",
       "<style scoped>\n",
       "    .dataframe tbody tr th:only-of-type {\n",
       "        vertical-align: middle;\n",
       "    }\n",
       "\n",
       "    .dataframe tbody tr th {\n",
       "        vertical-align: top;\n",
       "    }\n",
       "\n",
       "    .dataframe thead th {\n",
       "        text-align: right;\n",
       "    }\n",
       "</style>\n",
       "<table border=\"1\" class=\"dataframe\">\n",
       "  <thead>\n",
       "    <tr style=\"text-align: right;\">\n",
       "      <th></th>\n",
       "      <th>date</th>\n",
       "      <th>groupA</th>\n",
       "      <th>buyersA</th>\n",
       "      <th>ordersA</th>\n",
       "      <th>revenueA</th>\n",
       "      <th>visitorsA</th>\n",
       "      <th>conversionA</th>\n",
       "      <th>groupB</th>\n",
       "      <th>buyersB</th>\n",
       "      <th>ordersB</th>\n",
       "      <th>revenueB</th>\n",
       "      <th>visitorsB</th>\n",
       "      <th>conversionB</th>\n",
       "    </tr>\n",
       "  </thead>\n",
       "  <tbody>\n",
       "    <tr>\n",
       "      <th>0</th>\n",
       "      <td>2019-08-01</td>\n",
       "      <td>A</td>\n",
       "      <td>19</td>\n",
       "      <td>23</td>\n",
       "      <td>142779</td>\n",
       "      <td>719</td>\n",
       "      <td>0.031989</td>\n",
       "      <td>B</td>\n",
       "      <td>17</td>\n",
       "      <td>17</td>\n",
       "      <td>59758</td>\n",
       "      <td>713</td>\n",
       "      <td>0.023843</td>\n",
       "    </tr>\n",
       "    <tr>\n",
       "      <th>1</th>\n",
       "      <td>2019-08-02</td>\n",
       "      <td>A</td>\n",
       "      <td>36</td>\n",
       "      <td>42</td>\n",
       "      <td>234381</td>\n",
       "      <td>1338</td>\n",
       "      <td>0.031390</td>\n",
       "      <td>B</td>\n",
       "      <td>39</td>\n",
       "      <td>40</td>\n",
       "      <td>221801</td>\n",
       "      <td>1294</td>\n",
       "      <td>0.030912</td>\n",
       "    </tr>\n",
       "    <tr>\n",
       "      <th>2</th>\n",
       "      <td>2019-08-03</td>\n",
       "      <td>A</td>\n",
       "      <td>60</td>\n",
       "      <td>66</td>\n",
       "      <td>346854</td>\n",
       "      <td>1845</td>\n",
       "      <td>0.035772</td>\n",
       "      <td>B</td>\n",
       "      <td>53</td>\n",
       "      <td>54</td>\n",
       "      <td>288850</td>\n",
       "      <td>1803</td>\n",
       "      <td>0.029950</td>\n",
       "    </tr>\n",
       "  </tbody>\n",
       "</table>\n",
       "</div>"
      ],
      "text/plain": [
       "        date groupA  buyersA  ordersA  revenueA  visitorsA  conversionA  \\\n",
       "0 2019-08-01      A       19       23    142779        719     0.031989   \n",
       "1 2019-08-02      A       36       42    234381       1338     0.031390   \n",
       "2 2019-08-03      A       60       66    346854       1845     0.035772   \n",
       "\n",
       "  groupB  buyersB  ordersB  revenueB  visitorsB  conversionB  \n",
       "0      B       17       17     59758        713     0.023843  \n",
       "1      B       39       40    221801       1294     0.030912  \n",
       "2      B       53       54    288850       1803     0.029950  "
      ]
     },
     "execution_count": 38,
     "metadata": {},
     "output_type": "execute_result"
    }
   ],
   "source": [
    "mergedCumulativeRevenue = cumulativeDataA.merge(cumulativeDataB, on = 'date', how = 'left', suffixes=['A', 'B'])\n",
    "mergedCumulativeRevenue.head(3)"
   ]
  },
  {
   "cell_type": "code",
   "execution_count": 39,
   "metadata": {},
   "outputs": [
    {
     "name": "stdout",
     "output_type": "stream",
     "text": [
      "\n"
     ]
    },
    {
     "data": {
      "image/png": "[encoded data removed]",
      "text/plain": [
       "<Figure size 864x288 with 1 Axes>"
      ]
     },
     "metadata": {
      "needs_background": "light"
     },
     "output_type": "display_data"
    }
   ],
   "source": [
    "plt.figure(figsize = (12,4))\n",
    "plt.plot(mergedCumulativeRevenue['date'],\\\n",
    "         (mergedCumulativeRevenue['revenueB'] / mergedCumulativeRevenue['ordersB']) / \\\n",
    "         (mergedCumulativeRevenue['revenueA'] / mergedCumulativeRevenue['ordersB']) - 1)\n",
    "plt.axhline(y = 0.4, color = 'black', linestyle = '--')\n",
    "plt.title('График относительного изменения кумулятивного среднего чека группы B к группе A')\n",
    "print()"
   ]
  },
  {
   "cell_type": "markdown",
   "metadata": {},
   "source": [
    "Есть скачок 18-19 числа, после 21 числа график выравнивается.\n",
    "\n",
    "\n",
    "Вначале гуппа В проигрывала, но в итоге вырывается вперёд, оставаясь выше группы А на 40%"
   ]
  },
  {
   "cell_type": "markdown",
   "metadata": {},
   "source": [
    "### Построим график кумулятивной конверсии по группам. "
   ]
  },
  {
   "cell_type": "code",
   "execution_count": 40,
   "metadata": {},
   "outputs": [
    {
     "name": "stdout",
     "output_type": "stream",
     "text": [
      "\n"
     ]
    },
    {
     "data": {
      "image/png": "[encoded data removed]",
      "text/plain": [
       "<Figure size 864x288 with 1 Axes>"
      ]
     },
     "metadata": {
      "needs_background": "light"
     },
     "output_type": "display_data"
    }
   ],
   "source": [
    "plt.figure(figsize = (12,4))\n",
    "plt.plot(cumulativeDataA['date'], cumulativeDataA['conversion'], label = 'A')\n",
    "plt.plot(cumulativeDataB['date'], cumulativeDataB['conversion'], label = 'B')\n",
    "plt.title('График кумулятивной конверсии по группам')\n",
    "plt.legend()\n",
    "print()"
   ]
  },
  {
   "cell_type": "markdown",
   "metadata": {},
   "source": [
    "Конверсия группы B выравнивается, и становиться выше чем конверсия группы A"
   ]
  },
  {
   "cell_type": "code",
   "execution_count": null,
   "metadata": {},
   "outputs": [],
   "source": []
  },
  {
   "cell_type": "markdown",
   "metadata": {},
   "source": [
    "### Построим график относительного изменения кумулятивной конверсии группы B к группе A. "
   ]
  },
  {
   "cell_type": "code",
   "execution_count": 41,
   "metadata": {},
   "outputs": [
    {
     "name": "stdout",
     "output_type": "stream",
     "text": [
      "\n"
     ]
    },
    {
     "data": {
      "image/png": "[encoded data removed]",
      "text/plain": [
       "<Figure size 864x288 with 1 Axes>"
      ]
     },
     "metadata": {
      "needs_background": "light"
     },
     "output_type": "display_data"
    }
   ],
   "source": [
    "plt.figure(figsize = (12,4))\n",
    "plt.plot(cumulativeDataA['date'], mergedCumulativeRevenue['conversionB'] / mergedCumulativeRevenue['conversionA'] - 1)\n",
    "\n",
    "plt.title('График относительного изменения кумулятивной конверсии группы B к группе A')\n",
    "print()"
   ]
  },
  {
   "cell_type": "markdown",
   "metadata": {},
   "source": [
    "Видим колебания конверсии вначале теста, но после 21 числа кумулятивная конверсия группы B к группе A выравнивается. Конверсия группы B стабильно выше"
   ]
  },
  {
   "cell_type": "markdown",
   "metadata": {},
   "source": [
    "### Построим точечный график количества заказов по пользователям. "
   ]
  },
  {
   "cell_type": "code",
   "execution_count": 42,
   "metadata": {
    "scrolled": false
   },
   "outputs": [
    {
     "data": {
      "image/png": "[encoded data removed]",
      "text/plain": [
       "<Figure size 1080x432 with 2 Axes>"
      ]
     },
     "metadata": {
      "needs_background": "light"
     },
     "output_type": "display_data"
    }
   ],
   "source": [
    "import warnings\n",
    "warnings.filterwarnings('ignore')\n",
    "\n",
    "orders_by_user = orders.groupby('visitorId', as_index= False).agg({\n",
    "    'transactionId' : 'nunique'\n",
    "})\n",
    "plt.figure(figsize=(15, 6)) \n",
    "plt.subplot(1, 2, 1)\n",
    "plt.hist(orders_by_user['transactionId'])\n",
    "plt.title('Гистограмма числа заказов')\n",
    "\n",
    "\n",
    "plt.subplot(1, 2, 2)\n",
    "x = pd.Series(range(0, len( orders_by_user['transactionId'])))\n",
    "plt.scatter(x , orders_by_user['transactionId'])\n",
    "plt.title('Распределение числа заказов по пользователям ')\n",
    "plt.subplot(1, 2, 1)\n",
    "plt.show()\n"
   ]
  },
  {
   "cell_type": "markdown",
   "metadata": {},
   "source": [
    "Видим что пользователи в основном заказывают е более 3 товаров"
   ]
  },
  {
   "cell_type": "markdown",
   "metadata": {},
   "source": [
    "### Посчитаем 95-й и 99-й перцентили количества заказов на пользователя. Выберем границу для определения аномальных пользователей."
   ]
  },
  {
   "cell_type": "code",
   "execution_count": 43,
   "metadata": {},
   "outputs": [
    {
     "name": "stdout",
     "output_type": "stream",
     "text": [
      "95 процентиль = 1.0 . 99 процентиль = 2.0\n"
     ]
    }
   ],
   "source": [
    "p_99_95 = np.percentile(orders_by_user['transactionId'], [95, 99])\n",
    "print('95 процентиль = {} . 99 процентиль = {}'.format(p_99_95[0], p_99_95[1]))"
   ]
  },
  {
   "cell_type": "markdown",
   "metadata": {},
   "source": [
    "Пусть границей будет 2 заказа. Пользователей, которые совершают 3+ заказа будем считать аномалиями"
   ]
  },
  {
   "cell_type": "markdown",
   "metadata": {},
   "source": [
    "### Построим точечный график стоимостей заказов. "
   ]
  },
  {
   "cell_type": "code",
   "execution_count": 44,
   "metadata": {
    "scrolled": false
   },
   "outputs": [
    {
     "data": {
      "image/png": "[encoded data removed]",
      "text/plain": [
       "<Figure size 1080x432 with 2 Axes>"
      ]
     },
     "metadata": {
      "needs_background": "light"
     },
     "output_type": "display_data"
    }
   ],
   "source": [
    "\n",
    "plt.figure(figsize=(15, 6)) \n",
    "plt.subplot(1, 2, 1)\n",
    "plt.hist(orders['revenue'])\n",
    "plt.title('Гистограмма распределения стоимости заказов')\n",
    "\n",
    "\n",
    "plt.subplot(1, 2, 2)\n",
    "x = pd.Series(range(0, len(orders['revenue'])))\n",
    "plt.scatter(x , orders['revenue'])\n",
    "plt.title('Распределение стоимости заказов')\n",
    "plt.axhline(y = 0.2e6, color = 'black', linestyle = '--')\n",
    "plt.subplot(1, 2, 1)\n",
    "plt.show()"
   ]
  },
  {
   "cell_type": "markdown",
   "metadata": {},
   "source": [
    "Видим 2 сильных выброса для суммы заказа >= 200 000, это явные аномалии"
   ]
  },
  {
   "cell_type": "markdown",
   "metadata": {},
   "source": [
    "###  Посчитаем 95-й и 99-й перцентили стоимости заказов. Выберем границу для определения аномальных заказов."
   ]
  },
  {
   "cell_type": "code",
   "execution_count": 45,
   "metadata": {},
   "outputs": [
    {
     "name": "stdout",
     "output_type": "stream",
     "text": [
      "95 процентиль = 26785.0 . 99 процентиль = 53904.0\n"
     ]
    }
   ],
   "source": [
    "p_95_99 = np.percentile(orders['revenue'], [95, 99])\n",
    "print('95 процентиль = {} . 99 процентиль = {}'.format(p_95_99[0], p_95_99[1]))"
   ]
  },
  {
   "cell_type": "markdown",
   "metadata": {},
   "source": [
    "Возьмём за границу - 95 процентиль, пользователи которые закуают на большую сумму - аномалии"
   ]
  },
  {
   "cell_type": "markdown",
   "metadata": {},
   "source": [
    "Составим список id аномальных пользователей"
   ]
  },
  {
   "cell_type": "code",
   "execution_count": 46,
   "metadata": {},
   "outputs": [
    {
     "data": {
      "text/plain": [
       "58"
      ]
     },
     "execution_count": 46,
     "metadata": {},
     "output_type": "execute_result"
    }
   ],
   "source": [
    "Abnormal_users_id = pd.concat([orders_by_user[orders_by_user['transactionId'] >=3]['visitorId'], \\\n",
    "           orders[orders['revenue'] >= p_95_99[0]]['visitorId']], axis = 0).drop_duplicates()\n",
    "len(Abnormal_users_id)"
   ]
  },
  {
   "cell_type": "markdown",
   "metadata": {},
   "source": [
    "Всего 58 аномальных пользователя"
   ]
  },
  {
   "cell_type": "markdown",
   "metadata": {},
   "source": [
    "### Посчитаем статистическую значимость различий в конверсии между группами по «сырым» данным. "
   ]
  },
  {
   "cell_type": "markdown",
   "metadata": {},
   "source": [
    "Отфильтруем таблицу orders по группам, для каждой даты сосчитаем число заказов, присоеденим число визитов за этот день"
   ]
  },
  {
   "cell_type": "code",
   "execution_count": 24,
   "metadata": {
    "scrolled": false
   },
   "outputs": [
    {
     "data": {
      "text/html": [
       "<div>\n",
       "<style scoped>\n",
       "    .dataframe tbody tr th:only-of-type {\n",
       "        vertical-align: middle;\n",
       "    }\n",
       "\n",
       "    .dataframe tbody tr th {\n",
       "        vertical-align: top;\n",
       "    }\n",
       "\n",
       "    .dataframe thead th {\n",
       "        text-align: right;\n",
       "    }\n",
       "</style>\n",
       "<table border=\"1\" class=\"dataframe\">\n",
       "  <thead>\n",
       "    <tr style=\"text-align: right;\">\n",
       "      <th></th>\n",
       "      <th>date</th>\n",
       "      <th>group</th>\n",
       "      <th>visitors</th>\n",
       "      <th>orders_per_day</th>\n",
       "      <th>conversion</th>\n",
       "    </tr>\n",
       "  </thead>\n",
       "  <tbody>\n",
       "    <tr>\n",
       "      <th>0</th>\n",
       "      <td>2019-08-01</td>\n",
       "      <td>A</td>\n",
       "      <td>719</td>\n",
       "      <td>23</td>\n",
       "      <td>0.031989</td>\n",
       "    </tr>\n",
       "    <tr>\n",
       "      <th>1</th>\n",
       "      <td>2019-08-02</td>\n",
       "      <td>A</td>\n",
       "      <td>619</td>\n",
       "      <td>19</td>\n",
       "      <td>0.030695</td>\n",
       "    </tr>\n",
       "    <tr>\n",
       "      <th>2</th>\n",
       "      <td>2019-08-03</td>\n",
       "      <td>A</td>\n",
       "      <td>507</td>\n",
       "      <td>24</td>\n",
       "      <td>0.047337</td>\n",
       "    </tr>\n",
       "    <tr>\n",
       "      <th>3</th>\n",
       "      <td>2019-08-04</td>\n",
       "      <td>A</td>\n",
       "      <td>717</td>\n",
       "      <td>11</td>\n",
       "      <td>0.015342</td>\n",
       "    </tr>\n",
       "    <tr>\n",
       "      <th>4</th>\n",
       "      <td>2019-08-05</td>\n",
       "      <td>A</td>\n",
       "      <td>756</td>\n",
       "      <td>22</td>\n",
       "      <td>0.029101</td>\n",
       "    </tr>\n",
       "  </tbody>\n",
       "</table>\n",
       "</div>"
      ],
      "text/plain": [
       "        date group  visitors  orders_per_day  conversion\n",
       "0 2019-08-01     A       719              23    0.031989\n",
       "1 2019-08-02     A       619              19    0.030695\n",
       "2 2019-08-03     A       507              24    0.047337\n",
       "3 2019-08-04     A       717              11    0.015342\n",
       "4 2019-08-05     A       756              22    0.029101"
      ]
     },
     "metadata": {},
     "output_type": "display_data"
    },
    {
     "data": {
      "text/html": [
       "<div>\n",
       "<style scoped>\n",
       "    .dataframe tbody tr th:only-of-type {\n",
       "        vertical-align: middle;\n",
       "    }\n",
       "\n",
       "    .dataframe tbody tr th {\n",
       "        vertical-align: top;\n",
       "    }\n",
       "\n",
       "    .dataframe thead th {\n",
       "        text-align: right;\n",
       "    }\n",
       "</style>\n",
       "<table border=\"1\" class=\"dataframe\">\n",
       "  <thead>\n",
       "    <tr style=\"text-align: right;\">\n",
       "      <th></th>\n",
       "      <th>date</th>\n",
       "      <th>group</th>\n",
       "      <th>visitors</th>\n",
       "      <th>orders_per_day</th>\n",
       "      <th>conversion</th>\n",
       "    </tr>\n",
       "  </thead>\n",
       "  <tbody>\n",
       "    <tr>\n",
       "      <th>0</th>\n",
       "      <td>2019-08-01</td>\n",
       "      <td>B</td>\n",
       "      <td>713</td>\n",
       "      <td>17</td>\n",
       "      <td>0.023843</td>\n",
       "    </tr>\n",
       "    <tr>\n",
       "      <th>1</th>\n",
       "      <td>2019-08-02</td>\n",
       "      <td>B</td>\n",
       "      <td>581</td>\n",
       "      <td>23</td>\n",
       "      <td>0.039587</td>\n",
       "    </tr>\n",
       "    <tr>\n",
       "      <th>2</th>\n",
       "      <td>2019-08-03</td>\n",
       "      <td>B</td>\n",
       "      <td>509</td>\n",
       "      <td>14</td>\n",
       "      <td>0.027505</td>\n",
       "    </tr>\n",
       "    <tr>\n",
       "      <th>3</th>\n",
       "      <td>2019-08-04</td>\n",
       "      <td>B</td>\n",
       "      <td>770</td>\n",
       "      <td>14</td>\n",
       "      <td>0.018182</td>\n",
       "    </tr>\n",
       "    <tr>\n",
       "      <th>4</th>\n",
       "      <td>2019-08-05</td>\n",
       "      <td>B</td>\n",
       "      <td>707</td>\n",
       "      <td>21</td>\n",
       "      <td>0.029703</td>\n",
       "    </tr>\n",
       "  </tbody>\n",
       "</table>\n",
       "</div>"
      ],
      "text/plain": [
       "        date group  visitors  orders_per_day  conversion\n",
       "0 2019-08-01     B       713              17    0.023843\n",
       "1 2019-08-02     B       581              23    0.039587\n",
       "2 2019-08-03     B       509              14    0.027505\n",
       "3 2019-08-04     B       770              14    0.018182\n",
       "4 2019-08-05     B       707              21    0.029703"
      ]
     },
     "execution_count": 24,
     "metadata": {},
     "output_type": "execute_result"
    }
   ],
   "source": [
    "orders_A = orders.query('group == \"A\"').groupby('date', as_index= False).agg({'transactionId' : 'nunique'})\n",
    "orders_B = orders.query('group == \"B\"').groupby('date', as_index= False).agg({'transactionId' : 'nunique'})\n",
    "\n",
    "orders_A.columns = ['date', 'orders_per_day']\n",
    "orders_B.columns = ['date', 'orders_per_day']\n",
    "\n",
    "visitors_A = visitors.query('group == \"A\"').merge(orders_A, on = ['date'], how = 'left')\n",
    "visitors_A['conversion'] = visitors_A['orders_per_day'] / visitors_A['visitors']\n",
    "\n",
    "visitors_B = visitors.query('group == \"B\"').merge(orders_B, on = ['date'], how = 'left')\n",
    "visitors_B['conversion'] = visitors_B['orders_per_day'] / visitors_B['visitors']\n",
    "\n",
    "display(visitors_A.head())\n",
    "visitors_B.head()"
   ]
  },
  {
   "cell_type": "markdown",
   "metadata": {},
   "source": [
    "Получим относительную разницу среднего конверсий и p=value по непараметрическому тесту :\n",
    "\n",
    "    - непараметрический тест, тк мы видели выбросы и у нас много значениий около нуля"
   ]
  },
  {
   "cell_type": "markdown",
   "metadata": {},
   "source": [
    "<div class=\"alert alert-info\">\n",
    "Тут и далее: \n",
    "    \n",
    "    \n",
    "    H_0 - нулевая гипотеза : различия в выборках не являются статистически значимыми\n",
    "    H_1 - альтернативная гипотеза : выборки различаются \n",
    "</div>"
   ]
  },
  {
   "cell_type": "code",
   "execution_count": 25,
   "metadata": {},
   "outputs": [
    {
     "name": "stdout",
     "output_type": "stream",
     "text": [
      "Различие : 0.175\n",
      "p-value = 0.054\n"
     ]
    }
   ],
   "source": [
    "alpha = 0.05\n",
    "# можем взять уже посчитанную одним способом конверсию :\n",
    "print('Различие : {0:.3f}'.format(visitors_B['conversion'].mean() / visitors_A['conversion'].mean() - 1))\n",
    "print('p-value = {0:.3f}'.format(st.mannwhitneyu(visitors_A['conversion'], visitors_B['conversion'])[1]))"
   ]
  },
  {
   "cell_type": "markdown",
   "metadata": {},
   "source": [
    "С p-value = 0.054 не можем отвергнуть нулевую гипотезу о неразличимости выборок. \n",
    "\n",
    "То есть если мы возьмем не одну, а 100 выборок, то по каждой мы можем провести отдельный тест и получить случайную величину p-value (100 раз разную). Если мы задали уровень значимости 0.05 и у нас реально нет отличия в средних, то можно ожидать, что в 5 случаях p-value будет достаточно малым, чтобы мы отвергли H0 и допустили ошибку 1-го рода. При этом p-value для ситуаций, когда мы не отвергнем H0 будет случайно болтаться в промежутке от 1 до 0.05. "
   ]
  },
  {
   "cell_type": "code",
   "execution_count": 47,
   "metadata": {},
   "outputs": [],
   "source": [
    "# А можем посчитать по другому, Посчитаем количество заказов на покупателя в каждой группе\n",
    "orders_A_by_user = orders.query('group == \"A\"').groupby('visitorId', as_index=False).agg({\n",
    "    'transactionId' : 'nunique'\n",
    "})\n",
    "orders_A_by_user.columns = ['visitor_id_A', 'n_orders']\n",
    "\n",
    "orders_B_by_user = orders.query('group == \"B\"').groupby('visitorId', as_index=False).agg({\n",
    "    'transactionId' : 'nunique'\n",
    "})\n",
    "orders_B_by_user.columns = ['visitor_id_B', 'n_orders']\n",
    "\n",
    "# найдём число покупателей которые ничего не заказывали в каждой группе - значит число их заказов = 0\n",
    "# это сумма числа пользователей за все даты - длина датафрейма с заказами на пользователя \n",
    "\n",
    "\n",
    "# соеденим их\n",
    "sample_A = pd.concat([orders_A_by_user['n_orders'] ,\\\n",
    "pd.Series(0, index = np.arange(visitors.query('group == \"A\"')['visitors'].sum() - len(orders_A_by_user)))],axis = 0 )\n",
    "\n",
    "\n",
    "sample_B = pd.concat([orders_B_by_user['n_orders'] ,\\\n",
    "pd.Series(0, index = np.arange(visitors.query('group == \"B\"')['visitors'].sum() - len(orders_B_by_user)))], axis = 0)"
   ]
  },
  {
   "cell_type": "code",
   "execution_count": 29,
   "metadata": {},
   "outputs": [
    {
     "name": "stdout",
     "output_type": "stream",
     "text": [
      "Различие : 0.160\n",
      "p-value = 0.011\n"
     ]
    }
   ],
   "source": [
    "alpha = 0.05\n",
    "\n",
    "print('Различие : {0:.3f}'.format(sample_B.mean() / sample_A.mean() - 1))\n",
    "print('p-value = {0:.3f}'.format(st.mannwhitneyu(sample_A, sample_B)[1]))"
   ]
  },
  {
   "cell_type": "markdown",
   "metadata": {},
   "source": [
    "Уже по сырым данным мы видим что конверсии статистисески значимо отличаются, конверсия во второй группе выше первой на 16%"
   ]
  },
  {
   "cell_type": "code",
   "execution_count": null,
   "metadata": {},
   "outputs": [],
   "source": []
  },
  {
   "cell_type": "markdown",
   "metadata": {},
   "source": [
    "### Посчитаем статистическую значимость различий в среднем чеке заказа между группами по «сырым» данным. "
   ]
  },
  {
   "cell_type": "markdown",
   "metadata": {},
   "source": [
    "    H_0 - нулевая гипотеза : различия в выборках не являются статистически значимыми\n",
    "    H_1 - альтернативная гипотеза : выборки различаются "
   ]
  },
  {
   "cell_type": "code",
   "execution_count": 30,
   "metadata": {},
   "outputs": [
    {
     "name": "stdout",
     "output_type": "stream",
     "text": [
      "Различие : 0.287\n",
      "p-value = 0.829\n"
     ]
    }
   ],
   "source": [
    "print('Различие : {0:.3f}'.format(orders[orders['group'] == \"B\"]['revenue'].mean() / \\\n",
    "                                  orders[orders['group'] == \"A\"]['revenue'].mean() - 1))\n",
    "print('p-value = {0:.3f}'.format(st.mannwhitneyu(orders[orders['group'] == \"B\"]['revenue'],\\\n",
    "                                    orders[orders['group'] == \"A\"]['revenue'])[1]))"
   ]
  },
  {
   "cell_type": "markdown",
   "metadata": {},
   "source": [
    "Хоть  и наблюдается относительное отличие в 28 процентов, p-value не позволяет отвергнуть нулевую гипотезу"
   ]
  },
  {
   "cell_type": "markdown",
   "metadata": {},
   "source": [
    "### Посчитаем статистическую значимость различий в конверсии между группами по «очищенным» данным. "
   ]
  },
  {
   "cell_type": "code",
   "execution_count": 31,
   "metadata": {},
   "outputs": [
    {
     "name": "stdout",
     "output_type": "stream",
     "text": [
      "Различие : 0.194\n",
      "p-value = 0.040\n"
     ]
    }
   ],
   "source": [
    "# можем посчитать конверсию так :\n",
    "# отфильтровали аномальных пользователей, сделали то же самое что и ранее\n",
    "\n",
    "orders_A = orders[np.logical_not(orders['visitorId'].isin(Abnormal_users_id))].query('group == \"A\"').groupby('date', \\\n",
    "                                                                       as_index= False).agg({'transactionId' : 'nunique'})\n",
    "orders_B = orders[np.logical_not(orders['visitorId'].isin(Abnormal_users_id))].query('group == \"B\"').groupby('date', \\\n",
    "                                                                  as_index= False).agg({'transactionId' : 'nunique'})\n",
    "\n",
    "orders_A.columns = ['date', 'orders_per_day']\n",
    "orders_B.columns = ['date', 'orders_per_day']\n",
    "\n",
    "visitors_A = visitors.query('group == \"A\"').merge(orders_A, on = ['date'], how = 'left')\n",
    "visitors_A['conversion'] = visitors_A['orders_per_day'] / visitors_A['visitors']\n",
    "\n",
    "visitors_B = visitors.query('group == \"B\"').merge(orders_B, on = ['date'], how = 'left')\n",
    "visitors_B['conversion'] = visitors_B['orders_per_day'] / visitors_B['visitors']\n",
    "\n",
    "\n",
    "print('Различие : {0:.3f}'.format(visitors_B['conversion'].mean() / visitors_A['conversion'].mean() - 1))\n",
    "print('p-value = {0:.3f}'.format(st.mannwhitneyu(visitors_A['conversion'], visitors_B['conversion'])[1]))"
   ]
  },
  {
   "cell_type": "markdown",
   "metadata": {},
   "source": [
    "p-value позволяет нам отвегнуть нулевую гипотезу, относительная разница конверсий изменилась с 17% до 19%"
   ]
  },
  {
   "cell_type": "code",
   "execution_count": 32,
   "metadata": {},
   "outputs": [
    {
     "name": "stdout",
     "output_type": "stream",
     "text": [
      "Различие : 0.182\n",
      "p-value = 0.012\n"
     ]
    }
   ],
   "source": [
    "# а можем посчитать конверсию в заказы как среднее число заказов на человека :\n",
    "\n",
    "# фильтр аномальных пользователей, сделали то же самое что и ранее\n",
    "\n",
    "orders_f = orders[np.logical_not(orders['visitorId'].isin(Abnormal_users_id))]\n",
    "\n",
    "\n",
    "# Посчитаем количество заказов на покупателя в каждой группе\n",
    "orders_A_by_user = orders_f.query('group == \"A\"').groupby('visitorId', as_index=False).agg({\n",
    "    'transactionId' : 'nunique'\n",
    "})\n",
    "orders_A_by_user.columns = ['visitor_id_A', 'n_orders']\n",
    "\n",
    "orders_B_by_user = orders_f.query('group == \"B\"').groupby('visitorId', as_index=False).agg({\n",
    "    'transactionId' : 'nunique'\n",
    "})\n",
    "orders_B_by_user.columns = ['visitor_id_B', 'n_orders']\n",
    "\n",
    "# найдём число покупателей которые ничего не заказывали в каждой группе - значит число их заказов = 0\n",
    "# это сумма числа пользователей за все даты - длина датафрейма с заказами на пользователя \n",
    "\n",
    "#visitors.query('group == \"A\"')['visitors'].sum() - len(orders_A_by_user)\n",
    "#visitors.query('group == \"B\"')['visitors'].sum() - len(orders_B_by_user)\n",
    "\n",
    "\n",
    "# соеденим их\n",
    "sample_A = pd.concat([orders_A_by_user['n_orders'] ,\\\n",
    "pd.Series(0, index = np.arange(visitors.query('group == \"A\"')['visitors'].sum() - len(orders_A_by_user)))],axis = 0 )\n",
    "\n",
    "\n",
    "sample_B = pd.concat([orders_B_by_user['n_orders'] ,\\\n",
    "pd.Series(0, index = np.arange(visitors.query('group == \"B\"')['visitors'].sum() - len(orders_B_by_user)))], axis = 0)\n",
    "\n",
    "alpha = 0.05\n",
    "\n",
    "print('Различие : {0:.3f}'.format(sample_B.mean() / sample_A.mean() - 1))\n",
    "print('p-value = {0:.3f}'.format(st.mannwhitneyu(sample_A, sample_B)[1]))"
   ]
  },
  {
   "cell_type": "markdown",
   "metadata": {},
   "source": [
    "Различие в конверсиях изменилось с 16% до 18% (у группы B выше)"
   ]
  },
  {
   "cell_type": "markdown",
   "metadata": {},
   "source": [
    "<div class=\"alert alert-info\">\n",
    "Можем считать что конверсия группы B значимо выше конверсии группы А\n",
    "    \n",
    "</div>"
   ]
  },
  {
   "cell_type": "markdown",
   "metadata": {},
   "source": [
    "###  Посчитаем статистическую значимость различий в среднем чеке заказа между группами по «очищенным» данным. "
   ]
  },
  {
   "cell_type": "code",
   "execution_count": 33,
   "metadata": {},
   "outputs": [
    {
     "name": "stdout",
     "output_type": "stream",
     "text": [
      "Различие : 0.051\n",
      "p-value = 0.646\n"
     ]
    }
   ],
   "source": [
    "orders_filtered_A = orders[np.logical_not(orders['visitorId'].isin(Abnormal_users_id))].query('group == \"A\"')\n",
    "orders_filtered_B = orders[np.logical_not(orders['visitorId'].isin(Abnormal_users_id))].query('group == \"B\"')\n",
    "\n",
    "print('Различие : {0:.3f}'.format(orders_filtered_A['revenue'].mean() / \\\n",
    "                                  orders_filtered_B['revenue'].mean() - 1))\n",
    "\n",
    "\n",
    "\n",
    "print('p-value = {0:.3f}'.format(st.mannwhitneyu(orders_filtered_A['revenue'],\\\n",
    "                                    orders_filtered_B['revenue'])[1]))"
   ]
  },
  {
   "cell_type": "markdown",
   "metadata": {},
   "source": [
    "Всё ещё нет причин отвергать нулевую гипотезу, относительная разность изменилась с 28% до 5%"
   ]
  },
  {
   "cell_type": "code",
   "execution_count": null,
   "metadata": {},
   "outputs": [],
   "source": []
  },
  {
   "cell_type": "markdown",
   "metadata": {},
   "source": [
    "### Решение по результатам теста.\n",
    "\n",
    "Варианты решений: \n",
    "\n",
    "1. Остановить тест, зафиксировать победу одной из групп. \n",
    "2. Остановить тест, зафиксировать отсутствие различий между группами. \n",
    "3. Продолжить тест."
   ]
  },
  {
   "cell_type": "markdown",
   "metadata": {},
   "source": [
    "Посмотрим на гафики с **фильтрованными данными:**"
   ]
  },
  {
   "cell_type": "code",
   "execution_count": 34,
   "metadata": {},
   "outputs": [],
   "source": [
    "#отфильтруем данные\n",
    "orders_filtered = orders[np.logical_not(orders['visitorId'].isin(Abnormal_users_id))]\n",
    "\n",
    "\n",
    "ordersAggregated = date_group.apply(lambda x : orders_filtered[np.logical_and(orders_filtered['group'] == x['group'], \\\n",
    "                                                                     orders_filtered['date'] <= x['date'])].agg({\n",
    "    'date' : 'max',\n",
    "    'group' : 'max',\n",
    "    'visitorId' : 'nunique',\n",
    "    'transactionId' : 'nunique',\n",
    "    'revenue' : 'sum'\n",
    "}), axis = 1).sort_values(by = ['date', 'group'])\n",
    "\n",
    "\n",
    "visitorsAggregated = date_group.apply(lambda x : visitors[np.logical_and(visitors['group'] == x['group'], \\\n",
    "                                                                         visitors['date'] <= x['date'])].agg({\n",
    "    'date' : 'max',\n",
    "    'group' : 'max',\n",
    "    'visitors' : 'sum',\n",
    "}), axis = 1).sort_values(by = ['date', 'group'])\n",
    "\n",
    "cumulativeData = ordersAggregated.merge(visitorsAggregated, on = ['date', 'group'])\n",
    "cumulativeData.columns = ['date', 'group', 'buyers', 'orders', 'revenue', 'visitors']\n",
    "\n",
    "\n",
    "# посчитаем сразу конверсию\n",
    "cumulativeData['conversion'] = cumulativeData['orders'] / cumulativeData['visitors']\n",
    "#cumulativeData['conversion'] = cumulativeData['buyers'] / cumulativeData['visitors']\n",
    "# PS мы в тренажёре смотрели конверсию в покупки, а не в покупателей\n",
    "\n",
    "cumulativeDataA = cumulativeData[cumulativeData['group'] == \"A\"]\n",
    "cumulativeDataB = cumulativeData[cumulativeData['group'] == \"B\"]\n",
    "\n"
   ]
  },
  {
   "cell_type": "code",
   "execution_count": 35,
   "metadata": {},
   "outputs": [
    {
     "name": "stdout",
     "output_type": "stream",
     "text": [
      "\n"
     ]
    },
    {
     "data": {
      "image/png": "[encoded data removed]",
      "text/plain": [
       "<Figure size 864x288 with 1 Axes>"
      ]
     },
     "metadata": {
      "needs_background": "light"
     },
     "output_type": "display_data"
    }
   ],
   "source": [
    "plt.figure(figsize = (12,4))\n",
    "plt.plot(cumulativeDataA['date'], cumulativeDataA['revenue'], label = 'A')\n",
    "plt.plot(cumulativeDataB['date'], cumulativeDataB['revenue'], label = 'B')\n",
    "plt.title('График кумулятивной выручки по группам')\n",
    "plt.legend()\n",
    "print()"
   ]
  },
  {
   "cell_type": "code",
   "execution_count": 36,
   "metadata": {},
   "outputs": [
    {
     "name": "stdout",
     "output_type": "stream",
     "text": [
      "\n"
     ]
    },
    {
     "data": {
      "image/png": "[encoded data removed]",
      "text/plain": [
       "<Figure size 864x288 with 1 Axes>"
      ]
     },
     "metadata": {
      "needs_background": "light"
     },
     "output_type": "display_data"
    }
   ],
   "source": [
    "plt.figure(figsize = (12,4))\n",
    "plt.plot(cumulativeDataA['date'], cumulativeDataA['revenue'] / cumulativeDataA['orders'], label = 'A')\n",
    "plt.plot(cumulativeDataB['date'], cumulativeDataB['revenue'] / cumulativeDataB['orders'], label = 'B')\n",
    "plt.title('График кумулятивного среднего чека по группам')\n",
    "plt.legend()\n",
    "print()"
   ]
  },
  {
   "cell_type": "markdown",
   "metadata": {},
   "source": [
    "Для кумулятивной выручки и среднего чека мы уже не наблюдаем резких изменеий"
   ]
  },
  {
   "cell_type": "code",
   "execution_count": 37,
   "metadata": {
    "scrolled": true
   },
   "outputs": [
    {
     "name": "stdout",
     "output_type": "stream",
     "text": [
      "\n"
     ]
    },
    {
     "data": {
      "image/png": "[encoded data removed]",
      "text/plain": [
       "<Figure size 864x288 with 1 Axes>"
      ]
     },
     "metadata": {
      "needs_background": "light"
     },
     "output_type": "display_data"
    }
   ],
   "source": [
    "plt.figure(figsize = (12,4))\n",
    "plt.plot(cumulativeDataA['date'], cumulativeDataA['conversion'], label = 'A')\n",
    "plt.plot(cumulativeDataB['date'], cumulativeDataB['conversion'], label = 'B')\n",
    "plt.title('График кумулятивной конверсии по группам')\n",
    "plt.legend()\n",
    "print()"
   ]
  },
  {
   "cell_type": "code",
   "execution_count": null,
   "metadata": {},
   "outputs": [],
   "source": []
  },
  {
   "cell_type": "markdown",
   "metadata": {},
   "source": [
    "## Общие выводы по результатам тестов"
   ]
  },
  {
   "cell_type": "markdown",
   "metadata": {},
   "source": [
    "\n",
    "Видим статистически значимое различие в конверсии между группами по чистым данным, конверсия группы B выше конверсии группы A. (на 18%)\n",
    " \n",
    "* нет значимых различий в среднем чеке по группам\n",
    "* конверсия группы B значимо больше\n",
    "* по кумулятивной выручке мы видим что с группы B мы стабильно больше зарабатываем\n",
    "\n",
    "\n",
    "тест можно **остановить** и признать его успешным"
   ]
  },
  {
   "cell_type": "code",
   "execution_count": null,
   "metadata": {},
   "outputs": [],
   "source": []
  },
  {
   "cell_type": "code",
   "execution_count": null,
   "metadata": {},
   "outputs": [],
   "source": []
  },
  {
   "cell_type": "code",
   "execution_count": null,
   "metadata": {},
   "outputs": [],
   "source": []
  },
  {
   "cell_type": "code",
   "execution_count": null,
   "metadata": {},
   "outputs": [],
   "source": []
  }
 ],
 "metadata": {
  "ExecuteTimeLog": [
   {
    "duration": 1255,
    "start_time": "2022-07-14T05:14:53.394Z"
   },
   {
    "duration": 51,
    "start_time": "2022-07-14T05:15:21.679Z"
   },
   {
    "duration": 39,
    "start_time": "2022-07-14T05:15:29.531Z"
   },
   {
    "duration": 129,
    "start_time": "2022-07-14T05:18:20.022Z"
   },
   {
    "duration": 19,
    "start_time": "2022-07-14T05:18:23.963Z"
   },
   {
    "duration": 20,
    "start_time": "2022-07-14T05:18:31.540Z"
   },
   {
    "duration": 33,
    "start_time": "2022-07-14T05:18:38.575Z"
   },
   {
    "duration": 56,
    "start_time": "2022-07-14T05:20:31.258Z"
   },
   {
    "duration": 7,
    "start_time": "2022-07-14T05:29:29.707Z"
   },
   {
    "duration": 4,
    "start_time": "2022-07-14T05:31:16.500Z"
   },
   {
    "duration": 4,
    "start_time": "2022-07-14T05:31:22.495Z"
   },
   {
    "duration": 3,
    "start_time": "2022-07-14T05:31:42.663Z"
   },
   {
    "duration": 7,
    "start_time": "2022-07-14T05:31:51.906Z"
   },
   {
    "duration": 11,
    "start_time": "2022-07-14T05:32:32.523Z"
   },
   {
    "duration": 14,
    "start_time": "2022-07-14T05:33:21.086Z"
   },
   {
    "duration": 9,
    "start_time": "2022-07-14T05:33:38.258Z"
   },
   {
    "duration": 11,
    "start_time": "2022-07-14T05:35:12.948Z"
   },
   {
    "duration": 9,
    "start_time": "2022-07-14T05:35:50.235Z"
   },
   {
    "duration": 9,
    "start_time": "2022-07-14T05:38:36.980Z"
   },
   {
    "duration": 5,
    "start_time": "2022-07-14T05:38:46.465Z"
   },
   {
    "duration": 5,
    "start_time": "2022-07-14T05:38:53.530Z"
   },
   {
    "duration": 9,
    "start_time": "2022-07-14T05:38:58.735Z"
   },
   {
    "duration": 5,
    "start_time": "2022-07-14T05:39:01.365Z"
   },
   {
    "duration": 5,
    "start_time": "2022-07-14T05:39:51.017Z"
   },
   {
    "duration": 5,
    "start_time": "2022-07-14T05:39:55.475Z"
   },
   {
    "duration": 12,
    "start_time": "2022-07-14T05:53:45.948Z"
   },
   {
    "duration": 12,
    "start_time": "2022-07-14T05:53:59.525Z"
   },
   {
    "duration": 15,
    "start_time": "2022-07-14T05:54:06.209Z"
   },
   {
    "duration": 7,
    "start_time": "2022-07-14T05:54:19.299Z"
   },
   {
    "duration": 5,
    "start_time": "2022-07-14T05:54:33.448Z"
   },
   {
    "duration": 13,
    "start_time": "2022-07-14T05:54:40.389Z"
   },
   {
    "duration": 32,
    "start_time": "2022-07-14T05:55:19.203Z"
   },
   {
    "duration": 39,
    "start_time": "2022-07-14T05:55:46.336Z"
   },
   {
    "duration": 3,
    "start_time": "2022-07-14T05:56:33.638Z"
   },
   {
    "duration": 32,
    "start_time": "2022-07-14T05:56:33.857Z"
   },
   {
    "duration": 27,
    "start_time": "2022-07-14T05:56:34.149Z"
   },
   {
    "duration": 6,
    "start_time": "2022-07-14T05:57:06.715Z"
   },
   {
    "duration": 15,
    "start_time": "2022-07-14T05:57:10.435Z"
   },
   {
    "duration": 15,
    "start_time": "2022-07-14T05:57:19.739Z"
   },
   {
    "duration": 12,
    "start_time": "2022-07-14T05:57:38.001Z"
   },
   {
    "duration": 17,
    "start_time": "2022-07-14T05:57:38.704Z"
   },
   {
    "duration": 4,
    "start_time": "2022-07-14T05:58:02.040Z"
   },
   {
    "duration": 10,
    "start_time": "2022-07-14T05:58:09.251Z"
   },
   {
    "duration": 13,
    "start_time": "2022-07-14T05:58:28.799Z"
   },
   {
    "duration": 10,
    "start_time": "2022-07-14T05:58:54.228Z"
   },
   {
    "duration": 13,
    "start_time": "2022-07-14T05:59:11.882Z"
   },
   {
    "duration": 7,
    "start_time": "2022-07-14T05:59:19.121Z"
   },
   {
    "duration": 5,
    "start_time": "2022-07-14T05:59:23.907Z"
   },
   {
    "duration": 11,
    "start_time": "2022-07-14T05:59:37.828Z"
   },
   {
    "duration": 10,
    "start_time": "2022-07-14T05:59:50.303Z"
   },
   {
    "duration": 16,
    "start_time": "2022-07-14T06:03:43.791Z"
   },
   {
    "duration": 13,
    "start_time": "2022-07-14T06:04:01.161Z"
   },
   {
    "duration": 875,
    "start_time": "2022-07-14T06:06:18.459Z"
   },
   {
    "duration": 11,
    "start_time": "2022-07-14T06:06:41.571Z"
   },
   {
    "duration": 1494,
    "start_time": "2022-07-14T06:09:17.375Z"
   },
   {
    "duration": 14,
    "start_time": "2022-07-14T06:09:56.299Z"
   },
   {
    "duration": 13,
    "start_time": "2022-07-14T06:10:00.321Z"
   },
   {
    "duration": 3,
    "start_time": "2022-07-14T06:10:50.323Z"
   },
   {
    "duration": 177,
    "start_time": "2022-07-14T06:12:11.805Z"
   },
   {
    "duration": 10,
    "start_time": "2022-07-14T06:14:55.288Z"
   },
   {
    "duration": 139,
    "start_time": "2022-07-14T06:16:51.911Z"
   },
   {
    "duration": 273,
    "start_time": "2022-07-14T06:17:59.419Z"
   },
   {
    "duration": 11,
    "start_time": "2022-07-14T06:18:01.077Z"
   },
   {
    "duration": 17,
    "start_time": "2022-07-14T06:18:47.269Z"
   },
   {
    "duration": 12,
    "start_time": "2022-07-14T06:21:03.393Z"
   },
   {
    "duration": 18,
    "start_time": "2022-07-14T06:24:17.440Z"
   },
   {
    "duration": 1307,
    "start_time": "2022-07-14T07:54:42.117Z"
   },
   {
    "duration": 129,
    "start_time": "2022-07-14T07:54:43.426Z"
   },
   {
    "duration": 155,
    "start_time": "2022-07-14T07:54:43.556Z"
   },
   {
    "duration": 8,
    "start_time": "2022-07-14T07:54:43.713Z"
   },
   {
    "duration": 21,
    "start_time": "2022-07-14T07:54:43.723Z"
   },
   {
    "duration": 20,
    "start_time": "2022-07-14T07:54:43.746Z"
   },
   {
    "duration": 14,
    "start_time": "2022-07-14T07:54:43.768Z"
   },
   {
    "duration": 363,
    "start_time": "2022-07-14T07:54:43.784Z"
   },
   {
    "duration": 267,
    "start_time": "2022-07-14T07:54:44.814Z"
   },
   {
    "duration": 12,
    "start_time": "2022-07-14T07:54:45.257Z"
   },
   {
    "duration": 283,
    "start_time": "2022-07-14T07:54:45.980Z"
   },
   {
    "duration": 168,
    "start_time": "2022-07-14T07:54:57.228Z"
   },
   {
    "duration": 184,
    "start_time": "2022-07-14T07:55:07.256Z"
   },
   {
    "duration": 170,
    "start_time": "2022-07-14T07:55:16.280Z"
   },
   {
    "duration": 209,
    "start_time": "2022-07-14T07:55:37.057Z"
   },
   {
    "duration": 199,
    "start_time": "2022-07-14T07:55:55.977Z"
   },
   {
    "duration": 345,
    "start_time": "2022-07-14T07:56:00.938Z"
   },
   {
    "duration": 179,
    "start_time": "2022-07-14T07:56:07.857Z"
   },
   {
    "duration": 204,
    "start_time": "2022-07-14T07:56:27.061Z"
   },
   {
    "duration": 189,
    "start_time": "2022-07-14T07:56:34.923Z"
   },
   {
    "duration": 2,
    "start_time": "2022-07-14T07:59:29.481Z"
   },
   {
    "duration": 65,
    "start_time": "2022-07-14T07:59:31.669Z"
   },
   {
    "duration": 53,
    "start_time": "2022-07-14T07:59:32.378Z"
   },
   {
    "duration": 6,
    "start_time": "2022-07-14T07:59:32.586Z"
   },
   {
    "duration": 11,
    "start_time": "2022-07-14T07:59:33.370Z"
   },
   {
    "duration": 12,
    "start_time": "2022-07-14T07:59:33.661Z"
   },
   {
    "duration": 15,
    "start_time": "2022-07-14T07:59:34.284Z"
   },
   {
    "duration": 258,
    "start_time": "2022-07-14T07:59:34.435Z"
   },
   {
    "duration": 12,
    "start_time": "2022-07-14T07:59:34.695Z"
   },
   {
    "duration": 197,
    "start_time": "2022-07-14T07:59:34.759Z"
   },
   {
    "duration": 207,
    "start_time": "2022-07-14T07:59:34.958Z"
   },
   {
    "duration": 10,
    "start_time": "2022-07-14T07:59:35.166Z"
   },
   {
    "duration": 245,
    "start_time": "2022-07-14T08:07:40.457Z"
   },
   {
    "duration": 11,
    "start_time": "2022-07-14T08:08:59.366Z"
   },
   {
    "duration": 13,
    "start_time": "2022-07-14T08:09:06.105Z"
   },
   {
    "duration": 4,
    "start_time": "2022-07-14T08:10:41.433Z"
   },
   {
    "duration": 4,
    "start_time": "2022-07-14T08:10:49.124Z"
   },
   {
    "duration": 6,
    "start_time": "2022-07-14T08:11:25.599Z"
   },
   {
    "duration": 7,
    "start_time": "2022-07-14T08:11:36.761Z"
   },
   {
    "duration": 7,
    "start_time": "2022-07-14T08:11:51.771Z"
   },
   {
    "duration": 6,
    "start_time": "2022-07-14T08:12:00.413Z"
   },
   {
    "duration": 57,
    "start_time": "2022-07-14T08:12:04.591Z"
   },
   {
    "duration": 7,
    "start_time": "2022-07-14T08:12:07.943Z"
   },
   {
    "duration": 10,
    "start_time": "2022-07-14T08:13:15.435Z"
   },
   {
    "duration": 11,
    "start_time": "2022-07-14T08:13:20.050Z"
   },
   {
    "duration": 18,
    "start_time": "2022-07-14T08:13:57.679Z"
   },
   {
    "duration": 13,
    "start_time": "2022-07-14T08:14:05.857Z"
   },
   {
    "duration": 209,
    "start_time": "2022-07-14T08:14:47.698Z"
   },
   {
    "duration": 163,
    "start_time": "2022-07-14T08:15:20.739Z"
   },
   {
    "duration": 194,
    "start_time": "2022-07-14T08:15:29.067Z"
   },
   {
    "duration": 233,
    "start_time": "2022-07-14T08:15:33.772Z"
   },
   {
    "duration": 14,
    "start_time": "2022-07-14T08:17:25.961Z"
   },
   {
    "duration": 13,
    "start_time": "2022-07-14T08:17:45.521Z"
   },
   {
    "duration": 3,
    "start_time": "2022-07-14T08:26:54.568Z"
   },
   {
    "duration": 59,
    "start_time": "2022-07-14T08:26:54.574Z"
   },
   {
    "duration": 45,
    "start_time": "2022-07-14T08:26:54.634Z"
   },
   {
    "duration": 5,
    "start_time": "2022-07-14T08:26:54.682Z"
   },
   {
    "duration": 28,
    "start_time": "2022-07-14T08:26:54.689Z"
   },
   {
    "duration": 27,
    "start_time": "2022-07-14T08:26:54.718Z"
   },
   {
    "duration": 24,
    "start_time": "2022-07-14T08:26:54.747Z"
   },
   {
    "duration": 290,
    "start_time": "2022-07-14T08:26:54.773Z"
   },
   {
    "duration": 12,
    "start_time": "2022-07-14T08:26:55.065Z"
   },
   {
    "duration": 182,
    "start_time": "2022-07-14T08:27:24.983Z"
   },
   {
    "duration": 182,
    "start_time": "2022-07-14T08:27:30.627Z"
   },
   {
    "duration": 15,
    "start_time": "2022-07-14T08:27:33.217Z"
   },
   {
    "duration": 147,
    "start_time": "2022-07-14T08:27:34.127Z"
   },
   {
    "duration": 12,
    "start_time": "2022-07-14T08:27:54.130Z"
   },
   {
    "duration": 198,
    "start_time": "2022-07-14T08:28:35.246Z"
   },
   {
    "duration": 188,
    "start_time": "2022-07-14T08:28:55.341Z"
   },
   {
    "duration": 172,
    "start_time": "2022-07-14T08:28:58.402Z"
   },
   {
    "duration": 15,
    "start_time": "2022-07-14T08:28:59.059Z"
   },
   {
    "duration": 157,
    "start_time": "2022-07-14T08:28:59.237Z"
   },
   {
    "duration": 244,
    "start_time": "2022-07-14T08:29:01.998Z"
   },
   {
    "duration": 323,
    "start_time": "2022-07-14T08:29:11.647Z"
   },
   {
    "duration": 184,
    "start_time": "2022-07-14T08:29:15.749Z"
   },
   {
    "duration": 152,
    "start_time": "2022-07-14T08:30:32.972Z"
   },
   {
    "duration": 16,
    "start_time": "2022-07-14T08:30:44.939Z"
   },
   {
    "duration": 175,
    "start_time": "2022-07-14T08:30:59.953Z"
   },
   {
    "duration": 159,
    "start_time": "2022-07-14T08:31:19.193Z"
   },
   {
    "duration": 13,
    "start_time": "2022-07-14T08:33:21.110Z"
   },
   {
    "duration": 12,
    "start_time": "2022-07-14T08:33:32.620Z"
   },
   {
    "duration": 6,
    "start_time": "2022-07-14T08:35:35.690Z"
   },
   {
    "duration": 13,
    "start_time": "2022-07-14T08:35:40.673Z"
   },
   {
    "duration": 13,
    "start_time": "2022-07-14T08:36:02.372Z"
   },
   {
    "duration": 13,
    "start_time": "2022-07-14T08:36:09.541Z"
   },
   {
    "duration": 104,
    "start_time": "2022-07-14T08:36:39.436Z"
   },
   {
    "duration": 126,
    "start_time": "2022-07-14T08:36:50.608Z"
   },
   {
    "duration": 95,
    "start_time": "2022-07-14T08:37:04.795Z"
   },
   {
    "duration": 6,
    "start_time": "2022-07-14T08:39:55.243Z"
   },
   {
    "duration": 6,
    "start_time": "2022-07-14T08:39:59.449Z"
   },
   {
    "duration": 5,
    "start_time": "2022-07-14T08:40:03.713Z"
   },
   {
    "duration": 277,
    "start_time": "2022-07-14T08:40:21.814Z"
   },
   {
    "duration": 194,
    "start_time": "2022-07-14T08:40:29.473Z"
   },
   {
    "duration": 205,
    "start_time": "2022-07-14T08:41:48.811Z"
   },
   {
    "duration": 4,
    "start_time": "2022-07-14T08:41:57.076Z"
   },
   {
    "duration": 5,
    "start_time": "2022-07-14T08:42:00.022Z"
   },
   {
    "duration": 3,
    "start_time": "2022-07-14T08:42:41.213Z"
   },
   {
    "duration": 180,
    "start_time": "2022-07-14T08:43:05.020Z"
   },
   {
    "duration": 271,
    "start_time": "2022-07-14T08:43:13.747Z"
   },
   {
    "duration": 294,
    "start_time": "2022-07-14T08:43:34.175Z"
   },
   {
    "duration": 31,
    "start_time": "2022-07-14T08:45:14.280Z"
   },
   {
    "duration": 29,
    "start_time": "2022-07-14T08:45:27.030Z"
   },
   {
    "duration": 31,
    "start_time": "2022-07-14T08:45:32.379Z"
   },
   {
    "duration": 305,
    "start_time": "2022-07-14T08:45:48.750Z"
   },
   {
    "duration": 477,
    "start_time": "2022-07-14T08:45:57.814Z"
   },
   {
    "duration": 187,
    "start_time": "2022-07-14T08:46:27.812Z"
   },
   {
    "duration": 50,
    "start_time": "2022-07-14T08:46:43.815Z"
   },
   {
    "duration": 81,
    "start_time": "2022-07-14T08:46:48.784Z"
   },
   {
    "duration": 200,
    "start_time": "2022-07-14T08:47:04.638Z"
   },
   {
    "duration": 194,
    "start_time": "2022-07-14T08:47:18.733Z"
   },
   {
    "duration": 202,
    "start_time": "2022-07-14T08:47:28.787Z"
   },
   {
    "duration": 216,
    "start_time": "2022-07-14T08:48:22.013Z"
   },
   {
    "duration": 9,
    "start_time": "2022-07-14T08:50:20.484Z"
   },
   {
    "duration": 5,
    "start_time": "2022-07-14T08:50:35.570Z"
   },
   {
    "duration": 11,
    "start_time": "2022-07-14T08:52:36.337Z"
   },
   {
    "duration": 8,
    "start_time": "2022-07-14T08:54:04.892Z"
   },
   {
    "duration": 8,
    "start_time": "2022-07-14T08:54:27.576Z"
   },
   {
    "duration": 49,
    "start_time": "2022-07-14T08:54:46.277Z"
   },
   {
    "duration": 5,
    "start_time": "2022-07-14T08:56:27.524Z"
   },
   {
    "duration": 4,
    "start_time": "2022-07-14T08:56:36.749Z"
   },
   {
    "duration": 12,
    "start_time": "2022-07-14T08:58:34.805Z"
   },
   {
    "duration": 136,
    "start_time": "2022-07-14T09:01:28.303Z"
   },
   {
    "duration": 257,
    "start_time": "2022-07-14T09:01:59.885Z"
   },
   {
    "duration": 445,
    "start_time": "2022-07-14T09:03:52.266Z"
   },
   {
    "duration": 290,
    "start_time": "2022-07-14T09:04:02.297Z"
   },
   {
    "duration": 443,
    "start_time": "2022-07-14T09:04:08.580Z"
   },
   {
    "duration": 4,
    "start_time": "2022-07-14T09:05:32.057Z"
   },
   {
    "duration": 13,
    "start_time": "2022-07-14T09:21:12.848Z"
   },
   {
    "duration": 18,
    "start_time": "2022-07-14T09:21:27.270Z"
   },
   {
    "duration": 4,
    "start_time": "2022-07-14T09:27:27.408Z"
   },
   {
    "duration": 12,
    "start_time": "2022-07-14T09:27:45.962Z"
   },
   {
    "duration": 12,
    "start_time": "2022-07-14T09:30:51.207Z"
   },
   {
    "duration": 12,
    "start_time": "2022-07-14T09:34:27.584Z"
   },
   {
    "duration": 9,
    "start_time": "2022-07-14T09:36:34.248Z"
   },
   {
    "duration": 8,
    "start_time": "2022-07-14T09:38:52.326Z"
   },
   {
    "duration": 8,
    "start_time": "2022-07-14T09:39:06.612Z"
   },
   {
    "duration": 12,
    "start_time": "2022-07-14T09:39:09.601Z"
   },
   {
    "duration": 19,
    "start_time": "2022-07-14T09:41:06.907Z"
   },
   {
    "duration": 12,
    "start_time": "2022-07-14T09:41:19.497Z"
   },
   {
    "duration": 14,
    "start_time": "2022-07-14T09:41:32.258Z"
   },
   {
    "duration": 25,
    "start_time": "2022-07-14T09:42:16.705Z"
   },
   {
    "duration": 15,
    "start_time": "2022-07-14T09:42:56.125Z"
   },
   {
    "duration": 16,
    "start_time": "2022-07-14T09:43:12.395Z"
   },
   {
    "duration": 11,
    "start_time": "2022-07-14T09:44:04.844Z"
   },
   {
    "duration": 19,
    "start_time": "2022-07-14T09:45:33.008Z"
   },
   {
    "duration": 33,
    "start_time": "2022-07-14T09:48:06.610Z"
   },
   {
    "duration": 9,
    "start_time": "2022-07-14T09:48:57.622Z"
   },
   {
    "duration": 2,
    "start_time": "2022-07-14T09:50:16.333Z"
   },
   {
    "duration": 7,
    "start_time": "2022-07-14T09:50:20.627Z"
   },
   {
    "duration": 8,
    "start_time": "2022-07-14T09:55:40.132Z"
   },
   {
    "duration": 8,
    "start_time": "2022-07-14T09:55:51.444Z"
   },
   {
    "duration": 11,
    "start_time": "2022-07-14T09:56:20.653Z"
   },
   {
    "duration": 17,
    "start_time": "2022-07-14T09:56:24.891Z"
   },
   {
    "duration": 12,
    "start_time": "2022-07-14T09:59:43.667Z"
   },
   {
    "duration": 14,
    "start_time": "2022-07-14T09:59:47.888Z"
   },
   {
    "duration": 11,
    "start_time": "2022-07-14T10:00:31.854Z"
   },
   {
    "duration": 12,
    "start_time": "2022-07-14T10:00:34.161Z"
   },
   {
    "duration": 7,
    "start_time": "2022-07-14T10:01:07.552Z"
   },
   {
    "duration": 8,
    "start_time": "2022-07-14T10:01:10.614Z"
   },
   {
    "duration": 7,
    "start_time": "2022-07-14T10:01:21.198Z"
   },
   {
    "duration": 8,
    "start_time": "2022-07-14T10:01:25.502Z"
   },
   {
    "duration": 7,
    "start_time": "2022-07-14T10:02:09.280Z"
   },
   {
    "duration": 7,
    "start_time": "2022-07-14T10:02:20.421Z"
   },
   {
    "duration": 7,
    "start_time": "2022-07-14T10:02:57.464Z"
   },
   {
    "duration": 15,
    "start_time": "2022-07-14T10:03:39.407Z"
   },
   {
    "duration": 11,
    "start_time": "2022-07-14T10:14:05.060Z"
   },
   {
    "duration": 10,
    "start_time": "2022-07-14T10:16:07.474Z"
   },
   {
    "duration": 9,
    "start_time": "2022-07-14T10:16:31.965Z"
   },
   {
    "duration": 13,
    "start_time": "2022-07-14T10:18:28.914Z"
   },
   {
    "duration": 10,
    "start_time": "2022-07-14T10:19:21.679Z"
   },
   {
    "duration": 46,
    "start_time": "2022-07-14T10:21:25.661Z"
   },
   {
    "duration": 5,
    "start_time": "2022-07-14T10:21:32.724Z"
   },
   {
    "duration": 13,
    "start_time": "2022-07-14T10:21:46.803Z"
   },
   {
    "duration": 26,
    "start_time": "2022-07-14T10:23:24.897Z"
   },
   {
    "duration": 14,
    "start_time": "2022-07-14T10:26:31.870Z"
   },
   {
    "duration": 13,
    "start_time": "2022-07-14T10:29:00.661Z"
   },
   {
    "duration": 6,
    "start_time": "2022-07-14T10:29:16.373Z"
   },
   {
    "duration": 5,
    "start_time": "2022-07-14T10:29:24.124Z"
   },
   {
    "duration": 28,
    "start_time": "2022-07-14T10:30:29.703Z"
   },
   {
    "duration": 11,
    "start_time": "2022-07-14T10:30:33.758Z"
   },
   {
    "duration": 11,
    "start_time": "2022-07-14T10:30:43.968Z"
   },
   {
    "duration": 7,
    "start_time": "2022-07-14T10:31:06.775Z"
   },
   {
    "duration": 6,
    "start_time": "2022-07-14T10:31:11.766Z"
   },
   {
    "duration": 11,
    "start_time": "2022-07-14T10:40:34.229Z"
   },
   {
    "duration": 275,
    "start_time": "2022-07-14T10:41:02.127Z"
   },
   {
    "duration": 191,
    "start_time": "2022-07-14T10:41:03.548Z"
   },
   {
    "duration": 184,
    "start_time": "2022-07-14T10:41:07.266Z"
   },
   {
    "duration": 194,
    "start_time": "2022-07-14T10:41:10.557Z"
   },
   {
    "duration": 273,
    "start_time": "2022-07-14T10:52:51.882Z"
   },
   {
    "duration": 1211,
    "start_time": "2022-07-14T10:53:01.576Z"
   },
   {
    "duration": 53,
    "start_time": "2022-07-14T10:53:02.789Z"
   },
   {
    "duration": 88,
    "start_time": "2022-07-14T10:53:02.843Z"
   },
   {
    "duration": 7,
    "start_time": "2022-07-14T10:53:02.932Z"
   },
   {
    "duration": 41,
    "start_time": "2022-07-14T10:53:02.940Z"
   },
   {
    "duration": 52,
    "start_time": "2022-07-14T10:53:02.983Z"
   },
   {
    "duration": 54,
    "start_time": "2022-07-14T10:53:03.036Z"
   },
   {
    "duration": 284,
    "start_time": "2022-07-14T10:53:03.092Z"
   },
   {
    "duration": 266,
    "start_time": "2022-07-14T10:53:03.377Z"
   },
   {
    "duration": 187,
    "start_time": "2022-07-14T10:53:03.645Z"
   },
   {
    "duration": 18,
    "start_time": "2022-07-14T10:53:03.835Z"
   },
   {
    "duration": 178,
    "start_time": "2022-07-14T10:53:03.855Z"
   },
   {
    "duration": 208,
    "start_time": "2022-07-14T10:53:04.035Z"
   },
   {
    "duration": 167,
    "start_time": "2022-07-14T10:53:04.244Z"
   },
   {
    "duration": 230,
    "start_time": "2022-07-14T10:53:04.412Z"
   },
   {
    "duration": 4,
    "start_time": "2022-07-14T10:53:04.644Z"
   },
   {
    "duration": 414,
    "start_time": "2022-07-14T10:53:04.650Z"
   },
   {
    "duration": 5,
    "start_time": "2022-07-14T10:53:05.066Z"
   },
   {
    "duration": 13,
    "start_time": "2022-07-14T10:53:05.073Z"
   },
   {
    "duration": 124,
    "start_time": "2022-07-14T10:53:05.088Z"
   },
   {
    "duration": 5,
    "start_time": "2022-07-14T10:53:05.214Z"
   },
   {
    "duration": 21,
    "start_time": "2022-07-14T10:53:05.221Z"
   },
   {
    "duration": 27,
    "start_time": "2022-07-14T10:53:05.243Z"
   },
   {
    "duration": 11,
    "start_time": "2022-07-14T10:53:05.272Z"
   },
   {
    "duration": 290,
    "start_time": "2022-07-14T10:53:05.285Z"
   },
   {
    "duration": 209,
    "start_time": "2022-07-14T10:53:05.576Z"
   },
   {
    "duration": 203,
    "start_time": "2022-07-14T10:53:05.787Z"
   },
   {
    "duration": 224,
    "start_time": "2022-07-14T10:53:05.992Z"
   },
   {
    "duration": 1184,
    "start_time": "2022-07-14T12:32:25.517Z"
   },
   {
    "duration": 147,
    "start_time": "2022-07-14T12:32:26.703Z"
   },
   {
    "duration": 85,
    "start_time": "2022-07-14T12:32:26.851Z"
   },
   {
    "duration": 7,
    "start_time": "2022-07-14T12:32:26.937Z"
   },
   {
    "duration": 23,
    "start_time": "2022-07-14T12:32:26.945Z"
   },
   {
    "duration": 13,
    "start_time": "2022-07-14T12:32:26.970Z"
   },
   {
    "duration": 27,
    "start_time": "2022-07-14T12:32:26.984Z"
   },
   {
    "duration": 262,
    "start_time": "2022-07-14T12:32:27.013Z"
   },
   {
    "duration": 252,
    "start_time": "2022-07-14T12:32:27.277Z"
   },
   {
    "duration": 206,
    "start_time": "2022-07-14T12:32:27.531Z"
   },
   {
    "duration": 31,
    "start_time": "2022-07-14T12:32:27.738Z"
   },
   {
    "duration": 164,
    "start_time": "2022-07-14T12:32:27.771Z"
   },
   {
    "duration": 205,
    "start_time": "2022-07-14T12:32:27.936Z"
   },
   {
    "duration": 192,
    "start_time": "2022-07-14T12:32:28.142Z"
   },
   {
    "duration": 241,
    "start_time": "2022-07-14T12:32:28.336Z"
   },
   {
    "duration": 5,
    "start_time": "2022-07-14T12:32:28.578Z"
   },
   {
    "duration": 437,
    "start_time": "2022-07-14T12:32:28.585Z"
   },
   {
    "duration": 4,
    "start_time": "2022-07-14T12:32:29.024Z"
   },
   {
    "duration": 36,
    "start_time": "2022-07-14T12:32:29.029Z"
   },
   {
    "duration": 114,
    "start_time": "2022-07-14T12:32:29.067Z"
   },
   {
    "duration": 8,
    "start_time": "2022-07-14T12:32:29.183Z"
   },
   {
    "duration": 11,
    "start_time": "2022-07-14T12:32:29.193Z"
   },
   {
    "duration": 54,
    "start_time": "2022-07-14T12:32:29.206Z"
   },
   {
    "duration": 17,
    "start_time": "2022-07-14T12:32:29.262Z"
   },
   {
    "duration": 290,
    "start_time": "2022-07-14T12:32:29.280Z"
   },
   {
    "duration": 213,
    "start_time": "2022-07-14T12:32:29.571Z"
   },
   {
    "duration": 224,
    "start_time": "2022-07-14T12:32:29.786Z"
   },
   {
    "duration": 216,
    "start_time": "2022-07-14T12:32:30.013Z"
   },
   {
    "duration": 153,
    "start_time": "2022-07-14T14:14:59.880Z"
   },
   {
    "duration": 170,
    "start_time": "2022-07-14T14:15:03.105Z"
   },
   {
    "duration": 1304,
    "start_time": "2022-07-15T05:01:32.811Z"
   },
   {
    "duration": 121,
    "start_time": "2022-07-15T05:01:34.117Z"
   },
   {
    "duration": 89,
    "start_time": "2022-07-15T05:01:34.240Z"
   },
   {
    "duration": 6,
    "start_time": "2022-07-15T05:01:34.331Z"
   },
   {
    "duration": 6,
    "start_time": "2022-07-15T05:02:19.289Z"
   },
   {
    "duration": 9,
    "start_time": "2022-07-15T05:02:29.132Z"
   },
   {
    "duration": 7,
    "start_time": "2022-07-15T05:02:33.009Z"
   },
   {
    "duration": 11,
    "start_time": "2022-07-15T05:03:18.807Z"
   },
   {
    "duration": 8,
    "start_time": "2022-07-15T05:03:27.232Z"
   },
   {
    "duration": 21,
    "start_time": "2022-07-15T05:03:53.964Z"
   },
   {
    "duration": 17,
    "start_time": "2022-07-15T05:04:44.618Z"
   },
   {
    "duration": 8,
    "start_time": "2022-07-15T05:05:44.151Z"
   },
   {
    "duration": 12,
    "start_time": "2022-07-15T05:05:49.732Z"
   },
   {
    "duration": 93,
    "start_time": "2022-07-15T05:06:23.498Z"
   },
   {
    "duration": 4,
    "start_time": "2022-07-15T05:06:32.019Z"
   },
   {
    "duration": 9,
    "start_time": "2022-07-15T05:06:41.864Z"
   },
   {
    "duration": 4,
    "start_time": "2022-07-15T05:07:26.080Z"
   },
   {
    "duration": 9,
    "start_time": "2022-07-15T05:07:47.279Z"
   },
   {
    "duration": 11,
    "start_time": "2022-07-15T05:08:18.091Z"
   },
   {
    "duration": 8,
    "start_time": "2022-07-15T05:08:30.502Z"
   },
   {
    "duration": 8,
    "start_time": "2022-07-15T05:08:35.118Z"
   },
   {
    "duration": 10,
    "start_time": "2022-07-15T05:08:48.025Z"
   },
   {
    "duration": 15,
    "start_time": "2022-07-15T05:08:57.298Z"
   },
   {
    "duration": 13,
    "start_time": "2022-07-15T05:09:25.095Z"
   },
   {
    "duration": 9,
    "start_time": "2022-07-15T05:09:34.279Z"
   },
   {
    "duration": 11,
    "start_time": "2022-07-15T05:10:05.945Z"
   },
   {
    "duration": 23,
    "start_time": "2022-07-15T05:10:13.988Z"
   },
   {
    "duration": 10,
    "start_time": "2022-07-15T05:10:26.842Z"
   },
   {
    "duration": 7,
    "start_time": "2022-07-15T05:11:11.538Z"
   },
   {
    "duration": 13,
    "start_time": "2022-07-15T05:12:34.715Z"
   },
   {
    "duration": 13,
    "start_time": "2022-07-15T05:12:56.556Z"
   },
   {
    "duration": 18,
    "start_time": "2022-07-15T05:13:03.965Z"
   },
   {
    "duration": 6,
    "start_time": "2022-07-15T05:13:23.394Z"
   },
   {
    "duration": 11,
    "start_time": "2022-07-15T05:33:18.917Z"
   },
   {
    "duration": 6,
    "start_time": "2022-07-15T05:33:24.806Z"
   },
   {
    "duration": 7,
    "start_time": "2022-07-15T05:33:33.959Z"
   },
   {
    "duration": 10,
    "start_time": "2022-07-15T05:35:09.333Z"
   },
   {
    "duration": 8,
    "start_time": "2022-07-15T05:35:33.906Z"
   },
   {
    "duration": 15,
    "start_time": "2022-07-15T05:35:45.402Z"
   },
   {
    "duration": 18,
    "start_time": "2022-07-15T05:37:25.652Z"
   },
   {
    "duration": 13,
    "start_time": "2022-07-15T05:38:19.394Z"
   },
   {
    "duration": 12,
    "start_time": "2022-07-15T05:41:29.964Z"
   },
   {
    "duration": 12,
    "start_time": "2022-07-15T05:41:40.388Z"
   },
   {
    "duration": 13,
    "start_time": "2022-07-15T05:46:17.395Z"
   },
   {
    "duration": 274,
    "start_time": "2022-07-15T05:46:28.348Z"
   },
   {
    "duration": 245,
    "start_time": "2022-07-15T05:46:31.615Z"
   },
   {
    "duration": 91,
    "start_time": "2022-07-15T05:50:19.495Z"
   },
   {
    "duration": 85,
    "start_time": "2022-07-15T05:50:28.504Z"
   },
   {
    "duration": 5,
    "start_time": "2022-07-15T05:51:15.651Z"
   },
   {
    "duration": 83,
    "start_time": "2022-07-15T05:51:26.942Z"
   },
   {
    "duration": 84,
    "start_time": "2022-07-15T05:52:42.350Z"
   },
   {
    "duration": 188,
    "start_time": "2022-07-15T05:53:47.428Z"
   },
   {
    "duration": 16,
    "start_time": "2022-07-15T05:54:04.058Z"
   },
   {
    "duration": 172,
    "start_time": "2022-07-15T05:54:09.900Z"
   },
   {
    "duration": 302,
    "start_time": "2022-07-15T05:55:10.052Z"
   },
   {
    "duration": 199,
    "start_time": "2022-07-15T05:55:33.898Z"
   },
   {
    "duration": 256,
    "start_time": "2022-07-15T05:55:39.944Z"
   },
   {
    "duration": 187,
    "start_time": "2022-07-15T05:58:31.168Z"
   },
   {
    "duration": 160,
    "start_time": "2022-07-15T05:58:35.625Z"
   },
   {
    "duration": 162,
    "start_time": "2022-07-15T05:58:51.488Z"
   },
   {
    "duration": 248,
    "start_time": "2022-07-15T05:59:48.120Z"
   },
   {
    "duration": 278,
    "start_time": "2022-07-15T06:02:25.369Z"
   },
   {
    "duration": 254,
    "start_time": "2022-07-15T06:03:21.741Z"
   },
   {
    "duration": 5,
    "start_time": "2022-07-15T06:03:29.144Z"
   },
   {
    "duration": 329,
    "start_time": "2022-07-15T06:03:43.042Z"
   },
   {
    "duration": 395,
    "start_time": "2022-07-15T06:05:35.132Z"
   },
   {
    "duration": 4,
    "start_time": "2022-07-15T06:05:50.625Z"
   },
   {
    "duration": 5,
    "start_time": "2022-07-15T06:08:05.713Z"
   },
   {
    "duration": 8,
    "start_time": "2022-07-15T06:08:07.930Z"
   },
   {
    "duration": 10,
    "start_time": "2022-07-15T06:12:21.799Z"
   },
   {
    "duration": 292,
    "start_time": "2022-07-15T06:12:25.396Z"
   },
   {
    "duration": 7,
    "start_time": "2022-07-15T06:12:27.621Z"
   },
   {
    "duration": 13,
    "start_time": "2022-07-15T06:16:37.046Z"
   },
   {
    "duration": 9,
    "start_time": "2022-07-15T06:16:54.635Z"
   },
   {
    "duration": 11,
    "start_time": "2022-07-15T06:17:05.561Z"
   },
   {
    "duration": 11,
    "start_time": "2022-07-15T06:24:12.898Z"
   },
   {
    "duration": 31,
    "start_time": "2022-07-15T06:24:56.779Z"
   },
   {
    "duration": 14,
    "start_time": "2022-07-15T06:27:30.762Z"
   },
   {
    "duration": 290,
    "start_time": "2022-07-15T06:28:57.670Z"
   },
   {
    "duration": 283,
    "start_time": "2022-07-15T06:29:30.941Z"
   },
   {
    "duration": 193,
    "start_time": "2022-07-15T06:29:31.914Z"
   },
   {
    "duration": 215,
    "start_time": "2022-07-15T06:29:36.152Z"
   },
   {
    "duration": 174,
    "start_time": "2022-07-15T06:29:49.141Z"
   },
   {
    "duration": 1077,
    "start_time": "2022-07-15T06:55:04.235Z"
   },
   {
    "duration": 56,
    "start_time": "2022-07-15T06:55:05.315Z"
   },
   {
    "duration": 46,
    "start_time": "2022-07-15T06:55:05.373Z"
   },
   {
    "duration": 10,
    "start_time": "2022-07-15T06:55:05.421Z"
   },
   {
    "duration": 30,
    "start_time": "2022-07-15T06:55:05.433Z"
   },
   {
    "duration": 12,
    "start_time": "2022-07-15T06:55:05.465Z"
   },
   {
    "duration": 33,
    "start_time": "2022-07-15T06:55:05.479Z"
   },
   {
    "duration": 28,
    "start_time": "2022-07-15T06:55:05.513Z"
   },
   {
    "duration": 19,
    "start_time": "2022-07-15T06:55:05.543Z"
   },
   {
    "duration": 12,
    "start_time": "2022-07-15T06:55:05.565Z"
   },
   {
    "duration": 277,
    "start_time": "2022-07-15T06:55:05.579Z"
   },
   {
    "duration": 267,
    "start_time": "2022-07-15T06:55:05.858Z"
   },
   {
    "duration": 98,
    "start_time": "2022-07-15T06:55:06.127Z"
   },
   {
    "duration": 199,
    "start_time": "2022-07-15T06:55:06.226Z"
   },
   {
    "duration": 17,
    "start_time": "2022-07-15T06:55:06.426Z"
   },
   {
    "duration": 300,
    "start_time": "2022-07-15T06:55:06.445Z"
   },
   {
    "duration": 204,
    "start_time": "2022-07-15T06:55:06.747Z"
   },
   {
    "duration": 169,
    "start_time": "2022-07-15T06:55:06.953Z"
   },
   {
    "duration": 272,
    "start_time": "2022-07-15T06:55:07.123Z"
   },
   {
    "duration": 6,
    "start_time": "2022-07-15T06:55:07.397Z"
   },
   {
    "duration": 458,
    "start_time": "2022-07-15T06:55:07.405Z"
   },
   {
    "duration": 4,
    "start_time": "2022-07-15T06:55:07.865Z"
   },
   {
    "duration": 11,
    "start_time": "2022-07-15T06:55:07.870Z"
   },
   {
    "duration": 44,
    "start_time": "2022-07-15T06:55:07.882Z"
   },
   {
    "duration": 6,
    "start_time": "2022-07-15T06:55:07.927Z"
   },
   {
    "duration": 24,
    "start_time": "2022-07-15T06:55:07.934Z"
   },
   {
    "duration": 28,
    "start_time": "2022-07-15T06:55:07.959Z"
   },
   {
    "duration": 21,
    "start_time": "2022-07-15T06:55:07.990Z"
   },
   {
    "duration": 279,
    "start_time": "2022-07-15T06:55:08.012Z"
   },
   {
    "duration": 186,
    "start_time": "2022-07-15T06:55:08.293Z"
   },
   {
    "duration": 203,
    "start_time": "2022-07-15T06:55:08.481Z"
   },
   {
    "duration": 190,
    "start_time": "2022-07-15T06:55:08.686Z"
   },
   {
    "duration": 1162,
    "start_time": "2022-07-15T11:45:37.706Z"
   },
   {
    "duration": 129,
    "start_time": "2022-07-15T11:45:38.870Z"
   },
   {
    "duration": 99,
    "start_time": "2022-07-15T11:45:39.000Z"
   },
   {
    "duration": 6,
    "start_time": "2022-07-15T11:45:39.101Z"
   },
   {
    "duration": 23,
    "start_time": "2022-07-15T11:45:39.109Z"
   },
   {
    "duration": 10,
    "start_time": "2022-07-15T11:45:39.133Z"
   },
   {
    "duration": 16,
    "start_time": "2022-07-15T11:45:39.145Z"
   },
   {
    "duration": 11,
    "start_time": "2022-07-15T11:45:39.163Z"
   },
   {
    "duration": 36,
    "start_time": "2022-07-15T11:45:39.175Z"
   },
   {
    "duration": 14,
    "start_time": "2022-07-15T11:45:39.214Z"
   },
   {
    "duration": 301,
    "start_time": "2022-07-15T11:45:39.230Z"
   },
   {
    "duration": 275,
    "start_time": "2022-07-15T11:45:39.533Z"
   },
   {
    "duration": 102,
    "start_time": "2022-07-15T11:45:39.810Z"
   },
   {
    "duration": 194,
    "start_time": "2022-07-15T11:45:39.914Z"
   },
   {
    "duration": 15,
    "start_time": "2022-07-15T11:45:40.110Z"
   },
   {
    "duration": 294,
    "start_time": "2022-07-15T11:45:40.127Z"
   },
   {
    "duration": 182,
    "start_time": "2022-07-15T11:45:40.423Z"
   },
   {
    "duration": 169,
    "start_time": "2022-07-15T11:45:40.607Z"
   },
   {
    "duration": 270,
    "start_time": "2022-07-15T11:45:40.777Z"
   },
   {
    "duration": 4,
    "start_time": "2022-07-15T11:45:41.049Z"
   },
   {
    "duration": 436,
    "start_time": "2022-07-15T11:45:41.054Z"
   },
   {
    "duration": 9,
    "start_time": "2022-07-15T11:45:41.491Z"
   },
   {
    "duration": 11,
    "start_time": "2022-07-15T11:45:41.502Z"
   },
   {
    "duration": 38,
    "start_time": "2022-07-15T11:45:41.514Z"
   },
   {
    "duration": 6,
    "start_time": "2022-07-15T11:45:41.553Z"
   },
   {
    "duration": 10,
    "start_time": "2022-07-15T11:45:41.561Z"
   },
   {
    "duration": 53,
    "start_time": "2022-07-15T11:45:41.572Z"
   },
   {
    "duration": 12,
    "start_time": "2022-07-15T11:45:41.628Z"
   },
   {
    "duration": 284,
    "start_time": "2022-07-15T11:45:41.641Z"
   },
   {
    "duration": 181,
    "start_time": "2022-07-15T11:45:41.927Z"
   },
   {
    "duration": 193,
    "start_time": "2022-07-15T11:45:42.109Z"
   },
   {
    "duration": 189,
    "start_time": "2022-07-15T11:45:42.304Z"
   },
   {
    "duration": 102,
    "start_time": "2022-07-15T12:12:03.511Z"
   },
   {
    "duration": 182,
    "start_time": "2022-07-15T12:12:08.194Z"
   },
   {
    "duration": 1123,
    "start_time": "2022-07-15T12:12:13.893Z"
   },
   {
    "duration": 57,
    "start_time": "2022-07-15T12:12:15.018Z"
   },
   {
    "duration": 48,
    "start_time": "2022-07-15T12:12:15.076Z"
   },
   {
    "duration": 7,
    "start_time": "2022-07-15T12:12:15.126Z"
   },
   {
    "duration": 27,
    "start_time": "2022-07-15T12:12:15.135Z"
   },
   {
    "duration": 10,
    "start_time": "2022-07-15T12:12:15.164Z"
   },
   {
    "duration": 13,
    "start_time": "2022-07-15T12:12:15.176Z"
   },
   {
    "duration": 24,
    "start_time": "2022-07-15T12:12:15.190Z"
   },
   {
    "duration": 39,
    "start_time": "2022-07-15T12:12:15.216Z"
   },
   {
    "duration": 16,
    "start_time": "2022-07-15T12:12:15.258Z"
   },
   {
    "duration": 343,
    "start_time": "2022-07-15T12:12:15.276Z"
   },
   {
    "duration": 274,
    "start_time": "2022-07-15T12:12:15.620Z"
   },
   {
    "duration": 178,
    "start_time": "2022-07-15T12:12:15.901Z"
   },
   {
    "duration": 194,
    "start_time": "2022-07-15T12:12:16.080Z"
   },
   {
    "duration": 27,
    "start_time": "2022-07-15T12:12:16.275Z"
   },
   {
    "duration": 311,
    "start_time": "2022-07-15T12:12:16.304Z"
   },
   {
    "duration": 192,
    "start_time": "2022-07-15T12:12:16.617Z"
   },
   {
    "duration": 182,
    "start_time": "2022-07-15T12:12:16.811Z"
   },
   {
    "duration": 291,
    "start_time": "2022-07-15T12:12:16.994Z"
   },
   {
    "duration": 7,
    "start_time": "2022-07-15T12:12:17.287Z"
   },
   {
    "duration": 484,
    "start_time": "2022-07-15T12:12:17.301Z"
   },
   {
    "duration": 4,
    "start_time": "2022-07-15T12:12:17.787Z"
   },
   {
    "duration": 11,
    "start_time": "2022-07-15T12:12:17.801Z"
   },
   {
    "duration": 37,
    "start_time": "2022-07-15T12:12:17.814Z"
   },
   {
    "duration": 6,
    "start_time": "2022-07-15T12:12:17.853Z"
   },
   {
    "duration": 23,
    "start_time": "2022-07-15T12:12:17.861Z"
   },
   {
    "duration": 50,
    "start_time": "2022-07-15T12:12:17.885Z"
   },
   {
    "duration": 12,
    "start_time": "2022-07-15T12:12:17.938Z"
   },
   {
    "duration": 301,
    "start_time": "2022-07-15T12:12:17.952Z"
   },
   {
    "duration": 201,
    "start_time": "2022-07-15T12:12:18.255Z"
   },
   {
    "duration": 212,
    "start_time": "2022-07-15T12:12:18.457Z"
   },
   {
    "duration": 206,
    "start_time": "2022-07-15T12:12:18.670Z"
   },
   {
    "duration": 11,
    "start_time": "2022-07-15T12:54:23.022Z"
   },
   {
    "duration": 14,
    "start_time": "2022-07-15T12:54:31.308Z"
   },
   {
    "duration": 11,
    "start_time": "2022-07-15T12:54:37.688Z"
   },
   {
    "duration": 116,
    "start_time": "2022-07-15T12:58:26.397Z"
   },
   {
    "duration": 6,
    "start_time": "2022-07-15T12:58:30.644Z"
   },
   {
    "duration": 1255,
    "start_time": "2022-07-16T05:03:24.784Z"
   },
   {
    "duration": 129,
    "start_time": "2022-07-16T05:03:26.041Z"
   },
   {
    "duration": 92,
    "start_time": "2022-07-16T05:03:26.171Z"
   },
   {
    "duration": 7,
    "start_time": "2022-07-16T05:03:29.820Z"
   },
   {
    "duration": 18,
    "start_time": "2022-07-16T05:03:30.039Z"
   },
   {
    "duration": 10,
    "start_time": "2022-07-16T05:03:30.224Z"
   },
   {
    "duration": 12,
    "start_time": "2022-07-16T05:03:30.598Z"
   },
   {
    "duration": 12,
    "start_time": "2022-07-16T05:04:21.289Z"
   },
   {
    "duration": 258,
    "start_time": "2022-07-16T05:04:21.494Z"
   },
   {
    "duration": 258,
    "start_time": "2022-07-16T05:05:17.609Z"
   },
   {
    "duration": 176,
    "start_time": "2022-07-16T05:06:47.263Z"
   },
   {
    "duration": 3,
    "start_time": "2022-07-16T05:06:57.331Z"
   },
   {
    "duration": 52,
    "start_time": "2022-07-16T05:06:57.337Z"
   },
   {
    "duration": 44,
    "start_time": "2022-07-16T05:06:57.391Z"
   },
   {
    "duration": 5,
    "start_time": "2022-07-16T05:06:57.437Z"
   },
   {
    "duration": 17,
    "start_time": "2022-07-16T05:06:57.444Z"
   },
   {
    "duration": 8,
    "start_time": "2022-07-16T05:06:57.462Z"
   },
   {
    "duration": 15,
    "start_time": "2022-07-16T05:06:57.471Z"
   },
   {
    "duration": 10,
    "start_time": "2022-07-16T05:06:57.487Z"
   },
   {
    "duration": 12,
    "start_time": "2022-07-16T05:06:57.498Z"
   },
   {
    "duration": 10,
    "start_time": "2022-07-16T05:06:57.512Z"
   },
   {
    "duration": 280,
    "start_time": "2022-07-16T05:06:57.523Z"
   },
   {
    "duration": 180,
    "start_time": "2022-07-16T05:06:57.805Z"
   },
   {
    "duration": 163,
    "start_time": "2022-07-16T05:06:57.988Z"
   },
   {
    "duration": 178,
    "start_time": "2022-07-16T05:06:58.153Z"
   },
   {
    "duration": 28,
    "start_time": "2022-07-16T05:06:58.333Z"
   },
   {
    "duration": 331,
    "start_time": "2022-07-16T05:06:58.362Z"
   },
   {
    "duration": 190,
    "start_time": "2022-07-16T05:06:58.695Z"
   },
   {
    "duration": 224,
    "start_time": "2022-07-16T05:06:58.887Z"
   },
   {
    "duration": 252,
    "start_time": "2022-07-16T05:06:59.113Z"
   },
   {
    "duration": 2,
    "start_time": "2022-07-16T05:09:05.445Z"
   },
   {
    "duration": 71,
    "start_time": "2022-07-16T05:09:05.449Z"
   },
   {
    "duration": 44,
    "start_time": "2022-07-16T05:09:05.522Z"
   },
   {
    "duration": 6,
    "start_time": "2022-07-16T05:09:05.567Z"
   },
   {
    "duration": 26,
    "start_time": "2022-07-16T05:09:05.575Z"
   },
   {
    "duration": 8,
    "start_time": "2022-07-16T05:09:05.602Z"
   },
   {
    "duration": 14,
    "start_time": "2022-07-16T05:09:05.612Z"
   },
   {
    "duration": 13,
    "start_time": "2022-07-16T05:09:05.628Z"
   },
   {
    "duration": 26,
    "start_time": "2022-07-16T05:09:05.642Z"
   },
   {
    "duration": 14,
    "start_time": "2022-07-16T05:09:05.670Z"
   },
   {
    "duration": 273,
    "start_time": "2022-07-16T05:09:05.685Z"
   },
   {
    "duration": 206,
    "start_time": "2022-07-16T05:09:05.959Z"
   },
   {
    "duration": 212,
    "start_time": "2022-07-16T05:09:06.167Z"
   },
   {
    "duration": 191,
    "start_time": "2022-07-16T05:09:06.382Z"
   },
   {
    "duration": 16,
    "start_time": "2022-07-16T05:09:06.575Z"
   },
   {
    "duration": 272,
    "start_time": "2022-07-16T05:09:06.592Z"
   },
   {
    "duration": 197,
    "start_time": "2022-07-16T05:09:06.866Z"
   },
   {
    "duration": 161,
    "start_time": "2022-07-16T05:09:07.065Z"
   },
   {
    "duration": 261,
    "start_time": "2022-07-16T05:09:07.228Z"
   },
   {
    "duration": 4,
    "start_time": "2022-07-16T05:09:07.491Z"
   },
   {
    "duration": 364,
    "start_time": "2022-07-16T05:09:07.497Z"
   },
   {
    "duration": 4,
    "start_time": "2022-07-16T05:09:07.862Z"
   },
   {
    "duration": 9,
    "start_time": "2022-07-16T05:09:07.868Z"
   },
   {
    "duration": 12,
    "start_time": "2022-07-16T05:49:43.088Z"
   },
   {
    "duration": 14,
    "start_time": "2022-07-16T05:50:50.846Z"
   },
   {
    "duration": 13,
    "start_time": "2022-07-16T05:50:57.296Z"
   },
   {
    "duration": 13,
    "start_time": "2022-07-16T05:51:05.109Z"
   },
   {
    "duration": 8,
    "start_time": "2022-07-16T05:52:32.125Z"
   },
   {
    "duration": 15,
    "start_time": "2022-07-16T05:52:40.418Z"
   },
   {
    "duration": 99,
    "start_time": "2022-07-16T05:58:43.577Z"
   },
   {
    "duration": 15,
    "start_time": "2022-07-16T05:59:07.250Z"
   },
   {
    "duration": 19,
    "start_time": "2022-07-16T05:59:59.663Z"
   },
   {
    "duration": 12,
    "start_time": "2022-07-16T06:00:31.961Z"
   },
   {
    "duration": 10,
    "start_time": "2022-07-16T06:02:46.637Z"
   },
   {
    "duration": 16,
    "start_time": "2022-07-16T06:03:03.148Z"
   },
   {
    "duration": 10,
    "start_time": "2022-07-16T06:06:05.287Z"
   },
   {
    "duration": 13,
    "start_time": "2022-07-16T06:07:45.623Z"
   },
   {
    "duration": 11,
    "start_time": "2022-07-16T06:15:10.557Z"
   },
   {
    "duration": 10,
    "start_time": "2022-07-16T06:16:45.209Z"
   },
   {
    "duration": 11,
    "start_time": "2022-07-16T06:17:22.623Z"
   },
   {
    "duration": 9,
    "start_time": "2022-07-16T06:21:41.364Z"
   },
   {
    "duration": 9,
    "start_time": "2022-07-16T06:21:44.781Z"
   },
   {
    "duration": 11,
    "start_time": "2022-07-16T06:21:54.331Z"
   },
   {
    "duration": 5,
    "start_time": "2022-07-16T06:22:12.062Z"
   },
   {
    "duration": 12,
    "start_time": "2022-07-16T06:23:25.938Z"
   },
   {
    "duration": 32,
    "start_time": "2022-07-16T06:24:56.292Z"
   },
   {
    "duration": 34,
    "start_time": "2022-07-16T06:25:53.146Z"
   },
   {
    "duration": 27,
    "start_time": "2022-07-16T06:26:15.863Z"
   },
   {
    "duration": 5,
    "start_time": "2022-07-16T06:26:23.601Z"
   },
   {
    "duration": 5,
    "start_time": "2022-07-16T06:26:30.918Z"
   },
   {
    "duration": 11,
    "start_time": "2022-07-16T06:26:36.533Z"
   },
   {
    "duration": 4,
    "start_time": "2022-07-16T06:26:39.926Z"
   },
   {
    "duration": 13,
    "start_time": "2022-07-16T06:28:32.272Z"
   },
   {
    "duration": 33,
    "start_time": "2022-07-16T06:28:41.763Z"
   },
   {
    "duration": 7,
    "start_time": "2022-07-16T06:28:45.943Z"
   },
   {
    "duration": 23,
    "start_time": "2022-07-16T06:30:48.175Z"
   },
   {
    "duration": 2,
    "start_time": "2022-07-16T06:34:21.540Z"
   },
   {
    "duration": 40,
    "start_time": "2022-07-16T06:37:21.987Z"
   },
   {
    "duration": 4,
    "start_time": "2022-07-16T06:38:12.819Z"
   },
   {
    "duration": 71,
    "start_time": "2022-07-16T06:38:12.833Z"
   },
   {
    "duration": 45,
    "start_time": "2022-07-16T06:38:12.906Z"
   },
   {
    "duration": 5,
    "start_time": "2022-07-16T06:38:12.952Z"
   },
   {
    "duration": 39,
    "start_time": "2022-07-16T06:38:12.959Z"
   },
   {
    "duration": 18,
    "start_time": "2022-07-16T06:38:13.000Z"
   },
   {
    "duration": 23,
    "start_time": "2022-07-16T06:38:13.020Z"
   },
   {
    "duration": 41,
    "start_time": "2022-07-16T06:38:13.045Z"
   },
   {
    "duration": 30,
    "start_time": "2022-07-16T06:38:13.088Z"
   },
   {
    "duration": 34,
    "start_time": "2022-07-16T06:38:13.120Z"
   },
   {
    "duration": 291,
    "start_time": "2022-07-16T06:38:13.156Z"
   },
   {
    "duration": 226,
    "start_time": "2022-07-16T06:38:13.448Z"
   },
   {
    "duration": 173,
    "start_time": "2022-07-16T06:38:13.676Z"
   },
   {
    "duration": 191,
    "start_time": "2022-07-16T06:38:13.860Z"
   },
   {
    "duration": 15,
    "start_time": "2022-07-16T06:38:14.060Z"
   },
   {
    "duration": 300,
    "start_time": "2022-07-16T06:38:14.077Z"
   },
   {
    "duration": 191,
    "start_time": "2022-07-16T06:38:14.379Z"
   },
   {
    "duration": 177,
    "start_time": "2022-07-16T06:38:14.572Z"
   },
   {
    "duration": 278,
    "start_time": "2022-07-16T06:38:14.752Z"
   },
   {
    "duration": 5,
    "start_time": "2022-07-16T06:38:15.031Z"
   },
   {
    "duration": 415,
    "start_time": "2022-07-16T06:38:15.038Z"
   },
   {
    "duration": 7,
    "start_time": "2022-07-16T06:38:15.455Z"
   },
   {
    "duration": 37,
    "start_time": "2022-07-16T06:38:15.464Z"
   },
   {
    "duration": 67,
    "start_time": "2022-07-16T06:38:15.503Z"
   },
   {
    "duration": 21,
    "start_time": "2022-07-16T06:38:15.571Z"
   },
   {
    "duration": 25,
    "start_time": "2022-07-16T06:38:15.593Z"
   },
   {
    "duration": 36,
    "start_time": "2022-07-16T06:38:15.620Z"
   },
   {
    "duration": 36,
    "start_time": "2022-07-16T06:38:15.658Z"
   },
   {
    "duration": 33,
    "start_time": "2022-07-16T06:38:15.696Z"
   },
   {
    "duration": 15,
    "start_time": "2022-07-16T06:38:15.731Z"
   },
   {
    "duration": 48,
    "start_time": "2022-07-16T06:38:15.747Z"
   },
   {
    "duration": 50,
    "start_time": "2022-07-16T06:38:15.797Z"
   },
   {
    "duration": 13,
    "start_time": "2022-07-16T06:39:13.903Z"
   },
   {
    "duration": 257,
    "start_time": "2022-07-16T06:39:23.644Z"
   },
   {
    "duration": 167,
    "start_time": "2022-07-16T06:39:24.278Z"
   },
   {
    "duration": 189,
    "start_time": "2022-07-16T06:39:25.205Z"
   },
   {
    "duration": 164,
    "start_time": "2022-07-16T06:39:26.995Z"
   },
   {
    "duration": 3,
    "start_time": "2022-07-16T06:41:49.551Z"
   },
   {
    "duration": 1276,
    "start_time": "2022-07-16T10:00:29.299Z"
   },
   {
    "duration": 177,
    "start_time": "2022-07-16T10:00:30.577Z"
   },
   {
    "duration": 115,
    "start_time": "2022-07-16T10:00:30.756Z"
   },
   {
    "duration": 7,
    "start_time": "2022-07-16T10:00:30.873Z"
   },
   {
    "duration": 38,
    "start_time": "2022-07-16T10:00:30.881Z"
   },
   {
    "duration": 14,
    "start_time": "2022-07-16T10:00:30.921Z"
   },
   {
    "duration": 41,
    "start_time": "2022-07-16T10:00:30.937Z"
   },
   {
    "duration": 13,
    "start_time": "2022-07-16T10:00:30.980Z"
   },
   {
    "duration": 65,
    "start_time": "2022-07-16T10:00:30.994Z"
   },
   {
    "duration": 27,
    "start_time": "2022-07-16T10:00:31.062Z"
   },
   {
    "duration": 323,
    "start_time": "2022-07-16T10:00:31.091Z"
   },
   {
    "duration": 314,
    "start_time": "2022-07-16T10:00:31.415Z"
   },
   {
    "duration": 3,
    "start_time": "2022-07-16T10:00:31.735Z"
   },
   {
    "duration": 239,
    "start_time": "2022-07-16T10:00:31.741Z"
   },
   {
    "duration": 15,
    "start_time": "2022-07-16T10:00:31.981Z"
   },
   {
    "duration": 362,
    "start_time": "2022-07-16T10:00:31.998Z"
   },
   {
    "duration": 219,
    "start_time": "2022-07-16T10:00:32.362Z"
   },
   {
    "duration": 208,
    "start_time": "2022-07-16T10:00:32.582Z"
   },
   {
    "duration": 304,
    "start_time": "2022-07-16T10:00:32.792Z"
   },
   {
    "duration": 4,
    "start_time": "2022-07-16T10:00:33.097Z"
   },
   {
    "duration": 551,
    "start_time": "2022-07-16T10:00:33.103Z"
   },
   {
    "duration": 5,
    "start_time": "2022-07-16T10:00:33.657Z"
   },
   {
    "duration": 10,
    "start_time": "2022-07-16T10:00:33.663Z"
   },
   {
    "duration": 57,
    "start_time": "2022-07-16T10:00:33.675Z"
   },
   {
    "duration": 9,
    "start_time": "2022-07-16T10:00:33.734Z"
   },
   {
    "duration": 23,
    "start_time": "2022-07-16T10:00:33.745Z"
   },
   {
    "duration": 6,
    "start_time": "2022-07-16T10:00:33.770Z"
   },
   {
    "duration": 19,
    "start_time": "2022-07-16T10:00:33.779Z"
   },
   {
    "duration": 51,
    "start_time": "2022-07-16T10:00:33.800Z"
   },
   {
    "duration": 14,
    "start_time": "2022-07-16T10:00:33.854Z"
   },
   {
    "duration": 28,
    "start_time": "2022-07-16T10:00:33.869Z"
   },
   {
    "duration": 70,
    "start_time": "2022-07-16T10:00:33.899Z"
   },
   {
    "duration": 14,
    "start_time": "2022-07-16T10:00:33.971Z"
   },
   {
    "duration": 355,
    "start_time": "2022-07-16T10:00:33.986Z"
   },
   {
    "duration": 228,
    "start_time": "2022-07-16T10:00:34.344Z"
   },
   {
    "duration": 235,
    "start_time": "2022-07-16T10:00:34.574Z"
   },
   {
    "duration": 237,
    "start_time": "2022-07-16T10:00:34.811Z"
   }
  ],
  "kernelspec": {
   "display_name": "Python 3",
   "language": "python",
   "name": "python3"
  },
  "language_info": {
   "codemirror_mode": {
    "name": "ipython",
    "version": 3
   },
   "file_extension": ".py",
   "mimetype": "text/x-python",
   "name": "python",
   "nbconvert_exporter": "python",
   "pygments_lexer": "ipython3",
   "version": "3.8.8"
  },
  "toc": {
   "base_numbering": 1,
   "nav_menu": {
    "height": "317.973px",
    "width": "298.977px"
   },
   "number_sections": true,
   "sideBar": true,
   "skip_h1_title": true,
   "title_cell": "Table of Contents",
   "title_sidebar": "Contents",
   "toc_cell": false,
   "toc_position": {
    "height": "calc(100% - 180px)",
    "left": "10px",
    "top": "150px",
    "width": "240px"
   },
   "toc_section_display": true,
   "toc_window_display": true
  }
 },
 "nbformat": 4,
 "nbformat_minor": 2
}
