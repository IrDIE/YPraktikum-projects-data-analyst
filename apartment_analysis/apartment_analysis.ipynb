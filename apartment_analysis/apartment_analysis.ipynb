{
 "cells": [
  {
   "cell_type": "markdown",
   "metadata": {
    "toc": true
   },
   "source": [
    "<h1>Содержание<span class=\"tocSkip\"></span></h1>\n",
    "<div class=\"toc\"><ul class=\"toc-item\"><li><span><a href=\"#Изучение-данных-из-файла\" data-toc-modified-id=\"Изучение-данных-из-файла-1\"><span class=\"toc-item-num\">1&nbsp;&nbsp;</span>Изучение данных из файла</a></span><ul class=\"toc-item\"><li><span><a href=\"#Вывод\" data-toc-modified-id=\"Вывод-1.1\"><span class=\"toc-item-num\">1.1&nbsp;&nbsp;</span>Вывод</a></span></li></ul></li><li><span><a href=\"#Предобработка-данных\" data-toc-modified-id=\"Предобработка-данных-2\"><span class=\"toc-item-num\">2&nbsp;&nbsp;</span>Предобработка данных</a></span><ul class=\"toc-item\"><li><span><a href=\"#'ceiling_height'\" data-toc-modified-id=\"'ceiling_height'-2.1\"><span class=\"toc-item-num\">2.1&nbsp;&nbsp;</span>'ceiling_height'</a></span></li><li><span><a href=\"#'floors_total'\" data-toc-modified-id=\"'floors_total'-2.2\"><span class=\"toc-item-num\">2.2&nbsp;&nbsp;</span>'floors_total'</a></span></li><li><span><a href=\"#'living_area'\" data-toc-modified-id=\"'living_area'-2.3\"><span class=\"toc-item-num\">2.3&nbsp;&nbsp;</span>'living_area'</a></span></li><li><span><a href=\"#'is_apartment'\" data-toc-modified-id=\"'is_apartment'-2.4\"><span class=\"toc-item-num\">2.4&nbsp;&nbsp;</span>'is_apartment'</a></span></li><li><span><a href=\"#'kitchen_area'\" data-toc-modified-id=\"'kitchen_area'-2.5\"><span class=\"toc-item-num\">2.5&nbsp;&nbsp;</span>'kitchen_area'</a></span></li><li><span><a href=\"#'balcony'\" data-toc-modified-id=\"'balcony'-2.6\"><span class=\"toc-item-num\">2.6&nbsp;&nbsp;</span>'balcony'</a></span></li><li><span><a href=\"#'last_price'\" data-toc-modified-id=\"'last_price'-2.7\"><span class=\"toc-item-num\">2.7&nbsp;&nbsp;</span>'last_price'</a></span></li><li><span><a href=\"#'locality_name'\" data-toc-modified-id=\"'locality_name'-2.8\"><span class=\"toc-item-num\">2.8&nbsp;&nbsp;</span>'locality_name'</a></span></li><li><span><a href=\"#airports_nearest-,--parks_around3000,--parks_nearest-,-ponds_around3000-,--ponds_nearest\" data-toc-modified-id=\"airports_nearest-,--parks_around3000,--parks_nearest-,-ponds_around3000-,--ponds_nearest-2.9\"><span class=\"toc-item-num\">2.9&nbsp;&nbsp;</span>airports_nearest ,  parks_around3000,  parks_nearest , ponds_around3000 ,  ponds_nearest</a></span></li><li><span><a href=\"#cityCenters_nearest\" data-toc-modified-id=\"cityCenters_nearest-2.10\"><span class=\"toc-item-num\">2.10&nbsp;&nbsp;</span>cityCenters_nearest</a></span></li><li><span><a href=\"#days_exposition---сколько-дней-было-размещено-объявление-(от-публикации-до-снятия)\" data-toc-modified-id=\"days_exposition---сколько-дней-было-размещено-объявление-(от-публикации-до-снятия)-2.11\"><span class=\"toc-item-num\">2.11&nbsp;&nbsp;</span>days_exposition - сколько дней было размещено объявление (от публикации до снятия)</a></span></li><li><span><a href=\"#first_day_exposition\" data-toc-modified-id=\"first_day_exposition-2.12\"><span class=\"toc-item-num\">2.12&nbsp;&nbsp;</span>first_day_exposition</a></span><ul class=\"toc-item\"><li><span><a href=\"#Что-из-этого-вышло\" data-toc-modified-id=\"Что-из-этого-вышло-2.12.1\"><span class=\"toc-item-num\">2.12.1&nbsp;&nbsp;</span>Что из этого вышло</a></span></li></ul></li></ul></li><li><span><a href=\"#Расчёты-и-добавление-результатов-в-таблицу\" data-toc-modified-id=\"Расчёты-и-добавление-результатов-в-таблицу-3\"><span class=\"toc-item-num\">3&nbsp;&nbsp;</span>Расчёты и добавление результатов в таблицу</a></span></li><li><span><a href=\"#Исследовательский-анализ-данных\" data-toc-modified-id=\"Исследовательский-анализ-данных-4\"><span class=\"toc-item-num\">4&nbsp;&nbsp;</span>Исследовательский анализ данных</a></span><ul class=\"toc-item\"><li><ul class=\"toc-item\"><li><span><a href=\"#Микровывод\" data-toc-modified-id=\"Микровывод-4.0.1\"><span class=\"toc-item-num\">4.0.1&nbsp;&nbsp;</span>Микровывод</a></span></li><li><span><a href=\"#Выберем-10-населённых-пунктов-с-наибольшим-числом-объявлений.\" data-toc-modified-id=\"Выберем-10-населённых-пунктов-с-наибольшим-числом-объявлений.-4.0.2\"><span class=\"toc-item-num\">4.0.2&nbsp;&nbsp;</span>Выберем 10 населённых пунктов с наибольшим числом объявлений.</a></span></li></ul></li></ul></li><li><span><a href=\"#Общий-вывод\" data-toc-modified-id=\"Общий-вывод-5\"><span class=\"toc-item-num\">5&nbsp;&nbsp;</span>Общий вывод</a></span><ul class=\"toc-item\"><li><ul class=\"toc-item\"><li><span><a href=\"#По-общей-базе:\" data-toc-modified-id=\"По-общей-базе:-5.0.1\"><span class=\"toc-item-num\">5.0.1&nbsp;&nbsp;</span>По общей базе:</a></span></li><li><span><a href=\"#По-Санкт---Петербургу-(-центр-):\" data-toc-modified-id=\"По-Санкт---Петербургу-(-центр-):-5.0.2\"><span class=\"toc-item-num\">5.0.2&nbsp;&nbsp;</span>По Санкт - Петербургу ( центр ):</a></span></li><li><span><a href=\"#Каких-то-сильных-отличий-нет\" data-toc-modified-id=\"Каких-то-сильных-отличий-нет-5.0.3\"><span class=\"toc-item-num\">5.0.3&nbsp;&nbsp;</span>Каких то сильных отличий нет</a></span></li></ul></li></ul></li></ul></div>"
   ]
  },
  {
   "cell_type": "markdown",
   "metadata": {},
   "source": [
    "# Исследование объявлений о продаже квартир\n",
    "# Описание проекта\n",
    "\n",
    "В вашем распоряжении данные сервиса Яндекc Недвижимость — архив объявлений о продаже квартир в Санкт-Петербурге и соседних населённых пунктах за несколько лет. Нужно **научиться определять рыночную стоимость объектов недвижимости.**\n",
    "\n",
    "Наша задача — установить параметры. Это позволит построить автоматизированную систему: она отследит аномалии и мошенническую деятельность. \n",
    "\n",
    "\n",
    "По каждой квартире на продажу доступны два вида данных. Первые вписаны пользователем, вторые получены автоматически на основе картографических данных. Например, расстояние до центра, аэропорта, ближайшего парка и водоёма.\n",
    "\n",
    "# Описание данных\n",
    "\n",
    "\n",
    "airports_nearest — расстояние до ближайшего аэропорта в метрах (м)\n",
    "\n",
    "balcony — число балконов\n",
    "\n",
    "ceiling_height — высота потолков (м)\n",
    "\n",
    "cityCenters_nearest — расстояние до центра города (м)\n",
    "\n",
    "days_exposition — сколько дней было размещено объявление (от публикации до \n",
    "снятия)\n",
    "\n",
    "first_day_exposition — дата публикации\n",
    "\n",
    "floor — этаж\n",
    "\n",
    "floors_total — всего этажей в доме\n",
    "\n",
    "is_apartment — апартаменты (булев тип)\n",
    "\n",
    "kitchen_area — площадь кухни в квадратных метрах (м²)\n",
    "\n",
    "last_price — цена на момент снятия с публикации\n",
    "\n",
    "living_area — жилая площадь в квадратных метрах (м²)\n",
    "\n",
    "locality_name — название населённого пункта\n",
    "\n",
    "open_plan — свободная планировка (булев тип)\n",
    "\n",
    "parks_around3000 — число парков в радиусе 3 км\n",
    "\n",
    "parks_nearest — расстояние до ближайшего парка (м)\n",
    "\n",
    "ponds_around3000 — число водоёмов в радиусе 3 км\n",
    "\n",
    "ponds_nearest — расстояние до ближайшего водоёма (м)\n",
    "\n",
    "rooms — число комнат\n",
    "\n",
    "studio — квартира-студия (булев тип)\n",
    "\n",
    "total_area — площадь квартиры в квадратных метрах (м²)\n",
    "\n",
    "total_images — число фотографий квартиры в объявлении\n",
    "\n",
    "\n",
    "\n",
    "\n",
    "\n"
   ]
  },
  {
   "cell_type": "markdown",
   "metadata": {},
   "source": [
    "**ПЛАН РАБОТЫ**\n",
    "\n",
    "1. Открыть данные и предобработать их (пропуски, аномалии, выбросы и тд)\n",
    "\n",
    "2. Посчитаем такие характеристики как: \n",
    "\n",
    "* цена квадратного метра\n",
    "\n",
    "* день недели, месяц и год публикации объявления\n",
    "\n",
    "* этаж квартиры; варианты — первый, последний, другой\n",
    "\n",
    "* соотношение жилой и общей площади, а также отношение площади кухни к общей\n",
    "\n",
    "3. Посмтрим распределения площади, цены, числа комнат и тд\n",
    "\n",
    "4. Оценим время продажи квартиры\n",
    "\n",
    "5.  Изучим зависит ли цена от площади, числа комнат, удалённости от центра, этажа и других переменных\n",
    "\n",
    "6. Выберем 10 населённых пунктов с наибольшим числом объявлений. Выделим  населённые пункты с самой высокой и низкой стоимостью жилья.\n",
    "\n",
    "7. Определим какая область входит в центр\n",
    "\n",
    "8. Рассмотрим более подробно квартиры в центре и их особенности\n",
    "\n",
    "9. Вывод\n"
   ]
  },
  {
   "cell_type": "markdown",
   "metadata": {},
   "source": [
    "## Изучение данных из файла"
   ]
  },
  {
   "cell_type": "code",
   "execution_count": 1,
   "metadata": {},
   "outputs": [],
   "source": [
    "import pandas as pd\n",
    "import matplotlib.pyplot as plt\n",
    "import numpy as np\n",
    "from datetime import date\n",
    "import seaborn as sns\n"
   ]
  },
  {
   "cell_type": "code",
   "execution_count": 2,
   "metadata": {},
   "outputs": [
    {
     "data": {
      "text/html": [
       "<div>\n",
       "<style scoped>\n",
       "    .dataframe tbody tr th:only-of-type {\n",
       "        vertical-align: middle;\n",
       "    }\n",
       "\n",
       "    .dataframe tbody tr th {\n",
       "        vertical-align: top;\n",
       "    }\n",
       "\n",
       "    .dataframe thead th {\n",
       "        text-align: right;\n",
       "    }\n",
       "</style>\n",
       "<table border=\"1\" class=\"dataframe\">\n",
       "  <thead>\n",
       "    <tr style=\"text-align: right;\">\n",
       "      <th></th>\n",
       "      <th>total_images\\tlast_price\\ttotal_area\\tfirst_day_exposition\\trooms\\tceiling_height\\tfloors_total\\tliving_area\\tfloor\\tis_apartment\\tstudio\\topen_plan\\tkitchen_area\\tbalcony\\tlocality_name\\tairports_nearest\\tcityCenters_nearest\\tparks_around3000\\tparks_nearest\\tponds_around3000\\tponds_nearest\\tdays_exposition</th>\n",
       "    </tr>\n",
       "  </thead>\n",
       "  <tbody>\n",
       "    <tr>\n",
       "      <th>0</th>\n",
       "      <td>20\\t13000000.0\\t108.0\\t2019-03-07T00:00:00\\t3\\...</td>\n",
       "    </tr>\n",
       "    <tr>\n",
       "      <th>1</th>\n",
       "      <td>7\\t3350000.0\\t40.4\\t2018-12-04T00:00:00\\t1\\t\\t...</td>\n",
       "    </tr>\n",
       "    <tr>\n",
       "      <th>2</th>\n",
       "      <td>10\\t5196000.0\\t56.0\\t2015-08-20T00:00:00\\t2\\t\\...</td>\n",
       "    </tr>\n",
       "    <tr>\n",
       "      <th>3</th>\n",
       "      <td>0\\t64900000.0\\t159.0\\t2015-07-24T00:00:00\\t3\\t...</td>\n",
       "    </tr>\n",
       "    <tr>\n",
       "      <th>4</th>\n",
       "      <td>2\\t10000000.0\\t100.0\\t2018-06-19T00:00:00\\t2\\t...</td>\n",
       "    </tr>\n",
       "  </tbody>\n",
       "</table>\n",
       "</div>"
      ],
      "text/plain": [
       "  total_images\\tlast_price\\ttotal_area\\tfirst_day_exposition\\trooms\\tceiling_height\\tfloors_total\\tliving_area\\tfloor\\tis_apartment\\tstudio\\topen_plan\\tkitchen_area\\tbalcony\\tlocality_name\\tairports_nearest\\tcityCenters_nearest\\tparks_around3000\\tparks_nearest\\tponds_around3000\\tponds_nearest\\tdays_exposition\n",
       "0  20\\t13000000.0\\t108.0\\t2019-03-07T00:00:00\\t3\\...                                                                                                                                                                                                                                                                  \n",
       "1  7\\t3350000.0\\t40.4\\t2018-12-04T00:00:00\\t1\\t\\t...                                                                                                                                                                                                                                                                  \n",
       "2  10\\t5196000.0\\t56.0\\t2015-08-20T00:00:00\\t2\\t\\...                                                                                                                                                                                                                                                                  \n",
       "3  0\\t64900000.0\\t159.0\\t2015-07-24T00:00:00\\t3\\t...                                                                                                                                                                                                                                                                  \n",
       "4  2\\t10000000.0\\t100.0\\t2018-06-19T00:00:00\\t2\\t...                                                                                                                                                                                                                                                                  "
      ]
     },
     "execution_count": 2,
     "metadata": {},
     "output_type": "execute_result"
    }
   ],
   "source": [
    "df = pd.read_csv('real_estate_data.csv')\n",
    "df.head()"
   ]
  },
  {
   "cell_type": "code",
   "execution_count": 3,
   "metadata": {},
   "outputs": [
    {
     "data": {
      "text/html": [
       "<div>\n",
       "<style scoped>\n",
       "    .dataframe tbody tr th:only-of-type {\n",
       "        vertical-align: middle;\n",
       "    }\n",
       "\n",
       "    .dataframe tbody tr th {\n",
       "        vertical-align: top;\n",
       "    }\n",
       "\n",
       "    .dataframe thead th {\n",
       "        text-align: right;\n",
       "    }\n",
       "</style>\n",
       "<table border=\"1\" class=\"dataframe\">\n",
       "  <thead>\n",
       "    <tr style=\"text-align: right;\">\n",
       "      <th></th>\n",
       "      <th>total_images</th>\n",
       "      <th>last_price</th>\n",
       "      <th>total_area</th>\n",
       "      <th>first_day_exposition</th>\n",
       "      <th>rooms</th>\n",
       "      <th>ceiling_height</th>\n",
       "      <th>floors_total</th>\n",
       "      <th>living_area</th>\n",
       "      <th>floor</th>\n",
       "      <th>is_apartment</th>\n",
       "      <th>...</th>\n",
       "      <th>kitchen_area</th>\n",
       "      <th>balcony</th>\n",
       "      <th>locality_name</th>\n",
       "      <th>airports_nearest</th>\n",
       "      <th>cityCenters_nearest</th>\n",
       "      <th>parks_around3000</th>\n",
       "      <th>parks_nearest</th>\n",
       "      <th>ponds_around3000</th>\n",
       "      <th>ponds_nearest</th>\n",
       "      <th>days_exposition</th>\n",
       "    </tr>\n",
       "  </thead>\n",
       "  <tbody>\n",
       "    <tr>\n",
       "      <th>0</th>\n",
       "      <td>20</td>\n",
       "      <td>13000000.0</td>\n",
       "      <td>108.0</td>\n",
       "      <td>2019-03-07T00:00:00</td>\n",
       "      <td>3</td>\n",
       "      <td>2.70</td>\n",
       "      <td>16.0</td>\n",
       "      <td>51.0</td>\n",
       "      <td>8</td>\n",
       "      <td>NaN</td>\n",
       "      <td>...</td>\n",
       "      <td>25.0</td>\n",
       "      <td>NaN</td>\n",
       "      <td>Санкт-Петербург</td>\n",
       "      <td>18863.0</td>\n",
       "      <td>16028.0</td>\n",
       "      <td>1.0</td>\n",
       "      <td>482.0</td>\n",
       "      <td>2.0</td>\n",
       "      <td>755.0</td>\n",
       "      <td>NaN</td>\n",
       "    </tr>\n",
       "    <tr>\n",
       "      <th>1</th>\n",
       "      <td>7</td>\n",
       "      <td>3350000.0</td>\n",
       "      <td>40.4</td>\n",
       "      <td>2018-12-04T00:00:00</td>\n",
       "      <td>1</td>\n",
       "      <td>NaN</td>\n",
       "      <td>11.0</td>\n",
       "      <td>18.6</td>\n",
       "      <td>1</td>\n",
       "      <td>NaN</td>\n",
       "      <td>...</td>\n",
       "      <td>11.0</td>\n",
       "      <td>2.0</td>\n",
       "      <td>посёлок Шушары</td>\n",
       "      <td>12817.0</td>\n",
       "      <td>18603.0</td>\n",
       "      <td>0.0</td>\n",
       "      <td>NaN</td>\n",
       "      <td>0.0</td>\n",
       "      <td>NaN</td>\n",
       "      <td>81.0</td>\n",
       "    </tr>\n",
       "    <tr>\n",
       "      <th>2</th>\n",
       "      <td>10</td>\n",
       "      <td>5196000.0</td>\n",
       "      <td>56.0</td>\n",
       "      <td>2015-08-20T00:00:00</td>\n",
       "      <td>2</td>\n",
       "      <td>NaN</td>\n",
       "      <td>5.0</td>\n",
       "      <td>34.3</td>\n",
       "      <td>4</td>\n",
       "      <td>NaN</td>\n",
       "      <td>...</td>\n",
       "      <td>8.3</td>\n",
       "      <td>0.0</td>\n",
       "      <td>Санкт-Петербург</td>\n",
       "      <td>21741.0</td>\n",
       "      <td>13933.0</td>\n",
       "      <td>1.0</td>\n",
       "      <td>90.0</td>\n",
       "      <td>2.0</td>\n",
       "      <td>574.0</td>\n",
       "      <td>558.0</td>\n",
       "    </tr>\n",
       "    <tr>\n",
       "      <th>3</th>\n",
       "      <td>0</td>\n",
       "      <td>64900000.0</td>\n",
       "      <td>159.0</td>\n",
       "      <td>2015-07-24T00:00:00</td>\n",
       "      <td>3</td>\n",
       "      <td>NaN</td>\n",
       "      <td>14.0</td>\n",
       "      <td>NaN</td>\n",
       "      <td>9</td>\n",
       "      <td>NaN</td>\n",
       "      <td>...</td>\n",
       "      <td>NaN</td>\n",
       "      <td>0.0</td>\n",
       "      <td>Санкт-Петербург</td>\n",
       "      <td>28098.0</td>\n",
       "      <td>6800.0</td>\n",
       "      <td>2.0</td>\n",
       "      <td>84.0</td>\n",
       "      <td>3.0</td>\n",
       "      <td>234.0</td>\n",
       "      <td>424.0</td>\n",
       "    </tr>\n",
       "    <tr>\n",
       "      <th>4</th>\n",
       "      <td>2</td>\n",
       "      <td>10000000.0</td>\n",
       "      <td>100.0</td>\n",
       "      <td>2018-06-19T00:00:00</td>\n",
       "      <td>2</td>\n",
       "      <td>3.03</td>\n",
       "      <td>14.0</td>\n",
       "      <td>32.0</td>\n",
       "      <td>13</td>\n",
       "      <td>NaN</td>\n",
       "      <td>...</td>\n",
       "      <td>41.0</td>\n",
       "      <td>NaN</td>\n",
       "      <td>Санкт-Петербург</td>\n",
       "      <td>31856.0</td>\n",
       "      <td>8098.0</td>\n",
       "      <td>2.0</td>\n",
       "      <td>112.0</td>\n",
       "      <td>1.0</td>\n",
       "      <td>48.0</td>\n",
       "      <td>121.0</td>\n",
       "    </tr>\n",
       "  </tbody>\n",
       "</table>\n",
       "<p>5 rows × 22 columns</p>\n",
       "</div>"
      ],
      "text/plain": [
       "   total_images  last_price  total_area first_day_exposition  rooms  \\\n",
       "0            20  13000000.0       108.0  2019-03-07T00:00:00      3   \n",
       "1             7   3350000.0        40.4  2018-12-04T00:00:00      1   \n",
       "2            10   5196000.0        56.0  2015-08-20T00:00:00      2   \n",
       "3             0  64900000.0       159.0  2015-07-24T00:00:00      3   \n",
       "4             2  10000000.0       100.0  2018-06-19T00:00:00      2   \n",
       "\n",
       "   ceiling_height  floors_total  living_area  floor is_apartment  ...  \\\n",
       "0            2.70          16.0         51.0      8          NaN  ...   \n",
       "1             NaN          11.0         18.6      1          NaN  ...   \n",
       "2             NaN           5.0         34.3      4          NaN  ...   \n",
       "3             NaN          14.0          NaN      9          NaN  ...   \n",
       "4            3.03          14.0         32.0     13          NaN  ...   \n",
       "\n",
       "   kitchen_area  balcony    locality_name  airports_nearest  \\\n",
       "0          25.0      NaN  Санкт-Петербург           18863.0   \n",
       "1          11.0      2.0   посёлок Шушары           12817.0   \n",
       "2           8.3      0.0  Санкт-Петербург           21741.0   \n",
       "3           NaN      0.0  Санкт-Петербург           28098.0   \n",
       "4          41.0      NaN  Санкт-Петербург           31856.0   \n",
       "\n",
       "  cityCenters_nearest  parks_around3000  parks_nearest  ponds_around3000  \\\n",
       "0             16028.0               1.0          482.0               2.0   \n",
       "1             18603.0               0.0            NaN               0.0   \n",
       "2             13933.0               1.0           90.0               2.0   \n",
       "3              6800.0               2.0           84.0               3.0   \n",
       "4              8098.0               2.0          112.0               1.0   \n",
       "\n",
       "   ponds_nearest  days_exposition  \n",
       "0          755.0              NaN  \n",
       "1            NaN             81.0  \n",
       "2          574.0            558.0  \n",
       "3          234.0            424.0  \n",
       "4           48.0            121.0  \n",
       "\n",
       "[5 rows x 22 columns]"
      ]
     },
     "execution_count": 3,
     "metadata": {},
     "output_type": "execute_result"
    }
   ],
   "source": [
    "# оказалось разделитель не точка а \"\\t\"\n",
    "df = pd.read_csv('real_estate_data.csv', sep = \"\\t\")\n",
    "df.head()"
   ]
  },
  {
   "cell_type": "code",
   "execution_count": 4,
   "metadata": {},
   "outputs": [
    {
     "data": {
      "text/html": [
       "<div>\n",
       "<style scoped>\n",
       "    .dataframe tbody tr th:only-of-type {\n",
       "        vertical-align: middle;\n",
       "    }\n",
       "\n",
       "    .dataframe tbody tr th {\n",
       "        vertical-align: top;\n",
       "    }\n",
       "\n",
       "    .dataframe thead th {\n",
       "        text-align: right;\n",
       "    }\n",
       "</style>\n",
       "<table border=\"1\" class=\"dataframe\">\n",
       "  <thead>\n",
       "    <tr style=\"text-align: right;\">\n",
       "      <th></th>\n",
       "      <th>total_images</th>\n",
       "      <th>last_price</th>\n",
       "      <th>total_area</th>\n",
       "      <th>first_day_exposition</th>\n",
       "      <th>rooms</th>\n",
       "      <th>ceiling_height</th>\n",
       "      <th>floors_total</th>\n",
       "      <th>living_area</th>\n",
       "      <th>floor</th>\n",
       "      <th>is_apartment</th>\n",
       "      <th>studio</th>\n",
       "      <th>open_plan</th>\n",
       "      <th>kitchen_area</th>\n",
       "      <th>balcony</th>\n",
       "      <th>locality_name</th>\n",
       "      <th>airports_nearest</th>\n",
       "      <th>cityCenters_nearest</th>\n",
       "      <th>parks_around3000</th>\n",
       "      <th>parks_nearest</th>\n",
       "      <th>ponds_around3000</th>\n",
       "      <th>ponds_nearest</th>\n",
       "      <th>days_exposition</th>\n",
       "    </tr>\n",
       "  </thead>\n",
       "  <tbody>\n",
       "    <tr>\n",
       "      <th>0</th>\n",
       "      <td>20</td>\n",
       "      <td>13000000.0</td>\n",
       "      <td>108.0</td>\n",
       "      <td>2019-03-07T00:00:00</td>\n",
       "      <td>3</td>\n",
       "      <td>2.70</td>\n",
       "      <td>16.0</td>\n",
       "      <td>51.0</td>\n",
       "      <td>8</td>\n",
       "      <td>NaN</td>\n",
       "      <td>False</td>\n",
       "      <td>False</td>\n",
       "      <td>25.0</td>\n",
       "      <td>NaN</td>\n",
       "      <td>Санкт-Петербург</td>\n",
       "      <td>18863.0</td>\n",
       "      <td>16028.0</td>\n",
       "      <td>1.0</td>\n",
       "      <td>482.0</td>\n",
       "      <td>2.0</td>\n",
       "      <td>755.0</td>\n",
       "      <td>NaN</td>\n",
       "    </tr>\n",
       "    <tr>\n",
       "      <th>1</th>\n",
       "      <td>7</td>\n",
       "      <td>3350000.0</td>\n",
       "      <td>40.4</td>\n",
       "      <td>2018-12-04T00:00:00</td>\n",
       "      <td>1</td>\n",
       "      <td>NaN</td>\n",
       "      <td>11.0</td>\n",
       "      <td>18.6</td>\n",
       "      <td>1</td>\n",
       "      <td>NaN</td>\n",
       "      <td>False</td>\n",
       "      <td>False</td>\n",
       "      <td>11.0</td>\n",
       "      <td>2.0</td>\n",
       "      <td>посёлок Шушары</td>\n",
       "      <td>12817.0</td>\n",
       "      <td>18603.0</td>\n",
       "      <td>0.0</td>\n",
       "      <td>NaN</td>\n",
       "      <td>0.0</td>\n",
       "      <td>NaN</td>\n",
       "      <td>81.0</td>\n",
       "    </tr>\n",
       "    <tr>\n",
       "      <th>2</th>\n",
       "      <td>10</td>\n",
       "      <td>5196000.0</td>\n",
       "      <td>56.0</td>\n",
       "      <td>2015-08-20T00:00:00</td>\n",
       "      <td>2</td>\n",
       "      <td>NaN</td>\n",
       "      <td>5.0</td>\n",
       "      <td>34.3</td>\n",
       "      <td>4</td>\n",
       "      <td>NaN</td>\n",
       "      <td>False</td>\n",
       "      <td>False</td>\n",
       "      <td>8.3</td>\n",
       "      <td>0.0</td>\n",
       "      <td>Санкт-Петербург</td>\n",
       "      <td>21741.0</td>\n",
       "      <td>13933.0</td>\n",
       "      <td>1.0</td>\n",
       "      <td>90.0</td>\n",
       "      <td>2.0</td>\n",
       "      <td>574.0</td>\n",
       "      <td>558.0</td>\n",
       "    </tr>\n",
       "    <tr>\n",
       "      <th>3</th>\n",
       "      <td>0</td>\n",
       "      <td>64900000.0</td>\n",
       "      <td>159.0</td>\n",
       "      <td>2015-07-24T00:00:00</td>\n",
       "      <td>3</td>\n",
       "      <td>NaN</td>\n",
       "      <td>14.0</td>\n",
       "      <td>NaN</td>\n",
       "      <td>9</td>\n",
       "      <td>NaN</td>\n",
       "      <td>False</td>\n",
       "      <td>False</td>\n",
       "      <td>NaN</td>\n",
       "      <td>0.0</td>\n",
       "      <td>Санкт-Петербург</td>\n",
       "      <td>28098.0</td>\n",
       "      <td>6800.0</td>\n",
       "      <td>2.0</td>\n",
       "      <td>84.0</td>\n",
       "      <td>3.0</td>\n",
       "      <td>234.0</td>\n",
       "      <td>424.0</td>\n",
       "    </tr>\n",
       "    <tr>\n",
       "      <th>4</th>\n",
       "      <td>2</td>\n",
       "      <td>10000000.0</td>\n",
       "      <td>100.0</td>\n",
       "      <td>2018-06-19T00:00:00</td>\n",
       "      <td>2</td>\n",
       "      <td>3.03</td>\n",
       "      <td>14.0</td>\n",
       "      <td>32.0</td>\n",
       "      <td>13</td>\n",
       "      <td>NaN</td>\n",
       "      <td>False</td>\n",
       "      <td>False</td>\n",
       "      <td>41.0</td>\n",
       "      <td>NaN</td>\n",
       "      <td>Санкт-Петербург</td>\n",
       "      <td>31856.0</td>\n",
       "      <td>8098.0</td>\n",
       "      <td>2.0</td>\n",
       "      <td>112.0</td>\n",
       "      <td>1.0</td>\n",
       "      <td>48.0</td>\n",
       "      <td>121.0</td>\n",
       "    </tr>\n",
       "  </tbody>\n",
       "</table>\n",
       "</div>"
      ],
      "text/plain": [
       "   total_images  last_price  total_area first_day_exposition  rooms  \\\n",
       "0            20  13000000.0       108.0  2019-03-07T00:00:00      3   \n",
       "1             7   3350000.0        40.4  2018-12-04T00:00:00      1   \n",
       "2            10   5196000.0        56.0  2015-08-20T00:00:00      2   \n",
       "3             0  64900000.0       159.0  2015-07-24T00:00:00      3   \n",
       "4             2  10000000.0       100.0  2018-06-19T00:00:00      2   \n",
       "\n",
       "   ceiling_height  floors_total  living_area  floor is_apartment  studio  \\\n",
       "0            2.70          16.0         51.0      8          NaN   False   \n",
       "1             NaN          11.0         18.6      1          NaN   False   \n",
       "2             NaN           5.0         34.3      4          NaN   False   \n",
       "3             NaN          14.0          NaN      9          NaN   False   \n",
       "4            3.03          14.0         32.0     13          NaN   False   \n",
       "\n",
       "   open_plan  kitchen_area  balcony    locality_name  airports_nearest  \\\n",
       "0      False          25.0      NaN  Санкт-Петербург           18863.0   \n",
       "1      False          11.0      2.0   посёлок Шушары           12817.0   \n",
       "2      False           8.3      0.0  Санкт-Петербург           21741.0   \n",
       "3      False           NaN      0.0  Санкт-Петербург           28098.0   \n",
       "4      False          41.0      NaN  Санкт-Петербург           31856.0   \n",
       "\n",
       "   cityCenters_nearest  parks_around3000  parks_nearest  ponds_around3000  \\\n",
       "0              16028.0               1.0          482.0               2.0   \n",
       "1              18603.0               0.0            NaN               0.0   \n",
       "2              13933.0               1.0           90.0               2.0   \n",
       "3               6800.0               2.0           84.0               3.0   \n",
       "4               8098.0               2.0          112.0               1.0   \n",
       "\n",
       "   ponds_nearest  days_exposition  \n",
       "0          755.0              NaN  \n",
       "1            NaN             81.0  \n",
       "2          574.0            558.0  \n",
       "3          234.0            424.0  \n",
       "4           48.0            121.0  "
      ]
     },
     "execution_count": 4,
     "metadata": {},
     "output_type": "execute_result"
    }
   ],
   "source": [
    "# При выводе df.head() можно увидеть, что часть столбцов заменилась на «...»\n",
    "# Чтобы это поправить можно поправить настройки pandas:\n",
    "\n",
    "pd.set_option('display.max_columns', 50) \n",
    "df.head()"
   ]
  },
  {
   "cell_type": "code",
   "execution_count": 5,
   "metadata": {},
   "outputs": [
    {
     "name": "stdout",
     "output_type": "stream",
     "text": [
      "<class 'pandas.core.frame.DataFrame'>\n",
      "RangeIndex: 23699 entries, 0 to 23698\n",
      "Data columns (total 22 columns):\n",
      " #   Column                Non-Null Count  Dtype  \n",
      "---  ------                --------------  -----  \n",
      " 0   total_images          23699 non-null  int64  \n",
      " 1   last_price            23699 non-null  float64\n",
      " 2   total_area            23699 non-null  float64\n",
      " 3   first_day_exposition  23699 non-null  object \n",
      " 4   rooms                 23699 non-null  int64  \n",
      " 5   ceiling_height        14504 non-null  float64\n",
      " 6   floors_total          23613 non-null  float64\n",
      " 7   living_area           21796 non-null  float64\n",
      " 8   floor                 23699 non-null  int64  \n",
      " 9   is_apartment          2775 non-null   object \n",
      " 10  studio                23699 non-null  bool   \n",
      " 11  open_plan             23699 non-null  bool   \n",
      " 12  kitchen_area          21421 non-null  float64\n",
      " 13  balcony               12180 non-null  float64\n",
      " 14  locality_name         23650 non-null  object \n",
      " 15  airports_nearest      18157 non-null  float64\n",
      " 16  cityCenters_nearest   18180 non-null  float64\n",
      " 17  parks_around3000      18181 non-null  float64\n",
      " 18  parks_nearest         8079 non-null   float64\n",
      " 19  ponds_around3000      18181 non-null  float64\n",
      " 20  ponds_nearest         9110 non-null   float64\n",
      " 21  days_exposition       20518 non-null  float64\n",
      "dtypes: bool(2), float64(14), int64(3), object(3)\n",
      "memory usage: 3.7+ MB\n"
     ]
    }
   ],
   "source": [
    "df.info()"
   ]
  },
  {
   "cell_type": "markdown",
   "metadata": {},
   "source": [
    "### Вывод"
   ]
  },
  {
   "cell_type": "markdown",
   "metadata": {},
   "source": [
    "Есть пропуски в:\n",
    "\n",
    "* ceiling_height - высота потолков (м)\n",
    "* floors_total - всего этажей в доме         \n",
    "* living_area - жилая площадь в квадратных метрах (м²)\n",
    "* is_apartment - апартаменты (булев тип)\n",
    "* kitchen_area - площадь кухни в квадратных метрах (м²)\n",
    "* balcony - число балконов\n",
    "* locality_name - - название населённого пункта\n",
    "* airports_nearest\n",
    "* cityCenters_nearest - расстояние до центра города (м)\n",
    "* parks_around3000\n",
    "* parks_nearest\n",
    "* ponds_around3000\n",
    "* ponds_nearest\n",
    "* days_exposition - сколько дней было размещено объявление (от публикации до снятия)\n",
    "\n",
    "разберёмся с каждым по очереди"
   ]
  },
  {
   "cell_type": "markdown",
   "metadata": {},
   "source": [
    "## Предобработка данных"
   ]
  },
  {
   "cell_type": "markdown",
   "metadata": {},
   "source": [
    "### 'ceiling_height'"
   ]
  },
  {
   "cell_type": "code",
   "execution_count": 6,
   "metadata": {},
   "outputs": [
    {
     "name": "stdout",
     "output_type": "stream",
     "text": [
      "0.38799105447487237\n"
     ]
    }
   ],
   "source": [
    "# оценим долю пропусков\n",
    "print(df['ceiling_height'].isna().sum() / len(df))"
   ]
  },
  {
   "cell_type": "code",
   "execution_count": 7,
   "metadata": {},
   "outputs": [
    {
     "data": {
      "image/png": "[encoded data removed]",
      "text/plain": [
       "<Figure size 432x288 with 1 Axes>"
      ]
     },
     "metadata": {
      "needs_background": "light"
     },
     "output_type": "display_data"
    }
   ],
   "source": [
    "# посмтрим на распределение. Есть выбросы, заменять пропуски будем на медианное\n",
    "df['ceiling_height'].plot(kind = 'box')\n",
    "plt.show()"
   ]
  },
  {
   "cell_type": "code",
   "execution_count": 8,
   "metadata": {},
   "outputs": [
    {
     "name": "stdout",
     "output_type": "stream",
     "text": [
      "\n"
     ]
    },
    {
     "data": {
      "image/png": "[encoded data removed]",
      "text/plain": [
       "<Figure size 432x288 with 1 Axes>"
      ]
     },
     "metadata": {
      "needs_background": "light"
     },
     "output_type": "display_data"
    }
   ],
   "source": [
    "# посмтрим гистограмму распределения, основная высота потолков это от 2 до 5 метров\n",
    "plt.hist(df['ceiling_height'], range = (0,10), bins = 30)\n",
    "print()"
   ]
  },
  {
   "cell_type": "code",
   "execution_count": 9,
   "metadata": {},
   "outputs": [
    {
     "name": "stdout",
     "output_type": "stream",
     "text": [
      "0.0\n"
     ]
    }
   ],
   "source": [
    "df['ceiling_height'] = df['ceiling_height'].fillna(df['ceiling_height'].median())\n",
    "# смотрим есть ли пропуски\n",
    "print(df['ceiling_height'].isna().sum() / len(df))"
   ]
  },
  {
   "cell_type": "code",
   "execution_count": 10,
   "metadata": {},
   "outputs": [
    {
     "data": {
      "image/png": "[encoded data removed]",
      "text/plain": [
       "<Figure size 432x288 with 1 Axes>"
      ]
     },
     "metadata": {
      "needs_background": "light"
     },
     "output_type": "display_data"
    },
    {
     "name": "stdout",
     "output_type": "stream",
     "text": [
      "Доля потолков выше 5м =  0.0005490792363574928\n"
     ]
    },
    {
     "data": {
      "image/png": "[encoded data removed]",
      "text/plain": [
       "<Figure size 432x288 with 1 Axes>"
      ]
     },
     "metadata": {
      "needs_background": "light"
     },
     "output_type": "display_data"
    }
   ],
   "source": [
    "# после избавления от пропусков\n",
    "# можно удалить выбросы и посмотреть на график распределения\n",
    "df = df.query('ceiling_height < 20')\n",
    "df['ceiling_height'].plot(kind = 'box')\n",
    "plt.title('Распределение для потолков  < 20м')\n",
    "plt.show()\n",
    "\n",
    "# оценим долю потолков выше 5м , она очень мала, можем удалить эти строки\n",
    "print('Доля потолков выше 5м = ', len(df.query('ceiling_height > 5')) / len(df))\n",
    "df = df.query('ceiling_height < 5')\n",
    "\n",
    "# также сомнительны потолки 1-1,5 метра \n",
    "df = df.query('ceiling_height > 2')\n",
    "df['ceiling_height'].plot(kind = 'box')\n",
    "plt.show()"
   ]
  },
  {
   "cell_type": "markdown",
   "metadata": {},
   "source": [
    "### 'floors_total'"
   ]
  },
  {
   "cell_type": "code",
   "execution_count": 11,
   "metadata": {},
   "outputs": [
    {
     "data": {
      "text/plain": [
       "array([16., 11.,  5., 14., 12., 26., 24., 27.,  9.,  6., 17., 25.,  3.,\n",
       "       23., 19., 18.,  4., 22.,  8.,  2., 10.,  7., 13., 15., nan, 20.,\n",
       "       28., 36., 21., 35., 34., 60.,  1., 29., 33., 52.])"
      ]
     },
     "execution_count": 11,
     "metadata": {},
     "output_type": "execute_result"
    }
   ],
   "source": [
    "df['floors_total'].unique()\n",
    "# 60 этажей как то слишком"
   ]
  },
  {
   "cell_type": "code",
   "execution_count": 12,
   "metadata": {},
   "outputs": [
    {
     "data": {
      "text/html": [
       "<div>\n",
       "<style scoped>\n",
       "    .dataframe tbody tr th:only-of-type {\n",
       "        vertical-align: middle;\n",
       "    }\n",
       "\n",
       "    .dataframe tbody tr th {\n",
       "        vertical-align: top;\n",
       "    }\n",
       "\n",
       "    .dataframe thead th {\n",
       "        text-align: right;\n",
       "    }\n",
       "</style>\n",
       "<table border=\"1\" class=\"dataframe\">\n",
       "  <thead>\n",
       "    <tr style=\"text-align: right;\">\n",
       "      <th></th>\n",
       "      <th>total_images</th>\n",
       "      <th>last_price</th>\n",
       "      <th>total_area</th>\n",
       "      <th>first_day_exposition</th>\n",
       "      <th>rooms</th>\n",
       "      <th>ceiling_height</th>\n",
       "      <th>floors_total</th>\n",
       "      <th>living_area</th>\n",
       "      <th>floor</th>\n",
       "      <th>is_apartment</th>\n",
       "      <th>studio</th>\n",
       "      <th>open_plan</th>\n",
       "      <th>kitchen_area</th>\n",
       "      <th>balcony</th>\n",
       "      <th>locality_name</th>\n",
       "      <th>airports_nearest</th>\n",
       "      <th>cityCenters_nearest</th>\n",
       "      <th>parks_around3000</th>\n",
       "      <th>parks_nearest</th>\n",
       "      <th>ponds_around3000</th>\n",
       "      <th>ponds_nearest</th>\n",
       "      <th>days_exposition</th>\n",
       "    </tr>\n",
       "  </thead>\n",
       "  <tbody>\n",
       "    <tr>\n",
       "      <th>2253</th>\n",
       "      <td>12</td>\n",
       "      <td>3800000.0</td>\n",
       "      <td>45.5</td>\n",
       "      <td>2018-06-28T00:00:00</td>\n",
       "      <td>2</td>\n",
       "      <td>2.88</td>\n",
       "      <td>60.0</td>\n",
       "      <td>27.4</td>\n",
       "      <td>4</td>\n",
       "      <td>NaN</td>\n",
       "      <td>False</td>\n",
       "      <td>False</td>\n",
       "      <td>7.4</td>\n",
       "      <td>NaN</td>\n",
       "      <td>Кронштадт</td>\n",
       "      <td>67763.0</td>\n",
       "      <td>49488.0</td>\n",
       "      <td>2.0</td>\n",
       "      <td>342.0</td>\n",
       "      <td>3.0</td>\n",
       "      <td>614.0</td>\n",
       "      <td>166.0</td>\n",
       "    </tr>\n",
       "  </tbody>\n",
       "</table>\n",
       "</div>"
      ],
      "text/plain": [
       "      total_images  last_price  total_area first_day_exposition  rooms  \\\n",
       "2253            12   3800000.0        45.5  2018-06-28T00:00:00      2   \n",
       "\n",
       "      ceiling_height  floors_total  living_area  floor is_apartment  studio  \\\n",
       "2253            2.88          60.0         27.4      4          NaN   False   \n",
       "\n",
       "      open_plan  kitchen_area  balcony locality_name  airports_nearest  \\\n",
       "2253      False           7.4      NaN     Кронштадт           67763.0   \n",
       "\n",
       "      cityCenters_nearest  parks_around3000  parks_nearest  ponds_around3000  \\\n",
       "2253              49488.0               2.0          342.0               3.0   \n",
       "\n",
       "      ponds_nearest  days_exposition  \n",
       "2253          614.0            166.0  "
      ]
     },
     "execution_count": 12,
     "metadata": {},
     "output_type": "execute_result"
    }
   ],
   "source": [
    "df.query('floors_total == 60')\n",
    "# всего одна строка, дропаем"
   ]
  },
  {
   "cell_type": "code",
   "execution_count": 13,
   "metadata": {},
   "outputs": [
    {
     "name": "stdout",
     "output_type": "stream",
     "text": [
      "Доля пропусков в floors_total =  0.003636824967226287\n"
     ]
    }
   ],
   "source": [
    "df = df.query('floors_total != 60')\n",
    "\n",
    "print('Доля пропусков в floors_total = ', df['floors_total'].isna().sum() / len(df))\n",
    "# доля пропусков мала, удалим их\n",
    "df = df.dropna(subset=['floors_total']).reset_index(drop=True)\n",
    "\n",
    "# приведем к типу int64\n",
    "df['floors_total'] = df['floors_total'].astype(np.int64)\n"
   ]
  },
  {
   "cell_type": "markdown",
   "metadata": {},
   "source": [
    "### 'living_area'"
   ]
  },
  {
   "cell_type": "markdown",
   "metadata": {},
   "source": [
    "Посмтрим на распределение жилой площади"
   ]
  },
  {
   "cell_type": "code",
   "execution_count": 14,
   "metadata": {},
   "outputs": [
    {
     "name": "stdout",
     "output_type": "stream",
     "text": [
      "\n"
     ]
    },
    {
     "data": {
      "image/png": "[encoded data removed]",
      "text/plain": [
       "<Figure size 432x288 with 1 Axes>"
      ]
     },
     "metadata": {
      "needs_background": "light"
     },
     "output_type": "display_data"
    }
   ],
   "source": [
    "df['living_area'].plot(kind = 'box')\n",
    "print()"
   ]
  },
  {
   "cell_type": "code",
   "execution_count": 15,
   "metadata": {},
   "outputs": [
    {
     "name": "stdout",
     "output_type": "stream",
     "text": [
      "30.0\n"
     ]
    }
   ],
   "source": [
    "#  заменим пропуски на медианное\n",
    "print(df['living_area'].median())\n",
    "df['living_area'] = df['living_area'].fillna(df['living_area'].median())"
   ]
  },
  {
   "cell_type": "markdown",
   "metadata": {},
   "source": [
    "Посмотрим на распределение без выбросов"
   ]
  },
  {
   "cell_type": "code",
   "execution_count": 16,
   "metadata": {},
   "outputs": [
    {
     "data": {
      "image/png": "[encoded data removed]",
      "text/plain": [
       "<Figure size 432x288 with 1 Axes>"
      ]
     },
     "metadata": {
      "needs_background": "light"
     },
     "output_type": "display_data"
    }
   ],
   "source": [
    "df.query('living_area < 150')['living_area'].plot(kind = 'box')\n",
    "# убираем выбросы\n",
    "df = df.query('living_area < 150')"
   ]
  },
  {
   "cell_type": "markdown",
   "metadata": {},
   "source": [
    "### 'is_apartment'"
   ]
  },
  {
   "cell_type": "code",
   "execution_count": 17,
   "metadata": {},
   "outputs": [
    {
     "data": {
      "text/plain": [
       "0.8827695064203746"
      ]
     },
     "execution_count": 17,
     "metadata": {},
     "output_type": "execute_result"
    }
   ],
   "source": [
    "df['is_apartment'].isna().sum() / len(df)\n",
    "# много пропусков, не понятно что с нпими можно сделать"
   ]
  },
  {
   "cell_type": "code",
   "execution_count": null,
   "metadata": {},
   "outputs": [],
   "source": []
  },
  {
   "cell_type": "markdown",
   "metadata": {},
   "source": [
    "### 'kitchen_area'"
   ]
  },
  {
   "cell_type": "code",
   "execution_count": 18,
   "metadata": {},
   "outputs": [
    {
     "data": {
      "text/plain": [
       "0.09427925429802483"
      ]
     },
     "execution_count": 18,
     "metadata": {},
     "output_type": "execute_result"
    }
   ],
   "source": [
    "df['kitchen_area'].isna().sum() / len(df)"
   ]
  },
  {
   "cell_type": "code",
   "execution_count": 19,
   "metadata": {},
   "outputs": [
    {
     "data": {
      "image/png": "[encoded data removed]",
      "text/plain": [
       "<Figure size 432x288 with 1 Axes>"
      ]
     },
     "metadata": {
      "needs_background": "light"
     },
     "output_type": "display_data"
    }
   ],
   "source": [
    "df['kitchen_area'].plot(kind = 'box')\n",
    "plt.title('Распределение площади кухни')\n",
    "plt.show()\n"
   ]
  },
  {
   "cell_type": "code",
   "execution_count": 20,
   "metadata": {},
   "outputs": [],
   "source": [
    "# заполним пропуски \n",
    "df['kitchen_area'] = df['kitchen_area'].fillna(df['kitchen_area'].median())"
   ]
  },
  {
   "cell_type": "markdown",
   "metadata": {},
   "source": [
    "Строки с площадью больше 60 удалим"
   ]
  },
  {
   "cell_type": "code",
   "execution_count": 21,
   "metadata": {},
   "outputs": [],
   "source": [
    "# больше 60 дропнем, в пропуски - медианное\n",
    "df = df.query('kitchen_area < 60')\n"
   ]
  },
  {
   "cell_type": "markdown",
   "metadata": {},
   "source": [
    "### 'balcony'"
   ]
  },
  {
   "cell_type": "code",
   "execution_count": 22,
   "metadata": {},
   "outputs": [
    {
     "name": "stdout",
     "output_type": "stream",
     "text": [
      "[nan  2.  0.  1.  5.  4.  3.]\n"
     ]
    }
   ],
   "source": [
    "#  если человек не указал число балконов — скорее всего, их нет.  \n",
    "print(df['balcony'].unique())\n",
    "df['balcony'] = df['balcony'].fillna(0)"
   ]
  },
  {
   "cell_type": "code",
   "execution_count": 23,
   "metadata": {},
   "outputs": [],
   "source": [
    "# приведем к типу int64\n",
    "df['balcony'] = df['balcony'].astype(np.int64)"
   ]
  },
  {
   "cell_type": "markdown",
   "metadata": {},
   "source": [
    "### 'last_price'\n",
    "\n",
    "нужно привести к целому значению, тк после точки везде нули"
   ]
  },
  {
   "cell_type": "code",
   "execution_count": 24,
   "metadata": {},
   "outputs": [
    {
     "data": {
      "text/plain": [
       "144552799950.0"
      ]
     },
     "execution_count": 24,
     "metadata": {},
     "output_type": "execute_result"
    }
   ],
   "source": [
    "df['last_price'].sum()"
   ]
  },
  {
   "cell_type": "code",
   "execution_count": 25,
   "metadata": {},
   "outputs": [],
   "source": [
    "df['last_price'] = df['last_price'].astype(np.int64)"
   ]
  },
  {
   "cell_type": "code",
   "execution_count": null,
   "metadata": {},
   "outputs": [],
   "source": []
  },
  {
   "cell_type": "markdown",
   "metadata": {},
   "source": [
    "### 'locality_name'\n",
    "\n",
    "\n",
    "Это название населённого пункта, не понятно чем заменять пропуски, оценим их долю"
   ]
  },
  {
   "cell_type": "code",
   "execution_count": 26,
   "metadata": {},
   "outputs": [
    {
     "data": {
      "text/plain": [
       "0.0020493553069763472"
      ]
     },
     "execution_count": 26,
     "metadata": {},
     "output_type": "execute_result"
    }
   ],
   "source": [
    "df['locality_name'].isna().sum() / len(df)"
   ]
  },
  {
   "cell_type": "code",
   "execution_count": 27,
   "metadata": {},
   "outputs": [],
   "source": [
    "# Доля мала, дропаем\n",
    "df = df.dropna(subset=['locality_name']).reset_index(drop=True)"
   ]
  },
  {
   "cell_type": "code",
   "execution_count": null,
   "metadata": {},
   "outputs": [],
   "source": []
  },
  {
   "cell_type": "markdown",
   "metadata": {},
   "source": [
    "### airports_nearest ,  parks_around3000,  parks_nearest , ponds_around3000 ,  ponds_nearest\n",
    "\n",
    "эти данные нам не понадобятся\n",
    "\n",
    "переместим их в отдельный датафрейм"
   ]
  },
  {
   "cell_type": "code",
   "execution_count": 28,
   "metadata": {},
   "outputs": [],
   "source": [
    "df1 = df[['airports_nearest' , 'parks_around3000', 'parks_nearest' , 'ponds_around3000' , 'ponds_nearest']]"
   ]
  },
  {
   "cell_type": "code",
   "execution_count": 29,
   "metadata": {},
   "outputs": [],
   "source": [
    "df = df.drop(['airports_nearest' , 'parks_around3000', 'parks_nearest' \\\n",
    "              , 'ponds_around3000' , 'ponds_nearest'], axis = 1)"
   ]
  },
  {
   "cell_type": "markdown",
   "metadata": {},
   "source": [
    "### cityCenters_nearest "
   ]
  },
  {
   "cell_type": "code",
   "execution_count": 30,
   "metadata": {},
   "outputs": [
    {
     "data": {
      "text/plain": [
       "0.23440574997860872"
      ]
     },
     "execution_count": 30,
     "metadata": {},
     "output_type": "execute_result"
    }
   ],
   "source": [
    "df['cityCenters_nearest'].isna().sum() / len(df)"
   ]
  },
  {
   "cell_type": "code",
   "execution_count": 31,
   "metadata": {},
   "outputs": [
    {
     "name": "stdout",
     "output_type": "stream",
     "text": [
      "\n"
     ]
    },
    {
     "data": {
      "image/png": "[encoded data removed]",
      "text/plain": [
       "<Figure size 432x288 with 1 Axes>"
      ]
     },
     "metadata": {
      "needs_background": "light"
     },
     "output_type": "display_data"
    }
   ],
   "source": [
    "df['cityCenters_nearest'].plot(kind = 'box')\n",
    "plt.title('Расстояние до центра')\n",
    "print()"
   ]
  },
  {
   "cell_type": "code",
   "execution_count": 32,
   "metadata": {},
   "outputs": [
    {
     "name": "stdout",
     "output_type": "stream",
     "text": [
      "Медианное расстояние до центра города =  13142.0\n"
     ]
    }
   ],
   "source": [
    "print('Медианное расстояние до центра города = ', df['cityCenters_nearest'].median())"
   ]
  },
  {
   "cell_type": "code",
   "execution_count": 33,
   "metadata": {},
   "outputs": [],
   "source": [
    "# заменим пропуски на медианное\n",
    "df['cityCenters_nearest'] = df['cityCenters_nearest'].fillna(df['cityCenters_nearest'].median())\n",
    "\n",
    "# расстояние приведём к целочисленному типу\n",
    "df['cityCenters_nearest'] = df['cityCenters_nearest'].astype(np.int64)"
   ]
  },
  {
   "cell_type": "markdown",
   "metadata": {},
   "source": [
    "Не будем удалять \"выбросы\" в расстоянии до центра - нам они могут понадобиться когда будем определять где находится центр вообще"
   ]
  },
  {
   "cell_type": "code",
   "execution_count": null,
   "metadata": {},
   "outputs": [],
   "source": []
  },
  {
   "cell_type": "markdown",
   "metadata": {},
   "source": [
    "### days_exposition - сколько дней было размещено объявление (от публикации до снятия)"
   ]
  },
  {
   "cell_type": "code",
   "execution_count": 34,
   "metadata": {},
   "outputs": [
    {
     "data": {
      "text/plain": [
       "0.1338666894840421"
      ]
     },
     "execution_count": 34,
     "metadata": {},
     "output_type": "execute_result"
    }
   ],
   "source": [
    "df['days_exposition'].isna().sum() / len(df)\n",
    "# доля большая, предположительно стоят пустые значения, тк объявление всё ещё не снято "
   ]
  },
  {
   "cell_type": "markdown",
   "metadata": {},
   "source": [
    "Пока не будем заполнять пропуски, далее сами расчитаем сколько оно уже висит"
   ]
  },
  {
   "cell_type": "markdown",
   "metadata": {},
   "source": [
    "###  first_day_exposition"
   ]
  },
  {
   "cell_type": "code",
   "execution_count": 35,
   "metadata": {},
   "outputs": [
    {
     "data": {
      "text/plain": [
       "0        2019-03-07T00:00:00\n",
       "1        2018-12-04T00:00:00\n",
       "2        2015-08-20T00:00:00\n",
       "3        2015-07-24T00:00:00\n",
       "4        2018-06-19T00:00:00\n",
       "                ...         \n",
       "23369    2017-03-21T00:00:00\n",
       "23370    2018-01-15T00:00:00\n",
       "23371    2018-02-11T00:00:00\n",
       "23372    2017-03-28T00:00:00\n",
       "23373    2017-07-21T00:00:00\n",
       "Name: first_day_exposition, Length: 23374, dtype: object"
      ]
     },
     "execution_count": 35,
     "metadata": {},
     "output_type": "execute_result"
    }
   ],
   "source": [
    "df['first_day_exposition']"
   ]
  },
  {
   "cell_type": "markdown",
   "metadata": {},
   "source": [
    "В столбце first_day_exposition - дата публикации. Переведём это в читаемый вид. Заполним пропуски в столбце \n",
    "days_exposition разницей между датой публикации и текущим временем"
   ]
  },
  {
   "cell_type": "code",
   "execution_count": 36,
   "metadata": {},
   "outputs": [],
   "source": [
    "# создадим колонку first_day_exposition_date, а first_day_exposition дропнем\n",
    "df['first_day_exposition_date'] = pd.to_datetime(df['first_day_exposition'], format = '%Y-%m-%dT%H:%M:%S')\n",
    "df = df.drop('first_day_exposition', axis = 1)"
   ]
  },
  {
   "cell_type": "code",
   "execution_count": 37,
   "metadata": {},
   "outputs": [],
   "source": [
    "# создадим колонку с сегодняшней датой, вычислим разницу между публикацией и сегодняшним днём \n",
    "\n",
    "today = date.today()\n",
    "today = pd.to_datetime(today, format = '%Y-%m-%d')\n",
    "\n",
    "df['today'] = [today]*len(df)\n",
    "delta = df['today'] - df['first_day_exposition_date']\n",
    "\n",
    "# теперь заполним пропуски\n",
    "df['days_exposition'] = df['days_exposition'].fillna(delta.dt.days)\n",
    "# и переведем в int тк число дней - целое\n",
    "df['days_exposition'] = df['days_exposition'].astype(np.int64)"
   ]
  },
  {
   "cell_type": "code",
   "execution_count": null,
   "metadata": {},
   "outputs": [],
   "source": []
  },
  {
   "cell_type": "markdown",
   "metadata": {},
   "source": [
    "#### Что из этого вышло\n",
    "\n",
    "Посмтрим методом info. Все типы пререведены в нужные, непонятно только что делать с is_apartment"
   ]
  },
  {
   "cell_type": "code",
   "execution_count": 38,
   "metadata": {
    "scrolled": false
   },
   "outputs": [
    {
     "name": "stdout",
     "output_type": "stream",
     "text": [
      "<class 'pandas.core.frame.DataFrame'>\n",
      "RangeIndex: 23374 entries, 0 to 23373\n",
      "Data columns (total 18 columns):\n",
      " #   Column                     Non-Null Count  Dtype         \n",
      "---  ------                     --------------  -----         \n",
      " 0   total_images               23374 non-null  int64         \n",
      " 1   last_price                 23374 non-null  int64         \n",
      " 2   total_area                 23374 non-null  float64       \n",
      " 3   rooms                      23374 non-null  int64         \n",
      " 4   ceiling_height             23374 non-null  float64       \n",
      " 5   floors_total               23374 non-null  int64         \n",
      " 6   living_area                23374 non-null  float64       \n",
      " 7   floor                      23374 non-null  int64         \n",
      " 8   is_apartment               2728 non-null   object        \n",
      " 9   studio                     23374 non-null  bool          \n",
      " 10  open_plan                  23374 non-null  bool          \n",
      " 11  kitchen_area               23374 non-null  float64       \n",
      " 12  balcony                    23374 non-null  int64         \n",
      " 13  locality_name              23374 non-null  object        \n",
      " 14  cityCenters_nearest        23374 non-null  int64         \n",
      " 15  days_exposition            23374 non-null  int64         \n",
      " 16  first_day_exposition_date  23374 non-null  datetime64[ns]\n",
      " 17  today                      23374 non-null  datetime64[ns]\n",
      "dtypes: bool(2), datetime64[ns](2), float64(4), int64(8), object(2)\n",
      "memory usage: 2.9+ MB\n"
     ]
    }
   ],
   "source": [
    "df.info()"
   ]
  },
  {
   "cell_type": "code",
   "execution_count": null,
   "metadata": {},
   "outputs": [],
   "source": []
  },
  {
   "cell_type": "markdown",
   "metadata": {},
   "source": [
    "## Расчёты и добавление результатов в таблицу\n",
    "\n",
    "Нужно добавить : \n",
    "* цену квадратного метра;\n",
    "* день недели, месяц и год публикации объявления;   // сделать отдельные колонки для каждого?\n",
    "* этаж квартиры; варианты — первый, последний, другой;\n",
    "* соотношение жилой и общей площади, а также отношение площади кухни к общей."
   ]
  },
  {
   "cell_type": "code",
   "execution_count": 39,
   "metadata": {},
   "outputs": [],
   "source": [
    "# цена квадратного метра : цена / жилая площадь. Новая колонка - price_mr\n",
    "df['price_mr'] = df['last_price'] / df['total_area']"
   ]
  },
  {
   "cell_type": "markdown",
   "metadata": {},
   "source": [
    "Метод  - dt.weekday - получает день недели так:\n",
    "\n",
    "Monday=0, Sunday=6.\n",
    "\n",
    "Создадим колонку с числом = день недели - weekday. Потом закодируем (хотя скорее раскодируем) её через .map"
   ]
  },
  {
   "cell_type": "code",
   "execution_count": 40,
   "metadata": {},
   "outputs": [],
   "source": [
    "df['weekday_first_exposition'] = df['first_day_exposition_date'].dt.weekday\n",
    "df['weekday_first_exposition'] = df['weekday_first_exposition'].map({\n",
    "    0: 'Пн',\n",
    "    1: 'Вт',\n",
    "    2: 'Ср',\n",
    "    3: 'Чт',\n",
    "    4: 'Пт',\n",
    "    5: 'Сб',\n",
    "    6: 'Вс'\n",
    "    \n",
    "})"
   ]
  },
  {
   "cell_type": "code",
   "execution_count": 41,
   "metadata": {},
   "outputs": [],
   "source": [
    "# создаём новые колонки соответственно для месяца / года публикации\n",
    "df['month_first_exposition'] = df['first_day_exposition_date'].dt.month\n",
    "df['year_first_exposition'] = df['first_day_exposition_date'].dt.year"
   ]
  },
  {
   "cell_type": "markdown",
   "metadata": {},
   "source": [
    "Посмотрим что получилось"
   ]
  },
  {
   "cell_type": "code",
   "execution_count": 42,
   "metadata": {},
   "outputs": [
    {
     "data": {
      "text/html": [
       "<div>\n",
       "<style scoped>\n",
       "    .dataframe tbody tr th:only-of-type {\n",
       "        vertical-align: middle;\n",
       "    }\n",
       "\n",
       "    .dataframe tbody tr th {\n",
       "        vertical-align: top;\n",
       "    }\n",
       "\n",
       "    .dataframe thead th {\n",
       "        text-align: right;\n",
       "    }\n",
       "</style>\n",
       "<table border=\"1\" class=\"dataframe\">\n",
       "  <thead>\n",
       "    <tr style=\"text-align: right;\">\n",
       "      <th></th>\n",
       "      <th>total_images</th>\n",
       "      <th>last_price</th>\n",
       "      <th>total_area</th>\n",
       "      <th>rooms</th>\n",
       "      <th>ceiling_height</th>\n",
       "      <th>floors_total</th>\n",
       "      <th>living_area</th>\n",
       "      <th>floor</th>\n",
       "      <th>is_apartment</th>\n",
       "      <th>studio</th>\n",
       "      <th>open_plan</th>\n",
       "      <th>kitchen_area</th>\n",
       "      <th>balcony</th>\n",
       "      <th>locality_name</th>\n",
       "      <th>cityCenters_nearest</th>\n",
       "      <th>days_exposition</th>\n",
       "      <th>first_day_exposition_date</th>\n",
       "      <th>today</th>\n",
       "      <th>price_mr</th>\n",
       "      <th>weekday_first_exposition</th>\n",
       "      <th>month_first_exposition</th>\n",
       "      <th>year_first_exposition</th>\n",
       "    </tr>\n",
       "  </thead>\n",
       "  <tbody>\n",
       "    <tr>\n",
       "      <th>0</th>\n",
       "      <td>20</td>\n",
       "      <td>13000000</td>\n",
       "      <td>108.0</td>\n",
       "      <td>3</td>\n",
       "      <td>2.70</td>\n",
       "      <td>16</td>\n",
       "      <td>51.0</td>\n",
       "      <td>8</td>\n",
       "      <td>NaN</td>\n",
       "      <td>False</td>\n",
       "      <td>False</td>\n",
       "      <td>25.0</td>\n",
       "      <td>0</td>\n",
       "      <td>Санкт-Петербург</td>\n",
       "      <td>16028</td>\n",
       "      <td>1246</td>\n",
       "      <td>2019-03-07</td>\n",
       "      <td>2022-08-04</td>\n",
       "      <td>120370.370370</td>\n",
       "      <td>Чт</td>\n",
       "      <td>3</td>\n",
       "      <td>2019</td>\n",
       "    </tr>\n",
       "    <tr>\n",
       "      <th>1</th>\n",
       "      <td>7</td>\n",
       "      <td>3350000</td>\n",
       "      <td>40.4</td>\n",
       "      <td>1</td>\n",
       "      <td>2.65</td>\n",
       "      <td>11</td>\n",
       "      <td>18.6</td>\n",
       "      <td>1</td>\n",
       "      <td>NaN</td>\n",
       "      <td>False</td>\n",
       "      <td>False</td>\n",
       "      <td>11.0</td>\n",
       "      <td>2</td>\n",
       "      <td>посёлок Шушары</td>\n",
       "      <td>18603</td>\n",
       "      <td>81</td>\n",
       "      <td>2018-12-04</td>\n",
       "      <td>2022-08-04</td>\n",
       "      <td>82920.792079</td>\n",
       "      <td>Вт</td>\n",
       "      <td>12</td>\n",
       "      <td>2018</td>\n",
       "    </tr>\n",
       "    <tr>\n",
       "      <th>2</th>\n",
       "      <td>10</td>\n",
       "      <td>5196000</td>\n",
       "      <td>56.0</td>\n",
       "      <td>2</td>\n",
       "      <td>2.65</td>\n",
       "      <td>5</td>\n",
       "      <td>34.3</td>\n",
       "      <td>4</td>\n",
       "      <td>NaN</td>\n",
       "      <td>False</td>\n",
       "      <td>False</td>\n",
       "      <td>8.3</td>\n",
       "      <td>0</td>\n",
       "      <td>Санкт-Петербург</td>\n",
       "      <td>13933</td>\n",
       "      <td>558</td>\n",
       "      <td>2015-08-20</td>\n",
       "      <td>2022-08-04</td>\n",
       "      <td>92785.714286</td>\n",
       "      <td>Чт</td>\n",
       "      <td>8</td>\n",
       "      <td>2015</td>\n",
       "    </tr>\n",
       "  </tbody>\n",
       "</table>\n",
       "</div>"
      ],
      "text/plain": [
       "   total_images  last_price  total_area  rooms  ceiling_height  floors_total  \\\n",
       "0            20    13000000       108.0      3            2.70            16   \n",
       "1             7     3350000        40.4      1            2.65            11   \n",
       "2            10     5196000        56.0      2            2.65             5   \n",
       "\n",
       "   living_area  floor is_apartment  studio  open_plan  kitchen_area  balcony  \\\n",
       "0         51.0      8          NaN   False      False          25.0        0   \n",
       "1         18.6      1          NaN   False      False          11.0        2   \n",
       "2         34.3      4          NaN   False      False           8.3        0   \n",
       "\n",
       "     locality_name  cityCenters_nearest  days_exposition  \\\n",
       "0  Санкт-Петербург                16028             1246   \n",
       "1   посёлок Шушары                18603               81   \n",
       "2  Санкт-Петербург                13933              558   \n",
       "\n",
       "  first_day_exposition_date      today       price_mr  \\\n",
       "0                2019-03-07 2022-08-04  120370.370370   \n",
       "1                2018-12-04 2022-08-04   82920.792079   \n",
       "2                2015-08-20 2022-08-04   92785.714286   \n",
       "\n",
       "  weekday_first_exposition  month_first_exposition  year_first_exposition  \n",
       "0                       Чт                       3                   2019  \n",
       "1                       Вт                      12                   2018  \n",
       "2                       Чт                       8                   2015  "
      ]
     },
     "execution_count": 42,
     "metadata": {},
     "output_type": "execute_result"
    }
   ],
   "source": [
    "df.head(3)"
   ]
  },
  {
   "cell_type": "markdown",
   "metadata": {},
   "source": [
    "Чтобы выяснить этаж квартиры нужно сравнить этаж текущий с числом этажей всего в доме. Можно написать для этого отдельно функцию"
   ]
  },
  {
   "cell_type": "code",
   "execution_count": 43,
   "metadata": {},
   "outputs": [],
   "source": [
    "# Создадим вручную все значения\n",
    "df['type_floor'] = [0]*len(df)\n",
    "\n",
    "df.loc[df['floor'] == df['floors_total'], 'type_floor'] = 'Последний'\n",
    "df.loc[df['floor'] == 1, 'type_floor'] = \"Первый\"\n",
    "df.loc[df['type_floor'] == 0, 'type_floor'] = \"Другой\"\n",
    "\n"
   ]
  },
  {
   "cell_type": "code",
   "execution_count": null,
   "metadata": {},
   "outputs": [],
   "source": []
  },
  {
   "cell_type": "markdown",
   "metadata": {},
   "source": [
    "Теперь нужно установить соотношение жилой и общей площади, а также отношение площади кухни к общей."
   ]
  },
  {
   "cell_type": "code",
   "execution_count": 44,
   "metadata": {},
   "outputs": [],
   "source": [
    "df['living_total'] = df['living_area'] / df['total_area'] \n",
    "\n",
    "df['kit_total'] = df['kitchen_area'] / df['total_area']"
   ]
  },
  {
   "cell_type": "code",
   "execution_count": null,
   "metadata": {},
   "outputs": [],
   "source": []
  },
  {
   "cell_type": "markdown",
   "metadata": {},
   "source": [
    "## Исследовательский анализ данных\n",
    "\n",
    "смотрим на :\n",
    "\n",
    "площадь, цена, число комнат, высота потолков. "
   ]
  },
  {
   "cell_type": "code",
   "execution_count": 45,
   "metadata": {},
   "outputs": [
    {
     "data": {
      "image/png": "[encoded data removed]",
      "text/plain": [
       "<Figure size 432x288 with 1 Axes>"
      ]
     },
     "metadata": {
      "needs_background": "light"
     },
     "output_type": "display_data"
    },
    {
     "data": {
      "image/png": "[encoded data removed]",
      "text/plain": [
       "<Figure size 432x288 with 1 Axes>"
      ]
     },
     "metadata": {
      "needs_background": "light"
     },
     "output_type": "display_data"
    }
   ],
   "source": [
    "# выведем гистораммы для площади общей и площади жилой\n",
    "df['living_area'].plot(kind = 'hist', xlim = (0, 250), title = 'living_area', bins = 30)\n",
    "plt.title('Распределение жилой площади')\n",
    "plt.show()\n",
    "df['total_area'].plot(kind = 'hist', title = 'total_area', bins = 30)\n",
    "plt.title('Распределение общей площади')\n",
    "plt.show()"
   ]
  },
  {
   "cell_type": "code",
   "execution_count": 46,
   "metadata": {},
   "outputs": [
    {
     "name": "stdout",
     "output_type": "stream",
     "text": [
      "\n"
     ]
    },
    {
     "data": {
      "image/png": "[encoded data removed]",
      "text/plain": [
       "<Figure size 720x360 with 1 Axes>"
      ]
     },
     "metadata": {
      "needs_background": "light"
     },
     "output_type": "display_data"
    }
   ],
   "source": [
    "df.plot(y = 'last_price', kind = 'hist', figsize = (10,5), xlim = (0, 2e8), bins = 100)\n",
    "plt.title('Распределение цены на момент сняятия с публикации')\n",
    "print()\n",
    "# видим что в основном цена до 30 млн"
   ]
  },
  {
   "cell_type": "code",
   "execution_count": 47,
   "metadata": {},
   "outputs": [
    {
     "name": "stdout",
     "output_type": "stream",
     "text": [
      "\n"
     ]
    },
    {
     "data": {
      "image/png": "[encoded data removed]",
      "text/plain": [
       "<Figure size 432x288 with 1 Axes>"
      ]
     },
     "metadata": {
      "needs_background": "light"
     },
     "output_type": "display_data"
    }
   ],
   "source": [
    "df['rooms'].plot(kind = 'hist', bins = 30, xlim = (0, 10))\n",
    "plt.title('Распределение числа комнат')\n",
    "print()\n",
    "# в основном - 1-3 комнатные"
   ]
  },
  {
   "cell_type": "code",
   "execution_count": 48,
   "metadata": {},
   "outputs": [
    {
     "name": "stdout",
     "output_type": "stream",
     "text": [
      "\n"
     ]
    },
    {
     "data": {
      "image/png": "[encoded data removed]",
      "text/plain": [
       "<Figure size 432x288 with 1 Axes>"
      ]
     },
     "metadata": {
      "needs_background": "light"
     },
     "output_type": "display_data"
    }
   ],
   "source": [
    "df['ceiling_height'].plot(kind = 'hist', bins = 30)\n",
    "plt.title('Распределение высоты потолков')\n",
    "print()\n",
    "# в основном потолки от 2,5 до 3 метров"
   ]
  },
  {
   "cell_type": "markdown",
   "metadata": {},
   "source": [
    "#### Микровывод\n",
    "\n",
    "Самые популярные: \n",
    "* общей площадью до 100 кв м\n",
    "* цена до 30 млн\n",
    "*  1-3 комнатные\n",
    "* потолки от 2,5 до 3 метров\n",
    "\n",
    "**Изучим время продажи**"
   ]
  },
  {
   "cell_type": "code",
   "execution_count": 49,
   "metadata": {},
   "outputs": [
    {
     "name": "stdout",
     "output_type": "stream",
     "text": [
      "\n"
     ]
    },
    {
     "data": {
      "image/png": "[encoded data removed]",
      "text/plain": [
       "<Figure size 432x288 with 1 Axes>"
      ]
     },
     "metadata": {
      "needs_background": "light"
     },
     "output_type": "display_data"
    }
   ],
   "source": [
    "df['days_exposition'].plot(kind = 'hist', bins = 40)\n",
    "plt.title('сколько дней было размещено объявление (от публикации до снятия)')\n",
    "print()\n",
    "# видим что после 1000 дней увеличивается частота, видимо это совсем забытые заявления"
   ]
  },
  {
   "cell_type": "code",
   "execution_count": 50,
   "metadata": {},
   "outputs": [
    {
     "name": "stdout",
     "output_type": "stream",
     "text": [
      "344.1168392230684\n",
      "123.0\n"
     ]
    }
   ],
   "source": [
    "# смотрим на среднее и медиану, они сильно отличаются\n",
    "print(df['days_exposition'].mean())\n",
    "print(df['days_exposition'].median())\n"
   ]
  },
  {
   "cell_type": "markdown",
   "metadata": {},
   "source": [
    "Кажется что объявлениякоторые висят более 1000 дней - это те, пропуски которых мы заполняли вручную, и они до сих пор висят.\n",
    "\n",
    "Посмотрим на обрезанные данные (до 1000 дней)"
   ]
  },
  {
   "cell_type": "code",
   "execution_count": 51,
   "metadata": {},
   "outputs": [
    {
     "name": "stdout",
     "output_type": "stream",
     "text": [
      "\n"
     ]
    },
    {
     "data": {
      "image/png": "[encoded data removed]",
      "text/plain": [
       "<Figure size 432x288 with 1 Axes>"
      ]
     },
     "metadata": {
      "needs_background": "light"
     },
     "output_type": "display_data"
    }
   ],
   "source": [
    "df.query('days_exposition < 1000').plot(y = 'days_exposition', kind = 'hist', bins = 30)\n",
    "\n",
    "plt.title('сколько дней было размещено объявление (от публикации до снятия)')\n",
    "print()"
   ]
  },
  {
   "cell_type": "code",
   "execution_count": 52,
   "metadata": {},
   "outputs": [
    {
     "name": "stdout",
     "output_type": "stream",
     "text": [
      "Описание для времени - сколько висит объявление:\n",
      "count    19975.000000\n",
      "mean       166.728010\n",
      "std        187.096274\n",
      "min          1.000000\n",
      "25%         44.000000\n",
      "50%         93.000000\n",
      "75%        219.500000\n",
      "max        999.000000\n",
      "Name: days_exposition, dtype: float64\n"
     ]
    }
   ],
   "source": [
    "print('Описание для времени - сколько висит объявление:')\n",
    "print(df.query('days_exposition < 1000')['days_exposition'].describe())\n"
   ]
  },
  {
   "cell_type": "markdown",
   "metadata": {},
   "source": [
    "Если успели продать менее чем за 200 дней, то это быстро.\n",
    "\n",
    "Более 400-600 дней - необычно долго"
   ]
  },
  {
   "cell_type": "markdown",
   "metadata": {},
   "source": [
    "*Проверим какие данные укладываются в 85% в days_exposition, уберём те которые висят дольше всего (как раз те которые мы заполняли вручную)*\n"
   ]
  },
  {
   "cell_type": "code",
   "execution_count": 53,
   "metadata": {},
   "outputs": [],
   "source": [
    "df['days_exposition'].quantile(0.85)\n",
    "df = df.query('days_exposition < 1000')"
   ]
  },
  {
   "cell_type": "code",
   "execution_count": null,
   "metadata": {},
   "outputs": [],
   "source": []
  },
  {
   "cell_type": "markdown",
   "metadata": {},
   "source": [
    "###### Вопрос : зависит ли цена от площади, числа комнат, удалённости от центра. "
   ]
  },
  {
   "cell_type": "code",
   "execution_count": 54,
   "metadata": {},
   "outputs": [],
   "source": [
    "# сделаем подвыборку\n",
    "df_2 = df[['last_price', 'rooms', 'cityCenters_nearest', 'total_area']]"
   ]
  },
  {
   "cell_type": "code",
   "execution_count": 55,
   "metadata": {},
   "outputs": [
    {
     "data": {
      "text/html": [
       "<div>\n",
       "<style scoped>\n",
       "    .dataframe tbody tr th:only-of-type {\n",
       "        vertical-align: middle;\n",
       "    }\n",
       "\n",
       "    .dataframe tbody tr th {\n",
       "        vertical-align: top;\n",
       "    }\n",
       "\n",
       "    .dataframe thead th {\n",
       "        text-align: right;\n",
       "    }\n",
       "</style>\n",
       "<table border=\"1\" class=\"dataframe\">\n",
       "  <thead>\n",
       "    <tr style=\"text-align: right;\">\n",
       "      <th></th>\n",
       "      <th>last_price</th>\n",
       "      <th>rooms</th>\n",
       "      <th>cityCenters_nearest</th>\n",
       "      <th>total_area</th>\n",
       "    </tr>\n",
       "  </thead>\n",
       "  <tbody>\n",
       "    <tr>\n",
       "      <th>last_price</th>\n",
       "      <td>1.000000</td>\n",
       "      <td>0.381463</td>\n",
       "      <td>-0.227495</td>\n",
       "      <td>0.681348</td>\n",
       "    </tr>\n",
       "    <tr>\n",
       "      <th>rooms</th>\n",
       "      <td>0.381463</td>\n",
       "      <td>1.000000</td>\n",
       "      <td>-0.145013</td>\n",
       "      <td>0.766122</td>\n",
       "    </tr>\n",
       "    <tr>\n",
       "      <th>cityCenters_nearest</th>\n",
       "      <td>-0.227495</td>\n",
       "      <td>-0.145013</td>\n",
       "      <td>1.000000</td>\n",
       "      <td>-0.207664</td>\n",
       "    </tr>\n",
       "    <tr>\n",
       "      <th>total_area</th>\n",
       "      <td>0.681348</td>\n",
       "      <td>0.766122</td>\n",
       "      <td>-0.207664</td>\n",
       "      <td>1.000000</td>\n",
       "    </tr>\n",
       "  </tbody>\n",
       "</table>\n",
       "</div>"
      ],
      "text/plain": [
       "                     last_price     rooms  cityCenters_nearest  total_area\n",
       "last_price             1.000000  0.381463            -0.227495    0.681348\n",
       "rooms                  0.381463  1.000000            -0.145013    0.766122\n",
       "cityCenters_nearest   -0.227495 -0.145013             1.000000   -0.207664\n",
       "total_area             0.681348  0.766122            -0.207664    1.000000"
      ]
     },
     "execution_count": 55,
     "metadata": {},
     "output_type": "execute_result"
    }
   ],
   "source": [
    "df_2.corr()"
   ]
  },
  {
   "cell_type": "markdown",
   "metadata": {},
   "source": [
    "Видим сильную связь с площадью, чем она больше тем дороже. \n",
    "\n",
    "Число комнат не сильно влияет, посмотрим на это с графиком. Расстояние до центра кажется вообще не влияет"
   ]
  },
  {
   "cell_type": "code",
   "execution_count": 56,
   "metadata": {},
   "outputs": [
    {
     "name": "stdout",
     "output_type": "stream",
     "text": [
      "\n"
     ]
    },
    {
     "data": {
      "image/png": "[encoded data removed]",
      "text/plain": [
       "<Figure size 432x288 with 1 Axes>"
      ]
     },
     "metadata": {
      "needs_background": "light"
     },
     "output_type": "display_data"
    }
   ],
   "source": [
    "sns.boxplot(data = df, x = 'rooms', y = 'last_price')\n",
    "plt.title('Распределение цены для каждого количества комнат')\n",
    "plt.ylim(0, 1e8)\n",
    "print()\n",
    "# видим что пр увеличении комнат от 1 до 7 цена растёт, потом уже остаётся средней"
   ]
  },
  {
   "cell_type": "markdown",
   "metadata": {},
   "source": [
    "Рассмотрим зависимость цены от расстояния до центра на 2х графиках:"
   ]
  },
  {
   "cell_type": "code",
   "execution_count": 57,
   "metadata": {},
   "outputs": [
    {
     "name": "stdout",
     "output_type": "stream",
     "text": [
      "\n"
     ]
    },
    {
     "data": {
      "image/png": "[encoded data removed]",
      "text/plain": [
       "<Figure size 432x288 with 1 Axes>"
      ]
     },
     "metadata": {
      "needs_background": "light"
     },
     "output_type": "display_data"
    }
   ],
   "source": [
    "df.plot(x = 'cityCenters_nearest',y = 'last_price',  kind='scatter', alpha=0.1)\n",
    "plt.title('зависимость цены от расстояния до центра')\n",
    "print()"
   ]
  },
  {
   "cell_type": "code",
   "execution_count": 58,
   "metadata": {},
   "outputs": [
    {
     "name": "stdout",
     "output_type": "stream",
     "text": [
      "\n"
     ]
    },
    {
     "data": {
      "image/png": "[encoded data removed]",
      "text/plain": [
       "<Figure size 504x360 with 2 Axes>"
      ]
     },
     "metadata": {
      "needs_background": "light"
     },
     "output_type": "display_data"
    }
   ],
   "source": [
    "df.plot(x = 'cityCenters_nearest',y = 'last_price',  kind='hexbin', gridsize=30, figsize=(7,5), grid = True )\n",
    "plt.title('зависимость цены от расстояния до центра')\n",
    "print()"
   ]
  },
  {
   "cell_type": "code",
   "execution_count": 59,
   "metadata": {},
   "outputs": [
    {
     "data": {
      "text/plain": [
       "-0.22749541098632536"
      ]
     },
     "execution_count": 59,
     "metadata": {},
     "output_type": "execute_result"
    }
   ],
   "source": [
    "df['cityCenters_nearest'].corr(df['last_price'])\n",
    "# Очень слабая корреляция между ценой и расстоянием до центра"
   ]
  },
  {
   "cell_type": "code",
   "execution_count": null,
   "metadata": {},
   "outputs": [],
   "source": []
  },
  {
   "cell_type": "markdown",
   "metadata": {},
   "source": [
    "###### Изучим зависимость цены от того, на каком этаже расположена квартира: первом, последнем или другом. \n",
    "\n",
    "Посмтрим на график "
   ]
  },
  {
   "cell_type": "code",
   "execution_count": 60,
   "metadata": {},
   "outputs": [
    {
     "name": "stdout",
     "output_type": "stream",
     "text": [
      "\n"
     ]
    },
    {
     "data": {
      "image/png": "[encoded data removed]",
      "text/plain": [
       "<Figure size 432x288 with 1 Axes>"
      ]
     },
     "metadata": {
      "needs_background": "light"
     },
     "output_type": "display_data"
    }
   ],
   "source": [
    "sns.barplot(data = df, x = 'type_floor', y = 'last_price')\n",
    "plt.title('Соотношения цена / этаж')\n",
    "print()\n",
    "# видим что никто не хочет квартиру на первом этаже - цены на них ниже"
   ]
  },
  {
   "cell_type": "markdown",
   "metadata": {},
   "source": [
    "###### Также изучим зависимость от даты размещения: дня недели, месяца и года."
   ]
  },
  {
   "cell_type": "code",
   "execution_count": 61,
   "metadata": {},
   "outputs": [
    {
     "name": "stdout",
     "output_type": "stream",
     "text": [
      "\n"
     ]
    },
    {
     "data": {
      "image/png": "[encoded data removed]",
      "text/plain": [
       "<Figure size 432x288 with 1 Axes>"
      ]
     },
     "metadata": {
      "needs_background": "light"
     },
     "output_type": "display_data"
    }
   ],
   "source": [
    "sns.barplot(data = df, x = 'weekday_first_exposition', y = 'last_price')\n",
    "# цена не зависит от дня размещения\n",
    "print()"
   ]
  },
  {
   "cell_type": "code",
   "execution_count": 62,
   "metadata": {},
   "outputs": [
    {
     "data": {
      "text/plain": [
       "<AxesSubplot:xlabel='month_first_exposition', ylabel='last_price'>"
      ]
     },
     "execution_count": 62,
     "metadata": {},
     "output_type": "execute_result"
    },
    {
     "data": {
      "image/png": "[encoded data removed]",
      "text/plain": [
       "<Figure size 432x288 with 1 Axes>"
      ]
     },
     "metadata": {
      "needs_background": "light"
     },
     "output_type": "display_data"
    }
   ],
   "source": [
    "sns.barplot(data = df, x = 'month_first_exposition', y = 'last_price')\n",
    "# небольшое повышение цен весной в апреле и перед новым годом, но ничего ярко выраженного"
   ]
  },
  {
   "cell_type": "code",
   "execution_count": 63,
   "metadata": {},
   "outputs": [
    {
     "name": "stdout",
     "output_type": "stream",
     "text": [
      "\n"
     ]
    },
    {
     "data": {
      "image/png": "[encoded data removed]",
      "text/plain": [
       "<Figure size 432x288 with 1 Axes>"
      ]
     },
     "metadata": {
      "needs_background": "light"
     },
     "output_type": "display_data"
    }
   ],
   "source": [
    "sns.barplot(data = df, x = 'year_first_exposition', y = 'last_price')\n",
    "# видим что квартиры 2014 - 2015 годов стоят значительно дороже\n",
    "print()"
   ]
  },
  {
   "cell_type": "markdown",
   "metadata": {},
   "source": [
    "Рассмотрим дополнительно динамику цены 1м2 по годам. "
   ]
  },
  {
   "cell_type": "code",
   "execution_count": 64,
   "metadata": {},
   "outputs": [
    {
     "data": {
      "text/plain": [
       "<AxesSubplot:xlabel='year_first_exposition', ylabel='price_mr'>"
      ]
     },
     "execution_count": 64,
     "metadata": {},
     "output_type": "execute_result"
    },
    {
     "data": {
      "image/png": "[encoded data removed]",
      "text/plain": [
       "<Figure size 432x288 with 1 Axes>"
      ]
     },
     "metadata": {
      "needs_background": "light"
     },
     "output_type": "display_data"
    }
   ],
   "source": [
    "sns.barplot(data = df, x = 'year_first_exposition', y = 'price_mr')"
   ]
  },
  {
   "cell_type": "markdown",
   "metadata": {},
   "source": [
    "Квартиры 2014-2015 и 2019 годов стоят дороже. Получается самыми дорогими являются либо построенные давно, либо совсем недавно"
   ]
  },
  {
   "cell_type": "markdown",
   "metadata": {},
   "source": [
    "#### Выберем 10 населённых пунктов с наибольшим числом объявлений. \n",
    "\n",
    "Посчитаем среднюю цену квадратного метра в этих населённых пунктах. Выделим населённые пункты с самой высокой и низкой стоимостью жилья. Эти данные можно найти по имени в столбце locality_name."
   ]
  },
  {
   "cell_type": "code",
   "execution_count": 65,
   "metadata": {},
   "outputs": [
    {
     "data": {
      "text/plain": [
       "Index(['Санкт-Петербург', 'посёлок Мурино', 'посёлок Шушары', 'Всеволожск',\n",
       "       'Колпино', 'посёлок Парголово', 'Пушкин', 'деревня Кудрово', 'Гатчина',\n",
       "       'Выборг'],\n",
       "      dtype='object', name='locality_name')"
      ]
     },
     "execution_count": 65,
     "metadata": {},
     "output_type": "execute_result"
    }
   ],
   "source": [
    "# найдем список топ - 10 по объявлениям\n",
    "df.groupby('locality_name').count()['total_images'].sort_values(ascending=False).head(10).index"
   ]
  },
  {
   "cell_type": "code",
   "execution_count": 66,
   "metadata": {},
   "outputs": [],
   "source": [
    "locality_name_10 = ['Санкт-Петербург', 'посёлок Мурино', 'посёлок Шушары', 'Всеволожск',\n",
    "       'Пушкин', 'Колпино', 'Гатчина', 'посёлок Парголово', 'деревня Кудрово',\n",
    "       'Петергоф']"
   ]
  },
  {
   "cell_type": "code",
   "execution_count": 67,
   "metadata": {
    "scrolled": true
   },
   "outputs": [
    {
     "data": {
      "text/plain": [
       "locality_name\n",
       "Санкт-Петербург      111260.799549\n",
       "Пушкин               101938.654934\n",
       "деревня Кудрово       92421.528671\n",
       "посёлок Парголово     89423.993853\n",
       "посёлок Мурино        85828.885878\n",
       "Петергоф              82956.692327\n",
       "посёлок Шушары        77798.015279\n",
       "Колпино               74700.747117\n",
       "Всеволожск            68623.139486\n",
       "Гатчина               67938.480307\n",
       "Name: price_mr, dtype: float64"
      ]
     },
     "execution_count": 67,
     "metadata": {},
     "output_type": "execute_result"
    }
   ],
   "source": [
    "# средняя цена квадратного метра в этих населённых пунктах.\n",
    "df[df['locality_name'].isin(locality_name_10)].groupby('locality_name')['price_mr'].mean().sort_values(ascending = False)"
   ]
  },
  {
   "cell_type": "markdown",
   "metadata": {},
   "source": [
    "###### Выяснили что в топ-10 по объявлениям входят :\n",
    "\n",
    "'Санкт-Петербург', 'посёлок Мурино', 'посёлок Шушары', 'Всеволожск','Пушкин', 'Колпино', 'Гатчина','посёлок Парголово', 'деревня Кудрово','Петергоф'\n",
    "       \n",
    "из них самая высокая стоимость жилья в Санкт-Петербурге и Пушкино, самая низкая в Гатчине и Всеволжске"
   ]
  },
  {
   "cell_type": "code",
   "execution_count": 68,
   "metadata": {},
   "outputs": [],
   "source": [
    "# подвыборка с топ-10\n",
    "df_10_loc = df[df['locality_name'].isin(locality_name_10)]"
   ]
  },
  {
   "cell_type": "code",
   "execution_count": 69,
   "metadata": {},
   "outputs": [
    {
     "data": {
      "image/png": "[encoded data removed]",
      "text/plain": [
       "<Figure size 1440x720 with 1 Axes>"
      ]
     },
     "metadata": {
      "needs_background": "light"
     },
     "output_type": "display_data"
    }
   ],
   "source": [
    "plt.figure(figsize=(20,10))\n",
    "plt.ylim(0, 0.2e6)\n",
    "sns.boxplot(data = df_10_loc, x = 'locality_name', y = 'price_mr')\n",
    "plt.title('Динамика цены по населённым пунктам из топ-10 по объявлениям')\n",
    "plt.show()"
   ]
  },
  {
   "cell_type": "code",
   "execution_count": null,
   "metadata": {},
   "outputs": [],
   "source": []
  },
  {
   "cell_type": "markdown",
   "metadata": {},
   "source": [
    "###### Выясним, какая область входит в центр.\n",
    "\n",
    "Создадим столбец с расстоянием до центра в километрах: округлим его до целых значений. \n",
    "\n",
    "После этого найлем среднюю цену для каждого километра. \n",
    "\n",
    "График: покажем, как цена зависит от удалённости от центра. \n",
    "\n",
    "Определим границу, где график сильно меняется, — это и будет центральная зона."
   ]
  },
  {
   "cell_type": "code",
   "execution_count": 70,
   "metadata": {},
   "outputs": [],
   "source": [
    "# выделим квартиры Питера\n",
    "df_sp = df[df['locality_name'] == 'Санкт-Петербург'].reset_index()\n",
    "# выделим километры из метров\n",
    "df_sp['cityCenters_nearest_km'] = (df_sp['cityCenters_nearest'] / 1000)\n",
    "df_sp['cityCenters_nearest_km'] = df_sp['cityCenters_nearest_km'].astype(np.int64)\n",
    "\n",
    "# посчитаем среднюю цену для каждого километра\n",
    "sp_center_price = df_sp.groupby('cityCenters_nearest_km')['last_price'].mean()"
   ]
  },
  {
   "cell_type": "code",
   "execution_count": null,
   "metadata": {},
   "outputs": [],
   "source": []
  },
  {
   "cell_type": "code",
   "execution_count": 71,
   "metadata": {},
   "outputs": [
    {
     "data": {
      "text/plain": [
       "Int64Index([ 0,  1,  2,  3,  4,  5,  6,  7,  8,  9, 10, 11, 12, 13, 14, 15, 16,\n",
       "            17, 18, 19, 20, 21, 22, 23, 24, 25, 26, 27, 28, 29],\n",
       "           dtype='int64', name='cityCenters_nearest_km')"
      ]
     },
     "execution_count": 71,
     "metadata": {},
     "output_type": "execute_result"
    }
   ],
   "source": [
    "sp_center_price.index\n",
    "# всего у нас 29 километров"
   ]
  },
  {
   "cell_type": "code",
   "execution_count": 72,
   "metadata": {},
   "outputs": [
    {
     "data": {
      "text/plain": [
       "<AxesSubplot:xlabel='cityCenters_nearest_km', ylabel='last_price'>"
      ]
     },
     "execution_count": 72,
     "metadata": {},
     "output_type": "execute_result"
    },
    {
     "data": {
      "image/png": "[encoded data removed]",
      "text/plain": [
       "<Figure size 432x288 with 1 Axes>"
      ]
     },
     "metadata": {
      "needs_background": "light"
     },
     "output_type": "display_data"
    }
   ],
   "source": [
    "sns.lineplot(x = sp_center_price.index, y = sp_center_price, )"
   ]
  },
  {
   "cell_type": "markdown",
   "metadata": {},
   "source": [
    "Видим рост цен около 10км.\n",
    "\n",
    "Значит **центр это от 0 до 10км.**"
   ]
  },
  {
   "cell_type": "markdown",
   "metadata": {},
   "source": [
    "###### Выделим квартиры в центре :\n",
    "\n",
    "изучите следующие параметры: площадь, цена, число комнат, высота потолков. "
   ]
  },
  {
   "cell_type": "code",
   "execution_count": 73,
   "metadata": {},
   "outputs": [],
   "source": [
    "df_sp_center = df_sp[df_sp['cityCenters_nearest_km'] <= 10]"
   ]
  },
  {
   "cell_type": "code",
   "execution_count": 74,
   "metadata": {},
   "outputs": [
    {
     "data": {
      "text/plain": [
       "<AxesSubplot:ylabel='Frequency'>"
      ]
     },
     "execution_count": 74,
     "metadata": {},
     "output_type": "execute_result"
    },
    {
     "data": {
      "image/png": "[encoded data removed]",
      "text/plain": [
       "<Figure size 432x288 with 1 Axes>"
      ]
     },
     "metadata": {
      "needs_background": "light"
     },
     "output_type": "display_data"
    }
   ],
   "source": [
    "df_sp_center['total_area'].plot(kind = 'hist', bins = 40)\n",
    "# основная площадь : 50-150 кв.м"
   ]
  },
  {
   "cell_type": "code",
   "execution_count": 75,
   "metadata": {},
   "outputs": [
    {
     "data": {
      "text/plain": [
       "<AxesSubplot:ylabel='Frequency'>"
      ]
     },
     "execution_count": 75,
     "metadata": {},
     "output_type": "execute_result"
    },
    {
     "data": {
      "image/png": "[encoded data removed]",
      "text/plain": [
       "<Figure size 432x288 with 1 Axes>"
      ]
     },
     "metadata": {
      "needs_background": "light"
     },
     "output_type": "display_data"
    }
   ],
   "source": [
    "df_sp_center['last_price'].plot(kind = 'hist', bins = 40, xlim = (0, 2e8))\n",
    "# цены в основном не выше 25 млн"
   ]
  },
  {
   "cell_type": "code",
   "execution_count": 76,
   "metadata": {},
   "outputs": [
    {
     "data": {
      "text/plain": [
       "<AxesSubplot:ylabel='Frequency'>"
      ]
     },
     "execution_count": 76,
     "metadata": {},
     "output_type": "execute_result"
    },
    {
     "data": {
      "image/png": "[encoded data removed]",
      "text/plain": [
       "<Figure size 432x288 with 1 Axes>"
      ]
     },
     "metadata": {
      "needs_background": "light"
     },
     "output_type": "display_data"
    }
   ],
   "source": [
    "df_sp_center['rooms'].plot(kind = 'hist', bins = 20)\n",
    "# в основном от 1 до 5 комнат"
   ]
  },
  {
   "cell_type": "code",
   "execution_count": 77,
   "metadata": {},
   "outputs": [
    {
     "data": {
      "text/plain": [
       "<AxesSubplot:ylabel='Frequency'>"
      ]
     },
     "execution_count": 77,
     "metadata": {},
     "output_type": "execute_result"
    },
    {
     "data": {
      "image/png": "[encoded data removed]",
      "text/plain": [
       "<Figure size 432x288 with 1 Axes>"
      ]
     },
     "metadata": {
      "needs_background": "light"
     },
     "output_type": "display_data"
    }
   ],
   "source": [
    "df_sp_center['ceiling_height'].plot(kind = 'hist', bins = 30)\n",
    "# большинство - нормальные потолки, но и более 3х метров немало"
   ]
  },
  {
   "cell_type": "markdown",
   "metadata": {},
   "source": [
    "###### Также выделим факторы, которые влияют на стоимость квартиры (число комнат, этаж, удалённость от центра, дата размещения объявления)."
   ]
  },
  {
   "cell_type": "code",
   "execution_count": 78,
   "metadata": {},
   "outputs": [
    {
     "data": {
      "text/plain": [
       "Index(['index', 'total_images', 'last_price', 'total_area', 'rooms',\n",
       "       'ceiling_height', 'floors_total', 'living_area', 'floor',\n",
       "       'is_apartment', 'studio', 'open_plan', 'kitchen_area', 'balcony',\n",
       "       'locality_name', 'cityCenters_nearest', 'days_exposition',\n",
       "       'first_day_exposition_date', 'today', 'price_mr',\n",
       "       'weekday_first_exposition', 'month_first_exposition',\n",
       "       'year_first_exposition', 'type_floor', 'living_total', 'kit_total',\n",
       "       'cityCenters_nearest_km'],\n",
       "      dtype='object')"
      ]
     },
     "execution_count": 78,
     "metadata": {},
     "output_type": "execute_result"
    }
   ],
   "source": [
    "df_sp_center.columns"
   ]
  },
  {
   "cell_type": "code",
   "execution_count": 79,
   "metadata": {},
   "outputs": [
    {
     "data": {
      "text/plain": [
       "(0.0, 100000000.0)"
      ]
     },
     "execution_count": 79,
     "metadata": {},
     "output_type": "execute_result"
    },
    {
     "data": {
      "image/png": "[encoded data removed]",
      "text/plain": [
       "<Figure size 432x288 with 1 Axes>"
      ]
     },
     "metadata": {
      "needs_background": "light"
     },
     "output_type": "display_data"
    }
   ],
   "source": [
    "sns.boxplot(x = df_sp_center['rooms'], y = df_sp_center['last_price'])\n",
    "plt.ylim(0, 1e8)\n",
    "# стоимость квартиры все также растёт при увеличении числа комнат до 7 "
   ]
  },
  {
   "cell_type": "code",
   "execution_count": 80,
   "metadata": {},
   "outputs": [
    {
     "data": {
      "text/plain": [
       "(0.0, 50000000.0)"
      ]
     },
     "execution_count": 80,
     "metadata": {},
     "output_type": "execute_result"
    },
    {
     "data": {
      "image/png": "[encoded data removed]",
      "text/plain": [
       "<Figure size 432x288 with 1 Axes>"
      ]
     },
     "metadata": {
      "needs_background": "light"
     },
     "output_type": "display_data"
    }
   ],
   "source": [
    "sns.boxplot(x = df_sp_center['type_floor'], y = df_sp_center['last_price'])\n",
    "plt.ylim(0, 0.5e8)\n",
    "# на первый этаж самая низкая цена"
   ]
  },
  {
   "cell_type": "code",
   "execution_count": 81,
   "metadata": {},
   "outputs": [
    {
     "data": {
      "text/plain": [
       "(0.0, 60000000.0)"
      ]
     },
     "execution_count": 81,
     "metadata": {},
     "output_type": "execute_result"
    },
    {
     "data": {
      "image/png": "[encoded data removed]",
      "text/plain": [
       "<Figure size 432x288 with 1 Axes>"
      ]
     },
     "metadata": {
      "needs_background": "light"
     },
     "output_type": "display_data"
    }
   ],
   "source": [
    "# смотрим на влияние расстояния до центра\n",
    "sns.boxplot(x = df_sp_center['cityCenters_nearest_km'], y = df_sp_center['last_price'])\n",
    "plt.ylim(0, 0.6e8)\n",
    "# видим что медианные значения так то не выходят из доверительных интервалов, хотя в самом центре разброс по ценам больше"
   ]
  },
  {
   "cell_type": "code",
   "execution_count": 82,
   "metadata": {
    "scrolled": false
   },
   "outputs": [
    {
     "data": {
      "text/plain": [
       "(0.0, 200000000.0)"
      ]
     },
     "execution_count": 82,
     "metadata": {},
     "output_type": "execute_result"
    },
    {
     "data": {
      "image/png": "[encoded data removed]",
      "text/plain": [
       "<Figure size 360x360 with 1 Axes>"
      ]
     },
     "metadata": {
      "needs_background": "light"
     },
     "output_type": "display_data"
    }
   ],
   "source": [
    "# посмтрим на зависимость от того, как давно висит объявление\n",
    "sns.relplot(x = df_sp_center['days_exposition'], y = df_sp_center['last_price'])\n",
    "plt.ylim(0, 2e8)\n",
    "# как будто цена потихоньку повышается с течением времени, но скорее всего квартиры подешевле быстрее разбирают"
   ]
  },
  {
   "cell_type": "markdown",
   "metadata": {},
   "source": [
    "Сравним корреляцию в центре и по всей базе"
   ]
  },
  {
   "cell_type": "code",
   "execution_count": 83,
   "metadata": {},
   "outputs": [
    {
     "name": "stdout",
     "output_type": "stream",
     "text": [
      "корреляция на центр питера =  0.11374406266531369\n",
      "корреляция на всю базу =  0.09609588795418698\n"
     ]
    }
   ],
   "source": [
    "print('корреляция на центр питера = ',df_sp_center['last_price'].corr(df_sp_center['days_exposition']))\n",
    "print('корреляция на всю базу = ', df['last_price'].corr(df['days_exposition']))"
   ]
  },
  {
   "cell_type": "markdown",
   "metadata": {},
   "source": [
    "Корреляции практически не отличаются"
   ]
  },
  {
   "cell_type": "markdown",
   "metadata": {},
   "source": [
    "**Квартиры в центре Питера не особо отличаются от квартир по всей базе**"
   ]
  },
  {
   "cell_type": "markdown",
   "metadata": {},
   "source": [
    "## Общий вывод"
   ]
  },
  {
   "cell_type": "markdown",
   "metadata": {},
   "source": [
    "#### По общей базе:\n",
    "\n",
    "Самые популярные: \n",
    "\n",
    "* общей площадью до 100 кв м\n",
    "* цена до 30 млн\n",
    "* 1-3 комнатные\n",
    "* потолки от 2,5 до 3 метров\n",
    "* чаще всего удаётся продать квартиру за 200 дней\n",
    "* при увеличении площади увеличивается цена и никакой зависимости от расстояния до центра\n",
    "* при увеличении комнат цена растёт (но незначительно при комнатности > 7)\n",
    "* низкий спрос на квартиры 1-го этажа\n",
    "* цена не зависит от дня размещения\n",
    "* небольшое повышение цен весной в апреле и перед новым годом, но ничего ярко выраженного\n",
    "* видим что квартиры 2014 - 2015 годов стоят значительно дороже\n",
    "\n",
    "\n",
    "\n",
    "\n",
    "#### По Санкт - Петербургу ( центр ):\n",
    "\n",
    "* основная площадь : 50-150 кв.м\n",
    "* цены в основном не выше 25 - 30 млн\n",
    "* большинство - нормальные потолки, но и более 3х метров немало\n",
    "* стоимость квартиры все также растёт при увеличении числа комнат до 7\n",
    "* на первый этаж самая низкая цена\n",
    "* от 1 до 5 комнат\n",
    "\n",
    "\n",
    "#### Каких то сильных отличий нет\n",
    "\n",
    "Немного больше общая площадь, больше комнат, больше квартир с высокими потолками"
   ]
  },
  {
   "cell_type": "code",
   "execution_count": null,
   "metadata": {},
   "outputs": [],
   "source": []
  }
 ],
 "metadata": {
  "ExecuteTimeLog": [
   {
    "duration": 670,
    "start_time": "2022-03-21T12:30:34.671Z"
   },
   {
    "duration": 44,
    "start_time": "2022-03-21T12:30:45.504Z"
   },
   {
    "duration": 130,
    "start_time": "2022-03-21T12:30:53.727Z"
   },
   {
    "duration": 216,
    "start_time": "2022-03-21T12:31:46.399Z"
   },
   {
    "duration": 128,
    "start_time": "2022-03-21T12:31:53.548Z"
   },
   {
    "duration": 217,
    "start_time": "2022-03-21T12:33:57.922Z"
   },
   {
    "duration": 184,
    "start_time": "2022-03-21T12:34:26.847Z"
   },
   {
    "duration": 35,
    "start_time": "2022-03-21T12:34:32.726Z"
   },
   {
    "duration": 11,
    "start_time": "2022-03-21T12:40:23.073Z"
   },
   {
    "duration": 8,
    "start_time": "2022-03-21T12:40:44.881Z"
   },
   {
    "duration": 9,
    "start_time": "2022-03-21T12:40:48.276Z"
   },
   {
    "duration": 8,
    "start_time": "2022-03-21T12:41:37.492Z"
   },
   {
    "duration": 8,
    "start_time": "2022-03-21T12:41:45.425Z"
   },
   {
    "duration": 11,
    "start_time": "2022-03-21T12:43:38.412Z"
   },
   {
    "duration": 7,
    "start_time": "2022-03-21T12:43:42.096Z"
   },
   {
    "duration": 7,
    "start_time": "2022-03-21T12:45:08.031Z"
   },
   {
    "duration": 7,
    "start_time": "2022-03-21T12:45:14.011Z"
   },
   {
    "duration": 179,
    "start_time": "2022-03-21T12:45:40.946Z"
   },
   {
    "duration": 9,
    "start_time": "2022-03-21T12:45:47.049Z"
   },
   {
    "duration": 481,
    "start_time": "2022-03-21T12:46:08.804Z"
   },
   {
    "duration": 99,
    "start_time": "2022-03-21T12:46:21.055Z"
   },
   {
    "duration": 219,
    "start_time": "2022-03-21T12:46:28.205Z"
   },
   {
    "duration": 210,
    "start_time": "2022-03-21T12:46:31.778Z"
   },
   {
    "duration": 97,
    "start_time": "2022-03-21T12:48:29.627Z"
   },
   {
    "duration": 135,
    "start_time": "2022-03-21T12:48:35.376Z"
   },
   {
    "duration": 136,
    "start_time": "2022-03-21T12:48:40.737Z"
   },
   {
    "duration": 22,
    "start_time": "2022-03-21T12:48:41.575Z"
   },
   {
    "duration": 6,
    "start_time": "2022-03-21T12:49:05.672Z"
   },
   {
    "duration": 9,
    "start_time": "2022-03-21T12:52:15.584Z"
   },
   {
    "duration": 8,
    "start_time": "2022-03-21T12:52:22.277Z"
   },
   {
    "duration": 10,
    "start_time": "2022-03-21T12:52:47.564Z"
   },
   {
    "duration": 6,
    "start_time": "2022-03-21T12:52:51.868Z"
   },
   {
    "duration": 7,
    "start_time": "2022-03-21T12:53:28.370Z"
   },
   {
    "duration": 5,
    "start_time": "2022-03-21T12:53:59.965Z"
   },
   {
    "duration": 922,
    "start_time": "2022-03-21T12:54:42.430Z"
   },
   {
    "duration": 227,
    "start_time": "2022-03-21T12:54:56.773Z"
   },
   {
    "duration": 207,
    "start_time": "2022-03-21T12:55:05.393Z"
   },
   {
    "duration": 241,
    "start_time": "2022-03-21T12:56:44.747Z"
   },
   {
    "duration": 243,
    "start_time": "2022-03-21T12:57:28.829Z"
   },
   {
    "duration": 435,
    "start_time": "2022-03-21T12:57:33.070Z"
   },
   {
    "duration": 235,
    "start_time": "2022-03-21T12:57:44.989Z"
   },
   {
    "duration": 213,
    "start_time": "2022-03-21T12:58:08.685Z"
   },
   {
    "duration": 9,
    "start_time": "2022-03-21T12:58:30.998Z"
   },
   {
    "duration": 251,
    "start_time": "2022-03-21T12:59:05.126Z"
   },
   {
    "duration": 109,
    "start_time": "2022-03-21T13:00:21.398Z"
   },
   {
    "duration": 155,
    "start_time": "2022-03-21T13:00:23.346Z"
   },
   {
    "duration": 31,
    "start_time": "2022-03-21T13:00:23.533Z"
   },
   {
    "duration": 7,
    "start_time": "2022-03-21T13:00:24.044Z"
   },
   {
    "duration": 163,
    "start_time": "2022-03-21T13:00:24.355Z"
   },
   {
    "duration": 182,
    "start_time": "2022-03-21T13:01:38.888Z"
   },
   {
    "duration": 10,
    "start_time": "2022-03-21T13:02:54.369Z"
   },
   {
    "duration": 6,
    "start_time": "2022-03-21T13:03:12.190Z"
   },
   {
    "duration": 10,
    "start_time": "2022-03-21T13:03:24.140Z"
   },
   {
    "duration": 172,
    "start_time": "2022-03-21T13:03:43.846Z"
   },
   {
    "duration": 16,
    "start_time": "2022-03-21T13:04:34.984Z"
   },
   {
    "duration": 10,
    "start_time": "2022-03-21T13:04:41.691Z"
   },
   {
    "duration": 272,
    "start_time": "2022-03-21T13:04:57.444Z"
   },
   {
    "duration": 400,
    "start_time": "2022-03-21T13:05:18.413Z"
   },
   {
    "duration": 188,
    "start_time": "2022-03-21T13:06:45.000Z"
   },
   {
    "duration": 188,
    "start_time": "2022-03-21T13:06:54.603Z"
   },
   {
    "duration": 186,
    "start_time": "2022-03-21T13:07:44.762Z"
   },
   {
    "duration": 370,
    "start_time": "2022-03-21T13:07:53.631Z"
   },
   {
    "duration": 117,
    "start_time": "2022-03-21T13:08:00.729Z"
   },
   {
    "duration": 157,
    "start_time": "2022-03-21T13:08:00.849Z"
   },
   {
    "duration": 38,
    "start_time": "2022-03-21T13:08:01.012Z"
   },
   {
    "duration": 7,
    "start_time": "2022-03-21T13:08:01.053Z"
   },
   {
    "duration": 190,
    "start_time": "2022-03-21T13:08:01.063Z"
   },
   {
    "duration": 9,
    "start_time": "2022-03-21T13:08:01.255Z"
   },
   {
    "duration": 482,
    "start_time": "2022-03-21T13:08:02.951Z"
   },
   {
    "duration": 98,
    "start_time": "2022-03-21T13:08:35.248Z"
   },
   {
    "duration": 140,
    "start_time": "2022-03-21T13:08:35.349Z"
   },
   {
    "duration": 22,
    "start_time": "2022-03-21T13:08:35.492Z"
   },
   {
    "duration": 6,
    "start_time": "2022-03-21T13:08:35.516Z"
   },
   {
    "duration": 180,
    "start_time": "2022-03-21T13:08:35.545Z"
   },
   {
    "duration": 16,
    "start_time": "2022-03-21T13:08:35.727Z"
   },
   {
    "duration": 355,
    "start_time": "2022-03-21T13:08:37.533Z"
   },
   {
    "duration": 282,
    "start_time": "2022-03-21T13:11:13.251Z"
   },
   {
    "duration": 5,
    "start_time": "2022-03-21T13:12:21.524Z"
   },
   {
    "duration": 142,
    "start_time": "2022-03-21T13:13:29.386Z"
   },
   {
    "duration": 144,
    "start_time": "2022-03-21T13:13:29.532Z"
   },
   {
    "duration": 25,
    "start_time": "2022-03-21T13:13:29.679Z"
   },
   {
    "duration": 5,
    "start_time": "2022-03-21T13:13:29.706Z"
   },
   {
    "duration": 198,
    "start_time": "2022-03-21T13:13:29.714Z"
   },
   {
    "duration": 8,
    "start_time": "2022-03-21T13:13:29.914Z"
   },
   {
    "duration": 363,
    "start_time": "2022-03-21T13:16:06.782Z"
   },
   {
    "duration": 5,
    "start_time": "2022-03-21T13:17:05.044Z"
   },
   {
    "duration": 8,
    "start_time": "2022-03-21T13:18:16.435Z"
   },
   {
    "duration": 7,
    "start_time": "2022-03-21T13:18:37.707Z"
   },
   {
    "duration": 4,
    "start_time": "2022-03-21T13:18:50.093Z"
   },
   {
    "duration": 23,
    "start_time": "2022-03-21T13:18:58.890Z"
   },
   {
    "duration": 10,
    "start_time": "2022-03-21T13:19:05.553Z"
   },
   {
    "duration": 6,
    "start_time": "2022-03-21T13:19:12.298Z"
   },
   {
    "duration": 4,
    "start_time": "2022-03-21T13:19:15.507Z"
   },
   {
    "duration": 7,
    "start_time": "2022-03-21T13:19:26.489Z"
   },
   {
    "duration": 6,
    "start_time": "2022-03-21T13:19:38.601Z"
   },
   {
    "duration": 11,
    "start_time": "2022-03-21T13:19:56.669Z"
   },
   {
    "duration": 274,
    "start_time": "2022-03-21T13:20:08.696Z"
   },
   {
    "duration": 0,
    "start_time": "2022-03-21T13:21:08.915Z"
   },
   {
    "duration": 0,
    "start_time": "2022-03-21T13:21:08.944Z"
   },
   {
    "duration": 149,
    "start_time": "2022-03-21T13:21:16.036Z"
   },
   {
    "duration": 210,
    "start_time": "2022-03-21T13:21:16.188Z"
   },
   {
    "duration": 43,
    "start_time": "2022-03-21T13:21:16.401Z"
   },
   {
    "duration": 6,
    "start_time": "2022-03-21T13:21:16.447Z"
   },
   {
    "duration": 199,
    "start_time": "2022-03-21T13:21:16.457Z"
   },
   {
    "duration": 9,
    "start_time": "2022-03-21T13:21:16.658Z"
   },
   {
    "duration": 393,
    "start_time": "2022-03-21T13:21:16.670Z"
   },
   {
    "duration": 7,
    "start_time": "2022-03-21T13:21:20.195Z"
   },
   {
    "duration": 7,
    "start_time": "2022-03-21T13:22:34.744Z"
   },
   {
    "duration": 55,
    "start_time": "2022-03-21T13:23:22.181Z"
   },
   {
    "duration": 28,
    "start_time": "2022-03-21T13:25:40.588Z"
   },
   {
    "duration": 20,
    "start_time": "2022-03-21T13:26:58.564Z"
   },
   {
    "duration": 8,
    "start_time": "2022-03-21T13:27:35.880Z"
   },
   {
    "duration": 18,
    "start_time": "2022-03-21T13:27:48.247Z"
   },
   {
    "duration": 7,
    "start_time": "2022-03-21T13:27:51.623Z"
   },
   {
    "duration": 9,
    "start_time": "2022-03-21T13:28:07.445Z"
   },
   {
    "duration": 5,
    "start_time": "2022-03-21T13:28:11.798Z"
   },
   {
    "duration": 102,
    "start_time": "2022-03-21T13:28:52.689Z"
   },
   {
    "duration": 149,
    "start_time": "2022-03-21T13:28:52.794Z"
   },
   {
    "duration": 21,
    "start_time": "2022-03-21T13:28:52.945Z"
   },
   {
    "duration": 7,
    "start_time": "2022-03-21T13:28:52.968Z"
   },
   {
    "duration": 186,
    "start_time": "2022-03-21T13:28:52.978Z"
   },
   {
    "duration": 8,
    "start_time": "2022-03-21T13:28:53.166Z"
   },
   {
    "duration": 369,
    "start_time": "2022-03-21T13:28:53.176Z"
   },
   {
    "duration": 8,
    "start_time": "2022-03-21T13:28:56.492Z"
   },
   {
    "duration": 38,
    "start_time": "2022-03-21T13:28:58.124Z"
   },
   {
    "duration": 16,
    "start_time": "2022-03-21T13:29:01.899Z"
   },
   {
    "duration": 8,
    "start_time": "2022-03-21T13:29:28.656Z"
   },
   {
    "duration": 7,
    "start_time": "2022-03-21T13:29:37.887Z"
   },
   {
    "duration": 8,
    "start_time": "2022-03-21T13:29:41.984Z"
   },
   {
    "duration": 7,
    "start_time": "2022-03-21T13:31:13.222Z"
   },
   {
    "duration": 15,
    "start_time": "2022-03-21T13:31:22.779Z"
   },
   {
    "duration": 7,
    "start_time": "2022-03-21T13:31:26.956Z"
   },
   {
    "duration": 65,
    "start_time": "2022-03-21T13:31:45.193Z"
   },
   {
    "duration": 28,
    "start_time": "2022-03-21T13:34:00.518Z"
   },
   {
    "duration": 26,
    "start_time": "2022-03-21T13:34:44.030Z"
   },
   {
    "duration": 8,
    "start_time": "2022-03-21T13:34:46.632Z"
   },
   {
    "duration": 23,
    "start_time": "2022-03-21T13:34:54.956Z"
   },
   {
    "duration": 41,
    "start_time": "2022-03-21T13:35:17.493Z"
   },
   {
    "duration": 32,
    "start_time": "2022-03-21T13:35:21.942Z"
   },
   {
    "duration": 10,
    "start_time": "2022-03-21T13:37:10.415Z"
   },
   {
    "duration": 18914,
    "start_time": "2022-03-21T13:37:27.167Z"
   },
   {
    "duration": 92,
    "start_time": "2022-03-21T13:37:50.219Z"
   },
   {
    "duration": 131,
    "start_time": "2022-03-21T13:37:50.314Z"
   },
   {
    "duration": 22,
    "start_time": "2022-03-21T13:37:50.447Z"
   },
   {
    "duration": 6,
    "start_time": "2022-03-21T13:37:50.471Z"
   },
   {
    "duration": 190,
    "start_time": "2022-03-21T13:37:50.482Z"
   },
   {
    "duration": 10,
    "start_time": "2022-03-21T13:37:50.675Z"
   },
   {
    "duration": 373,
    "start_time": "2022-03-21T13:37:50.688Z"
   },
   {
    "duration": 8,
    "start_time": "2022-03-21T13:37:51.064Z"
   },
   {
    "duration": 45,
    "start_time": "2022-03-21T13:37:51.074Z"
   },
   {
    "duration": 21,
    "start_time": "2022-03-21T13:37:51.142Z"
   },
   {
    "duration": 198,
    "start_time": "2022-03-21T13:37:54.972Z"
   },
   {
    "duration": 182,
    "start_time": "2022-03-21T13:50:05.504Z"
   },
   {
    "duration": 395,
    "start_time": "2022-03-21T13:50:06.478Z"
   },
   {
    "duration": 6,
    "start_time": "2022-03-21T13:50:15.842Z"
   },
   {
    "duration": 7,
    "start_time": "2022-03-21T13:50:25.876Z"
   },
   {
    "duration": 9,
    "start_time": "2022-03-21T13:50:40.212Z"
   },
   {
    "duration": 7,
    "start_time": "2022-03-21T13:50:50.121Z"
   },
   {
    "duration": 6,
    "start_time": "2022-03-21T13:53:36.929Z"
   },
   {
    "duration": 7,
    "start_time": "2022-03-21T13:55:22.452Z"
   },
   {
    "duration": 8,
    "start_time": "2022-03-21T13:55:50.392Z"
   },
   {
    "duration": 8,
    "start_time": "2022-03-21T13:57:51.595Z"
   },
   {
    "duration": 17,
    "start_time": "2022-03-21T13:58:15.490Z"
   },
   {
    "duration": 221,
    "start_time": "2022-03-21T13:58:26.013Z"
   },
   {
    "duration": 154,
    "start_time": "2022-03-21T13:58:29.277Z"
   },
   {
    "duration": 166,
    "start_time": "2022-03-21T13:59:39.040Z"
   },
   {
    "duration": 366,
    "start_time": "2022-03-21T13:59:51.350Z"
   },
   {
    "duration": 7,
    "start_time": "2022-03-21T14:00:11.178Z"
   },
   {
    "duration": 193,
    "start_time": "2022-03-21T14:00:13.820Z"
   },
   {
    "duration": 194,
    "start_time": "2022-03-21T14:01:25.069Z"
   },
   {
    "duration": 114,
    "start_time": "2022-03-21T14:01:30.376Z"
   },
   {
    "duration": 149,
    "start_time": "2022-03-21T14:01:30.494Z"
   },
   {
    "duration": 23,
    "start_time": "2022-03-21T14:01:30.646Z"
   },
   {
    "duration": 7,
    "start_time": "2022-03-21T14:01:30.673Z"
   },
   {
    "duration": 198,
    "start_time": "2022-03-21T14:01:30.683Z"
   },
   {
    "duration": 8,
    "start_time": "2022-03-21T14:01:30.884Z"
   },
   {
    "duration": 414,
    "start_time": "2022-03-21T14:01:30.895Z"
   },
   {
    "duration": 8,
    "start_time": "2022-03-21T14:01:31.311Z"
   },
   {
    "duration": 114,
    "start_time": "2022-03-21T14:01:31.342Z"
   },
   {
    "duration": 32,
    "start_time": "2022-03-21T14:01:31.458Z"
   },
   {
    "duration": 223,
    "start_time": "2022-03-21T14:01:31.493Z"
   },
   {
    "duration": 9,
    "start_time": "2022-03-21T14:01:31.718Z"
   },
   {
    "duration": 9,
    "start_time": "2022-03-21T14:01:31.745Z"
   },
   {
    "duration": 20,
    "start_time": "2022-03-21T14:01:31.757Z"
   },
   {
    "duration": 17,
    "start_time": "2022-03-21T14:01:31.779Z"
   },
   {
    "duration": 193,
    "start_time": "2022-03-21T14:01:31.798Z"
   },
   {
    "duration": 7,
    "start_time": "2022-03-21T14:01:46.562Z"
   },
   {
    "duration": 7,
    "start_time": "2022-03-21T14:03:16.371Z"
   },
   {
    "duration": 6,
    "start_time": "2022-03-21T14:04:06.872Z"
   },
   {
    "duration": 8,
    "start_time": "2022-03-21T14:04:16.897Z"
   },
   {
    "duration": 0,
    "start_time": "2022-03-21T14:05:12.596Z"
   },
   {
    "duration": 128,
    "start_time": "2022-03-21T14:05:17.807Z"
   },
   {
    "duration": 147,
    "start_time": "2022-03-21T14:05:17.938Z"
   },
   {
    "duration": 24,
    "start_time": "2022-03-21T14:05:18.088Z"
   },
   {
    "duration": 29,
    "start_time": "2022-03-21T14:05:18.115Z"
   },
   {
    "duration": 162,
    "start_time": "2022-03-21T14:05:18.150Z"
   },
   {
    "duration": 9,
    "start_time": "2022-03-21T14:05:18.315Z"
   },
   {
    "duration": 381,
    "start_time": "2022-03-21T14:05:18.327Z"
   },
   {
    "duration": 8,
    "start_time": "2022-03-21T14:05:18.710Z"
   },
   {
    "duration": 52,
    "start_time": "2022-03-21T14:05:18.720Z"
   },
   {
    "duration": 24,
    "start_time": "2022-03-21T14:05:18.774Z"
   },
   {
    "duration": 227,
    "start_time": "2022-03-21T14:05:18.801Z"
   },
   {
    "duration": 15,
    "start_time": "2022-03-21T14:05:19.031Z"
   },
   {
    "duration": 11,
    "start_time": "2022-03-21T14:05:19.048Z"
   },
   {
    "duration": 14,
    "start_time": "2022-03-21T14:05:19.064Z"
   },
   {
    "duration": 12,
    "start_time": "2022-03-21T14:05:19.080Z"
   },
   {
    "duration": 209,
    "start_time": "2022-03-21T14:05:19.094Z"
   },
   {
    "duration": 7,
    "start_time": "2022-03-21T14:05:19.305Z"
   },
   {
    "duration": 161,
    "start_time": "2022-03-21T14:05:21.317Z"
   },
   {
    "duration": 63,
    "start_time": "2022-03-21T14:06:06.853Z"
   },
   {
    "duration": 255309,
    "start_time": "2022-03-21T14:07:01.334Z"
   },
   {
    "duration": 101,
    "start_time": "2022-03-21T14:11:34.697Z"
   },
   {
    "duration": 142,
    "start_time": "2022-03-21T14:11:34.801Z"
   },
   {
    "duration": 22,
    "start_time": "2022-03-21T14:11:34.945Z"
   },
   {
    "duration": 6,
    "start_time": "2022-03-21T14:11:34.969Z"
   },
   {
    "duration": 185,
    "start_time": "2022-03-21T14:11:34.978Z"
   },
   {
    "duration": 9,
    "start_time": "2022-03-21T14:11:35.166Z"
   },
   {
    "duration": 378,
    "start_time": "2022-03-21T14:11:35.177Z"
   },
   {
    "duration": 8,
    "start_time": "2022-03-21T14:11:35.557Z"
   },
   {
    "duration": 47,
    "start_time": "2022-03-21T14:11:35.568Z"
   },
   {
    "duration": 51,
    "start_time": "2022-03-21T14:11:35.619Z"
   },
   {
    "duration": 312,
    "start_time": "2022-03-21T14:11:35.673Z"
   },
   {
    "duration": 10,
    "start_time": "2022-03-21T14:11:35.988Z"
   },
   {
    "duration": 9,
    "start_time": "2022-03-21T14:11:36.001Z"
   },
   {
    "duration": 36,
    "start_time": "2022-03-21T14:11:36.013Z"
   },
   {
    "duration": 9,
    "start_time": "2022-03-21T14:11:36.051Z"
   },
   {
    "duration": 219,
    "start_time": "2022-03-21T14:11:36.062Z"
   },
   {
    "duration": 8,
    "start_time": "2022-03-21T14:11:36.284Z"
   },
   {
    "duration": 9,
    "start_time": "2022-03-21T14:11:42.756Z"
   },
   {
    "duration": 8,
    "start_time": "2022-03-21T14:11:56.541Z"
   },
   {
    "duration": 263108,
    "start_time": "2022-03-21T14:12:18.865Z"
   },
   {
    "duration": 108,
    "start_time": "2022-03-21T14:16:49.189Z"
   },
   {
    "duration": 142,
    "start_time": "2022-03-21T14:16:49.300Z"
   },
   {
    "duration": 32,
    "start_time": "2022-03-21T14:16:49.445Z"
   },
   {
    "duration": 7,
    "start_time": "2022-03-21T14:16:49.480Z"
   },
   {
    "duration": 225,
    "start_time": "2022-03-21T14:16:49.490Z"
   },
   {
    "duration": 27,
    "start_time": "2022-03-21T14:16:49.718Z"
   },
   {
    "duration": 369,
    "start_time": "2022-03-21T14:16:49.747Z"
   },
   {
    "duration": 7,
    "start_time": "2022-03-21T14:16:50.119Z"
   },
   {
    "duration": 40,
    "start_time": "2022-03-21T14:16:50.143Z"
   },
   {
    "duration": 62,
    "start_time": "2022-03-21T14:16:50.186Z"
   },
   {
    "duration": 306,
    "start_time": "2022-03-21T14:16:50.252Z"
   },
   {
    "duration": 8,
    "start_time": "2022-03-21T14:16:50.560Z"
   },
   {
    "duration": 7,
    "start_time": "2022-03-21T14:16:50.571Z"
   },
   {
    "duration": 11,
    "start_time": "2022-03-21T14:16:50.581Z"
   },
   {
    "duration": 52,
    "start_time": "2022-03-21T14:16:50.595Z"
   },
   {
    "duration": 178,
    "start_time": "2022-03-21T14:16:50.649Z"
   },
   {
    "duration": 18,
    "start_time": "2022-03-21T14:16:50.829Z"
   },
   {
    "duration": 15,
    "start_time": "2022-03-21T14:16:50.849Z"
   },
   {
    "duration": 27027,
    "start_time": "2022-03-21T14:16:56.825Z"
   },
   {
    "duration": 0,
    "start_time": "2022-03-21T14:17:23.858Z"
   },
   {
    "duration": 5,
    "start_time": "2022-03-21T14:17:28.996Z"
   },
   {
    "duration": 8,
    "start_time": "2022-03-21T14:19:22.192Z"
   },
   {
    "duration": 18,
    "start_time": "2022-03-21T14:20:37.677Z"
   },
   {
    "duration": 6,
    "start_time": "2022-03-21T14:20:45.039Z"
   },
   {
    "duration": 6,
    "start_time": "2022-03-21T15:28:57.803Z"
   },
   {
    "duration": 8,
    "start_time": "2022-03-21T15:29:24.363Z"
   },
   {
    "duration": 9,
    "start_time": "2022-03-21T15:30:22.593Z"
   },
   {
    "duration": 7,
    "start_time": "2022-03-21T15:30:33.803Z"
   },
   {
    "duration": 168,
    "start_time": "2022-03-21T15:30:56.013Z"
   },
   {
    "duration": 8,
    "start_time": "2022-03-21T15:31:15.719Z"
   },
   {
    "duration": 7,
    "start_time": "2022-03-21T15:31:21.693Z"
   },
   {
    "duration": 6,
    "start_time": "2022-03-21T15:33:05.437Z"
   },
   {
    "duration": 6,
    "start_time": "2022-03-21T15:33:10.685Z"
   },
   {
    "duration": 9,
    "start_time": "2022-03-21T15:33:54.471Z"
   },
   {
    "duration": 6,
    "start_time": "2022-03-21T15:34:13.470Z"
   },
   {
    "duration": 9,
    "start_time": "2022-03-21T15:34:19.171Z"
   },
   {
    "duration": 187,
    "start_time": "2022-03-21T15:34:45.044Z"
   },
   {
    "duration": 178,
    "start_time": "2022-03-21T15:35:12.252Z"
   },
   {
    "duration": 9,
    "start_time": "2022-03-21T15:35:45.211Z"
   },
   {
    "duration": 23,
    "start_time": "2022-03-21T15:36:03.546Z"
   },
   {
    "duration": 10,
    "start_time": "2022-03-21T15:36:39.930Z"
   },
   {
    "duration": 9,
    "start_time": "2022-03-21T15:37:16.987Z"
   },
   {
    "duration": 44,
    "start_time": "2022-03-21T15:37:22.108Z"
   },
   {
    "duration": 10,
    "start_time": "2022-03-21T15:38:16.716Z"
   },
   {
    "duration": 10,
    "start_time": "2022-03-21T15:38:23.969Z"
   },
   {
    "duration": 399,
    "start_time": "2022-03-21T15:38:31.390Z"
   },
   {
    "duration": 45,
    "start_time": "2022-03-21T15:38:34.005Z"
   },
   {
    "duration": 11,
    "start_time": "2022-03-21T15:46:40.608Z"
   },
   {
    "duration": 2376,
    "start_time": "2022-03-21T15:47:12.160Z"
   },
   {
    "duration": 12,
    "start_time": "2022-03-21T15:47:17.911Z"
   },
   {
    "duration": 14,
    "start_time": "2022-03-21T15:47:37.355Z"
   },
   {
    "duration": 8,
    "start_time": "2022-03-21T15:48:33.220Z"
   },
   {
    "duration": 11,
    "start_time": "2022-03-21T15:50:05.455Z"
   },
   {
    "duration": 8,
    "start_time": "2022-03-21T15:50:17.182Z"
   },
   {
    "duration": 875,
    "start_time": "2022-03-21T15:50:29.729Z"
   },
   {
    "duration": 8,
    "start_time": "2022-03-21T15:54:39.804Z"
   },
   {
    "duration": 11,
    "start_time": "2022-03-21T15:56:25.593Z"
   },
   {
    "duration": 9,
    "start_time": "2022-03-21T15:56:47.284Z"
   },
   {
    "duration": 6,
    "start_time": "2022-03-21T15:58:32.773Z"
   },
   {
    "duration": 6,
    "start_time": "2022-03-21T15:58:43.828Z"
   },
   {
    "duration": 6,
    "start_time": "2022-03-21T15:58:58.543Z"
   },
   {
    "duration": 6,
    "start_time": "2022-03-21T15:59:24.799Z"
   },
   {
    "duration": 4,
    "start_time": "2022-03-21T15:59:49.989Z"
   },
   {
    "duration": 6,
    "start_time": "2022-03-21T15:59:58.821Z"
   },
   {
    "duration": 6,
    "start_time": "2022-03-21T16:00:21.024Z"
   },
   {
    "duration": 10,
    "start_time": "2022-03-21T16:01:07.040Z"
   },
   {
    "duration": 26,
    "start_time": "2022-03-21T16:01:16.477Z"
   },
   {
    "duration": 7,
    "start_time": "2022-03-21T16:02:08.090Z"
   },
   {
    "duration": 59,
    "start_time": "2022-03-21T16:04:08.756Z"
   },
   {
    "duration": 51,
    "start_time": "2022-03-21T16:04:13.282Z"
   },
   {
    "duration": 10,
    "start_time": "2022-03-21T16:04:53.271Z"
   },
   {
    "duration": 4,
    "start_time": "2022-03-21T16:04:58.268Z"
   },
   {
    "duration": 13,
    "start_time": "2022-03-21T16:05:23.838Z"
   },
   {
    "duration": 206,
    "start_time": "2022-03-21T16:05:30.949Z"
   },
   {
    "duration": 46,
    "start_time": "2022-03-21T16:05:58.339Z"
   },
   {
    "duration": 9,
    "start_time": "2022-03-21T16:06:46.161Z"
   },
   {
    "duration": 13,
    "start_time": "2022-03-21T16:06:55.927Z"
   },
   {
    "duration": 15,
    "start_time": "2022-03-21T16:07:01.920Z"
   },
   {
    "duration": 9,
    "start_time": "2022-03-21T16:07:09.922Z"
   },
   {
    "duration": 13,
    "start_time": "2022-03-21T16:07:49.716Z"
   },
   {
    "duration": 13,
    "start_time": "2022-03-21T16:08:04.611Z"
   },
   {
    "duration": 8,
    "start_time": "2022-03-21T16:08:46.784Z"
   },
   {
    "duration": 7,
    "start_time": "2022-03-21T16:09:34.219Z"
   },
   {
    "duration": 11,
    "start_time": "2022-03-21T16:10:35.094Z"
   },
   {
    "duration": 8,
    "start_time": "2022-03-21T16:10:43.261Z"
   },
   {
    "duration": 6,
    "start_time": "2022-03-21T16:10:54.179Z"
   },
   {
    "duration": 11,
    "start_time": "2022-03-21T16:11:00.626Z"
   },
   {
    "duration": 6,
    "start_time": "2022-03-21T16:11:05.151Z"
   },
   {
    "duration": 11,
    "start_time": "2022-03-21T16:11:12.865Z"
   },
   {
    "duration": 10,
    "start_time": "2022-03-21T16:11:20.013Z"
   },
   {
    "duration": 12,
    "start_time": "2022-03-21T16:11:31.556Z"
   },
   {
    "duration": 11,
    "start_time": "2022-03-21T16:12:22.417Z"
   },
   {
    "duration": 8,
    "start_time": "2022-03-21T16:12:32.467Z"
   },
   {
    "duration": 11,
    "start_time": "2022-03-21T16:13:54.974Z"
   },
   {
    "duration": 5,
    "start_time": "2022-03-21T16:14:00.156Z"
   },
   {
    "duration": 10,
    "start_time": "2022-03-21T16:14:41.796Z"
   },
   {
    "duration": 10,
    "start_time": "2022-03-21T16:14:59.575Z"
   },
   {
    "duration": 12,
    "start_time": "2022-03-21T16:16:09.619Z"
   },
   {
    "duration": 10,
    "start_time": "2022-03-21T16:16:23.831Z"
   },
   {
    "duration": 11,
    "start_time": "2022-03-21T16:16:27.346Z"
   },
   {
    "duration": 9,
    "start_time": "2022-03-21T16:17:14.441Z"
   },
   {
    "duration": 40,
    "start_time": "2022-03-21T16:17:38.270Z"
   },
   {
    "duration": 11,
    "start_time": "2022-03-21T16:18:51.718Z"
   },
   {
    "duration": 13,
    "start_time": "2022-03-21T16:19:37.364Z"
   },
   {
    "duration": 12,
    "start_time": "2022-03-21T16:19:49.747Z"
   },
   {
    "duration": 8,
    "start_time": "2022-03-21T16:19:52.278Z"
   },
   {
    "duration": 9,
    "start_time": "2022-03-21T16:21:01.109Z"
   },
   {
    "duration": 9,
    "start_time": "2022-03-21T16:21:04.476Z"
   },
   {
    "duration": 7,
    "start_time": "2022-03-21T16:22:01.382Z"
   },
   {
    "duration": 10,
    "start_time": "2022-03-21T16:22:13.204Z"
   },
   {
    "duration": 41,
    "start_time": "2022-03-21T16:22:29.634Z"
   },
   {
    "duration": 8,
    "start_time": "2022-03-21T16:22:35.423Z"
   },
   {
    "duration": 9,
    "start_time": "2022-03-21T16:22:38.093Z"
   },
   {
    "duration": 8,
    "start_time": "2022-03-21T16:22:51.367Z"
   },
   {
    "duration": 8,
    "start_time": "2022-03-21T16:23:03.248Z"
   },
   {
    "duration": 9,
    "start_time": "2022-03-21T16:23:07.052Z"
   },
   {
    "duration": 8,
    "start_time": "2022-03-21T16:23:16.335Z"
   },
   {
    "duration": 6,
    "start_time": "2022-03-21T16:23:38.669Z"
   },
   {
    "duration": 11,
    "start_time": "2022-03-21T16:23:52.082Z"
   },
   {
    "duration": 957,
    "start_time": "2022-03-21T16:25:08.426Z"
   },
   {
    "duration": 78,
    "start_time": "2022-03-21T16:25:17.357Z"
   },
   {
    "duration": 889,
    "start_time": "2022-03-21T16:25:26.621Z"
   },
   {
    "duration": 11,
    "start_time": "2022-03-21T16:28:06.769Z"
   },
   {
    "duration": 12,
    "start_time": "2022-03-21T16:28:12.635Z"
   },
   {
    "duration": 11,
    "start_time": "2022-03-21T16:28:46.055Z"
   },
   {
    "duration": 9,
    "start_time": "2022-03-21T16:30:37.692Z"
   },
   {
    "duration": 12,
    "start_time": "2022-03-21T16:30:50.876Z"
   },
   {
    "duration": 13,
    "start_time": "2022-03-21T16:30:55.442Z"
   },
   {
    "duration": 10,
    "start_time": "2022-03-21T16:31:00.660Z"
   },
   {
    "duration": 227,
    "start_time": "2022-03-21T16:32:39.741Z"
   },
   {
    "duration": 214,
    "start_time": "2022-03-21T16:32:47.816Z"
   },
   {
    "duration": 228,
    "start_time": "2022-03-21T16:32:55.156Z"
   },
   {
    "duration": 8,
    "start_time": "2022-03-21T16:33:00.107Z"
   },
   {
    "duration": 6,
    "start_time": "2022-03-21T16:33:14.095Z"
   },
   {
    "duration": 11,
    "start_time": "2022-03-21T16:33:20.562Z"
   },
   {
    "duration": 210,
    "start_time": "2022-03-21T16:33:23.196Z"
   },
   {
    "duration": 9,
    "start_time": "2022-03-21T16:33:27.639Z"
   },
   {
    "duration": 7,
    "start_time": "2022-03-21T16:33:48.180Z"
   },
   {
    "duration": 7,
    "start_time": "2022-03-21T16:33:55.038Z"
   },
   {
    "duration": 42,
    "start_time": "2022-03-21T16:33:58.158Z"
   },
   {
    "duration": 8,
    "start_time": "2022-03-21T16:34:19.082Z"
   },
   {
    "duration": 12,
    "start_time": "2022-03-21T16:35:01.823Z"
   },
   {
    "duration": 43,
    "start_time": "2022-03-21T16:35:10.148Z"
   },
   {
    "duration": 9,
    "start_time": "2022-03-21T16:35:32.957Z"
   },
   {
    "duration": 6,
    "start_time": "2022-03-21T16:36:18.655Z"
   },
   {
    "duration": 9,
    "start_time": "2022-03-21T16:36:26.438Z"
   },
   {
    "duration": 106,
    "start_time": "2022-03-21T16:36:39.468Z"
   },
   {
    "duration": 151,
    "start_time": "2022-03-21T16:36:39.576Z"
   },
   {
    "duration": 27,
    "start_time": "2022-03-21T16:36:39.729Z"
   },
   {
    "duration": 6,
    "start_time": "2022-03-21T16:36:39.759Z"
   },
   {
    "duration": 192,
    "start_time": "2022-03-21T16:36:39.769Z"
   },
   {
    "duration": 9,
    "start_time": "2022-03-21T16:36:39.963Z"
   },
   {
    "duration": 381,
    "start_time": "2022-03-21T16:36:39.974Z"
   },
   {
    "duration": 8,
    "start_time": "2022-03-21T16:36:40.358Z"
   },
   {
    "duration": 54,
    "start_time": "2022-03-21T16:36:40.369Z"
   },
   {
    "duration": 42,
    "start_time": "2022-03-21T16:36:40.426Z"
   },
   {
    "duration": 201,
    "start_time": "2022-03-21T16:36:40.471Z"
   },
   {
    "duration": 7,
    "start_time": "2022-03-21T16:36:40.674Z"
   },
   {
    "duration": 11,
    "start_time": "2022-03-21T16:36:40.683Z"
   },
   {
    "duration": 17,
    "start_time": "2022-03-21T16:36:40.698Z"
   },
   {
    "duration": 27,
    "start_time": "2022-03-21T16:36:40.717Z"
   },
   {
    "duration": 175,
    "start_time": "2022-03-21T16:36:40.747Z"
   },
   {
    "duration": 7,
    "start_time": "2022-03-21T16:36:40.924Z"
   },
   {
    "duration": 5,
    "start_time": "2022-03-21T16:36:40.944Z"
   },
   {
    "duration": 12,
    "start_time": "2022-03-21T16:36:40.951Z"
   },
   {
    "duration": 22,
    "start_time": "2022-03-21T16:36:40.966Z"
   },
   {
    "duration": 10,
    "start_time": "2022-03-21T16:36:40.990Z"
   },
   {
    "duration": 7,
    "start_time": "2022-03-21T16:36:41.003Z"
   },
   {
    "duration": 39,
    "start_time": "2022-03-21T16:36:41.012Z"
   },
   {
    "duration": 24,
    "start_time": "2022-03-21T16:36:41.054Z"
   },
   {
    "duration": 188,
    "start_time": "2022-03-21T16:36:41.080Z"
   },
   {
    "duration": 8,
    "start_time": "2022-03-21T16:36:41.270Z"
   },
   {
    "duration": 5,
    "start_time": "2022-03-21T16:36:41.280Z"
   },
   {
    "duration": 9,
    "start_time": "2022-03-21T16:36:41.288Z"
   },
   {
    "duration": 14,
    "start_time": "2022-03-21T16:36:41.299Z"
   },
   {
    "duration": 39,
    "start_time": "2022-03-21T16:36:41.315Z"
   },
   {
    "duration": 10,
    "start_time": "2022-03-21T16:36:41.356Z"
   },
   {
    "duration": 41,
    "start_time": "2022-03-21T16:36:41.369Z"
   },
   {
    "duration": 31,
    "start_time": "2022-03-21T16:36:41.413Z"
   },
   {
    "duration": 18,
    "start_time": "2022-03-21T16:36:41.446Z"
   },
   {
    "duration": 5,
    "start_time": "2022-03-21T16:36:55.227Z"
   },
   {
    "duration": 7,
    "start_time": "2022-03-21T16:37:03.620Z"
   },
   {
    "duration": 53,
    "start_time": "2022-03-21T16:37:42.372Z"
   },
   {
    "duration": 23,
    "start_time": "2022-03-21T16:40:34.440Z"
   },
   {
    "duration": 16,
    "start_time": "2022-03-21T16:43:49.487Z"
   },
   {
    "duration": 19,
    "start_time": "2022-03-21T16:43:55.697Z"
   },
   {
    "duration": 19,
    "start_time": "2022-03-21T16:45:31.161Z"
   },
   {
    "duration": 104,
    "start_time": "2022-03-21T16:46:00.453Z"
   },
   {
    "duration": 154,
    "start_time": "2022-03-21T16:46:00.560Z"
   },
   {
    "duration": 39,
    "start_time": "2022-03-21T16:46:00.716Z"
   },
   {
    "duration": 6,
    "start_time": "2022-03-21T16:46:00.757Z"
   },
   {
    "duration": 172,
    "start_time": "2022-03-21T16:46:00.766Z"
   },
   {
    "duration": 9,
    "start_time": "2022-03-21T16:46:00.942Z"
   },
   {
    "duration": 381,
    "start_time": "2022-03-21T16:46:00.953Z"
   },
   {
    "duration": 7,
    "start_time": "2022-03-21T16:46:01.342Z"
   },
   {
    "duration": 44,
    "start_time": "2022-03-21T16:46:01.351Z"
   },
   {
    "duration": 53,
    "start_time": "2022-03-21T16:46:01.398Z"
   },
   {
    "duration": 201,
    "start_time": "2022-03-21T16:46:01.453Z"
   },
   {
    "duration": 7,
    "start_time": "2022-03-21T16:46:01.656Z"
   },
   {
    "duration": 46,
    "start_time": "2022-03-21T16:46:01.665Z"
   },
   {
    "duration": 11,
    "start_time": "2022-03-21T16:46:01.715Z"
   },
   {
    "duration": 16,
    "start_time": "2022-03-21T16:46:01.729Z"
   },
   {
    "duration": 168,
    "start_time": "2022-03-21T16:46:01.748Z"
   },
   {
    "duration": 7,
    "start_time": "2022-03-21T16:46:01.918Z"
   },
   {
    "duration": 38,
    "start_time": "2022-03-21T16:46:01.927Z"
   },
   {
    "duration": 21,
    "start_time": "2022-03-21T16:46:01.967Z"
   },
   {
    "duration": 28,
    "start_time": "2022-03-21T16:46:01.990Z"
   },
   {
    "duration": 6,
    "start_time": "2022-03-21T16:46:02.020Z"
   },
   {
    "duration": 9,
    "start_time": "2022-03-21T16:46:02.028Z"
   },
   {
    "duration": 16,
    "start_time": "2022-03-21T16:46:02.039Z"
   },
   {
    "duration": 10,
    "start_time": "2022-03-21T16:46:02.058Z"
   },
   {
    "duration": 177,
    "start_time": "2022-03-21T16:46:02.070Z"
   },
   {
    "duration": 7,
    "start_time": "2022-03-21T16:46:02.249Z"
   },
   {
    "duration": 12,
    "start_time": "2022-03-21T16:46:02.259Z"
   },
   {
    "duration": 6,
    "start_time": "2022-03-21T16:46:02.273Z"
   },
   {
    "duration": 5,
    "start_time": "2022-03-21T16:46:02.281Z"
   },
   {
    "duration": 22,
    "start_time": "2022-03-21T16:46:02.288Z"
   },
   {
    "duration": 4,
    "start_time": "2022-03-21T16:46:02.343Z"
   },
   {
    "duration": 44,
    "start_time": "2022-03-21T16:46:02.349Z"
   },
   {
    "duration": 7,
    "start_time": "2022-03-21T16:46:02.395Z"
   },
   {
    "duration": 44,
    "start_time": "2022-03-21T16:46:02.404Z"
   },
   {
    "duration": 5,
    "start_time": "2022-03-21T16:46:16.299Z"
   },
   {
    "duration": 909,
    "start_time": "2022-03-22T04:22:09.694Z"
   },
   {
    "duration": 104,
    "start_time": "2022-03-22T04:22:10.604Z"
   },
   {
    "duration": 15,
    "start_time": "2022-03-22T04:22:10.709Z"
   },
   {
    "duration": 4,
    "start_time": "2022-03-22T04:22:10.725Z"
   },
   {
    "duration": 113,
    "start_time": "2022-03-22T04:22:10.731Z"
   },
   {
    "duration": 5,
    "start_time": "2022-03-22T04:22:10.846Z"
   },
   {
    "duration": 206,
    "start_time": "2022-03-22T04:22:10.852Z"
   },
   {
    "duration": 5,
    "start_time": "2022-03-22T04:22:11.060Z"
   },
   {
    "duration": 32,
    "start_time": "2022-03-22T04:22:11.066Z"
   },
   {
    "duration": 21,
    "start_time": "2022-03-22T04:22:11.099Z"
   },
   {
    "duration": 123,
    "start_time": "2022-03-22T04:22:11.121Z"
   },
   {
    "duration": 5,
    "start_time": "2022-03-22T04:22:11.245Z"
   },
   {
    "duration": 10,
    "start_time": "2022-03-22T04:22:11.251Z"
   },
   {
    "duration": 18,
    "start_time": "2022-03-22T04:22:11.264Z"
   },
   {
    "duration": 7,
    "start_time": "2022-03-22T04:22:11.283Z"
   },
   {
    "duration": 147,
    "start_time": "2022-03-22T04:22:11.291Z"
   },
   {
    "duration": 4,
    "start_time": "2022-03-22T04:22:11.440Z"
   },
   {
    "duration": 7,
    "start_time": "2022-03-22T04:22:11.446Z"
   },
   {
    "duration": 28,
    "start_time": "2022-03-22T04:22:11.454Z"
   },
   {
    "duration": 10,
    "start_time": "2022-03-22T04:22:11.483Z"
   },
   {
    "duration": 3,
    "start_time": "2022-03-22T04:22:11.495Z"
   },
   {
    "duration": 5,
    "start_time": "2022-03-22T04:22:11.500Z"
   },
   {
    "duration": 7,
    "start_time": "2022-03-22T04:22:11.506Z"
   },
   {
    "duration": 7,
    "start_time": "2022-03-22T04:22:11.514Z"
   },
   {
    "duration": 120,
    "start_time": "2022-03-22T04:22:11.522Z"
   },
   {
    "duration": 5,
    "start_time": "2022-03-22T04:22:11.643Z"
   },
   {
    "duration": 4,
    "start_time": "2022-03-22T04:22:11.649Z"
   },
   {
    "duration": 26,
    "start_time": "2022-03-22T04:22:11.655Z"
   },
   {
    "duration": 4,
    "start_time": "2022-03-22T04:22:11.683Z"
   },
   {
    "duration": 11,
    "start_time": "2022-03-22T04:22:11.689Z"
   },
   {
    "duration": 6,
    "start_time": "2022-03-22T04:22:11.701Z"
   },
   {
    "duration": 27,
    "start_time": "2022-03-22T04:22:11.708Z"
   },
   {
    "duration": 6,
    "start_time": "2022-03-22T04:22:11.736Z"
   },
   {
    "duration": 38,
    "start_time": "2022-03-22T04:22:11.743Z"
   },
   {
    "duration": 29,
    "start_time": "2022-03-22T04:22:13.898Z"
   },
   {
    "duration": 25,
    "start_time": "2022-03-22T04:25:56.113Z"
   },
   {
    "duration": 6,
    "start_time": "2022-03-22T04:29:12.283Z"
   },
   {
    "duration": 5,
    "start_time": "2022-03-22T04:29:17.054Z"
   },
   {
    "duration": 6,
    "start_time": "2022-03-22T04:29:32.456Z"
   },
   {
    "duration": 4,
    "start_time": "2022-03-22T04:29:36.807Z"
   },
   {
    "duration": 4,
    "start_time": "2022-03-22T04:29:43.678Z"
   },
   {
    "duration": 5,
    "start_time": "2022-03-22T04:29:47.228Z"
   },
   {
    "duration": 6,
    "start_time": "2022-03-22T04:29:53.474Z"
   },
   {
    "duration": 6,
    "start_time": "2022-03-22T04:30:02.407Z"
   },
   {
    "duration": 6,
    "start_time": "2022-03-22T04:30:14.971Z"
   },
   {
    "duration": 5,
    "start_time": "2022-03-22T04:32:00.286Z"
   },
   {
    "duration": 7,
    "start_time": "2022-03-22T04:32:08.638Z"
   },
   {
    "duration": 28,
    "start_time": "2022-03-22T04:32:41.020Z"
   },
   {
    "duration": 5,
    "start_time": "2022-03-22T04:32:50.375Z"
   },
   {
    "duration": 3,
    "start_time": "2022-03-22T04:32:55.560Z"
   },
   {
    "duration": 4,
    "start_time": "2022-03-22T04:33:25.641Z"
   },
   {
    "duration": 64,
    "start_time": "2022-03-22T04:33:31.990Z"
   },
   {
    "duration": 6,
    "start_time": "2022-03-22T04:33:35.082Z"
   },
   {
    "duration": 7,
    "start_time": "2022-03-22T04:33:44.762Z"
   },
   {
    "duration": 7,
    "start_time": "2022-03-22T04:34:16.412Z"
   },
   {
    "duration": 5,
    "start_time": "2022-03-22T04:34:22.582Z"
   },
   {
    "duration": 8,
    "start_time": "2022-03-22T04:40:06.404Z"
   },
   {
    "duration": 10,
    "start_time": "2022-03-22T04:44:21.432Z"
   },
   {
    "duration": 7,
    "start_time": "2022-03-22T04:44:36.542Z"
   },
   {
    "duration": 11,
    "start_time": "2022-03-22T04:44:45.071Z"
   },
   {
    "duration": 9,
    "start_time": "2022-03-22T04:45:17.103Z"
   },
   {
    "duration": 7,
    "start_time": "2022-03-22T04:45:37.937Z"
   },
   {
    "duration": 7,
    "start_time": "2022-03-22T04:46:19.336Z"
   },
   {
    "duration": 73,
    "start_time": "2022-03-22T04:48:04.616Z"
   },
   {
    "duration": 97,
    "start_time": "2022-03-22T04:48:04.691Z"
   },
   {
    "duration": 14,
    "start_time": "2022-03-22T04:48:04.790Z"
   },
   {
    "duration": 10,
    "start_time": "2022-03-22T04:48:04.805Z"
   },
   {
    "duration": 95,
    "start_time": "2022-03-22T04:48:04.818Z"
   },
   {
    "duration": 6,
    "start_time": "2022-03-22T04:48:04.915Z"
   },
   {
    "duration": 203,
    "start_time": "2022-03-22T04:48:04.923Z"
   },
   {
    "duration": 5,
    "start_time": "2022-03-22T04:48:05.128Z"
   },
   {
    "duration": 47,
    "start_time": "2022-03-22T04:48:05.135Z"
   },
   {
    "duration": 21,
    "start_time": "2022-03-22T04:48:05.184Z"
   },
   {
    "duration": 121,
    "start_time": "2022-03-22T04:48:05.207Z"
   },
   {
    "duration": 6,
    "start_time": "2022-03-22T04:48:05.330Z"
   },
   {
    "duration": 7,
    "start_time": "2022-03-22T04:48:05.338Z"
   },
   {
    "duration": 6,
    "start_time": "2022-03-22T04:48:05.349Z"
   },
   {
    "duration": 27,
    "start_time": "2022-03-22T04:48:05.357Z"
   },
   {
    "duration": 103,
    "start_time": "2022-03-22T04:48:05.386Z"
   },
   {
    "duration": 5,
    "start_time": "2022-03-22T04:48:05.491Z"
   },
   {
    "duration": 8,
    "start_time": "2022-03-22T04:48:05.498Z"
   },
   {
    "duration": 7,
    "start_time": "2022-03-22T04:48:05.508Z"
   },
   {
    "duration": 13,
    "start_time": "2022-03-22T04:48:05.517Z"
   },
   {
    "duration": 4,
    "start_time": "2022-03-22T04:48:05.532Z"
   },
   {
    "duration": 44,
    "start_time": "2022-03-22T04:48:05.537Z"
   },
   {
    "duration": 13,
    "start_time": "2022-03-22T04:48:05.583Z"
   },
   {
    "duration": 9,
    "start_time": "2022-03-22T04:48:05.597Z"
   },
   {
    "duration": 99,
    "start_time": "2022-03-22T04:48:05.607Z"
   },
   {
    "duration": 5,
    "start_time": "2022-03-22T04:48:05.708Z"
   },
   {
    "duration": 10,
    "start_time": "2022-03-22T04:48:05.715Z"
   },
   {
    "duration": 7,
    "start_time": "2022-03-22T04:48:05.726Z"
   },
   {
    "duration": 7,
    "start_time": "2022-03-22T04:48:05.734Z"
   },
   {
    "duration": 38,
    "start_time": "2022-03-22T04:48:05.743Z"
   },
   {
    "duration": 3,
    "start_time": "2022-03-22T04:48:05.782Z"
   },
   {
    "duration": 30,
    "start_time": "2022-03-22T04:48:05.787Z"
   },
   {
    "duration": 7,
    "start_time": "2022-03-22T04:48:05.819Z"
   },
   {
    "duration": 15,
    "start_time": "2022-03-22T04:48:05.827Z"
   },
   {
    "duration": 4,
    "start_time": "2022-03-22T04:48:05.844Z"
   },
   {
    "duration": 3452,
    "start_time": "2022-03-22T04:48:05.849Z"
   },
   {
    "duration": 0,
    "start_time": "2022-03-22T04:48:09.303Z"
   },
   {
    "duration": 8,
    "start_time": "2022-03-22T04:48:18.975Z"
   },
   {
    "duration": 8,
    "start_time": "2022-03-22T04:48:22.843Z"
   },
   {
    "duration": 21,
    "start_time": "2022-03-22T04:48:45.739Z"
   },
   {
    "duration": 3,
    "start_time": "2022-03-22T04:53:10.431Z"
   },
   {
    "duration": 12,
    "start_time": "2022-03-22T04:53:13.682Z"
   },
   {
    "duration": 3,
    "start_time": "2022-03-22T04:53:30.095Z"
   },
   {
    "duration": 11,
    "start_time": "2022-03-22T04:53:30.474Z"
   },
   {
    "duration": 3,
    "start_time": "2022-03-22T04:53:39.852Z"
   },
   {
    "duration": 11,
    "start_time": "2022-03-22T04:53:40.145Z"
   },
   {
    "duration": 16,
    "start_time": "2022-03-22T04:54:55.467Z"
   },
   {
    "duration": 10,
    "start_time": "2022-03-22T04:55:34.421Z"
   },
   {
    "duration": 2,
    "start_time": "2022-03-22T04:55:38.083Z"
   },
   {
    "duration": 3,
    "start_time": "2022-03-22T04:56:11.780Z"
   },
   {
    "duration": 10,
    "start_time": "2022-03-22T04:56:11.982Z"
   },
   {
    "duration": 6,
    "start_time": "2022-03-22T04:56:20.603Z"
   },
   {
    "duration": 3,
    "start_time": "2022-03-22T05:00:26.792Z"
   },
   {
    "duration": 5,
    "start_time": "2022-03-22T05:00:27.538Z"
   },
   {
    "duration": 10,
    "start_time": "2022-03-22T05:00:28.714Z"
   },
   {
    "duration": 16,
    "start_time": "2022-03-22T05:01:21.567Z"
   },
   {
    "duration": 3,
    "start_time": "2022-03-22T05:02:04.341Z"
   },
   {
    "duration": 6,
    "start_time": "2022-03-22T05:02:04.941Z"
   },
   {
    "duration": 10,
    "start_time": "2022-03-22T05:02:16.738Z"
   },
   {
    "duration": 3,
    "start_time": "2022-03-22T05:08:47.970Z"
   },
   {
    "duration": 10,
    "start_time": "2022-03-22T05:09:03.067Z"
   },
   {
    "duration": 43,
    "start_time": "2022-03-22T05:09:08.545Z"
   },
   {
    "duration": 6,
    "start_time": "2022-03-22T05:09:28.886Z"
   },
   {
    "duration": 4,
    "start_time": "2022-03-22T05:09:32.353Z"
   },
   {
    "duration": 11,
    "start_time": "2022-03-22T05:09:56.672Z"
   },
   {
    "duration": 6,
    "start_time": "2022-03-22T05:10:03.023Z"
   },
   {
    "duration": 5,
    "start_time": "2022-03-22T05:10:07.679Z"
   },
   {
    "duration": 6,
    "start_time": "2022-03-22T05:10:29.824Z"
   },
   {
    "duration": 4,
    "start_time": "2022-03-22T05:10:38.367Z"
   },
   {
    "duration": 47,
    "start_time": "2022-03-22T05:11:07.954Z"
   },
   {
    "duration": 7,
    "start_time": "2022-03-22T05:11:18.947Z"
   },
   {
    "duration": 5,
    "start_time": "2022-03-22T05:11:20.518Z"
   },
   {
    "duration": 4,
    "start_time": "2022-03-22T05:11:23.750Z"
   },
   {
    "duration": 11,
    "start_time": "2022-03-22T05:12:00.714Z"
   },
   {
    "duration": 4,
    "start_time": "2022-03-22T05:13:15.394Z"
   },
   {
    "duration": 6,
    "start_time": "2022-03-22T05:13:45.870Z"
   },
   {
    "duration": 6,
    "start_time": "2022-03-22T05:13:48.555Z"
   },
   {
    "duration": 5,
    "start_time": "2022-03-22T05:14:09.212Z"
   },
   {
    "duration": 4,
    "start_time": "2022-03-22T05:17:30.932Z"
   },
   {
    "duration": 4,
    "start_time": "2022-03-22T05:17:31.416Z"
   },
   {
    "duration": 77,
    "start_time": "2022-03-22T05:19:42.850Z"
   },
   {
    "duration": 110,
    "start_time": "2022-03-22T05:19:42.929Z"
   },
   {
    "duration": 14,
    "start_time": "2022-03-22T05:19:43.040Z"
   },
   {
    "duration": 4,
    "start_time": "2022-03-22T05:19:43.055Z"
   },
   {
    "duration": 102,
    "start_time": "2022-03-22T05:19:43.060Z"
   },
   {
    "duration": 21,
    "start_time": "2022-03-22T05:19:43.164Z"
   },
   {
    "duration": 219,
    "start_time": "2022-03-22T05:19:43.186Z"
   },
   {
    "duration": 4,
    "start_time": "2022-03-22T05:19:43.407Z"
   },
   {
    "duration": 25,
    "start_time": "2022-03-22T05:19:43.413Z"
   },
   {
    "duration": 104,
    "start_time": "2022-03-22T05:19:43.440Z"
   },
   {
    "duration": 113,
    "start_time": "2022-03-22T05:19:43.545Z"
   },
   {
    "duration": 5,
    "start_time": "2022-03-22T05:19:43.660Z"
   },
   {
    "duration": 14,
    "start_time": "2022-03-22T05:19:43.667Z"
   },
   {
    "duration": 11,
    "start_time": "2022-03-22T05:19:43.682Z"
   },
   {
    "duration": 10,
    "start_time": "2022-03-22T05:19:43.694Z"
   },
   {
    "duration": 107,
    "start_time": "2022-03-22T05:19:43.705Z"
   },
   {
    "duration": 4,
    "start_time": "2022-03-22T05:19:43.814Z"
   },
   {
    "duration": 6,
    "start_time": "2022-03-22T05:19:43.819Z"
   },
   {
    "duration": 7,
    "start_time": "2022-03-22T05:19:43.826Z"
   },
   {
    "duration": 10,
    "start_time": "2022-03-22T05:19:43.835Z"
   },
   {
    "duration": 3,
    "start_time": "2022-03-22T05:19:43.847Z"
   },
   {
    "duration": 4,
    "start_time": "2022-03-22T05:19:43.881Z"
   },
   {
    "duration": 8,
    "start_time": "2022-03-22T05:19:43.887Z"
   },
   {
    "duration": 7,
    "start_time": "2022-03-22T05:19:43.897Z"
   },
   {
    "duration": 116,
    "start_time": "2022-03-22T05:19:43.905Z"
   },
   {
    "duration": 5,
    "start_time": "2022-03-22T05:19:44.022Z"
   },
   {
    "duration": 4,
    "start_time": "2022-03-22T05:19:44.029Z"
   },
   {
    "duration": 3,
    "start_time": "2022-03-22T05:19:44.037Z"
   },
   {
    "duration": 6,
    "start_time": "2022-03-22T05:19:44.042Z"
   },
   {
    "duration": 10,
    "start_time": "2022-03-22T05:19:44.080Z"
   },
   {
    "duration": 7,
    "start_time": "2022-03-22T05:19:44.091Z"
   },
   {
    "duration": 30,
    "start_time": "2022-03-22T05:19:44.099Z"
   },
   {
    "duration": 5,
    "start_time": "2022-03-22T05:19:44.131Z"
   },
   {
    "duration": 14,
    "start_time": "2022-03-22T05:19:44.137Z"
   },
   {
    "duration": 3,
    "start_time": "2022-03-22T05:19:44.153Z"
   },
   {
    "duration": 7,
    "start_time": "2022-03-22T05:19:44.181Z"
   },
   {
    "duration": 7,
    "start_time": "2022-03-22T05:19:44.190Z"
   },
   {
    "duration": 23,
    "start_time": "2022-03-22T05:19:44.199Z"
   },
   {
    "duration": 2,
    "start_time": "2022-03-22T05:19:44.224Z"
   },
   {
    "duration": 9,
    "start_time": "2022-03-22T05:19:44.228Z"
   },
   {
    "duration": 45,
    "start_time": "2022-03-22T05:19:44.239Z"
   },
   {
    "duration": 7,
    "start_time": "2022-03-22T05:19:44.285Z"
   },
   {
    "duration": 8,
    "start_time": "2022-03-22T05:19:44.294Z"
   },
   {
    "duration": 11,
    "start_time": "2022-03-22T05:19:44.303Z"
   },
   {
    "duration": 5,
    "start_time": "2022-03-22T05:19:44.315Z"
   },
   {
    "duration": 5,
    "start_time": "2022-03-22T05:19:44.322Z"
   },
   {
    "duration": 71,
    "start_time": "2022-03-22T12:55:48.718Z"
   },
   {
    "duration": 113,
    "start_time": "2022-03-22T12:55:48.792Z"
   },
   {
    "duration": 16,
    "start_time": "2022-03-22T12:55:48.907Z"
   },
   {
    "duration": 4,
    "start_time": "2022-03-22T12:55:48.924Z"
   },
   {
    "duration": 114,
    "start_time": "2022-03-22T12:55:48.930Z"
   },
   {
    "duration": 5,
    "start_time": "2022-03-22T12:55:49.046Z"
   },
   {
    "duration": 228,
    "start_time": "2022-03-22T12:55:49.053Z"
   },
   {
    "duration": 5,
    "start_time": "2022-03-22T12:55:49.282Z"
   },
   {
    "duration": 25,
    "start_time": "2022-03-22T12:55:49.289Z"
   },
   {
    "duration": 20,
    "start_time": "2022-03-22T12:55:49.315Z"
   },
   {
    "duration": 136,
    "start_time": "2022-03-22T12:55:49.337Z"
   },
   {
    "duration": 5,
    "start_time": "2022-03-22T12:55:49.481Z"
   },
   {
    "duration": 7,
    "start_time": "2022-03-22T12:55:49.487Z"
   },
   {
    "duration": 5,
    "start_time": "2022-03-22T12:55:49.497Z"
   },
   {
    "duration": 6,
    "start_time": "2022-03-22T12:55:49.503Z"
   },
   {
    "duration": 128,
    "start_time": "2022-03-22T12:55:49.510Z"
   },
   {
    "duration": 5,
    "start_time": "2022-03-22T12:55:49.640Z"
   },
   {
    "duration": 7,
    "start_time": "2022-03-22T12:55:49.646Z"
   },
   {
    "duration": 29,
    "start_time": "2022-03-22T12:55:49.654Z"
   },
   {
    "duration": 12,
    "start_time": "2022-03-22T12:55:49.685Z"
   },
   {
    "duration": 5,
    "start_time": "2022-03-22T12:55:49.698Z"
   },
   {
    "duration": 5,
    "start_time": "2022-03-22T12:55:49.705Z"
   },
   {
    "duration": 6,
    "start_time": "2022-03-22T12:55:49.712Z"
   },
   {
    "duration": 12,
    "start_time": "2022-03-22T12:55:49.720Z"
   },
   {
    "duration": 132,
    "start_time": "2022-03-22T12:55:49.733Z"
   },
   {
    "duration": 17,
    "start_time": "2022-03-22T12:55:49.867Z"
   },
   {
    "duration": 7,
    "start_time": "2022-03-22T12:55:49.886Z"
   },
   {
    "duration": 5,
    "start_time": "2022-03-22T12:55:49.895Z"
   },
   {
    "duration": 5,
    "start_time": "2022-03-22T12:55:49.902Z"
   },
   {
    "duration": 11,
    "start_time": "2022-03-22T12:55:49.909Z"
   },
   {
    "duration": 4,
    "start_time": "2022-03-22T12:55:49.922Z"
   },
   {
    "duration": 64,
    "start_time": "2022-03-22T12:55:49.928Z"
   },
   {
    "duration": 7,
    "start_time": "2022-03-22T12:55:49.994Z"
   },
   {
    "duration": 18,
    "start_time": "2022-03-22T12:55:50.003Z"
   },
   {
    "duration": 4,
    "start_time": "2022-03-22T12:55:50.023Z"
   },
   {
    "duration": 12,
    "start_time": "2022-03-22T12:55:50.029Z"
   },
   {
    "duration": 43,
    "start_time": "2022-03-22T12:55:50.043Z"
   },
   {
    "duration": 34,
    "start_time": "2022-03-22T12:55:50.088Z"
   },
   {
    "duration": 4,
    "start_time": "2022-03-22T12:55:50.124Z"
   },
   {
    "duration": 13,
    "start_time": "2022-03-22T12:55:50.131Z"
   },
   {
    "duration": 31,
    "start_time": "2022-03-22T12:55:50.150Z"
   },
   {
    "duration": 6,
    "start_time": "2022-03-22T12:55:50.184Z"
   },
   {
    "duration": 15,
    "start_time": "2022-03-22T12:55:50.192Z"
   },
   {
    "duration": 7,
    "start_time": "2022-03-22T12:55:50.208Z"
   },
   {
    "duration": 13,
    "start_time": "2022-03-22T12:55:50.217Z"
   },
   {
    "duration": 8,
    "start_time": "2022-03-22T12:55:50.232Z"
   },
   {
    "duration": 40,
    "start_time": "2022-03-22T12:55:54.607Z"
   },
   {
    "duration": 7,
    "start_time": "2022-03-22T12:57:14.914Z"
   },
   {
    "duration": 6,
    "start_time": "2022-03-22T12:57:17.320Z"
   },
   {
    "duration": 139,
    "start_time": "2022-03-22T12:57:30.370Z"
   },
   {
    "duration": 127,
    "start_time": "2022-03-22T12:58:17.835Z"
   },
   {
    "duration": 196,
    "start_time": "2022-03-22T12:58:35.195Z"
   },
   {
    "duration": 123,
    "start_time": "2022-03-22T12:58:52.288Z"
   },
   {
    "duration": 173,
    "start_time": "2022-03-22T12:59:04.304Z"
   },
   {
    "duration": 122,
    "start_time": "2022-03-22T12:59:11.026Z"
   },
   {
    "duration": 125,
    "start_time": "2022-03-22T12:59:32.179Z"
   },
   {
    "duration": 127,
    "start_time": "2022-03-22T13:00:20.767Z"
   },
   {
    "duration": 129,
    "start_time": "2022-03-22T13:00:25.769Z"
   },
   {
    "duration": 129,
    "start_time": "2022-03-22T13:00:29.364Z"
   },
   {
    "duration": 118,
    "start_time": "2022-03-22T13:00:33.938Z"
   },
   {
    "duration": 121,
    "start_time": "2022-03-22T13:00:54.413Z"
   },
   {
    "duration": 318,
    "start_time": "2022-03-22T13:01:24.005Z"
   },
   {
    "duration": 6,
    "start_time": "2022-03-22T13:03:41.941Z"
   },
   {
    "duration": 140,
    "start_time": "2022-03-22T13:03:54.377Z"
   },
   {
    "duration": 143,
    "start_time": "2022-03-22T13:04:19.240Z"
   },
   {
    "duration": 142,
    "start_time": "2022-03-22T13:04:28.264Z"
   },
   {
    "duration": 6,
    "start_time": "2022-03-22T13:05:11.638Z"
   },
   {
    "duration": 7,
    "start_time": "2022-03-22T13:05:22.112Z"
   },
   {
    "duration": 243,
    "start_time": "2022-03-22T13:05:26.487Z"
   },
   {
    "duration": 8,
    "start_time": "2022-03-22T13:05:30.042Z"
   },
   {
    "duration": 6,
    "start_time": "2022-03-22T13:05:45.347Z"
   },
   {
    "duration": 8,
    "start_time": "2022-03-22T13:05:50.890Z"
   },
   {
    "duration": 273,
    "start_time": "2022-03-22T13:06:39.912Z"
   },
   {
    "duration": 5,
    "start_time": "2022-03-22T13:06:46.725Z"
   },
   {
    "duration": 5,
    "start_time": "2022-03-22T13:07:32.352Z"
   },
   {
    "duration": 137,
    "start_time": "2022-03-22T13:07:39.986Z"
   },
   {
    "duration": 6,
    "start_time": "2022-03-22T13:07:53.575Z"
   },
   {
    "duration": 332,
    "start_time": "2022-03-22T13:08:27.376Z"
   },
   {
    "duration": 141,
    "start_time": "2022-03-22T13:08:41.591Z"
   },
   {
    "duration": 142,
    "start_time": "2022-03-22T13:08:49.735Z"
   },
   {
    "duration": 144,
    "start_time": "2022-03-22T13:09:08.220Z"
   },
   {
    "duration": 4,
    "start_time": "2022-03-22T13:09:19.563Z"
   },
   {
    "duration": 149,
    "start_time": "2022-03-22T13:09:26.408Z"
   },
   {
    "duration": 150,
    "start_time": "2022-03-22T13:10:27.226Z"
   },
   {
    "duration": 160,
    "start_time": "2022-03-22T13:10:50.607Z"
   },
   {
    "duration": 342,
    "start_time": "2022-03-22T13:11:23.557Z"
   },
   {
    "duration": 269,
    "start_time": "2022-03-22T13:12:00.399Z"
   },
   {
    "duration": 291,
    "start_time": "2022-03-22T13:12:06.716Z"
   },
   {
    "duration": 6,
    "start_time": "2022-03-22T13:13:58.899Z"
   },
   {
    "duration": 125,
    "start_time": "2022-03-22T13:14:09.691Z"
   },
   {
    "duration": 15,
    "start_time": "2022-03-22T13:14:27.888Z"
   },
   {
    "duration": 4,
    "start_time": "2022-03-22T13:14:32.716Z"
   },
   {
    "duration": 123,
    "start_time": "2022-03-22T13:14:45.217Z"
   },
   {
    "duration": 148,
    "start_time": "2022-03-22T13:14:49.005Z"
   },
   {
    "duration": 156,
    "start_time": "2022-03-22T13:14:55.295Z"
   },
   {
    "duration": 155,
    "start_time": "2022-03-22T13:15:12.670Z"
   },
   {
    "duration": 238,
    "start_time": "2022-03-22T13:15:27.437Z"
   },
   {
    "duration": 142,
    "start_time": "2022-03-22T13:15:31.941Z"
   },
   {
    "duration": 9,
    "start_time": "2022-03-22T13:16:31.290Z"
   },
   {
    "duration": 130,
    "start_time": "2022-03-22T13:16:35.556Z"
   },
   {
    "duration": 147,
    "start_time": "2022-03-22T13:16:42.514Z"
   },
   {
    "duration": 48,
    "start_time": "2022-03-22T13:23:35.346Z"
   },
   {
    "duration": 6,
    "start_time": "2022-03-22T13:24:45.075Z"
   },
   {
    "duration": 89,
    "start_time": "2022-03-22T13:25:46.948Z"
   },
   {
    "duration": 116,
    "start_time": "2022-03-22T13:25:47.039Z"
   },
   {
    "duration": 31,
    "start_time": "2022-03-22T13:25:47.157Z"
   },
   {
    "duration": 4,
    "start_time": "2022-03-22T13:25:47.190Z"
   },
   {
    "duration": 107,
    "start_time": "2022-03-22T13:25:47.195Z"
   },
   {
    "duration": 6,
    "start_time": "2022-03-22T13:25:47.303Z"
   },
   {
    "duration": 211,
    "start_time": "2022-03-22T13:25:47.310Z"
   },
   {
    "duration": 5,
    "start_time": "2022-03-22T13:25:47.522Z"
   },
   {
    "duration": 24,
    "start_time": "2022-03-22T13:25:47.528Z"
   },
   {
    "duration": 44,
    "start_time": "2022-03-22T13:25:47.556Z"
   },
   {
    "duration": 128,
    "start_time": "2022-03-22T13:25:47.602Z"
   },
   {
    "duration": 6,
    "start_time": "2022-03-22T13:25:47.732Z"
   },
   {
    "duration": 6,
    "start_time": "2022-03-22T13:25:47.740Z"
   },
   {
    "duration": 34,
    "start_time": "2022-03-22T13:25:47.748Z"
   },
   {
    "duration": 7,
    "start_time": "2022-03-22T13:25:47.784Z"
   },
   {
    "duration": 118,
    "start_time": "2022-03-22T13:25:47.793Z"
   },
   {
    "duration": 5,
    "start_time": "2022-03-22T13:25:47.912Z"
   },
   {
    "duration": 7,
    "start_time": "2022-03-22T13:25:47.919Z"
   },
   {
    "duration": 7,
    "start_time": "2022-03-22T13:25:47.928Z"
   },
   {
    "duration": 5,
    "start_time": "2022-03-22T13:25:47.937Z"
   },
   {
    "duration": 38,
    "start_time": "2022-03-22T13:25:47.944Z"
   },
   {
    "duration": 14,
    "start_time": "2022-03-22T13:25:47.984Z"
   },
   {
    "duration": 4,
    "start_time": "2022-03-22T13:25:48.000Z"
   },
   {
    "duration": 12,
    "start_time": "2022-03-22T13:25:48.006Z"
   },
   {
    "duration": 13,
    "start_time": "2022-03-22T13:25:48.019Z"
   },
   {
    "duration": 8,
    "start_time": "2022-03-22T13:25:48.034Z"
   },
   {
    "duration": 129,
    "start_time": "2022-03-22T13:25:48.044Z"
   },
   {
    "duration": 6,
    "start_time": "2022-03-22T13:25:48.182Z"
   },
   {
    "duration": 9,
    "start_time": "2022-03-22T13:25:48.190Z"
   },
   {
    "duration": 9,
    "start_time": "2022-03-22T13:25:48.201Z"
   },
   {
    "duration": 7,
    "start_time": "2022-03-22T13:25:48.211Z"
   },
   {
    "duration": 15,
    "start_time": "2022-03-22T13:25:48.220Z"
   },
   {
    "duration": 5,
    "start_time": "2022-03-22T13:25:48.237Z"
   },
   {
    "duration": 61,
    "start_time": "2022-03-22T13:25:48.244Z"
   },
   {
    "duration": 8,
    "start_time": "2022-03-22T13:25:48.306Z"
   },
   {
    "duration": 14,
    "start_time": "2022-03-22T13:25:48.316Z"
   },
   {
    "duration": 4,
    "start_time": "2022-03-22T13:25:48.332Z"
   },
   {
    "duration": 43,
    "start_time": "2022-03-22T13:25:48.338Z"
   },
   {
    "duration": 9,
    "start_time": "2022-03-22T13:25:48.383Z"
   },
   {
    "duration": 23,
    "start_time": "2022-03-22T13:25:48.394Z"
   },
   {
    "duration": 6,
    "start_time": "2022-03-22T13:25:48.419Z"
   },
   {
    "duration": 17,
    "start_time": "2022-03-22T13:25:48.427Z"
   },
   {
    "duration": 6,
    "start_time": "2022-03-22T13:25:48.446Z"
   },
   {
    "duration": 29,
    "start_time": "2022-03-22T13:25:48.453Z"
   },
   {
    "duration": 6,
    "start_time": "2022-03-22T13:25:48.484Z"
   },
   {
    "duration": 8,
    "start_time": "2022-03-22T13:25:48.491Z"
   },
   {
    "duration": 7,
    "start_time": "2022-03-22T13:25:48.501Z"
   },
   {
    "duration": 6,
    "start_time": "2022-03-22T13:25:48.510Z"
   },
   {
    "duration": 406,
    "start_time": "2022-03-22T13:25:48.518Z"
   },
   {
    "duration": 410,
    "start_time": "2022-03-22T13:25:48.925Z"
   },
   {
    "duration": 149,
    "start_time": "2022-03-22T13:25:49.337Z"
   },
   {
    "duration": 160,
    "start_time": "2022-03-22T13:25:49.488Z"
   },
   {
    "duration": 6,
    "start_time": "2022-03-22T13:25:51.350Z"
   },
   {
    "duration": 124,
    "start_time": "2022-03-22T13:26:05.218Z"
   },
   {
    "duration": 158,
    "start_time": "2022-03-22T13:26:32.575Z"
   },
   {
    "duration": 167,
    "start_time": "2022-03-22T13:28:12.703Z"
   },
   {
    "duration": 10,
    "start_time": "2022-03-22T13:29:37.210Z"
   },
   {
    "duration": 5,
    "start_time": "2022-03-22T13:30:18.328Z"
   },
   {
    "duration": 310,
    "start_time": "2022-03-22T13:36:48.940Z"
   },
   {
    "duration": 130,
    "start_time": "2022-03-22T13:37:04.133Z"
   },
   {
    "duration": 165,
    "start_time": "2022-03-22T13:37:09.799Z"
   },
   {
    "duration": 11,
    "start_time": "2022-03-22T13:37:44.339Z"
   },
   {
    "duration": 14,
    "start_time": "2022-03-22T13:38:09.632Z"
   },
   {
    "duration": 6,
    "start_time": "2022-03-22T13:41:26.868Z"
   },
   {
    "duration": 5,
    "start_time": "2022-03-22T13:41:36.808Z"
   },
   {
    "duration": 7,
    "start_time": "2022-03-22T13:41:46.233Z"
   },
   {
    "duration": 248,
    "start_time": "2022-03-22T13:42:23.254Z"
   },
   {
    "duration": 5,
    "start_time": "2022-03-22T13:42:28.608Z"
   },
   {
    "duration": 8,
    "start_time": "2022-03-22T13:43:02.911Z"
   },
   {
    "duration": 9,
    "start_time": "2022-03-22T13:43:12.259Z"
   },
   {
    "duration": 798,
    "start_time": "2022-03-22T13:43:38.786Z"
   },
   {
    "duration": 4,
    "start_time": "2022-03-22T13:44:28.727Z"
   },
   {
    "duration": 4,
    "start_time": "2022-03-22T13:45:45.550Z"
   },
   {
    "duration": 531,
    "start_time": "2022-03-22T13:45:59.030Z"
   },
   {
    "duration": 9,
    "start_time": "2022-03-22T13:46:56.231Z"
   },
   {
    "duration": 102,
    "start_time": "2022-03-22T13:48:51.793Z"
   },
   {
    "duration": 13,
    "start_time": "2022-03-22T13:50:22.300Z"
   },
   {
    "duration": 410,
    "start_time": "2022-03-22T13:50:48.413Z"
   },
   {
    "duration": 4,
    "start_time": "2022-03-22T13:51:42.589Z"
   },
   {
    "duration": 12,
    "start_time": "2022-03-22T13:51:42.902Z"
   },
   {
    "duration": 14,
    "start_time": "2022-03-22T13:55:44.222Z"
   },
   {
    "duration": 378,
    "start_time": "2022-03-22T13:55:48.261Z"
   },
   {
    "duration": 60740,
    "start_time": "2022-03-22T13:57:02.985Z"
   },
   {
    "duration": 342,
    "start_time": "2022-03-22T13:58:15.482Z"
   },
   {
    "duration": 173,
    "start_time": "2022-03-22T14:01:40.145Z"
   },
   {
    "duration": 163,
    "start_time": "2022-03-22T14:02:24.441Z"
   },
   {
    "duration": 174,
    "start_time": "2022-03-22T14:02:28.107Z"
   },
   {
    "duration": 165,
    "start_time": "2022-03-22T14:02:32.134Z"
   },
   {
    "duration": 318,
    "start_time": "2022-03-22T14:04:28.296Z"
   },
   {
    "duration": 306,
    "start_time": "2022-03-22T14:07:23.839Z"
   },
   {
    "duration": 2,
    "start_time": "2022-03-22T14:08:15.430Z"
   },
   {
    "duration": 4,
    "start_time": "2022-03-22T14:08:19.353Z"
   },
   {
    "duration": 412,
    "start_time": "2022-03-22T14:09:27.850Z"
   },
   {
    "duration": 550,
    "start_time": "2022-03-22T14:09:28.264Z"
   },
   {
    "duration": 397,
    "start_time": "2022-03-22T14:09:28.816Z"
   },
   {
    "duration": 318,
    "start_time": "2022-03-22T14:10:12.210Z"
   },
   {
    "duration": 448,
    "start_time": "2022-03-22T14:10:13.739Z"
   },
   {
    "duration": 528,
    "start_time": "2022-03-22T14:10:41.717Z"
   },
   {
    "duration": 371,
    "start_time": "2022-03-22T14:12:21.394Z"
   },
   {
    "duration": 8,
    "start_time": "2022-03-22T14:18:00.609Z"
   },
   {
    "duration": 4,
    "start_time": "2022-03-22T14:18:04.755Z"
   },
   {
    "duration": 25,
    "start_time": "2022-03-22T14:18:35.498Z"
   },
   {
    "duration": 13,
    "start_time": "2022-03-22T14:18:56.398Z"
   },
   {
    "duration": 14,
    "start_time": "2022-03-22T14:19:08.772Z"
   },
   {
    "duration": 14,
    "start_time": "2022-03-22T14:19:21.504Z"
   },
   {
    "duration": 15,
    "start_time": "2022-03-22T14:19:29.383Z"
   },
   {
    "duration": 14,
    "start_time": "2022-03-22T14:23:13.767Z"
   },
   {
    "duration": 2,
    "start_time": "2022-03-22T14:25:04.308Z"
   },
   {
    "duration": 7,
    "start_time": "2022-03-22T14:25:07.967Z"
   },
   {
    "duration": 40,
    "start_time": "2022-03-22T14:25:15.115Z"
   },
   {
    "duration": 11,
    "start_time": "2022-03-22T14:26:47.471Z"
   },
   {
    "duration": 16,
    "start_time": "2022-03-22T14:27:50.341Z"
   },
   {
    "duration": 12,
    "start_time": "2022-03-22T14:28:02.098Z"
   },
   {
    "duration": 13,
    "start_time": "2022-03-22T14:28:36.090Z"
   },
   {
    "duration": 6,
    "start_time": "2022-03-22T14:33:09.054Z"
   },
   {
    "duration": 6,
    "start_time": "2022-03-22T14:34:20.957Z"
   },
   {
    "duration": 4669,
    "start_time": "2022-03-22T14:34:32.781Z"
   },
   {
    "duration": 5,
    "start_time": "2022-03-22T14:34:53.590Z"
   },
   {
    "duration": 35,
    "start_time": "2022-03-22T14:34:57.609Z"
   },
   {
    "duration": 4,
    "start_time": "2022-03-22T14:35:18.900Z"
   },
   {
    "duration": 5,
    "start_time": "2022-03-22T14:35:37.938Z"
   },
   {
    "duration": 6194,
    "start_time": "2022-03-22T14:36:49.312Z"
   },
   {
    "duration": 0,
    "start_time": "2022-03-22T14:36:55.508Z"
   },
   {
    "duration": 6,
    "start_time": "2022-03-22T14:37:03.955Z"
   },
   {
    "duration": 35,
    "start_time": "2022-03-22T14:37:08.026Z"
   },
   {
    "duration": 4,
    "start_time": "2022-03-22T14:38:26.143Z"
   },
   {
    "duration": 32,
    "start_time": "2022-03-22T14:39:31.972Z"
   },
   {
    "duration": 7,
    "start_time": "2022-03-22T14:39:45.370Z"
   },
   {
    "duration": 5,
    "start_time": "2022-03-22T14:40:43.548Z"
   },
   {
    "duration": 6,
    "start_time": "2022-03-22T14:40:47.688Z"
   },
   {
    "duration": 8,
    "start_time": "2022-03-22T14:40:52.177Z"
   },
   {
    "duration": 4,
    "start_time": "2022-03-22T14:40:55.243Z"
   },
   {
    "duration": 113,
    "start_time": "2022-03-22T14:41:27.115Z"
   },
   {
    "duration": 6,
    "start_time": "2022-03-22T14:47:03.880Z"
   },
   {
    "duration": 32,
    "start_time": "2022-03-22T14:47:08.204Z"
   },
   {
    "duration": 99,
    "start_time": "2022-03-22T15:38:00.283Z"
   },
   {
    "duration": 952,
    "start_time": "2022-03-22T15:38:00.386Z"
   },
   {
    "duration": 10934,
    "start_time": "2022-03-22T15:38:01.339Z"
   },
   {
    "duration": 2659,
    "start_time": "2022-03-22T15:38:12.275Z"
   },
   {
    "duration": 289,
    "start_time": "2022-03-22T15:38:14.936Z"
   },
   {
    "duration": 367,
    "start_time": "2022-03-22T15:38:15.227Z"
   },
   {
    "duration": 155,
    "start_time": "2022-03-22T15:38:15.596Z"
   },
   {
    "duration": 4061,
    "start_time": "2022-03-22T15:38:15.754Z"
   },
   {
    "duration": 3219,
    "start_time": "2022-03-22T15:38:19.817Z"
   },
   {
    "duration": 586,
    "start_time": "2022-03-22T15:38:23.038Z"
   },
   {
    "duration": 1134,
    "start_time": "2022-03-22T15:38:23.626Z"
   },
   {
    "duration": 2278,
    "start_time": "2022-03-22T15:38:24.762Z"
   },
   {
    "duration": 645,
    "start_time": "2022-03-22T15:38:27.043Z"
   },
   {
    "duration": 79,
    "start_time": "2022-03-22T15:38:27.689Z"
   },
   {
    "duration": 1134,
    "start_time": "2022-03-22T15:38:27.770Z"
   },
   {
    "duration": 8306,
    "start_time": "2022-03-22T15:38:28.907Z"
   },
   {
    "duration": 11115,
    "start_time": "2022-03-22T15:38:37.215Z"
   },
   {
    "duration": 7021,
    "start_time": "2022-03-22T15:38:48.332Z"
   },
   {
    "duration": 3537,
    "start_time": "2022-03-22T15:38:55.355Z"
   },
   {
    "duration": 460,
    "start_time": "2022-03-22T15:38:58.894Z"
   },
   {
    "duration": 1682,
    "start_time": "2022-03-22T15:38:59.356Z"
   },
   {
    "duration": 2918,
    "start_time": "2022-03-22T15:39:01.041Z"
   },
   {
    "duration": 2758,
    "start_time": "2022-03-22T15:39:03.961Z"
   },
   {
    "duration": 1093,
    "start_time": "2022-03-22T15:39:06.723Z"
   },
   {
    "duration": 423,
    "start_time": "2022-03-22T15:39:07.818Z"
   },
   {
    "duration": 624,
    "start_time": "2022-03-22T15:39:08.242Z"
   },
   {
    "duration": 1472,
    "start_time": "2022-03-22T15:39:08.868Z"
   },
   {
    "duration": 761,
    "start_time": "2022-03-22T15:39:10.342Z"
   },
   {
    "duration": 474,
    "start_time": "2022-03-22T15:39:11.105Z"
   },
   {
    "duration": 80,
    "start_time": "2022-03-22T15:39:11.581Z"
   },
   {
    "duration": 154,
    "start_time": "2022-03-22T15:39:11.664Z"
   },
   {
    "duration": 357,
    "start_time": "2022-03-22T15:39:11.820Z"
   },
   {
    "duration": 1301,
    "start_time": "2022-03-22T15:39:12.179Z"
   },
   {
    "duration": 390,
    "start_time": "2022-03-22T15:39:13.482Z"
   },
   {
    "duration": 51,
    "start_time": "2022-03-22T15:39:13.873Z"
   },
   {
    "duration": 77,
    "start_time": "2022-03-22T15:39:13.926Z"
   },
   {
    "duration": 44,
    "start_time": "2022-03-22T15:39:14.006Z"
   },
   {
    "duration": 55,
    "start_time": "2022-03-22T15:39:14.053Z"
   },
   {
    "duration": 88,
    "start_time": "2022-03-22T15:39:14.109Z"
   },
   {
    "duration": 9,
    "start_time": "2022-03-22T15:39:14.787Z"
   },
   {
    "duration": 906,
    "start_time": "2022-03-22T15:39:14.797Z"
   },
   {
    "duration": 702,
    "start_time": "2022-03-22T15:39:15.705Z"
   },
   {
    "duration": 1194,
    "start_time": "2022-03-22T15:39:16.409Z"
   },
   {
    "duration": 550,
    "start_time": "2022-03-22T15:39:17.605Z"
   },
   {
    "duration": 2912,
    "start_time": "2022-03-22T15:39:18.156Z"
   },
   {
    "duration": 5936,
    "start_time": "2022-03-22T15:39:21.070Z"
   },
   {
    "duration": 6692,
    "start_time": "2022-03-22T15:39:27.008Z"
   },
   {
    "duration": 878,
    "start_time": "2022-03-22T15:39:33.701Z"
   },
   {
    "duration": 1303,
    "start_time": "2022-03-22T15:39:34.581Z"
   },
   {
    "duration": 724,
    "start_time": "2022-03-22T15:39:35.887Z"
   },
   {
    "duration": 1405,
    "start_time": "2022-03-22T15:39:36.614Z"
   },
   {
    "duration": 791,
    "start_time": "2022-03-22T15:39:38.021Z"
   },
   {
    "duration": 710,
    "start_time": "2022-03-22T15:39:38.815Z"
   },
   {
    "duration": 534,
    "start_time": "2022-03-22T15:39:39.527Z"
   },
   {
    "duration": 402,
    "start_time": "2022-03-22T15:39:40.062Z"
   },
   {
    "duration": 3966,
    "start_time": "2022-03-22T15:39:40.465Z"
   },
   {
    "duration": 6889,
    "start_time": "2022-03-22T15:39:44.433Z"
   },
   {
    "duration": 8574,
    "start_time": "2022-03-22T15:39:51.324Z"
   },
   {
    "duration": 6193,
    "start_time": "2022-03-22T15:39:59.900Z"
   },
   {
    "duration": 6472,
    "start_time": "2022-03-22T15:40:06.095Z"
   },
   {
    "duration": 4320,
    "start_time": "2022-03-22T15:40:12.568Z"
   },
   {
    "duration": 8051,
    "start_time": "2022-03-22T15:40:16.890Z"
   },
   {
    "duration": 8380,
    "start_time": "2022-03-22T15:40:24.942Z"
   },
   {
    "duration": 4033,
    "start_time": "2022-03-22T15:40:33.323Z"
   },
   {
    "duration": 882,
    "start_time": "2022-03-22T15:40:37.358Z"
   },
   {
    "duration": 556,
    "start_time": "2022-03-22T15:40:38.241Z"
   },
   {
    "duration": 529,
    "start_time": "2022-03-22T15:40:38.798Z"
   },
   {
    "duration": 216,
    "start_time": "2022-03-22T15:40:39.329Z"
   },
   {
    "duration": 624,
    "start_time": "2022-03-22T15:40:39.547Z"
   },
   {
    "duration": 384,
    "start_time": "2022-03-22T15:40:40.173Z"
   },
   {
    "duration": 36,
    "start_time": "2022-03-22T15:40:40.563Z"
   },
   {
    "duration": 74,
    "start_time": "2022-03-22T15:40:40.600Z"
   },
   {
    "duration": 50,
    "start_time": "2022-03-22T15:40:40.677Z"
   },
   {
    "duration": 68,
    "start_time": "2022-03-22T15:40:40.729Z"
   },
   {
    "duration": 166,
    "start_time": "2022-03-22T15:40:40.799Z"
   },
   {
    "duration": 18,
    "start_time": "2022-03-22T15:40:40.967Z"
   },
   {
    "duration": 14,
    "start_time": "2022-03-22T15:40:40.987Z"
   },
   {
    "duration": 281,
    "start_time": "2022-03-22T15:41:14.335Z"
   },
   {
    "duration": 5,
    "start_time": "2022-03-22T15:41:38.694Z"
   },
   {
    "duration": 31,
    "start_time": "2022-03-22T15:41:45.045Z"
   },
   {
    "duration": 12,
    "start_time": "2022-03-22T15:42:26.122Z"
   },
   {
    "duration": 247,
    "start_time": "2022-03-22T15:43:38.245Z"
   },
   {
    "duration": 111,
    "start_time": "2022-03-22T15:43:42.957Z"
   },
   {
    "duration": 202,
    "start_time": "2022-03-22T15:43:51.379Z"
   },
   {
    "duration": 138,
    "start_time": "2022-03-22T15:43:54.691Z"
   },
   {
    "duration": 167,
    "start_time": "2022-03-22T15:45:26.335Z"
   },
   {
    "duration": 167,
    "start_time": "2022-03-22T15:45:46.240Z"
   },
   {
    "duration": 116,
    "start_time": "2022-03-22T15:47:32.118Z"
   },
   {
    "duration": 138,
    "start_time": "2022-03-22T15:47:39.221Z"
   },
   {
    "duration": 122,
    "start_time": "2022-03-22T15:48:24.642Z"
   },
   {
    "duration": 136,
    "start_time": "2022-03-22T15:48:30.480Z"
   },
   {
    "duration": 251,
    "start_time": "2022-03-22T15:51:06.805Z"
   },
   {
    "duration": 248,
    "start_time": "2022-03-22T15:52:22.317Z"
   },
   {
    "duration": 474,
    "start_time": "2022-03-22T15:53:06.266Z"
   },
   {
    "duration": 223,
    "start_time": "2022-03-22T15:53:20.140Z"
   },
   {
    "duration": 664,
    "start_time": "2022-03-22T15:53:42.235Z"
   },
   {
    "duration": 4,
    "start_time": "2022-03-22T15:56:49.360Z"
   },
   {
    "duration": 129,
    "start_time": "2022-03-22T15:57:03.873Z"
   },
   {
    "duration": 125,
    "start_time": "2022-03-22T15:57:25.983Z"
   },
   {
    "duration": 112,
    "start_time": "2022-03-22T15:58:10.006Z"
   },
   {
    "duration": 121,
    "start_time": "2022-03-22T15:58:15.014Z"
   },
   {
    "duration": 159,
    "start_time": "2022-03-22T15:59:07.126Z"
   },
   {
    "duration": 149,
    "start_time": "2022-03-22T15:59:18.505Z"
   },
   {
    "duration": 163,
    "start_time": "2022-03-22T15:59:28.837Z"
   },
   {
    "duration": 337,
    "start_time": "2022-03-22T16:02:55.329Z"
   },
   {
    "duration": 331,
    "start_time": "2022-03-22T16:03:41.653Z"
   },
   {
    "duration": 5,
    "start_time": "2022-03-22T16:07:55.678Z"
   },
   {
    "duration": 141,
    "start_time": "2022-03-22T16:07:59.539Z"
   },
   {
    "duration": 164,
    "start_time": "2022-03-22T16:08:00.679Z"
   },
   {
    "duration": 127,
    "start_time": "2022-03-22T16:08:05.045Z"
   },
   {
    "duration": 143,
    "start_time": "2022-03-22T16:08:07.571Z"
   },
   {
    "duration": 8,
    "start_time": "2022-03-22T16:08:11.037Z"
   },
   {
    "duration": 4,
    "start_time": "2022-03-22T16:08:11.217Z"
   },
   {
    "duration": 224,
    "start_time": "2022-03-22T16:08:12.553Z"
   },
   {
    "duration": 229,
    "start_time": "2022-03-22T16:08:37.465Z"
   },
   {
    "duration": 109,
    "start_time": "2022-03-22T16:08:39.142Z"
   },
   {
    "duration": 202,
    "start_time": "2022-03-22T16:08:48.434Z"
   },
   {
    "duration": 336,
    "start_time": "2022-03-22T16:09:02.068Z"
   },
   {
    "duration": 82,
    "start_time": "2022-03-22T16:31:10.075Z"
   },
   {
    "duration": 89,
    "start_time": "2022-03-22T16:31:10.159Z"
   },
   {
    "duration": 13,
    "start_time": "2022-03-22T16:31:10.249Z"
   },
   {
    "duration": 18,
    "start_time": "2022-03-22T16:31:10.264Z"
   },
   {
    "duration": 84,
    "start_time": "2022-03-22T16:31:10.284Z"
   },
   {
    "duration": 6,
    "start_time": "2022-03-22T16:31:10.381Z"
   },
   {
    "duration": 211,
    "start_time": "2022-03-22T16:31:10.389Z"
   },
   {
    "duration": 4,
    "start_time": "2022-03-22T16:31:10.605Z"
   },
   {
    "duration": 22,
    "start_time": "2022-03-22T16:31:10.611Z"
   },
   {
    "duration": 19,
    "start_time": "2022-03-22T16:31:10.634Z"
   },
   {
    "duration": 135,
    "start_time": "2022-03-22T16:31:10.655Z"
   },
   {
    "duration": 5,
    "start_time": "2022-03-22T16:31:10.793Z"
   },
   {
    "duration": 5,
    "start_time": "2022-03-22T16:31:10.799Z"
   },
   {
    "duration": 7,
    "start_time": "2022-03-22T16:31:10.805Z"
   },
   {
    "duration": 8,
    "start_time": "2022-03-22T16:31:10.813Z"
   },
   {
    "duration": 114,
    "start_time": "2022-03-22T16:31:10.823Z"
   },
   {
    "duration": 5,
    "start_time": "2022-03-22T16:31:10.938Z"
   },
   {
    "duration": 7,
    "start_time": "2022-03-22T16:31:10.944Z"
   },
   {
    "duration": 6,
    "start_time": "2022-03-22T16:31:10.952Z"
   },
   {
    "duration": 4,
    "start_time": "2022-03-22T16:31:10.980Z"
   },
   {
    "duration": 11,
    "start_time": "2022-03-22T16:31:10.986Z"
   },
   {
    "duration": 11,
    "start_time": "2022-03-22T16:31:10.998Z"
   },
   {
    "duration": 4,
    "start_time": "2022-03-22T16:31:11.011Z"
   },
   {
    "duration": 7,
    "start_time": "2022-03-22T16:31:11.016Z"
   },
   {
    "duration": 6,
    "start_time": "2022-03-22T16:31:13.746Z"
   },
   {
    "duration": 8,
    "start_time": "2022-03-22T16:31:13.754Z"
   },
   {
    "duration": 95,
    "start_time": "2022-03-22T16:31:13.764Z"
   },
   {
    "duration": 21,
    "start_time": "2022-03-22T16:31:13.860Z"
   },
   {
    "duration": 3,
    "start_time": "2022-03-22T16:31:13.883Z"
   },
   {
    "duration": 23,
    "start_time": "2022-03-22T16:31:13.888Z"
   },
   {
    "duration": 9,
    "start_time": "2022-03-22T16:31:13.921Z"
   },
   {
    "duration": 26,
    "start_time": "2022-03-22T16:31:13.932Z"
   },
   {
    "duration": 35,
    "start_time": "2022-03-22T16:31:13.960Z"
   },
   {
    "duration": 19,
    "start_time": "2022-03-22T16:31:13.997Z"
   },
   {
    "duration": 37,
    "start_time": "2022-03-22T16:31:14.018Z"
   },
   {
    "duration": 5,
    "start_time": "2022-03-22T16:31:15.573Z"
   },
   {
    "duration": 14,
    "start_time": "2022-03-22T16:31:15.580Z"
   },
   {
    "duration": 4,
    "start_time": "2022-03-22T16:31:15.596Z"
   },
   {
    "duration": 10,
    "start_time": "2022-03-22T16:31:15.602Z"
   },
   {
    "duration": 8,
    "start_time": "2022-03-22T16:31:15.614Z"
   },
   {
    "duration": 20,
    "start_time": "2022-03-22T16:31:15.624Z"
   },
   {
    "duration": 36,
    "start_time": "2022-03-22T16:31:15.645Z"
   },
   {
    "duration": 8,
    "start_time": "2022-03-22T16:31:15.683Z"
   },
   {
    "duration": 7,
    "start_time": "2022-03-22T16:31:15.692Z"
   },
   {
    "duration": 5,
    "start_time": "2022-03-22T16:31:15.700Z"
   },
   {
    "duration": 6,
    "start_time": "2022-03-22T16:31:15.771Z"
   },
   {
    "duration": 9,
    "start_time": "2022-03-22T16:31:15.778Z"
   },
   {
    "duration": 4,
    "start_time": "2022-03-22T16:31:15.789Z"
   },
   {
    "duration": 6,
    "start_time": "2022-03-22T16:31:15.794Z"
   },
   {
    "duration": 285,
    "start_time": "2022-03-22T16:31:15.801Z"
   },
   {
    "duration": 287,
    "start_time": "2022-03-22T16:31:16.087Z"
   },
   {
    "duration": 146,
    "start_time": "2022-03-22T16:31:16.376Z"
   },
   {
    "duration": 139,
    "start_time": "2022-03-22T16:31:16.524Z"
   },
   {
    "duration": 158,
    "start_time": "2022-03-22T16:31:16.665Z"
   },
   {
    "duration": 5,
    "start_time": "2022-03-22T16:31:16.824Z"
   },
   {
    "duration": 184,
    "start_time": "2022-03-22T16:31:16.831Z"
   },
   {
    "duration": 15,
    "start_time": "2022-03-22T16:31:17.018Z"
   },
   {
    "duration": 3,
    "start_time": "2022-03-22T16:31:17.035Z"
   },
   {
    "duration": 6,
    "start_time": "2022-03-22T16:31:17.040Z"
   },
   {
    "duration": 36,
    "start_time": "2022-03-22T16:31:17.047Z"
   },
   {
    "duration": 253,
    "start_time": "2022-03-22T16:31:17.085Z"
   },
   {
    "duration": 356,
    "start_time": "2022-03-22T16:31:17.340Z"
   },
   {
    "duration": 338,
    "start_time": "2022-03-22T16:31:17.698Z"
   },
   {
    "duration": 408,
    "start_time": "2022-03-22T16:31:18.038Z"
   },
   {
    "duration": 519,
    "start_time": "2022-03-22T16:31:18.448Z"
   },
   {
    "duration": 390,
    "start_time": "2022-03-22T16:31:18.968Z"
   },
   {
    "duration": 23,
    "start_time": "2022-03-22T16:31:19.359Z"
   },
   {
    "duration": 3,
    "start_time": "2022-03-22T16:31:19.384Z"
   },
   {
    "duration": 13,
    "start_time": "2022-03-22T16:31:19.389Z"
   },
   {
    "duration": 5,
    "start_time": "2022-03-22T16:31:19.404Z"
   },
   {
    "duration": 5,
    "start_time": "2022-03-22T16:31:19.411Z"
   },
   {
    "duration": 4,
    "start_time": "2022-03-22T16:31:19.417Z"
   },
   {
    "duration": 9,
    "start_time": "2022-03-22T16:31:19.422Z"
   },
   {
    "duration": 160,
    "start_time": "2022-03-22T16:31:19.432Z"
   },
   {
    "duration": 6,
    "start_time": "2022-03-22T16:31:19.594Z"
   },
   {
    "duration": 164,
    "start_time": "2022-03-22T16:31:19.604Z"
   },
   {
    "duration": 161,
    "start_time": "2022-03-22T16:31:19.770Z"
   },
   {
    "duration": 139,
    "start_time": "2022-03-22T16:31:19.932Z"
   },
   {
    "duration": 160,
    "start_time": "2022-03-22T16:31:20.072Z"
   },
   {
    "duration": 4,
    "start_time": "2022-03-22T16:31:20.233Z"
   },
   {
    "duration": 768,
    "start_time": "2022-03-22T16:31:20.239Z"
   },
   {
    "duration": 125,
    "start_time": "2022-03-22T16:31:21.009Z"
   },
   {
    "duration": 213,
    "start_time": "2022-03-22T16:31:21.135Z"
   },
   {
    "duration": 317,
    "start_time": "2022-03-22T16:31:21.349Z"
   },
   {
    "duration": 1193,
    "start_time": "2022-04-02T20:08:13.460Z"
   },
   {
    "duration": 126,
    "start_time": "2022-04-02T20:08:14.656Z"
   },
   {
    "duration": 21,
    "start_time": "2022-04-02T20:08:14.784Z"
   },
   {
    "duration": 21,
    "start_time": "2022-04-02T20:08:14.808Z"
   },
   {
    "duration": 190,
    "start_time": "2022-04-02T20:08:14.831Z"
   },
   {
    "duration": 8,
    "start_time": "2022-04-02T20:08:15.023Z"
   },
   {
    "duration": 336,
    "start_time": "2022-04-02T20:08:15.033Z"
   },
   {
    "duration": 12,
    "start_time": "2022-04-02T20:08:15.371Z"
   },
   {
    "duration": 36,
    "start_time": "2022-04-02T20:08:15.386Z"
   },
   {
    "duration": 28,
    "start_time": "2022-04-02T20:08:15.425Z"
   },
   {
    "duration": 174,
    "start_time": "2022-04-02T20:08:15.482Z"
   },
   {
    "duration": 7,
    "start_time": "2022-04-02T20:08:15.658Z"
   },
   {
    "duration": 22,
    "start_time": "2022-04-02T20:08:15.667Z"
   },
   {
    "duration": 10,
    "start_time": "2022-04-02T20:08:15.691Z"
   },
   {
    "duration": 7,
    "start_time": "2022-04-02T20:08:15.704Z"
   },
   {
    "duration": 216,
    "start_time": "2022-04-02T20:08:15.713Z"
   },
   {
    "duration": 6,
    "start_time": "2022-04-02T20:08:15.931Z"
   },
   {
    "duration": 7,
    "start_time": "2022-04-02T20:08:15.939Z"
   },
   {
    "duration": 6,
    "start_time": "2022-04-02T20:08:15.948Z"
   },
   {
    "duration": 5,
    "start_time": "2022-04-02T20:08:15.983Z"
   },
   {
    "duration": 9,
    "start_time": "2022-04-02T20:08:15.990Z"
   },
   {
    "duration": 14,
    "start_time": "2022-04-02T20:08:16.001Z"
   },
   {
    "duration": 6,
    "start_time": "2022-04-02T20:08:16.017Z"
   },
   {
    "duration": 9,
    "start_time": "2022-04-02T20:08:16.025Z"
   },
   {
    "duration": 49,
    "start_time": "2022-04-02T20:08:16.035Z"
   },
   {
    "duration": 6,
    "start_time": "2022-04-02T20:08:16.087Z"
   },
   {
    "duration": 176,
    "start_time": "2022-04-02T20:08:16.095Z"
   },
   {
    "duration": 7,
    "start_time": "2022-04-02T20:08:16.285Z"
   },
   {
    "duration": 6,
    "start_time": "2022-04-02T20:08:16.295Z"
   },
   {
    "duration": 6,
    "start_time": "2022-04-02T20:08:16.303Z"
   },
   {
    "duration": 4,
    "start_time": "2022-04-02T20:08:16.311Z"
   },
   {
    "duration": 7,
    "start_time": "2022-04-02T20:08:16.317Z"
   },
   {
    "duration": 57,
    "start_time": "2022-04-02T20:08:16.326Z"
   },
   {
    "duration": 5,
    "start_time": "2022-04-02T20:08:16.385Z"
   },
   {
    "duration": 48,
    "start_time": "2022-04-02T20:08:16.392Z"
   },
   {
    "duration": 7,
    "start_time": "2022-04-02T20:08:16.442Z"
   },
   {
    "duration": 36,
    "start_time": "2022-04-02T20:08:16.451Z"
   },
   {
    "duration": 5,
    "start_time": "2022-04-02T20:08:16.489Z"
   },
   {
    "duration": 12,
    "start_time": "2022-04-02T20:08:16.496Z"
   },
   {
    "duration": 10,
    "start_time": "2022-04-02T20:08:16.511Z"
   },
   {
    "duration": 61,
    "start_time": "2022-04-02T20:08:16.523Z"
   },
   {
    "duration": 3,
    "start_time": "2022-04-02T20:08:16.587Z"
   },
   {
    "duration": 14,
    "start_time": "2022-04-02T20:08:16.593Z"
   },
   {
    "duration": 14,
    "start_time": "2022-04-02T20:08:16.609Z"
   },
   {
    "duration": 6,
    "start_time": "2022-04-02T20:08:16.625Z"
   },
   {
    "duration": 10,
    "start_time": "2022-04-02T20:08:16.633Z"
   },
   {
    "duration": 9,
    "start_time": "2022-04-02T20:08:16.645Z"
   },
   {
    "duration": 36,
    "start_time": "2022-04-02T20:08:16.655Z"
   },
   {
    "duration": 6,
    "start_time": "2022-04-02T20:08:16.693Z"
   },
   {
    "duration": 450,
    "start_time": "2022-04-02T20:08:16.701Z"
   },
   {
    "duration": 441,
    "start_time": "2022-04-02T20:08:17.153Z"
   },
   {
    "duration": 228,
    "start_time": "2022-04-02T20:08:17.596Z"
   },
   {
    "duration": 272,
    "start_time": "2022-04-02T20:08:17.826Z"
   },
   {
    "duration": 263,
    "start_time": "2022-04-02T20:08:18.101Z"
   },
   {
    "duration": 20,
    "start_time": "2022-04-02T20:08:18.367Z"
   },
   {
    "duration": 300,
    "start_time": "2022-04-02T20:08:18.391Z"
   },
   {
    "duration": 24,
    "start_time": "2022-04-02T20:08:18.695Z"
   },
   {
    "duration": 662,
    "start_time": "2022-04-02T20:08:18.721Z"
   },
   {
    "duration": 5,
    "start_time": "2022-04-02T20:08:19.386Z"
   },
   {
    "duration": 18,
    "start_time": "2022-04-02T20:08:19.393Z"
   },
   {
    "duration": 413,
    "start_time": "2022-04-02T20:08:19.413Z"
   },
   {
    "duration": 525,
    "start_time": "2022-04-02T20:08:19.828Z"
   },
   {
    "duration": 433,
    "start_time": "2022-04-02T20:08:20.355Z"
   },
   {
    "duration": 651,
    "start_time": "2022-04-02T20:08:20.790Z"
   },
   {
    "duration": 973,
    "start_time": "2022-04-02T20:08:21.443Z"
   },
   {
    "duration": 547,
    "start_time": "2022-04-02T20:08:22.418Z"
   },
   {
    "duration": 30,
    "start_time": "2022-04-02T20:08:22.967Z"
   },
   {
    "duration": 3,
    "start_time": "2022-04-02T20:08:23.000Z"
   },
   {
    "duration": 19,
    "start_time": "2022-04-02T20:08:23.006Z"
   },
   {
    "duration": 8,
    "start_time": "2022-04-02T20:08:23.027Z"
   },
   {
    "duration": 8,
    "start_time": "2022-04-02T20:08:23.037Z"
   },
   {
    "duration": 6,
    "start_time": "2022-04-02T20:08:23.082Z"
   },
   {
    "duration": 9,
    "start_time": "2022-04-02T20:08:23.090Z"
   },
   {
    "duration": 214,
    "start_time": "2022-04-02T20:08:23.101Z"
   },
   {
    "duration": 7,
    "start_time": "2022-04-02T20:08:23.317Z"
   },
   {
    "duration": 256,
    "start_time": "2022-04-02T20:08:23.326Z"
   },
   {
    "duration": 297,
    "start_time": "2022-04-02T20:08:23.584Z"
   },
   {
    "duration": 233,
    "start_time": "2022-04-02T20:08:23.884Z"
   },
   {
    "duration": 252,
    "start_time": "2022-04-02T20:08:24.120Z"
   },
   {
    "duration": 11,
    "start_time": "2022-04-02T20:08:24.375Z"
   },
   {
    "duration": 395,
    "start_time": "2022-04-02T20:08:24.389Z"
   },
   {
    "duration": 208,
    "start_time": "2022-04-02T20:08:24.792Z"
   },
   {
    "duration": 472,
    "start_time": "2022-04-02T20:08:25.003Z"
   },
   {
    "duration": 446,
    "start_time": "2022-04-02T20:08:25.482Z"
   },
   {
    "duration": 1057,
    "start_time": "2022-04-02T20:23:55.233Z"
   },
   {
    "duration": 141,
    "start_time": "2022-04-02T20:23:56.293Z"
   },
   {
    "duration": 20,
    "start_time": "2022-04-02T20:23:56.436Z"
   },
   {
    "duration": 26,
    "start_time": "2022-04-02T20:23:56.458Z"
   },
   {
    "duration": 175,
    "start_time": "2022-04-02T20:23:56.487Z"
   },
   {
    "duration": 17,
    "start_time": "2022-04-02T20:23:56.665Z"
   },
   {
    "duration": 339,
    "start_time": "2022-04-02T20:23:56.685Z"
   },
   {
    "duration": 7,
    "start_time": "2022-04-02T20:23:57.026Z"
   },
   {
    "duration": 63,
    "start_time": "2022-04-02T20:23:57.036Z"
   },
   {
    "duration": 30,
    "start_time": "2022-04-02T20:23:57.103Z"
   },
   {
    "duration": 194,
    "start_time": "2022-04-02T20:23:57.135Z"
   },
   {
    "duration": 7,
    "start_time": "2022-04-02T20:23:57.331Z"
   },
   {
    "duration": 7,
    "start_time": "2022-04-02T20:23:57.340Z"
   },
   {
    "duration": 35,
    "start_time": "2022-04-02T20:23:57.349Z"
   },
   {
    "duration": 7,
    "start_time": "2022-04-02T20:23:57.386Z"
   },
   {
    "duration": 231,
    "start_time": "2022-04-02T20:23:57.395Z"
   },
   {
    "duration": 6,
    "start_time": "2022-04-02T20:23:57.628Z"
   },
   {
    "duration": 12,
    "start_time": "2022-04-02T20:23:57.637Z"
   },
   {
    "duration": 33,
    "start_time": "2022-04-02T20:23:57.651Z"
   },
   {
    "duration": 7,
    "start_time": "2022-04-02T20:23:57.686Z"
   },
   {
    "duration": 9,
    "start_time": "2022-04-02T20:23:57.695Z"
   },
   {
    "duration": 16,
    "start_time": "2022-04-02T20:23:57.706Z"
   },
   {
    "duration": 5,
    "start_time": "2022-04-02T20:23:57.724Z"
   },
   {
    "duration": 6,
    "start_time": "2022-04-02T20:23:57.731Z"
   },
   {
    "duration": 7,
    "start_time": "2022-04-02T20:23:57.782Z"
   },
   {
    "duration": 9,
    "start_time": "2022-04-02T20:23:57.791Z"
   },
   {
    "duration": 192,
    "start_time": "2022-04-02T20:23:57.803Z"
   },
   {
    "duration": 7,
    "start_time": "2022-04-02T20:23:58.001Z"
   },
   {
    "duration": 6,
    "start_time": "2022-04-02T20:23:58.010Z"
   },
   {
    "duration": 5,
    "start_time": "2022-04-02T20:23:58.018Z"
   },
   {
    "duration": 5,
    "start_time": "2022-04-02T20:23:58.025Z"
   },
   {
    "duration": 51,
    "start_time": "2022-04-02T20:23:58.032Z"
   },
   {
    "duration": 14,
    "start_time": "2022-04-02T20:23:58.085Z"
   },
   {
    "duration": 5,
    "start_time": "2022-04-02T20:23:58.102Z"
   },
   {
    "duration": 76,
    "start_time": "2022-04-02T20:23:58.109Z"
   },
   {
    "duration": 7,
    "start_time": "2022-04-02T20:23:58.187Z"
   },
   {
    "duration": 20,
    "start_time": "2022-04-02T20:23:58.196Z"
   },
   {
    "duration": 5,
    "start_time": "2022-04-02T20:23:58.218Z"
   },
   {
    "duration": 12,
    "start_time": "2022-04-02T20:23:58.225Z"
   },
   {
    "duration": 53,
    "start_time": "2022-04-02T20:23:58.239Z"
   },
   {
    "duration": 34,
    "start_time": "2022-04-02T20:23:58.295Z"
   },
   {
    "duration": 3,
    "start_time": "2022-04-02T20:23:58.331Z"
   },
   {
    "duration": 51,
    "start_time": "2022-04-02T20:23:58.336Z"
   },
   {
    "duration": 8,
    "start_time": "2022-04-02T20:23:58.389Z"
   },
   {
    "duration": 6,
    "start_time": "2022-04-02T20:23:58.399Z"
   },
   {
    "duration": 11,
    "start_time": "2022-04-02T20:23:58.408Z"
   },
   {
    "duration": 10,
    "start_time": "2022-04-02T20:23:58.421Z"
   },
   {
    "duration": 49,
    "start_time": "2022-04-02T20:23:58.433Z"
   },
   {
    "duration": 6,
    "start_time": "2022-04-02T20:23:58.484Z"
   },
   {
    "duration": 489,
    "start_time": "2022-04-02T20:23:58.493Z"
   },
   {
    "duration": 502,
    "start_time": "2022-04-02T20:23:58.984Z"
   },
   {
    "duration": 243,
    "start_time": "2022-04-02T20:23:59.488Z"
   },
   {
    "duration": 242,
    "start_time": "2022-04-02T20:23:59.734Z"
   },
   {
    "duration": 282,
    "start_time": "2022-04-02T20:23:59.981Z"
   },
   {
    "duration": 17,
    "start_time": "2022-04-02T20:24:00.266Z"
   },
   {
    "duration": 300,
    "start_time": "2022-04-02T20:24:00.285Z"
   },
   {
    "duration": 22,
    "start_time": "2022-04-02T20:24:00.587Z"
   },
   {
    "duration": 690,
    "start_time": "2022-04-02T20:24:00.612Z"
   },
   {
    "duration": 5,
    "start_time": "2022-04-02T20:24:01.305Z"
   },
   {
    "duration": 30,
    "start_time": "2022-04-02T20:24:01.312Z"
   },
   {
    "duration": 419,
    "start_time": "2022-04-02T20:24:01.344Z"
   },
   {
    "duration": 517,
    "start_time": "2022-04-02T20:24:01.765Z"
   },
   {
    "duration": 466,
    "start_time": "2022-04-02T20:24:02.284Z"
   },
   {
    "duration": 625,
    "start_time": "2022-04-02T20:24:02.752Z"
   },
   {
    "duration": 2229,
    "start_time": "2022-04-02T20:24:03.379Z"
   },
   {
    "duration": 1612,
    "start_time": "2022-04-02T20:24:05.611Z"
   },
   {
    "duration": 27,
    "start_time": "2022-04-02T20:24:07.235Z"
   },
   {
    "duration": 5,
    "start_time": "2022-04-02T20:24:07.283Z"
   },
   {
    "duration": 18,
    "start_time": "2022-04-02T20:24:07.291Z"
   },
   {
    "duration": 10,
    "start_time": "2022-04-02T20:24:07.311Z"
   },
   {
    "duration": 9,
    "start_time": "2022-04-02T20:24:07.323Z"
   },
   {
    "duration": 51,
    "start_time": "2022-04-02T20:24:07.334Z"
   },
   {
    "duration": 10,
    "start_time": "2022-04-02T20:24:07.387Z"
   },
   {
    "duration": 7,
    "start_time": "2022-04-02T20:24:07.400Z"
   },
   {
    "duration": 231,
    "start_time": "2022-04-02T20:24:07.409Z"
   },
   {
    "duration": 8,
    "start_time": "2022-04-02T20:24:07.643Z"
   },
   {
    "duration": 263,
    "start_time": "2022-04-02T20:24:07.654Z"
   },
   {
    "duration": 288,
    "start_time": "2022-04-02T20:24:07.920Z"
   },
   {
    "duration": 242,
    "start_time": "2022-04-02T20:24:08.210Z"
   },
   {
    "duration": 256,
    "start_time": "2022-04-02T20:24:08.454Z"
   },
   {
    "duration": 7,
    "start_time": "2022-04-02T20:24:08.712Z"
   },
   {
    "duration": 426,
    "start_time": "2022-04-02T20:24:08.721Z"
   },
   {
    "duration": 207,
    "start_time": "2022-04-02T20:24:09.150Z"
   },
   {
    "duration": 474,
    "start_time": "2022-04-02T20:24:09.359Z"
   },
   {
    "duration": 443,
    "start_time": "2022-04-02T20:24:09.836Z"
   },
   {
    "duration": 1189,
    "start_time": "2022-04-04T12:54:42.972Z"
   },
   {
    "duration": 129,
    "start_time": "2022-04-04T12:54:44.164Z"
   },
   {
    "duration": 4,
    "start_time": "2022-04-04T12:58:01.146Z"
   },
   {
    "duration": 33,
    "start_time": "2022-04-04T12:58:11.302Z"
   },
   {
    "duration": 107,
    "start_time": "2022-04-04T13:01:05.792Z"
   },
   {
    "duration": 9,
    "start_time": "2022-04-04T13:01:11.238Z"
   },
   {
    "duration": 212,
    "start_time": "2022-04-04T13:01:21.367Z"
   },
   {
    "duration": 196,
    "start_time": "2022-04-04T13:01:36.710Z"
   },
   {
    "duration": 216,
    "start_time": "2022-04-04T13:01:58.138Z"
   },
   {
    "duration": 198,
    "start_time": "2022-04-04T13:02:05.906Z"
   },
   {
    "duration": 192,
    "start_time": "2022-04-04T13:02:12.371Z"
   },
   {
    "duration": 281,
    "start_time": "2022-04-04T13:02:15.902Z"
   },
   {
    "duration": 335,
    "start_time": "2022-04-04T13:02:23.582Z"
   },
   {
    "duration": 230,
    "start_time": "2022-04-04T13:02:29.650Z"
   },
   {
    "duration": 237,
    "start_time": "2022-04-04T13:03:37.781Z"
   },
   {
    "duration": 8,
    "start_time": "2022-04-04T13:03:39.358Z"
   },
   {
    "duration": 205,
    "start_time": "2022-04-04T13:04:48.284Z"
   },
   {
    "duration": 222,
    "start_time": "2022-04-04T13:04:57.310Z"
   },
   {
    "duration": 333,
    "start_time": "2022-04-04T13:05:06.191Z"
   },
   {
    "duration": 323,
    "start_time": "2022-04-04T13:06:17.266Z"
   },
   {
    "duration": 7,
    "start_time": "2022-04-04T13:06:18.401Z"
   },
   {
    "duration": 29,
    "start_time": "2022-04-04T13:06:19.080Z"
   },
   {
    "duration": 28,
    "start_time": "2022-04-04T13:06:19.621Z"
   },
   {
    "duration": 169,
    "start_time": "2022-04-04T13:06:20.394Z"
   },
   {
    "duration": 6,
    "start_time": "2022-04-04T13:06:20.645Z"
   },
   {
    "duration": 8,
    "start_time": "2022-04-04T13:06:21.149Z"
   },
   {
    "duration": 9,
    "start_time": "2022-04-04T13:06:21.567Z"
   },
   {
    "duration": 7,
    "start_time": "2022-04-04T13:06:21.982Z"
   },
   {
    "duration": 232,
    "start_time": "2022-04-04T13:06:22.222Z"
   },
   {
    "duration": 7,
    "start_time": "2022-04-04T13:06:22.882Z"
   },
   {
    "duration": 5,
    "start_time": "2022-04-04T13:06:23.093Z"
   },
   {
    "duration": 5,
    "start_time": "2022-04-04T13:06:23.532Z"
   },
   {
    "duration": 6,
    "start_time": "2022-04-04T13:06:23.786Z"
   },
   {
    "duration": 7,
    "start_time": "2022-04-04T13:06:24.465Z"
   },
   {
    "duration": 13,
    "start_time": "2022-04-04T13:06:24.678Z"
   },
   {
    "duration": 6,
    "start_time": "2022-04-04T13:06:24.898Z"
   },
   {
    "duration": 6,
    "start_time": "2022-04-04T13:06:27.097Z"
   },
   {
    "duration": 11,
    "start_time": "2022-04-04T13:06:27.311Z"
   },
   {
    "duration": 9,
    "start_time": "2022-04-04T13:06:27.638Z"
   },
   {
    "duration": 228,
    "start_time": "2022-04-04T13:06:28.889Z"
   },
   {
    "duration": 23,
    "start_time": "2022-04-04T13:06:29.120Z"
   },
   {
    "duration": 7,
    "start_time": "2022-04-04T13:06:29.223Z"
   },
   {
    "duration": 7,
    "start_time": "2022-04-04T13:06:29.362Z"
   },
   {
    "duration": 5,
    "start_time": "2022-04-04T13:06:29.558Z"
   },
   {
    "duration": 7,
    "start_time": "2022-04-04T13:06:31.029Z"
   },
   {
    "duration": 14,
    "start_time": "2022-04-04T13:06:31.343Z"
   },
   {
    "duration": 5,
    "start_time": "2022-04-04T13:06:31.481Z"
   },
   {
    "duration": 62,
    "start_time": "2022-04-04T13:06:41.871Z"
   },
   {
    "duration": 88,
    "start_time": "2022-04-04T13:07:51.259Z"
   },
   {
    "duration": 91,
    "start_time": "2022-04-04T13:07:55.133Z"
   },
   {
    "duration": 4,
    "start_time": "2022-04-04T13:08:08.789Z"
   },
   {
    "duration": 89,
    "start_time": "2022-04-04T13:08:09.011Z"
   },
   {
    "duration": 110,
    "start_time": "2022-04-04T13:08:09.428Z"
   },
   {
    "duration": 32,
    "start_time": "2022-04-04T13:08:09.776Z"
   },
   {
    "duration": 22,
    "start_time": "2022-04-04T13:08:09.955Z"
   },
   {
    "duration": 6,
    "start_time": "2022-04-04T13:08:11.017Z"
   },
   {
    "duration": 146,
    "start_time": "2022-04-04T13:08:11.197Z"
   },
   {
    "duration": 225,
    "start_time": "2022-04-04T13:08:11.925Z"
   },
   {
    "duration": 9,
    "start_time": "2022-04-04T13:08:12.153Z"
   },
   {
    "duration": 314,
    "start_time": "2022-04-04T13:08:12.262Z"
   },
   {
    "duration": 7,
    "start_time": "2022-04-04T13:08:12.670Z"
   },
   {
    "duration": 31,
    "start_time": "2022-04-04T13:08:12.876Z"
   },
   {
    "duration": 29,
    "start_time": "2022-04-04T13:08:13.071Z"
   },
   {
    "duration": 172,
    "start_time": "2022-04-04T13:08:13.447Z"
   },
   {
    "duration": 7,
    "start_time": "2022-04-04T13:08:13.635Z"
   },
   {
    "duration": 6,
    "start_time": "2022-04-04T13:08:13.816Z"
   },
   {
    "duration": 8,
    "start_time": "2022-04-04T13:08:14.197Z"
   },
   {
    "duration": 7,
    "start_time": "2022-04-04T13:08:14.576Z"
   },
   {
    "duration": 152,
    "start_time": "2022-04-04T13:08:14.772Z"
   },
   {
    "duration": 9,
    "start_time": "2022-04-04T13:08:15.183Z"
   },
   {
    "duration": 7,
    "start_time": "2022-04-04T13:08:15.532Z"
   },
   {
    "duration": 7,
    "start_time": "2022-04-04T13:08:15.897Z"
   },
   {
    "duration": 5,
    "start_time": "2022-04-04T13:08:16.058Z"
   },
   {
    "duration": 8,
    "start_time": "2022-04-04T13:08:16.529Z"
   },
   {
    "duration": 16,
    "start_time": "2022-04-04T13:08:16.711Z"
   },
   {
    "duration": 6,
    "start_time": "2022-04-04T13:08:16.871Z"
   },
   {
    "duration": 5,
    "start_time": "2022-04-04T13:08:17.349Z"
   },
   {
    "duration": 8,
    "start_time": "2022-04-04T13:08:17.591Z"
   },
   {
    "duration": 7,
    "start_time": "2022-04-04T13:08:17.934Z"
   },
   {
    "duration": 164,
    "start_time": "2022-04-04T13:08:18.124Z"
   },
   {
    "duration": 8,
    "start_time": "2022-04-04T13:08:18.335Z"
   },
   {
    "duration": 7,
    "start_time": "2022-04-04T13:08:18.526Z"
   },
   {
    "duration": 6,
    "start_time": "2022-04-04T13:08:18.724Z"
   },
   {
    "duration": 5,
    "start_time": "2022-04-04T13:08:18.940Z"
   },
   {
    "duration": 7,
    "start_time": "2022-04-04T13:08:19.352Z"
   },
   {
    "duration": 15,
    "start_time": "2022-04-04T13:08:19.758Z"
   },
   {
    "duration": 4,
    "start_time": "2022-04-04T13:08:19.969Z"
   },
   {
    "duration": 41,
    "start_time": "2022-04-04T13:08:20.836Z"
   },
   {
    "duration": 7,
    "start_time": "2022-04-04T13:08:21.040Z"
   },
   {
    "duration": 20,
    "start_time": "2022-04-04T13:08:21.394Z"
   },
   {
    "duration": 41,
    "start_time": "2022-04-04T13:09:07.868Z"
   },
   {
    "duration": 24,
    "start_time": "2022-04-04T13:09:24.155Z"
   },
   {
    "duration": 40,
    "start_time": "2022-04-04T13:11:31.096Z"
   },
   {
    "duration": 8,
    "start_time": "2022-04-04T13:11:31.409Z"
   },
   {
    "duration": 32,
    "start_time": "2022-04-04T13:11:36.886Z"
   },
   {
    "duration": 20,
    "start_time": "2022-04-04T13:12:17.323Z"
   },
   {
    "duration": 5,
    "start_time": "2022-04-04T13:12:18.605Z"
   },
   {
    "duration": 11,
    "start_time": "2022-04-04T13:12:19.270Z"
   },
   {
    "duration": 11,
    "start_time": "2022-04-04T13:12:19.480Z"
   },
   {
    "duration": 24,
    "start_time": "2022-04-04T13:12:19.914Z"
   },
   {
    "duration": 3,
    "start_time": "2022-04-04T13:12:20.309Z"
   },
   {
    "duration": 10,
    "start_time": "2022-04-04T13:12:20.501Z"
   },
   {
    "duration": 6,
    "start_time": "2022-04-04T13:12:20.678Z"
   },
   {
    "duration": 5,
    "start_time": "2022-04-04T13:12:20.837Z"
   },
   {
    "duration": 9,
    "start_time": "2022-04-04T13:12:21.029Z"
   },
   {
    "duration": 7,
    "start_time": "2022-04-04T13:12:21.222Z"
   },
   {
    "duration": 6,
    "start_time": "2022-04-04T13:12:21.532Z"
   },
   {
    "duration": 3,
    "start_time": "2022-04-04T13:13:33.778Z"
   },
   {
    "duration": 10,
    "start_time": "2022-04-04T13:13:34.979Z"
   },
   {
    "duration": 9,
    "start_time": "2022-04-04T13:13:35.310Z"
   },
   {
    "duration": 6,
    "start_time": "2022-04-04T13:13:35.632Z"
   },
   {
    "duration": 8,
    "start_time": "2022-04-04T13:13:35.984Z"
   },
   {
    "duration": 7,
    "start_time": "2022-04-04T13:13:41.058Z"
   },
   {
    "duration": 5,
    "start_time": "2022-04-04T13:13:41.634Z"
   },
   {
    "duration": 5,
    "start_time": "2022-04-04T13:13:41.922Z"
   },
   {
    "duration": 457,
    "start_time": "2022-04-04T13:13:54.442Z"
   },
   {
    "duration": 543,
    "start_time": "2022-04-04T13:15:10.287Z"
   },
   {
    "duration": 230,
    "start_time": "2022-04-04T13:15:11.009Z"
   },
   {
    "duration": 225,
    "start_time": "2022-04-04T13:15:11.313Z"
   },
   {
    "duration": 256,
    "start_time": "2022-04-04T13:15:11.872Z"
   },
   {
    "duration": 6,
    "start_time": "2022-04-04T13:15:32.482Z"
   },
   {
    "duration": 272,
    "start_time": "2022-04-04T13:15:41.609Z"
   },
   {
    "duration": 25,
    "start_time": "2022-04-04T13:15:52.082Z"
   },
   {
    "duration": 9,
    "start_time": "2022-04-04T13:18:17.653Z"
   },
   {
    "duration": 8,
    "start_time": "2022-04-04T13:18:35.553Z"
   },
   {
    "duration": 7,
    "start_time": "2022-04-04T13:18:39.109Z"
   },
   {
    "duration": 245,
    "start_time": "2022-04-04T13:19:03.192Z"
   },
   {
    "duration": 7,
    "start_time": "2022-04-04T13:20:21.220Z"
   },
   {
    "duration": 7,
    "start_time": "2022-04-04T13:21:32.870Z"
   },
   {
    "duration": 10,
    "start_time": "2022-04-04T13:22:03.949Z"
   },
   {
    "duration": 616,
    "start_time": "2022-04-04T13:22:23.686Z"
   },
   {
    "duration": 6,
    "start_time": "2022-04-04T13:22:41.892Z"
   },
   {
    "duration": 20,
    "start_time": "2022-04-04T13:22:42.127Z"
   },
   {
    "duration": 818,
    "start_time": "2022-04-04T13:23:11.779Z"
   },
   {
    "duration": 510,
    "start_time": "2022-04-04T13:23:12.601Z"
   },
   {
    "duration": 98,
    "start_time": "2022-04-04T13:26:42.565Z"
   },
   {
    "duration": 20,
    "start_time": "2022-04-04T13:27:07.450Z"
   },
   {
    "duration": 460,
    "start_time": "2022-04-04T13:27:31.032Z"
   },
   {
    "duration": 267,
    "start_time": "2022-04-04T13:27:40.503Z"
   },
   {
    "duration": 419,
    "start_time": "2022-04-04T13:27:45.480Z"
   },
   {
    "duration": 378,
    "start_time": "2022-04-04T13:29:14.056Z"
   },
   {
    "duration": 384,
    "start_time": "2022-04-04T13:29:32.285Z"
   },
   {
    "duration": 337,
    "start_time": "2022-04-04T13:29:46.638Z"
   },
   {
    "duration": 325,
    "start_time": "2022-04-04T13:29:50.796Z"
   },
   {
    "duration": 317,
    "start_time": "2022-04-04T13:29:57.051Z"
   },
   {
    "duration": 344,
    "start_time": "2022-04-04T13:30:01.902Z"
   },
   {
    "duration": 478,
    "start_time": "2022-04-04T13:30:06.473Z"
   },
   {
    "duration": 334,
    "start_time": "2022-04-04T13:30:15.113Z"
   },
   {
    "duration": 320,
    "start_time": "2022-04-04T13:30:20.894Z"
   },
   {
    "duration": 209,
    "start_time": "2022-04-04T13:30:28.959Z"
   },
   {
    "duration": 432,
    "start_time": "2022-04-04T13:30:35.238Z"
   },
   {
    "duration": 357,
    "start_time": "2022-04-04T13:31:04.134Z"
   },
   {
    "duration": 371,
    "start_time": "2022-04-04T13:31:37.711Z"
   },
   {
    "duration": 8,
    "start_time": "2022-04-04T13:32:36.733Z"
   },
   {
    "duration": 8,
    "start_time": "2022-04-04T13:35:10.018Z"
   },
   {
    "duration": 434,
    "start_time": "2022-04-04T13:35:11.214Z"
   },
   {
    "duration": 595,
    "start_time": "2022-04-04T13:35:21.098Z"
   },
   {
    "duration": 777,
    "start_time": "2022-04-04T13:35:24.134Z"
   },
   {
    "duration": 538,
    "start_time": "2022-04-04T13:35:37.031Z"
   },
   {
    "duration": 22,
    "start_time": "2022-04-04T13:37:59.907Z"
   },
   {
    "duration": 10,
    "start_time": "2022-04-04T13:38:00.119Z"
   },
   {
    "duration": 19,
    "start_time": "2022-04-04T13:38:00.300Z"
   },
   {
    "duration": 329,
    "start_time": "2022-04-04T13:40:01.836Z"
   },
   {
    "duration": 377,
    "start_time": "2022-04-04T13:40:40.369Z"
   },
   {
    "duration": 30,
    "start_time": "2022-04-04T13:42:04.465Z"
   },
   {
    "duration": 51,
    "start_time": "2022-04-04T13:43:03.326Z"
   },
   {
    "duration": 0,
    "start_time": "2022-04-04T13:45:48.695Z"
   },
   {
    "duration": 11009,
    "start_time": "2022-04-04T13:46:04.475Z"
   },
   {
    "duration": 9,
    "start_time": "2022-04-04T13:46:51.291Z"
   },
   {
    "duration": 353,
    "start_time": "2022-04-04T13:46:51.961Z"
   },
   {
    "duration": 347,
    "start_time": "2022-04-04T13:47:36.178Z"
   },
   {
    "duration": 371,
    "start_time": "2022-04-04T13:50:05.139Z"
   },
   {
    "duration": 344,
    "start_time": "2022-04-04T13:50:38.396Z"
   },
   {
    "duration": 413,
    "start_time": "2022-04-04T13:51:33.498Z"
   },
   {
    "duration": 344,
    "start_time": "2022-04-04T13:51:40.784Z"
   },
   {
    "duration": 523,
    "start_time": "2022-04-04T13:51:44.768Z"
   },
   {
    "duration": 711,
    "start_time": "2022-04-04T13:51:54.773Z"
   },
   {
    "duration": 682,
    "start_time": "2022-04-04T13:52:06.875Z"
   },
   {
    "duration": 820,
    "start_time": "2022-04-04T13:52:21.438Z"
   },
   {
    "duration": 784,
    "start_time": "2022-04-04T13:52:43.782Z"
   },
   {
    "duration": 647,
    "start_time": "2022-04-04T13:52:56.062Z"
   },
   {
    "duration": 796,
    "start_time": "2022-04-04T13:53:03.547Z"
   },
   {
    "duration": 625,
    "start_time": "2022-04-04T13:53:15.406Z"
   },
   {
    "duration": 503,
    "start_time": "2022-04-04T13:53:23.718Z"
   },
   {
    "duration": 9,
    "start_time": "2022-04-04T13:53:47.368Z"
   },
   {
    "duration": 476,
    "start_time": "2022-04-04T13:53:47.551Z"
   },
   {
    "duration": 9,
    "start_time": "2022-04-04T13:55:24.243Z"
   },
   {
    "duration": 8,
    "start_time": "2022-04-04T13:55:24.368Z"
   },
   {
    "duration": 27,
    "start_time": "2022-04-04T13:56:38.938Z"
   },
   {
    "duration": 21,
    "start_time": "2022-04-04T13:57:11.815Z"
   },
   {
    "duration": 10,
    "start_time": "2022-04-04T13:57:15.249Z"
   },
   {
    "duration": 5,
    "start_time": "2022-04-04T13:57:23.799Z"
   },
   {
    "duration": 7,
    "start_time": "2022-04-04T13:57:48.140Z"
   },
   {
    "duration": 6,
    "start_time": "2022-04-04T13:58:33.195Z"
   },
   {
    "duration": 7,
    "start_time": "2022-04-04T13:58:51.268Z"
   },
   {
    "duration": 6,
    "start_time": "2022-04-04T13:58:51.540Z"
   },
   {
    "duration": 268,
    "start_time": "2022-04-04T13:58:51.807Z"
   },
   {
    "duration": 9,
    "start_time": "2022-04-04T13:59:04.646Z"
   },
   {
    "duration": 418,
    "start_time": "2022-04-04T13:59:04.846Z"
   },
   {
    "duration": 449,
    "start_time": "2022-04-04T13:59:05.268Z"
   },
   {
    "duration": 371,
    "start_time": "2022-04-04T13:59:05.720Z"
   },
   {
    "duration": 397,
    "start_time": "2022-04-04T13:59:06.095Z"
   },
   {
    "duration": 8,
    "start_time": "2022-04-04T13:59:14.270Z"
   },
   {
    "duration": 481,
    "start_time": "2022-04-04T13:59:14.842Z"
   },
   {
    "duration": 194,
    "start_time": "2022-04-04T13:59:17.762Z"
   },
   {
    "duration": 375,
    "start_time": "2022-04-04T13:59:19.587Z"
   },
   {
    "duration": 336,
    "start_time": "2022-04-04T13:59:50.457Z"
   },
   {
    "duration": 462,
    "start_time": "2022-04-04T13:59:50.796Z"
   },
   {
    "duration": 8,
    "start_time": "2022-04-04T14:03:04.166Z"
   },
   {
    "duration": 54,
    "start_time": "2022-04-04T14:03:17.052Z"
   },
   {
    "duration": 7,
    "start_time": "2022-04-04T14:03:56.519Z"
   },
   {
    "duration": 1578,
    "start_time": "2022-04-04T14:07:45.359Z"
   },
   {
    "duration": 100,
    "start_time": "2022-04-04T14:07:46.943Z"
   },
   {
    "duration": 129,
    "start_time": "2022-04-04T14:07:47.045Z"
   },
   {
    "duration": 31,
    "start_time": "2022-04-04T14:07:47.176Z"
   },
   {
    "duration": 38,
    "start_time": "2022-04-04T14:07:47.209Z"
   },
   {
    "duration": 6,
    "start_time": "2022-04-04T14:07:47.250Z"
   },
   {
    "duration": 185,
    "start_time": "2022-04-04T14:07:47.258Z"
   },
   {
    "duration": 238,
    "start_time": "2022-04-04T14:07:47.445Z"
   },
   {
    "duration": 9,
    "start_time": "2022-04-04T14:07:47.685Z"
   },
   {
    "duration": 350,
    "start_time": "2022-04-04T14:07:47.700Z"
   },
   {
    "duration": 8,
    "start_time": "2022-04-04T14:07:48.053Z"
   },
   {
    "duration": 47,
    "start_time": "2022-04-04T14:07:48.063Z"
   },
   {
    "duration": 52,
    "start_time": "2022-04-04T14:07:48.113Z"
   },
   {
    "duration": 186,
    "start_time": "2022-04-04T14:07:48.168Z"
   },
   {
    "duration": 7,
    "start_time": "2022-04-04T14:07:48.356Z"
   },
   {
    "duration": 7,
    "start_time": "2022-04-04T14:07:48.365Z"
   },
   {
    "duration": 11,
    "start_time": "2022-04-04T14:07:48.374Z"
   },
   {
    "duration": 11,
    "start_time": "2022-04-04T14:07:48.386Z"
   },
   {
    "duration": 178,
    "start_time": "2022-04-04T14:07:48.399Z"
   },
   {
    "duration": 6,
    "start_time": "2022-04-04T14:07:48.579Z"
   },
   {
    "duration": 6,
    "start_time": "2022-04-04T14:07:48.587Z"
   },
   {
    "duration": 7,
    "start_time": "2022-04-04T14:07:48.595Z"
   },
   {
    "duration": 39,
    "start_time": "2022-04-04T14:07:48.604Z"
   },
   {
    "duration": 13,
    "start_time": "2022-04-04T14:07:48.645Z"
   },
   {
    "duration": 16,
    "start_time": "2022-04-04T14:07:48.660Z"
   },
   {
    "duration": 6,
    "start_time": "2022-04-04T14:07:48.678Z"
   },
   {
    "duration": 12,
    "start_time": "2022-04-04T14:07:48.687Z"
   },
   {
    "duration": 37,
    "start_time": "2022-04-04T14:07:48.706Z"
   },
   {
    "duration": 7,
    "start_time": "2022-04-04T14:07:48.745Z"
   },
   {
    "duration": 171,
    "start_time": "2022-04-04T14:07:48.754Z"
   },
   {
    "duration": 17,
    "start_time": "2022-04-04T14:07:48.927Z"
   },
   {
    "duration": 5,
    "start_time": "2022-04-04T14:07:48.946Z"
   },
   {
    "duration": 8,
    "start_time": "2022-04-04T14:07:48.953Z"
   },
   {
    "duration": 6,
    "start_time": "2022-04-04T14:07:48.963Z"
   },
   {
    "duration": 8,
    "start_time": "2022-04-04T14:07:48.971Z"
   },
   {
    "duration": 16,
    "start_time": "2022-04-04T14:07:48.982Z"
   },
   {
    "duration": 5,
    "start_time": "2022-04-04T14:07:49.001Z"
   },
   {
    "duration": 44,
    "start_time": "2022-04-04T14:07:49.044Z"
   },
   {
    "duration": 10,
    "start_time": "2022-04-04T14:07:49.090Z"
   },
   {
    "duration": 41,
    "start_time": "2022-04-04T14:07:49.102Z"
   },
   {
    "duration": 6,
    "start_time": "2022-04-04T14:07:49.145Z"
   },
   {
    "duration": 14,
    "start_time": "2022-04-04T14:07:49.153Z"
   },
   {
    "duration": 10,
    "start_time": "2022-04-04T14:07:49.169Z"
   },
   {
    "duration": 23,
    "start_time": "2022-04-04T14:07:49.181Z"
   },
   {
    "duration": 37,
    "start_time": "2022-04-04T14:07:49.206Z"
   },
   {
    "duration": 16,
    "start_time": "2022-04-04T14:07:49.245Z"
   },
   {
    "duration": 8,
    "start_time": "2022-04-04T14:07:49.264Z"
   },
   {
    "duration": 11,
    "start_time": "2022-04-04T14:07:49.274Z"
   },
   {
    "duration": 9,
    "start_time": "2022-04-04T14:07:49.287Z"
   },
   {
    "duration": 10,
    "start_time": "2022-04-04T14:07:49.298Z"
   },
   {
    "duration": 6,
    "start_time": "2022-04-04T14:07:49.309Z"
   },
   {
    "duration": 27,
    "start_time": "2022-04-04T14:07:49.318Z"
   },
   {
    "duration": 533,
    "start_time": "2022-04-04T14:07:49.347Z"
   },
   {
    "duration": 454,
    "start_time": "2022-04-04T14:07:49.883Z"
   },
   {
    "duration": 241,
    "start_time": "2022-04-04T14:07:50.342Z"
   },
   {
    "duration": 244,
    "start_time": "2022-04-04T14:07:50.585Z"
   },
   {
    "duration": 263,
    "start_time": "2022-04-04T14:07:50.832Z"
   },
   {
    "duration": 7,
    "start_time": "2022-04-04T14:07:51.097Z"
   },
   {
    "duration": 310,
    "start_time": "2022-04-04T14:07:51.107Z"
   },
   {
    "duration": 31,
    "start_time": "2022-04-04T14:07:51.420Z"
   },
   {
    "duration": 8,
    "start_time": "2022-04-04T14:07:51.453Z"
   },
   {
    "duration": 13,
    "start_time": "2022-04-04T14:07:51.463Z"
   },
   {
    "duration": 6,
    "start_time": "2022-04-04T14:07:51.478Z"
   },
   {
    "duration": 23,
    "start_time": "2022-04-04T14:07:51.487Z"
   },
   {
    "duration": 406,
    "start_time": "2022-04-04T14:07:51.512Z"
   },
   {
    "duration": 455,
    "start_time": "2022-04-04T14:07:51.920Z"
   },
   {
    "duration": 279,
    "start_time": "2022-04-04T14:07:52.377Z"
   },
   {
    "duration": 433,
    "start_time": "2022-04-04T14:07:52.658Z"
   },
   {
    "duration": 7,
    "start_time": "2022-04-04T14:07:53.093Z"
   },
   {
    "duration": 438,
    "start_time": "2022-04-04T14:07:53.102Z"
   },
   {
    "duration": 585,
    "start_time": "2022-04-04T14:07:53.543Z"
   },
   {
    "duration": 806,
    "start_time": "2022-04-04T14:07:54.130Z"
   },
   {
    "duration": 546,
    "start_time": "2022-04-04T14:07:54.938Z"
   },
   {
    "duration": 18,
    "start_time": "2022-04-04T14:07:55.486Z"
   },
   {
    "duration": 5,
    "start_time": "2022-04-04T14:07:55.506Z"
   },
   {
    "duration": 41,
    "start_time": "2022-04-04T14:07:55.513Z"
   },
   {
    "duration": 9,
    "start_time": "2022-04-04T14:07:55.556Z"
   },
   {
    "duration": 583,
    "start_time": "2022-04-04T14:07:55.568Z"
   },
   {
    "duration": 10,
    "start_time": "2022-04-04T14:07:56.154Z"
   },
   {
    "duration": 14,
    "start_time": "2022-04-04T14:07:56.166Z"
   },
   {
    "duration": 9,
    "start_time": "2022-04-04T14:07:56.183Z"
   },
   {
    "duration": 44,
    "start_time": "2022-04-04T14:07:56.205Z"
   },
   {
    "duration": 12,
    "start_time": "2022-04-04T14:07:56.253Z"
   },
   {
    "duration": 284,
    "start_time": "2022-04-04T14:07:56.267Z"
   },
   {
    "duration": 9,
    "start_time": "2022-04-04T14:07:56.553Z"
   },
   {
    "duration": 303,
    "start_time": "2022-04-04T14:07:56.566Z"
   },
   {
    "duration": 320,
    "start_time": "2022-04-04T14:07:56.873Z"
   },
   {
    "duration": 254,
    "start_time": "2022-04-04T14:07:57.197Z"
   },
   {
    "duration": 397,
    "start_time": "2022-04-04T14:07:57.453Z"
   },
   {
    "duration": 6,
    "start_time": "2022-04-04T14:07:57.855Z"
   },
   {
    "duration": 523,
    "start_time": "2022-04-04T14:07:57.863Z"
   },
   {
    "duration": 474,
    "start_time": "2022-04-04T14:07:58.388Z"
   },
   {
    "duration": 822,
    "start_time": "2022-04-04T14:07:58.864Z"
   },
   {
    "duration": 907,
    "start_time": "2022-04-04T14:07:59.743Z"
   },
   {
    "duration": 11,
    "start_time": "2022-04-04T14:08:00.653Z"
   },
   {
    "duration": 32,
    "start_time": "2022-04-04T14:08:00.668Z"
   },
   {
    "duration": 71,
    "start_time": "2022-04-04T14:53:50.081Z"
   },
   {
    "duration": 2207,
    "start_time": "2022-04-04T14:53:58.631Z"
   },
   {
    "duration": 144,
    "start_time": "2022-04-04T14:54:00.843Z"
   },
   {
    "duration": 210,
    "start_time": "2022-04-04T14:54:00.990Z"
   },
   {
    "duration": 38,
    "start_time": "2022-04-04T14:54:01.204Z"
   },
   {
    "duration": 62,
    "start_time": "2022-04-04T14:54:01.245Z"
   },
   {
    "duration": 7,
    "start_time": "2022-04-04T14:54:01.311Z"
   },
   {
    "duration": 284,
    "start_time": "2022-04-04T14:54:01.321Z"
   },
   {
    "duration": 381,
    "start_time": "2022-04-04T14:54:01.609Z"
   },
   {
    "duration": 11,
    "start_time": "2022-04-04T14:54:01.993Z"
   },
   {
    "duration": 400,
    "start_time": "2022-04-04T14:54:02.008Z"
   },
   {
    "duration": 10,
    "start_time": "2022-04-04T14:54:02.411Z"
   },
   {
    "duration": 62,
    "start_time": "2022-04-04T14:54:02.423Z"
   },
   {
    "duration": 59,
    "start_time": "2022-04-04T14:54:02.488Z"
   },
   {
    "duration": 305,
    "start_time": "2022-04-04T14:54:02.550Z"
   },
   {
    "duration": 9,
    "start_time": "2022-04-04T14:54:02.866Z"
   },
   {
    "duration": 28,
    "start_time": "2022-04-04T14:54:02.878Z"
   },
   {
    "duration": 21,
    "start_time": "2022-04-04T14:54:02.908Z"
   },
   {
    "duration": 52,
    "start_time": "2022-04-04T14:54:02.932Z"
   },
   {
    "duration": 301,
    "start_time": "2022-04-04T14:54:02.987Z"
   },
   {
    "duration": 8,
    "start_time": "2022-04-04T14:54:03.292Z"
   },
   {
    "duration": 18,
    "start_time": "2022-04-04T14:54:03.303Z"
   },
   {
    "duration": 43,
    "start_time": "2022-04-04T14:54:03.324Z"
   },
   {
    "duration": 6,
    "start_time": "2022-04-04T14:54:03.370Z"
   },
   {
    "duration": 30,
    "start_time": "2022-04-04T14:54:03.378Z"
   },
   {
    "duration": 43,
    "start_time": "2022-04-04T14:54:03.412Z"
   },
   {
    "duration": 6,
    "start_time": "2022-04-04T14:54:03.459Z"
   },
   {
    "duration": 37,
    "start_time": "2022-04-04T14:54:03.469Z"
   },
   {
    "duration": 32,
    "start_time": "2022-04-04T14:54:03.517Z"
   },
   {
    "duration": 31,
    "start_time": "2022-04-04T14:54:03.552Z"
   },
   {
    "duration": 281,
    "start_time": "2022-04-04T14:54:03.586Z"
   },
   {
    "duration": 10,
    "start_time": "2022-04-04T14:54:03.870Z"
   },
   {
    "duration": 21,
    "start_time": "2022-04-04T14:54:03.882Z"
   },
   {
    "duration": 8,
    "start_time": "2022-04-04T14:54:03.906Z"
   },
   {
    "duration": 22,
    "start_time": "2022-04-04T14:54:03.917Z"
   },
   {
    "duration": 34,
    "start_time": "2022-04-04T14:54:03.941Z"
   },
   {
    "duration": 22,
    "start_time": "2022-04-04T14:54:03.978Z"
   },
   {
    "duration": 16,
    "start_time": "2022-04-04T14:54:04.002Z"
   },
   {
    "duration": 60,
    "start_time": "2022-04-04T14:54:04.021Z"
   },
   {
    "duration": 16,
    "start_time": "2022-04-04T14:54:04.083Z"
   },
   {
    "duration": 43,
    "start_time": "2022-04-04T14:54:04.103Z"
   },
   {
    "duration": 6,
    "start_time": "2022-04-04T14:54:04.149Z"
   },
   {
    "duration": 13,
    "start_time": "2022-04-04T14:54:04.169Z"
   },
   {
    "duration": 16,
    "start_time": "2022-04-04T14:54:04.185Z"
   },
   {
    "duration": 72,
    "start_time": "2022-04-04T14:54:04.204Z"
   },
   {
    "duration": 9,
    "start_time": "2022-04-04T14:54:04.279Z"
   },
   {
    "duration": 39,
    "start_time": "2022-04-04T14:54:04.290Z"
   },
   {
    "duration": 12,
    "start_time": "2022-04-04T14:54:04.332Z"
   },
   {
    "duration": 31,
    "start_time": "2022-04-04T14:54:04.348Z"
   },
   {
    "duration": 17,
    "start_time": "2022-04-04T14:54:04.381Z"
   },
   {
    "duration": 20,
    "start_time": "2022-04-04T14:54:04.402Z"
   },
   {
    "duration": 6,
    "start_time": "2022-04-04T14:54:04.425Z"
   },
   {
    "duration": 24,
    "start_time": "2022-04-04T14:54:04.433Z"
   },
   {
    "duration": 1037,
    "start_time": "2022-04-04T14:54:04.460Z"
   },
   {
    "duration": 985,
    "start_time": "2022-04-04T14:54:05.500Z"
   },
   {
    "duration": 814,
    "start_time": "2022-04-04T14:54:06.487Z"
   },
   {
    "duration": 680,
    "start_time": "2022-04-04T14:54:07.305Z"
   },
   {
    "duration": 890,
    "start_time": "2022-04-04T14:54:07.988Z"
   },
   {
    "duration": 8,
    "start_time": "2022-04-04T14:54:08.881Z"
   },
   {
    "duration": 919,
    "start_time": "2022-04-04T14:54:08.892Z"
   },
   {
    "duration": 30,
    "start_time": "2022-04-04T14:54:09.867Z"
   },
   {
    "duration": 72,
    "start_time": "2022-04-04T14:54:09.900Z"
   },
   {
    "duration": 19,
    "start_time": "2022-04-04T14:54:09.975Z"
   },
   {
    "duration": 28,
    "start_time": "2022-04-04T14:54:09.997Z"
   },
   {
    "duration": 49,
    "start_time": "2022-04-04T14:54:10.027Z"
   },
   {
    "duration": 807,
    "start_time": "2022-04-04T14:54:10.079Z"
   },
   {
    "duration": 880,
    "start_time": "2022-04-04T14:54:10.888Z"
   },
   {
    "duration": 458,
    "start_time": "2022-04-04T14:54:11.771Z"
   },
   {
    "duration": 455,
    "start_time": "2022-04-04T14:54:12.232Z"
   },
   {
    "duration": 8,
    "start_time": "2022-04-04T14:54:12.689Z"
   },
   {
    "duration": 467,
    "start_time": "2022-04-04T14:54:12.700Z"
   },
   {
    "duration": 621,
    "start_time": "2022-04-04T14:54:13.170Z"
   },
   {
    "duration": 876,
    "start_time": "2022-04-04T14:54:13.794Z"
   },
   {
    "duration": 574,
    "start_time": "2022-04-04T14:54:14.672Z"
   },
   {
    "duration": 627,
    "start_time": "2022-04-04T14:54:15.249Z"
   },
   {
    "duration": 27,
    "start_time": "2022-04-04T14:54:15.880Z"
   },
   {
    "duration": 4,
    "start_time": "2022-04-04T14:54:15.910Z"
   },
   {
    "duration": 50,
    "start_time": "2022-04-04T14:54:15.916Z"
   },
   {
    "duration": 12,
    "start_time": "2022-04-04T14:54:15.970Z"
   },
   {
    "duration": 826,
    "start_time": "2022-04-04T14:54:15.985Z"
   },
   {
    "duration": 12,
    "start_time": "2022-04-04T14:54:16.814Z"
   },
   {
    "duration": 11,
    "start_time": "2022-04-04T14:54:16.829Z"
   },
   {
    "duration": 11,
    "start_time": "2022-04-04T14:54:16.876Z"
   },
   {
    "duration": 9,
    "start_time": "2022-04-04T14:54:16.890Z"
   },
   {
    "duration": 6,
    "start_time": "2022-04-04T14:54:16.903Z"
   },
   {
    "duration": 276,
    "start_time": "2022-04-04T14:54:16.912Z"
   },
   {
    "duration": 9,
    "start_time": "2022-04-04T14:54:17.194Z"
   },
   {
    "duration": 422,
    "start_time": "2022-04-04T14:54:17.206Z"
   },
   {
    "duration": 308,
    "start_time": "2022-04-04T14:54:17.631Z"
   },
   {
    "duration": 360,
    "start_time": "2022-04-04T14:54:17.942Z"
   },
   {
    "duration": 269,
    "start_time": "2022-04-04T14:54:18.305Z"
   },
   {
    "duration": 8,
    "start_time": "2022-04-04T14:54:18.577Z"
   },
   {
    "duration": 715,
    "start_time": "2022-04-04T14:54:18.588Z"
   },
   {
    "duration": 229,
    "start_time": "2022-04-04T14:54:19.307Z"
   },
   {
    "duration": 381,
    "start_time": "2022-04-04T14:54:19.539Z"
   },
   {
    "duration": 691,
    "start_time": "2022-04-04T14:54:19.923Z"
   },
   {
    "duration": 9,
    "start_time": "2022-04-04T14:54:20.617Z"
   },
   {
    "duration": 8,
    "start_time": "2022-04-04T14:54:20.629Z"
   }
  ],
  "kernelspec": {
   "display_name": "Python 3",
   "language": "python",
   "name": "python3"
  },
  "language_info": {
   "codemirror_mode": {
    "name": "ipython",
    "version": 3
   },
   "file_extension": ".py",
   "mimetype": "text/x-python",
   "name": "python",
   "nbconvert_exporter": "python",
   "pygments_lexer": "ipython3",
   "version": "3.8.8"
  },
  "toc": {
   "base_numbering": 1,
   "nav_menu": {},
   "number_sections": true,
   "sideBar": true,
   "skip_h1_title": true,
   "title_cell": "Содержание",
   "title_sidebar": "Contents",
   "toc_cell": true,
   "toc_position": {
    "height": "calc(100% - 180px)",
    "left": "10px",
    "top": "150px",
    "width": "165px"
   },
   "toc_section_display": true,
   "toc_window_display": true
  }
 },
 "nbformat": 4,
 "nbformat_minor": 4
}
